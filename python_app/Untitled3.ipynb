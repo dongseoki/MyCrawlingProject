{
 "cells": [
  {
   "cell_type": "code",
   "execution_count": 20,
   "metadata": {
    "ExecuteTime": {
     "end_time": "2020-05-23T02:34:12.625527Z",
     "start_time": "2020-05-23T02:34:12.619542Z"
    }
   },
   "outputs": [],
   "source": [
    "ratioList = [0, 4, 1, 3, 1, 1, 1]"
   ]
  },
  {
   "cell_type": "code",
   "execution_count": 21,
   "metadata": {
    "ExecuteTime": {
     "end_time": "2020-05-23T02:34:19.391432Z",
     "start_time": "2020-05-23T02:34:19.385449Z"
    }
   },
   "outputs": [
    {
     "data": {
      "text/plain": [
       "11"
      ]
     },
     "execution_count": 21,
     "metadata": {},
     "output_type": "execute_result"
    }
   ],
   "source": [
    "sum(ratioList)"
   ]
  },
  {
   "cell_type": "code",
   "execution_count": 34,
   "metadata": {
    "ExecuteTime": {
     "end_time": "2020-05-23T02:42:36.278401Z",
     "start_time": "2020-05-23T02:42:36.273425Z"
    }
   },
   "outputs": [],
   "source": [
    "total_sp = 121"
   ]
  },
  {
   "cell_type": "code",
   "execution_count": 35,
   "metadata": {
    "ExecuteTime": {
     "end_time": "2020-05-23T02:42:36.689305Z",
     "start_time": "2020-05-23T02:42:36.685313Z"
    }
   },
   "outputs": [],
   "source": [
    "minimum_sp = int(total_sp / sum(ratioList))"
   ]
  },
  {
   "cell_type": "code",
   "execution_count": 36,
   "metadata": {
    "ExecuteTime": {
     "end_time": "2020-05-23T02:42:37.375471Z",
     "start_time": "2020-05-23T02:42:37.369484Z"
    }
   },
   "outputs": [
    {
     "data": {
      "text/plain": [
       "11"
      ]
     },
     "execution_count": 36,
     "metadata": {},
     "output_type": "execute_result"
    }
   ],
   "source": [
    "minimum_sp"
   ]
  },
  {
   "cell_type": "code",
   "execution_count": 32,
   "metadata": {
    "ExecuteTime": {
     "end_time": "2020-05-23T02:37:59.317753Z",
     "start_time": "2020-05-23T02:37:59.312765Z"
    }
   },
   "outputs": [],
   "source": [
    "answer = []\n",
    "for idx in range (1,len(skills) +2):\n",
    "    answer.append(minimum_sp * ratioList[idx])"
   ]
  },
  {
   "cell_type": "code",
   "execution_count": 33,
   "metadata": {
    "ExecuteTime": {
     "end_time": "2020-05-23T02:38:03.413799Z",
     "start_time": "2020-05-23T02:38:03.404822Z"
    }
   },
   "outputs": [
    {
     "data": {
      "text/plain": [
       "[44, 11, 33, 11, 11, 11]"
      ]
     },
     "execution_count": 33,
     "metadata": {},
     "output_type": "execute_result"
    }
   ],
   "source": [
    "answer"
   ]
  },
  {
   "cell_type": "code",
   "execution_count": null,
   "metadata": {},
   "outputs": [],
   "source": [
    "def adjList "
   ]
  },
  {
   "cell_type": "code",
   "execution_count": 1,
   "metadata": {
    "ExecuteTime": {
     "end_time": "2020-05-23T02:15:37.507558Z",
     "start_time": "2020-05-23T02:15:37.502571Z"
    }
   },
   "outputs": [],
   "source": [
    "adjList = [[], [2, 3], [], [6, 4, 5], [], [], []]"
   ]
  },
  {
   "cell_type": "code",
   "execution_count": 2,
   "metadata": {
    "ExecuteTime": {
     "end_time": "2020-05-23T02:15:47.298374Z",
     "start_time": "2020-05-23T02:15:47.293390Z"
    }
   },
   "outputs": [],
   "source": [
    "topRootNum = 1"
   ]
  },
  {
   "cell_type": "code",
   "execution_count": 4,
   "metadata": {
    "ExecuteTime": {
     "end_time": "2020-05-23T02:16:16.314803Z",
     "start_time": "2020-05-23T02:16:16.308811Z"
    }
   },
   "outputs": [],
   "source": [
    "skills = [[1, 2], [1, 3], [3, 6], [3, 4], [3, 5]]"
   ]
  },
  {
   "cell_type": "code",
   "execution_count": 6,
   "metadata": {
    "ExecuteTime": {
     "end_time": "2020-05-23T02:16:34.088524Z",
     "start_time": "2020-05-23T02:16:34.082539Z"
    },
    "scrolled": true
   },
   "outputs": [],
   "source": [
    "visited = [ False for i in range(len(adjList))]"
   ]
  },
  {
   "cell_type": "code",
   "execution_count": 7,
   "metadata": {
    "ExecuteTime": {
     "end_time": "2020-05-23T02:16:39.160560Z",
     "start_time": "2020-05-23T02:16:39.146601Z"
    }
   },
   "outputs": [
    {
     "data": {
      "text/plain": [
       "[False, False, False, False, False, False, False]"
      ]
     },
     "execution_count": 7,
     "metadata": {},
     "output_type": "execute_result"
    }
   ],
   "source": [
    "visited"
   ]
  },
  {
   "cell_type": "code",
   "execution_count": 8,
   "metadata": {
    "ExecuteTime": {
     "end_time": "2020-05-23T02:20:13.407270Z",
     "start_time": "2020-05-23T02:20:13.401290Z"
    }
   },
   "outputs": [],
   "source": [
    "ratioList =[ 0 for i in range(len(adjList))]"
   ]
  },
  {
   "cell_type": "code",
   "execution_count": 10,
   "metadata": {
    "ExecuteTime": {
     "end_time": "2020-05-23T02:20:16.774777Z",
     "start_time": "2020-05-23T02:20:16.766789Z"
    }
   },
   "outputs": [
    {
     "data": {
      "text/plain": [
       "[0, 0, 0, 0, 0, 0, 0]"
      ]
     },
     "execution_count": 10,
     "metadata": {},
     "output_type": "execute_result"
    }
   ],
   "source": [
    "ratioList"
   ]
  },
  {
   "cell_type": "code",
   "execution_count": 16,
   "metadata": {
    "ExecuteTime": {
     "end_time": "2020-05-23T02:23:09.553114Z",
     "start_time": "2020-05-23T02:23:09.546131Z"
    }
   },
   "outputs": [],
   "source": [
    "def dfs(skidx, adjList):\n",
    "    visited[skidx] = True\n",
    "    if len(adjList[skidx]) == 0:\n",
    "        ratioList[skidx] = 1\n",
    "        return ratioList[skidx]\n",
    "    else :       \n",
    "        for item  in adjList[skidx]:\n",
    "            ratioList[skidx] += dfs(item, adjList)\n",
    "        return ratioList[skidx]"
   ]
  },
  {
   "cell_type": "code",
   "execution_count": 17,
   "metadata": {
    "ExecuteTime": {
     "end_time": "2020-05-23T02:23:09.940083Z",
     "start_time": "2020-05-23T02:23:09.933096Z"
    }
   },
   "outputs": [
    {
     "data": {
      "text/plain": [
       "8"
      ]
     },
     "execution_count": 17,
     "metadata": {},
     "output_type": "execute_result"
    }
   ],
   "source": [
    "dfs(topRootNum, adjList)"
   ]
  },
  {
   "cell_type": "code",
   "execution_count": 18,
   "metadata": {
    "ExecuteTime": {
     "end_time": "2020-05-23T02:23:25.177389Z",
     "start_time": "2020-05-23T02:23:25.170407Z"
    }
   },
   "outputs": [
    {
     "data": {
      "text/plain": [
       "[0, 8, 1, 6, 1, 1, 1]"
      ]
     },
     "execution_count": 18,
     "metadata": {},
     "output_type": "execute_result"
    }
   ],
   "source": [
    "ratioList"
   ]
  },
  {
   "cell_type": "code",
   "execution_count": 19,
   "metadata": {
    "ExecuteTime": {
     "end_time": "2020-05-23T02:23:49.793560Z",
     "start_time": "2020-05-23T02:23:49.786579Z"
    }
   },
   "outputs": [
    {
     "data": {
      "text/plain": [
       "[[], [2, 3], [], [6, 4, 5], [], [], []]"
      ]
     },
     "execution_count": 19,
     "metadata": {},
     "output_type": "execute_result"
    }
   ],
   "source": [
    "adjList"
   ]
  },
  {
   "cell_type": "code",
   "execution_count": null,
   "metadata": {},
   "outputs": [],
   "source": []
  }
 ],
 "metadata": {
  "hide_input": false,
  "kernelspec": {
   "display_name": "Python 3",
   "language": "python",
   "name": "python3"
  },
  "language_info": {
   "codemirror_mode": {
    "name": "ipython",
    "version": 3
   },
   "file_extension": ".py",
   "mimetype": "text/x-python",
   "name": "python",
   "nbconvert_exporter": "python",
   "pygments_lexer": "ipython3",
   "version": "3.7.6"
  },
  "toc": {
   "base_numbering": 1,
   "nav_menu": {},
   "number_sections": true,
   "sideBar": true,
   "skip_h1_title": false,
   "title_cell": "Table of Contents",
   "title_sidebar": "Contents",
   "toc_cell": false,
   "toc_position": {},
   "toc_section_display": true,
   "toc_window_display": false
  },
  "varInspector": {
   "cols": {
    "lenName": 16,
    "lenType": 16,
    "lenVar": 40
   },
   "kernels_config": {
    "python": {
     "delete_cmd_postfix": "",
     "delete_cmd_prefix": "del ",
     "library": "var_list.py",
     "varRefreshCmd": "print(var_dic_list())"
    },
    "r": {
     "delete_cmd_postfix": ") ",
     "delete_cmd_prefix": "rm(",
     "library": "var_list.r",
     "varRefreshCmd": "cat(var_dic_list()) "
    }
   },
   "types_to_exclude": [
    "module",
    "function",
    "builtin_function_or_method",
    "instance",
    "_Feature"
   ],
   "window_display": false
  }
 },
 "nbformat": 4,
 "nbformat_minor": 4
}
