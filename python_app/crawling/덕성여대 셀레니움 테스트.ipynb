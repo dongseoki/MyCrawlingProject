{
 "cells": [
  {
   "cell_type": "code",
   "execution_count": 75,
   "metadata": {},
   "outputs": [],
   "source": [
    "import time\n",
    "from selenium import webdriver\n",
    "from selenium.webdriver.chrome.options import Options\n",
    "\n",
    "from selenium.webdriver.common.by import By\n",
    "from selenium.webdriver.support.ui import WebDriverWait\n",
    "from selenium.webdriver.support import expected_conditions as EC\n",
    "\n",
    "from bs4 import BeautifulSoup\n",
    "import copy\n",
    "\n",
    "\n",
    "options = Options()\n",
    "options.headless = True\n",
    "\n",
    "browser = webdriver.Chrome(executable_path=\"./chromedriver.exe\", options=options)\n",
    "\n",
    "browser.get('https://discover.duksung.ac.kr/#/search/ex?isbn=1%7Ck%7Ca%7C9788934985068&material-type=1')\n",
    "# 되는 케이스\n",
    "\n",
    "#9788953934283 새로운 케이스\n",
    "#browser.get('https://library.daejin.ac.kr/data_data_list.mir?search_keyword_type1=isbn&search_keyword1=9788953934283&srch_condi_01=AND&search_keyword_type2=author&search_keyword2=&srch_condi_02=AND&search_keyword_type3=subject&search_keyword3=&srch_condi_03=%E2%96%B2&select_current_sort_type=&select_current_sort_order=&select_current_per_page_num=10&basic_list=list&current_per_page_num=10&current_sort_type=&current_sort_order=&MAXI=1000&mloc_code=DJUL&facet_limit_search_field_code=&scope_code=&mtype_code=M&type_code=')\n",
    "# 되는 케이스\n",
    "\n",
    "#browser.get('https://discover.duksung.ac.kr/#/search/ex?isbn=1%7Ck%7Ca%7C9788934985099&material-type=1')\n",
    "#안되는 케이스"
   ]
  },
  {
   "cell_type": "code",
   "execution_count": 76,
   "metadata": {},
   "outputs": [],
   "source": [
    "browserCheckXpath = '//*[@id=\"goto-content\"]/h2/strong'\n",
    "browser.find_element_by_xpath(browserCheckXpath)\n",
    "linkXpath = '//*[@id=\"goto-content\"]/div[2]/div[2]/div/div[2]/div[4]/div/div[3]/ul/li[1]/a[1]/span'\n",
    "try:\n",
    "    linkElement = browser.find_element_by_xpath(linkXpath)\n",
    "    # 오류가능성.\n",
    "except :\n",
    "    print('예외가 발생! 찾는 책이 없음')\n",
    "    linkElement = -1"
   ]
  },
  {
   "cell_type": "code",
   "execution_count": 77,
   "metadata": {},
   "outputs": [
    {
     "data": {
      "text/plain": [
       "'팩트풀니스 :우리가 세상을 오해하는 10가지 이유와 세상이 생각보다 괜찮은 이유'"
      ]
     },
     "execution_count": 77,
     "metadata": {},
     "output_type": "execute_result"
    }
   ],
   "source": [
    "linkElement.text"
   ]
  },
  {
   "cell_type": "code",
   "execution_count": 78,
   "metadata": {},
   "outputs": [
    {
     "name": "stdout",
     "output_type": "stream",
     "text": [
      "success\n"
     ]
    }
   ],
   "source": [
    "if linkElement == -1 :\n",
    "    print('-1...')\n",
    "else : \n",
    "    print('success')"
   ]
  },
  {
   "cell_type": "code",
   "execution_count": 79,
   "metadata": {},
   "outputs": [],
   "source": [
    "linkElement.click()"
   ]
  },
  {
   "cell_type": "code",
   "execution_count": 80,
   "metadata": {},
   "outputs": [
    {
     "data": {
      "text/plain": [
       "'https://discover.duksung.ac.kr/#/search/detail/4829644'"
      ]
     },
     "execution_count": 80,
     "metadata": {},
     "output_type": "execute_result"
    }
   ],
   "source": [
    "browser.current_url"
   ]
  },
  {
   "cell_type": "code",
   "execution_count": 81,
   "metadata": {},
   "outputs": [],
   "source": [
    "browserCheckXpath = '//*[@id=\"goto-content\"]/div[2]/div/div[1]/div/div[2]/div[3]'\n",
    "WebDriverWait(browser, 120).until(EC.presence_of_element_located((By.XPATH, browserCheckXpath)))\n",
    "html = browser.page_source\n",
    "bsObject=BeautifulSoup(html, 'html.parser')"
   ]
  },
  {
   "cell_type": "code",
   "execution_count": 82,
   "metadata": {},
   "outputs": [
    {
     "data": {
      "text/plain": [
       "<html class=\"k-webkit k-webkit81\" lang=\"ko\" style=\"\"><!--<!(endif)--><head><style type=\"text/css\">@charset \"UTF-8\";[ng\\:cloak],[ng-cloak],[data-ng-cloak],[x-ng-cloak],.ng-cloak,.x-ng-cloak,.ng-hide:not(.ng-hide-animate){display:none !important;}ng\\:form{display:block;}.ng-animate-shim{visibility:hidden;}.ng-anchor{position:absolute;}</style>\n",
       "<title>서지정보 | 덕성여자대학교 도서관</title>\n",
       "<meta charset=\"utf-8\"/>\n",
       "<meta content=\"ie=edge\" http-equiv=\"x-ua-compatible\"/>\n",
       "<meta content=\"width=device-width, initial-scale=1.0\" name=\"viewport\"/>\n",
       "<link href=\"./assets/css/ui.css\" rel=\"stylesheet\"/>\n",
       "<link href=\"./assets/css/main.css?sv=2020.1.14.18\" rel=\"stylesheet\"/>\n",
       "<link href=\"./assets/images/duksung/favicon.ico\" rel=\"shortcut icon\"/>\n",
       "</head>\n",
       "<body ng-controller=\"GlobalController\" style=\"\">\n",
       "<!-- --><div class=\"ikc-pyxis-wrap\" ui-view=\"\"><div class=\"ikc-keyboard-accessibility\"><a href=\"\" ng-click=\"tabToGo('goto-menu')\">메뉴바로가기</a> <a href=\"\" ng-click=\"tabToGo('goto-content')\">본문바로가기</a></div><!-- --><div ui-view=\"notification\"><div class=\"ikc-notification ikc-hide\" ng-class=\"{'ikc-show' : showPopup, 'ikc-hide' : !showPopup}\"><div class=\"ikc-notification-content owl-carousel notification\"><!-- --></div><div class=\"ikc-notification-func\"><label for=\"ikc-check-today\"><input class=\"ng-pristine ng-untouched ng-valid ng-empty\" id=\"ikc-check-today\" ng-model=\"hideAllDay\" type=\"checkbox\"/> 오늘하루닫기</label><a class=\"btn-block\" href=\"\" ng-click=\"closePopup()\"><span>닫기</span></a></div></div></div><div class=\"ikc-container-wrap\"><!-- --><div class=\"ikc-header-wrap\" ui-view=\"header\"><div class=\"ikc-header\"><div class=\"ikc-header-nav\" id=\"uppermost\"><ul class=\"ds-tm\"><!-- --><li ng-show=\"showLoginOutButton &amp;&amp; !isMember\"><a class=\"ds-portal\" ng-click=\"goNewPortalLogin()\">Portal Login<br/><span style=\"font-size:0.7em\">(재학생,재직자)</span></a></li><!-- --><li ng-if=\"showLoginOutButton\"><!-- --><a class=\"ds-portal\" href=\"#/librarylogin\" ng-if=\"!isMember\">Library Login<br/><span style=\"font-size:0.7em\">(졸업생,외래강사)</span></a><!-- --> <!-- --></li><!-- --><li><a href=\"#/helpdesk/faq\" ui-sref=\"root.helpdesk.faq\">Help Desk</a></li><li><a href=\"http://www.duksung.ac.kr/\" target=\"_blank\"><img alt=\"덕성여자대학교\" class=\"ds-tm-icon\" src=\"../assets/images/duksung/main/tm-ds-icon.jpg\"/>덕성여자대학교</a></li><li><a href=\"\">English</a></li><li class=\"ds-tm-allmenu\"><a href=\"\" ng-click=\"isGnbShow = !isGnbShow\"><img alt=\"전체메뉴 아이콘\" class=\"ds-tm-icon\" src=\"../assets/images/duksung/main/tm-all.png\"/>전체메뉴</a></li></ul><a class=\"ikc-btn-overview hidden-lg hidden-md\" ng-class=\"{'ikc-overview-show': isOverviewShow}\" ng-click=\"toggleOverviewShow()\"><span>Overview</span></a><div><!-- --><a class=\"ds-btn-my hidden-lg hidden-md\" href=\"#/login\" ng-if=\"!isMember\"><span>로그인</span></a><!-- --> <!-- --></div></div><!-- --><div class=\"ikc-gnb-wrap\" ng-class=\"{'ikc-gnb-show': isGnbShow}\" ui-view=\"gnb\"><h1 class=\"ds-logo\"><a class=\"ikc-bland-name\" href=\"#/\" ui-sref=\"root.intro\"><span>덕성여자대학교</span></a></h1><ul class=\"ikc-gnb\"><li ui-sref-active=\"ikc-active\"><a href=\"#/er/webdb\" id=\"goto-menu\" ui-sref=\"root.er.webdb\">e컨텐츠</a><ul class=\"ds-subm\"><li><a href=\"#/er/webdb\" ui-sref=\"root.er.webdb\">구독DB목록</a></li><li><a href=\"#/er/ebook\" ui-sref=\"root.er.ebook\">E-Book 목록</a></li><li><a href=\"#/er/elearning\" ui-sref=\"root.er.elearning\">인터넷 강좌 목록</a></li><li><a href=\"#/er/off-campus-access\" ui-sref=\"root.er.off-campus-access\">전자정보교외접속</a></li></ul></li><li ui-sref-active=\"ikc-active\"><a href=\"#/service/request\" ui-sref=\"root.service.request\">이용자서비스</a><ul class=\"ds-subm\"><li><a href=\"#/service/request\" ui-sref=\"root.service.request\">자료구입신청</a></li><li><a href=\"#/service/other-college\" ui-sref=\"root.service.other-college\">타대학자료이용</a></li><li><a ui-sref=\"root.service.education\">이용교육신청</a></li><li><a href=\"#/service/designation\" ui-sref=\"root.service.designation\">지정도서신청</a></li><li><a href=\"#/service/mobile\" ui-sref=\"root.service.mobile\">모바일학생증 사용</a></li></ul></li><li ui-sref-active=\"ikc-active\"><span>연구학습지원</span><ul class=\"ds-subm\"><li><a ng-click=\"goCopyKiller()\">논문표절검사</a></li><li><a href=\"http://duksung.dcollection.net/submit/process/help\" target=\"_blank\">학위논문 온라인제출</a></li><li><a ui-sref=\"root.service.education\">이용교육신청</a></li><li><a href=\"#/service/other-college\" ui-sref=\"root.service.other-college\">타대학자료이용</a></li></ul></li><li ui-sref-active=\"ikc-active\"><a href=\"#/guide/facility\" ui-sref=\"root.guide.facility\">도서관안내</a><ul class=\"ds-subm\"><li><a href=\"#/guide/use\" ui-sref=\"root.guide.use\">도서관이용안내</a></li><li><a href=\"#/guide/normal\" ui-sref=\"root.guide.floor-guide\">자료실 안내</a></li><li><a href=\"#/guide/history\" ui-sref=\"root.guide.history\">도서관 소개</a></li><li><a href=\"#/guide/private-library\" ui-sref=\"root.guide.private-library\">자료기증안내</a></li></ul></li><li ui-sref-active=\"ikc-active\"><a href=\"#/bbs/notice\" ui-sref=\"root.bbs.notice\">게시판</a><ul class=\"ds-subm\"><li><a href=\"#/bbs/notice\" ui-sref=\"root.bbs.notice\">공지사항</a></li><li><a href=\"#/recommendedBook/result\" ui-sref=\"root.recommendedBook.result\">추천도서</a></li><li><a href=\"#/search/new\" ui-sref-opts=\"{inherit: false}\">신착자료</a></li><li><a href=\"#/bbs/event\" ui-sref=\"root.bbs.event\">행사자료</a></li><li><a href=\"#/review/mostreviewedbiblios/\" ui-sref=\"root.review.mostReviewedBiblios\">서평</a></li><li><a href=\"#/bbs/culture\" ui-sref=\"root.bbs.culture\">문화기획</a></li><li><a href=\"#/sc/playlist\" ui-sref=\"root.sc.playlist({sort: 'date_received', order: 'desc'})\">오늘의 플레이리스트 ♬</a></li></ul></li><li ui-sref-active=\"ikc-active\"><a href=\"#/helpdesk/faq\" ui-sref=\"root.helpdesk.faq\">Help Desk</a><ul class=\"ds-subm\"><li><a href=\"#/helpdesk/faq\" ui-sref=\"root.helpdesk.faq\">FAQ</a></li><li><a href=\"#/helpdesk/qna\" ui-sref=\"root.helpdesk.qna\">Q&amp;A</a></li><li><a href=\"#/helpdesk/error\" ui-sref=\"root.helpdesk.error\">오류 신고</a></li><li><a href=\"#/helpdesk/helpmovie\" ui-sref=\"root.helpdesk.helpmovie\">이용교육 동영상</a></li></ul></li><li ui-sref-active=\"ikc-active\"><a href=\"#/mylibrary/dashboard\" ui-sref=\"root.mylibrary.dashboard\">My Library</a><ul class=\"ds-subm\"><li><a href=\"#/mylibrary/mynotice\" ui-sref=\"root.mylibrary.mynotice\">연락사항</a></li><li><a href=\"#/mylibrary/myinfo\" ui-sref=\"root.mylibrary.myinfo\">개인정보관리</a></li><li><a href=\"#/mylibrary/dashboard\" ui-sref=\"root.mylibrary.dashboard\">이용현황(대출/연장/예약)</a></li><li><a href=\"#/mylibrary/request-service-state\" ui-sref=\"root.mylibrary.request-service-state\">서비스 신청/현황</a></li><li><a href=\"#/mylibrary/reviews\" ui-sref=\"root.mylibrary.reviews\">나의서평</a></li><li><a href=\"#/mylibrary/collections\" ui-sref=\"root.mylibrary.collections\">나의폴더</a></li><li><a href=\"#/mylibrary/sdi/keywords/result\" ui-sref=\"root.mylibrary.sdi.keywords.result\">맞춤정보서비스</a></li><li><a href=\"#/mylibrary/cardLostReport\" ui-sref=\"root.mylibrary.cardLostReport\">학생증 분실신고</a></li></ul></li></ul></div><div class=\"ds-allgnb-wrap\" ng-class=\"{'ikc-isGnbShow': isGnbShow}\"><div class=\"ds-allgnb\"><h1 class=\"ds-allgnb-tit\"><span>덕성여자대학교 도서관</span></h1><ul class=\"ds-allgnb-menu\"><li><a href=\"#/er/webdb/all\">e컨텐츠</a><ul class=\"ds-allm\"><li><a href=\"#/er/webdb/all\" ng-click=\"isGnbShow = !isGnbShow\">구독DB목록</a></li><li><a href=\"#/er/ebook/all\" ng-click=\"isGnbShow = !isGnbShow\">E-Book 목록</a></li><li><a href=\"#/er/elearning\" ng-click=\"isGnbShow = !isGnbShow\">인터넷 강좌 목록</a></li><li><a href=\"#/er/off-campus-access\" ng-click=\"isGnbShow = !isGnbShow\">전자정보교외접속</a></li></ul></li><li><a href=\"#/service/request\">이용자서비스</a><ul class=\"ds-allm\"><li><a href=\"#/service/request\" ng-click=\"isGnbShow = !isGnbShow\">자료구입신청</a></li><li><a href=\"#/service/other-college\" ng-click=\"isGnbShow = !isGnbShow\">타대학자료이용</a></li><li><a href=\"#/education/calendar/\" ng-click=\"isGnbShow = !isGnbShow\">이용교육신청</a></li><li><a href=\"#/service/designation\" ng-click=\"isGnbShow = !isGnbShow\">지정도서신청</a></li><li><a href=\"#/service/mobile\" ng-click=\"isGnbShow = !isGnbShow\">모바일학생증 사용</a></li></ul></li><li><span>연구학습지원</span><ul class=\"ds-allm\"><li><a ng-click=\"goCopyKiller()\">논문표절검사</a></li><li><a href=\"http://duksung.dcollection.net/submit/process/help\" target=\"_blank\">학위논문 온라인제출</a></li><li><a ui-sref=\"root.service.education\">이용교육신청</a></li><li><a href=\"#/service/other-college\" ui-sref=\"root.service.other-college\">타대학자료이용</a></li></ul></li><li><a href=\"#/guide/facility\">도서관안내</a><ul class=\"ds-allm\"><li><a href=\"#/guide/facility\" ng-click=\"isGnbShow = !isGnbShow\">도서관이용안내</a></li><li><a href=\"#/guide/floor-guide\" ng-click=\"isGnbShow = !isGnbShow\">자료실 안내</a></li><li><a href=\"#/guide/history\" ng-click=\"isGnbShow = !isGnbShow\">도서관 소개</a></li><li><a href=\"#/guide/private-library\" ng-click=\"isGnbShow = !isGnbShow\">자료기증안내</a></li></ul></li><li><a href=\"#/bbs/notice\">게시판</a><ul class=\"ds-allm\"><li><a href=\"#/bbs/notice\" ng-click=\"isGnbShow = !isGnbShow\">공지사항</a></li><li><a href=\"#/bbs/lost-page\" ng-click=\"isGnbShow = !isGnbShow\">추천도서</a></li><li><a href=\"#/search/new\">신착자료</a></li><li><a href=\"#/bbs/event\" ng-click=\"isGnbShow = !isGnbShow\">행사자료</a></li><li><a href=\"#/bbs/lost-page\" ng-click=\"isGnbShow = !isGnbShow\">서평</a></li><li><a href=\"#/bbs/culture\" ng-click=\"isGnbShow = !isGnbShow\">문화기획</a></li><li><a href=\"#/sc/playlist\" ui-sref=\"root.sc.playlist({sort: 'date_received', order: 'desc'})\">오늘의 플레이리스트 ♬</a></li></ul></li><li><a href=\"#/helpdesk/faq\">Help Desk</a><ul class=\"ds-allm\"><li><a href=\"#/helpdesk/faq\" ng-click=\"isGnbShow = !isGnbShow\">FAQ</a></li><li><a href=\"#/helpdesk/qna\" ng-click=\"isGnbShow = !isGnbShow\">Q&amp;A</a></li><li><a href=\"#/helpdesk/error\" ng-click=\"isGnbShow = !isGnbShow\">오류 신고</a></li><li><a href=\"#/helpdesk/helpmovie\" ng-click=\"isGnbShow = !isGnbShow\">이용교육 동영상</a></li></ul></li><li><a href=\"#/mylibrary/dashboard\">My Library</a><ul class=\"ds-allm right-border\"><li><a href=\"#/mylibrary/mynotice\" ng-click=\"isGnbShow = !isGnbShow\">연락사항</a></li><li><a href=\"#/mylibrary/myinfo\" ng-click=\"isGnbShow = !isGnbShow\">개인정보관리</a></li><li><a href=\"#/mylibrary/dashboard\" ng-click=\"isGnbShow = !isGnbShow\">이용현황(대출/연장/예약)</a></li><li><a href=\"#/mylibrary/request-service-state\" ng-click=\"isGnbShow = !isGnbShow\">서비스 신청/현황</a></li><li><a href=\"#/mylibrary/reviews\" ng-click=\"isGnbShow = !isGnbShow\">나의서평</a></li><li><a href=\"#/mylibrary/collections\" ng-click=\"isGnbShow = !isGnbShow\">나의폴더</a></li><li><a href=\"#/mylibrary/sdi/keywords/result\" ng-click=\"isGnbShow = !isGnbShow\">맞춤정보서비스</a></li><li><a href=\"#/mylibrary/cardLostReport\" ng-click=\"isGnbShow = !isGnbShow\" ui-sref=\"root.mylibrary.cardLostReport\">학생증 분실신고</a></li></ul></li></ul><a class=\"ds-all-close\" href=\"\" ng-click=\"isGnbShow = !isGnbShow\"><span>닫기</span></a></div></div></div><!-- --><div class=\"ikc-imagezone-wrap\" ui-view=\"imagezone\"></div></div><!-- --><div class=\"ikc-hgroup-wrap\" ng-show=\"hgroupShow &amp;&amp; presentState != 'root.login'\" ui-view=\"hgroup\"><div class=\"ikc-imagezone-sub\"><div class=\"ikc-hgroup ikc-search ikc-detail/:biblioId\" ng-class=\"hgroupClass\"><div class=\"ds-menu-tit\"><h2 class=\"ikc-group-title ds-sub-h2\" ik-group-title=\"\">통합검색</h2><span></span></div><div class=\"ds-page-wrap\"><div class=\"ds-page-tit-wrap\"><div class=\"ds-page-tit\"><!-- --><div ui-view=\"breadcrumb\"><ol class=\"breadcrumb\" ncy-breadcrumb=\"\"><!-- --><li ng-class=\"{active: $last}\" ng-repeat=\"step in steps\" ng-switch=\"$last || !!step.abstract\"><!-- --><a href=\"#/\" ng-switch-when=\"false\">Home</a><!-- --><!-- --></li><!-- --><li ng-class=\"{active: $last}\" ng-repeat=\"step in steps\" ng-switch=\"$last || !!step.abstract\"><!-- --><a href=\"#/search\" ng-switch-when=\"false\">통합검색</a><!-- --><!-- --></li><!-- --><li class=\"active\" ng-class=\"{active: $last}\" ng-repeat=\"step in steps\" ng-switch=\"$last || !!step.abstract\"><!-- --><!-- --><span ng-switch-when=\"true\">서지정보</span><!-- --></li><!-- --></ol><!-- --><h3 class=\"ikc-page-title ds-sub-h3\" ng-if=\"pageTitle\">서지정보</h3><!-- --></div></div><div class=\"ds-sub-search\"><div class=\"k-tabstrip-wrapper\"><div class=\"ikc-search-wrap ds-search-opt k-widget k-header k-tabstrip k-floatwrap k-tabstrip-top\" data-role=\"tabstrip\" kendo-tab-strip=\"\" ng-class=\"{'ds-search-opt' : !isSearchOpt, 'ds-search-opt1' : isSearchOpt == 1, 'ds-search-opt2' : isSearchOpt == 2, 'ds-search-opt3' : isSearchOpt == 3}\" role=\"tablist\" tabindex=\"0\"><ul class=\"k-tabstrip-items k-reset\"><li aria-controls=\"8233585d-851e-4962-868d-ee392529a356-1\" aria-selected=\"true\" class=\"k-state-active k-item k-tab-on-top k-state-default k-first\" role=\"tab\"><span class=\"k-loading k-complete\"></span><a class=\"k-link ds-stab-active\" href=\"\" ng-class=\"{'ds-stab-active' : isSearchOpt==1 || !isSearchOpt }\" ng-click=\"isSearchOpt = 1\">통합검색</a></li><li aria-controls=\"8233585d-851e-4962-868d-ee392529a356-2\" class=\"k-item k-state-default\" role=\"tab\"><span class=\"k-loading k-complete\"></span><a class=\"k-link\" href=\"\">e-컨텐츠</a></li><li aria-controls=\"8233585d-851e-4962-868d-ee392529a356-3\" class=\"k-item k-state-default k-last\" role=\"tab\"><span class=\"k-loading k-complete\"></span><a class=\"k-link\" href=\"#/search/ex?isbn=1%7Ck%7Ca%7C9788934985068&amp;material-type=1\" ui-sref=\"root.search.ex\">상세검색</a></li></ul><div aria-expanded=\"true\" class=\"ikc-search k-content k-state-active\" id=\"8233585d-851e-4962-868d-ee392529a356-1\" role=\"tabpanel\" style=\"display: block;\"><div class=\"searchGroup\"><div class=\"searchwrap1\"><h3 class=\"swh1\">통합검색</h3><form class=\"ng-pristine ng-valid\"><div class=\"db-input-wrap\"><input class=\"ikc-search-keyword ng-pristine ng-untouched ng-valid ng-empty\" ng-model=\"keyword\" placeholder=\"검색어를 입력하세요 (통합검색)\"/></div><button class=\"ikc-btn-search\" ng-click=\"search()\" type=\"submit\"><span>검색</span></button></form></div></div></div><div aria-expanded=\"false\" aria-hidden=\"true\" class=\"ikc-search k-content\" id=\"8233585d-851e-4962-868d-ee392529a356-2\" role=\"tabpanel\" style=\"display:none\"><div class=\"searchGroup\"><form action=\"http://duksung.summon.serialssolutions.com/search/\" class=\"ng-pristine ng-valid\" target=\"_self\"><div class=\"db-input-wrap\"><input name=\"ho\" type=\"hidden\" value=\"t\"/> <input name=\"l\" type=\"hidden\" value=\"ko-KO\"/> <input class=\"ikc-search-keyword\" name=\"q\" placeholder=\"검색어를 입력하세요 (e-컨텐츠)\"/></div><button class=\"ikc-btn-search\" type=\"submit\"><span>검색</span></button></form></div></div><div aria-expanded=\"false\" aria-hidden=\"true\" class=\"k-content\" id=\"8233585d-851e-4962-868d-ee392529a356-3\" role=\"tabpanel\"></div></div></div></div></div></div></div></div></div><!-- --><div class=\"ikc-container\" ui-view=\"container\"><div class=\"ikc-content\"><!-- --><div class=\"ikc-snb-wrap hidden-sm hidden-xs ng-hide\" ng-show=\"snbShow\" ui-view=\"snb\"><div class=\"ikc-snb\"><h2 class=\"ikc-group-title\">검색</h2><div class=\"ikc-snb-group\"><ul class=\"ikc-snb-items\"><li ui-sref-active=\"ikc-active\"><a href=\"#/search/si\" ui-sref=\"root.search.si\" ui-sref-opts=\"{ inherit: false }\">간략검색</a></li><li ui-sref-active=\"ikc-active\"><a href=\"#/search/ex\" ui-sref=\"root.search.ex\" ui-sref-opts=\"{ inherit: false }\">상세검색</a></li></ul></div></div></div><!-- --><div class=\"ikc-main\" id=\"goto-content\" tabindex=\"0\" ui-view=\"main\"><!-- --><div ui-view=\"nav\"><ul class=\"ikc-detail-paginate ng-hide\" ng-show=\"total\"><li><span class=\"k-icon k-i-collapse-w\"></span> <a ng-click=\"goBiblio(offset-1)\" ng-disabled=\"offset &lt;= 1\"></a></li><li><strong></strong> / </li><li><a ng-click=\"goBiblio(offset+1)\" ng-disabled=\"offset &gt;= total\"></a> <span class=\"k-icon k-i-expand-w\"></span></li></ul></div><div><div class=\"ikc-search-detail-layout\"><div class=\"ikc-search-detail-main\" ng-init=\"\"><!-- --><div ui-view=\"main\"><div id=\"fb-root\"></div><div class=\"ikc-biblio-detail\"><div class=\"ikc-book-thumb\"><div ng-click=\"showBookThumb=!showBookThumb\"><ik-book-thumb bid=\"biblioId\" default=\"none\" isbn=\"targetISBN\" thumbnail=\"biblioSummary.thumbnail\" title=\"팩트풀니스 :우리가 세상을 오해하는 10가지 이유와 세상이 생각보다 괜찮은 이유\"><div class=\"ikc-bookcover\" ng-show=\"thumbShowFlag\">\n",
       "<img alt=\"팩트풀니스 :우리가 세상을 오해하는 10가지 이유와 세상이 생각보다 괜찮은 이유\" ng-src=\"https://discover.duksung.ac.kr/pyxis-api/attachments/biblio/5b019048-86a5-4829-8c2b-3bb7554fbd92\" onerror=\"this.src='./assets/images/duksung/common/default-item-img.jpg'\" src=\"https://discover.duksung.ac.kr/pyxis-api/attachments/biblio/5b019048-86a5-4829-8c2b-3bb7554fbd92\"/>\n",
       "</div></ik-book-thumb></div><div class=\"ikc-dylink\"><a class=\"button ng-hide\" ng-href=\"\" ng-show=\"ePassPreviewLink.length &gt; 0\" target=\"_blank\" title=\"새창\">Core Collection <i class=\"k-icon k-i-search\"></i></a> <a class=\"button\" href=\"http://www.aladin.co.kr/shop/book/wletslookViewer.aspx?ISBN=8934985062\" ng-href=\"http://www.aladin.co.kr/shop/book/wletslookViewer.aspx?ISBN=8934985062\" ng-show=\"aladinPreviewLink.length &gt; 0\" target=\"_blank\" title=\"새창\">알라딘 <i class=\"k-icon k-i-search\"></i></a> <a class=\"button ng-hide\" ng-href=\"\" ng-show=\"googlePreviewLink.length &gt; 0\" target=\"_blank\" title=\"새창\">Google <i class=\"k-icon k-i-search\"></i></a> <a class=\"button ng-hide\" ng-href=\"\" ng-show=\"detailLink.length &gt; 0\" target=\"_blank\" title=\"ecip 도서정보 새창\">상세보기 <i class=\"k-icon k-i-weblink\"></i></a> <a class=\"button ng-hide\" ng-href=\"\" ng-show=\"previewLink.length &gt; 0\" target=\"_blank\" title=\"알라딘 뷰어 새창\">미리보기 <i class=\"k-icon k-i-weblink\"></i></a></div></div><div class=\"ikc-book-thumb-img ng-hide\" ng-click=\"showBookThumb=!showBookThumb\" ng-show=\"showBookThumb\"><ik-book-thumb bid=\"biblioId\" default=\"none\" isbn=\"targetISBN\" thumbnail=\"biblioSummary.thumbnail\" title=\"팩트풀니스 :우리가 세상을 오해하는 10가지 이유와 세상이 생각보다 괜찮은 이유\"><div class=\"ikc-bookcover\" ng-show=\"thumbShowFlag\">\n",
       "<img alt=\"팩트풀니스 :우리가 세상을 오해하는 10가지 이유와 세상이 생각보다 괜찮은 이유\" ng-src=\"https://discover.duksung.ac.kr/pyxis-api/attachments/biblio/5b019048-86a5-4829-8c2b-3bb7554fbd92\" onerror=\"this.src='./assets/images/duksung/common/default-item-img.jpg'\" src=\"https://discover.duksung.ac.kr/pyxis-api/attachments/biblio/5b019048-86a5-4829-8c2b-3bb7554fbd92\"/>\n",
       "</div></ik-book-thumb></div><div class=\"ikc-biblio-info\"><p class=\"ikc-biblio-type\"><label>자료유형</label><span ng-bind-html=\"biblioSummary.biblioType.name\">단행본(동양서)</span></p><ul class=\"ikc-biblio-infolist\"><!-- --><li ng-repeat=\"item in biblio | limitTo : displayLimit\"><label>서명책임사항</label><span ng-bind-html=\"item.content\"><a href=\"#/search/ex?title=1|m|a|팩트풀니스  :우리가 세상을 오해하는 10가지 이유와 세상이 생각보다 괜찮은 이유  /한스 로슬링 , 올라 로슬링 , 안나 로슬링 뢴룬드 [공]지음  ;이창신 옮김\">팩트풀니스  :우리가 세상을 오해하는 10가지 이유와 세상이 생각보다 괜찮은 이유  /한스 로슬링 , 올라 로슬링 , 안나 로슬링 뢴룬드 [공]지음  ;이창신 옮김</a></span></li><!-- --><li ng-repeat=\"item in biblio | limitTo : displayLimit\"><label>발행사항</label><span ng-bind-html=\"item.content\">파주  :김영사 , 2019</span></li><!-- --><li ng-repeat=\"item in biblio | limitTo : displayLimit\"><label>형태사항</label><span ng-bind-html=\"item.content\">473 p.  :삽도  ;22 cm</span></li><!-- --><li ng-repeat=\"item in biblio | limitTo : displayLimit\"><label>개인저자</label><span ng-bind-html=\"item.content\"><a href=\"#/search/ex?author=1|m|a|Rosling, Hans\">Rosling, Hans</a></span></li><!-- --><li ng-repeat=\"item in biblio | limitTo : displayLimit\"><label>부출표목-개인명</label><span ng-bind-html=\"item.content\"><a href=\"#/search/ex?author=1|m|a|Rosling, Ola\">Rosling, Ola</a> <a href=\"#/search/ex?author=1|m|a|Rönnlund, Anna Rosling\">Rönnlund, Anna Rosling</a> <a href=\"#/search/ex?author=1|m|a|이창신\">이창신</a></span></li><!-- --><li ng-repeat=\"item in biblio | limitTo : displayLimit\"><label>ISBN</label><span ng-bind-html=\"item.content\"><a href=\"#/search/ex?isbn=1|m|a|9788934985068 03300  :\\19800\">9788934985068 03300  :\\19800</a></span></li><!-- --><li ng-repeat=\"item in biblio | limitTo : displayLimit\"><label>서지주기</label><span ng-bind-html=\"item.content\">참고문헌(p. 386-420) 및 색인 수록</span></li><!-- --><li ng-repeat=\"item in biblio | limitTo : displayLimit\"><label>원서명, 원저자주기</label><span ng-bind-html=\"item.content\"><a href=\"#/search/ex?title=1|m|a|Factfulness : ten reasons we're wrong about the world--and why things are better than you think\">Factfulness : ten reasons we're wrong about the world--and why things are better than you think</a></span></li><!-- --><li ng-repeat=\"item in biblio | limitTo : displayLimit\"><label>일반주제명</label><span ng-bind-html=\"item.content\"><a href=\"#/search/ex?subject=1|m|a|Stress management\">Stress management</a><br/><a href=\"#/search/ex?subject=1|m|a|Reality\">Reality</a></span></li><!-- --><li ng-repeat=\"item in biblio | limitTo : displayLimit\"><label>분류번호</label><span ng-bind-html=\"item.content\"><a href=\"#/search/ex?call_no=1|m|a|155.9042\">155.9042</a></span></li><!-- --><li ng-repeat=\"item in biblio | limitTo : displayLimit\"><label>일반주기</label><span ng-bind-html=\"item.content\">부록: 내 나라는 몇 점일까?</span></li><!-- --><li ng-repeat=\"item in biblio | limitTo : displayLimit\"><label>듀이십진분류기호</label><span ng-bind-html=\"item.content\">155.9042</span></li><!-- --><!-- --><li class=\"hidden-xs ikc-marc\" ng-hide=\"incrementDisplayLimitButtonShow\" ng-if=\"biblioSummary.isMarc\"><label>MARC</label><span><button ng-click=\"showMarcContent()\">보기</button></span></li><!-- --></ul><div class=\"ikc-search-result-funcs\"><ul><li><!-- --> <!-- --><button id=\"btn-biblio-more-close\" ng-click=\"decrementDisplayLimit();\" ng-if=\"decrementDisplayLimitButtonShow\" title=\"서지정보\"><span class=\"k-icon k-i-expand\"></span> 접기</button><!-- --></li><li class=\"ikc-btn-group-wrap\"><div class=\"ikc-btn-group\" ng-show=\"!hiddenMyCollection\"><button id=\"btn-mycollection\" ng-click=\"showMycollectionMenu=!showMycollectionMenu; showExportMenu=false; showTempitemMenu=false; tabToGo('ik-mycollection-guide');\" ng-show=\"!showMycollectionMenu\" title=\"개인보관함 안내 펼치기\">개인보관함 <span class=\"k-icon k-i-arrow-s\"></span></button> <button class=\"ng-hide\" ng-click=\"showMycollectionMenu=!showMycollectionMenu; showExportMenu=false; showTempitemMenu=false;\" ng-show=\"showMycollectionMenu\" title=\"접기\">개인보관함 <span class=\"k-icon k-i-close\"></span></button><div class=\"ng-hide\" id=\"ik-mycollection-guide\" ng-show=\"showMycollectionMenu\" tabindex=\"0\"><p><strong>개인보관함이란?</strong><br/>이용자가 필요한 자료를 개인보관함은 담아두었다가 필요할 때 보다 쉽게 이용할 수 있는 서비스입니다. 여러개의 보관함을 원하는 분류별로 생성하여 활용할 수 있습니다.</p><button ng-click=\"openMyCollectionModal()\" title=\"개인보관함 담기\"><span class=\"k-icon k-si-plus\"></span><span>담기</span></button> <button ng-click=\"goMyCollection()\" title=\"개인보관함 이동\"><span class=\"k-icon k-i-expand-w\"></span> <span>이동</span></button> <button class=\"ikc-btn-group-x ikc-iconbtn\" ng-click=\"showMycollectionMenu=!showMycollectionMenu; tabToGo('btn-mycollection')\" title=\"개인보관함 안내 접기\"><span class=\"k-icon k-i-close\"></span></button></div></div><div class=\"ikc-btn-group\" ng-show=\"tempitems_use\"><button class=\"btn-tempitem\" ng-click=\"showTempitemMenu=!showTempitemMenu; showMycollectionMenu=false;  showExportMenu=false; tabToGo('ik-tempitem')\" title=\"임시보관함 안내 펼치기\"><!-- --> <!-- --><span ng-if=\"!isSavedTemp\">임시보관함</span><!-- --> <span class=\"k-icon k-i-arrow-s\" ng-show=\"!showTempitemMenu\"></span> <span class=\"k-icon k-i-close ng-hide\" ng-show=\"showTempitemMenu\"></span></button><div class=\"ng-hide\" id=\"ik-tempitem\" ng-show=\"showTempitemMenu\" tabindex=\"0\"><p><strong>임시보관함이란?</strong><br/>인터넷 브라우저 저장소를 활용하여 임시로 자료를 보관, 이용할 수 있는 서비스입니다. 브라우저 탭마다 저장소가 하나씩 생성되며, 브라우저 종료시 자동 삭제 됩니다. 오래 보관하고자 하는 자료는 개인보관함을 이용하시기 바랍니다.</p><p><strong>현재 보관된 자료수  :  0건</strong></p><button ng-click=\"saveTempItem()\" ng-disabled=\"isSavedTemp || tempItemTotalCount &gt; 100\" title=\"임시보관함 담기\"><span class=\"k-icon k-si-plus\"></span> <span>담기</span></button> <button class=\"ng-hide\" ng-click=\"deleteTempItem()\" ng-hide=\"!isSavedTemp\" title=\"보관자료 삭제\"><span class=\"k-icon k-i-close\"></span> <span>삭제</span></button> <button disabled=\"disabled\" ng-click=\"goTempitems()\" ng-disabled=\"tempItemTotalCount == 0\" title=\"임시보관함 이동\"><span class=\"k-icon k-i-expand-w\"></span> <span>이동</span></button> <button class=\"ikc-btn-group-x ikc-iconbtn\" ng-click=\"showTempitemMenu=!showTempitemMenu; tabToGo('btn-tempitem'); \" title=\"임시보관함 안내 접기\"><span class=\"k-icon k-i-close\"></span></button></div></div><div class=\"ikc-btn-group ikc-search-export\"><button id=\"btn-export\" ng-click=\"showExportMenu=!showExportMenu; showTempitemMenu=false; showMycollectionMenu=false; tabToGo('ik-export');\" title=\"내보내기 안내 펼치기\">내보내기 <span class=\"k-icon k-i-arrow-s\" ng-show=\"!showExportMenu\"></span> <span class=\"k-icon k-i-close ng-hide\" ng-show=\"showExportMenu\"></span></button><div class=\"ng-hide\" id=\"ik-export\" ng-show=\"showExportMenu\" tabindex=\"0\"><p><strong>내보내기란?</strong><br/>다양한 자료활용을 위해 자료반출을 지원하고 있습니다.</p><button class=\"ikc-export-endnote\" ng-click=\"exportRisFile()\" title=\"EndNote\"><span>EndNote</span></button> <button class=\"ikc-export-refworks\" ng-click=\"exportRefWorks()\" title=\"RefWorks\"><span>RefWorks</span></button> <button class=\"ikc-export-email\" ng-click=\"openSendEmailModal()\" title=\"Email\"><span>Email</span></button> <a class=\"button twitter-share-button\" data-size=\"large\" href=\"\" ng-click=\"exportTwitter()\" title=\"twitter\"><span><span class=\"k-icon k-i-twitter\"></span>Twitter</span></a> <button class=\"facebook-share-button\" title=\"facebook\"><span class=\"fb-share-button\" data-href=\"https://discover.duksung.ac.kr/#/search/detail/4829644\" data-layout=\"icon_link\"></span></button> <button class=\"ikc-btn-group-x ikc-iconbtn\" ng-click=\"showExportMenu=!showExportMenu; tabToGo('btn-export');\" title=\"내보내기 안내 접기\"><span class=\"k-icon k-i-close\"></span></button></div></div></li></ul></div></div></div><hr/><!-- --><div ui-view=\"intellectualsMap\"></div><!-- --><!-- --><!-- --><!-- --><!-- --><div class=\"ikc-detail-strip\" ng-if=\"!isCr &amp;&amp; biblioItems\"><div class=\"ikc-tablist\" ng-init=\"isShowItemTab=true\"><ul><li class=\"ikc-active\" ng-class=\"{'ikc-active':isShowItemTab}\"><a href=\"\" ng-click=\"isShowItemTab=true\">소장정보</a></li><li ng-class=\"{'ikc-active':!isShowItemTab}\" ng-show=\"hasShelvingItems\"><a href=\"\" ng-click=\"retrieveItemsShelvingAround(biblioId); isShowItemTab=false\">가상서가</a></li></ul></div><div ng-show=\"isShowItemTab==true\"><!-- --><ng-include src=\"'modules/_pyxis/search/views/detail/fn.biblio.items.html'\"><!-- --><div class=\"ikc-branch-itemlist\" ng-repeat=\"items in biblioItems\"><h3 class=\"ikc-search-detail-subtitle\"><strong>중앙도서관</strong></h3><div class=\"ikc-item-service-guidewrap2 ng-hide\" ng-show=\"showServiceGuide\"><p><strong>서비스 안내</strong><br/>이용자의 상태와 조건에 따라 이용가능한 서비스가 아래 소장자료 서비스란에 줄인말로 표시됩니다.<br/><br/><!-- --><span class=\"ikc-item-service-guide ikc-service-hold ikc-service-btn-hold\" ng-if=\"canService('HOLD', homepageInfo.libraryServicesInSearch)\"><em>예</em> <span>예약신청</span></span><!-- --> <!-- --> <!-- --><span class=\"ikc-item-service-guide ikc-service-fcl ikc-service-btn-fcl\" ng-if=\"canService('FCL', homepageInfo.libraryServicesInSearch)\"><em>우</em> <span>우선정리대출</span></span><!-- --> <!-- --><span class=\"ikc-item-service-guide ikc-service-ibl ikc-service-btn-ibl\" ng-if=\"canService('IBL', homepageInfo.libraryServicesInSearch)\"><em>분</em> <span>분관상호대차</span></span><!-- --> <!-- --><span class=\"ikc-item-service-guide ikc-service-ccl ikc-service-btn-ccl\" ng-if=\"canService('CCL', homepageInfo.libraryServicesInSearch)\"><em>폐</em> <span>폐가도서대출</span></span><!-- --> <!-- --><span class=\"ikc-item-service-guide ikc-service-res ikc-service-btn-res\" ng-if=\"canService('RESERVATION', homepageInfo.libraryServicesInSearch)\"><em>선</em> <span>선예약</span></span><!-- --> <!-- --><span class=\"ikc-item-service-guide ikc-service-pdl ikc-service-btn-pdl\" ng-if=\"canService('PDL', homepageInfo.libraryServicesInSearch)\"><em>행</em> <span>행낭대출</span></span><!-- --> <!-- --> <!-- --><span class=\"ikc-item-service-guide ikc-service-abs ikc-service-btn-abs\" ng-if=\"canService('ABSENT_BOOK_REPORT', homepageInfo.libraryServicesInSearch)\"><em>제</em> <span>제자리에 없는 도서 신고</span></span><!-- --> <!-- --></p><button class=\"ikc-btn-group-x ikc-iconbtn\" ng-click=\"showServiceGuide=!showServiceGuide\" title=\"닫기\"><span class=\"k-icon k-i-close\"></span></button></div><table class=\"ikc-tablelist\"><caption class=\"ikc-blind\">중앙도서관 소장정보</caption><colgroup><col/><col style=\"width:30%\"/><col style=\"width:30%\"/><col/><col/><col/></colgroup><thead><tr><th scope=\"col\"><a class=\"ikc-sort\" href=\"\" ng-class=\"{'ikc-desc':items.itemOrder === 'barcode' &amp;&amp; items.reverse === true,\n",
       "                'ikc-asce':items.itemOrder === 'barcode' &amp;&amp; items.reverse === false}\" ng-click=\"sortBy(items, 'barcode')\">등록번호</a></th><th scope=\"col\"><a class=\"ikc-sort\" href=\"\" ng-class=\"{'ikc-desc':items.itemOrder === 'location.name' &amp;&amp; items.reverse === true,\n",
       "                'ikc-asce':items.itemOrder === 'location.name' &amp;&amp; items.reverse === false}\" ng-click=\"sortBy(items, 'location.name')\">소장위치</a></th><th scope=\"col\"><a class=\"ikc-sort\" href=\"\" ng-class=\"{'ikc-desc':items.itemOrder === 'callNo' &amp;&amp; items.reverse === true,\n",
       "                'ikc-asce':items.itemOrder === 'callNo' &amp;&amp; items.reverse === false}\" ng-click=\"sortBy(items, 'callNo')\">청구기호</a></th><!-- --><th ng-if=\"!canLocationInfo\" scope=\"col\">위치</th><!-- --><th scope=\"col\">상태</th><th scope=\"col\">서비스<a href=\"\" ng-click=\"showServiceGuide=!showServiceGuide\" title=\"서비스 안내\"><span class=\"k-icon k-i-note\"></span></a></th></tr></thead><!-- --><tbody class=\"ikc-item\" ng-repeat=\"item in items | orderBy:items.itemOrder:items.reverse\"><tr><td><span class=\"ikc-flexth\">등록번호</span> <span>E0643865</span></td><td class=\"ikc-contents\"><span class=\"ikc-flexth\">소장위치</span> <span>1층 일반도서실</span></td><td class=\"ikc-contents\"><span class=\"ikc-flexth\">청구기호</span> <span class=\"ikc-item-callno\">155.9042 R821fㅍ</span></td><!-- --><td ng-if=\"!canLocationInfo\"><span class=\"ikc-flexth\">위치</span> <span><button class=\"ikc-iconbtn\" ng-click=\"showBiblioItemLocation(item)\" title=\"위치정보\"><span class=\"k-icon k-i-location\"></span></button> <!-- --></span></td><!-- --><td><span class=\"ikc-flexth\">상태</span> <span><!-- --><span class=\"ikc-item-status\" ng-if=\"item.circulationState &amp;&amp; item.circulationState.code != 'RECALL_CHARGE' \">대출가능</span><!-- --> <!-- --> <!-- --> <span class=\"ikc-item-duedate ng-hide\" ng-show=\"item.dueDate &amp;&amp; item.circulationState.code != 'RECALL_CHARGE'\">~ </span></span></td><td class=\"ikc-func\"><span class=\"ikc-flexth\">서비스</span> <span><!-- --> <!-- --> <!-- --> <!-- --> <!-- --> <!-- --> <!-- --> <!-- --> <!-- --><button class=\"ikc-service-btn-abs\" ng-click=\"absentBookReport(item, item.absentBookReport)\" ng-if=\"canService('ABSENT_BOOK_REPORT', item.availableServices)\" title=\"제자리에 없는 도서 신고\">제</button><!-- --> <!-- --> <!-- --></span></td></tr><tr class=\"ikc-item-subitem ng-hide\" ng-show=\"item.preservationNo\"><td class=\"ikc-contents\" colspan=\"6\"><span><i class=\"k-icon k-i-lock\"></i> <span>보존번호 </span></span></td></tr><tr class=\"ikc-item-subitem ng-hide\" ng-show=\"item.donator\"><td class=\"ikc-contents\" colspan=\"6\"><span><i class=\"k-icon k-i-pin-on\"></i> <span>기증자 </span></span></td></tr><tr class=\"ikc-item-subitem ng-hide\" ng-show=\"item.supplements\"><td class=\"ikc-contents\" colspan=\"6\"><ul><!-- --></ul></td></tr></tbody><!-- --><tbody class=\"ikc-item\" ng-repeat=\"item in items | orderBy:items.itemOrder:items.reverse\"><tr><td><span class=\"ikc-flexth\">등록번호</span> <span>E0644165</span></td><td class=\"ikc-contents\"><span class=\"ikc-flexth\">소장위치</span> <span>1층 일반도서실</span></td><td class=\"ikc-contents\"><span class=\"ikc-flexth\">청구기호</span> <span class=\"ikc-item-callno\">155.9042 R821fㅍ =2</span></td><!-- --><td ng-if=\"!canLocationInfo\"><span class=\"ikc-flexth\">위치</span> <span><button class=\"ikc-iconbtn\" ng-click=\"showBiblioItemLocation(item)\" title=\"위치정보\"><span class=\"k-icon k-i-location\"></span></button> <!-- --></span></td><!-- --><td><span class=\"ikc-flexth\">상태</span> <span><!-- --><span class=\"ikc-item-status\" ng-if=\"item.circulationState &amp;&amp; item.circulationState.code != 'RECALL_CHARGE' \">대출중</span><!-- --> <!-- --> <!-- --> <span class=\"ikc-item-duedate\" ng-show=\"item.dueDate &amp;&amp; item.circulationState.code != 'RECALL_CHARGE'\">~ 2020.05.04</span></span></td><td class=\"ikc-func\"><span class=\"ikc-flexth\">서비스</span> <span><!-- --><button class=\"ikc-service-btn-hold\" ng-click=\"hold(item.barcode, items.sumHoldCount, items[0].branch.name)\" ng-if=\"canService('HOLD', item.availableServices)\" title=\"예약\">예</button><!-- --> <!-- --> <!-- --> <!-- --> <!-- --> <!-- --> <!-- --> <!-- --> <!-- --> <!-- --> <!-- --></span></td></tr><tr class=\"ikc-item-subitem ng-hide\" ng-show=\"item.preservationNo\"><td class=\"ikc-contents\" colspan=\"6\"><span><i class=\"k-icon k-i-lock\"></i> <span>보존번호 </span></span></td></tr><tr class=\"ikc-item-subitem ng-hide\" ng-show=\"item.donator\"><td class=\"ikc-contents\" colspan=\"6\"><span><i class=\"k-icon k-i-pin-on\"></i> <span>기증자 </span></span></td></tr><tr class=\"ikc-item-subitem ng-hide\" ng-show=\"item.supplements\"><td class=\"ikc-contents\" colspan=\"6\"><ul><!-- --></ul></td></tr></tbody><!-- --><tfoot class=\"ng-hide\" ng-show=\"items.sumHoldCount\"><tr><td colspan=\"6\">총 예약자 수 : <strong>0</strong></td></tr></tfoot></table><br/></div><!-- --></ng-include></div><div class=\"ng-hide\" ng-show=\"isShowItemTab==false\"><!-- --><ng-include src=\"'modules/_pyxis/search/views/detail/fn.biblio.items.shelving.around.html'\"><!-- --><div class=\"ikc-itemsShelving-loading\" ng-if=\"!isCompleted\">불러오는 중입니다. 잠시 기다려주시기 바랍니다.<div class=\"spinner\"><div class=\"rect1\"></div><div class=\"rect2\"></div><div class=\"rect3\"></div><div class=\"rect4\"></div><div class=\"rect5\"></div></div></div><!-- --><!-- --></ng-include></div><hr/></div><!-- --><!-- --><div class=\"ikc-search-detail-resources\" ng-show=\"biblioResources || aladinToc\"><h3 class=\"ikc-search-detail-subtitle ng-hide\" ng-show=\"originalBiblioResources['F'].length &gt; 0 || originalBiblioResources['W'].length &gt; 0\">관련자원</h3><!-- --> <!-- --> <!-- --><!-- --><div class=\"ikc-search-detail-resources-textcontent\" ng-if=\"totalTextResource || aladinToc\"><ul><!-- --><li class=\"ikc-active\" ng-class=\"{'ikc-active': selectedTextResourceTab == key}\" ng-click=\"switchTextResourceTab(key)\" ng-repeat=\"(key, textResources) in originalBiblioResources['T']\">초록</li><!-- --><li ng-class=\"{'ikc-active': selectedTextResourceTab == key}\" ng-click=\"switchTextResourceTab(key)\" ng-repeat=\"(key, textResources) in originalBiblioResources['T']\">목차</li><!-- --><!-- --></ul><!-- --><div class=\"ikc-active\" ng-class=\"{'ikc-active': selectedTextResourceTab == key}\" ng-repeat=\"(key, textResources) in originalBiblioResources['T']\"><p ng-bind-html=\"textResources.content | IKGNl2br\">전 세계 100만부 돌파! 세계 지성계를 사로잡은 글로벌 베스트셀러 마침내 출간!<br/>\n",
       "강력한 사실을 바탕으로 세상을 정확하게 바라보는 방법을 담은 혁명적 저작<br/>\n",
       "<br/>\n",
       "전 세계적으로 확증편향이 기승을 부리는 탈진실의 시대에, 막연한 두려움과 편견을 이기는 팩트의 중요성을 일깨우는 세계적 역작! 세계를 이해하기 위한 13가지 문제에서 인간의 평균 정답률은 16%, 침팬지는 33%. 우리는 왜 침팬지를 이기지 못하는가? 똑똑하고 현명한 사람일수록 세상의 참모습을 정확히 알지 못한다! ‘느낌’을 ‘사실’로 인식하는 인간의 비합리적 본능 10가지를 밝히고, 우리의 착각과 달리 세상이 나날이 진보하고 있음을 명확한 데이터와 통계로 증명한 놀라운 통찰. 세상을 바라보는 방식을 바꾸고 미래의 위기와 기회에 대처하기 위해 반드시 읽어야 할 필독서다. <br/>\n",
       "<br/>\n",
       "이 책에서는 다양한 분야들이 다루고 있는데 극빈층의 비율, 여성의 교육기간, 기대 수명, 자연재해 사망자 수 등 최신 통계 데이터를 바탕으로 소개된다. 언론 등에 휘둘리지 않고 정확한 정보를 얻는 것이 얼마나 중요한지 강조하면서 우리가 보편적으로 겪고 있는 부정적인 심리 해결책도 제시했다. 즉 어떤 사건에 대해서 확대해석하거나 관점을 왜곡하지 않는 법을 배우게 될 것이다.<br/>\n",
       "</p></div><!-- --><div ng-class=\"{'ikc-active': selectedTextResourceTab == key}\" ng-repeat=\"(key, textResources) in originalBiblioResources['T']\"><p ng-bind-html=\"textResources.content | IKGNl2br\">저자의 말<br/>\n",
       "머리말<br/>\n",
       "<br/>\n",
       "1장 간극 본능<br/>\n",
       "<br/>\n",
       "일은 이렇게 시작되었다<br/>\n",
       "‘세상은 둘로 나뉜다’는 거대 오해<br/>\n",
       "첫 번째 거대 오해 추적기<br/>\n",
       "사람들 머릿속에 있는 그림은 무엇이 문제일까?<br/>\n",
       "짐승을 잡아라<br/>\n",
       "도와줘요! 다수가 사라졌어요<br/>\n",
       "그렇다면 ‘우리’는 ‘그들’을 뭐라고 불러야 할까? 네 단계 명명법<br/>\n",
       "간극 본능<br/>\n",
       "간극 본능을 어떻게 억제할까?<br/>\n",
       "사실충실성<br/>\n",
       "<br/>\n",
       "2장 부정 본능<br/>\n",
       "<br/>\n",
       "하수구에서 빠져나오기<br/>\n",
       "‘세계는 점점 나빠진다’는 거대 오해<br/>\n",
       "치유로서 통계<br/>\n",
       "부정 본능<br/>\n",
       "부정 본능을 어떻게 억제할까?<br/>\n",
       "나는 감사하고 싶다, 사회에<br/>\n",
       "사실충실성<br/>\n",
       "<br/>\n",
       "3장 직선 본능<br/>\n",
       "<br/>\n",
       "이제까지 본 가장 섬뜩한 그래프<br/>\n",
       "세계 인구는 ‘단지’ 증가하고 또 증가할 뿐이라는 거대 오해<br/>\n",
       "직선 본능<br/>\n",
       "인구 곡선 형태<br/>\n",
       "잠깐, ‘그들은’ 여전히 자녀가 많다<br/>\n",
       "생존자가 많으면 왜 인구가 감소할까?<br/>\n",
       "직선 본능을 어떻게 억제할까? 모든 선이 다 직선은 아니다<br/>\n",
       "하나의 곡선에서 어느 부분을 보는가?<br/>\n",
       "사실충실성<br/>\n",
       "<br/>\n",
       "4장 공포 본능<br/>\n",
       "<br/>\n",
       "바닥에 흥건한 피<br/>\n",
       "주목 필터<br/>\n",
       "공포 본능<br/>\n",
       "자연재해: 이런 시대에<br/>\n",
       "보이지 않는 4000만 대의 비행기<br/>\n",
       "전쟁과 갈등<br/>\n",
       "오염<br/>\n",
       "테러<br/>\n",
       "공포 대 위험: 실제로 위험한 것을 두려워하기<br/>\n",
       "사실충실성<br/>\n",
       "<br/>\n",
       "5장 크기 본능<br/>\n",
       "<br/>\n",
       "내 눈에 보이지 않는 죽음<br/>\n",
       "크기 본능<br/>\n",
       "크기 본능을 어떻게 억제할까?<br/>\n",
       "80/20 법칙<br/>\n",
       "수를 나눠보라<br/>\n",
       "비교하고 나눠라<br/>\n",
       "사실충실성<br/>\n",
       "<br/>\n",
       "6장 일반화 본능<br/>\n",
       "<br/>\n",
       "저녁 식사가 준비되었습니다<br/>\n",
       "일반화 본능<br/>\n",
       "만만찮은 현실<br/>\n",
       "일반화 본능을 어떻게 억제할까?<br/>\n",
       "사실충실성<br/>\n",
       "<br/>\n",
       "7장 운명 본능<br/>\n",
       "<br/>\n",
       "바늘귀 통과하기<br/>\n",
       "운명 본능<br/>\n",
       "바위는 어떻게 움직이는가?<br/>\n",
       "운명 본능을 어떻게 억제할까?<br/>\n",
       "내게는 어떤 비전도 없다<br/>\n",
       "사실충실성<br/>\n",
       "<br/>\n",
       "8장 단일 관점 본능<br/>\n",
       "<br/>\n",
       "누굴 믿을 수 있을까?<br/>\n",
       "단일 관점 본능<br/>\n",
       "전문직: 전문가와 활동가<br/>\n",
       "이념<br/>\n",
       "사실충실성<br/>\n",
       "<br/>\n",
       "9장 비난 본능<br/>\n",
       "<br/>\n",
       "할머니를 패자고?<br/>\n",
       "비난 본능<br/>\n",
       "비난 게임<br/>\n",
       "더 유력한 용의자<br/>\n",
       "누구를 비난해야 할까?<br/>\n",
       "사실충실성<br/>\n",
       "<br/>\n",
       "10장 다급함 본능<br/>\n",
       "<br/>\n",
       "도로 차단막과 정신 차단막<br/>\n",
       "다급함 본능<br/>\n",
       "다급함 본능을 억제하는 법을 배우세요. 오늘 하루 특가!<br/>\n",
       "우리가 ‘정말로’ 걱정해야 할 세계적 위험 다섯 가지<br/>\n",
       "사실충실성<br/>\n",
       "<br/>\n",
       "11장 사실충실성 실천하기<br/>\n",
       "<br/>\n",
       "사실충실성이 어떻게 내 목숨을 구했나?<br/>\n",
       "사실충실성 실천하기<br/>\n",
       "마지막 당부<br/>\n",
       "<br/>\n",
       "사실에 근거한 경험 법칙<br/>\n",
       "맺음말<br/>\n",
       "감사의 말<br/>\n",
       "부록_ 내 나라는 몇 점일까?<br/>\n",
       "참고자료<br/>\n",
       "출처<br/>\n",
       "</p></div><!-- --><!-- --><hr/></div><!-- --></div><!-- --><div ui-view=\"absentBookReport\"></div><!-- --><div ui-view=\"cclRequest\"></div><!-- --><div ui-view=\"fclRequest\"></div><!-- --><div ui-view=\"biblioItemLocation\"></div><!-- --><div ui-view=\"issueBiblioItemLocation\"></div><!-- --><div ui-view=\"viewer\"></div><!-- --><div ui-view=\"mycollection\"></div><!-- --><div ui-view=\"pdlRequest\"></div><!-- --><div ui-view=\"iblRequest\"></div><!-- --><div ui-view=\"smsRequest\"></div><!-- --><div ui-view=\"readRequest\"></div><!-- --><div ui-view=\"reservationRequest\"></div><!-- --><div ui-view=\"email\"></div><!-- --><div ui-view=\"biblioResource\"></div><!-- --><div ui-view=\"biblioItemLocationInfo\"></div></div></div><div class=\"ikc-search-detail-side\"><!-- --><div ui-view=\"side\"><div class=\"search-detail-like\" id=\"search-detail-like\"><h3 class=\"ikc-search-detail-subtitle visible-sm visible-xs\">좋아요</h3><div class=\"ikc-biblio-likes\"><!-- --> <span><strong>0</strong>명이 좋아합니다.</span><br/><!-- --><span class=\"ikc-loginguide\" ng-if=\"!isMember\">로그인 후 이용하실 수 있습니다.</span><!-- --> <!-- --></div></div><!-- --><div class=\"search-detail-review\" id=\"search-detail-review\"><h3 class=\"ikc-search-detail-subtitle\">서평 <!-- --><span class=\"ikc-baege\" ng-if=\"reviews.totalCount &gt; 0\">1</span><!-- --></h3><div class=\"ikc-reviews\"><span class=\"ng-hide\" ng-show=\"!reviews.totalCount\">첫 서평을 작성해 주세요.</span><!-- --><ul class=\"ikc-biblio-reviews\" ng-if=\"reviews.totalCount &gt; 0\"><!-- --><li ng-repeat=\"review in reviews.list | limitTo : reviewDisplayLimit\"><a href=\"\" ng-click=\"goReview()\"><span>팩트풀니스: 침팬지보다 못한 사람들?</span></a></li><!-- --></ul><!-- --><!-- --><span class=\"ikc-loginguide\" ng-if=\"!isMember\">로그인 후 이용하실 수 있습니다.</span><!-- --> <!-- --> <!-- --></div><!-- --><div ui-view=\"review\"></div></div><!-- --><div id=\"search-detail-related-popular-charged-book\" ng-if=\"relatedPopularChargedBooks.totalCount &gt; 0\"><h3 class=\"ikc-search-detail-subtitle\">관련 인기대출도서</h3><div class=\"ikc-related-popular-charged-book\"><!-- --><div ng-repeat=\"item in relatedPopularChargedBooks.list\"><a href=\"#/search/detail/4343087\" ng-href=\"#/search/detail/4343087\"><ik-book-thumb bid=\"item.id\" isbn=\"item.isbn\" thumbnail=\"item.thumbnail\" title=\"자존감 수업 :하루에 하나, 나를 사랑하게 되는 자존감 회복 훈련\"><div class=\"ikc-bookcover\">\n",
       "<img alt=\"자존감 수업 :하루에 하나, 나를 사랑하게 되는 자존감 회복 훈련\" ng-src=\"https://discover.duksung.ac.kr/pyxis-api/attachments/biblio/thumbnails/e5bf19d7-ffc5-42b7-9745-e446683225a0\" onerror=\"this.src='./assets/images/duksung/common/default-item-img.jpg'\" src=\"https://discover.duksung.ac.kr/pyxis-api/attachments/biblio/thumbnails/e5bf19d7-ffc5-42b7-9745-e446683225a0\"/>\n",
       "</div></ik-book-thumb><p><span>자존감 수업 :하루에 하나, 나를 사</span> <!-- --><span ng-if=\"item.titleStatement.length &gt; 21\">...</span><!-- --> <span ng-show=\"item.author\">/</span> <span>윤홍균</span> <em><b>147</b>회 대출</em></p></a></div><!-- --><div ng-repeat=\"item in relatedPopularChargedBooks.list\"><a href=\"#/search/detail/376384\" ng-href=\"#/search/detail/376384\"><ik-book-thumb bid=\"item.id\" isbn=\"item.isbn\" thumbnail=\"item.thumbnail\" title=\"MMPI-2 :성격 및 정신병리평가\"><div class=\"ikc-bookcover\">\n",
       "<img alt=\"MMPI-2 :성격 및 정신병리평가\" ng-src=\"https://discover.duksung.ac.kr/pyxis-api/attachments/biblio/thumbnails/d8563db8-89d8-44fc-ad2e-17207bf6c0e3\" onerror=\"this.src='./assets/images/duksung/common/default-item-img.jpg'\" src=\"https://discover.duksung.ac.kr/pyxis-api/attachments/biblio/thumbnails/d8563db8-89d8-44fc-ad2e-17207bf6c0e3\"/>\n",
       "</div></ik-book-thumb><p><span>MMPI-2 :성격 및 정신병리평가</span> <!-- --> <span ng-show=\"item.author\">/</span> <span>Graham, Jo</span> <em><b>49</b>회 대출</em></p></a></div><!-- --><div ng-repeat=\"item in relatedPopularChargedBooks.list\"><a href=\"#/search/detail/3825920\" ng-href=\"#/search/detail/3825920\"><ik-book-thumb bid=\"item.id\" isbn=\"item.isbn\" thumbnail=\"item.thumbnail\" title=\"상처의 덫에서 행복의 꽃 피우기 :용서와 화해 실천서\"><div class=\"ikc-bookcover\">\n",
       "<img alt=\"상처의 덫에서 행복의 꽃 피우기 :용서와 화해 실천서\" ng-src=\"https://discover.duksung.ac.kr/pyxis-api/attachments/biblio/thumbnails/a57acb44-a8d9-4126-8df2-1e4b461b5cae\" onerror=\"this.src='./assets/images/duksung/common/default-item-img.jpg'\" src=\"https://discover.duksung.ac.kr/pyxis-api/attachments/biblio/thumbnails/a57acb44-a8d9-4126-8df2-1e4b461b5cae\"/>\n",
       "</div></ik-book-thumb><p><span>상처의 덫에서 행복의 꽃 피우기 :용</span> <!-- --><span ng-if=\"item.titleStatement.length &gt; 21\">...</span><!-- --> <span ng-show=\"item.author\">/</span> <span>오영희</span> <em><b>43</b>회 대출</em></p></a></div><!-- --><div ng-repeat=\"item in relatedPopularChargedBooks.list\"><a href=\"#/search/detail/4389257\" ng-href=\"#/search/detail/4389257\"><ik-book-thumb bid=\"item.id\" isbn=\"item.isbn\" thumbnail=\"item.thumbnail\" title=\"센서티브 :남들보다 민감한 사람을 위한 섬세한 심리학\"><div class=\"ikc-bookcover\">\n",
       "<img alt=\"센서티브 :남들보다 민감한 사람을 위한 섬세한 심리학\" ng-src=\"https://discover.duksung.ac.kr/pyxis-api/attachments/biblio/thumbnails/d1ba4676-c841-434f-b1b8-ff846be61a83\" onerror=\"this.src='./assets/images/duksung/common/default-item-img.jpg'\" src=\"https://discover.duksung.ac.kr/pyxis-api/attachments/biblio/thumbnails/d1ba4676-c841-434f-b1b8-ff846be61a83\"/>\n",
       "</div></ik-book-thumb><p><span>센서티브 :남들보다 민감한 사람을 위</span> <!-- --><span ng-if=\"item.titleStatement.length &gt; 21\">...</span><!-- --> <span ng-show=\"item.author\">/</span> <span>Sand, Ilse</span> <em><b>43</b>회 대출</em></p></a></div><!-- --><div ng-repeat=\"item in relatedPopularChargedBooks.list\"><a href=\"#/search/detail/1899055\" ng-href=\"#/search/detail/1899055\"><ik-book-thumb bid=\"item.id\" isbn=\"item.isbn\" thumbnail=\"item.thumbnail\" title=\"(임상심리 수련생을 위한)종합심리평가 보고서 작성법 =Psychological assessment report writing : K-WAIS(K-WISC-III), Rorschach, HTP, MMPI II, SCT\"><div class=\"ikc-bookcover\">\n",
       "<img alt=\"(임상심리 수련생을 위한)종합심리평가 보고서 작성법 =Psychological assessment report writing : K-WAIS(K-WISC-III), Rorschach, HTP, MMPI II, SCT\" ng-src=\"https://discover.duksung.ac.kr/pyxis-api/attachments/biblio/thumbnails/2eb94676-0872-446a-8eb7-4c63fe05ab23\" onerror=\"this.src='./assets/images/duksung/common/default-item-img.jpg'\" src=\"https://discover.duksung.ac.kr/pyxis-api/attachments/biblio/thumbnails/2eb94676-0872-446a-8eb7-4c63fe05ab23\"/>\n",
       "</div></ik-book-thumb><p><span>(임상심리 수련생을 위한)종합심리평가</span> <!-- --><span ng-if=\"item.titleStatement.length &gt; 21\">...</span><!-- --> <span ng-show=\"item.author\">/</span> <span>성태훈</span> <em><b>35</b>회 대출</em></p></a></div><!-- --></div></div><!-- --><!-- --><div id=\"search-detail-similar\" ng-if=\"similars.totalCount &gt; 0\"><h3 class=\"ikc-search-detail-subtitle\">유사컨텐츠</h3><div class=\"ikc-similars\"><ul class=\"ikc-biblio-reviews\"><!-- --><li ng-repeat=\"similar in similars.list | limitTo : similarDisplayLimit\"><a href=\"\" ng-click=\"goDetail(similar.id)\"><span>Factfulness :ten reasons we're wrong about the world--and why things are better than you think</span> <!-- --><span ng-if=\"similar.publication\">(New York :Flatiron Books,2018.)</span><!-- --></a></li><!-- --><li ng-repeat=\"similar in similars.list | limitTo : similarDisplayLimit\"><a href=\"\" ng-click=\"goDetail(similar.id)\"><span>스트레스 =Stress :당신을 병들게 하는 스트레스의 모든 것</span> <!-- --><span ng-if=\"similar.publication\">(서울 :사이언스북스,2008)</span><!-- --></a></li><!-- --><li ng-repeat=\"similar in similars.list | limitTo : similarDisplayLimit\"><a href=\"\" ng-click=\"goDetail(similar.id)\"><span>Reducing stress</span> <!-- --><span ng-if=\"similar.publication\">(Princeton, NJ :Films for the Humanities &amp; Sciences,2005.)</span><!-- --></a></li><!-- --></ul></div></div><!-- --></div></div></div></div></div></div></div></div><!-- --><div class=\"ikc-footer-wrap\" ui-view=\"footer\"><div class=\"ikc-footer\"><div class=\"ds-footer-top\"><h1 class=\"ikc-bland-name\"><span>덕성여자대학교 도서관</span></h1><div class=\"ikc-copyright\"><ul><li class=\"privacy\"><a href=\"http://www.duksung.ac.kr/siteinfo/site_01.jsp\" target=\"_blank\">개인정보처리방침</a></li><li><a href=\"http://www.duksung.ac.kr/siteinfo/site_02.jsp\" target=\"_blank\">이메일무단수집거부</a></li></ul><p>(우)132-714 서울시 도봉구 삼양로 144길 33 덕성여자대학교도서관</p><br/>Tel : 02)901-8095, 8097, 8098, 8100</div><a class=\"ds-contact\" href=\"mailto:library@duksung.ac.kr\"><img class=\"contact-icon\" src=\"../assets/images/duksung/main/ds-footer-icon.gif\" title=\"문의사항 아이콘\"/>문의사항/Contact Us</a> <a class=\"ds-static-top\" ng-click=\"Top()\">위로가기</a><ul class=\"ds-sns-wrap\"><li><a class=\"sns-t\" href=\"https://twitter.com/DuksungLib\" target=\"_blank\"><span>덕성여대도서관 Twitter</span></a></li><li><a class=\"sns-f\" href=\"https://www.facebook.com/DuksungLibrary/\" target=\"_blank\"><span>덕성여대도서관 Facebook</span></a></li><li><a class=\"sns-y\" href=\"https://www.youtube.com/channel/UCgwk-Ck9H65UtRhpnLy1fcw\" target=\"_blank\"><span>덕성여대도서관 Youtube</span></a></li></ul></div></div><div class=\"ds-footer-bottom\"><p>Copyright(c) 2015 Duksung Women’s University Library.<br class=\"visible-xs\"/>All rights Reserved.</p></div></div><!-- --></div>\n",
       "<script async=\"\" crossorigin=\"anonymous\" src=\"https://connect.facebook.net/ko_KR/sdk.js?hash=bb475149e23c81e7ad909bbaea10b569&amp;ua=modern_es6\"></script><script id=\"facebook-jssdk\" src=\"//connect.facebook.net/ko_KR/sdk.js#xfbml=1&amp;version=v2.5\"></script><script async=\"\" src=\"https://www.google-analytics.com/analytics.js\"></script><script src=\"require.js\"></script>\n",
       "<script src=\"main.js?v=2020.1.14.18\"></script>\n",
       "<script>\n",
       "  (function(i,s,o,g,r,a,m){i['GoogleAnalyticsObject']=r;i[r]=i[r]||function(){\n",
       "  (i[r].q=i[r].q||[]).push(arguments)},i[r].l=1*new Date();a=s.createElement(o),\n",
       "  m=s.getElementsByTagName(o)[0];a.async=1;a.src=g;m.parentNode.insertBefore(a,m)\n",
       "  })(window,document,'script','https://www.google-analytics.com/analytics.js','ga');\n",
       "\n",
       "  ga('create', 'UA-76873130-1', 'auto');\n",
       "  // ga('send', 'pageview');\n",
       "\n",
       "</script>\n",
       "<div class=\"k-list-container k-popup k-group k-reset\" data-role=\"popup\" style=\"position: absolute; height: 200px; display: none;\"><div class=\"k-group-header\" style=\"display:none\"></div><div style=\"overflow: auto; position: relative; height: 200px;\" unselectable=\"on\"><ul aria-hidden=\"true\" aria-live=\"polite\" class=\"k-list k-reset\" data-role=\"staticlist\" role=\"listbox\" tabindex=\"-1\" unselectable=\"on\"><li aria-selected=\"true\" class=\"k-item k-state-focused k-state-selected\" data-offset-index=\"0\" id=\"3379d28d-bb98-4a64-bbd9-6cc11f9ad633\" role=\"option\" tabindex=\"-1\" unselectable=\"on\">단행본</li><li class=\"k-item\" data-offset-index=\"1\" role=\"option\" tabindex=\"-1\" unselectable=\"on\">계속자료</li><li class=\"k-item\" data-offset-index=\"2\" role=\"option\" tabindex=\"-1\" unselectable=\"on\">전자자료</li><li class=\"k-item\" data-offset-index=\"3\" role=\"option\" tabindex=\"-1\" unselectable=\"on\">지도</li><li class=\"k-item\" data-offset-index=\"4\" role=\"option\" tabindex=\"-1\" unselectable=\"on\">음악/녹음자료</li><li class=\"k-item\" data-offset-index=\"5\" role=\"option\" tabindex=\"-1\" unselectable=\"on\">시청각자료</li><li class=\"k-item\" data-offset-index=\"6\" role=\"option\" tabindex=\"-1\" unselectable=\"on\">고서</li><li class=\"k-item\" data-offset-index=\"7\" role=\"option\" tabindex=\"-1\" unselectable=\"on\">복합자료</li><li class=\"k-item\" data-offset-index=\"8\" role=\"option\" tabindex=\"-1\" unselectable=\"on\">기사</li><li class=\"k-item\" data-offset-index=\"9\" role=\"option\" tabindex=\"-1\" unselectable=\"on\">논문</li><li class=\"k-item\" data-offset-index=\"10\" role=\"option\" tabindex=\"-1\" unselectable=\"on\">보고서</li><li class=\"k-item\" data-offset-index=\"11\" role=\"option\" tabindex=\"-1\" unselectable=\"on\">DVD</li><li class=\"k-item\" data-offset-index=\"12\" role=\"option\" tabindex=\"-1\" unselectable=\"on\">비디오</li><li class=\"k-item\" data-offset-index=\"13\" role=\"option\" tabindex=\"-1\" unselectable=\"on\">오디오CD</li><li class=\"k-item\" data-offset-index=\"14\" role=\"option\" tabindex=\"-1\" unselectable=\"on\">CD-ROM</li><li class=\"k-item\" data-offset-index=\"15\" role=\"option\" tabindex=\"-1\" unselectable=\"on\">카세트</li><li class=\"k-item\" data-offset-index=\"16\" role=\"option\" tabindex=\"-1\" unselectable=\"on\">슬라이드</li><li class=\"k-item\" data-offset-index=\"17\" role=\"option\" tabindex=\"-1\" unselectable=\"on\">e-Learning(인터넷강의)</li><li class=\"k-item\" data-offset-index=\"18\" role=\"option\" tabindex=\"-1\" unselectable=\"on\">DVD-ROM</li></ul></div></div><div class=\"k-list-container k-popup k-group k-reset\" data-role=\"popup\" style=\"position: absolute; height: auto; display: none;\"><div class=\"k-group-header\" style=\"display:none\"></div><div style=\"overflow: auto; position: relative; height: auto;\" unselectable=\"on\"><ul aria-hidden=\"true\" aria-live=\"polite\" class=\"k-list k-reset\" data-role=\"staticlist\" role=\"listbox\" tabindex=\"-1\" unselectable=\"on\"><li class=\"k-item k-state-focused\" data-offset-index=\"0\" id=\"a208febb-a684-4030-ae70-92e219c00f89\" role=\"option\" tabindex=\"-1\" unselectable=\"on\">파일 자원</li><li class=\"k-item\" data-offset-index=\"1\" role=\"option\" tabindex=\"-1\" unselectable=\"on\">텍스트 자료</li><li class=\"k-item\" data-offset-index=\"2\" role=\"option\" tabindex=\"-1\" unselectable=\"on\">웹 자원</li></ul></div></div><div aria-hidden=\"true\" class=\"k-calendar-container k-popup k-group k-reset\" data-role=\"popup\" style=\"display: none; position: absolute;\"></div><div aria-hidden=\"true\" class=\"k-calendar-container k-popup k-group k-reset\" data-role=\"popup\" style=\"display: none; position: absolute;\"></div><div aria-hidden=\"true\" class=\"k-calendar-container k-popup k-group k-reset\" data-role=\"popup\" style=\"display: none; position: absolute;\"></div><div aria-hidden=\"true\" class=\"k-calendar-container k-popup k-group k-reset\" data-role=\"popup\" style=\"display: none; position: absolute;\"></div><div class=\"k-list-container k-popup k-group k-reset\" data-role=\"popup\" style=\"display: none; position: absolute;\"><div class=\"k-list-optionlabel\">항목선택</div><div class=\"k-group-header\" style=\"display:none\"></div><div style=\"overflow: auto; position: relative;\" unselectable=\"on\"><ul aria-hidden=\"true\" aria-live=\"off\" class=\"k-list k-reset\" data-role=\"staticlist\" role=\"listbox\" tabindex=\"-1\" unselectable=\"on\"></ul></div></div><div class=\"k-list-container k-popup k-group k-reset\" data-role=\"popup\" style=\"display: none; position: absolute;\"><div class=\"k-list-optionlabel\">정렬선택</div><div class=\"k-group-header\" style=\"display:none\"></div><div style=\"overflow: auto; position: relative;\" unselectable=\"on\"><ul aria-hidden=\"true\" aria-live=\"off\" class=\"k-list k-reset\" data-role=\"staticlist\" role=\"listbox\" tabindex=\"-1\" unselectable=\"on\"></ul></div></div><div class=\"k-list-container k-popup k-group k-reset\" data-role=\"popup\" style=\"position: absolute; height: auto; display: none;\"><div class=\"k-group-header\" style=\"display:none\"></div><div style=\"overflow: auto; position: relative; height: auto;\" unselectable=\"on\"><ul aria-hidden=\"true\" aria-live=\"off\" class=\"k-list k-reset\" data-role=\"staticlist\" role=\"listbox\" tabindex=\"-1\" unselectable=\"on\"><li class=\"k-item\" data-offset-index=\"0\" role=\"option\" tabindex=\"-1\" unselectable=\"on\">10건</li><li aria-selected=\"true\" class=\"k-item k-state-selected k-state-focused\" data-offset-index=\"1\" id=\"9d86ef74-6788-4641-ae02-38e2efadb7d8\" role=\"option\" tabindex=\"-1\" unselectable=\"on\">20건</li><li class=\"k-item\" data-offset-index=\"2\" role=\"option\" tabindex=\"-1\" unselectable=\"on\">50건</li><li class=\"k-item\" data-offset-index=\"3\" role=\"option\" tabindex=\"-1\" unselectable=\"on\">100건</li></ul></div></div><div aria-hidden=\"true\" class=\"k-calendar-container k-popup k-group k-reset\" data-role=\"popup\" style=\"display: none; position: absolute;\"></div><div aria-hidden=\"true\" class=\"k-calendar-container k-popup k-group k-reset\" data-role=\"popup\" style=\"display: none; position: absolute;\"></div><div class=\"k-widget k-window\" data-role=\"draggable\" style=\"padding-top: 37px; min-width: 90px; min-height: 50px; width: 700px; height: 500px; display: none; top: 774px; left: 17px;\"><div class=\"k-window-titlebar k-header\" style=\"margin-top: -37px;\"> <span class=\"k-window-title\">MARC보기</span><div class=\"k-window-actions\"><a class=\"k-window-action k-link\" href=\"#\" role=\"button\"><span class=\"k-icon k-i-close\" role=\"presentation\">Close</span></a></div></div><div class=\"k-window-content k-content\" data-role=\"window\" k-draggable=\"true\" k-height=\"500\" k-modal=\"true\" k-resizable=\"false\" k-title=\"'MARC보기'\" k-visible=\"false\" k-width=\"700\" kendo-window=\"marcContentModal\" tabindex=\"0\"><table class=\"ikc-marc-content\"><caption class=\"ikc-blind\">MARC정보</caption><colgroup><col style=\"width: 40px\"/><col style=\"width: 20px\"/><col/></colgroup><thead class=\"ikc-blind\"><tr><th scope=\"col\">태그</th><th scope=\"col\">지시기호</th><th scope=\"col\">태그데이타</th></tr></thead><tbody><tr><td>LDR</td><td></td><td>00984nam a2200253 c 4500</td></tr><!-- --><tr ng-repeat=\"marc in biblioSummary.content['fields']\"><td class=\"ikc-marc-tag\">001</td><td><!-- --></td><td><!-- --><span class=\"ikc-marc-subfield\" ng-if=\"marc[0] * 1 &lt; 10\">0004829644</span><!-- --> <!-- --></td></tr><!-- --><tr ng-repeat=\"marc in biblioSummary.content['fields']\"><td class=\"ikc-marc-tag\">005</td><td><!-- --></td><td><!-- --><span class=\"ikc-marc-subfield\" ng-if=\"marc[0] * 1 &lt; 10\">20190329114707</span><!-- --> <!-- --></td></tr><!-- --><tr ng-repeat=\"marc in biblioSummary.content['fields']\"><td class=\"ikc-marc-tag\">008</td><td><!-- --></td><td><!-- --><span class=\"ikc-marc-subfield\" ng-if=\"marc[0] * 1 &lt; 10\">190306s2019    ggka     b    001a  kor  </span><!-- --> <!-- --></td></tr><!-- --><tr ng-repeat=\"marc in biblioSummary.content['fields']\"><td class=\"ikc-marc-tag\">020</td><td><!-- --><span class=\"ikc-marc-indicators\" ng-if=\"marc[0] * 1 &gt; 10\"><!-- --> <!-- --><span ng-if=\"marc[1] == ' '\"> </span><!-- --> <span> </span></span><!-- --></td><td><!-- --> <!-- --><!-- --><span class=\"ikc-marc-subfield\" ng-if=\"marc[0] * 1 &gt; 10\" ng-repeat=\"subfieldCode in marc[3]\"><span class=\"ikc-delimiter\">▼a</span><span>9788934985068</span><!-- --></span><!-- --><!-- --><!-- --><span class=\"ikc-marc-subfield\" ng-if=\"marc[0] * 1 &gt; 10\" ng-repeat=\"subfieldCode in marc[3]\"><span class=\"ikc-delimiter\">▼g</span><span>03300 :</span><!-- --></span><!-- --><!-- --><!-- --><span class=\"ikc-marc-subfield\" ng-if=\"marc[0] * 1 &gt; 10\" ng-repeat=\"subfieldCode in marc[3]\"><span class=\"ikc-delimiter\">▼c</span><span>\\19800</span><!-- --><span class=\"ikc-delimiter\" ng-if=\"$last\">▲</span><!-- --></span><!-- --><!-- --></td></tr><!-- --><tr ng-repeat=\"marc in biblioSummary.content['fields']\"><td class=\"ikc-marc-tag\">040</td><td><!-- --><span class=\"ikc-marc-indicators\" ng-if=\"marc[0] * 1 &gt; 10\"><!-- --> <!-- --><span ng-if=\"marc[1] == ' '\"> </span><!-- --> <span> </span></span><!-- --></td><td><!-- --> <!-- --><!-- --><span class=\"ikc-marc-subfield\" ng-if=\"marc[0] * 1 &gt; 10\" ng-repeat=\"subfieldCode in marc[3]\"><span class=\"ikc-delimiter\">▼a</span><span>211019</span><!-- --><span class=\"ikc-delimiter\" ng-if=\"$last\">▲</span><!-- --></span><!-- --><!-- --></td></tr><!-- --><tr ng-repeat=\"marc in biblioSummary.content['fields']\"><td class=\"ikc-marc-tag\">041</td><td><!-- --><span class=\"ikc-marc-indicators\" ng-if=\"marc[0] * 1 &gt; 10\"><!-- --><span ng-if=\"marc[1] != ' '\">1</span><!-- --> <!-- --> <span> </span></span><!-- --></td><td><!-- --> <!-- --><!-- --><span class=\"ikc-marc-subfield\" ng-if=\"marc[0] * 1 &gt; 10\" ng-repeat=\"subfieldCode in marc[3]\"><span class=\"ikc-delimiter\">▼a</span><span>kor</span><!-- --></span><!-- --><!-- --><!-- --><span class=\"ikc-marc-subfield\" ng-if=\"marc[0] * 1 &gt; 10\" ng-repeat=\"subfieldCode in marc[3]\"><span class=\"ikc-delimiter\">▼h</span><span>eng</span><!-- --><span class=\"ikc-delimiter\" ng-if=\"$last\">▲</span><!-- --></span><!-- --><!-- --></td></tr><!-- --><tr ng-repeat=\"marc in biblioSummary.content['fields']\"><td class=\"ikc-marc-tag\">082</td><td><!-- --><span class=\"ikc-marc-indicators\" ng-if=\"marc[0] * 1 &gt; 10\"><!-- --> <!-- --><span ng-if=\"marc[1] == ' '\"> </span><!-- --> <span> </span></span><!-- --></td><td><!-- --> <!-- --><!-- --><span class=\"ikc-marc-subfield\" ng-if=\"marc[0] * 1 &gt; 10\" ng-repeat=\"subfieldCode in marc[3]\"><span class=\"ikc-delimiter\">▼a</span><span>155.9042</span><!-- --></span><!-- --><!-- --><!-- --><span class=\"ikc-marc-subfield\" ng-if=\"marc[0] * 1 &gt; 10\" ng-repeat=\"subfieldCode in marc[3]\"><span class=\"ikc-delimiter\">▼2</span><span>22</span><!-- --><span class=\"ikc-delimiter\" ng-if=\"$last\">▲</span><!-- --></span><!-- --><!-- --></td></tr><!-- --><tr ng-repeat=\"marc in biblioSummary.content['fields']\"><td class=\"ikc-marc-tag\">090</td><td><!-- --><span class=\"ikc-marc-indicators\" ng-if=\"marc[0] * 1 &gt; 10\"><!-- --> <!-- --><span ng-if=\"marc[1] == ' '\"> </span><!-- --> <span> </span></span><!-- --></td><td><!-- --> <!-- --><!-- --><span class=\"ikc-marc-subfield\" ng-if=\"marc[0] * 1 &gt; 10\" ng-repeat=\"subfieldCode in marc[3]\"><span class=\"ikc-delimiter\">▼a</span><span>155.9042</span><!-- --></span><!-- --><!-- --><!-- --><span class=\"ikc-marc-subfield\" ng-if=\"marc[0] * 1 &gt; 10\" ng-repeat=\"subfieldCode in marc[3]\"><span class=\"ikc-delimiter\">▼b</span><span>R821fㅍ</span><!-- --><span class=\"ikc-delimiter\" ng-if=\"$last\">▲</span><!-- --></span><!-- --><!-- --></td></tr><!-- --><tr ng-repeat=\"marc in biblioSummary.content['fields']\"><td class=\"ikc-marc-tag\">100</td><td><!-- --><span class=\"ikc-marc-indicators\" ng-if=\"marc[0] * 1 &gt; 10\"><!-- --><span ng-if=\"marc[1] != ' '\">1</span><!-- --> <!-- --> <span> </span></span><!-- --></td><td><!-- --> <!-- --><!-- --><span class=\"ikc-marc-subfield\" ng-if=\"marc[0] * 1 &gt; 10\" ng-repeat=\"subfieldCode in marc[3]\"><span class=\"ikc-delimiter\">▼a</span><span>Rosling, Hans,</span><!-- --></span><!-- --><!-- --><!-- --><span class=\"ikc-marc-subfield\" ng-if=\"marc[0] * 1 &gt; 10\" ng-repeat=\"subfieldCode in marc[3]\"><span class=\"ikc-delimiter\">▼d</span><span>1948-2017</span><!-- --><span class=\"ikc-delimiter\" ng-if=\"$last\">▲</span><!-- --></span><!-- --><!-- --></td></tr><!-- --><tr ng-repeat=\"marc in biblioSummary.content['fields']\"><td class=\"ikc-marc-tag\">245</td><td><!-- --><span class=\"ikc-marc-indicators\" ng-if=\"marc[0] * 1 &gt; 10\"><!-- --><span ng-if=\"marc[1] != ' '\">1</span><!-- --> <!-- --> <span>0</span></span><!-- --></td><td><!-- --> <!-- --><!-- --><span class=\"ikc-marc-subfield\" ng-if=\"marc[0] * 1 &gt; 10\" ng-repeat=\"subfieldCode in marc[3]\"><span class=\"ikc-delimiter\">▼a</span><span>팩트풀니스 :</span><!-- --></span><!-- --><!-- --><!-- --><span class=\"ikc-marc-subfield\" ng-if=\"marc[0] * 1 &gt; 10\" ng-repeat=\"subfieldCode in marc[3]\"><span class=\"ikc-delimiter\">▼b</span><span>우리가 세상을 오해하는 10가지 이유와 세상이 생각보다 괜찮은 이유 /</span><!-- --></span><!-- --><!-- --><!-- --><span class=\"ikc-marc-subfield\" ng-if=\"marc[0] * 1 &gt; 10\" ng-repeat=\"subfieldCode in marc[3]\"><span class=\"ikc-delimiter\">▼d</span><span>한스 로슬링,</span><!-- --></span><!-- --><!-- --><!-- --><span class=\"ikc-marc-subfield\" ng-if=\"marc[0] * 1 &gt; 10\" ng-repeat=\"subfieldCode in marc[3]\"><span class=\"ikc-delimiter\">▼e</span><span>올라 로슬링,</span><!-- --></span><!-- --><!-- --><!-- --><span class=\"ikc-marc-subfield\" ng-if=\"marc[0] * 1 &gt; 10\" ng-repeat=\"subfieldCode in marc[3]\"><span class=\"ikc-delimiter\">▼e</span><span>안나 로슬링 뢴룬드 [공]지음 ;</span><!-- --></span><!-- --><!-- --><!-- --><span class=\"ikc-marc-subfield\" ng-if=\"marc[0] * 1 &gt; 10\" ng-repeat=\"subfieldCode in marc[3]\"><span class=\"ikc-delimiter\">▼e</span><span>이창신 옮김</span><!-- --><span class=\"ikc-delimiter\" ng-if=\"$last\">▲</span><!-- --></span><!-- --><!-- --></td></tr><!-- --><tr ng-repeat=\"marc in biblioSummary.content['fields']\"><td class=\"ikc-marc-tag\">260</td><td><!-- --><span class=\"ikc-marc-indicators\" ng-if=\"marc[0] * 1 &gt; 10\"><!-- --> <!-- --><span ng-if=\"marc[1] == ' '\"> </span><!-- --> <span> </span></span><!-- --></td><td><!-- --> <!-- --><!-- --><span class=\"ikc-marc-subfield\" ng-if=\"marc[0] * 1 &gt; 10\" ng-repeat=\"subfieldCode in marc[3]\"><span class=\"ikc-delimiter\">▼a</span><span>파주 :</span><!-- --></span><!-- --><!-- --><!-- --><span class=\"ikc-marc-subfield\" ng-if=\"marc[0] * 1 &gt; 10\" ng-repeat=\"subfieldCode in marc[3]\"><span class=\"ikc-delimiter\">▼b</span><span>김영사,</span><!-- --></span><!-- --><!-- --><!-- --><span class=\"ikc-marc-subfield\" ng-if=\"marc[0] * 1 &gt; 10\" ng-repeat=\"subfieldCode in marc[3]\"><span class=\"ikc-delimiter\">▼c</span><span>2019</span><!-- --><span class=\"ikc-delimiter\" ng-if=\"$last\">▲</span><!-- --></span><!-- --><!-- --></td></tr><!-- --><tr ng-repeat=\"marc in biblioSummary.content['fields']\"><td class=\"ikc-marc-tag\">300</td><td><!-- --><span class=\"ikc-marc-indicators\" ng-if=\"marc[0] * 1 &gt; 10\"><!-- --> <!-- --><span ng-if=\"marc[1] == ' '\"> </span><!-- --> <span> </span></span><!-- --></td><td><!-- --> <!-- --><!-- --><span class=\"ikc-marc-subfield\" ng-if=\"marc[0] * 1 &gt; 10\" ng-repeat=\"subfieldCode in marc[3]\"><span class=\"ikc-delimiter\">▼a</span><span>473 p. :</span><!-- --></span><!-- --><!-- --><!-- --><span class=\"ikc-marc-subfield\" ng-if=\"marc[0] * 1 &gt; 10\" ng-repeat=\"subfieldCode in marc[3]\"><span class=\"ikc-delimiter\">▼b</span><span>삽도 ;</span><!-- --></span><!-- --><!-- --><!-- --><span class=\"ikc-marc-subfield\" ng-if=\"marc[0] * 1 &gt; 10\" ng-repeat=\"subfieldCode in marc[3]\"><span class=\"ikc-delimiter\">▼c</span><span>22 cm</span><!-- --><span class=\"ikc-delimiter\" ng-if=\"$last\">▲</span><!-- --></span><!-- --><!-- --></td></tr><!-- --><tr ng-repeat=\"marc in biblioSummary.content['fields']\"><td class=\"ikc-marc-tag\">500</td><td><!-- --><span class=\"ikc-marc-indicators\" ng-if=\"marc[0] * 1 &gt; 10\"><!-- --><span ng-if=\"marc[1] != ' '\">0</span><!-- --> <!-- --> <span>0</span></span><!-- --></td><td><!-- --> <!-- --><!-- --><span class=\"ikc-marc-subfield\" ng-if=\"marc[0] * 1 &gt; 10\" ng-repeat=\"subfieldCode in marc[3]\"><span class=\"ikc-delimiter\">▼z</span><span>부록: 내 나라는 몇 점일까?</span><!-- --><span class=\"ikc-delimiter\" ng-if=\"$last\">▲</span><!-- --></span><!-- --><!-- --></td></tr><!-- --><tr ng-repeat=\"marc in biblioSummary.content['fields']\"><td class=\"ikc-marc-tag\">504</td><td><!-- --><span class=\"ikc-marc-indicators\" ng-if=\"marc[0] * 1 &gt; 10\"><!-- --> <!-- --><span ng-if=\"marc[1] == ' '\"> </span><!-- --> <span> </span></span><!-- --></td><td><!-- --> <!-- --><!-- --><span class=\"ikc-marc-subfield\" ng-if=\"marc[0] * 1 &gt; 10\" ng-repeat=\"subfieldCode in marc[3]\"><span class=\"ikc-delimiter\">▼a</span><span>참고문헌(p. 386-420) 및 색인 수록</span><!-- --><span class=\"ikc-delimiter\" ng-if=\"$last\">▲</span><!-- --></span><!-- --><!-- --></td></tr><!-- --><tr ng-repeat=\"marc in biblioSummary.content['fields']\"><td class=\"ikc-marc-tag\">507</td><td><!-- --><span class=\"ikc-marc-indicators\" ng-if=\"marc[0] * 1 &gt; 10\"><!-- --><span ng-if=\"marc[1] != ' '\">1</span><!-- --> <!-- --> <span>0</span></span><!-- --></td><td><!-- --> <!-- --><!-- --><span class=\"ikc-marc-subfield\" ng-if=\"marc[0] * 1 &gt; 10\" ng-repeat=\"subfieldCode in marc[3]\"><span class=\"ikc-delimiter\">▼t</span><span>Factfulness : ten reasons we're wrong about the world--and why things are better than you think</span><!-- --><span class=\"ikc-delimiter\" ng-if=\"$last\">▲</span><!-- --></span><!-- --><!-- --></td></tr><!-- --><tr ng-repeat=\"marc in biblioSummary.content['fields']\"><td class=\"ikc-marc-tag\">650</td><td><!-- --><span class=\"ikc-marc-indicators\" ng-if=\"marc[0] * 1 &gt; 10\"><!-- --> <!-- --><span ng-if=\"marc[1] == ' '\"> </span><!-- --> <span>0</span></span><!-- --></td><td><!-- --> <!-- --><!-- --><span class=\"ikc-marc-subfield\" ng-if=\"marc[0] * 1 &gt; 10\" ng-repeat=\"subfieldCode in marc[3]\"><span class=\"ikc-delimiter\">▼a</span><span>Stress management</span><!-- --><span class=\"ikc-delimiter\" ng-if=\"$last\">▲</span><!-- --></span><!-- --><!-- --></td></tr><!-- --><tr ng-repeat=\"marc in biblioSummary.content['fields']\"><td class=\"ikc-marc-tag\">650</td><td><!-- --><span class=\"ikc-marc-indicators\" ng-if=\"marc[0] * 1 &gt; 10\"><!-- --> <!-- --><span ng-if=\"marc[1] == ' '\"> </span><!-- --> <span>0</span></span><!-- --></td><td><!-- --> <!-- --><!-- --><span class=\"ikc-marc-subfield\" ng-if=\"marc[0] * 1 &gt; 10\" ng-repeat=\"subfieldCode in marc[3]\"><span class=\"ikc-delimiter\">▼a</span><span>Reality</span><!-- --><span class=\"ikc-delimiter\" ng-if=\"$last\">▲</span><!-- --></span><!-- --><!-- --></td></tr><!-- --><tr ng-repeat=\"marc in biblioSummary.content['fields']\"><td class=\"ikc-marc-tag\">700</td><td><!-- --><span class=\"ikc-marc-indicators\" ng-if=\"marc[0] * 1 &gt; 10\"><!-- --><span ng-if=\"marc[1] != ' '\">1</span><!-- --> <!-- --> <span> </span></span><!-- --></td><td><!-- --> <!-- --><!-- --><span class=\"ikc-marc-subfield\" ng-if=\"marc[0] * 1 &gt; 10\" ng-repeat=\"subfieldCode in marc[3]\"><span class=\"ikc-delimiter\">▼a</span><span>Rosling, Ola,</span><!-- --></span><!-- --><!-- --><!-- --><span class=\"ikc-marc-subfield\" ng-if=\"marc[0] * 1 &gt; 10\" ng-repeat=\"subfieldCode in marc[3]\"><span class=\"ikc-delimiter\">▼d</span><span>1975-</span><!-- --><span class=\"ikc-delimiter\" ng-if=\"$last\">▲</span><!-- --></span><!-- --><!-- --></td></tr><!-- --><tr ng-repeat=\"marc in biblioSummary.content['fields']\"><td class=\"ikc-marc-tag\">700</td><td><!-- --><span class=\"ikc-marc-indicators\" ng-if=\"marc[0] * 1 &gt; 10\"><!-- --><span ng-if=\"marc[1] != ' '\">1</span><!-- --> <!-- --> <span> </span></span><!-- --></td><td><!-- --> <!-- --><!-- --><span class=\"ikc-marc-subfield\" ng-if=\"marc[0] * 1 &gt; 10\" ng-repeat=\"subfieldCode in marc[3]\"><span class=\"ikc-delimiter\">▼a</span><span>Rönnlund, Anna Rosling,</span><!-- --></span><!-- --><!-- --><!-- --><span class=\"ikc-marc-subfield\" ng-if=\"marc[0] * 1 &gt; 10\" ng-repeat=\"subfieldCode in marc[3]\"><span class=\"ikc-delimiter\">▼d</span><span>1975-</span><!-- --><span class=\"ikc-delimiter\" ng-if=\"$last\">▲</span><!-- --></span><!-- --><!-- --></td></tr><!-- --><tr ng-repeat=\"marc in biblioSummary.content['fields']\"><td class=\"ikc-marc-tag\">700</td><td><!-- --><span class=\"ikc-marc-indicators\" ng-if=\"marc[0] * 1 &gt; 10\"><!-- --><span ng-if=\"marc[1] != ' '\">1</span><!-- --> <!-- --> <span> </span></span><!-- --></td><td><!-- --> <!-- --><!-- --><span class=\"ikc-marc-subfield\" ng-if=\"marc[0] * 1 &gt; 10\" ng-repeat=\"subfieldCode in marc[3]\"><span class=\"ikc-delimiter\">▼a</span><span>이창신</span><!-- --><span class=\"ikc-delimiter\" ng-if=\"$last\">▲</span><!-- --></span><!-- --><!-- --></td></tr><!-- --></tbody></table></div></div><div class=\"k-widget k-window\" data-role=\"draggable\" style=\"padding-top: 37px; min-width: 90px; min-height: 50px; width: 320px; height: 270px; display: none; top: 774px; left: 17px;\"><div class=\"k-window-titlebar k-header\" style=\"margin-top: -37px;\"> <span class=\"k-window-title\">제자리에 없는 도서 신고</span><div class=\"k-window-actions\"><a class=\"k-window-action k-link\" href=\"#\" role=\"button\"><span class=\"k-icon k-i-close\" role=\"presentation\">Close</span></a></div></div><div class=\"k-window-content k-content\" data-role=\"window\" k-draggable=\"true\" k-height=\"270\" k-modal=\"true\" k-resizable=\"false\" k-title=\"'제자리에 없는 도서 신고'\" k-visible=\"false\" k-width=\"320\" kendo-window=\"absentBookReportModal\" tabindex=\"0\"><div class=\"ikc-service-form ikc-search-service-modal\"><form class=\"ng-pristine ng-valid\"><ul><li class=\"ikc-item-title\" title=\"\"><span ng-bind=\"absentBookInfo.titleStatement.substr(0,60)\"></span><span></span></li><li></li><li></li></ul><div class=\"ikc-textarea ikc-required\"><label for=\"absPatronMessage\">전하는 말</label><input class=\"ng-pristine ng-untouched ng-valid ng-empty\" name=\"bitemId\" ng-model=\"absentBookInfo.id\" title=\"자료아이디\" type=\"hidden\"/><textarea class=\"k-textbox ng-pristine ng-untouched ng-valid ng-empty\" id=\"absPatronMessage\" ik-kr-input=\"\" name=\"absPatronMessage\" ng-model=\"absentBookInfo.patronMessage\"></textarea></div><div class=\"ikc-btnswrap\"><button class=\"btn-block\" ng-click=\"saveAbsentBookReport()\">신청</button> <a class=\"btn-lineblock\" ui-sref=\"root.mylibrary.abr\">신청현황</a></div></form></div></div></div><div class=\"k-widget k-window\" data-role=\"draggable\" style=\"padding-top: 37px; min-width: 90px; min-height: 50px; width: 320px; height: 350px; display: none; top: 774px; left: 17px;\"><div class=\"k-window-titlebar k-header\" style=\"margin-top: -37px;\"> <span class=\"k-window-title\">폐가서고 대출신청</span><div class=\"k-window-actions\"><a class=\"k-window-action k-link\" href=\"#\" role=\"button\"><span class=\"k-icon k-i-close\" role=\"presentation\">Close</span></a></div></div><div class=\"k-window-content k-content\" data-role=\"window\" k-draggable=\"true\" k-height=\"350\" k-modal=\"true\" k-resizable=\"false\" k-title=\"'폐가서고 대출신청'\" k-visible=\"false\" k-width=\"320\" kendo-window=\"cclRequestModal\" tabindex=\"0\"><div class=\"ikc-service-form ikc-search-service-modal ikc-service-ccl\"><form class=\"ng-pristine ng-valid\"><ul><li class=\"ikc-item-title\" title=\"\"><span ng-bind=\"cclRequestInfo.titleStatement.substr(0,60)\"></span><span></span></li><li></li><li></li></ul><div class=\"ikc-textarea ikc-required\"><label for=\"cclPatronMessage\">전하는 말</label><input class=\"ng-pristine ng-untouched ng-valid ng-empty\" name=\"bitemId\" ng-model=\"cclRequestInfo.id\" title=\"자료아이디\" type=\"hidden\"/><textarea class=\"k-textbox ng-pristine ng-untouched ng-valid ng-empty\" id=\"cclPatronMessage\" ik-kr-input=\"\" name=\"cclPatronMessage\" ng-model=\"cclRequestInfo.patronMessage\" title=\"전하는 말\"></textarea></div><div class=\"ikc-btnswrap\"><button class=\"btn-block\" ng-click=\"saveCclRequest()\">신청</button> <a class=\"btn-lineblock\" ui-sref=\"root.mylibrary.ccl\">신청현황</a></div></form></div></div></div><div class=\"k-widget k-window\" data-role=\"draggable\" style=\"padding-top: 37px; min-width: 90px; min-height: 50px; width: 320px; height: 270px; display: none; top: 774px; left: 17px;\"><div class=\"k-window-titlebar k-header\" style=\"margin-top: -37px;\"> <span class=\"k-window-title\">우선정리 대출신청</span><div class=\"k-window-actions\"><a class=\"k-window-action k-link\" href=\"#\" role=\"button\"><span class=\"k-icon k-i-close\" role=\"presentation\">Close</span></a></div></div><div class=\"k-window-content k-content\" data-role=\"window\" k-draggable=\"true\" k-height=\"270\" k-modal=\"true\" k-resizable=\"false\" k-title=\"'우선정리 대출신청'\" k-visible=\"false\" k-width=\"320\" kendo-window=\"fclRequestModal\" tabindex=\"0\"><div class=\"ikc-service-form ikc-search-service-modal\"><form class=\"ng-pristine ng-valid\"><ul><li class=\"ikc-item-title\" title=\"\"><span ng-bind=\"fclRequestInfo.titleStatement.substr(0,60)\"></span><span></span></li><li></li><li></li></ul><div class=\"ikc-textarea ikc-required\"><label for=\"fclPatronMessage\">전하는 말</label><input class=\"ng-pristine ng-untouched ng-valid ng-empty\" name=\"bitemId\" ng-model=\"fclRequestInfo.id\" title=\"자료아이디\" type=\"hidden\"/><textarea class=\"k-textbox ng-pristine ng-untouched ng-valid ng-empty\" id=\"fclPatronMessage\" ik-kr-input=\"\" name=\"fclPatronMessage\" ng-model=\"fclRequestInfo.patronMessage\"></textarea></div><label></label><div class=\"ikc-btnswrap\"><button class=\"btn-block\" ng-click=\"saveFclRequest()\">신청</button> <a class=\"btn-lineblock\" ui-sref=\"root.mylibrary.fcl\">신청현황</a></div></form></div></div></div><div class=\"k-widget k-window\" data-role=\"draggable\" style=\"padding-top: 37px; min-width: 90px; min-height: 50px; display: none; top: 774px; left: 17px;\"><div class=\"k-window-titlebar k-header\" style=\"margin-top: -37px;\"> <span class=\"k-window-title\">위치정보</span><div class=\"k-window-actions\"><a class=\"k-window-action k-link\" href=\"#\" role=\"button\"><span class=\"k-icon k-i-close\" role=\"presentation\">Close</span></a></div></div><div class=\"ikc-biblioItem-location k-window-content k-content\" data-role=\"window\" k-draggable=\"true\" k-modal=\"true\" k-resizable=\"false\" k-title=\"'위치정보'\" k-visible=\"false\" kendo-window=\"biblioItemLocationModal\" tabindex=\"0\"><!-- --><div class=\"ikc-item-location\"><div class=\"printLocation\"><!-- --><!-- --><div class=\"ikc-item-shelflocation printLocation\" ng-if=\"!isImageMapHide &amp;&amp; !isShowShelf\"><img alt=\"\"/></div><!-- --></div><div class=\"ikc-item-info printArea ikc-shelfmapShow\" ng-class=\"{'ikc-shelfmapShow' : !isImageMapHide }\"><!-- --><ul><li><span class=\"ikc-item-title\"></span></li><!-- --><!-- --><li class=\"ikc-item-callno\"></li><li></li><li></li><li></li><!-- --><li></li></ul></div><ul class=\"item-location-func\"><li><button ng-click=\"printItemLocationInfo()\" title=\"새창\">인쇄</button></li></ul></div></div></div><div class=\"k-widget k-window\" data-role=\"draggable\" style=\"padding-top: 37px; min-width: 90px; min-height: 50px; width: 320px; height: 450px; display: none; top: 774px; left: 17px;\"><div class=\"k-window-titlebar k-header\" style=\"margin-top: -37px;\"> <span class=\"k-window-title\">위치정보</span><div class=\"k-window-actions\"><a class=\"k-window-action k-link\" href=\"#\" role=\"button\"><span class=\"k-icon k-i-close\" role=\"presentation\">Close</span></a></div></div><div class=\"k-window-content k-content\" data-role=\"window\" k-draggable=\"true\" k-height=\"450\" k-modal=\"true\" k-resizable=\"false\" k-title=\"'위치정보'\" k-visible=\"false\" k-width=\"320\" kendo-window=\"issueBiblioItemLocationModal\" tabindex=\"0\"><div class=\"ikc-item-location\"><!-- --><div class=\"issuePrintArea\"><ul><li><span class=\"ikc-item-title\"></span></li><li></li><li></li><li></li><!-- --></ul></div><ul class=\"item-location-func\"><li><button ng-click=\"issuePrintItemLocationInfo()\">인쇄</button></li></ul></div></div></div><div class=\"k-widget k-window\" data-role=\"draggable\" style=\"padding-top: 37px; min-width: 90px; min-height: 50px; width: 600px; height: 600px; display: none; top: 774px; left: 17px;\"><div class=\"k-window-titlebar k-header\" style=\"margin-top: -37px;\"> <span class=\"k-window-title\">개인보관함 담기</span><div class=\"k-window-actions\"><a class=\"k-window-action k-link\" href=\"#\" role=\"button\"><span class=\"k-icon k-i-close\" role=\"presentation\">Close</span></a></div></div><div class=\"k-window-content k-content\" data-role=\"window\" k-height=\"600\" k-modal=\"true\" k-on-close=\"closeWin()\" k-resizeable=\"false\" k-title=\"'개인보관함 담기'\" k-visible=\"false\" k-width=\"600\" kendo-window=\"myCollectionWindow\" tabindex=\"0\"><script id=\"nodes_renderer.html\" type=\"text/ng-template\"><div ui-tree-handle\n",
       "             class=\"tree-node tree-node-content\">\n",
       "            <div class=\"ikc-collection-item-group\">\n",
       "                <div class=\"ikc-collection-item-groupname\">\n",
       "                    <a href=\"\" ng-if=\"collection.c8n && collection.c8n.length > 0\"\n",
       "                       data-nodrag\n",
       "                       ng-click=\"toggle(this)\">\n",
       "                        <span class=\"k-icon k-i-collapse\" ng-show=\"!collapsed\"></span>\n",
       "                        <span class=\"k-icon k-i-expand\" ng-show=\"collapsed\"></span>\n",
       "                    </a>\n",
       "                    {{collection.name}}\n",
       "                </div>\n",
       "                <div class=\"ikc-collection-item-groupfunc\">\n",
       "                    <input type=\"radio\" ng-hide=\"selectedNode==collection.id\"\n",
       "                           name=\"selectedNode\"\n",
       "                           data-nodrag\n",
       "                           ng-click=\"selectNode(collection.id)\"\n",
       "                           value=\"{{collection.id}}\"\n",
       "                           title=\"{{ ::'보관함정보' | translate }}\">\n",
       "                    <button ng-disabled=\"saveButtonDisabled\"\n",
       "                            data-nodrag\n",
       "                            ng-show=\"selectedNode==collection.id\"\n",
       "                            ng-click=\"save()\">\n",
       "                        {{ ::\"담기\" | translate }}\n",
       "                    </button>\n",
       "                </div>\n",
       "            </div>\n",
       "        </div>\n",
       "        <ol ui-tree-nodes=\"\"\n",
       "            ng-class=\"{hidden: collapsed}\"\n",
       "            ng-model=\"collection.c8n\">\n",
       "            <li ng-repeat=\"collection in collection.c8n\"\n",
       "                ui-tree-node\n",
       "                ng-include=\"'nodes_renderer.html'\">\n",
       "            </li>\n",
       "        </ol></script><div class=\"angular-ui-tree\" id=\"tree-root\" ui-tree=\"treeOptions\"><form class=\"ng-pristine ng-valid\" name=\"selectMyCollectionNode\"><!-- --><!-- --><div ng-if=\"!myCollections\">현재 생성된 보관함이 없습니다. 먼저 \"개인보관함\"에서 보관함을 생성해 주세요.<br/><br/><div class=\"ikc-page-btns\"><a class=\"button\" href=\"#/mylibrary/collections\" ng-href=\"#/mylibrary/collections\">개인보관함</a></div></div><!-- --><!-- --></form></div></div><div class=\"k-resize-handle k-resize-n\"></div><div class=\"k-resize-handle k-resize-e\"></div><div class=\"k-resize-handle k-resize-s\"></div><div class=\"k-resize-handle k-resize-w\"></div><div class=\"k-resize-handle k-resize-se\"></div><div class=\"k-resize-handle k-resize-sw\"></div><div class=\"k-resize-handle k-resize-ne\"></div><div class=\"k-resize-handle k-resize-nw\"></div></div><div class=\"k-widget k-window\" data-role=\"draggable\" style=\"padding-top: 37px; min-width: 90px; min-height: 50px; width: 320px; height: 400px; display: none; top: 774px; left: 17px;\"><div class=\"k-window-titlebar k-header\" style=\"margin-top: -37px;\"> <span class=\"k-window-title\">email 내보내기</span><div class=\"k-window-actions\"><a class=\"k-window-action k-link\" href=\"#\" role=\"button\"><span class=\"k-icon k-i-close\" role=\"presentation\">Close</span></a></div></div><div class=\"k-window-content k-content\" data-role=\"window\" k-draggable=\"true\" k-height=\"400\" k-modal=\"true\" k-resizable=\"false\" k-title=\"'email 내보내기'\" k-visible=\"false\" k-width=\"320\" kendo-window=\"sendEmailModal\" tabindex=\"0\"><div class=\"ikc-service-form ikc-search-service-modal\"><form class=\"ng-pristine ng-invalid ng-invalid-required\" data-role=\"validator\" kendo-validator=\"emailForm\" ng-submit=\"formValidate($event)\" novalidate=\"novalidate\"><ul><li class=\"ikc-item-title\"></li><li>외 총  건</li></ul><div class=\"ikc-textbox ikc-required\"><label for=\"email\">email <span class=\"k-invalid-msg\" data-for=\"email\"></span></label><input class=\"k-textbox ng-pristine ng-untouched ng-empty ng-invalid ng-invalid-required\" data-email-msg=\"email을 확인해 주세요.\" data-required-msg=\"email을 입력해 주세요.\" id=\"email\" name=\"email\" ng-model=\"sendMailInfo.email\" required=\"\"/></div><div class=\"ikc-btnswrap\"><button class=\"btn-block\" type=\"submit\">발송</button></div></form></div></div></div><div class=\"k-widget k-window\" data-role=\"draggable\" style=\"padding-top: 37px; min-width: 90px; min-height: 50px; display: none; top: 774px; left: 17px;\"><div class=\"k-window-titlebar k-header\" style=\"margin-top: -37px;\"> <span class=\"k-window-title\"></span><div class=\"k-window-actions\"><a class=\"k-window-action k-link\" href=\"#\" role=\"button\"><span class=\"k-icon k-i-maximize\" role=\"presentation\">Maximize</span></a><a class=\"k-window-action k-link\" href=\"#\" role=\"button\"><span class=\"k-icon k-i-close\" role=\"presentation\">Close</span></a></div></div><div class=\"k-window-content k-content\" data-role=\"window\" k-actions=\"['Maximize', 'Close']\" k-modal=\"true\" k-resizeable=\"false\" k-visible=\"false\" kendo-window=\"relatedResourceModal\" style=\"overflow: hidden\" tabindex=\"0\"><div class=\"ikc-viewer-wrap\"><div class=\"ikc-viewer-main\"><div ng-switch=\"\" on=\"playerType\"><!-- --><!-- --><!-- --><!-- --><!-- --><!-- --><!-- --><div ng-switch-default=\"\"><div class=\"ikc-viewer-text ng-hide\" ng-bind-html=\"content | IKGNl2br\" ng-show=\"content\">undefined</div></div><!-- --></div></div><div class=\"ikc-viewer-side ng-hide\" ng-show=\"playResourceCount &gt; 1\"><!-- --><!-- --><!-- --><div ng-repeat=\"(relation, items) in biblioResources['Txt']\"><!-- --><div class=\"ikc-related-items\" id=\"txt198292\" ng-repeat=\"item in items\"><a class=\"button\" href=\"\" ng-click=\"play(item.relationContent)\"><span class=\"k-icon k-i-text\" title=\"Text\"></span> <span>초록</span></a></div><!-- --></div><!-- --><div ng-repeat=\"(relation, items) in biblioResources['Txt']\"><!-- --><div class=\"ikc-related-items\" id=\"txt198097\" ng-repeat=\"item in items\"><a class=\"button\" href=\"\" ng-click=\"play(item.relationContent)\"><span class=\"k-icon k-i-text\" title=\"Text\"></span> <span>목차</span></a></div><!-- --></div><!-- --></div></div></div><div class=\"k-resize-handle k-resize-n\"></div><div class=\"k-resize-handle k-resize-e\"></div><div class=\"k-resize-handle k-resize-s\"></div><div class=\"k-resize-handle k-resize-w\"></div><div class=\"k-resize-handle k-resize-se\"></div><div class=\"k-resize-handle k-resize-sw\"></div><div class=\"k-resize-handle k-resize-ne\"></div><div class=\"k-resize-handle k-resize-nw\"></div></div><div id=\"loading-bar\"><div class=\"bar\" style=\"width: 100%;\"><div class=\"peg\"></div></div></div><div id=\"loading-bar-spinner\"><div class=\"spinner-icon\"></div></div></body></html>"
      ]
     },
     "execution_count": 82,
     "metadata": {},
     "output_type": "execute_result"
    }
   ],
   "source": [
    "bsObject"
   ]
  },
  {
   "cell_type": "code",
   "execution_count": 83,
   "metadata": {},
   "outputs": [],
   "source": [
    "strISBNIncluded = str(bsObject.select('#goto-content > div:nth-child(2) > div > div.ikc-search-detail-main > div > div.ikc-biblio-detail > div.ikc-biblio-info'))"
   ]
  },
  {
   "cell_type": "code",
   "execution_count": 84,
   "metadata": {},
   "outputs": [
    {
     "data": {
      "text/plain": [
       "'[<div class=\"ikc-biblio-info\"><p class=\"ikc-biblio-type\"><label>자료유형</label><span ng-bind-html=\"biblioSummary.biblioType.name\">단행본(동양서)</span></p><ul class=\"ikc-biblio-infolist\"><!-- --><li ng-repeat=\"item in biblio | limitTo : displayLimit\"><label>서명책임사항</label><span ng-bind-html=\"item.content\"><a href=\"#/search/ex?title=1|m|a|팩트풀니스  :우리가 세상을 오해하는 10가지 이유와 세상이 생각보다 괜찮은 이유  /한스 로슬링 , 올라 로슬링 , 안나 로슬링 뢴룬드 [공]지음  ;이창신 옮김\">팩트풀니스  :우리가 세상을 오해하는 10가지 이유와 세상이 생각보다 괜찮은 이유  /한스 로슬링 , 올라 로슬링 , 안나 로슬링 뢴룬드 [공]지음  ;이창신 옮김</a></span></li><!-- --><li ng-repeat=\"item in biblio | limitTo : displayLimit\"><label>발행사항</label><span ng-bind-html=\"item.content\">파주  :김영사 , 2019</span></li><!-- --><li ng-repeat=\"item in biblio | limitTo : displayLimit\"><label>형태사항</label><span ng-bind-html=\"item.content\">473 p.  :삽도  ;22 cm</span></li><!-- --><li ng-repeat=\"item in biblio | limitTo : displayLimit\"><label>개인저자</label><span ng-bind-html=\"item.content\"><a href=\"#/search/ex?author=1|m|a|Rosling, Hans\">Rosling, Hans</a></span></li><!-- --><li ng-repeat=\"item in biblio | limitTo : displayLimit\"><label>부출표목-개인명</label><span ng-bind-html=\"item.content\"><a href=\"#/search/ex?author=1|m|a|Rosling, Ola\">Rosling, Ola</a> <a href=\"#/search/ex?author=1|m|a|Rönnlund, Anna Rosling\">Rönnlund, Anna Rosling</a> <a href=\"#/search/ex?author=1|m|a|이창신\">이창신</a></span></li><!-- --><li ng-repeat=\"item in biblio | limitTo : displayLimit\"><label>ISBN</label><span ng-bind-html=\"item.content\"><a href=\"#/search/ex?isbn=1|m|a|9788934985068 03300  :\\\\19800\">9788934985068 03300  :\\\\19800</a></span></li><!-- --><li ng-repeat=\"item in biblio | limitTo : displayLimit\"><label>서지주기</label><span ng-bind-html=\"item.content\">참고문헌(p. 386-420) 및 색인 수록</span></li><!-- --><li ng-repeat=\"item in biblio | limitTo : displayLimit\"><label>원서명, 원저자주기</label><span ng-bind-html=\"item.content\"><a href=\"#/search/ex?title=1|m|a|Factfulness : ten reasons we\\'re wrong about the world--and why things are better than you think\">Factfulness : ten reasons we\\'re wrong about the world--and why things are better than you think</a></span></li><!-- --><li ng-repeat=\"item in biblio | limitTo : displayLimit\"><label>일반주제명</label><span ng-bind-html=\"item.content\"><a href=\"#/search/ex?subject=1|m|a|Stress management\">Stress management</a><br/><a href=\"#/search/ex?subject=1|m|a|Reality\">Reality</a></span></li><!-- --><li ng-repeat=\"item in biblio | limitTo : displayLimit\"><label>분류번호</label><span ng-bind-html=\"item.content\"><a href=\"#/search/ex?call_no=1|m|a|155.9042\">155.9042</a></span></li><!-- --><li ng-repeat=\"item in biblio | limitTo : displayLimit\"><label>일반주기</label><span ng-bind-html=\"item.content\">부록: 내 나라는 몇 점일까?</span></li><!-- --><li ng-repeat=\"item in biblio | limitTo : displayLimit\"><label>듀이십진분류기호</label><span ng-bind-html=\"item.content\">155.9042</span></li><!-- --><!-- --><li class=\"hidden-xs ikc-marc\" ng-hide=\"incrementDisplayLimitButtonShow\" ng-if=\"biblioSummary.isMarc\"><label>MARC</label><span><button ng-click=\"showMarcContent()\">보기</button></span></li><!-- --></ul><div class=\"ikc-search-result-funcs\"><ul><li><!-- --> <!-- --><button id=\"btn-biblio-more-close\" ng-click=\"decrementDisplayLimit();\" ng-if=\"decrementDisplayLimitButtonShow\" title=\"서지정보\"><span class=\"k-icon k-i-expand\"></span> 접기</button><!-- --></li><li class=\"ikc-btn-group-wrap\"><div class=\"ikc-btn-group\" ng-show=\"!hiddenMyCollection\"><button id=\"btn-mycollection\" ng-click=\"showMycollectionMenu=!showMycollectionMenu; showExportMenu=false; showTempitemMenu=false; tabToGo(\\'ik-mycollection-guide\\');\" ng-show=\"!showMycollectionMenu\" title=\"개인보관함 안내 펼치기\">개인보관함 <span class=\"k-icon k-i-arrow-s\"></span></button> <button class=\"ng-hide\" ng-click=\"showMycollectionMenu=!showMycollectionMenu; showExportMenu=false; showTempitemMenu=false;\" ng-show=\"showMycollectionMenu\" title=\"접기\">개인보관함 <span class=\"k-icon k-i-close\"></span></button><div class=\"ng-hide\" id=\"ik-mycollection-guide\" ng-show=\"showMycollectionMenu\" tabindex=\"0\"><p><strong>개인보관함이란?</strong><br/>이용자가 필요한 자료를 개인보관함은 담아두었다가 필요할 때 보다 쉽게 이용할 수 있는 서비스입니다. 여러개의 보관함을 원하는 분류별로 생성하여 활용할 수 있습니다.</p><button ng-click=\"openMyCollectionModal()\" title=\"개인보관함 담기\"><span class=\"k-icon k-si-plus\"></span><span>담기</span></button> <button ng-click=\"goMyCollection()\" title=\"개인보관함 이동\"><span class=\"k-icon k-i-expand-w\"></span> <span>이동</span></button> <button class=\"ikc-btn-group-x ikc-iconbtn\" ng-click=\"showMycollectionMenu=!showMycollectionMenu; tabToGo(\\'btn-mycollection\\')\" title=\"개인보관함 안내 접기\"><span class=\"k-icon k-i-close\"></span></button></div></div><div class=\"ikc-btn-group\" ng-show=\"tempitems_use\"><button class=\"btn-tempitem\" ng-click=\"showTempitemMenu=!showTempitemMenu; showMycollectionMenu=false;  showExportMenu=false; tabToGo(\\'ik-tempitem\\')\" title=\"임시보관함 안내 펼치기\"><!-- --> <!-- --><span ng-if=\"!isSavedTemp\">임시보관함</span><!-- --> <span class=\"k-icon k-i-arrow-s\" ng-show=\"!showTempitemMenu\"></span> <span class=\"k-icon k-i-close ng-hide\" ng-show=\"showTempitemMenu\"></span></button><div class=\"ng-hide\" id=\"ik-tempitem\" ng-show=\"showTempitemMenu\" tabindex=\"0\"><p><strong>임시보관함이란?</strong><br/>인터넷 브라우저 저장소를 활용하여 임시로 자료를 보관, 이용할 수 있는 서비스입니다. 브라우저 탭마다 저장소가 하나씩 생성되며, 브라우저 종료시 자동 삭제 됩니다. 오래 보관하고자 하는 자료는 개인보관함을 이용하시기 바랍니다.</p><p><strong>현재 보관된 자료수 \\xa0:\\xa0 0건</strong></p><button ng-click=\"saveTempItem()\" ng-disabled=\"isSavedTemp || tempItemTotalCount &gt; 100\" title=\"임시보관함 담기\"><span class=\"k-icon k-si-plus\"></span> <span>담기</span></button> <button class=\"ng-hide\" ng-click=\"deleteTempItem()\" ng-hide=\"!isSavedTemp\" title=\"보관자료 삭제\"><span class=\"k-icon k-i-close\"></span> <span>삭제</span></button> <button disabled=\"disabled\" ng-click=\"goTempitems()\" ng-disabled=\"tempItemTotalCount == 0\" title=\"임시보관함 이동\"><span class=\"k-icon k-i-expand-w\"></span> <span>이동</span></button> <button class=\"ikc-btn-group-x ikc-iconbtn\" ng-click=\"showTempitemMenu=!showTempitemMenu; tabToGo(\\'btn-tempitem\\'); \" title=\"임시보관함 안내 접기\"><span class=\"k-icon k-i-close\"></span></button></div></div><div class=\"ikc-btn-group ikc-search-export\"><button id=\"btn-export\" ng-click=\"showExportMenu=!showExportMenu; showTempitemMenu=false; showMycollectionMenu=false; tabToGo(\\'ik-export\\');\" title=\"내보내기 안내 펼치기\">내보내기 <span class=\"k-icon k-i-arrow-s\" ng-show=\"!showExportMenu\"></span> <span class=\"k-icon k-i-close ng-hide\" ng-show=\"showExportMenu\"></span></button><div class=\"ng-hide\" id=\"ik-export\" ng-show=\"showExportMenu\" tabindex=\"0\"><p><strong>내보내기란?</strong><br/>다양한 자료활용을 위해 자료반출을 지원하고 있습니다.</p><button class=\"ikc-export-endnote\" ng-click=\"exportRisFile()\" title=\"EndNote\"><span>EndNote</span></button> <button class=\"ikc-export-refworks\" ng-click=\"exportRefWorks()\" title=\"RefWorks\"><span>RefWorks</span></button> <button class=\"ikc-export-email\" ng-click=\"openSendEmailModal()\" title=\"Email\"><span>Email</span></button> <a class=\"button twitter-share-button\" data-size=\"large\" href=\"\" ng-click=\"exportTwitter()\" title=\"twitter\"><span><span class=\"k-icon k-i-twitter\"></span>Twitter</span></a> <button class=\"facebook-share-button\" title=\"facebook\"><span class=\"fb-share-button\" data-href=\"https://discover.duksung.ac.kr/#/search/detail/4829644\" data-layout=\"icon_link\"></span></button> <button class=\"ikc-btn-group-x ikc-iconbtn\" ng-click=\"showExportMenu=!showExportMenu; tabToGo(\\'btn-export\\');\" title=\"내보내기 안내 접기\"><span class=\"k-icon k-i-close\"></span></button></div></div></li></ul></div></div>]'"
      ]
     },
     "execution_count": 84,
     "metadata": {},
     "output_type": "execute_result"
    }
   ],
   "source": [
    "strISBNIncluded"
   ]
  },
  {
   "cell_type": "code",
   "execution_count": 85,
   "metadata": {},
   "outputs": [],
   "source": [
    "import re\n",
    "def compareISBN(text, ISBN):\n",
    "    regex = re.compile(ISBN)\n",
    "    matchObj = regex.search(text)\n",
    "    if matchObj is None :\n",
    "        return False\n",
    "    else:\n",
    "        return True"
   ]
  },
  {
   "cell_type": "code",
   "execution_count": 86,
   "metadata": {},
   "outputs": [
    {
     "data": {
      "text/plain": [
       "True"
      ]
     },
     "execution_count": 86,
     "metadata": {},
     "output_type": "execute_result"
    }
   ],
   "source": [
    "compareISBN(strISBNIncluded, '9788934985068')\n",
    "                             #9788934985068\n",
    "#compareISBN(strISBNIncluded, '9788934985061')"
   ]
  },
  {
   "cell_type": "code",
   "execution_count": 87,
   "metadata": {},
   "outputs": [],
   "source": [
    "loanResultListSelectPath = '#goto-content > div:nth-child(2) > div > div.ikc-search-detail-main > div > div.ikc-detail-strip > div:nth-child(2) > ng-include > div > table'\n",
    "loanResultList =bsObject.select(loanResultListSelectPath)[0].find_all('tbody')\n",
    "\n",
    "len(loanResultList)"
   ]
  },
  {
   "cell_type": "code",
   "execution_count": 90,
   "metadata": {},
   "outputs": [
    {
     "name": "stdout",
     "output_type": "stream",
     "text": [
      "9\n",
      "E0643865\n",
      "155.9042 R821fㅍ\n",
      "1층 일반도서실\n",
      "대출가능   ~\n",
      "9\n",
      "E0644165\n",
      "155.9042 R821fㅍ =2\n",
      "1층 일반도서실\n",
      "대출중   ~ 2020.05.04\n"
     ]
    }
   ],
   "source": [
    "for item in loanResultList:\n",
    "    content = item.find_all('td')\n",
    "    print(len(content))\n",
    "#     errorMessage = ''\n",
    "    #content = loanResult.find_all('td')\n",
    "    RN = content[0].find_all('span')[1].text.strip()\n",
    "    CN = content[2].find_all('span')[1].text.strip()\n",
    "    POS = content[1].find_all('span')[1].text.strip()\n",
    "    STATE_STRING = content[4].find_all('span')[1].text.strip()\n",
    "    #RDD = content[5].text.strip()\n",
    "    print(RN)\n",
    "    print(CN)\n",
    "    print(POS)\n",
    "    print(STATE_STRING)\n",
    "    #print(RDD)\n",
    "    #print(content[8])\n",
    "        \n",
    "    #print('등록번호 : ', item)"
   ]
  },
  {
   "cell_type": "code",
   "execution_count": 91,
   "metadata": {},
   "outputs": [
    {
     "data": {
      "text/plain": [
       "<tbody class=\"ikc-item\" ng-repeat=\"item in items | orderBy:items.itemOrder:items.reverse\"><tr><td><span class=\"ikc-flexth\">등록번호</span> <span>E0643865</span></td><td class=\"ikc-contents\"><span class=\"ikc-flexth\">소장위치</span> <span>1층 일반도서실</span></td><td class=\"ikc-contents\"><span class=\"ikc-flexth\">청구기호</span> <span class=\"ikc-item-callno\">155.9042 R821fㅍ</span></td><!-- --><td ng-if=\"!canLocationInfo\"><span class=\"ikc-flexth\">위치</span> <span><button class=\"ikc-iconbtn\" ng-click=\"showBiblioItemLocation(item)\" title=\"위치정보\"><span class=\"k-icon k-i-location\"></span></button> <!-- --></span></td><!-- --><td><span class=\"ikc-flexth\">상태</span> <span><!-- --><span class=\"ikc-item-status\" ng-if=\"item.circulationState &amp;&amp; item.circulationState.code != 'RECALL_CHARGE' \">대출가능</span><!-- --> <!-- --> <!-- --> <span class=\"ikc-item-duedate ng-hide\" ng-show=\"item.dueDate &amp;&amp; item.circulationState.code != 'RECALL_CHARGE'\">~ </span></span></td><td class=\"ikc-func\"><span class=\"ikc-flexth\">서비스</span> <span><!-- --> <!-- --> <!-- --> <!-- --> <!-- --> <!-- --> <!-- --> <!-- --> <!-- --><button class=\"ikc-service-btn-abs\" ng-click=\"absentBookReport(item, item.absentBookReport)\" ng-if=\"canService('ABSENT_BOOK_REPORT', item.availableServices)\" title=\"제자리에 없는 도서 신고\">제</button><!-- --> <!-- --> <!-- --></span></td></tr><tr class=\"ikc-item-subitem ng-hide\" ng-show=\"item.preservationNo\"><td class=\"ikc-contents\" colspan=\"6\"><span><i class=\"k-icon k-i-lock\"></i> <span>보존번호 </span></span></td></tr><tr class=\"ikc-item-subitem ng-hide\" ng-show=\"item.donator\"><td class=\"ikc-contents\" colspan=\"6\"><span><i class=\"k-icon k-i-pin-on\"></i> <span>기증자 </span></span></td></tr><tr class=\"ikc-item-subitem ng-hide\" ng-show=\"item.supplements\"><td class=\"ikc-contents\" colspan=\"6\"><ul><!-- --></ul></td></tr></tbody>"
      ]
     },
     "execution_count": 91,
     "metadata": {},
     "output_type": "execute_result"
    }
   ],
   "source": [
    "loanResultList[0]"
   ]
  },
  {
   "cell_type": "code",
   "execution_count": null,
   "metadata": {},
   "outputs": [],
   "source": []
  }
 ],
 "metadata": {
  "hide_input": false,
  "kernelspec": {
   "display_name": "Python 3",
   "language": "python",
   "name": "python3"
  },
  "language_info": {
   "codemirror_mode": {
    "name": "ipython",
    "version": 3
   },
   "file_extension": ".py",
   "mimetype": "text/x-python",
   "name": "python",
   "nbconvert_exporter": "python",
   "pygments_lexer": "ipython3",
   "version": "3.7.6"
  },
  "toc": {
   "base_numbering": 1,
   "nav_menu": {},
   "number_sections": true,
   "sideBar": true,
   "skip_h1_title": false,
   "title_cell": "Table of Contents",
   "title_sidebar": "Contents",
   "toc_cell": false,
   "toc_position": {},
   "toc_section_display": true,
   "toc_window_display": false
  },
  "varInspector": {
   "cols": {
    "lenName": 16,
    "lenType": 16,
    "lenVar": 40
   },
   "kernels_config": {
    "python": {
     "delete_cmd_postfix": "",
     "delete_cmd_prefix": "del ",
     "library": "var_list.py",
     "varRefreshCmd": "print(var_dic_list())"
    },
    "r": {
     "delete_cmd_postfix": ") ",
     "delete_cmd_prefix": "rm(",
     "library": "var_list.r",
     "varRefreshCmd": "cat(var_dic_list()) "
    }
   },
   "types_to_exclude": [
    "module",
    "function",
    "builtin_function_or_method",
    "instance",
    "_Feature"
   ],
   "window_display": false
  }
 },
 "nbformat": 4,
 "nbformat_minor": 4
}
