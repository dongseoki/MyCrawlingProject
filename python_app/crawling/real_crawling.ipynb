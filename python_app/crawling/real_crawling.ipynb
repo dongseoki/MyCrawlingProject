{
 "cells": [
  {
   "cell_type": "code",
   "execution_count": 25,
   "metadata": {},
   "outputs": [],
   "source": [
    "from urllib.request import urlopen\n",
    "from bs4 import BeautifulSoup\n",
    "import re\n",
    "import sys, traceback\n",
    "import json"
   ]
  },
  {
   "cell_type": "code",
   "execution_count": 2,
   "metadata": {},
   "outputs": [],
   "source": [
    "KW_CODE =0\n",
    "KM_CODE =1\n",
    "DJ_CODE=2\n",
    "DS_CODE=3\n",
    "DD_CODE=4\n",
    "MJ_CODE=5\n",
    "SY_CODE=6\n",
    "SM_CODE=7\n",
    "SK_CODE=8\n",
    "SW_CODE=9\n",
    "SS_CODE=10\n",
    "HS_CODE=11"
   ]
  },
  {
   "cell_type": "code",
   "execution_count": 3,
   "metadata": {},
   "outputs": [],
   "source": [
    "base_start_url_list = ['http://kupis.kw.ac.kr/',\n",
    "'http://lib.kookmin.ac.kr/',\n",
    "'http://library.daejin.ac.kr/',\n",
    "'http://discover.duksung.ac.kr/',\n",
    "'http://library.dongduk.ac.kr/',\n",
    "'http://lib.mju.ac.kr/',\n",
    "'http://lib.syu.ac.kr/',\n",
    "'https://lib.smu.ac.kr/',\n",
    "'http://library.skuniv.ac.kr/',\n",
    "'http://lib.swu.ac.kr/',\n",
    "'http://lib.sungshin.ac.kr/',\n",
    "'http://hsel.hansung.ac.kr/']\n"
   ]
  },
  {
   "cell_type": "code",
   "execution_count": 4,
   "metadata": {},
   "outputs": [],
   "source": [
    "base_middle_url_list = ['',\n",
    "'',\n",
    "'',\n",
    "'',\n",
    "'',\n",
    "'',\n",
    "'',\n",
    "'Search/?q=',\n",
    "'',\n",
    "'',\n",
    "'',\n",
    "'']"
   ]
  },
  {
   "cell_type": "code",
   "execution_count": 5,
   "metadata": {},
   "outputs": [],
   "source": [
    "base_end_url_list = []\n",
    "for i in range(12):\n",
    "    base_end_url_list.append('')"
   ]
  },
  {
   "cell_type": "code",
   "execution_count": 6,
   "metadata": {},
   "outputs": [],
   "source": [
    "class LibraryLS:\n",
    "    def __init__(self, sid):\n",
    "        self.sid = sid\n",
    "        self.loanStatusList = []\n",
    "        self.errorMessage= ''\n",
    "    "
   ]
  },
  {
   "cell_type": "code",
   "execution_count": 40,
   "metadata": {},
   "outputs": [
    {
     "data": {
      "text/plain": [
       "'#STATE : 도서 상태,\\n#-1  에러\\n#1 대출가능\\n#0 대출중\\n#2 지정도서\\n# 대출불가 아직 생각 안함.\\n#RN : 등록번호\\n#CN : 청구기호\\n#POS : 위치\\n이런것들'"
      ]
     },
     "execution_count": 40,
     "metadata": {},
     "output_type": "execute_result"
    }
   ],
   "source": [
    "class LoanStatus:\n",
    "    def __init__(self, title = '', RN = '', CN = '', POS = '', STATE = -1, RDD = '', BN = 0, errorMessage = ''):\n",
    "        self.title = title\n",
    "        self.RN= RN\n",
    "        self.CN= CN\n",
    "        self.POS= POS\n",
    "        self.STATE= STATE\n",
    "        self.RDD = RDD#'2222-12-31'\n",
    "        self.BN = BN\n",
    "        self.errorMessage = errorMessage\n",
    "'''#STATE : 도서 상태,\n",
    "#-1  에러\n",
    "#1 대출가능\n",
    "#0 대출중\n",
    "#2 지정도서\n",
    "# 대출불가 아직 생각 안함.\n",
    "#RN : 등록번호\n",
    "#CN : 청구기호\n",
    "#POS : 위치\n",
    "이런것들'''"
   ]
  },
  {
   "cell_type": "code",
   "execution_count": 43,
   "metadata": {},
   "outputs": [],
   "source": [
    "#아직 상명대만 함. 상명대 ISBN으로 검색예정.\n",
    "def makeSearchUrl(ISBN, title, sid, flag):\n",
    "    if flag ==1:\n",
    "        searchUrl = base_start_url_list[sid]+base_middle_url_list[sid] + ISBN+ base_end_url_list[sid]\n",
    "        return searchUrl\n",
    "    "
   ]
  },
  {
   "cell_type": "code",
   "execution_count": 44,
   "metadata": {},
   "outputs": [],
   "source": [
    "def findSubStringByRegEx(text, sid, subStringType):\n",
    "    regex = re.compile(regexDictList[sid][subStringType])\n",
    "    matchObj = regex.search(text)\n",
    "    subString = matchObj.group(1)\n",
    "    return subString\n",
    "    \n",
    "    "
   ]
  },
  {
   "cell_type": "code",
   "execution_count": 45,
   "metadata": {},
   "outputs": [],
   "source": [
    "def find_ISBN(text):\n",
    "    regex = re.compile('\\d\\d\\d\\d\\d\\d\\d\\d\\d\\d\\d\\d\\d')\n",
    "    matchObj = regex.search(text)\n",
    "    return matchObj.group(0)"
   ]
  },
  {
   "cell_type": "code",
   "execution_count": 46,
   "metadata": {},
   "outputs": [],
   "source": [
    "def find_BN(text):\n",
    "    if '예약' in text:\n",
    "        regex = re.compile('대출중\\s*\\(\\s+(\\d+)명')\n",
    "        matchObj = regex.search(text)\n",
    "        num = int(matchObj.group(1))\n",
    "        return num\n",
    "    else :\n",
    "        return 0"
   ]
  },
  {
   "cell_type": "code",
   "execution_count": 47,
   "metadata": {},
   "outputs": [],
   "source": [
    "def find_RDD(text):\n",
    "    regex = re.compile('\\d\\d\\d\\d\\-\\d\\d\\-\\d\\d')\n",
    "    matchObj = regex.search(text)\n",
    "    return matchObj.group(0)"
   ]
  },
  {
   "cell_type": "code",
   "execution_count": 48,
   "metadata": {},
   "outputs": [],
   "source": [
    "def find_STATE_BN(text):\n",
    "    if '대출중' in text:\n",
    "        return 0, find_BN(text)\n",
    "    elif '이용가능' in text:\n",
    "        return 1,0\n",
    "    elif '지정도서' in text:\n",
    "        return 2,0\n",
    "    else :\n",
    "        return -1,0"
   ]
  },
  {
   "cell_type": "code",
   "execution_count": 58,
   "metadata": {},
   "outputs": [],
   "source": [
    "def visitLink(ISBN, sid, title, bookLink):\n",
    "    loanStatusList = []\n",
    "    #= LoanStatus()\n",
    "    try:\n",
    "        #1. 접속.\n",
    "        html = urlopen(base_start_url_list[sid]+bookLink)\n",
    "        bsObject = BeautifulSoup(html, \"html.parser\")\n",
    "        \n",
    "        #1-1 ISBN 정보가 일치하지 않다면 바로 return!!!\n",
    "        includedISBNString = str(bsObject.find('div', {'class':'col-md-10 detail-table-right'}).find_all('dl')[2].find('dd'))\n",
    "\n",
    "        if ISBN != find_ISBN(includedISBNString):\n",
    "            return loanStatusList\n",
    "        #2. 대출 데이터를 차곡차곡저장.\n",
    "        idx = 0\n",
    "        for loanResult in bsObject.find('div', class_='sponge-guide-Box-table sponge-detail-table').find('tbody').find_all('tr'):\n",
    "            errorMessage = ''\n",
    "            content = loanResult.find_all('td')\n",
    "            RN = content[0].text.strip()\n",
    "            CN = content[1].text.strip()\n",
    "            POS = content[2].text.strip()\n",
    "            STATE_STRING = content[3].text.strip()\n",
    "            try:\n",
    "                RDD = find_RDD(str(content[4]))\n",
    "            except AttributeError as e:\n",
    "                RDD = ''\n",
    "            STATE, BN = find_STATE_BN(STATE_STRING)\n",
    "            loanStatusList.append(LoanStatus(title, RN, CN,POS,STATE, RDD ,BN, ''))\n",
    "    except :\n",
    "        pass\n",
    "        #traceback.format_exc()\n",
    "    finally:\n",
    "        return loanStatusList"
   ]
  },
  {
   "cell_type": "code",
   "execution_count": 59,
   "metadata": {},
   "outputs": [],
   "source": [
    "test_string = \"\"\n",
    "def crawling(ISBN, title, sid, searchUrl):\n",
    "    libraryLoanStatus = LibraryLS(sid)\n",
    "    try:\n",
    "        #1. 접속.\n",
    "        html = urlopen(searchUrl)\n",
    "        bsObject = BeautifulSoup(html, \"html.parser\")\n",
    "        #2. 링크를 차곡차곡저장.\n",
    "        # 정규식과 beautifulsoap4을 이용하여 저장...!!\n",
    "        bookLinklist =[]\n",
    "        for bookResult in bsObject.find_all('div', class_='search-list-result'):\n",
    "            content = bookResult.find('div', {'class','sponge-list-content'}).find('a')\n",
    "            title = content.text.strip()\n",
    "            link =  content.get('href')\n",
    "            bookLinklist.append([title, link])\n",
    "\n",
    "        #3. 해당 링크를 방문하여 리스트에 추가해라..!!\n",
    "        for item in bookLinklist:\n",
    "            libraryLoanStatus.loanStatusList += visitLink(ISBN, sid, item[0], item[1])\n",
    "    except :\n",
    "        libraryLoanStatus.errorMessage = traceback.format_exc()\n",
    "        #libraryLoanStatus.errorMessage = 에러 traceback 에러메세지를 담는다.\n",
    "    finally:\n",
    "        return libraryLoanStatus\n",
    "    "
   ]
  },
  {
   "cell_type": "code",
   "execution_count": 41,
   "metadata": {},
   "outputs": [],
   "source": [
    "def makeJsonDict(result):\n",
    "    # result 의 타입은 LibraryLS\n",
    "    jsonDict = {}\n",
    "    jsonDict['sid'] = result.sid\n",
    "    jsonDict['loanStatusList'] = []\n",
    "    for item in result.loanStatusList:\n",
    "        jsonDict['loanStatusList'].append(vars(item))\n",
    "    jsonDict['errorMessage']=result.errorMessage\n",
    "    return jsonDict"
   ]
  },
  {
   "cell_type": "code",
   "execution_count": 42,
   "metadata": {},
   "outputs": [],
   "source": [
    "#flag =1 iSBN, 0, title search by..\n",
    "#함수 만들기.\n",
    "\n",
    "#sid = int(sid)\n",
    "def findLoanStatus(ISBN, title, sid):\n",
    "    searchUrl = makeSearchUrl(ISBN, title, sid, 1)\n",
    "    result = crawling(ISBN, title, sid, searchUrl)\n",
    "    # json string 으로 만들기.\n",
    "    jsonDict = makeJsonDict(result)\n",
    "    return json.dumps(jsonDict)\n",
    "    "
   ]
  },
  {
   "cell_type": "markdown",
   "metadata": {},
   "source": [
    "# 밑에는 예시"
   ]
  },
  {
   "cell_type": "code",
   "execution_count": 60,
   "metadata": {
    "scrolled": true
   },
   "outputs": [],
   "source": [
    "ISBN = '9788988474839'\n",
    "title = '데이터 분석 전문가 가이드'\n",
    "sid = SM_CODE\n",
    "#searchUrl = makeSearchUrl(ISBN, title, sid, 1)\n",
    "jsonString = findLoanStatus(ISBN, title, sid)"
   ]
  },
  {
   "cell_type": "code",
   "execution_count": null,
   "metadata": {},
   "outputs": [],
   "source": []
  },
  {
   "cell_type": "code",
   "execution_count": 61,
   "metadata": {
    "scrolled": true
   },
   "outputs": [
    {
     "name": "stdout",
     "output_type": "stream",
     "text": [
      "{\"sid\": 7, \"loanStatusList\": [{\"title\": \"\\ub370\\uc774\\ud130 \\ubd84\\uc11d \\uc804\\ubb38\\uac00 \\uac00\\uc774\\ub4dc  = The guide for advanced data analytics professional\", \"RN\": \"L0113396\", \"CN\": \"005.74 \\ub370\\uc774\\ud55c\\uac1c\", \"POS\": \"\\uc81c1\\uc790\\ub8cc\\uc2e4(3\\uce35)\", \"STATE\": 0, \"RDD\": \"2021-03-01\", \"BN\": 1, \"errorMessage\": \"\"}, {\"title\": \"\\ub370\\uc774\\ud130 \\ubd84\\uc11d \\uc804\\ubb38\\uac00 \\uac00\\uc774\\ub4dc\", \"RN\": \"L0112135\", \"CN\": \"005.74 \\ud55c\\uad6d\\ub370\\uac1c  c.3\", \"POS\": \"\\uc81c1\\uc790\\ub8cc\\uc2e4(3\\uce35)\", \"STATE\": 0, \"RDD\": \"2020-04-02\", \"BN\": 0, \"errorMessage\": \"\"}, {\"title\": \"\\ub370\\uc774\\ud130 \\ubd84\\uc11d \\uc804\\ubb38\\uac00 \\uac00\\uc774\\ub4dc\", \"RN\": \"S0480361\", \"CN\": \"005.74 \\ud55c\\uad6d\\ub370\\uac1c\", \"POS\": \"\\uc81c1\\uc790\\ub8cc\\uc2e4(3\\uce35)\", \"STATE\": 1, \"RDD\": \"\", \"BN\": 0, \"errorMessage\": \"\"}, {\"title\": \"\\ub370\\uc774\\ud130 \\ubd84\\uc11d \\uc804\\ubb38\\uac00 \\uac00\\uc774\\ub4dc\", \"RN\": \"S0484218\", \"CN\": \"005.74 \\ud55c\\uad6d\\ub370\\uac1c  2\", \"POS\": \"\\uc81c1\\uc790\\ub8cc\\uc2e4(3\\uce35)\", \"STATE\": 0, \"RDD\": \"2020-02-17\", \"BN\": 0, \"errorMessage\": \"\"}], \"errorMessage\": \"\"}\n"
     ]
    }
   ],
   "source": [
    "print(result)"
   ]
  },
  {
   "cell_type": "code",
   "execution_count": 34,
   "metadata": {},
   "outputs": [],
   "source": [
    "jsonString = findLoanStatus('9788970506432', 'idonknow', SM_CODE)"
   ]
  },
  {
   "cell_type": "code",
   "execution_count": 35,
   "metadata": {},
   "outputs": [
    {
     "data": {
      "text/plain": [
       "'{\"sid\": 7, \"loanStatusList\": [{\"title\": \"(C\\\\uc5b8\\\\uc5b4\\\\ub85c \\\\uc27d\\\\uac8c \\\\ud480\\\\uc5b4 \\\\uc4f4) \\\\uc790\\\\ub8cc \\\\uad6c\\\\uc870 = Data structures in C\", \"RN\": \"S0399964\", \"CN\": \"005.73 \\\\ucc9c\\\\uc778\\\\uc790\\\\uac1c\", \"POS\": \"\\\\uc81c1\\\\uc790\\\\ub8cc\\\\uc2e4(\\\\uacfc\\\\uc81c\\\\ub3c4\\\\uc11c)\", \"STATE\": 2, \"RDD\": \"\", \"BN\": 0, \"errorMessage\": \"\"}, {\"title\": \"(C\\\\uc5b8\\\\uc5b4\\\\ub85c \\\\uc27d\\\\uac8c \\\\ud480\\\\uc5b4 \\\\uc4f4) \\\\uc790\\\\ub8cc \\\\uad6c\\\\uc870 = Data structures in C\", \"RN\": \"S0445167\", \"CN\": \"005.73 \\\\ucc9c\\\\uc778\\\\uc790\\\\uac1c  2\", \"POS\": \"\\\\uc81c1\\\\uc790\\\\ub8cc\\\\uc2e4(\\\\uacfc\\\\uc81c\\\\ub3c4\\\\uc11c)\", \"STATE\": 2, \"RDD\": \"\", \"BN\": 0, \"errorMessage\": \"\"}, {\"title\": \"(C\\\\uc5b8\\\\uc5b4\\\\ub85c \\\\uc27d\\\\uac8c \\\\ud480\\\\uc5b4 \\\\uc4f4) \\\\uc790\\\\ub8cc \\\\uad6c\\\\uc870 = Data structures in C\", \"RN\": \"S0445743\", \"CN\": \"005.73 \\\\ucc9c\\\\uc778\\\\uc790\\\\uac1c  3\", \"POS\": \"\\\\uc81c1\\\\uc790\\\\ub8cc\\\\uc2e4(\\\\uacfc\\\\uc81c\\\\ub3c4\\\\uc11c)\", \"STATE\": 2, \"RDD\": \"\", \"BN\": 0, \"errorMessage\": \"\"}, {\"title\": \"(C\\\\uc5b8\\\\uc5b4\\\\ub85c \\\\uc27d\\\\uac8c \\\\ud480\\\\uc5b4 \\\\uc4f4) \\\\uc790\\\\ub8cc \\\\uad6c\\\\uc870 = Data structures in C\", \"RN\": \"S0445744\", \"CN\": \"005.73 \\\\ucc9c\\\\uc778\\\\uc790\\\\uac1c  4\", \"POS\": \"\\\\uc81c1\\\\uc790\\\\ub8cc\\\\uc2e4(\\\\uacfc\\\\uc81c\\\\ub3c4\\\\uc11c)\", \"STATE\": 2, \"RDD\": \"\", \"BN\": 0, \"errorMessage\": \"\"}], \"errorMessage\": \"\"}'"
      ]
     },
     "execution_count": 35,
     "metadata": {},
     "output_type": "execute_result"
    }
   ],
   "source": [
    "jsonString"
   ]
  },
  {
   "cell_type": "code",
   "execution_count": 36,
   "metadata": {},
   "outputs": [],
   "source": [
    "ilovehangul = json.loads(jsonString)"
   ]
  },
  {
   "cell_type": "code",
   "execution_count": 37,
   "metadata": {},
   "outputs": [
    {
     "data": {
      "text/plain": [
       "{'sid': 7,\n",
       " 'loanStatusList': [{'title': '(C언어로 쉽게 풀어 쓴) 자료 구조 = Data structures in C',\n",
       "   'RN': 'S0399964',\n",
       "   'CN': '005.73 천인자개',\n",
       "   'POS': '제1자료실(과제도서)',\n",
       "   'STATE': 2,\n",
       "   'RDD': '',\n",
       "   'BN': 0,\n",
       "   'errorMessage': ''},\n",
       "  {'title': '(C언어로 쉽게 풀어 쓴) 자료 구조 = Data structures in C',\n",
       "   'RN': 'S0445167',\n",
       "   'CN': '005.73 천인자개  2',\n",
       "   'POS': '제1자료실(과제도서)',\n",
       "   'STATE': 2,\n",
       "   'RDD': '',\n",
       "   'BN': 0,\n",
       "   'errorMessage': ''},\n",
       "  {'title': '(C언어로 쉽게 풀어 쓴) 자료 구조 = Data structures in C',\n",
       "   'RN': 'S0445743',\n",
       "   'CN': '005.73 천인자개  3',\n",
       "   'POS': '제1자료실(과제도서)',\n",
       "   'STATE': 2,\n",
       "   'RDD': '',\n",
       "   'BN': 0,\n",
       "   'errorMessage': ''},\n",
       "  {'title': '(C언어로 쉽게 풀어 쓴) 자료 구조 = Data structures in C',\n",
       "   'RN': 'S0445744',\n",
       "   'CN': '005.73 천인자개  4',\n",
       "   'POS': '제1자료실(과제도서)',\n",
       "   'STATE': 2,\n",
       "   'RDD': '',\n",
       "   'BN': 0,\n",
       "   'errorMessage': ''}],\n",
       " 'errorMessage': ''}"
      ]
     },
     "execution_count": 37,
     "metadata": {},
     "output_type": "execute_result"
    }
   ],
   "source": [
    "ilovehangul"
   ]
  },
  {
   "cell_type": "code",
   "execution_count": null,
   "metadata": {},
   "outputs": [],
   "source": []
  },
  {
   "cell_type": "code",
   "execution_count": 167,
   "metadata": {},
   "outputs": [],
   "source": [
    "try:\n",
    "    1/0\n",
    "    \n",
    "except AttributeError as e :\n",
    "    print('AE')\n",
    "except ZeroDivisionError as e:\n",
    "    data = str(traceback.format_exc())\n",
    "finally :\n",
    "    'fuck'"
   ]
  },
  {
   "cell_type": "code",
   "execution_count": 168,
   "metadata": {},
   "outputs": [
    {
     "data": {
      "text/plain": [
       "'Traceback (most recent call last):\\n  File \"<ipython-input-167-bb8ad90923a1>\", line 2, in <module>\\n    1/0\\nZeroDivisionError: division by zero\\n'"
      ]
     },
     "execution_count": 168,
     "metadata": {},
     "output_type": "execute_result"
    }
   ],
   "source": [
    "data"
   ]
  },
  {
   "cell_type": "code",
   "execution_count": null,
   "metadata": {},
   "outputs": [],
   "source": []
  },
  {
   "cell_type": "code",
   "execution_count": 125,
   "metadata": {},
   "outputs": [],
   "source": [
    "result = find_RDD(text)"
   ]
  },
  {
   "cell_type": "code",
   "execution_count": 126,
   "metadata": {},
   "outputs": [
    {
     "data": {
      "text/plain": [
       "'2021-03-01'"
      ]
     },
     "execution_count": 126,
     "metadata": {},
     "output_type": "execute_result"
    }
   ],
   "source": [
    "result "
   ]
  },
  {
   "cell_type": "code",
   "execution_count": 90,
   "metadata": {},
   "outputs": [],
   "source": [
    "li = [1,2,3,4]\n",
    "li2 = [4,5,6]"
   ]
  },
  {
   "cell_type": "code",
   "execution_count": 91,
   "metadata": {},
   "outputs": [],
   "source": [
    "li += li2"
   ]
  },
  {
   "cell_type": "code",
   "execution_count": 92,
   "metadata": {},
   "outputs": [
    {
     "data": {
      "text/plain": [
       "[1, 2, 3, 4, 4, 5, 6]"
      ]
     },
     "execution_count": 92,
     "metadata": {},
     "output_type": "execute_result"
    }
   ],
   "source": [
    "li"
   ]
  },
  {
   "cell_type": "code",
   "execution_count": 170,
   "metadata": {
    "scrolled": false
   },
   "outputs": [
    {
     "name": "stdout",
     "output_type": "stream",
     "text": [
      "{'sid': 7, 'loanStatusList': [<__main__.LoanStatus object at 0x00000190A38CAE88>, <__main__.LoanStatus object at 0x00000190A2DBEAC8>, <__main__.LoanStatus object at 0x00000190A2DBEC88>, <__main__.LoanStatus object at 0x00000190A2DBEA08>], 'errorMessage': ''}\n",
      "{'title': '데이터 분석 전문가 가이드  = The guide for advanced data analytics professional', 'RN': 'L0113396', 'CN': '005.74 데이한개', 'POS': '제1자료실(3층)', 'STATE': 0, 'RDD': '2021-03-01', 'BN': 1, 'errorMessage': ''}\n",
      "{'title': '데이터 분석 전문가 가이드', 'RN': 'L0112135', 'CN': '005.74 한국데개  c.3', 'POS': '제1자료실(3층)', 'STATE': 0, 'RDD': '2020-04-02', 'BN': 0, 'errorMessage': ''}\n",
      "{'title': '데이터 분석 전문가 가이드', 'RN': 'S0480361', 'CN': '005.74 한국데개', 'POS': '제1자료실(3층)', 'STATE': 1, 'RDD': '', 'BN': 0, 'errorMessage': ''}\n",
      "{'title': '데이터 분석 전문가 가이드', 'RN': 'S0484218', 'CN': '005.74 한국데개  2', 'POS': '제1자료실(3층)', 'STATE': 0, 'RDD': '2020-02-17', 'BN': 0, 'errorMessage': ''}\n"
     ]
    }
   ],
   "source": [
    "print(vars(result))\n",
    "for item in result.loanStatusList:\n",
    "    print(vars(item))"
   ]
  },
  {
   "cell_type": "code",
   "execution_count": null,
   "metadata": {},
   "outputs": [],
   "source": [
    "def makeJsonString(jsonDict):\n",
    "    jsonString = \"\""
   ]
  },
  {
   "cell_type": "code",
   "execution_count": 23,
   "metadata": {},
   "outputs": [],
   "source": [
    "jsonDict = makejsonDict(result)"
   ]
  },
  {
   "cell_type": "code",
   "execution_count": 24,
   "metadata": {},
   "outputs": [
    {
     "data": {
      "text/plain": [
       "{'sid': 7,\n",
       " 'loanStatusList': [{'title': '데이터 분석 전문가 가이드  = The guide for advanced data analytics professional',\n",
       "   'RN': 'L0113396',\n",
       "   'CN': '005.74 데이한개',\n",
       "   'POS': '제1자료실(3층)',\n",
       "   'STATE': 0,\n",
       "   'RDD': '2021-03-01',\n",
       "   'BN': 1,\n",
       "   'errorMessage': ''},\n",
       "  {'title': '데이터 분석 전문가 가이드',\n",
       "   'RN': 'L0112135',\n",
       "   'CN': '005.74 한국데개  c.3',\n",
       "   'POS': '제1자료실(3층)',\n",
       "   'STATE': 0,\n",
       "   'RDD': '2020-04-02',\n",
       "   'BN': 0,\n",
       "   'errorMessage': ''},\n",
       "  {'title': '데이터 분석 전문가 가이드',\n",
       "   'RN': 'S0480361',\n",
       "   'CN': '005.74 한국데개',\n",
       "   'POS': '제1자료실(3층)',\n",
       "   'STATE': 1,\n",
       "   'RDD': '',\n",
       "   'BN': 0,\n",
       "   'errorMessage': ''},\n",
       "  {'title': '데이터 분석 전문가 가이드',\n",
       "   'RN': 'S0484218',\n",
       "   'CN': '005.74 한국데개  2',\n",
       "   'POS': '제1자료실(3층)',\n",
       "   'STATE': 0,\n",
       "   'RDD': '2020-02-17',\n",
       "   'BN': 0,\n",
       "   'errorMessage': ''}],\n",
       " 'errorMessage': ''}"
      ]
     },
     "execution_count": 24,
     "metadata": {},
     "output_type": "execute_result"
    }
   ],
   "source": [
    "jsonDict"
   ]
  },
  {
   "cell_type": "code",
   "execution_count": 172,
   "metadata": {},
   "outputs": [],
   "source": [
    "dictJson['sid'] = result.sid"
   ]
  },
  {
   "cell_type": "code",
   "execution_count": 4,
   "metadata": {},
   "outputs": [],
   "source": [
    "ISBN = '9788988474839'\n",
    "title = '데이터분석전문가가이드'\n",
    "smlib_search_url = 'https://lib.smu.ac.kr/Search/?q=' \n",
    "#\"https://lib.smu.ac.kr/Search/?q=%ec%82%ac%eb%9e%8c&searchTruncate=true&campuscode=00\"\n",
    "html = urlopen(smlib_search_url+ISBN)\n",
    "bsObject = BeautifulSoup(html, \"html.parser\")"
   ]
  },
  {
   "cell_type": "code",
   "execution_count": 173,
   "metadata": {
    "scrolled": true
   },
   "outputs": [
    {
     "data": {
      "text/plain": [
       "{'sid': 7}"
      ]
     },
     "execution_count": 173,
     "metadata": {},
     "output_type": "execute_result"
    }
   ],
   "source": [
    "dictJson"
   ]
  },
  {
   "cell_type": "code",
   "execution_count": 178,
   "metadata": {},
   "outputs": [],
   "source": [
    "dictJson['loanStatusList'] = []"
   ]
  },
  {
   "cell_type": "code",
   "execution_count": 99,
   "metadata": {
    "scrolled": true
   },
   "outputs": [
    {
     "ename": "NameError",
     "evalue": "name 'bsObject' is not defined",
     "output_type": "error",
     "traceback": [
      "\u001b[1;31m---------------------------------------------------------------------------\u001b[0m",
      "\u001b[1;31mNameError\u001b[0m                                 Traceback (most recent call last)",
      "\u001b[1;32m<ipython-input-99-934ef9e456f6>\u001b[0m in \u001b[0;36m<module>\u001b[1;34m\u001b[0m\n\u001b[0;32m      1\u001b[0m \u001b[0midx\u001b[0m \u001b[1;33m=\u001b[0m \u001b[1;36m0\u001b[0m\u001b[1;33m\u001b[0m\u001b[1;33m\u001b[0m\u001b[0m\n\u001b[1;32m----> 2\u001b[1;33m \u001b[1;32mfor\u001b[0m \u001b[0mlink\u001b[0m \u001b[1;32min\u001b[0m \u001b[0mbsObject\u001b[0m\u001b[1;33m.\u001b[0m\u001b[0mfind_all\u001b[0m\u001b[1;33m(\u001b[0m\u001b[1;34m'div'\u001b[0m\u001b[1;33m,\u001b[0m \u001b[0mclass_\u001b[0m\u001b[1;33m=\u001b[0m\u001b[1;34m'search-list-result'\u001b[0m\u001b[1;33m)\u001b[0m\u001b[1;33m:\u001b[0m\u001b[1;33m\u001b[0m\u001b[1;33m\u001b[0m\u001b[0m\n\u001b[0m\u001b[0;32m      3\u001b[0m   \u001b[0mprint\u001b[0m\u001b[1;33m(\u001b[0m\u001b[0mlink\u001b[0m\u001b[1;33m)\u001b[0m\u001b[1;33m\u001b[0m\u001b[1;33m\u001b[0m\u001b[0m\n\u001b[0;32m      4\u001b[0m   \u001b[0mprint\u001b[0m\u001b[1;33m(\u001b[0m\u001b[0midx\u001b[0m\u001b[1;33m,\u001b[0m \u001b[1;34m\"fuck\"\u001b[0m\u001b[1;33m)\u001b[0m\u001b[1;33m\u001b[0m\u001b[1;33m\u001b[0m\u001b[0m\n\u001b[0;32m      5\u001b[0m   \u001b[0midx\u001b[0m \u001b[1;33m+=\u001b[0m\u001b[1;36m1\u001b[0m\u001b[1;33m\u001b[0m\u001b[1;33m\u001b[0m\u001b[0m\n",
      "\u001b[1;31mNameError\u001b[0m: name 'bsObject' is not defined"
     ]
    }
   ],
   "source": [
    "idx = 0\n",
    "for link in bsObject.find_all('div', class_='search-list-result'):\n",
    "  print(link)\n",
    "  print(idx, \"fuck\")\n",
    "  idx +=1"
   ]
  },
  {
   "cell_type": "code",
   "execution_count": 179,
   "metadata": {},
   "outputs": [],
   "source": [
    "for item in result.loanStatusList:\n",
    "    dictJson['loanStatusList'].append(vars(item))"
   ]
  },
  {
   "cell_type": "code",
   "execution_count": 180,
   "metadata": {},
   "outputs": [
    {
     "data": {
      "text/plain": [
       "{'sid': 7,\n",
       " 'lodnStatusList': [],\n",
       " 'loanStatusList': [{'title': '데이터 분석 전문가 가이드  = The guide for advanced data analytics professional',\n",
       "   'RN': 'L0113396',\n",
       "   'CN': '005.74 데이한개',\n",
       "   'POS': '제1자료실(3층)',\n",
       "   'STATE': 0,\n",
       "   'RDD': '2021-03-01',\n",
       "   'BN': 1,\n",
       "   'errorMessage': ''},\n",
       "  {'title': '데이터 분석 전문가 가이드',\n",
       "   'RN': 'L0112135',\n",
       "   'CN': '005.74 한국데개  c.3',\n",
       "   'POS': '제1자료실(3층)',\n",
       "   'STATE': 0,\n",
       "   'RDD': '2020-04-02',\n",
       "   'BN': 0,\n",
       "   'errorMessage': ''},\n",
       "  {'title': '데이터 분석 전문가 가이드',\n",
       "   'RN': 'S0480361',\n",
       "   'CN': '005.74 한국데개',\n",
       "   'POS': '제1자료실(3층)',\n",
       "   'STATE': 1,\n",
       "   'RDD': '',\n",
       "   'BN': 0,\n",
       "   'errorMessage': ''},\n",
       "  {'title': '데이터 분석 전문가 가이드',\n",
       "   'RN': 'S0484218',\n",
       "   'CN': '005.74 한국데개  2',\n",
       "   'POS': '제1자료실(3층)',\n",
       "   'STATE': 0,\n",
       "   'RDD': '2020-02-17',\n",
       "   'BN': 0,\n",
       "   'errorMessage': ''}]}"
      ]
     },
     "execution_count": 180,
     "metadata": {},
     "output_type": "execute_result"
    }
   ],
   "source": [
    "dictJson"
   ]
  },
  {
   "cell_type": "code",
   "execution_count": 181,
   "metadata": {},
   "outputs": [],
   "source": [
    "dictJson['errorMessage']=result.errorMessage"
   ]
  },
  {
   "cell_type": "code",
   "execution_count": 175,
   "metadata": {},
   "outputs": [
    {
     "data": {
      "text/plain": [
       "[<__main__.LoanStatus at 0x190a38cae88>,\n",
       " <__main__.LoanStatus at 0x190a2dbeac8>,\n",
       " <__main__.LoanStatus at 0x190a2dbec88>,\n",
       " <__main__.LoanStatus at 0x190a2dbea08>]"
      ]
     },
     "execution_count": 175,
     "metadata": {},
     "output_type": "execute_result"
    }
   ],
   "source": [
    "result.loanStatusList"
   ]
  },
  {
   "cell_type": "code",
   "execution_count": 182,
   "metadata": {},
   "outputs": [
    {
     "data": {
      "text/plain": [
       "[]"
      ]
     },
     "execution_count": 182,
     "metadata": {},
     "output_type": "execute_result"
    }
   ],
   "source": [
    "dictJson.pop('lodnStatusList')"
   ]
  },
  {
   "cell_type": "code",
   "execution_count": 183,
   "metadata": {},
   "outputs": [
    {
     "data": {
      "text/plain": [
       "{'sid': 7,\n",
       " 'loanStatusList': [{'title': '데이터 분석 전문가 가이드  = The guide for advanced data analytics professional',\n",
       "   'RN': 'L0113396',\n",
       "   'CN': '005.74 데이한개',\n",
       "   'POS': '제1자료실(3층)',\n",
       "   'STATE': 0,\n",
       "   'RDD': '2021-03-01',\n",
       "   'BN': 1,\n",
       "   'errorMessage': ''},\n",
       "  {'title': '데이터 분석 전문가 가이드',\n",
       "   'RN': 'L0112135',\n",
       "   'CN': '005.74 한국데개  c.3',\n",
       "   'POS': '제1자료실(3층)',\n",
       "   'STATE': 0,\n",
       "   'RDD': '2020-04-02',\n",
       "   'BN': 0,\n",
       "   'errorMessage': ''},\n",
       "  {'title': '데이터 분석 전문가 가이드',\n",
       "   'RN': 'S0480361',\n",
       "   'CN': '005.74 한국데개',\n",
       "   'POS': '제1자료실(3층)',\n",
       "   'STATE': 1,\n",
       "   'RDD': '',\n",
       "   'BN': 0,\n",
       "   'errorMessage': ''},\n",
       "  {'title': '데이터 분석 전문가 가이드',\n",
       "   'RN': 'S0484218',\n",
       "   'CN': '005.74 한국데개  2',\n",
       "   'POS': '제1자료실(3층)',\n",
       "   'STATE': 0,\n",
       "   'RDD': '2020-02-17',\n",
       "   'BN': 0,\n",
       "   'errorMessage': ''}],\n",
       " 'errorMessage': ''}"
      ]
     },
     "execution_count": 183,
     "metadata": {},
     "output_type": "execute_result"
    }
   ],
   "source": [
    "dictJson"
   ]
  },
  {
   "cell_type": "code",
   "execution_count": 135,
   "metadata": {},
   "outputs": [],
   "source": [
    "html = urlopen('https://lib.smu.ac.kr/Search/Detail/819033?key=9788988474839&campuscode=00')\n",
    "bsObject = BeautifulSoup(html, \"html.parser\")\n"
   ]
  },
  {
   "cell_type": "code",
   "execution_count": 147,
   "metadata": {},
   "outputs": [],
   "source": [
    "includuedISBNString = str(bsObject.find('div', {'class':'col-md-10 detail-table-right'}).find_all('dl')[2].find('dd'))\n",
    "find_ISBN(includuedISBNString)"
   ]
  },
  {
   "cell_type": "code",
   "execution_count": 148,
   "metadata": {},
   "outputs": [],
   "source": [
    "a = find_ISBN(str(includuedISBNString))"
   ]
  },
  {
   "cell_type": "code",
   "execution_count": 149,
   "metadata": {},
   "outputs": [
    {
     "data": {
      "text/plain": [
       "'9788988474839'"
      ]
     },
     "execution_count": 149,
     "metadata": {},
     "output_type": "execute_result"
    }
   ],
   "source": [
    "a"
   ]
  },
  {
   "cell_type": "code",
   "execution_count": null,
   "metadata": {},
   "outputs": [],
   "source": []
  },
  {
   "cell_type": "code",
   "execution_count": 129,
   "metadata": {},
   "outputs": [
    {
     "name": "stdout",
     "output_type": "stream",
     "text": [
      "<td class=\"center-bu\" scope=\"row\">\r\n",
      "                                            L0113396\r\n",
      "                                                                                                                                </td>\n",
      "------------------\n",
      "<td class=\"center-bu leftsilla\">005.74 데이한개   </td>\n",
      "------------------\n",
      "<td class=\"center-bu\">\r\n",
      "                                        제1자료실(3층)\r\n",
      "                                    </td>\n",
      "------------------\n",
      "<td class=\"center-bu mobile_none\">\n",
      "<span class=\"sponge-textcolor-red\">대출중</span><span class=\"sponge-textcolor-red\">( 1명, 예약중)</span>\n",
      "</td>\n",
      "------------------\n",
      "<td class=\"center-bu icon-mobile\">\n",
      "<span class=\"DeskTop_none\"><span class=\"sponge-textcolor-red\">대출중</span><span class=\"sponge-textcolor-red\">( 1명, 예약중)</span></span><br class=\"DeskTop_none\"/>\r\n",
      "반납예정일 <span class=\"sponge-textcolor-red\">2021-03-01 </span>\n",
      "<a href=\"/account/Logon\" title=\"예약\"><span class=\"fa fa-chevron-circle-down\"></span><span class=\"btn btn-xs btn-default ie7-visible\">예약</span></a>\n",
      "<a href=\"/Search/MyFolder/819033?campuscode=00\" title=\"나의폴더\"> <span class=\"fa fa-folder-open-o\"></span><span class=\"btn btn-xs btn-default ie7-visible\">마이폴더</span></a>\n",
      "</td>\n",
      "------------------\n"
     ]
    }
   ],
   "source": [
    "#test\n",
    "ISBN = '9788988474839'\n",
    "sid = SM_CODE\n",
    "title =  '데이터 분석 전문가 가이드  = The guide for advanced data analytics professional'\n",
    "bookLink = '/Search/Detail/819033?key=9788988474839&campuscode=00'\n",
    "test = visitLink(ISBN, sid, title, bookLink)"
   ]
  },
  {
   "cell_type": "code",
   "execution_count": 130,
   "metadata": {},
   "outputs": [
    {
     "name": "stdout",
     "output_type": "stream",
     "text": [
      "{'title': '데이터 분석 전문가 가이드  = The guide for advanced data analytics professional', 'RN': 'L0113396', 'CN': '005.74 데이한개', 'POS': '제1자료실(3층)', 'STATE': 0, 'RDD': '2021-03-01', 'BN': 1, 'errorMessage': ''}\n"
     ]
    }
   ],
   "source": [
    "for item in test:\n",
    "    print( vars(item))"
   ]
  },
  {
   "cell_type": "code",
   "execution_count": null,
   "metadata": {},
   "outputs": [],
   "source": []
  },
  {
   "cell_type": "code",
   "execution_count": null,
   "metadata": {},
   "outputs": [],
   "source": []
  },
  {
   "cell_type": "code",
   "execution_count": null,
   "metadata": {},
   "outputs": [],
   "source": []
  },
  {
   "cell_type": "code",
   "execution_count": 32,
   "metadata": {},
   "outputs": [
    {
     "name": "stderr",
     "output_type": "stream",
     "text": [
      "UsageError: Line magic function `%debug(findLoanStatus(ISBN,` not found.\n"
     ]
    }
   ],
   "source": [
    "ISBN = '9788988474839'\n",
    "title = '데이터 분석 전문가 가이드'\n",
    "sid = SM_CODE\n",
    "%debug(findLoanStatus(ISBN, title, sid))"
   ]
  },
  {
   "cell_type": "code",
   "execution_count": 217,
   "metadata": {},
   "outputs": [],
   "source": [
    "regexDictList = ['',\n",
    "'',\n",
    "'',\n",
    "'',\n",
    "'',\n",
    "'',\n",
    "'',\n",
    "{'title': 'checkbox\\d+\\\"\\s+title=\\\"(?P<title>[^>]+)\\\"\\stype=', 'link': '<a href=\\\"(?P<link>[^=]+key=[^>]+)\\\">'},\n",
    "'',\n",
    "'',\n",
    "'',\n",
    "'']"
   ]
  },
  {
   "cell_type": "code",
   "execution_count": 216,
   "metadata": {},
   "outputs": [
    {
     "data": {
      "text/plain": [
       "'checkbox\\\\d+\"\\\\s+title=\"(?P<title>[^=]+)\"\\\\stype='"
      ]
     },
     "execution_count": 216,
     "metadata": {},
     "output_type": "execute_result"
    }
   ],
   "source": [
    "regexDictList[SM_CODE]['title']"
   ]
  },
  {
   "cell_type": "code",
   "execution_count": null,
   "metadata": {},
   "outputs": [],
   "source": []
  },
  {
   "cell_type": "code",
   "execution_count": null,
   "metadata": {},
   "outputs": [],
   "source": []
  },
  {
   "cell_type": "code",
   "execution_count": 208,
   "metadata": {},
   "outputs": [
    {
     "name": "stdout",
     "output_type": "stream",
     "text": [
      "/Search/Detail/819033?key=9788988474839&amp;campuscode=00\n",
      "/Search/Detail/777677?key=9788988474839&amp;campuscode=00\n"
     ]
    }
   ],
   "source": [
    "#Linklist 방문 테스트.\n",
    "bookLinklist = [['데이터 분석 전문가 가이드  = The guide for advanced data analytics professional 선택', '/Search/Detail/819033?key=9788988474839&amp;campuscode=00'], ['데이터 분석 전문가 가이드 선택', '/Search/Detail/777677?key=9788988474839&amp;campuscode=00']]\n",
    "for item in bookLinklist:\n",
    "    visitLink(ISBN, sid, item[0], item[1])"
   ]
  },
  {
   "cell_type": "code",
   "execution_count": 82,
   "metadata": {},
   "outputs": [
    {
     "name": "stdout",
     "output_type": "stream",
     "text": [
      "<tr>\n",
      "<td class=\"center-bu\" scope=\"row\">\r\n",
      "                                            L0112135\r\n",
      "                                                                                                                                </td>\n",
      "<td class=\"center-bu leftsilla\">005.74 한국데개  c.3 </td>\n",
      "<td class=\"center-bu\">\r\n",
      "                                        제1자료실(3층)\r\n",
      "                                    </td>\n",
      "<td class=\"center-bu mobile_none\">\n",
      "<span class=\"sponge-textcolor-red\">대출중</span>\n",
      "</td>\n",
      "<td class=\"center-bu icon-mobile\">\n",
      "<span class=\"DeskTop_none\"><span class=\"sponge-textcolor-red\">대출중</span></span><br class=\"DeskTop_none\"/>\r\n",
      "반납예정일 <span class=\"sponge-textcolor-red\">2020-04-02 </span>\n",
      "<a href=\"/account/Logon\" title=\"예약\"><span class=\"fa fa-chevron-circle-down\"></span><span class=\"btn btn-xs btn-default ie7-visible\">예약</span></a>\n",
      "<a href=\"/Search/MyFolder/777677?campuscode=00\" title=\"나의폴더\"> <span class=\"fa fa-folder-open-o\"></span><span class=\"btn btn-xs btn-default ie7-visible\">마이폴더</span></a>\n",
      "</td>\n",
      "</tr>\n",
      "0\n",
      "1\n",
      "<tr>\n",
      "<td class=\"center-bu\" scope=\"row\">\r\n",
      "                                            S0480361\r\n",
      "                                                                                                                                </td>\n",
      "<td class=\"center-bu leftsilla\">005.74 한국데개   </td>\n",
      "<td class=\"center-bu\">\r\n",
      "                                        제1자료실(3층)\r\n",
      "                                    </td>\n",
      "<td class=\"center-bu mobile_none\">\r\n",
      "                                        \r\n",
      "                                        이용가능\r\n",
      "                                    </td>\n",
      "<td class=\"center-bu icon-mobile\">\n",
      "<span class=\"DeskTop_none\">이용가능</span><br class=\"DeskTop_none\"/>\n",
      "<a href=\"/Search/MyFolder/777677?campuscode=00\" title=\"나의폴더\"> <span class=\"fa fa-folder-open-o\"></span><span class=\"btn btn-xs btn-default ie7-visible\">마이폴더</span></a>\n",
      "<a href=\"/Users/smul/Docs/logon.html\" title=\"보존서고대출\"><span class=\"fa fa-suitcase\"></span></a> </td>\n",
      "</tr>\n",
      "1\n",
      "2\n",
      "<tr>\n",
      "<td class=\"center-bu\" scope=\"row\">\r\n",
      "                                            S0484218\r\n",
      "                                                                                                                                </td>\n",
      "<td class=\"center-bu leftsilla\">005.74 한국데개  2 </td>\n",
      "<td class=\"center-bu\">\r\n",
      "                                        제1자료실(3층)\r\n",
      "                                    </td>\n",
      "<td class=\"center-bu mobile_none\">\n",
      "<span class=\"sponge-textcolor-red\">대출중</span>\n",
      "</td>\n",
      "<td class=\"center-bu icon-mobile\">\n",
      "<span class=\"DeskTop_none\"><span class=\"sponge-textcolor-red\">대출중</span></span><br class=\"DeskTop_none\"/>\r\n",
      "반납예정일 <span class=\"sponge-textcolor-red\">2020-02-17 </span>\n",
      "<a href=\"/account/Logon\" title=\"예약\"><span class=\"fa fa-chevron-circle-down\"></span><span class=\"btn btn-xs btn-default ie7-visible\">예약</span></a>\n",
      "<a href=\"/Search/MyFolder/777677?campuscode=00\" title=\"나의폴더\"> <span class=\"fa fa-folder-open-o\"></span><span class=\"btn btn-xs btn-default ie7-visible\">마이폴더</span></a>\n",
      "</td>\n",
      "</tr>\n",
      "2\n",
      "3\n",
      "3\n"
     ]
    }
   ],
   "source": [
    "asdf =visitLink('9788988474839', SM_CODE, '데이터 분석 전문가 가이드', 'Search/Detail/777677?key=9788988474839&campuscode=00')"
   ]
  },
  {
   "cell_type": "code",
   "execution_count": 83,
   "metadata": {
    "scrolled": true
   },
   "outputs": [
    {
     "name": "stdout",
     "output_type": "stream",
     "text": [
      "{'title': '데이터 분석 전문가 가이드', 'RN': 'L0112135', 'CN': '005.74 한국데개  c.3', 'POS': '제1자료실(3층)', 'STATE': 0, 'RDD': '2020-04-02', 'BN': 0, 'errorMessage': ''}\n",
      "{'title': '데이터 분석 전문가 가이드', 'RN': 'S0480361', 'CN': '005.74 한국데개', 'POS': '제1자료실(3층)', 'STATE': 1, 'RDD': '', 'BN': 0, 'errorMessage': ''}\n",
      "{'title': '데이터 분석 전문가 가이드', 'RN': 'S0484218', 'CN': '005.74 한국데개  2', 'POS': '제1자료실(3층)', 'STATE': 0, 'RDD': '2020-02-17', 'BN': 0, 'errorMessage': ''}\n"
     ]
    }
   ],
   "source": [
    "for item in asdf:\n",
    "    print(vars(item))"
   ]
  },
  {
   "cell_type": "code",
   "execution_count": 42,
   "metadata": {},
   "outputs": [
    {
     "data": {
      "text/plain": [
       "'test_string = \"\"\\ndef crawling(ISBN, title, sid, searchUrl):\\n    libraryLoanStatus = LibraryLS(sid)\\n    try:\\n        #1. 접속.\\n        html = urlopen(searchUrl)\\n        bsObject = BeautifulSoup(html, \"html.parser\")\\n        #2. 링크를 차곡차곡저장.\\n        # 정규식을 이용하여 저장...!!\\n        bookLinklist =[]\\n        for bookResult in bsObject.find_all(\\'div\\', class_=\\'search-list-result\\'):\\n            bookResultString = str(bookResult)\\n            title = findSubStringByRegEx(bookResultString, sid, \\'title\\')\\n            link = findSubStringByRegEx(bookResultString, sid, \\'link\\')\\n            bookLinklist.append([title, link])\\n            print(title, link)\\n        print(bookLinklist)\\n        \\n        #3. 해당 링크를 방문하여라..!!\\n        #Efor item in bookLinklist\\n           visitLink(ISBN, sid, item[0], item[1])\\n    except AttributeError as e:\\n        traceback.print_exc()\\n        libraryLoanStatus.errorMessage = \\'해당 정규식에 포함되지 않는 예외케이스가 발생하였습니다. 정규식을 확인하고 수정하세요\\'\\n    finally:\\n        return libraryLoanStatus\\n    '"
      ]
     },
     "execution_count": 42,
     "metadata": {},
     "output_type": "execute_result"
    }
   ],
   "source": [
    "\"\"\"test_string = \"\"\n",
    "def crawling(ISBN, title, sid, searchUrl):\n",
    "    libraryLoanStatus = LibraryLS(sid)\n",
    "    try:\n",
    "        #1. 접속.\n",
    "        html = urlopen(searchUrl)\n",
    "        bsObject = BeautifulSoup(html, \"html.parser\")\n",
    "        #2. 링크를 차곡차곡저장.\n",
    "        # 정규식을 이용하여 저장...!!\n",
    "        bookLinklist =[]\n",
    "        for bookResult in bsObject.find_all('div', class_='search-list-result'):\n",
    "            bookResultString = str(bookResult)\n",
    "            title = findSubStringByRegEx(bookResultString, sid, 'title')\n",
    "            link = findSubStringByRegEx(bookResultString, sid, 'link')\n",
    "            bookLinklist.append([title, link])\n",
    "            print(title, link)\n",
    "        print(bookLinklist)\n",
    "        \n",
    "        #3. 해당 링크를 방문하여라..!!\n",
    "        #Efor item in bookLinklist\n",
    "           visitLink(ISBN, sid, item[0], item[1])\n",
    "    except AttributeError as e:\n",
    "        traceback.print_exc()\n",
    "        libraryLoanStatus.errorMessage = '해당 정규식에 포함되지 않는 예외케이스가 발생하였습니다. 정규식을 확인하고 수정하세요'\n",
    "    finally:\n",
    "        return libraryLoanStatus\n",
    "    \"\"\""
   ]
  },
  {
   "cell_type": "code",
   "execution_count": 239,
   "metadata": {},
   "outputs": [],
   "source": [
    "\"\"\"def visitLink(ISBN, sid, title, bookLink):\n",
    "    loanStatusList = []\n",
    "    #= LoanStatus()\n",
    "    try:\n",
    "        #1. 접속.\n",
    "        html = urlopen(base_start_url_list[sid]+bookLink)\n",
    "        bsObject = BeautifulSoup(html, \"html.parser\")\n",
    "        #2. 링크를 차곡차곡저장.\n",
    "        # 정규식을 이용하여 저장...!!\n",
    "        for loanResult in bsObject.find_all('div', class_='search-list-result'):\n",
    "            loanResultString = str(loanResult)\n",
    "            title = findSubStringByRegEx(bookResultString, sid, 'title')\n",
    "            link = findSubStringByRegEx(bookResultString, sid, 'link')\n",
    "            bookLinklist.append([title, link])\n",
    "            print(title, link)\n",
    "        print(bookLinklist)\n",
    "        \n",
    "        #3. 해당 링크를 방문하여라..!!\n",
    "        #Efor item in bookLinklist\n",
    "        #   visitLink(ISBN, sid, item[0], item[1])\n",
    "    except AttributeError as e:\n",
    "        traceback.print_exc()\n",
    "        libraryLoanStatus.errorMessage = '해당 정규식에 포함되지 않는 예외케이스가 발생하였습니다. 정규식을 확인하고 수정하세요'\n",
    "    finally:\n",
    "        return libraryLoanStatus\n",
    "\"\"\""
   ]
  },
  {
   "cell_type": "code",
   "execution_count": 113,
   "metadata": {},
   "outputs": [
    {
     "name": "stdout",
     "output_type": "stream",
     "text": [
      "division by zero\n"
     ]
    }
   ],
   "source": [
    "#에러 테스트 코드.\n",
    "try:\n",
    "    5/0\n",
    "except BaseException as e:\n",
    "    print(str(e))\n",
    "    em = str(e)\n",
    "    "
   ]
  },
  {
   "cell_type": "code",
   "execution_count": 115,
   "metadata": {},
   "outputs": [
    {
     "data": {
      "text/plain": [
       "'division by zero'"
      ]
     },
     "execution_count": 115,
     "metadata": {},
     "output_type": "execute_result"
    }
   ],
   "source": [
    "em"
   ]
  },
  {
   "cell_type": "code",
   "execution_count": 137,
   "metadata": {},
   "outputs": [
    {
     "name": "stdout",
     "output_type": "stream",
     "text": [
      "<class 're.Match'>\n"
     ]
    }
   ],
   "source": [
    "titleRegex = re.compile('checkbox\\d+\\\"\\s+title=\\\"(?P<title>[^=]+)\\\"\\stype=')\n",
    "# (?P<title>[^=]+) 이거 앞뒤로 쪼개서 대학별로 붙여넣으면 딱일듯.\n",
    "matchObj = titleRegex.search(text)\n",
    "print(type(matchObj))\n",
    "title = matchObj.group('title')"
   ]
  },
  {
   "cell_type": "code",
   "execution_count": 123,
   "metadata": {},
   "outputs": [
    {
     "ename": "ZeroDivisionError",
     "evalue": "division by zero",
     "output_type": "error",
     "traceback": [
      "\u001b[1;31m---------------------------------------------------------------------------\u001b[0m",
      "\u001b[1;31mZeroDivisionError\u001b[0m                         Traceback (most recent call last)",
      "\u001b[1;32m<ipython-input-123-e8326a161779>\u001b[0m in \u001b[0;36m<module>\u001b[1;34m\u001b[0m\n\u001b[1;32m----> 1\u001b[1;33m \u001b[1;36m2\u001b[0m\u001b[1;33m/\u001b[0m\u001b[1;36m0\u001b[0m\u001b[1;33m\u001b[0m\u001b[1;33m\u001b[0m\u001b[0m\n\u001b[0m",
      "\u001b[1;31mZeroDivisionError\u001b[0m: division by zero"
     ]
    }
   ],
   "source": [
    "2/0"
   ]
  },
  {
   "cell_type": "code",
   "execution_count": null,
   "metadata": {},
   "outputs": [],
   "source": []
  }
 ],
 "metadata": {
  "kernelspec": {
   "display_name": "Python 3",
   "language": "python",
   "name": "python3"
  },
  "language_info": {
   "codemirror_mode": {
    "name": "ipython",
    "version": 3
   },
   "file_extension": ".py",
   "mimetype": "text/x-python",
   "name": "python",
   "nbconvert_exporter": "python",
   "pygments_lexer": "ipython3",
   "version": "3.7.6"
  }
 },
 "nbformat": 4,
 "nbformat_minor": 4
}
