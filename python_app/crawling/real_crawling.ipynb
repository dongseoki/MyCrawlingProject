{
 "cells": [
  {
   "cell_type": "code",
   "execution_count": 97,
   "metadata": {},
   "outputs": [],
   "source": [
    "from urllib.request import urlopen\n",
    "from bs4 import BeautifulSoup"
   ]
  },
  {
   "cell_type": "code",
   "execution_count": 124,
   "metadata": {},
   "outputs": [],
   "source": [
    "from urllib.request import urlopen\n",
    "from bs4 import BeautifulSoup\n",
    "import re\n",
    "import sys, traceback"
   ]
  },
  {
   "cell_type": "code",
   "execution_count": 4,
   "metadata": {},
   "outputs": [],
   "source": [
    "ISBN = '9788988474839'\n",
    "title = '데이터분석전문가가이드'\n",
    "smlib_search_url = 'https://lib.smu.ac.kr/Search/?q=' \n",
    "#\"https://lib.smu.ac.kr/Search/?q=%ec%82%ac%eb%9e%8c&searchTruncate=true&campuscode=00\"\n",
    "html = urlopen(smlib_search_url+ISBN)\n",
    "bsObject = BeautifulSoup(html, \"html.parser\")"
   ]
  },
  {
   "cell_type": "code",
   "execution_count": 99,
   "metadata": {
    "scrolled": true
   },
   "outputs": [
    {
     "ename": "NameError",
     "evalue": "name 'bsObject' is not defined",
     "output_type": "error",
     "traceback": [
      "\u001b[1;31m---------------------------------------------------------------------------\u001b[0m",
      "\u001b[1;31mNameError\u001b[0m                                 Traceback (most recent call last)",
      "\u001b[1;32m<ipython-input-99-934ef9e456f6>\u001b[0m in \u001b[0;36m<module>\u001b[1;34m\u001b[0m\n\u001b[0;32m      1\u001b[0m \u001b[0midx\u001b[0m \u001b[1;33m=\u001b[0m \u001b[1;36m0\u001b[0m\u001b[1;33m\u001b[0m\u001b[1;33m\u001b[0m\u001b[0m\n\u001b[1;32m----> 2\u001b[1;33m \u001b[1;32mfor\u001b[0m \u001b[0mlink\u001b[0m \u001b[1;32min\u001b[0m \u001b[0mbsObject\u001b[0m\u001b[1;33m.\u001b[0m\u001b[0mfind_all\u001b[0m\u001b[1;33m(\u001b[0m\u001b[1;34m'div'\u001b[0m\u001b[1;33m,\u001b[0m \u001b[0mclass_\u001b[0m\u001b[1;33m=\u001b[0m\u001b[1;34m'search-list-result'\u001b[0m\u001b[1;33m)\u001b[0m\u001b[1;33m:\u001b[0m\u001b[1;33m\u001b[0m\u001b[1;33m\u001b[0m\u001b[0m\n\u001b[0m\u001b[0;32m      3\u001b[0m   \u001b[0mprint\u001b[0m\u001b[1;33m(\u001b[0m\u001b[0mlink\u001b[0m\u001b[1;33m)\u001b[0m\u001b[1;33m\u001b[0m\u001b[1;33m\u001b[0m\u001b[0m\n\u001b[0;32m      4\u001b[0m   \u001b[0mprint\u001b[0m\u001b[1;33m(\u001b[0m\u001b[0midx\u001b[0m\u001b[1;33m,\u001b[0m \u001b[1;34m\"fuck\"\u001b[0m\u001b[1;33m)\u001b[0m\u001b[1;33m\u001b[0m\u001b[1;33m\u001b[0m\u001b[0m\n\u001b[0;32m      5\u001b[0m   \u001b[0midx\u001b[0m \u001b[1;33m+=\u001b[0m\u001b[1;36m1\u001b[0m\u001b[1;33m\u001b[0m\u001b[1;33m\u001b[0m\u001b[0m\n",
      "\u001b[1;31mNameError\u001b[0m: name 'bsObject' is not defined"
     ]
    }
   ],
   "source": [
    "idx = 0\n",
    "for link in bsObject.find_all('div', class_='search-list-result'):\n",
    "  print(link)\n",
    "  print(idx, \"fuck\")\n",
    "  idx +=1"
   ]
  },
  {
   "cell_type": "code",
   "execution_count": 100,
   "metadata": {},
   "outputs": [],
   "source": [
    "KW_CODE =0\n",
    "KM_CODE =1\n",
    "DJ_CODE=2\n",
    "DS_CODE=3\n",
    "DD_CODE=4\n",
    "MJ_CODE=5\n",
    "SY_CODE=6\n",
    "SM_CODE=7\n",
    "SK_CODE=8\n",
    "SW_CODE=9\n",
    "SS_CODE=10\n",
    "HS_CODE=11"
   ]
  },
  {
   "cell_type": "code",
   "execution_count": 199,
   "metadata": {},
   "outputs": [],
   "source": [
    "base_start_url_list = ['http://kupis.kw.ac.kr/',\n",
    "'http://lib.kookmin.ac.kr/',\n",
    "'http://library.daejin.ac.kr/',\n",
    "'http://discover.duksung.ac.kr/',\n",
    "'http://library.dongduk.ac.kr/',\n",
    "'http://lib.mju.ac.kr/',\n",
    "'http://lib.syu.ac.kr/',\n",
    "'https://lib.smu.ac.kr/',\n",
    "'http://library.skuniv.ac.kr/',\n",
    "'http://lib.swu.ac.kr/',\n",
    "'http://lib.sungshin.ac.kr/',\n",
    "'http://hsel.hansung.ac.kr/']\n"
   ]
  },
  {
   "cell_type": "code",
   "execution_count": 209,
   "metadata": {},
   "outputs": [],
   "source": [
    "base_middle_url_list = ['',\n",
    "'',\n",
    "'',\n",
    "'',\n",
    "'',\n",
    "'',\n",
    "'',\n",
    "'Search/?q=',\n",
    "'',\n",
    "'',\n",
    "'',\n",
    "'']"
   ]
  },
  {
   "cell_type": "code",
   "execution_count": 210,
   "metadata": {},
   "outputs": [
    {
     "data": {
      "text/plain": [
       "['', '', '', '', '', '', '', 'Search/?q=', '', '', '', '']"
      ]
     },
     "execution_count": 210,
     "metadata": {},
     "output_type": "execute_result"
    }
   ],
   "source": [
    "base_middle_url_list"
   ]
  },
  {
   "cell_type": "code",
   "execution_count": null,
   "metadata": {},
   "outputs": [],
   "source": [
    "start_regex_list = ['',\n",
    "'',\n",
    "'',\n",
    "'',\n",
    "'',\n",
    "'',\n",
    "'',\n",
    "'Search/?q=',\n",
    "'',\n",
    "'',\n",
    "'',\n",
    "'']"
   ]
  },
  {
   "cell_type": "code",
   "execution_count": null,
   "metadata": {},
   "outputs": [],
   "source": []
  },
  {
   "cell_type": "code",
   "execution_count": null,
   "metadata": {},
   "outputs": [],
   "source": [
    "end_regex_list"
   ]
  },
  {
   "cell_type": "code",
   "execution_count": null,
   "metadata": {},
   "outputs": [],
   "source": []
  },
  {
   "cell_type": "code",
   "execution_count": 102,
   "metadata": {},
   "outputs": [],
   "source": [
    "base_end_url_list = []\n",
    "for i in range(12):\n",
    "    base_end_url_list.append('')"
   ]
  },
  {
   "cell_type": "code",
   "execution_count": 103,
   "metadata": {},
   "outputs": [],
   "source": [
    "class LibraryLS:\n",
    "    def __init__(self, sid):\n",
    "        self.sid = sid\n",
    "        self.loanStatusList = []\n",
    "        self.errorMessage= ''\n",
    "    "
   ]
  },
  {
   "cell_type": "code",
   "execution_count": 182,
   "metadata": {},
   "outputs": [],
   "source": [
    "qwer = LibraryLS(7)"
   ]
  },
  {
   "cell_type": "code",
   "execution_count": 186,
   "metadata": {},
   "outputs": [
    {
     "name": "stdout",
     "output_type": "stream",
     "text": [
      "hi\n"
     ]
    }
   ],
   "source": [
    "qwer.errorMessage = 'hi'\n",
    "print(qwer.errorMessage)"
   ]
  },
  {
   "cell_type": "code",
   "execution_count": null,
   "metadata": {},
   "outputs": [],
   "source": []
  },
  {
   "cell_type": "code",
   "execution_count": null,
   "metadata": {},
   "outputs": [],
   "source": []
  },
  {
   "cell_type": "code",
   "execution_count": 104,
   "metadata": {},
   "outputs": [
    {
     "data": {
      "text/plain": [
       "'\\n#STATE : 도서 상태,\\n#-1  에러\\n#1 대출가능\\n#0 대출중\\n#2 대출불가\\n#3 지정도서(상명대에서 과제 도서는 이런식으로 표시됨.)\\n#RN : 등록번호\\n#CN : 청구기호\\n#POS : 위치\\n이런것들\\n\\n\\n'"
      ]
     },
     "execution_count": 104,
     "metadata": {},
     "output_type": "execute_result"
    }
   ],
   "source": [
    "class LoanStatus:\n",
    "    def __init__(self):\n",
    "        self.title = ''\n",
    "        self.RN=''\n",
    "        self.CN=''\n",
    "        self.POS=''\n",
    "        self.STATE= -1\n",
    "        self.RDD = '2222-12-31'\n",
    "        self.BN = 0\n",
    "        self.errorMessage = ''\n",
    "\"\"\"\n",
    "#STATE : 도서 상태,\n",
    "#-1  에러\n",
    "#1 대출가능\n",
    "#0 대출중\n",
    "#2 대출불가\n",
    "#3 지정도서(상명대에서 과제 도서는 이런식으로 표시됨.)\n",
    "#RN : 등록번호\n",
    "#CN : 청구기호\n",
    "#POS : 위치\n",
    "이런것들\n",
    "\n",
    "\n",
    "\"\"\""
   ]
  },
  {
   "cell_type": "code",
   "execution_count": 105,
   "metadata": {},
   "outputs": [
    {
     "data": {
      "text/plain": [
       "12"
      ]
     },
     "execution_count": 105,
     "metadata": {},
     "output_type": "execute_result"
    }
   ],
   "source": [
    "len(base_start_url_list)"
   ]
  },
  {
   "cell_type": "code",
   "execution_count": 106,
   "metadata": {},
   "outputs": [
    {
     "data": {
      "text/plain": [
       "['', '', '', '', '', '', '', '', '', '', '', '']"
      ]
     },
     "execution_count": 106,
     "metadata": {},
     "output_type": "execute_result"
    }
   ],
   "source": [
    "#len(base_end_url_list)\n",
    "base_end_url_list"
   ]
  },
  {
   "cell_type": "code",
   "execution_count": 223,
   "metadata": {},
   "outputs": [],
   "source": [
    "#flag =1 iSBN, 0, title search by..\n",
    "#함수 만들기.\n",
    "\n",
    "#sid = int(sid)\n",
    "def findLoanStatus(ISBN, title, sid):\n",
    "    searchUrl = makeSearchUrl(ISBN, title, sid, 1)\n",
    "    result = crawling(ISBN, title, sid, searchUrl)\n",
    "    # json string 으로 만들기.\n",
    "    return result\n",
    "    "
   ]
  },
  {
   "cell_type": "code",
   "execution_count": 224,
   "metadata": {},
   "outputs": [],
   "source": [
    "#아직 상명대만 함. 상명대 ISBN으로 검색예정.\n",
    "def makeSearchUrl(ISBN, title, sid, flag):\n",
    "    if flag ==1:\n",
    "        searchUrl = base_start_url_list[sid]+base_middle_url_list[sid] + ISBN+ base_end_url_list[sid]\n",
    "        return searchUrl\n",
    "    "
   ]
  },
  {
   "cell_type": "code",
   "execution_count": 228,
   "metadata": {},
   "outputs": [],
   "source": [
    "def findSubStringByRegEx(text, sid, subStringType):\n",
    "    regex = re.compile(regexDictList[sid][subStringType])\n",
    "    matchObj = regex.search(text)\n",
    "    subString = matchObj.group(1)\n",
    "    return subString\n",
    "    \n",
    "    "
   ]
  },
  {
   "cell_type": "code",
   "execution_count": 237,
   "metadata": {},
   "outputs": [],
   "source": [
    "test_string = \"\"\n",
    "def crawling(ISBN, title, sid, searchUrl):\n",
    "    libraryLoanStatus = LibraryLS(sid)\n",
    "    try:\n",
    "        #1. 접속.\n",
    "        html = urlopen(searchUrl)\n",
    "        bsObject = BeautifulSoup(html, \"html.parser\")\n",
    "        #2. 링크를 차곡차곡저장.\n",
    "        # 정규식을 이용하여 저장...!!\n",
    "        bookLinklist =[]\n",
    "        for bookResult in bsObject.find_all('div', class_='search-list-result'):\n",
    "            bookResultString = str(bookResult)\n",
    "            title = findSubStringByRegEx(bookResultString, sid, 'title')\n",
    "            link = findSubStringByRegEx(bookResultString, sid, 'link')\n",
    "            bookLinklist.append([title, link])\n",
    "            print(title, link)\n",
    "        print(bookLinklist)\n",
    "        \n",
    "        #3. 해당 링크를 방문하여라..!!\n",
    "        #Efor item in bookLinklist\n",
    "           visitLink(ISBN, sid, item[0], item[1])\n",
    "    except AttributeError as e:\n",
    "        traceback.print_exc()\n",
    "        libraryLoanStatus.errorMessage = '해당 정규식에 포함되지 않는 예외케이스가 발생하였습니다. 정규식을 확인하고 수정하세요'\n",
    "    finally:\n",
    "        return libraryLoanStatus\n",
    "    "
   ]
  },
  {
   "cell_type": "code",
   "execution_count": 238,
   "metadata": {},
   "outputs": [
    {
     "name": "stdout",
     "output_type": "stream",
     "text": [
      "[]\n"
     ]
    }
   ],
   "source": [
    "ISBN = '9788988474839'\n",
    "title = '데이터 분석 전문가 가이드'\n",
    "sid = SM_CODE\n",
    "#searchUrl = makeSearchUrl(ISBN, title, sid, 1)\n",
    "result = findLoanStatus(ISBN, title, sid)"
   ]
  },
  {
   "cell_type": "code",
   "execution_count": 234,
   "metadata": {},
   "outputs": [
    {
     "data": {
      "text/plain": [
       "<__main__.LibraryLS at 0x1c720615688>"
      ]
     },
     "execution_count": 234,
     "metadata": {},
     "output_type": "execute_result"
    }
   ],
   "source": [
    "result"
   ]
  },
  {
   "cell_type": "code",
   "execution_count": 217,
   "metadata": {},
   "outputs": [],
   "source": [
    "regexDictList = ['',\n",
    "'',\n",
    "'',\n",
    "'',\n",
    "'',\n",
    "'',\n",
    "'',\n",
    "{'title': 'checkbox\\d+\\\"\\s+title=\\\"(?P<title>[^>]+)\\\"\\stype=', 'link': '<a href=\\\"(?P<link>[^=]+key=[^>]+)\\\">'},\n",
    "'',\n",
    "'',\n",
    "'',\n",
    "'']"
   ]
  },
  {
   "cell_type": "code",
   "execution_count": 216,
   "metadata": {},
   "outputs": [
    {
     "data": {
      "text/plain": [
       "'checkbox\\\\d+\"\\\\s+title=\"(?P<title>[^=]+)\"\\\\stype='"
      ]
     },
     "execution_count": 216,
     "metadata": {},
     "output_type": "execute_result"
    }
   ],
   "source": [
    "regexDictList[SM_CODE]['title']"
   ]
  },
  {
   "cell_type": "code",
   "execution_count": null,
   "metadata": {},
   "outputs": [],
   "source": []
  },
  {
   "cell_type": "code",
   "execution_count": null,
   "metadata": {},
   "outputs": [],
   "source": []
  },
  {
   "cell_type": "code",
   "execution_count": 208,
   "metadata": {},
   "outputs": [
    {
     "name": "stdout",
     "output_type": "stream",
     "text": [
      "/Search/Detail/819033?key=9788988474839&amp;campuscode=00\n",
      "/Search/Detail/777677?key=9788988474839&amp;campuscode=00\n"
     ]
    }
   ],
   "source": [
    "#Linklist 방문 테스트.\n",
    "bookLinklist = [['데이터 분석 전문가 가이드  = The guide for advanced data analytics professional 선택', '/Search/Detail/819033?key=9788988474839&amp;campuscode=00'], ['데이터 분석 전문가 가이드 선택', '/Search/Detail/777677?key=9788988474839&amp;campuscode=00']]\n",
    "for item in bookLinklist:\n",
    "    visitLink(ISBN, sid, item[0], item[1])"
   ]
  },
  {
   "cell_type": "code",
   "execution_count": 239,
   "metadata": {},
   "outputs": [],
   "source": [
    "def visitLink(ISBN, sid, title, bookLink):\n",
    "    loanStatusList = []\n",
    "    #= LoanStatus()\n",
    "    try:\n",
    "        #1. 접속.\n",
    "        html = urlopen(base_start_url_list[sid]+bookLink)\n",
    "        bsObject = BeautifulSoup(html, \"html.parser\")\n",
    "        #2. 링크를 차곡차곡저장.\n",
    "        # 정규식을 이용하여 저장...!!\n",
    "        for loanResult in bsObject.find_all('div', class_='search-list-result'):\n",
    "            loanResultString = str(loanResult)\n",
    "            title = findSubStringByRegEx(bookResultString, sid, 'title')\n",
    "            link = findSubStringByRegEx(bookResultString, sid, 'link')\n",
    "            bookLinklist.append([title, link])\n",
    "            print(title, link)\n",
    "        print(bookLinklist)\n",
    "        \n",
    "        #3. 해당 링크를 방문하여라..!!\n",
    "        #Efor item in bookLinklist\n",
    "        #   visitLink(ISBN, sid, item[0], item[1])\n",
    "    except AttributeError as e:\n",
    "        traceback.print_exc()\n",
    "        libraryLoanStatus.errorMessage = '해당 정규식에 포함되지 않는 예외케이스가 발생하였습니다. 정규식을 확인하고 수정하세요'\n",
    "    finally:\n",
    "        return libraryLoanStatus"
   ]
  },
  {
   "cell_type": "code",
   "execution_count": null,
   "metadata": {},
   "outputs": [],
   "source": []
  },
  {
   "cell_type": "code",
   "execution_count": 256,
   "metadata": {},
   "outputs": [
    {
     "name": "stdout",
     "output_type": "stream",
     "text": [
      "<tr>\n",
      "<td class=\"center-bu\" scope=\"row\">\r\n",
      "                                            L0112135\r\n",
      "                                                                                                                                </td>\n",
      "<td class=\"center-bu leftsilla\">005.74 한국데개  c.3 </td>\n",
      "<td class=\"center-bu\">\r\n",
      "                                        제1자료실(3층)\r\n",
      "                                    </td>\n",
      "<td class=\"center-bu mobile_none\">\n",
      "<span class=\"sponge-textcolor-red\">대출중</span>\n",
      "</td>\n",
      "<td class=\"center-bu icon-mobile\">\n",
      "<span class=\"DeskTop_none\"><span class=\"sponge-textcolor-red\">대출중</span></span><br class=\"DeskTop_none\"/>\r\n",
      "반납예정일 <span class=\"sponge-textcolor-red\">2020-03-26 </span>\n",
      "<a href=\"/account/Logon\" title=\"예약\"><span class=\"fa fa-chevron-circle-down\"></span><span class=\"btn btn-xs btn-default ie7-visible\">예약</span></a>\n",
      "<a href=\"/Search/MyFolder/777677?campuscode=00\" title=\"나의폴더\"> <span class=\"fa fa-folder-open-o\"></span><span class=\"btn btn-xs btn-default ie7-visible\">마이폴더</span></a>\n",
      "</td>\n",
      "</tr>\n"
     ]
    }
   ],
   "source": [
    "html = urlopen('http://lib.smu.ac.kr/Search/Detail/777677?key=9788988474839&campuscode=00')\n",
    "bsObject = BeautifulSoup(html, \"html.parser\")\n",
    "\n",
    "idx = 0\n",
    "for bookResult in bsObject.find_all('div', class_='sponge-guide-Box-table sponge-detail-table'):\n",
    "    \n",
    "    \n",
    "    for item in bookResult.find_all('tr'):\n",
    "        idx+=1\n",
    "        if idx == 1:\n",
    "            continue\n",
    "        print(item)\n",
    "        onething = item\n",
    "        break\n",
    "        print('--------------------------')\n",
    "    #print(bookResult)"
   ]
  },
  {
   "cell_type": "code",
   "execution_count": 259,
   "metadata": {},
   "outputs": [
    {
     "name": "stdout",
     "output_type": "stream",
     "text": [
      "L0112135\n",
      "005.74 한국데개  c.3\n",
      "제1자료실(3층)\n",
      "대출중\n",
      "대출중\r\n",
      "반납예정일 2020-03-26 \n",
      "예약\n",
      " 마이폴더\n"
     ]
    }
   ],
   "source": [
    "for item in onething.find_all('td', {'class':'center-bu'}):\n",
    "    print(item.text.strip())"
   ]
  },
  {
   "cell_type": "code",
   "execution_count": null,
   "metadata": {},
   "outputs": [],
   "source": []
  },
  {
   "cell_type": "code",
   "execution_count": 254,
   "metadata": {},
   "outputs": [
    {
     "data": {
      "text/plain": [
       "2"
      ]
     },
     "execution_count": 254,
     "metadata": {},
     "output_type": "execute_result"
    }
   ],
   "source": [
    "idx"
   ]
  },
  {
   "cell_type": "code",
   "execution_count": 197,
   "metadata": {},
   "outputs": [
    {
     "data": {
      "text/plain": [
       "__main__.LibraryLS"
      ]
     },
     "execution_count": 197,
     "metadata": {},
     "output_type": "execute_result"
    }
   ],
   "source": [
    "type(result)"
   ]
  },
  {
   "cell_type": "code",
   "execution_count": 198,
   "metadata": {},
   "outputs": [
    {
     "data": {
      "text/plain": [
       "'해당 정규식에 포함되지 않는 예외케이스가 발생하였습니다. 정규식을 확인하고 수정하세요'"
      ]
     },
     "execution_count": 198,
     "metadata": {},
     "output_type": "execute_result"
    }
   ],
   "source": [
    "result.errorMessage"
   ]
  },
  {
   "cell_type": "code",
   "execution_count": null,
   "metadata": {},
   "outputs": [],
   "source": []
  },
  {
   "cell_type": "code",
   "execution_count": null,
   "metadata": {},
   "outputs": [],
   "source": []
  },
  {
   "cell_type": "code",
   "execution_count": 164,
   "metadata": {},
   "outputs": [
    {
     "data": {
      "text/plain": [
       "7"
      ]
     },
     "execution_count": 164,
     "metadata": {},
     "output_type": "execute_result"
    }
   ],
   "source": [
    "result.sid"
   ]
  },
  {
   "cell_type": "code",
   "execution_count": 91,
   "metadata": {
    "scrolled": true
   },
   "outputs": [
    {
     "data": {
      "text/plain": [
       "''"
      ]
     },
     "execution_count": 91,
     "metadata": {},
     "output_type": "execute_result"
    }
   ],
   "source": [
    "test_string"
   ]
  },
  {
   "cell_type": "code",
   "execution_count": 92,
   "metadata": {
    "scrolled": false
   },
   "outputs": [
    {
     "data": {
      "text/plain": [
       "__main__.LibraryLS"
      ]
     },
     "execution_count": 92,
     "metadata": {},
     "output_type": "execute_result"
    }
   ],
   "source": [
    "type(result)"
   ]
  },
  {
   "cell_type": "code",
   "execution_count": 93,
   "metadata": {},
   "outputs": [
    {
     "data": {
      "text/plain": [
       "''"
      ]
     },
     "execution_count": 93,
     "metadata": {},
     "output_type": "execute_result"
    }
   ],
   "source": [
    "result.errorMessage"
   ]
  },
  {
   "cell_type": "code",
   "execution_count": 94,
   "metadata": {
    "scrolled": true
   },
   "outputs": [
    {
     "ename": "NameError",
     "evalue": "name 'searchUrl' is not defined",
     "output_type": "error",
     "traceback": [
      "\u001b[1;31m---------------------------------------------------------------------------\u001b[0m",
      "\u001b[1;31mNameError\u001b[0m                                 Traceback (most recent call last)",
      "\u001b[1;32m<ipython-input-94-361105885539>\u001b[0m in \u001b[0;36m<module>\u001b[1;34m\u001b[0m\n\u001b[1;32m----> 1\u001b[1;33m \u001b[0msearchUrl\u001b[0m\u001b[1;33m\u001b[0m\u001b[1;33m\u001b[0m\u001b[0m\n\u001b[0m",
      "\u001b[1;31mNameError\u001b[0m: name 'searchUrl' is not defined"
     ]
    }
   ],
   "source": [
    "searchUrl"
   ]
  },
  {
   "cell_type": "code",
   "execution_count": 16,
   "metadata": {},
   "outputs": [],
   "source": [
    "a = LibraryLS(7)"
   ]
  },
  {
   "cell_type": "code",
   "execution_count": 13,
   "metadata": {},
   "outputs": [
    {
     "data": {
      "text/plain": [
       "[]"
      ]
     },
     "execution_count": 13,
     "metadata": {},
     "output_type": "execute_result"
    }
   ],
   "source": [
    "a.loanStatusList"
   ]
  },
  {
   "cell_type": "code",
   "execution_count": 113,
   "metadata": {},
   "outputs": [
    {
     "name": "stdout",
     "output_type": "stream",
     "text": [
      "division by zero\n"
     ]
    }
   ],
   "source": [
    "#에러 테스트 코드.\n",
    "try:\n",
    "    5/0\n",
    "except BaseException as e:\n",
    "    print(str(e))\n",
    "    em = str(e)\n",
    "    "
   ]
  },
  {
   "cell_type": "code",
   "execution_count": 115,
   "metadata": {},
   "outputs": [
    {
     "data": {
      "text/plain": [
       "'division by zero'"
      ]
     },
     "execution_count": 115,
     "metadata": {},
     "output_type": "execute_result"
    }
   ],
   "source": [
    "em"
   ]
  },
  {
   "cell_type": "code",
   "execution_count": 137,
   "metadata": {},
   "outputs": [
    {
     "name": "stdout",
     "output_type": "stream",
     "text": [
      "<class 're.Match'>\n"
     ]
    }
   ],
   "source": [
    "titleRegex = re.compile('checkbox\\d+\\\"\\s+title=\\\"(?P<title>[^=]+)\\\"\\stype=')\n",
    "# (?P<title>[^=]+) 이거 앞뒤로 쪼개서 대학별로 붙여넣으면 딱일듯.\n",
    "matchObj = titleRegex.search(text)\n",
    "print(type(matchObj))\n",
    "title = matchObj.group('title')"
   ]
  },
  {
   "cell_type": "code",
   "execution_count": 154,
   "metadata": {},
   "outputs": [],
   "source": [
    "linkRegex = re.compile('<a href=\\\"(?P<link>[^=]+key=[^>]+)\\\">')\n",
    "# 이것도 앞뒤로 쪼갤수 있을듯 하다.\n",
    "matchObj = linkRegex.search(text)\n",
    "link = matchObj.group('link')"
   ]
  },
  {
   "cell_type": "code",
   "execution_count": 155,
   "metadata": {},
   "outputs": [],
   "source": [
    "asdf = findSubStringByRegEx(text, 3, 'title')"
   ]
  },
  {
   "cell_type": "code",
   "execution_count": 156,
   "metadata": {},
   "outputs": [
    {
     "data": {
      "text/plain": [
       "'조세법 핵심판례 : 2019 세법학 완벽대비 선택'"
      ]
     },
     "execution_count": 156,
     "metadata": {},
     "output_type": "execute_result"
    }
   ],
   "source": [
    "asdf"
   ]
  },
  {
   "cell_type": "code",
   "execution_count": 64,
   "metadata": {},
   "outputs": [
    {
     "data": {
      "text/plain": [
       "'/Search/Detail/834548?key=%ec%82%ac%eb%9e%8c&amp;campuscode=00'"
      ]
     },
     "execution_count": 64,
     "metadata": {},
     "output_type": "execute_result"
    }
   ],
   "source": [
    "link"
   ]
  },
  {
   "cell_type": "code",
   "execution_count": null,
   "metadata": {},
   "outputs": [],
   "source": []
  },
  {
   "cell_type": "code",
   "execution_count": 52,
   "metadata": {},
   "outputs": [],
   "source": [
    "import re\n",
    "text = \"\"\"<div class=\"search-list-result\">\n",
    "<div class=\"search-list-checkbox\">\n",
    "<span class=\"search-list-checkbox-number\">\n",
    "                        1\n",
    "                    </span>\n",
    "<input class=\"search-list-checkbox-box\" id=\"checkbox1\" name=\"checkbox1\" title=\"조세법 핵심판례 : 2019 세법학 완벽대비 선택\" type=\"checkbox\" value=\"834548\"/>\n",
    "<label class=\"hide\" for=\"checkbox1\">\n",
    "                        조세법 핵심판례 : 2019 세법학 완벽대비 선택\n",
    "                    </label>\n",
    "</div>\n",
    "<!--            if (LCEnvironment.GetUserSettings(\"UserCode\") == \"dwcl\" && items.l_record_type.ToString() == \"NN\")\n",
    "            {\n",
    "                <a href=\"/Search/Detail/834548\" style=\"background-image:url(/Sponge/Images/bookDefaults/NNbookdefaultsmall.png); width:70px; height:95px; border:1px solid #ddd;}\" class=\"sponge_thumbnails_image\"><img src=\"http://library.tw.ac.kr/skyblueImage/dvdimage/834548.jpg\" alt=\"834548\" style=\"background-color:transparent; border:0px;\" /></a>\n",
    "            }-->\n",
    "<a class=\"sponge_thumbnails_image\" href=\"/Search/Detail/834548\">\n",
    "<img alt=\"조세법 핵심판례 : 2019 세법학 완벽대비\" onerror=\"javascript: this.src = '/Sponge/Images/bookDefaults/MMbookdefaultsmall.png'\" src=\"https://bookthumb-phinf.pstatic.net/cover/150/760/15076063.jpg?type=m1&amp;udate=20190730\"/>\n",
    "</a>\n",
    "<div class=\"sponge-list-content\">\n",
    "<div class=\"sponge-list-title\">\n",
    "<a href=\"/Search/Detail/834548?key=%ec%82%ac%eb%9e%8c&amp;campuscode=00\">\n",
    "조세법 핵심판례 : 2019 세법학 완벽대비                    </a>\n",
    "</div>\n",
    "<span class=\"search-list-etc\">\n",
    "정병창                                    </span>\n",
    "<span class=\"search-list-etc\">\n",
    "<span>나무와사람,</span>\n",
    "<span>2019,</span>\n",
    "</span>\n",
    "</div>\n",
    "<div class=\"sponge-list-content\">\n",
    "<a class=\"btn btn-xs btn-default\" href=\"/Naver/NaverDetail?isbn=9791157501311\" target=\"_blank\">\n",
    "                            Naver정보보기\n",
    "                        </a>\n",
    "</div>\n",
    "<div class=\"search-list-command\">\n",
    "<a href=\"/Print/?mastid=834548\" target=\"_blank\" title=\"새창\">\n",
    "<span class=\"label label-default label-sponge-button\">프린트</span>\n",
    "</a>\n",
    "<!--if (LCE.GetSkyEnvironment(\"검색-간략정보-refworks사용\", false))\n",
    "                    {\n",
    "                        <a data-toggle=\"modal\" href=\"#spongeExportModal\"><span class=\"label label-default label-sponge-button\">내보내기</span></a>\n",
    "\n",
    "                        <div class=\"modal fade\" id=\"spongeExportModal\" tabindex=\"-1\" role=\"dialog\" aria-hidden=\"true\">\n",
    "                            <div class=\"modal-dialog\">\n",
    "                                <div class=\"modal-content center exportType\">\n",
    "                                    <div class=\"modal-header\">\n",
    "                                        <button type=\"button\" class=\"close\" data-dismiss=\"modal\">\n",
    "                                            ×\n",
    "                                        </button>\n",
    "                                        <h3 class=\"libtech-modal-header\">\n",
    "                                            내보내기\n",
    "                                        </h3>\n",
    "                                    </div>\n",
    "                                    <form name=\"exportForm\" id=\"exportForm\" action=\"/Search/Expert\" method=\"post\" target=\"handler\">\n",
    "                                        <div class=\"modal-body \">\n",
    "\n",
    "                                            <fieldset>\n",
    "                                                <legend class=\"hide\">내보내기</legend>\n",
    "                                                <dl>\n",
    "                                                    <dt>내보내기 형식을 선택하세요.</dt>\n",
    "                                                    <dd>\n",
    "                                                        <ul>\n",
    "                                                            \n",
    "                                                            <li class=\"exportRefWorks\"><input name=\"RefWorks\" id=\"refworks\" type=\"radio\" value=\"RefWorks\"> <label for=\"refworks\">RefWorks</label></li>\n",
    "                                                        </ul>\n",
    "                                                    </dd>\n",
    "                                                </dl>\n",
    "                                                \n",
    "                                            </fieldset>\n",
    "\n",
    "\n",
    "                                        </div>\n",
    "                                        <div class=\"modal-footer\">\n",
    "                                            <input type=\"submit\" value=\"확인\" class=\"btn btn-sponge-default\">\n",
    "                                            <button type=\"button\" class=\"close\" data-dismiss=\"modal\">\n",
    "                                                취소\n",
    "                                            </button>\n",
    "                                        </div>\n",
    "                                    </form>\n",
    "                                </div>\n",
    "                            </div>\n",
    "                        </div>\n",
    "                    }-->\n",
    "<a href=\"/Search/MyFolder/834548\">\n",
    "<span class=\"label label-default label-sponge-button\">나의폴더</span>\n",
    "</a>\n",
    "<span class=\"mobile_none\">\n",
    "<a href=\"javascript:doGetBooknavi(834548,00)\">\n",
    "<span class=\"label label-default label-sponge-button\">위치정보</span>\n",
    "</a>\n",
    "</span>\n",
    "<!--소장정보 다시 작업중-->\n",
    "<div class=\"dropdown\">\n",
    "<a aria-expanded=\"false\" class=\"label-sponge-button-color mobile_none dropdown-toggle\" data-toggle=\"dropdown\" href=\"#\" role=\"button\">\n",
    "<span class=\"label label-default label-sponge-button\">소장정보</span>\n",
    "</a>\n",
    "<div class=\"dropdown-menu sponge-searchlist-pop\" role=\"menu\">\n",
    "<span class=\"label label-default label-sponge-button sponge-searchlist-pop-title\">소장정보</span>\n",
    "<table class=\"table-striped sponge-table-default\" summary=\"소장정보의 모체등록번호, 딸림등록번호, 서명, 별치기호, 자료상태, 소장처 순\">\n",
    "<caption>\n",
    "                                    소장정보\n",
    "                                </caption>\n",
    "<colgroup>\n",
    "<col style=\"width:20%;\"/>\n",
    "<col style=\"width:20%;\"/>\n",
    "<col/>\n",
    "<col style=\"width:15%;\"/>\n",
    "<col style=\"width:15%;\"/>\n",
    "</colgroup>\n",
    "<thead>\n",
    "<tr>\n",
    "<th scope=\"col\">등록번호</th>\n",
    "<th scope=\"col\">별치/청구기호</th>\n",
    "<th scope=\"col\">소장처</th>\n",
    "<th scope=\"col\">대출여부</th>\n",
    "<th scope=\"col\">대출정보</th>\n",
    "</tr>\n",
    "</thead>\n",
    "<tbody>\n",
    "<tr>\n",
    "<td scope=\"row\">\n",
    "                                                S0512603\n",
    "                                            </td>\n",
    "<td>\n",
    "343.04 정병조2                                              </td>\n",
    "<td>제1자료실(3층)   </td>\n",
    "<td>이용가능</td>\n",
    "<td></td>\n",
    "</tr>\n",
    "</tbody>\n",
    "</table>\n",
    "</div>\n",
    "</div>\n",
    "<!--여기까지-->\n",
    "</div>\n",
    "<div class=\"clear\"></div>\n",
    "</div>\"\"\""
   ]
  },
  {
   "cell_type": "code",
   "execution_count": 123,
   "metadata": {},
   "outputs": [
    {
     "ename": "ZeroDivisionError",
     "evalue": "division by zero",
     "output_type": "error",
     "traceback": [
      "\u001b[1;31m---------------------------------------------------------------------------\u001b[0m",
      "\u001b[1;31mZeroDivisionError\u001b[0m                         Traceback (most recent call last)",
      "\u001b[1;32m<ipython-input-123-e8326a161779>\u001b[0m in \u001b[0;36m<module>\u001b[1;34m\u001b[0m\n\u001b[1;32m----> 1\u001b[1;33m \u001b[1;36m2\u001b[0m\u001b[1;33m/\u001b[0m\u001b[1;36m0\u001b[0m\u001b[1;33m\u001b[0m\u001b[1;33m\u001b[0m\u001b[0m\n\u001b[0m",
      "\u001b[1;31mZeroDivisionError\u001b[0m: division by zero"
     ]
    }
   ],
   "source": [
    "2/0"
   ]
  },
  {
   "cell_type": "code",
   "execution_count": null,
   "metadata": {},
   "outputs": [],
   "source": []
  }
 ],
 "metadata": {
  "kernelspec": {
   "display_name": "Python 3",
   "language": "python",
   "name": "python3"
  },
  "language_info": {
   "codemirror_mode": {
    "name": "ipython",
    "version": 3
   },
   "file_extension": ".py",
   "mimetype": "text/x-python",
   "name": "python",
   "nbconvert_exporter": "python",
   "pygments_lexer": "ipython3",
   "version": "3.7.6"
  }
 },
 "nbformat": 4,
 "nbformat_minor": 4
}
