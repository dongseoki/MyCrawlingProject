{
 "cells": [
  {
   "cell_type": "code",
   "execution_count": 1,
   "metadata": {},
   "outputs": [],
   "source": [
    "import time\n",
    "from selenium import webdriver\n",
    "from selenium.webdriver.chrome.options import Options\n",
    "from selenium.webdriver.support.wait import WebDriverWait\n",
    "from bs4 import BeautifulSoup\n",
    "import copy\n",
    "\n",
    "\n",
    "options = Options()\n",
    "options.headless = True\n",
    "\n",
    "browser = webdriver.Chrome(executable_path=\"./chromedriver.exe\", options=options)\n",
    "\n",
    "browser.get('https://lib.kookmin.ac.kr/#/search/ex?isbn=1%7Cl%7Ca%7C9791190313131&branch=1&material-type=1')\n",
    "#되는 케이스\n",
    "#browser.get('https://lib.kookmin.ac.kr/#/search/ex?isbn=1%7Cl%7Ca%7C9791190310000&branch=1&material-type=1')\n",
    "# 안되는 케이스\n",
    "#/html/body/div[1]/div[3]/div[2]/div[2]/div[2]/div[2]/div[1]/div/div[2]/div[4]/div[1]/div[3]/ul/li[1]/a[1]\n",
    "linkXpath = '/html/body/div[1]/div[3]/div[2]/div[2]/div[2]/div[3]/div[1]/div[1]/div[2]/div[4]/div/div[3]/ul/li[1]/a[1]'\n",
    "try:\n",
    "    linkElement = browser.find_element_by_xpath(linkXpath)\n",
    "    # 오류가능성.\n",
    "except :\n",
    "    print('예외가 발생! 찾는 책이 없음')\n",
    "    linkElement = -1"
   ]
  },
  {
   "cell_type": "code",
   "execution_count": 2,
   "metadata": {},
   "outputs": [
    {
     "data": {
      "text/plain": [
       "'지적 대화를 위한 넓고 얕은 지식.[3],0'"
      ]
     },
     "execution_count": 2,
     "metadata": {},
     "output_type": "execute_result"
    }
   ],
   "source": [
    "linkElement.text"
   ]
  },
  {
   "cell_type": "code",
   "execution_count": 3,
   "metadata": {},
   "outputs": [
    {
     "name": "stdout",
     "output_type": "stream",
     "text": [
      "success\n"
     ]
    }
   ],
   "source": [
    "if linkElement == -1 :\n",
    "    print('-1...')\n",
    "else : \n",
    "    print('success')"
   ]
  },
  {
   "cell_type": "code",
   "execution_count": 4,
   "metadata": {},
   "outputs": [],
   "source": [
    "linkElement.click()\n",
    "time.sleep(4)"
   ]
  },
  {
   "cell_type": "code",
   "execution_count": 5,
   "metadata": {},
   "outputs": [],
   "source": [
    "ISBNLinkElementXpath = '//*[@id=\"btn-biblio-more-open\"]'\n",
    "ISBNLinkElement = browser.find_element_by_xpath(ISBNLinkElementXpath)\n",
    "\n",
    "# 테스트\n",
    "#bsObject = browser.page_source\n",
    "#print(bsObject)\n",
    "# 테스트 종료\n",
    "\n",
    "ISBNLinkElement.click()"
   ]
  },
  {
   "cell_type": "code",
   "execution_count": 6,
   "metadata": {},
   "outputs": [],
   "source": [
    "time.sleep(4)\n",
    "html = browser.page_source\n",
    "bsObject=BeautifulSoup(html, 'html.parser')\n",
    "#print(bsObject)"
   ]
  },
  {
   "cell_type": "code",
   "execution_count": 7,
   "metadata": {},
   "outputs": [],
   "source": [
    "strISBNIncluded = str(bsObject.select('body > div.ikc-pyxis-wrap > div.ikc-container-wrap > div.ikc-container > div.ikc-content > div.ikc-main > div:nth-child(3) > div > div.ikc-search-detail-main > div > div.ikc-biblio-detail > div.ikc-biblio-info > ul'))"
   ]
  },
  {
   "cell_type": "code",
   "execution_count": 8,
   "metadata": {},
   "outputs": [],
   "source": [
    "import re\n",
    "def find_ISBN(text):\n",
    "    regex = re.compile('\\d\\d\\d\\d\\d\\d\\d\\d\\d\\d\\d\\d\\d')\n",
    "    matchObj = regex.search(text)\n",
    "    return matchObj.group(0)"
   ]
  },
  {
   "cell_type": "code",
   "execution_count": 9,
   "metadata": {},
   "outputs": [],
   "source": [
    "searchedISBN = find_ISBN(strISBNIncluded)"
   ]
  },
  {
   "cell_type": "code",
   "execution_count": 10,
   "metadata": {
    "scrolled": true
   },
   "outputs": [
    {
     "data": {
      "text/plain": [
       "'9791190313131'"
      ]
     },
     "execution_count": 10,
     "metadata": {},
     "output_type": "execute_result"
    }
   ],
   "source": [
    "searchedISBN"
   ]
  },
  {
   "cell_type": "code",
   "execution_count": 13,
   "metadata": {},
   "outputs": [],
   "source": [
    "loanListSelectPath = 'body > div.ikc-pyxis-wrap > div.ikc-container-wrap > div.ikc-container > div.ikc-content > div.ikc-main > div:nth-child(3) > div > div.ikc-search-detail-main > div > div.ikc-detail-strip > div:nth-child(2) > ng-include > div > table'\n",
    "\n",
    "#loanList = bsObject.select(loanListSelectPath)\n",
    "#print(len(loanList))\n",
    "#print(loanList)\n",
    "loanResultList = bsObject.select(loanListSelectPath)[0].find_all('tbody')"
   ]
  },
  {
   "cell_type": "code",
   "execution_count": 14,
   "metadata": {},
   "outputs": [
    {
     "data": {
      "text/plain": [
       "6"
      ]
     },
     "execution_count": 14,
     "metadata": {},
     "output_type": "execute_result"
    }
   ],
   "source": [
    "len(loanResultList)\n",
    "#List2 = loanList[0].find_all('tbody')\n",
    "#print(len(List2))"
   ]
  },
  {
   "cell_type": "code",
   "execution_count": 15,
   "metadata": {},
   "outputs": [
    {
     "name": "stdout",
     "output_type": "stream",
     "text": [
      "6\n",
      "01047070\n",
      "001 채51ㅈ v.3\n",
      "기술과학도서실(열3층)\n",
      "예약도서대출중   ~ 2020.02.19\n",
      "6\n",
      "01048443\n",
      "001 채51ㅈ v.3 =2\n",
      "기술과학도서실(열3층)\n",
      "대출가능   ~\n",
      "6\n",
      "01048714\n",
      "001 채51ㅈ v.3 =3\n",
      "기술과학도서실(열3층)\n",
      "대출가능   ~\n",
      "6\n",
      "01048715\n",
      "001 채51ㅈ v.3 =4\n",
      "기술과학도서실(열3층)\n",
      "예약도서대출중   ~ 2020.05.04\n",
      "6\n",
      "01048716\n",
      "001 채51ㅈ v.3 =5\n",
      "기술과학도서실(열3층)\n",
      "대출중   ~ 2020.05.20\n",
      "6\n",
      "01050033\n",
      "001 채51ㅈ v.3 =6\n",
      "기술과학도서실(열3층)\n",
      "대출중   ~ 2020.05.06\n"
     ]
    }
   ],
   "source": [
    "for item in loanResultList:\n",
    "    content = item.find('tr').find_all('td')\n",
    "    print(len(content))\n",
    "    errorMessage = ''\n",
    "    #content = loanResult.find_all('td')\n",
    "    RN = content[0].find_all('span')[1].text.strip()\n",
    "    CN = content[2].find_all('span')[1].text.strip()\n",
    "    POS = content[1].find_all('span')[1].text.strip()\n",
    "    STATE_STRING = content[4].find_all('span')[1].text.strip()\n",
    "    #RDD = content[5].text.strip()\n",
    "    print(RN)\n",
    "    print(CN)\n",
    "    print(POS)\n",
    "    print(STATE_STRING)\n",
    "        \n",
    "    #print('등록번호 : ', item)"
   ]
  },
  {
   "cell_type": "code",
   "execution_count": null,
   "metadata": {},
   "outputs": [],
   "source": []
  }
 ],
 "metadata": {
  "kernelspec": {
   "display_name": "Python 3",
   "language": "python",
   "name": "python3"
  },
  "language_info": {
   "codemirror_mode": {
    "name": "ipython",
    "version": 3
   },
   "file_extension": ".py",
   "mimetype": "text/x-python",
   "name": "python",
   "nbconvert_exporter": "python",
   "pygments_lexer": "ipython3",
   "version": "3.7.6"
  }
 },
 "nbformat": 4,
 "nbformat_minor": 4
}
