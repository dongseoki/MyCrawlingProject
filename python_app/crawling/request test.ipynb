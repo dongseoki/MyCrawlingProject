{
 "cells": [
  {
   "cell_type": "code",
   "execution_count": 1,
   "metadata": {},
   "outputs": [],
   "source": [
    "from urllib.request import urlopen\n",
    "from bs4 import BeautifulSoup\n",
    "import re\n",
    "import sys, traceback\n",
    "import json\n",
    "from urllib import parse\n",
    "import requests \n",
    "#html = urlopen('https://lib.smu.ac.kr/Search/Detail/819033?key=9788988474839&campuscode=00')\n",
    "#bsObject = BeautifulSoup(html, \"html.parser\")"
   ]
  },
  {
   "cell_type": "code",
   "execution_count": 2,
   "metadata": {},
   "outputs": [],
   "source": [
    "def makeCrawlingUrlPlusSid(crawlUrl,ISBN, title, sid, searchFlag):\n",
    "    finalUrl = crawlUrl + '?isbn='+ ISBN + '&title='+ title+ '&sid=' + str(sid) + '&searchFlag=' + str(searchFlag)\n",
    "    return finalUrl"
   ]
  },
  {
   "cell_type": "code",
   "execution_count": 3,
   "metadata": {},
   "outputs": [],
   "source": [
    "def makeCrawlingUrl(crawlUrl,ISBN, title):\n",
    "    finalUrl = crawlUrl + '?isbn='+ ISBN + '&title='+ title \n",
    "    return finalUrl"
   ]
  },
  {
   "cell_type": "code",
   "execution_count": 4,
   "metadata": {},
   "outputs": [],
   "source": [
    "#https://us-central1-my-crawling-project.cloudfunctions.net/function-1?\n",
    "\n",
    "functionT = 'https://us-central1-my-crawling-project.cloudfunctions.net/function-1'\n",
    "functionC = 'https://us-central1-my-crawling-project.cloudfunctions.net/function-crawling'\n",
    "functionR = 'https://sddh-crawler-di4on54tsa-uc.a.run.app/'"
   ]
  },
  {
   "cell_type": "code",
   "execution_count": 5,
   "metadata": {},
   "outputs": [],
   "source": [
    "ISBN = '9788996094050'\n",
    "koreaTitle = '윤성우의 열혈 C 프로그래밍'\n",
    "title = parse.quote(koreaTitle)\n",
    "# case4.  3개 도서관 검색 테스트\n",
    "#https://kupis.kw.ac.kr/search/detail/CATTOT000000317224?mainLink=/search/tot&briefLink=/search/tot/result?commandType=advanced_A_lmtsn=000000000001_A_lmtsn=000000000003_A_cpp=10_A_range=000000000021_A__inc=on_A__inc=on_A__inc=on_A__inc=on_A__inc=on_A__inc=on_A_lmt0=TOTAL_A_lmt1=TOTAL_A_rf=_A__lmt0=on_A__lmt0=on_A__lmt0=on_A__lmt0=on_A__lmt0=on_A__lmt0=on_A__lmt0=on_A_si=1_A_si=2_A_si=3_A_weight2=_A_weight0=_A_weight1=_A_inc=TOTAL_A_q=%EC%9C%A4%EC%84%B1%EC%9A%B0%EC%9D%98+%EC%97%B4%ED%98%88+C+%ED%94%84%EB%A1%9C%EA%B7%B8%EB%9E%98%EB%B0%8D_A_q=_A_q=_A_b0=and_A_b1=and_A_lmtst=OR_A_lmtst=OR_A_rt=_A_st=KWRD_A_msc=500\n",
    "#https://lib.kookmin.ac.kr/#/search/ex?isbn=1%7Cl%7Ca%7C9788996094050&branch=1&material-type=1\n",
    "#http://lib.smu.ac.kr/Search/?q=9788996094050&searchTruncate=true&campuscode=00"
   ]
  },
  {
   "cell_type": "code",
   "execution_count": 5,
   "metadata": {},
   "outputs": [],
   "source": [
    "KW_CODE = 0\n",
    "ISBN = '9788968481093'\n",
    "koreaTitle = '(비즈니스를 위한) 데이터 과학'\n",
    "sid = 7\n",
    "searchFlag= 2\n",
    "title = parse.quote(koreaTitle)\n",
    "#'https://us-central1-my-crawling-project.cloudfunctions.net/function-crawling?isbn=9788968481093&title=%EC%9D%B4%EC%9A%A9%ED%95%B4%EC%A3%BC%EC%85%94%EC%84%9C+%EA%B0%90%EC%82%AC%ED%95%A9%EB%8B%88%EB%8B%A4&sid=0'"
   ]
  },
  {
   "cell_type": "code",
   "execution_count": 25,
   "metadata": {},
   "outputs": [],
   "source": [
    "KW_CODE = 0\n",
    "ISBN = '9791186757093'\n",
    "koreaTitle = '자존감 수업 : 하루에 하나, 나를 사랑하게 되는 자존감 회복 훈련'\n",
    "sid = 7\n",
    "searchFlag= 1\n",
    "title = parse.quote(koreaTitle)\n"
   ]
  },
  {
   "cell_type": "code",
   "execution_count": 6,
   "metadata": {},
   "outputs": [],
   "source": [
    "\n",
    "KW_CODE = 0\n",
    "ISBN = '9788988474839'\n",
    "koreaTitle = '데이터 분석 전문가 가이드'\n",
    "sid = 7\n",
    "searchFlag= 1\n",
    "title = parse.quote(koreaTitle)"
   ]
  },
  {
   "cell_type": "code",
   "execution_count": 14,
   "metadata": {},
   "outputs": [],
   "source": [
    "url = makeCrawlingUrl(functionR, ISBN, title)"
   ]
  },
  {
   "cell_type": "code",
   "execution_count": 23,
   "metadata": {},
   "outputs": [
    {
     "data": {
      "text/plain": [
       "'https://sddh-crawler-di4on54tsa-uc.a.run.app/?isbn=9788996094050&title=%EC%9C%A4%EC%84%B1%EC%9A%B0%EC%9D%98%20%EC%97%B4%ED%98%88%20C%20%ED%94%84%EB%A1%9C%EA%B7%B8%EB%9E%98%EB%B0%8D'"
      ]
     },
     "execution_count": 23,
     "metadata": {},
     "output_type": "execute_result"
    }
   ],
   "source": [
    "url"
   ]
  },
  {
   "cell_type": "code",
   "execution_count": null,
   "metadata": {},
   "outputs": [],
   "source": [
    "response = requests.get(url)"
   ]
  },
  {
   "cell_type": "code",
   "execution_count": null,
   "metadata": {
    "scrolled": true
   },
   "outputs": [],
   "source": [
    "response.text"
   ]
  },
  {
   "cell_type": "code",
   "execution_count": null,
   "metadata": {},
   "outputs": [],
   "source": []
  }
 ],
 "metadata": {
  "kernelspec": {
   "display_name": "Python 3",
   "language": "python",
   "name": "python3"
  },
  "language_info": {
   "codemirror_mode": {
    "name": "ipython",
    "version": 3
   },
   "file_extension": ".py",
   "mimetype": "text/x-python",
   "name": "python",
   "nbconvert_exporter": "python",
   "pygments_lexer": "ipython3",
   "version": "3.7.6"
  }
 },
 "nbformat": 4,
 "nbformat_minor": 4
}
