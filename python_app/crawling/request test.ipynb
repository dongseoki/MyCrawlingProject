{
 "cells": [
  {
   "cell_type": "code",
   "execution_count": 1,
   "metadata": {},
   "outputs": [],
   "source": [
    "from urllib.request import urlopen\n",
    "from bs4 import BeautifulSoup\n",
    "import re\n",
    "import sys, traceback\n",
    "import json\n",
    "from urllib import parse\n",
    "import requests \n",
    "#html = urlopen('https://lib.smu.ac.kr/Search/Detail/819033?key=9788988474839&campuscode=00')\n",
    "#bsObject = BeautifulSoup(html, \"html.parser\")"
   ]
  },
  {
   "cell_type": "code",
   "execution_count": 2,
   "metadata": {},
   "outputs": [],
   "source": [
    "def makeCrawlingUrlPlusSid(crawlUrl,ISBN, title, sid, searchFlag):\n",
    "    finalUrl = crawlUrl + '?isbn='+ ISBN + '&title='+ title+ '&sid=' + str(sid) + '&searchFlag=' + str(searchFlag)\n",
    "    return finalUrl"
   ]
  },
  {
   "cell_type": "code",
   "execution_count": 3,
   "metadata": {},
   "outputs": [],
   "source": [
    "def makeCrawlingUrl(crawlUrl,ISBN, title, searchFlag):\n",
    "    finalUrl = crawlUrl + '?isbn='+ ISBN + '&title='+ title + '&searchFlag=' + str(searchFlag)\n",
    "    return finalUrl"
   ]
  },
  {
   "cell_type": "code",
   "execution_count": 4,
   "metadata": {},
   "outputs": [],
   "source": [
    "#https://us-central1-my-crawling-project.cloudfunctions.net/function-1?\n",
    "\n",
    "functionT = 'https://us-central1-my-crawling-project.cloudfunctions.net/function-1'\n",
    "functionC = 'https://us-central1-my-crawling-project.cloudfunctions.net/function-crawling'\n",
    "functionR = 'https://sddh-crawler-di4on54tsa-uc.a.run.app/'"
   ]
  },
  {
   "cell_type": "code",
   "execution_count": 5,
   "metadata": {},
   "outputs": [],
   "source": [
    "KW_CODE = 0\n",
    "ISBN = '9788968481093'\n",
    "koreaTitle = '(비즈니스를 위한) 데이터 과학'\n",
    "sid = 7\n",
    "searchFlag= 2\n",
    "title = parse.quote(koreaTitle)\n",
    "#'https://us-central1-my-crawling-project.cloudfunctions.net/function-crawling?isbn=9788968481093&title=%EC%9D%B4%EC%9A%A9%ED%95%B4%EC%A3%BC%EC%85%94%EC%84%9C+%EA%B0%90%EC%82%AC%ED%95%A9%EB%8B%88%EB%8B%A4&sid=0'"
   ]
  },
  {
   "cell_type": "code",
   "execution_count": 10,
   "metadata": {},
   "outputs": [],
   "source": [
    "KW_CODE = 0\n",
    "ISBN = '9791186757093'\n",
    "koreaTitle = '자존감 수업 : 하루에 하나, 나를 사랑하게 되는 자존감 회복 훈련'\n",
    "sid = 7\n",
    "searchFlag= 1\n",
    "title = parse.quote(koreaTitle)\n"
   ]
  },
  {
   "cell_type": "code",
   "execution_count": 6,
   "metadata": {},
   "outputs": [],
   "source": [
    "\n",
    "KW_CODE = 0\n",
    "ISBN = '9788988474839'\n",
    "koreaTitle = '데이터 분석 전문가 가이드'\n",
    "sid = 7\n",
    "searchFlag= 1\n",
    "title = parse.quote(koreaTitle)"
   ]
  },
  {
   "cell_type": "code",
   "execution_count": 11,
   "metadata": {},
   "outputs": [],
   "source": [
    "url = makeCrawlingUrl(functionR, ISBN, title, searchFlag)"
   ]
  },
  {
   "cell_type": "code",
   "execution_count": 12,
   "metadata": {},
   "outputs": [
    {
     "data": {
      "text/plain": [
       "'https://sddh-crawler-di4on54tsa-uc.a.run.app/?isbn=9791186757093&title=%EC%9E%90%EC%A1%B4%EA%B0%90%20%EC%88%98%EC%97%85%20%3A%20%ED%95%98%EB%A3%A8%EC%97%90%20%ED%95%98%EB%82%98%2C%20%EB%82%98%EB%A5%BC%20%EC%82%AC%EB%9E%91%ED%95%98%EA%B2%8C%20%EB%90%98%EB%8A%94%20%EC%9E%90%EC%A1%B4%EA%B0%90%20%ED%9A%8C%EB%B3%B5%20%ED%9B%88%EB%A0%A8&searchFlag=1'"
      ]
     },
     "execution_count": 12,
     "metadata": {},
     "output_type": "execute_result"
    }
   ],
   "source": [
    "url"
   ]
  },
  {
   "cell_type": "code",
   "execution_count": 13,
   "metadata": {},
   "outputs": [],
   "source": [
    "response = requests.get(url)"
   ]
  },
  {
   "cell_type": "code",
   "execution_count": 14,
   "metadata": {
    "scrolled": true
   },
   "outputs": [
    {
     "data": {
      "text/plain": [
       "'[{\"errorMessage\": \"\", \"loanStatusList\": [], \"sid\": 0}, {\"errorMessage\": \"Not developed...\", \"loanStatusList\": [], \"sid\": 1}, {\"errorMessage\": \"Not developed...\", \"loanStatusList\": [], \"sid\": 2}, {\"errorMessage\": \"Not developed...\", \"loanStatusList\": [], \"sid\": 3}, {\"errorMessage\": \"Not developed...\", \"loanStatusList\": [], \"sid\": 4}, {\"errorMessage\": \"Not developed...\", \"loanStatusList\": [], \"sid\": 5}, {\"errorMessage\": \"Not developed...\", \"loanStatusList\": [], \"sid\": 6}, {\"errorMessage\": \"\", \"loanStatusList\": [{\"RDD\": \"\", \"STATE\": 1, \"BN\": 0, \"POS\": \"\\\\uad6d\\\\ub0b4 eBook\", \"title\": \"\\\\uc790\\\\uc874\\\\uac10 \\\\uc218\\\\uc5c5 - [\\\\uc804\\\\uc790\\\\uc790\\\\ub8cc] : \\\\ud558\\\\ub8e8\\\\uc5d0 \\\\ud558\\\\ub098, \\\\ub098\\\\ub97c \\\\uc0ac\\\\ub791\\\\ud558\\\\uac8c \\\\ub418\\\\ub294 \\\\uc790\\\\uc874\\\\uac10 \\\\ud68c\\\\ubcf5 \\\\ud6c8\\\\ub828\", \"CN\": \"155.2 \\\\uc724\\\\ud64d\\\\uc790\", \"RN\": \"W0055895\", \"errorMessage\": \"\"}, {\"RDD\": \"\", \"STATE\": 1, \"BN\": 0, \"POS\": \"\\\\uad6d\\\\ub0b4 eBook\", \"title\": \"\\\\uc790\\\\uc874\\\\uac10 \\\\uc218\\\\uc5c5 - [\\\\uc804\\\\uc790\\\\uc790\\\\ub8cc] : \\\\ud558\\\\ub8e8\\\\uc5d0 \\\\ud558\\\\ub098, \\\\ub098\\\\ub97c \\\\uc0ac\\\\ub791\\\\ud558\\\\uac8c \\\\ub418\\\\ub294 \\\\uc790\\\\uc874\\\\uac10 \\\\ud68c\\\\ubcf5 \\\\ud6c8\\\\ub828\", \"CN\": \"155.2 \\\\uc724\\\\ud64d\\\\uc790\", \"RN\": \"W0065155\", \"errorMessage\": \"\"}, {\"RDD\": \"\", \"STATE\": 1, \"BN\": 0, \"POS\": \"\\\\uad6d\\\\ub0b4 eBook\", \"title\": \"\\\\uc790\\\\uc874\\\\uac10 \\\\uc218\\\\uc5c5 - [\\\\uc804\\\\uc790\\\\uc790\\\\ub8cc] : \\\\ud558\\\\ub8e8\\\\uc5d0 \\\\ud558\\\\ub098, \\\\ub098\\\\ub97c \\\\uc0ac\\\\ub791\\\\ud558\\\\uac8c \\\\ub418\\\\ub294 \\\\uc790\\\\uc874\\\\uac10 \\\\ud68c\\\\ubcf5 \\\\ud6c8\\\\ub828\", \"CN\": \"155.2 \\\\uc724\\\\ud64d\\\\uc790\", \"RN\": \"W0065156\", \"errorMessage\": \"\"}, {\"RDD\": \"\", \"STATE\": 1, \"BN\": 0, \"POS\": \"\\\\uad6d\\\\ub0b4 eBook\", \"title\": \"\\\\uc790\\\\uc874\\\\uac10 \\\\uc218\\\\uc5c5 - [\\\\uc804\\\\uc790\\\\uc790\\\\ub8cc] : \\\\ud558\\\\ub8e8\\\\uc5d0 \\\\ud558\\\\ub098, \\\\ub098\\\\ub97c \\\\uc0ac\\\\ub791\\\\ud558\\\\uac8c \\\\ub418\\\\ub294 \\\\uc790\\\\uc874\\\\uac10 \\\\ud68c\\\\ubcf5 \\\\ud6c8\\\\ub828\", \"CN\": \"155.2 \\\\uc724\\\\ud64d\\\\uc790\", \"RN\": \"W0065157\", \"errorMessage\": \"\"}, {\"RDD\": \"\", \"STATE\": 1, \"BN\": 0, \"POS\": \"\\\\uad6d\\\\ub0b4 eBook\", \"title\": \"\\\\uc790\\\\uc874\\\\uac10 \\\\uc218\\\\uc5c5 - [\\\\uc804\\\\uc790\\\\uc790\\\\ub8cc] : \\\\ud558\\\\ub8e8\\\\uc5d0 \\\\ud558\\\\ub098, \\\\ub098\\\\ub97c \\\\uc0ac\\\\ub791\\\\ud558\\\\uac8c \\\\ub418\\\\ub294 \\\\uc790\\\\uc874\\\\uac10 \\\\ud68c\\\\ubcf5 \\\\ud6c8\\\\ub828\", \"CN\": \"155.2 \\\\uc724\\\\ud64d\\\\uc790\", \"RN\": \"W0065158\", \"errorMessage\": \"\"}, {\"RDD\": \"\", \"STATE\": 1, \"BN\": 0, \"POS\": \"\\\\uad6d\\\\ub0b4 eBook\", \"title\": \"\\\\uc790\\\\uc874\\\\uac10 \\\\uc218\\\\uc5c5 - [\\\\uc804\\\\uc790\\\\uc790\\\\ub8cc] : \\\\ud558\\\\ub8e8\\\\uc5d0 \\\\ud558\\\\ub098, \\\\ub098\\\\ub97c \\\\uc0ac\\\\ub791\\\\ud558\\\\uac8c \\\\ub418\\\\ub294 \\\\uc790\\\\uc874\\\\uac10 \\\\ud68c\\\\ubcf5 \\\\ud6c8\\\\ub828\", \"CN\": \"155.2 \\\\uc724\\\\ud64d\\\\uc790\", \"RN\": \"W0065159\", \"errorMessage\": \"\"}, {\"RDD\": \"\", \"STATE\": 1, \"BN\": 0, \"POS\": \"\\\\uad6d\\\\ub0b4 eBook\", \"title\": \"\\\\uc790\\\\uc874\\\\uac10 \\\\uc218\\\\uc5c5 - [\\\\uc804\\\\uc790\\\\uc790\\\\ub8cc] : \\\\ud558\\\\ub8e8\\\\uc5d0 \\\\ud558\\\\ub098, \\\\ub098\\\\ub97c \\\\uc0ac\\\\ub791\\\\ud558\\\\uac8c \\\\ub418\\\\ub294 \\\\uc790\\\\uc874\\\\uac10 \\\\ud68c\\\\ubcf5 \\\\ud6c8\\\\ub828\", \"CN\": \"155.2 \\\\uc724\\\\ud64d\\\\uc790\", \"RN\": \"W0065160\", \"errorMessage\": \"\"}, {\"RDD\": \"\", \"STATE\": 1, \"BN\": 0, \"POS\": \"\\\\uad6d\\\\ub0b4 eBook\", \"title\": \"\\\\uc790\\\\uc874\\\\uac10 \\\\uc218\\\\uc5c5 - [\\\\uc804\\\\uc790\\\\uc790\\\\ub8cc] : \\\\ud558\\\\ub8e8\\\\uc5d0 \\\\ud558\\\\ub098, \\\\ub098\\\\ub97c \\\\uc0ac\\\\ub791\\\\ud558\\\\uac8c \\\\ub418\\\\ub294 \\\\uc790\\\\uc874\\\\uac10 \\\\ud68c\\\\ubcf5 \\\\ud6c8\\\\ub828\", \"CN\": \"155.2 \\\\uc724\\\\ud64d\\\\uc790\", \"RN\": \"W0065161\", \"errorMessage\": \"\"}, {\"RDD\": \"\", \"STATE\": 1, \"BN\": 0, \"POS\": \"\\\\uad6d\\\\ub0b4 eBook\", \"title\": \"\\\\uc790\\\\uc874\\\\uac10 \\\\uc218\\\\uc5c5 - [\\\\uc804\\\\uc790\\\\uc790\\\\ub8cc] : \\\\ud558\\\\ub8e8\\\\uc5d0 \\\\ud558\\\\ub098, \\\\ub098\\\\ub97c \\\\uc0ac\\\\ub791\\\\ud558\\\\uac8c \\\\ub418\\\\ub294 \\\\uc790\\\\uc874\\\\uac10 \\\\ud68c\\\\ubcf5 \\\\ud6c8\\\\ub828\", \"CN\": \"155.2 \\\\uc724\\\\ud64d\\\\uc790\", \"RN\": \"W0065162\", \"errorMessage\": \"\"}, {\"RDD\": \"\", \"STATE\": 1, \"BN\": 0, \"POS\": \"\\\\uad6d\\\\ub0b4 eBook\", \"title\": \"\\\\uc790\\\\uc874\\\\uac10 \\\\uc218\\\\uc5c5 - [\\\\uc804\\\\uc790\\\\uc790\\\\ub8cc] : \\\\ud558\\\\ub8e8\\\\uc5d0 \\\\ud558\\\\ub098, \\\\ub098\\\\ub97c \\\\uc0ac\\\\ub791\\\\ud558\\\\uac8c \\\\ub418\\\\ub294 \\\\uc790\\\\uc874\\\\uac10 \\\\ud68c\\\\ubcf5 \\\\ud6c8\\\\ub828\", \"CN\": \"155.2 \\\\uc724\\\\ud64d\\\\uc790\", \"RN\": \"W0065163\", \"errorMessage\": \"\"}, {\"RDD\": \"2020-03-20\", \"STATE\": 0, \"BN\": 0, \"POS\": \"\\\\uc81c1\\\\uc790\\\\ub8cc\\\\uc2e4(3\\\\uce35)\", \"title\": \"\\\\uc790\\\\uc874\\\\uac10 \\\\uc218\\\\uc5c5 : \\\\ud558\\\\ub8e8\\\\uc5d0 \\\\ud558\\\\ub098, \\\\ub098\\\\ub97c \\\\uc0ac\\\\ub791\\\\ud558\\\\uac8c \\\\ub418\\\\ub294 \\\\uc790\\\\uc874\\\\uac10 \\\\ud68c\\\\ubcf5 \\\\ud6c8\\\\ub828\", \"CN\": \"155.2 \\\\uc724\\\\ud64d\\\\uc790  c.4\", \"RN\": \"L0109231\", \"errorMessage\": \"\"}, {\"RDD\": \"\", \"STATE\": 1, \"BN\": 0, \"POS\": \"\\\\uc81c1\\\\uc790\\\\ub8cc\\\\uc2e4(3\\\\uce35)\", \"title\": \"\\\\uc790\\\\uc874\\\\uac10 \\\\uc218\\\\uc5c5 : \\\\ud558\\\\ub8e8\\\\uc5d0 \\\\ud558\\\\ub098, \\\\ub098\\\\ub97c \\\\uc0ac\\\\ub791\\\\ud558\\\\uac8c \\\\ub418\\\\ub294 \\\\uc790\\\\uc874\\\\uac10 \\\\ud68c\\\\ubcf5 \\\\ud6c8\\\\ub828\", \"CN\": \"155.2 \\\\uc724\\\\ud64d\\\\uc790\", \"RN\": \"S0480815\", \"errorMessage\": \"\"}, {\"RDD\": \"\", \"STATE\": 1, \"BN\": 0, \"POS\": \"\\\\uc81c1\\\\uc790\\\\ub8cc\\\\uc2e4(3\\\\uce35)\", \"title\": \"\\\\uc790\\\\uc874\\\\uac10 \\\\uc218\\\\uc5c5 : \\\\ud558\\\\ub8e8\\\\uc5d0 \\\\ud558\\\\ub098, \\\\ub098\\\\ub97c \\\\uc0ac\\\\ub791\\\\ud558\\\\uac8c \\\\ub418\\\\ub294 \\\\uc790\\\\uc874\\\\uac10 \\\\ud68c\\\\ubcf5 \\\\ud6c8\\\\ub828\", \"CN\": \"155.2 \\\\uc724\\\\ud64d\\\\uc790  3\", \"RN\": \"S0482736\", \"errorMessage\": \"\"}, {\"RDD\": \"\", \"STATE\": 1, \"BN\": 0, \"POS\": \"\\\\uc81c1\\\\uc790\\\\ub8cc\\\\uc2e4(3\\\\uce35)\", \"title\": \"\\\\uc790\\\\uc874\\\\uac10 \\\\uc218\\\\uc5c5 : \\\\ud558\\\\ub8e8\\\\uc5d0 \\\\ud558\\\\ub098, \\\\ub098\\\\ub97c \\\\uc0ac\\\\ub791\\\\ud558\\\\uac8c \\\\ub418\\\\ub294 \\\\uc790\\\\uc874\\\\uac10 \\\\ud68c\\\\ubcf5 \\\\ud6c8\\\\ub828\", \"CN\": \"155.2 \\\\uc724\\\\ud64d\\\\uc790  c.5\", \"RN\": \"S0486244\", \"errorMessage\": \"\"}, {\"RDD\": \"\", \"STATE\": 1, \"BN\": 0, \"POS\": \"\\\\uc81c1\\\\uc790\\\\ub8cc\\\\uc2e4(3\\\\uce35)\", \"title\": \"\\\\uc790\\\\uc874\\\\uac10 \\\\uc218\\\\uc5c5 : \\\\ud558\\\\ub8e8\\\\uc5d0 \\\\ud558\\\\ub098, \\\\ub098\\\\ub97c \\\\uc0ac\\\\ub791\\\\ud558\\\\uac8c \\\\ub418\\\\ub294 \\\\uc790\\\\uc874\\\\uac10 \\\\ud68c\\\\ubcf5 \\\\ud6c8\\\\ub828\", \"CN\": \"155.2 \\\\uc724\\\\ud64d\\\\uc790  c.6\", \"RN\": \"S0486245\", \"errorMessage\": \"\"}, {\"RDD\": \"\", \"STATE\": 1, \"BN\": 0, \"POS\": \"\\\\uc81c1\\\\uc790\\\\ub8cc\\\\uc2e4(3\\\\uce35)\", \"title\": \"\\\\uc790\\\\uc874\\\\uac10 \\\\uc218\\\\uc5c5 : \\\\ud558\\\\ub8e8\\\\uc5d0 \\\\ud558\\\\ub098, \\\\ub098\\\\ub97c \\\\uc0ac\\\\ub791\\\\ud558\\\\uac8c \\\\ub418\\\\ub294 \\\\uc790\\\\uc874\\\\uac10 \\\\ud68c\\\\ubcf5 \\\\ud6c8\\\\ub828\", \"CN\": \"155.2 \\\\uc724\\\\ud64d\\\\uc790  c.7\", \"RN\": \"S0486246\", \"errorMessage\": \"\"}, {\"RDD\": \"\", \"STATE\": 1, \"BN\": 0, \"POS\": \"\\\\uc81c1\\\\uc790\\\\ub8cc\\\\uc2e4(3\\\\uce35)\", \"title\": \"\\\\uc790\\\\uc874\\\\uac10 \\\\uc218\\\\uc5c5 : \\\\ud558\\\\ub8e8\\\\uc5d0 \\\\ud558\\\\ub098, \\\\ub098\\\\ub97c \\\\uc0ac\\\\ub791\\\\ud558\\\\uac8c \\\\ub418\\\\ub294 \\\\uc790\\\\uc874\\\\uac10 \\\\ud68c\\\\ubcf5 \\\\ud6c8\\\\ub828\", \"CN\": \"155.2 \\\\uc724\\\\ud64d\\\\uc790  c.8\", \"RN\": \"S0486780\", \"errorMessage\": \"\"}, {\"RDD\": \"2018-04-17\", \"STATE\": 0, \"BN\": 0, \"POS\": \"\\\\uc81c1\\\\uc790\\\\ub8cc\\\\uc2e4(3\\\\uce35)\", \"title\": \"\\\\uc790\\\\uc874\\\\uac10 \\\\uc218\\\\uc5c5 : \\\\ud558\\\\ub8e8\\\\uc5d0 \\\\ud558\\\\ub098, \\\\ub098\\\\ub97c \\\\uc0ac\\\\ub791\\\\ud558\\\\uac8c \\\\ub418\\\\ub294 \\\\uc790\\\\uc874\\\\uac10 \\\\ud68c\\\\ubcf5 \\\\ud6c8\\\\ub828\", \"CN\": \"155.2 \\\\uc724\\\\ud64d\\\\uc790  c.9\", \"RN\": \"S0486781\", \"errorMessage\": \"\"}, {\"RDD\": \"\", \"STATE\": 1, \"BN\": 0, \"POS\": \"\\\\uc81c1\\\\uc790\\\\ub8cc\\\\uc2e4(3\\\\uce35)\", \"title\": \"\\\\uc790\\\\uc874\\\\uac10 \\\\uc218\\\\uc5c5 : \\\\ud558\\\\ub8e8\\\\uc5d0 \\\\ud558\\\\ub098, \\\\ub098\\\\ub97c \\\\uc0ac\\\\ub791\\\\ud558\\\\uac8c \\\\ub418\\\\ub294 \\\\uc790\\\\uc874\\\\uac10 \\\\ud68c\\\\ubcf5 \\\\ud6c8\\\\ub828\", \"CN\": \"155.2 \\\\uc724\\\\ud64d\\\\uc790  c.10\", \"RN\": \"S0486782\", \"errorMessage\": \"\"}], \"sid\": 7}, {\"errorMessage\": \"Not developed...\", \"loanStatusList\": [], \"sid\": 8}, {\"errorMessage\": \"Not developed...\", \"loanStatusList\": [], \"sid\": 9}, {\"errorMessage\": \"Not developed...\", \"loanStatusList\": [], \"sid\": 10}, {\"errorMessage\": \"Not developed...\", \"loanStatusList\": [], \"sid\": 11}]'"
      ]
     },
     "execution_count": 14,
     "metadata": {},
     "output_type": "execute_result"
    }
   ],
   "source": [
    "response.text"
   ]
  },
  {
   "cell_type": "code",
   "execution_count": null,
   "metadata": {},
   "outputs": [],
   "source": []
  }
 ],
 "metadata": {
  "kernelspec": {
   "display_name": "Python 3",
   "language": "python",
   "name": "python3"
  },
  "language_info": {
   "codemirror_mode": {
    "name": "ipython",
    "version": 3
   },
   "file_extension": ".py",
   "mimetype": "text/x-python",
   "name": "python",
   "nbconvert_exporter": "python",
   "pygments_lexer": "ipython3",
   "version": "3.7.6"
  }
 },
 "nbformat": 4,
 "nbformat_minor": 4
}
