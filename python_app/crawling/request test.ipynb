{
 "cells": [
  {
   "cell_type": "code",
   "execution_count": 1,
   "metadata": {},
   "outputs": [],
   "source": [
    "from urllib.request import urlopen\n",
    "from bs4 import BeautifulSoup\n",
    "import re\n",
    "import sys, traceback\n",
    "import json\n",
    "from urllib import parse\n",
    "import requests \n",
    "#html = urlopen('https://lib.smu.ac.kr/Search/Detail/819033?key=9788988474839&campuscode=00')\n",
    "#bsObject = BeautifulSoup(html, \"html.parser\")"
   ]
  },
  {
   "cell_type": "code",
   "execution_count": 2,
   "metadata": {},
   "outputs": [],
   "source": [
    "def makeCrawlingUrlPlusSid(crawlUrl,ISBN, title, sid, searchFlag):\n",
    "    finalUrl = crawlUrl + '?isbn='+ ISBN + '&title='+ title+ '&sid=' + str(sid) + '&searchFlag=' + str(searchFlag)\n",
    "    return finalUrl"
   ]
  },
  {
   "cell_type": "code",
   "execution_count": 3,
   "metadata": {},
   "outputs": [],
   "source": [
    "def makeCrawlingUrl(crawlUrl,ISBN, title):\n",
    "    finalUrl = crawlUrl + '?isbn='+ ISBN + '&title='+ title \n",
    "    return finalUrl"
   ]
  },
  {
   "cell_type": "code",
   "execution_count": 4,
   "metadata": {},
   "outputs": [],
   "source": [
    "#https://us-central1-my-crawling-project.cloudfunctions.net/function-1?\n",
    "\n",
    "functionT = 'https://us-central1-my-crawling-project.cloudfunctions.net/function-1'\n",
    "functionC = 'https://us-central1-my-crawling-project.cloudfunctions.net/function-crawling'\n",
    "functionR = 'https://sddh-crawler-di4on54tsa-uc.a.run.app/'"
   ]
  },
  {
   "cell_type": "code",
   "execution_count": 5,
   "metadata": {},
   "outputs": [],
   "source": [
    "ISBN = '9788996094050'\n",
    "koreaTitle = '윤성우의 열혈 C 프로그래밍'\n",
    "title = parse.quote(koreaTitle)\n",
    "# case4.  3개 도서관 검색 테스트\n",
    "#https://kupis.kw.ac.kr/search/detail/CATTOT000000317224?mainLink=/search/tot&briefLink=/search/tot/result?commandType=advanced_A_lmtsn=000000000001_A_lmtsn=000000000003_A_cpp=10_A_range=000000000021_A__inc=on_A__inc=on_A__inc=on_A__inc=on_A__inc=on_A__inc=on_A_lmt0=TOTAL_A_lmt1=TOTAL_A_rf=_A__lmt0=on_A__lmt0=on_A__lmt0=on_A__lmt0=on_A__lmt0=on_A__lmt0=on_A__lmt0=on_A_si=1_A_si=2_A_si=3_A_weight2=_A_weight0=_A_weight1=_A_inc=TOTAL_A_q=%EC%9C%A4%EC%84%B1%EC%9A%B0%EC%9D%98+%EC%97%B4%ED%98%88+C+%ED%94%84%EB%A1%9C%EA%B7%B8%EB%9E%98%EB%B0%8D_A_q=_A_q=_A_b0=and_A_b1=and_A_lmtst=OR_A_lmtst=OR_A_rt=_A_st=KWRD_A_msc=500\n",
    "#https://lib.kookmin.ac.kr/#/search/ex?isbn=1%7Cl%7Ca%7C9788996094050&branch=1&material-type=1\n",
    "#http://lib.smu.ac.kr/Search/?q=9788996094050&searchTruncate=true&campuscode=00"
   ]
  },
  {
   "cell_type": "code",
   "execution_count": 5,
   "metadata": {},
   "outputs": [],
   "source": [
    "KW_CODE = 0\n",
    "ISBN = '9788968481093'\n",
    "koreaTitle = '(비즈니스를 위한) 데이터 과학'\n",
    "sid = 7\n",
    "searchFlag= 2\n",
    "title = parse.quote(koreaTitle)\n",
    "#'https://us-central1-my-crawling-project.cloudfunctions.net/function-crawling?isbn=9788968481093&title=%EC%9D%B4%EC%9A%A9%ED%95%B4%EC%A3%BC%EC%85%94%EC%84%9C+%EA%B0%90%EC%82%AC%ED%95%A9%EB%8B%88%EB%8B%A4&sid=0'"
   ]
  },
  {
   "cell_type": "code",
   "execution_count": 10,
   "metadata": {},
   "outputs": [],
   "source": [
    "KW_CODE = 0\n",
    "ISBN = '9791186757093'\n",
    "koreaTitle = '자존감 수업 : 하루에 하나, 나를 사랑하게 되는 자존감 회복 훈련'\n",
    "sid = 7\n",
    "searchFlag= 1\n",
    "title = parse.quote(koreaTitle)\n"
   ]
  },
  {
   "cell_type": "code",
   "execution_count": 6,
   "metadata": {},
   "outputs": [],
   "source": [
    "\n",
    "KW_CODE = 0\n",
    "ISBN = '9788988474839'\n",
    "koreaTitle = '데이터 분석 전문가 가이드'\n",
    "sid = 7\n",
    "searchFlag= 1\n",
    "title = parse.quote(koreaTitle)"
   ]
  },
  {
   "cell_type": "code",
   "execution_count": 11,
   "metadata": {},
   "outputs": [],
   "source": [
    "url = makeCrawlingUrl(functionR, ISBN, title)"
   ]
  },
  {
   "cell_type": "code",
   "execution_count": 12,
   "metadata": {},
   "outputs": [
    {
     "data": {
      "text/plain": [
       "'https://sddh-crawler-di4on54tsa-uc.a.run.app/?isbn=9791186757093&title=%EC%9E%90%EC%A1%B4%EA%B0%90%20%EC%88%98%EC%97%85%20%3A%20%ED%95%98%EB%A3%A8%EC%97%90%20%ED%95%98%EB%82%98%2C%20%EB%82%98%EB%A5%BC%20%EC%82%AC%EB%9E%91%ED%95%98%EA%B2%8C%20%EB%90%98%EB%8A%94%20%EC%9E%90%EC%A1%B4%EA%B0%90%20%ED%9A%8C%EB%B3%B5%20%ED%9B%88%EB%A0%A8'"
      ]
     },
     "execution_count": 12,
     "metadata": {},
     "output_type": "execute_result"
    }
   ],
   "source": [
    "url"
   ]
  },
  {
   "cell_type": "code",
   "execution_count": 13,
   "metadata": {},
   "outputs": [],
   "source": [
    "response = requests.get(url)"
   ]
  },
  {
   "cell_type": "code",
   "execution_count": 14,
   "metadata": {
    "scrolled": true
   },
   "outputs": [
    {
     "data": {
      "text/plain": [
       "'[{\"errorMessage\": \"\", \"loanStatusList\": [{\"CN\": \"155.2 \\\\u3147552\\\\u3148\", \"POS\": \"1\\\\uce35-\\\\uc790\\\\uc5f0/\\\\uc77c\\\\ubc18(000-600)\", \"RN\": \"748614\", \"RDD\": \"\", \"STATE\": 1, \"errorMessage\": \"\", \"BN\": 0, \"title\": \"\\\\uc790\\\\uc874\\\\uac10 \\\\uc218\\\\uc5c5 : \\\\ud558\\\\ub8e8\\\\uc5d0 \\\\ud558\\\\ub098, \\\\ub098\\\\ub97c \\\\uc0ac\\\\ub791\\\\ud558\\\\uac8c \\\\ub418\\\\ub294 \\\\uc790\\\\uc874\\\\uac10 \\\\ud68c\\\\ubcf5 \\\\ud6c8\\\\ub828\"}, {\"CN\": \"155.2 \\\\u3147552\\\\u3148  c.2\", \"POS\": \"1\\\\uce35-\\\\uc790\\\\uc5f0/\\\\uc77c\\\\ubc18(000-600)\", \"RN\": \"748615\", \"RDD\": \"\", \"STATE\": 1, \"errorMessage\": \"\", \"BN\": 0, \"title\": \"\\\\uc790\\\\uc874\\\\uac10 \\\\uc218\\\\uc5c5 : \\\\ud558\\\\ub8e8\\\\uc5d0 \\\\ud558\\\\ub098, \\\\ub098\\\\ub97c \\\\uc0ac\\\\ub791\\\\ud558\\\\uac8c \\\\ub418\\\\ub294 \\\\uc790\\\\uc874\\\\uac10 \\\\ud68c\\\\ubcf5 \\\\ud6c8\\\\ub828\"}, {\"CN\": \"155.2 \\\\u3147552\\\\u3148  c.3\", \"POS\": \"1\\\\uce35-\\\\uc790\\\\uc5f0/\\\\ub3c5\\\\uc11c\\\\ud074\\\\ub7fd\", \"RN\": \"745973\", \"RDD\": \"\", \"STATE\": 1, \"errorMessage\": \"\", \"BN\": 0, \"title\": \"\\\\uc790\\\\uc874\\\\uac10 \\\\uc218\\\\uc5c5 : \\\\ud558\\\\ub8e8\\\\uc5d0 \\\\ud558\\\\ub098, \\\\ub098\\\\ub97c \\\\uc0ac\\\\ub791\\\\ud558\\\\uac8c \\\\ub418\\\\ub294 \\\\uc790\\\\uc874\\\\uac10 \\\\ud68c\\\\ubcf5 \\\\ud6c8\\\\ub828\"}, {\"CN\": \"155.2 \\\\u3147552\\\\u3148  c.4\", \"POS\": \"1\\\\uce35-\\\\uc790\\\\uc5f0/\\\\ub3c5\\\\uc11c\\\\ud074\\\\ub7fd\", \"RN\": \"745974\", \"RDD\": \"\", \"STATE\": 1, \"errorMessage\": \"\", \"BN\": 0, \"title\": \"\\\\uc790\\\\uc874\\\\uac10 \\\\uc218\\\\uc5c5 : \\\\ud558\\\\ub8e8\\\\uc5d0 \\\\ud558\\\\ub098, \\\\ub098\\\\ub97c \\\\uc0ac\\\\ub791\\\\ud558\\\\uac8c \\\\ub418\\\\ub294 \\\\uc790\\\\uc874\\\\uac10 \\\\ud68c\\\\ubcf5 \\\\ud6c8\\\\ub828\"}, {\"CN\": \"155.2 \\\\u3147552\\\\u3148  c.5\", \"POS\": \"1\\\\uce35-\\\\uc790\\\\uc5f0/\\\\ub3c5\\\\uc11c\\\\ud074\\\\ub7fd\", \"RN\": \"745975\", \"RDD\": \"\", \"STATE\": 1, \"errorMessage\": \"\", \"BN\": 0, \"title\": \"\\\\uc790\\\\uc874\\\\uac10 \\\\uc218\\\\uc5c5 : \\\\ud558\\\\ub8e8\\\\uc5d0 \\\\ud558\\\\ub098, \\\\ub098\\\\ub97c \\\\uc0ac\\\\ub791\\\\ud558\\\\uac8c \\\\ub418\\\\ub294 \\\\uc790\\\\uc874\\\\uac10 \\\\ud68c\\\\ubcf5 \\\\ud6c8\\\\ub828\"}, {\"CN\": \"155.2 \\\\u3147552\\\\u3148  c.6\", \"POS\": \"1\\\\uce35-\\\\uc790\\\\uc5f0/\\\\ub3c5\\\\uc11c\\\\ud074\\\\ub7fd\", \"RN\": \"745976\", \"RDD\": \"\", \"STATE\": 1, \"errorMessage\": \"\", \"BN\": 0, \"title\": \"\\\\uc790\\\\uc874\\\\uac10 \\\\uc218\\\\uc5c5 : \\\\ud558\\\\ub8e8\\\\uc5d0 \\\\ud558\\\\ub098, \\\\ub098\\\\ub97c \\\\uc0ac\\\\ub791\\\\ud558\\\\uac8c \\\\ub418\\\\ub294 \\\\uc790\\\\uc874\\\\uac10 \\\\ud68c\\\\ubcf5 \\\\ud6c8\\\\ub828\"}, {\"CN\": \"155.2 \\\\u3147552\\\\u3148  c.7\", \"POS\": \"1\\\\uce35-\\\\uc790\\\\uc5f0/\\\\ub3c5\\\\uc11c\\\\ud074\\\\ub7fd\", \"RN\": \"745977\", \"RDD\": \"\", \"STATE\": 1, \"errorMessage\": \"\", \"BN\": 0, \"title\": \"\\\\uc790\\\\uc874\\\\uac10 \\\\uc218\\\\uc5c5 : \\\\ud558\\\\ub8e8\\\\uc5d0 \\\\ud558\\\\ub098, \\\\ub098\\\\ub97c \\\\uc0ac\\\\ub791\\\\ud558\\\\uac8c \\\\ub418\\\\ub294 \\\\uc790\\\\uc874\\\\uac10 \\\\ud68c\\\\ubcf5 \\\\ud6c8\\\\ub828\"}, {\"CN\": \"155.2 \\\\u3147552\\\\u3148  c.8\", \"POS\": \"1\\\\uce35-\\\\uc790\\\\uc5f0/\\\\ub3c5\\\\uc11c\\\\ud074\\\\ub7fd\", \"RN\": \"745978\", \"RDD\": \"\", \"STATE\": 1, \"errorMessage\": \"\", \"BN\": 0, \"title\": \"\\\\uc790\\\\uc874\\\\uac10 \\\\uc218\\\\uc5c5 : \\\\ud558\\\\ub8e8\\\\uc5d0 \\\\ud558\\\\ub098, \\\\ub098\\\\ub97c \\\\uc0ac\\\\ub791\\\\ud558\\\\uac8c \\\\ub418\\\\ub294 \\\\uc790\\\\uc874\\\\uac10 \\\\ud68c\\\\ubcf5 \\\\ud6c8\\\\ub828\"}, {\"CN\": \"155.2 \\\\u3147552\\\\u3148  c.9\", \"POS\": \"1\\\\uce35-\\\\uc790\\\\uc5f0/\\\\ub3c5\\\\uc11c\\\\ud074\\\\ub7fd\", \"RN\": \"745979\", \"RDD\": \"\", \"STATE\": 1, \"errorMessage\": \"\", \"BN\": 0, \"title\": \"\\\\uc790\\\\uc874\\\\uac10 \\\\uc218\\\\uc5c5 : \\\\ud558\\\\ub8e8\\\\uc5d0 \\\\ud558\\\\ub098, \\\\ub098\\\\ub97c \\\\uc0ac\\\\ub791\\\\ud558\\\\uac8c \\\\ub418\\\\ub294 \\\\uc790\\\\uc874\\\\uac10 \\\\ud68c\\\\ubcf5 \\\\ud6c8\\\\ub828\"}, {\"CN\": \"155.2 \\\\u3147552\\\\u3148  c.10\", \"POS\": \"1\\\\uce35-\\\\uc790\\\\uc5f0/\\\\ub3c5\\\\uc11c\\\\ud074\\\\ub7fd\", \"RN\": \"745980\", \"RDD\": \"\", \"STATE\": 1, \"errorMessage\": \"\", \"BN\": 0, \"title\": \"\\\\uc790\\\\uc874\\\\uac10 \\\\uc218\\\\uc5c5 : \\\\ud558\\\\ub8e8\\\\uc5d0 \\\\ud558\\\\ub098, \\\\ub098\\\\ub97c \\\\uc0ac\\\\ub791\\\\ud558\\\\uac8c \\\\ub418\\\\ub294 \\\\uc790\\\\uc874\\\\uac10 \\\\ud68c\\\\ubcf5 \\\\ud6c8\\\\ub828\"}, {\"CN\": \"155.2 \\\\u3147552\\\\u3148  c.11\", \"POS\": \"1\\\\uce35-\\\\uc790\\\\uc5f0/\\\\ub3c5\\\\uc11c\\\\ud074\\\\ub7fd\", \"RN\": \"745981\", \"RDD\": \"\", \"STATE\": 1, \"errorMessage\": \"\", \"BN\": 0, \"title\": \"\\\\uc790\\\\uc874\\\\uac10 \\\\uc218\\\\uc5c5 : \\\\ud558\\\\ub8e8\\\\uc5d0 \\\\ud558\\\\ub098, \\\\ub098\\\\ub97c \\\\uc0ac\\\\ub791\\\\ud558\\\\uac8c \\\\ub418\\\\ub294 \\\\uc790\\\\uc874\\\\uac10 \\\\ud68c\\\\ubcf5 \\\\ud6c8\\\\ub828\"}, {\"CN\": \"155.2 \\\\u3147552\\\\u3148  c.12\", \"POS\": \"1\\\\uce35-\\\\uc790\\\\uc5f0/\\\\ub3c5\\\\uc11c\\\\ud074\\\\ub7fd\", \"RN\": \"745982\", \"RDD\": \"\", \"STATE\": 1, \"errorMessage\": \"\", \"BN\": 0, \"title\": \"\\\\uc790\\\\uc874\\\\uac10 \\\\uc218\\\\uc5c5 : \\\\ud558\\\\ub8e8\\\\uc5d0 \\\\ud558\\\\ub098, \\\\ub098\\\\ub97c \\\\uc0ac\\\\ub791\\\\ud558\\\\uac8c \\\\ub418\\\\ub294 \\\\uc790\\\\uc874\\\\uac10 \\\\ud68c\\\\ubcf5 \\\\ud6c8\\\\ub828\"}], \"sid\": 0}, {\"errorMessage\": \"\", \"loanStatusList\": [{\"CN\": \"155.2 \\\\uc72495\\\\u3148\", \"POS\": \"\\\\uc778\\\\ubb38\\\\uacfc\\\\ud559\\\\ub3c4\\\\uc11c\\\\uc2e4(\\\\uc7902\\\\uce35)\", \"RN\": \"00990637\", \"RDD\": \"\", \"STATE\": 1, \"errorMessage\": \"\", \"BN\": 0, \"title\": \"\\\\uc790\\\\uc874\\\\uac10 \\\\uc218\\\\uc5c5 :\\\\ud558\\\\ub8e8\\\\uc5d0 \\\\ud558\\\\ub098, \\\\ub098\\\\ub97c \\\\uc0ac\\\\ub791\\\\ud558\\\\uac8c \\\\ub418\\\\ub294 \\\\uc790\\\\uc874\\\\uac10 \\\\ud68c\\\\ubcf5 \\\\ud6c8\\\\ub828\"}, {\"CN\": \"155.2 \\\\uc72495\\\\u3148 =2\", \"POS\": \"\\\\uac15\\\\uc758\\\\uc9c0\\\\uc6d0 \\\\uacfc\\\\uc81c\\\\ub3c4\\\\uc11c\\\\uc2e4(\\\\uc7904\\\\uce35)\", \"RN\": \"01003230\", \"RDD\": \"\", \"STATE\": -1, \"errorMessage\": \"\", \"BN\": 0, \"title\": \"\\\\uc790\\\\uc874\\\\uac10 \\\\uc218\\\\uc5c5 :\\\\ud558\\\\ub8e8\\\\uc5d0 \\\\ud558\\\\ub098, \\\\ub098\\\\ub97c \\\\uc0ac\\\\ub791\\\\ud558\\\\uac8c \\\\ub418\\\\ub294 \\\\uc790\\\\uc874\\\\uac10 \\\\ud68c\\\\ubcf5 \\\\ud6c8\\\\ub828\"}, {\"CN\": \"155.2 \\\\uc72495\\\\u3148 =3\", \"POS\": \"\\\\uac15\\\\uc758\\\\uc9c0\\\\uc6d0 \\\\uacfc\\\\uc81c\\\\ub3c4\\\\uc11c\\\\uc2e4(\\\\uc7904\\\\uce35)\", \"RN\": \"01007638\", \"RDD\": \"\", \"STATE\": -1, \"errorMessage\": \"\", \"BN\": 0, \"title\": \"\\\\uc790\\\\uc874\\\\uac10 \\\\uc218\\\\uc5c5 :\\\\ud558\\\\ub8e8\\\\uc5d0 \\\\ud558\\\\ub098, \\\\ub098\\\\ub97c \\\\uc0ac\\\\ub791\\\\ud558\\\\uac8c \\\\ub418\\\\ub294 \\\\uc790\\\\uc874\\\\uac10 \\\\ud68c\\\\ubcf5 \\\\ud6c8\\\\ub828\"}, {\"CN\": \"155.2 \\\\uc72495\\\\u3148 =4\", \"POS\": \"\\\\uc778\\\\ubb38\\\\uacfc\\\\ud559\\\\ub3c4\\\\uc11c\\\\uc2e4(\\\\uc7902\\\\uce35)\", \"RN\": \"01020477\", \"RDD\": \"\", \"STATE\": 1, \"errorMessage\": \"\", \"BN\": 0, \"title\": \"\\\\uc790\\\\uc874\\\\uac10 \\\\uc218\\\\uc5c5 :\\\\ud558\\\\ub8e8\\\\uc5d0 \\\\ud558\\\\ub098, \\\\ub098\\\\ub97c \\\\uc0ac\\\\ub791\\\\ud558\\\\uac8c \\\\ub418\\\\ub294 \\\\uc790\\\\uc874\\\\uac10 \\\\ud68c\\\\ubcf5 \\\\ud6c8\\\\ub828\"}, {\"CN\": \"155.2 \\\\uc72495\\\\u3148 =5\", \"POS\": \"\\\\uc778\\\\ubb38\\\\uacfc\\\\ud559\\\\ub3c4\\\\uc11c\\\\uc2e4(\\\\uc7902\\\\uce35)\", \"RN\": \"01020482\", \"RDD\": \"\", \"STATE\": 1, \"errorMessage\": \"\", \"BN\": 0, \"title\": \"\\\\uc790\\\\uc874\\\\uac10 \\\\uc218\\\\uc5c5 :\\\\ud558\\\\ub8e8\\\\uc5d0 \\\\ud558\\\\ub098, \\\\ub098\\\\ub97c \\\\uc0ac\\\\ub791\\\\ud558\\\\uac8c \\\\ub418\\\\ub294 \\\\uc790\\\\uc874\\\\uac10 \\\\ud68c\\\\ubcf5 \\\\ud6c8\\\\ub828\"}], \"sid\": 1}, {\"errorMessage\": \"\", \"loanStatusList\": [{\"CN\": \"155.2 \\\\uc72495\\\\u3148 c.3\", \"POS\": \"\\\\uc885\\\\uad50\\\\ucca0\\\\ud559\\\\uc790\\\\ub8cc\\\\uc2e4(3\\\\uce35)\", \"RN\": \"E425479\", \"RDD\": \"\", \"STATE\": 1, \"errorMessage\": \"\", \"BN\": 0, \"title\": \"\\\\ub3c4\\\\uc11c \\\\uc790\\\\uc874\\\\uac10 \\\\uc218\\\\uc5c5 :\\\\ud558\\\\ub8e8\\\\uc5d0 \\\\ud558\\\\ub098, \\\\ub098\\\\ub97c \\\\uc0ac\\\\ub791\\\\ud558\\\\uac8c \\\\ub418\\\\ub294 \\\\uc790\\\\uc874\\\\uac10 \\\\ud68c\\\\ubcf5 \\\\ud6c8\\\\ub828\"}, {\"CN\": \"155.2 \\\\uc72495\\\\u3148 c.4\", \"POS\": \"\\\\uc885\\\\uad50\\\\ucca0\\\\ud559\\\\uc790\\\\ub8cc\\\\uc2e4(3\\\\uce35)\", \"RN\": \"E425734\", \"RDD\": \"\", \"STATE\": 1, \"errorMessage\": \"\", \"BN\": 0, \"title\": \"\\\\ub3c4\\\\uc11c \\\\uc790\\\\uc874\\\\uac10 \\\\uc218\\\\uc5c5 :\\\\ud558\\\\ub8e8\\\\uc5d0 \\\\ud558\\\\ub098, \\\\ub098\\\\ub97c \\\\uc0ac\\\\ub791\\\\ud558\\\\uac8c \\\\ub418\\\\ub294 \\\\uc790\\\\uc874\\\\uac10 \\\\ud68c\\\\ubcf5 \\\\ud6c8\\\\ub828\"}, {\"CN\": \"155.2 \\\\uc72495\\\\u3148 c.5\", \"POS\": \"\\\\uc885\\\\uad50\\\\ucca0\\\\ud559\\\\uc790\\\\ub8cc\\\\uc2e4(3\\\\uce35)\", \"RN\": \"E425735\", \"RDD\": \"\", \"STATE\": 1, \"errorMessage\": \"\", \"BN\": 0, \"title\": \"\\\\ub3c4\\\\uc11c \\\\uc790\\\\uc874\\\\uac10 \\\\uc218\\\\uc5c5 :\\\\ud558\\\\ub8e8\\\\uc5d0 \\\\ud558\\\\ub098, \\\\ub098\\\\ub97c \\\\uc0ac\\\\ub791\\\\ud558\\\\uac8c \\\\ub418\\\\ub294 \\\\uc790\\\\uc874\\\\uac10 \\\\ud68c\\\\ubcf5 \\\\ud6c8\\\\ub828\"}, {\"CN\": \"155.2 \\\\uc72495\\\\u3148\", \"POS\": \"\\\\uc885\\\\uad50\\\\ucca0\\\\ud559\\\\uc790\\\\ub8cc\\\\uc2e4(3\\\\uce35)\", \"RN\": \"E614978\", \"RDD\": \"\", \"STATE\": 1, \"errorMessage\": \"\", \"BN\": 0, \"title\": \"\\\\ub3c4\\\\uc11c \\\\uc790\\\\uc874\\\\uac10 \\\\uc218\\\\uc5c5 :\\\\ud558\\\\ub8e8\\\\uc5d0 \\\\ud558\\\\ub098, \\\\ub098\\\\ub97c \\\\uc0ac\\\\ub791\\\\ud558\\\\uac8c \\\\ub418\\\\ub294 \\\\uc790\\\\uc874\\\\uac10 \\\\ud68c\\\\ubcf5 \\\\ud6c8\\\\ub828\"}, {\"CN\": \"155.2 \\\\uc72495\\\\u3148 c.2\", \"POS\": \"\\\\uc885\\\\uad50\\\\ucca0\\\\ud559\\\\uc790\\\\ub8cc\\\\uc2e4(3\\\\uce35)\", \"RN\": \"E615236\", \"RDD\": \"\", \"STATE\": 1, \"errorMessage\": \"\", \"BN\": 0, \"title\": \"\\\\ub3c4\\\\uc11c \\\\uc790\\\\uc874\\\\uac10 \\\\uc218\\\\uc5c5 :\\\\ud558\\\\ub8e8\\\\uc5d0 \\\\ud558\\\\ub098, \\\\ub098\\\\ub97c \\\\uc0ac\\\\ub791\\\\ud558\\\\uac8c \\\\ub418\\\\ub294 \\\\uc790\\\\uc874\\\\uac10 \\\\ud68c\\\\ubcf5 \\\\ud6c8\\\\ub828\"}, {\"CN\": \"155.2 \\\\uc72495\\\\u3148 c.6\", \"POS\": \"\\\\uc885\\\\uad50\\\\ucca0\\\\ud559\\\\uc790\\\\ub8cc\\\\uc2e4(3\\\\uce35)\", \"RN\": \"E634128\", \"RDD\": \"\", \"STATE\": 1, \"errorMessage\": \"\", \"BN\": 0, \"title\": \"\\\\ub3c4\\\\uc11c \\\\uc790\\\\uc874\\\\uac10 \\\\uc218\\\\uc5c5 :\\\\ud558\\\\ub8e8\\\\uc5d0 \\\\ud558\\\\ub098, \\\\ub098\\\\ub97c \\\\uc0ac\\\\ub791\\\\ud558\\\\uac8c \\\\ub418\\\\ub294 \\\\uc790\\\\uc874\\\\uac10 \\\\ud68c\\\\ubcf5 \\\\ud6c8\\\\ub828\"}], \"sid\": 2}, {\"errorMessage\": \"Not developed...\", \"loanStatusList\": [], \"sid\": 3}, {\"errorMessage\": \"Not developed...\", \"loanStatusList\": [], \"sid\": 4}, {\"errorMessage\": \"Not developed...\", \"loanStatusList\": [], \"sid\": 5}, {\"errorMessage\": \"Not developed...\", \"loanStatusList\": [], \"sid\": 6}, {\"errorMessage\": \"\", \"loanStatusList\": [{\"CN\": \"155.2 \\\\uc724\\\\ud64d\\\\uc790\", \"POS\": \"\\\\uad6d\\\\ub0b4 eBook\", \"RN\": \"W0055895\", \"RDD\": \"\", \"STATE\": 1, \"errorMessage\": \"\", \"BN\": 0, \"title\": \"\\\\uc790\\\\uc874\\\\uac10 \\\\uc218\\\\uc5c5 - [\\\\uc804\\\\uc790\\\\uc790\\\\ub8cc] : \\\\ud558\\\\ub8e8\\\\uc5d0 \\\\ud558\\\\ub098, \\\\ub098\\\\ub97c \\\\uc0ac\\\\ub791\\\\ud558\\\\uac8c \\\\ub418\\\\ub294 \\\\uc790\\\\uc874\\\\uac10 \\\\ud68c\\\\ubcf5 \\\\ud6c8\\\\ub828\"}, {\"CN\": \"155.2 \\\\uc724\\\\ud64d\\\\uc790\", \"POS\": \"\\\\uad6d\\\\ub0b4 eBook\", \"RN\": \"W0065155\", \"RDD\": \"\", \"STATE\": 1, \"errorMessage\": \"\", \"BN\": 0, \"title\": \"\\\\uc790\\\\uc874\\\\uac10 \\\\uc218\\\\uc5c5 - [\\\\uc804\\\\uc790\\\\uc790\\\\ub8cc] : \\\\ud558\\\\ub8e8\\\\uc5d0 \\\\ud558\\\\ub098, \\\\ub098\\\\ub97c \\\\uc0ac\\\\ub791\\\\ud558\\\\uac8c \\\\ub418\\\\ub294 \\\\uc790\\\\uc874\\\\uac10 \\\\ud68c\\\\ubcf5 \\\\ud6c8\\\\ub828\"}, {\"CN\": \"155.2 \\\\uc724\\\\ud64d\\\\uc790\", \"POS\": \"\\\\uad6d\\\\ub0b4 eBook\", \"RN\": \"W0065156\", \"RDD\": \"\", \"STATE\": 1, \"errorMessage\": \"\", \"BN\": 0, \"title\": \"\\\\uc790\\\\uc874\\\\uac10 \\\\uc218\\\\uc5c5 - [\\\\uc804\\\\uc790\\\\uc790\\\\ub8cc] : \\\\ud558\\\\ub8e8\\\\uc5d0 \\\\ud558\\\\ub098, \\\\ub098\\\\ub97c \\\\uc0ac\\\\ub791\\\\ud558\\\\uac8c \\\\ub418\\\\ub294 \\\\uc790\\\\uc874\\\\uac10 \\\\ud68c\\\\ubcf5 \\\\ud6c8\\\\ub828\"}, {\"CN\": \"155.2 \\\\uc724\\\\ud64d\\\\uc790\", \"POS\": \"\\\\uad6d\\\\ub0b4 eBook\", \"RN\": \"W0065157\", \"RDD\": \"\", \"STATE\": 1, \"errorMessage\": \"\", \"BN\": 0, \"title\": \"\\\\uc790\\\\uc874\\\\uac10 \\\\uc218\\\\uc5c5 - [\\\\uc804\\\\uc790\\\\uc790\\\\ub8cc] : \\\\ud558\\\\ub8e8\\\\uc5d0 \\\\ud558\\\\ub098, \\\\ub098\\\\ub97c \\\\uc0ac\\\\ub791\\\\ud558\\\\uac8c \\\\ub418\\\\ub294 \\\\uc790\\\\uc874\\\\uac10 \\\\ud68c\\\\ubcf5 \\\\ud6c8\\\\ub828\"}, {\"CN\": \"155.2 \\\\uc724\\\\ud64d\\\\uc790\", \"POS\": \"\\\\uad6d\\\\ub0b4 eBook\", \"RN\": \"W0065158\", \"RDD\": \"\", \"STATE\": 1, \"errorMessage\": \"\", \"BN\": 0, \"title\": \"\\\\uc790\\\\uc874\\\\uac10 \\\\uc218\\\\uc5c5 - [\\\\uc804\\\\uc790\\\\uc790\\\\ub8cc] : \\\\ud558\\\\ub8e8\\\\uc5d0 \\\\ud558\\\\ub098, \\\\ub098\\\\ub97c \\\\uc0ac\\\\ub791\\\\ud558\\\\uac8c \\\\ub418\\\\ub294 \\\\uc790\\\\uc874\\\\uac10 \\\\ud68c\\\\ubcf5 \\\\ud6c8\\\\ub828\"}, {\"CN\": \"155.2 \\\\uc724\\\\ud64d\\\\uc790\", \"POS\": \"\\\\uad6d\\\\ub0b4 eBook\", \"RN\": \"W0065159\", \"RDD\": \"\", \"STATE\": 1, \"errorMessage\": \"\", \"BN\": 0, \"title\": \"\\\\uc790\\\\uc874\\\\uac10 \\\\uc218\\\\uc5c5 - [\\\\uc804\\\\uc790\\\\uc790\\\\ub8cc] : \\\\ud558\\\\ub8e8\\\\uc5d0 \\\\ud558\\\\ub098, \\\\ub098\\\\ub97c \\\\uc0ac\\\\ub791\\\\ud558\\\\uac8c \\\\ub418\\\\ub294 \\\\uc790\\\\uc874\\\\uac10 \\\\ud68c\\\\ubcf5 \\\\ud6c8\\\\ub828\"}, {\"CN\": \"155.2 \\\\uc724\\\\ud64d\\\\uc790\", \"POS\": \"\\\\uad6d\\\\ub0b4 eBook\", \"RN\": \"W0065160\", \"RDD\": \"\", \"STATE\": 1, \"errorMessage\": \"\", \"BN\": 0, \"title\": \"\\\\uc790\\\\uc874\\\\uac10 \\\\uc218\\\\uc5c5 - [\\\\uc804\\\\uc790\\\\uc790\\\\ub8cc] : \\\\ud558\\\\ub8e8\\\\uc5d0 \\\\ud558\\\\ub098, \\\\ub098\\\\ub97c \\\\uc0ac\\\\ub791\\\\ud558\\\\uac8c \\\\ub418\\\\ub294 \\\\uc790\\\\uc874\\\\uac10 \\\\ud68c\\\\ubcf5 \\\\ud6c8\\\\ub828\"}, {\"CN\": \"155.2 \\\\uc724\\\\ud64d\\\\uc790\", \"POS\": \"\\\\uad6d\\\\ub0b4 eBook\", \"RN\": \"W0065161\", \"RDD\": \"\", \"STATE\": 1, \"errorMessage\": \"\", \"BN\": 0, \"title\": \"\\\\uc790\\\\uc874\\\\uac10 \\\\uc218\\\\uc5c5 - [\\\\uc804\\\\uc790\\\\uc790\\\\ub8cc] : \\\\ud558\\\\ub8e8\\\\uc5d0 \\\\ud558\\\\ub098, \\\\ub098\\\\ub97c \\\\uc0ac\\\\ub791\\\\ud558\\\\uac8c \\\\ub418\\\\ub294 \\\\uc790\\\\uc874\\\\uac10 \\\\ud68c\\\\ubcf5 \\\\ud6c8\\\\ub828\"}, {\"CN\": \"155.2 \\\\uc724\\\\ud64d\\\\uc790\", \"POS\": \"\\\\uad6d\\\\ub0b4 eBook\", \"RN\": \"W0065162\", \"RDD\": \"\", \"STATE\": 1, \"errorMessage\": \"\", \"BN\": 0, \"title\": \"\\\\uc790\\\\uc874\\\\uac10 \\\\uc218\\\\uc5c5 - [\\\\uc804\\\\uc790\\\\uc790\\\\ub8cc] : \\\\ud558\\\\ub8e8\\\\uc5d0 \\\\ud558\\\\ub098, \\\\ub098\\\\ub97c \\\\uc0ac\\\\ub791\\\\ud558\\\\uac8c \\\\ub418\\\\ub294 \\\\uc790\\\\uc874\\\\uac10 \\\\ud68c\\\\ubcf5 \\\\ud6c8\\\\ub828\"}, {\"CN\": \"155.2 \\\\uc724\\\\ud64d\\\\uc790\", \"POS\": \"\\\\uad6d\\\\ub0b4 eBook\", \"RN\": \"W0065163\", \"RDD\": \"\", \"STATE\": 1, \"errorMessage\": \"\", \"BN\": 0, \"title\": \"\\\\uc790\\\\uc874\\\\uac10 \\\\uc218\\\\uc5c5 - [\\\\uc804\\\\uc790\\\\uc790\\\\ub8cc] : \\\\ud558\\\\ub8e8\\\\uc5d0 \\\\ud558\\\\ub098, \\\\ub098\\\\ub97c \\\\uc0ac\\\\ub791\\\\ud558\\\\uac8c \\\\ub418\\\\ub294 \\\\uc790\\\\uc874\\\\uac10 \\\\ud68c\\\\ubcf5 \\\\ud6c8\\\\ub828\"}, {\"CN\": \"155.2 \\\\uc724\\\\ud64d\\\\uc790  c.4\", \"POS\": \"\\\\uc81c1\\\\uc790\\\\ub8cc\\\\uc2e4(3\\\\uce35)\", \"RN\": \"L0109231\", \"RDD\": \"2020-03-20\", \"STATE\": 0, \"errorMessage\": \"\", \"BN\": 0, \"title\": \"\\\\uc790\\\\uc874\\\\uac10 \\\\uc218\\\\uc5c5 : \\\\ud558\\\\ub8e8\\\\uc5d0 \\\\ud558\\\\ub098, \\\\ub098\\\\ub97c \\\\uc0ac\\\\ub791\\\\ud558\\\\uac8c \\\\ub418\\\\ub294 \\\\uc790\\\\uc874\\\\uac10 \\\\ud68c\\\\ubcf5 \\\\ud6c8\\\\ub828\"}, {\"CN\": \"155.2 \\\\uc724\\\\ud64d\\\\uc790\", \"POS\": \"\\\\uc81c1\\\\uc790\\\\ub8cc\\\\uc2e4(3\\\\uce35)\", \"RN\": \"S0480815\", \"RDD\": \"\", \"STATE\": 1, \"errorMessage\": \"\", \"BN\": 0, \"title\": \"\\\\uc790\\\\uc874\\\\uac10 \\\\uc218\\\\uc5c5 : \\\\ud558\\\\ub8e8\\\\uc5d0 \\\\ud558\\\\ub098, \\\\ub098\\\\ub97c \\\\uc0ac\\\\ub791\\\\ud558\\\\uac8c \\\\ub418\\\\ub294 \\\\uc790\\\\uc874\\\\uac10 \\\\ud68c\\\\ubcf5 \\\\ud6c8\\\\ub828\"}, {\"CN\": \"155.2 \\\\uc724\\\\ud64d\\\\uc790  3\", \"POS\": \"\\\\uc81c1\\\\uc790\\\\ub8cc\\\\uc2e4(3\\\\uce35)\", \"RN\": \"S0482736\", \"RDD\": \"\", \"STATE\": 1, \"errorMessage\": \"\", \"BN\": 0, \"title\": \"\\\\uc790\\\\uc874\\\\uac10 \\\\uc218\\\\uc5c5 : \\\\ud558\\\\ub8e8\\\\uc5d0 \\\\ud558\\\\ub098, \\\\ub098\\\\ub97c \\\\uc0ac\\\\ub791\\\\ud558\\\\uac8c \\\\ub418\\\\ub294 \\\\uc790\\\\uc874\\\\uac10 \\\\ud68c\\\\ubcf5 \\\\ud6c8\\\\ub828\"}, {\"CN\": \"155.2 \\\\uc724\\\\ud64d\\\\uc790  c.5\", \"POS\": \"\\\\uc81c1\\\\uc790\\\\ub8cc\\\\uc2e4(3\\\\uce35)\", \"RN\": \"S0486244\", \"RDD\": \"\", \"STATE\": 1, \"errorMessage\": \"\", \"BN\": 0, \"title\": \"\\\\uc790\\\\uc874\\\\uac10 \\\\uc218\\\\uc5c5 : \\\\ud558\\\\ub8e8\\\\uc5d0 \\\\ud558\\\\ub098, \\\\ub098\\\\ub97c \\\\uc0ac\\\\ub791\\\\ud558\\\\uac8c \\\\ub418\\\\ub294 \\\\uc790\\\\uc874\\\\uac10 \\\\ud68c\\\\ubcf5 \\\\ud6c8\\\\ub828\"}, {\"CN\": \"155.2 \\\\uc724\\\\ud64d\\\\uc790  c.6\", \"POS\": \"\\\\uc81c1\\\\uc790\\\\ub8cc\\\\uc2e4(3\\\\uce35)\", \"RN\": \"S0486245\", \"RDD\": \"\", \"STATE\": 1, \"errorMessage\": \"\", \"BN\": 0, \"title\": \"\\\\uc790\\\\uc874\\\\uac10 \\\\uc218\\\\uc5c5 : \\\\ud558\\\\ub8e8\\\\uc5d0 \\\\ud558\\\\ub098, \\\\ub098\\\\ub97c \\\\uc0ac\\\\ub791\\\\ud558\\\\uac8c \\\\ub418\\\\ub294 \\\\uc790\\\\uc874\\\\uac10 \\\\ud68c\\\\ubcf5 \\\\ud6c8\\\\ub828\"}, {\"CN\": \"155.2 \\\\uc724\\\\ud64d\\\\uc790  c.7\", \"POS\": \"\\\\uc81c1\\\\uc790\\\\ub8cc\\\\uc2e4(3\\\\uce35)\", \"RN\": \"S0486246\", \"RDD\": \"\", \"STATE\": 1, \"errorMessage\": \"\", \"BN\": 0, \"title\": \"\\\\uc790\\\\uc874\\\\uac10 \\\\uc218\\\\uc5c5 : \\\\ud558\\\\ub8e8\\\\uc5d0 \\\\ud558\\\\ub098, \\\\ub098\\\\ub97c \\\\uc0ac\\\\ub791\\\\ud558\\\\uac8c \\\\ub418\\\\ub294 \\\\uc790\\\\uc874\\\\uac10 \\\\ud68c\\\\ubcf5 \\\\ud6c8\\\\ub828\"}, {\"CN\": \"155.2 \\\\uc724\\\\ud64d\\\\uc790  c.8\", \"POS\": \"\\\\uc81c1\\\\uc790\\\\ub8cc\\\\uc2e4(3\\\\uce35)\", \"RN\": \"S0486780\", \"RDD\": \"\", \"STATE\": 1, \"errorMessage\": \"\", \"BN\": 0, \"title\": \"\\\\uc790\\\\uc874\\\\uac10 \\\\uc218\\\\uc5c5 : \\\\ud558\\\\ub8e8\\\\uc5d0 \\\\ud558\\\\ub098, \\\\ub098\\\\ub97c \\\\uc0ac\\\\ub791\\\\ud558\\\\uac8c \\\\ub418\\\\ub294 \\\\uc790\\\\uc874\\\\uac10 \\\\ud68c\\\\ubcf5 \\\\ud6c8\\\\ub828\"}, {\"CN\": \"155.2 \\\\uc724\\\\ud64d\\\\uc790  c.9\", \"POS\": \"\\\\uc81c1\\\\uc790\\\\ub8cc\\\\uc2e4(3\\\\uce35)\", \"RN\": \"S0486781\", \"RDD\": \"2018-04-17\", \"STATE\": 0, \"errorMessage\": \"\", \"BN\": 0, \"title\": \"\\\\uc790\\\\uc874\\\\uac10 \\\\uc218\\\\uc5c5 : \\\\ud558\\\\ub8e8\\\\uc5d0 \\\\ud558\\\\ub098, \\\\ub098\\\\ub97c \\\\uc0ac\\\\ub791\\\\ud558\\\\uac8c \\\\ub418\\\\ub294 \\\\uc790\\\\uc874\\\\uac10 \\\\ud68c\\\\ubcf5 \\\\ud6c8\\\\ub828\"}, {\"CN\": \"155.2 \\\\uc724\\\\ud64d\\\\uc790  c.10\", \"POS\": \"\\\\uc81c1\\\\uc790\\\\ub8cc\\\\uc2e4(3\\\\uce35)\", \"RN\": \"S0486782\", \"RDD\": \"\", \"STATE\": 1, \"errorMessage\": \"\", \"BN\": 0, \"title\": \"\\\\uc790\\\\uc874\\\\uac10 \\\\uc218\\\\uc5c5 : \\\\ud558\\\\ub8e8\\\\uc5d0 \\\\ud558\\\\ub098, \\\\ub098\\\\ub97c \\\\uc0ac\\\\ub791\\\\ud558\\\\uac8c \\\\ub418\\\\ub294 \\\\uc790\\\\uc874\\\\uac10 \\\\ud68c\\\\ubcf5 \\\\ud6c8\\\\ub828\"}], \"sid\": 7}, {\"errorMessage\": \"Not developed...\", \"loanStatusList\": [], \"sid\": 8}, {\"errorMessage\": \"Not developed...\", \"loanStatusList\": [], \"sid\": 9}, {\"errorMessage\": \"Not developed...\", \"loanStatusList\": [], \"sid\": 10}, {\"errorMessage\": \"Not developed...\", \"loanStatusList\": [], \"sid\": 11}]'"
      ]
     },
     "execution_count": 14,
     "metadata": {},
     "output_type": "execute_result"
    }
   ],
   "source": [
    "response.text"
   ]
  },
  {
   "cell_type": "code",
   "execution_count": null,
   "metadata": {},
   "outputs": [],
   "source": []
  }
 ],
 "metadata": {
  "kernelspec": {
   "display_name": "Python 3",
   "language": "python",
   "name": "python3"
  },
  "language_info": {
   "codemirror_mode": {
    "name": "ipython",
    "version": 3
   },
   "file_extension": ".py",
   "mimetype": "text/x-python",
   "name": "python",
   "nbconvert_exporter": "python",
   "pygments_lexer": "ipython3",
   "version": "3.7.6"
  }
 },
 "nbformat": 4,
 "nbformat_minor": 4
}
