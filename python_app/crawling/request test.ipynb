{
 "cells": [
  {
   "cell_type": "code",
   "execution_count": 1,
   "metadata": {},
   "outputs": [],
   "source": [
    "from urllib.request import urlopen\n",
    "from bs4 import BeautifulSoup\n",
    "import re\n",
    "import sys, traceback\n",
    "import json\n",
    "from urllib import parse\n",
    "import requests \n",
    "#html = urlopen('https://lib.smu.ac.kr/Search/Detail/819033?key=9788988474839&campuscode=00')\n",
    "#bsObject = BeautifulSoup(html, \"html.parser\")"
   ]
  },
  {
   "cell_type": "code",
   "execution_count": 2,
   "metadata": {},
   "outputs": [],
   "source": [
    "def makeCrawlingUrlPlusSid(crawlUrl,ISBN, title, sid, searchFlag):\n",
    "    finalUrl = crawlUrl + '?isbn='+ ISBN + '&title='+ title+ '&sid=' + str(sid) + '&searchFlag=' + str(searchFlag)\n",
    "    return finalUrl"
   ]
  },
  {
   "cell_type": "code",
   "execution_count": 3,
   "metadata": {},
   "outputs": [],
   "source": [
    "def makeCrawlingUrl(crawlUrl,ISBN, title, searchFlag):\n",
    "    finalUrl = crawlUrl + '?isbn='+ ISBN + '&title='+ title + '&searchFlag=' + str(searchFlag)\n",
    "    return finalUrl"
   ]
  },
  {
   "cell_type": "code",
   "execution_count": 4,
   "metadata": {},
   "outputs": [],
   "source": [
    "#https://us-central1-my-crawling-project.cloudfunctions.net/function-1?\n",
    "\n",
    "functionT = 'https://us-central1-my-crawling-project.cloudfunctions.net/function-1'\n",
    "functionC = 'https://us-central1-my-crawling-project.cloudfunctions.net/function-crawling'\n",
    "functionR = 'https://sddh-crawler-di4on54tsa-uc.a.run.app/'"
   ]
  },
  {
   "cell_type": "code",
   "execution_count": 12,
   "metadata": {},
   "outputs": [],
   "source": [
    "KW_CODE = 0\n",
    "ISBN = '9788968481093'\n",
    "koreaTitle = '(비즈니스를 위한) 데이터 과학'\n",
    "sid = 7\n",
    "searchFlag= 2\n",
    "title = parse.quote(koreaTitle)\n",
    "#'https://us-central1-my-crawling-project.cloudfunctions.net/function-crawling?isbn=9788968481093&title=%EC%9D%B4%EC%9A%A9%ED%95%B4%EC%A3%BC%EC%85%94%EC%84%9C+%EA%B0%90%EC%82%AC%ED%95%A9%EB%8B%88%EB%8B%A4&sid=0'"
   ]
  },
  {
   "cell_type": "code",
   "execution_count": 5,
   "metadata": {},
   "outputs": [],
   "source": [
    "KW_CODE = 0\n",
    "ISBN = '9791186757093'\n",
    "koreaTitle = '자존감 수업 : 하루에 하나, 나를 사랑하게 되는 자존감 회복 훈련'\n",
    "sid = 7\n",
    "searchFlag= 1\n",
    "title = parse.quote(koreaTitle)\n"
   ]
  },
  {
   "cell_type": "code",
   "execution_count": 6,
   "metadata": {},
   "outputs": [],
   "source": [
    "\n",
    "KW_CODE = 0\n",
    "ISBN = '9788988474839'\n",
    "koreaTitle = '데이터 분석 전문가 가이드'\n",
    "sid = 7\n",
    "searchFlag= 1\n",
    "title = parse.quote(koreaTitle)"
   ]
  },
  {
   "cell_type": "code",
   "execution_count": 7,
   "metadata": {},
   "outputs": [],
   "source": [
    "url = makeCrawlingUrl(functionR, ISBN, title, searchFlag)"
   ]
  },
  {
   "cell_type": "code",
   "execution_count": 8,
   "metadata": {},
   "outputs": [
    {
     "data": {
      "text/plain": [
       "'https://sddh-crawler-di4on54tsa-uc.a.run.app/?isbn=9788988474839&title=%EB%8D%B0%EC%9D%B4%ED%84%B0%20%EB%B6%84%EC%84%9D%20%EC%A0%84%EB%AC%B8%EA%B0%80%20%EA%B0%80%EC%9D%B4%EB%93%9C&searchFlag=1'"
      ]
     },
     "execution_count": 8,
     "metadata": {},
     "output_type": "execute_result"
    }
   ],
   "source": [
    "url"
   ]
  },
  {
   "cell_type": "code",
   "execution_count": 30,
   "metadata": {},
   "outputs": [],
   "source": [
    "response = requests.get(url)"
   ]
  },
  {
   "cell_type": "code",
   "execution_count": 31,
   "metadata": {
    "scrolled": true
   },
   "outputs": [
    {
     "data": {
      "text/plain": [
       "'[{\"sid\": 0, \"loanStatusList\": [], \"errorMessage\": \"\"}, {\"sid\": 1, \"loanStatusList\": [], \"errorMessage\": \"Not developed...\"}, {\"sid\": 2, \"loanStatusList\": [], \"errorMessage\": \"Not developed...\"}, {\"sid\": 3, \"loanStatusList\": [], \"errorMessage\": \"Not developed...\"}, {\"sid\": 4, \"loanStatusList\": [], \"errorMessage\": \"Not developed...\"}, {\"sid\": 5, \"loanStatusList\": [], \"errorMessage\": \"Not developed...\"}, {\"sid\": 6, \"loanStatusList\": [], \"errorMessage\": \"Not developed...\"}, {\"sid\": 7, \"loanStatusList\": [{\"BN\": 1, \"STATE\": 0, \"RN\": \"L0113396\", \"title\": \"\\\\ub370\\\\uc774\\\\ud130 \\\\ubd84\\\\uc11d \\\\uc804\\\\ubb38\\\\uac00 \\\\uac00\\\\uc774\\\\ub4dc  = The guide for advanced data analytics professional\", \"CN\": \"005.74 \\\\ub370\\\\uc774\\\\ud55c\\\\uac1c\", \"errorMessage\": \"\", \"RDD\": \"2021-03-01\", \"POS\": \"\\\\uc81c1\\\\uc790\\\\ub8cc\\\\uc2e4(3\\\\uce35)\"}, {\"BN\": 0, \"STATE\": 1, \"RN\": \"L0112135\", \"title\": \"\\\\ub370\\\\uc774\\\\ud130 \\\\ubd84\\\\uc11d \\\\uc804\\\\ubb38\\\\uac00 \\\\uac00\\\\uc774\\\\ub4dc\", \"CN\": \"005.74 \\\\ud55c\\\\uad6d\\\\ub370\\\\uac1c  c.3\", \"errorMessage\": \"\", \"RDD\": \"\", \"POS\": \"\\\\uc81c1\\\\uc790\\\\ub8cc\\\\uc2e4(3\\\\uce35)\"}, {\"BN\": 0, \"STATE\": 1, \"RN\": \"S0480361\", \"title\": \"\\\\ub370\\\\uc774\\\\ud130 \\\\ubd84\\\\uc11d \\\\uc804\\\\ubb38\\\\uac00 \\\\uac00\\\\uc774\\\\ub4dc\", \"CN\": \"005.74 \\\\ud55c\\\\uad6d\\\\ub370\\\\uac1c\", \"errorMessage\": \"\", \"RDD\": \"\", \"POS\": \"\\\\uc81c1\\\\uc790\\\\ub8cc\\\\uc2e4(3\\\\uce35)\"}, {\"BN\": 0, \"STATE\": 0, \"RN\": \"S0484218\", \"title\": \"\\\\ub370\\\\uc774\\\\ud130 \\\\ubd84\\\\uc11d \\\\uc804\\\\ubb38\\\\uac00 \\\\uac00\\\\uc774\\\\ub4dc\", \"CN\": \"005.74 \\\\ud55c\\\\uad6d\\\\ub370\\\\uac1c  2\", \"errorMessage\": \"\", \"RDD\": \"2020-02-17\", \"POS\": \"\\\\uc81c1\\\\uc790\\\\ub8cc\\\\uc2e4(3\\\\uce35)\"}], \"errorMessage\": \"\"}, {\"sid\": 8, \"loanStatusList\": [], \"errorMessage\": \"Not developed...\"}, {\"sid\": 9, \"loanStatusList\": [], \"errorMessage\": \"Not developed...\"}, {\"sid\": 10, \"loanStatusList\": [], \"errorMessage\": \"Not developed...\"}, {\"sid\": 11, \"loanStatusList\": [], \"errorMessage\": \"Not developed...\"}]'"
      ]
     },
     "execution_count": 31,
     "metadata": {},
     "output_type": "execute_result"
    }
   ],
   "source": [
    "response.text"
   ]
  },
  {
   "cell_type": "code",
   "execution_count": null,
   "metadata": {},
   "outputs": [],
   "source": []
  }
 ],
 "metadata": {
  "kernelspec": {
   "display_name": "Python 3",
   "language": "python",
   "name": "python3"
  },
  "language_info": {
   "codemirror_mode": {
    "name": "ipython",
    "version": 3
   },
   "file_extension": ".py",
   "mimetype": "text/x-python",
   "name": "python",
   "nbconvert_exporter": "python",
   "pygments_lexer": "ipython3",
   "version": "3.7.6"
  }
 },
 "nbformat": 4,
 "nbformat_minor": 4
}
