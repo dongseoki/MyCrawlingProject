{
 "cells": [
  {
   "cell_type": "code",
   "execution_count": 31,
   "metadata": {},
   "outputs": [],
   "source": [
    "from urllib.request import urlopen\n",
    "from bs4 import BeautifulSoup\n",
    "import re\n",
    "import sys, traceback\n",
    "import json\n",
    "from urllib import parse\n",
    "import requests \n",
    "#html = urlopen('https://lib.smu.ac.kr/Search/Detail/819033?key=9788988474839&campuscode=00')\n",
    "#bsObject = BeautifulSoup(html, \"html.parser\")"
   ]
  },
  {
   "cell_type": "code",
   "execution_count": 32,
   "metadata": {},
   "outputs": [],
   "source": [
    "def makeCrawlingUrl(crawlUrl,ISBN, title, sid, searchFlag):\n",
    "    finalUrl = crawlUrl + '?isbn='+ ISBN + '&title='+ title + '&sid=' + str(sid) + '&searchFlag=' + str(searchFlag)\n",
    "    return finalUrl"
   ]
  },
  {
   "cell_type": "code",
   "execution_count": 33,
   "metadata": {},
   "outputs": [],
   "source": [
    "#https://us-central1-my-crawling-project.cloudfunctions.net/function-1?\n",
    "\n",
    "funtionT = 'https://us-central1-my-crawling-project.cloudfunctions.net/function-1'\n",
    "funtionC = 'https://us-central1-my-crawling-project.cloudfunctions.net/function-crawling'"
   ]
  },
  {
   "cell_type": "code",
   "execution_count": 39,
   "metadata": {},
   "outputs": [],
   "source": [
    "KW_CODE = 0\n",
    "ISBN = '9788968481093'\n",
    "koreaTitle = '(비즈니스를 위한) 데이터 과학'\n",
    "sid = 7\n",
    "searchFlag= 1\n",
    "title = parse.quote(koreaTitle)\n",
    "#'https://us-central1-my-crawling-project.cloudfunctions.net/function-crawling?isbn=9788968481093&title=%EC%9D%B4%EC%9A%A9%ED%95%B4%EC%A3%BC%EC%85%94%EC%84%9C+%EA%B0%90%EC%82%AC%ED%95%A9%EB%8B%88%EB%8B%A4&sid=0'"
   ]
  },
  {
   "cell_type": "code",
   "execution_count": 40,
   "metadata": {},
   "outputs": [],
   "source": [
    "url = makeCrawlingUrl(funtionC, ISBN, title, sid, searchFlag)"
   ]
  },
  {
   "cell_type": "code",
   "execution_count": 41,
   "metadata": {},
   "outputs": [
    {
     "data": {
      "text/plain": [
       "'https://us-central1-my-crawling-project.cloudfunctions.net/function-crawling?isbn=9788968481093&title=%28%EB%B9%84%EC%A6%88%EB%8B%88%EC%8A%A4%EB%A5%BC%20%EC%9C%84%ED%95%9C%29%20%EB%8D%B0%EC%9D%B4%ED%84%B0%20%EA%B3%BC%ED%95%99&sid=7&searchFlag=1'"
      ]
     },
     "execution_count": 41,
     "metadata": {},
     "output_type": "execute_result"
    }
   ],
   "source": [
    "url"
   ]
  },
  {
   "cell_type": "code",
   "execution_count": 42,
   "metadata": {},
   "outputs": [],
   "source": [
    "response = requests.get(url)"
   ]
  },
  {
   "cell_type": "code",
   "execution_count": 43,
   "metadata": {
    "scrolled": true
   },
   "outputs": [
    {
     "data": {
      "text/plain": [
       "'{\"sid\": 7, \"loanStatusList\": [{\"title\": \"(\\\\ube44\\\\uc988\\\\ub2c8\\\\uc2a4\\\\ub97c \\\\uc704\\\\ud55c) \\\\ub370\\\\uc774\\\\ud130 \\\\uacfc\\\\ud559 : \\\\ube45\\\\ub370\\\\uc774\\\\ud130\\\\ub97c \\\\ubc14\\\\ub77c\\\\ubcf4\\\\ub294 \\\\ub370\\\\uc774\\\\ud130 \\\\ub9c8\\\\uc774\\\\ub2dd\\\\uacfc \\\\ubd84\\\\uc11d\\\\uc801 \\\\uc0ac\\\\uace0\", \"RN\": \"L0102700\", \"CN\": \"005.74 P969d \\\\ub370-\\\\uac15\", \"POS\": \"\\\\uc81c1\\\\uc790\\\\ub8cc\\\\uc2e4(3\\\\uce35)\", \"STATE\": 0, \"RDD\": \"2020-08-31\", \"BN\": 0, \"errorMessage\": \"\"}, {\"title\": \"(\\\\ube44\\\\uc988\\\\ub2c8\\\\uc2a4\\\\ub97c \\\\uc704\\\\ud55c) \\\\ub370\\\\uc774\\\\ud130 \\\\uacfc\\\\ud559 : \\\\ube45\\\\ub370\\\\uc774\\\\ud130\\\\ub97c \\\\ubc14\\\\ub77c\\\\ubcf4\\\\ub294 \\\\ub370\\\\uc774\\\\ud130 \\\\ub9c8\\\\uc774\\\\ub2dd\\\\uacfc \\\\ubd84\\\\uc11d\\\\uc801 \\\\uc0ac\\\\uace0\", \"RN\": \"S0465980\", \"CN\": \"005.74 P969d \\\\ub370-\\\\uac15  2\", \"POS\": \"\\\\uc81c1\\\\uc790\\\\ub8cc\\\\uc2e4(3\\\\uce35)\", \"STATE\": 1, \"RDD\": \"\", \"BN\": 0, \"errorMessage\": \"\"}, {\"title\": \"(\\\\ube44\\\\uc988\\\\ub2c8\\\\uc2a4\\\\ub97c \\\\uc704\\\\ud55c) \\\\ub370\\\\uc774\\\\ud130 \\\\uacfc\\\\ud559 : \\\\ube45\\\\ub370\\\\uc774\\\\ud130\\\\ub97c \\\\ubc14\\\\ub77c\\\\ubcf4\\\\ub294 \\\\ub370\\\\uc774\\\\ud130 \\\\ub9c8\\\\uc774\\\\ub2dd\\\\uacfc \\\\ubd84\\\\uc11d\\\\uc801 \\\\uc0ac\\\\uace0\", \"RN\": \"S0465981\", \"CN\": \"005.74 P969d \\\\ub370-\\\\uac15  3\", \"POS\": \"\\\\uc81c1\\\\uc790\\\\ub8cc\\\\uc2e4(3\\\\uce35)\", \"STATE\": 0, \"RDD\": \"2020-03-20\", \"BN\": 0, \"errorMessage\": \"\"}, {\"title\": \"(\\\\ube44\\\\uc988\\\\ub2c8\\\\uc2a4\\\\ub97c \\\\uc704\\\\ud55c) \\\\ub370\\\\uc774\\\\ud130 \\\\uacfc\\\\ud559 : \\\\ube45\\\\ub370\\\\uc774\\\\ud130\\\\ub97c \\\\ubc14\\\\ub77c\\\\ubcf4\\\\ub294 \\\\ub370\\\\uc774\\\\ud130 \\\\ub9c8\\\\uc774\\\\ub2dd\\\\uacfc \\\\ubd84\\\\uc11d\\\\uc801 \\\\uc0ac\\\\uace0\", \"RN\": \"S0467613\", \"CN\": \"005.74 P969d \\\\ub370-\\\\uac15  4\", \"POS\": \"\\\\uc81c1\\\\uc790\\\\ub8cc\\\\uc2e4(3\\\\uce35)\", \"STATE\": 0, \"RDD\": \"2018-02-28\", \"BN\": 0, \"errorMessage\": \"\"}], \"errorMessage\": \"\"}'"
      ]
     },
     "execution_count": 43,
     "metadata": {},
     "output_type": "execute_result"
    }
   ],
   "source": [
    "response.text"
   ]
  },
  {
   "cell_type": "code",
   "execution_count": null,
   "metadata": {},
   "outputs": [],
   "source": []
  }
 ],
 "metadata": {
  "kernelspec": {
   "display_name": "Python 3",
   "language": "python",
   "name": "python3"
  },
  "language_info": {
   "codemirror_mode": {
    "name": "ipython",
    "version": 3
   },
   "file_extension": ".py",
   "mimetype": "text/x-python",
   "name": "python",
   "nbconvert_exporter": "python",
   "pygments_lexer": "ipython3",
   "version": "3.7.6"
  }
 },
 "nbformat": 4,
 "nbformat_minor": 4
}
