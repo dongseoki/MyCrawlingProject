{
 "cells": [
  {
   "cell_type": "markdown",
   "metadata": {},
   "source": [
    "## 크롤링 하기 위한 함수 정의 및 임포트"
   ]
  },
  {
   "cell_type": "code",
   "execution_count": 13,
   "metadata": {
    "ExecuteTime": {
     "end_time": "2020-05-22T09:26:48.433628Z",
     "start_time": "2020-05-22T09:26:48.426644Z"
    }
   },
   "outputs": [],
   "source": [
    "from urllib.request import urlopen\n",
    "from bs4 import BeautifulSoup\n",
    "import re\n",
    "import sys, traceback\n",
    "import json\n",
    "import threading\n",
    "import time\n",
    "from urllib import parse\n",
    "import requests \n",
    "#html = urlopen('https://lib.smu.ac.kr/Search/Detail/819033?key=9788988474839&campuscode=00')\n",
    "#bsObject = BeautifulSoup(html, \"html.parser\")"
   ]
  },
  {
   "cell_type": "code",
   "execution_count": 2,
   "metadata": {
    "ExecuteTime": {
     "end_time": "2020-05-22T09:12:08.309454Z",
     "start_time": "2020-05-22T09:12:08.302474Z"
    }
   },
   "outputs": [],
   "source": [
    "def makeCrawlingUrlPlusSid(crawlUrl,ISBN, title, sid, searchFlag):\n",
    "    finalUrl = crawlUrl + '?isbn='+ ISBN + '&title='+ title+ '&sid=' + str(sid) + '&searchFlag=' + str(searchFlag)\n",
    "    return finalUrl"
   ]
  },
  {
   "cell_type": "code",
   "execution_count": 3,
   "metadata": {
    "ExecuteTime": {
     "end_time": "2020-05-22T09:12:08.340370Z",
     "start_time": "2020-05-22T09:12:08.332397Z"
    }
   },
   "outputs": [],
   "source": [
    "def makeCrawlingUrl(crawlUrl,ISBN, title, sid = None):\n",
    "    if sid != None :\n",
    "        finalUrl = crawlUrl + '?isbn='+ ISBN + '&title='+ title+ '&sid=' + str(sid)\n",
    "    else:\n",
    "        finalUrl = crawlUrl + '?isbn='+ ISBN + '&title='+ title\n",
    "    return finalUrl"
   ]
  },
  {
   "cell_type": "code",
   "execution_count": 4,
   "metadata": {
    "ExecuteTime": {
     "end_time": "2020-05-22T09:12:09.580057Z",
     "start_time": "2020-05-22T09:12:09.575071Z"
    }
   },
   "outputs": [],
   "source": [
    "#https://us-central1-my-crawling-project.cloudfunctions.net/function-1?\n",
    "\n",
    "functionT = 'https://us-central1-my-crawling-project.cloudfunctions.net/function-1'\n",
    "functionC = 'https://us-central1-my-crawling-project.cloudfunctions.net/function-crawling'\n",
    "functionR = 'https://sddh-crawler-di4on54tsa-uc.a.run.app/'"
   ]
  },
  {
   "cell_type": "markdown",
   "metadata": {},
   "source": [
    "## 구체적인 책 예시"
   ]
  },
  {
   "cell_type": "code",
   "execution_count": 5,
   "metadata": {
    "ExecuteTime": {
     "end_time": "2020-05-22T09:12:11.907835Z",
     "start_time": "2020-05-22T09:12:11.902845Z"
    }
   },
   "outputs": [],
   "source": [
    "ISBN = '9788996094050'\n",
    "koreaTitle = '윤성우의 열혈 C 프로그래밍'\n",
    "title = parse.quote(koreaTitle)\n",
    "# case4.  3개 도서관 검색 테스트\n",
    "#https://kupis.kw.ac.kr/search/detail/CATTOT000000317224?mainLink=/search/tot&briefLink=/search/tot/result?commandType=advanced_A_lmtsn=000000000001_A_lmtsn=000000000003_A_cpp=10_A_range=000000000021_A__inc=on_A__inc=on_A__inc=on_A__inc=on_A__inc=on_A__inc=on_A_lmt0=TOTAL_A_lmt1=TOTAL_A_rf=_A__lmt0=on_A__lmt0=on_A__lmt0=on_A__lmt0=on_A__lmt0=on_A__lmt0=on_A__lmt0=on_A_si=1_A_si=2_A_si=3_A_weight2=_A_weight0=_A_weight1=_A_inc=TOTAL_A_q=%EC%9C%A4%EC%84%B1%EC%9A%B0%EC%9D%98+%EC%97%B4%ED%98%88+C+%ED%94%84%EB%A1%9C%EA%B7%B8%EB%9E%98%EB%B0%8D_A_q=_A_q=_A_b0=and_A_b1=and_A_lmtst=OR_A_lmtst=OR_A_rt=_A_st=KWRD_A_msc=500\n",
    "#https://lib.kookmin.ac.kr/#/search/ex?isbn=1%7Cl%7Ca%7C9788996094050&branch=1&material-type=1\n",
    "#http://lib.smu.ac.kr/Search/?q=9788996094050&searchTruncate=true&campuscode=00"
   ]
  },
  {
   "cell_type": "code",
   "execution_count": 5,
   "metadata": {
    "ExecuteTime": {
     "end_time": "2020-05-16T11:39:42.124466Z",
     "start_time": "2020-05-16T11:39:42.119481Z"
    }
   },
   "outputs": [],
   "source": [
    "ISBN = '9791165075064'\n",
    "koreaTitle = '녹나무의 파수꾼'\n",
    "title = parse.quote(koreaTitle)"
   ]
  },
  {
   "cell_type": "code",
   "execution_count": 5,
   "metadata": {},
   "outputs": [],
   "source": [
    "KW_CODE = 0\n",
    "ISBN = '9788968481093'\n",
    "koreaTitle = '(비즈니스를 위한) 데이터 과학'\n",
    "sid = 7\n",
    "searchFlag= 2\n",
    "title = parse.quote(koreaTitle)\n",
    "#'https://us-central1-my-crawling-project.cloudfunctions.net/function-crawling?isbn=9788968481093&title=%EC%9D%B4%EC%9A%A9%ED%95%B4%EC%A3%BC%EC%85%94%EC%84%9C+%EA%B0%90%EC%82%AC%ED%95%A9%EB%8B%88%EB%8B%A4&sid=0'"
   ]
  },
  {
   "cell_type": "code",
   "execution_count": 10,
   "metadata": {},
   "outputs": [],
   "source": [
    "KW_CODE = 0\n",
    "ISBN = '9791186757093'\n",
    "koreaTitle = '자존감 수업 : 하루에 하나, 나를 사랑하게 되는 자존감 회복 훈련'\n",
    "sid = 7\n",
    "searchFlag= 1\n",
    "title = parse.quote(koreaTitle)\n"
   ]
  },
  {
   "cell_type": "code",
   "execution_count": 17,
   "metadata": {
    "ExecuteTime": {
     "end_time": "2020-05-17T10:37:30.852208Z",
     "start_time": "2020-05-17T10:37:30.847327Z"
    }
   },
   "outputs": [],
   "source": [
    "KW_CODE = 0\n",
    "ISBN = '9791165340841'\n",
    "koreaTitle = '무례한 시대를 품위 있게 건너는 법'\n",
    "title = parse.quote(koreaTitle)\n"
   ]
  },
  {
   "cell_type": "code",
   "execution_count": 6,
   "metadata": {},
   "outputs": [],
   "source": [
    "\n",
    "KW_CODE = 0\n",
    "ISBN = '9788988474839'\n",
    "koreaTitle = '데이터 분석 전문가 가이드'\n",
    "sid = 7\n",
    "searchFlag= 1\n",
    "title = parse.quote(koreaTitle)"
   ]
  },
  {
   "cell_type": "markdown",
   "metadata": {},
   "source": [
    "## 실행해서 결과 보기"
   ]
  },
  {
   "cell_type": "markdown",
   "metadata": {},
   "source": [
    "### 한번 호출 크롤링하기"
   ]
  },
  {
   "cell_type": "code",
   "execution_count": 6,
   "metadata": {
    "ExecuteTime": {
     "end_time": "2020-05-22T09:16:29.346607Z",
     "start_time": "2020-05-22T09:16:29.341618Z"
    }
   },
   "outputs": [],
   "source": [
    "#url = makeCrawlingUrl(functionR, ISBN, title)\n",
    "url = makeCrawlingUrl(functionR, ISBN, title, 3)"
   ]
  },
  {
   "cell_type": "code",
   "execution_count": 7,
   "metadata": {
    "ExecuteTime": {
     "end_time": "2020-05-22T09:16:30.455640Z",
     "start_time": "2020-05-22T09:16:30.438684Z"
    }
   },
   "outputs": [
    {
     "data": {
      "text/plain": [
       "'https://sddh-crawler-di4on54tsa-uc.a.run.app/?isbn=9788996094050&title=%EC%9C%A4%EC%84%B1%EC%9A%B0%EC%9D%98%20%EC%97%B4%ED%98%88%20C%20%ED%94%84%EB%A1%9C%EA%B7%B8%EB%9E%98%EB%B0%8D&sid=3'"
      ]
     },
     "execution_count": 7,
     "metadata": {},
     "output_type": "execute_result"
    }
   ],
   "source": [
    "url"
   ]
  },
  {
   "cell_type": "code",
   "execution_count": 8,
   "metadata": {
    "ExecuteTime": {
     "end_time": "2020-05-22T09:16:57.668483Z",
     "start_time": "2020-05-22T09:16:31.431030Z"
    }
   },
   "outputs": [],
   "source": [
    "response = requests.get(url)"
   ]
  },
  {
   "cell_type": "code",
   "execution_count": 9,
   "metadata": {
    "ExecuteTime": {
     "end_time": "2020-05-22T09:16:57.712366Z",
     "start_time": "2020-05-22T09:16:57.705385Z"
    },
    "scrolled": true
   },
   "outputs": [
    {
     "data": {
      "text/plain": [
       "'{\"errorMessage\": \"\", \"sid\": 3, \"loanStatusList\": [{\"errorMessage\": \"\", \"STATE\": 1, \"RN\": \"E0498618\", \"BN\": 0, \"title\": \"(\\\\uc724\\\\uc131\\\\uc6b0\\\\uc758)\\\\uc5f4\\\\ud608 C \\\\ud504\\\\ub85c\\\\uadf8\\\\ub798\\\\ubc0d\", \"RDD\": \"\", \"POS\": \"1\\\\uce35 \\\\uc77c\\\\ubc18\\\\ub3c4\\\\uc11c\\\\uc2e4\", \"CN\": \"005.133 C111\\\\uc730 2010\"}, {\"errorMessage\": \"\", \"STATE\": 1, \"RN\": \"E0539024\", \"BN\": 0, \"title\": \"(\\\\uc724\\\\uc131\\\\uc6b0\\\\uc758)\\\\uc5f4\\\\ud608 C \\\\ud504\\\\ub85c\\\\uadf8\\\\ub798\\\\ubc0d\", \"RDD\": \"\", \"POS\": \"1\\\\uce35 \\\\uc77c\\\\ubc18\\\\ub3c4\\\\uc11c\\\\uc2e4\", \"CN\": \"005.133 C111\\\\uc730 2010 =2\"}, {\"errorMessage\": \"\", \"STATE\": 1, \"RN\": \"E0540079\", \"BN\": 0, \"title\": \"(\\\\uc724\\\\uc131\\\\uc6b0\\\\uc758)\\\\uc5f4\\\\ud608 C \\\\ud504\\\\ub85c\\\\uadf8\\\\ub798\\\\ubc0d\", \"RDD\": \"\", \"POS\": \"1\\\\uce35 \\\\uc77c\\\\ubc18\\\\ub3c4\\\\uc11c\\\\uc2e4\", \"CN\": \"005.133 C111\\\\uc730 2010 =3\"}, {\"errorMessage\": \"\", \"STATE\": 1, \"RN\": \"E0541225\", \"BN\": 0, \"title\": \"(\\\\uc724\\\\uc131\\\\uc6b0\\\\uc758)\\\\uc5f4\\\\ud608 C \\\\ud504\\\\ub85c\\\\uadf8\\\\ub798\\\\ubc0d\", \"RDD\": \"\", \"POS\": \"1\\\\uce35 \\\\uc77c\\\\ubc18\\\\ub3c4\\\\uc11c\\\\uc2e4\", \"CN\": \"005.133 C111\\\\uc730 2010 =4\"}]}'"
      ]
     },
     "execution_count": 9,
     "metadata": {},
     "output_type": "execute_result"
    }
   ],
   "source": [
    "response.text"
   ]
  },
  {
   "cell_type": "code",
   "execution_count": 10,
   "metadata": {
    "ExecuteTime": {
     "end_time": "2020-05-22T09:19:17.931040Z",
     "start_time": "2020-05-22T09:19:17.923065Z"
    }
   },
   "outputs": [
    {
     "data": {
      "text/plain": [
       "{'errorMessage': '',\n",
       " 'sid': 3,\n",
       " 'loanStatusList': [{'errorMessage': '',\n",
       "   'STATE': 1,\n",
       "   'RN': 'E0498618',\n",
       "   'BN': 0,\n",
       "   'title': '(윤성우의)열혈 C 프로그래밍',\n",
       "   'RDD': '',\n",
       "   'POS': '1층 일반도서실',\n",
       "   'CN': '005.133 C111윰 2010'},\n",
       "  {'errorMessage': '',\n",
       "   'STATE': 1,\n",
       "   'RN': 'E0539024',\n",
       "   'BN': 0,\n",
       "   'title': '(윤성우의)열혈 C 프로그래밍',\n",
       "   'RDD': '',\n",
       "   'POS': '1층 일반도서실',\n",
       "   'CN': '005.133 C111윰 2010 =2'},\n",
       "  {'errorMessage': '',\n",
       "   'STATE': 1,\n",
       "   'RN': 'E0540079',\n",
       "   'BN': 0,\n",
       "   'title': '(윤성우의)열혈 C 프로그래밍',\n",
       "   'RDD': '',\n",
       "   'POS': '1층 일반도서실',\n",
       "   'CN': '005.133 C111윰 2010 =3'},\n",
       "  {'errorMessage': '',\n",
       "   'STATE': 1,\n",
       "   'RN': 'E0541225',\n",
       "   'BN': 0,\n",
       "   'title': '(윤성우의)열혈 C 프로그래밍',\n",
       "   'RDD': '',\n",
       "   'POS': '1층 일반도서실',\n",
       "   'CN': '005.133 C111윰 2010 =4'}]}"
      ]
     },
     "execution_count": 10,
     "metadata": {},
     "output_type": "execute_result"
    }
   ],
   "source": [
    "data2 = json.loads(str(response.text))\n",
    "data2"
   ]
  },
  {
   "cell_type": "markdown",
   "metadata": {},
   "source": [
    "### 학교마다 한번씩 호출하기"
   ]
  },
  {
   "cell_type": "code",
   "execution_count": 15,
   "metadata": {
    "ExecuteTime": {
     "end_time": "2020-05-22T09:27:34.316698Z",
     "start_time": "2020-05-22T09:27:34.309718Z"
    }
   },
   "outputs": [],
   "source": [
    "def crawlingRequestsByUniv(ISBN, title, sid, resultList):\n",
    "    start = time.time()\n",
    "    url = makeCrawlingUrl(functionR, ISBN, title, sid)\n",
    "    response = requests.get(url)\n",
    "    resultList[sid] = json.loads(str(response.text))\n",
    "    print(sid, '대학의 크롤링 시간은 ', time.time() - start, ' 입니다.')"
   ]
  },
  {
   "cell_type": "code",
   "execution_count": 16,
   "metadata": {
    "ExecuteTime": {
     "end_time": "2020-05-22T09:28:11.987283Z",
     "start_time": "2020-05-22T09:27:35.117558Z"
    }
   },
   "outputs": [
    {
     "name": "stdout",
     "output_type": "stream",
     "text": [
      "8 대학의 크롤링 시간은  0.5136222839355469  입니다.\n",
      "6 대학의 크롤링 시간은  0.5295770168304443  입니다.\n",
      "10 대학의 크롤링 시간은  0.5455377101898193  입니다.\n",
      "9 대학의 크롤링 시간은  0.5724349021911621  입니다.\n",
      "11 대학의 크롤링 시간은  0.5724682807922363  입니다.\n",
      "0 대학의 크롤링 시간은  2.533222198486328  입니다.\n",
      "7 대학의 크롤링 시간은  5.6990814208984375  입니다.\n",
      "1 대학의 크롤링 시간은  16.908101558685303  입니다.\n",
      "3 대학의 크롤링 시간은  17.89250421524048  입니다.\n",
      "5 대학의 크롤링 시간은  19.44536852836609  입니다.\n",
      "2 대학의 크롤링 시간은  22.199953079223633  입니다.\n",
      "4 대학의 크롤링 시간은  36.836846590042114  입니다.\n"
     ]
    }
   ],
   "source": [
    "resultList = [i for i in range(12)]\n",
    "threads = []\n",
    "for i in range(12):\n",
    "   t = threading.Thread(target=crawlingRequestsByUniv, args=(ISBN, title, i, resultList))\n",
    "   threads.append(t)\n",
    "\n",
    "for t in threads:\n",
    "   t.start()\n",
    "for t in threads:\n",
    "   t.join()\n",
    "#jsonString =  json.dumps(resultList)"
   ]
  },
  {
   "cell_type": "code",
   "execution_count": null,
   "metadata": {},
   "outputs": [],
   "source": [
    "for i in range(12)"
   ]
  }
 ],
 "metadata": {
  "hide_input": false,
  "kernelspec": {
   "display_name": "Python 3",
   "language": "python",
   "name": "python3"
  },
  "language_info": {
   "codemirror_mode": {
    "name": "ipython",
    "version": 3
   },
   "file_extension": ".py",
   "mimetype": "text/x-python",
   "name": "python",
   "nbconvert_exporter": "python",
   "pygments_lexer": "ipython3",
   "version": "3.7.6"
  },
  "toc": {
   "base_numbering": 1,
   "nav_menu": {},
   "number_sections": true,
   "sideBar": true,
   "skip_h1_title": false,
   "title_cell": "Table of Contents",
   "title_sidebar": "Contents",
   "toc_cell": false,
   "toc_position": {},
   "toc_section_display": true,
   "toc_window_display": true
  },
  "varInspector": {
   "cols": {
    "lenName": 16,
    "lenType": 16,
    "lenVar": 40
   },
   "kernels_config": {
    "python": {
     "delete_cmd_postfix": "",
     "delete_cmd_prefix": "del ",
     "library": "var_list.py",
     "varRefreshCmd": "print(var_dic_list())"
    },
    "r": {
     "delete_cmd_postfix": ") ",
     "delete_cmd_prefix": "rm(",
     "library": "var_list.r",
     "varRefreshCmd": "cat(var_dic_list()) "
    }
   },
   "types_to_exclude": [
    "module",
    "function",
    "builtin_function_or_method",
    "instance",
    "_Feature"
   ],
   "window_display": false
  }
 },
 "nbformat": 4,
 "nbformat_minor": 4
}
