{
 "cells": [
  {
   "cell_type": "code",
   "execution_count": 8,
   "metadata": {},
   "outputs": [],
   "source": [
    "from urllib.request import urlopen\n",
    "from bs4 import BeautifulSoup\n",
    "import re\n",
    "import sys, traceback\n",
    "import json\n",
    "import requests \n",
    "#html = urlopen('https://lib.smu.ac.kr/Search/Detail/819033?key=9788988474839&campuscode=00')\n",
    "#bsObject = BeautifulSoup(html, \"html.parser\")"
   ]
  },
  {
   "cell_type": "code",
   "execution_count": 28,
   "metadata": {},
   "outputs": [],
   "source": [
    "\n",
    "url = 'https://us-central1-my-crawling-project.cloudfunctions.net/function-crawling?isbn=9788968481093&title=%EC%9D%B4%EC%9A%A9%ED%95%B4%EC%A3%BC%EC%85%94%EC%84%9C+%EA%B0%90%EC%82%AC%ED%95%A9%EB%8B%88%EB%8B%A4&sid=0'"
   ]
  },
  {
   "cell_type": "code",
   "execution_count": 20,
   "metadata": {},
   "outputs": [],
   "source": [
    "html = urlopen(url)"
   ]
  },
  {
   "cell_type": "code",
   "execution_count": 21,
   "metadata": {},
   "outputs": [
    {
     "data": {
      "text/plain": [
       "200"
      ]
     },
     "execution_count": 21,
     "metadata": {},
     "output_type": "execute_result"
    }
   ],
   "source": [
    "html.status"
   ]
  },
  {
   "cell_type": "code",
   "execution_count": 22,
   "metadata": {},
   "outputs": [
    {
     "data": {
      "text/plain": [
       "<http.client.HTTPResponse at 0x18045a9c9c8>"
      ]
     },
     "execution_count": 22,
     "metadata": {},
     "output_type": "execute_result"
    }
   ],
   "source": [
    "html"
   ]
  },
  {
   "cell_type": "code",
   "execution_count": 23,
   "metadata": {
    "scrolled": true
   },
   "outputs": [
    {
     "ename": "AttributeError",
     "evalue": "'HTTPResponse' object has no attribute 'text'",
     "output_type": "error",
     "traceback": [
      "\u001b[1;31m---------------------------------------------------------------------------\u001b[0m",
      "\u001b[1;31mAttributeError\u001b[0m                            Traceback (most recent call last)",
      "\u001b[1;32m<ipython-input-23-03043447664a>\u001b[0m in \u001b[0;36m<module>\u001b[1;34m\u001b[0m\n\u001b[1;32m----> 1\u001b[1;33m \u001b[0mhtml\u001b[0m\u001b[1;33m.\u001b[0m\u001b[0mtext\u001b[0m\u001b[1;33m\u001b[0m\u001b[1;33m\u001b[0m\u001b[0m\n\u001b[0m",
      "\u001b[1;31mAttributeError\u001b[0m: 'HTTPResponse' object has no attribute 'text'"
     ]
    }
   ],
   "source": [
    "html.text"
   ]
  },
  {
   "cell_type": "code",
   "execution_count": 24,
   "metadata": {},
   "outputs": [],
   "source": [
    "url = '%EC%9D%B4%EC%9A%A9%ED%95%B4%EC%A3%BC%EC%85%94%EC%84%9C+%EA%B0%90%EC%82%AC%ED%95%A9%EB%8B%88%EB%8B%A4'"
   ]
  },
  {
   "cell_type": "code",
   "execution_count": 29,
   "metadata": {},
   "outputs": [],
   "source": [
    "response = requests.get(url)"
   ]
  },
  {
   "cell_type": "code",
   "execution_count": 30,
   "metadata": {},
   "outputs": [
    {
     "data": {
      "text/plain": [
       "'{\"sid\": 0, \"loanStatusList\": [], \"errorMessage\": \"Traceback (most recent call last):\\\\n  File \\\\\"/user_code/main.py\\\\\", line 322, in crawling\\\\n    html = urlopen(searchUrl)\\\\n  File \\\\\"/opt/python3.7/lib/python3.7/urllib/request.py\\\\\", line 222, in urlopen\\\\n    return opener.open(url, data, timeout)\\\\n  File \\\\\"/opt/python3.7/lib/python3.7/urllib/request.py\\\\\", line 525, in open\\\\n    response = self._open(req, data)\\\\n  File \\\\\"/opt/python3.7/lib/python3.7/urllib/request.py\\\\\", line 543, in _open\\\\n    \\'_open\\', req)\\\\n  File \\\\\"/opt/python3.7/lib/python3.7/urllib/request.py\\\\\", line 503, in _call_chain\\\\n    result = func(*args)\\\\n  File \\\\\"/opt/python3.7/lib/python3.7/urllib/request.py\\\\\", line 1347, in http_open\\\\n    return self.do_open(http.client.HTTPConnection, req)\\\\n  File \\\\\"/opt/python3.7/lib/python3.7/urllib/request.py\\\\\", line 1319, in do_open\\\\n    encode_chunked=req.has_header(\\'Transfer-encoding\\'))\\\\n  File \\\\\"/opt/python3.7/lib/python3.7/http/client.py\\\\\", line 1252, in request\\\\n    self._send_request(method, url, body, headers, encode_chunked)\\\\n  File \\\\\"/opt/python3.7/lib/python3.7/http/client.py\\\\\", line 1263, in _send_request\\\\n    self.putrequest(method, url, **skips)\\\\n  File \\\\\"/opt/python3.7/lib/python3.7/http/client.py\\\\\", line 1114, in putrequest\\\\n    self._validate_path(url)\\\\n  File \\\\\"/opt/python3.7/lib/python3.7/http/client.py\\\\\", line 1205, in _validate_path\\\\n    raise InvalidURL(f\\\\\"URL can\\'t contain control characters. {url!r} \\\\\"\\\\nhttp.client.InvalidURL: URL can\\'t contain control characters. \\'/search/caz/result?st=KWRD&commandType=advanced&si=1&q=\\\\uc774\\\\uc6a9\\\\ud574\\\\uc8fc\\\\uc154\\\\uc11c \\\\uac10\\\\uc0ac\\\\ud569\\\\ub2c8\\\\ub2e4&b0=and&weight0=&si=2&q=&b1=and&weight1=&si=3&q=&weight2=&inc=TOTAL&_inc=on&_inc=on&_inc=on&_inc=on&_inc=on&_inc=on&lmt0=TOTAL&lmtsn=000000000003&lmtst=OR&rf=&rt=&range=000000000021&cpp=10&msc=100\\' (found at least \\' \\')\\\\n\"}'"
      ]
     },
     "execution_count": 30,
     "metadata": {},
     "output_type": "execute_result"
    }
   ],
   "source": [
    "response.text"
   ]
  },
  {
   "cell_type": "code",
   "execution_count": null,
   "metadata": {},
   "outputs": [],
   "source": [
    "데이터 분석 전문가 가이드"
   ]
  }
 ],
 "metadata": {
  "kernelspec": {
   "display_name": "Python 3",
   "language": "python",
   "name": "python3"
  },
  "language_info": {
   "codemirror_mode": {
    "name": "ipython",
    "version": 3
   },
   "file_extension": ".py",
   "mimetype": "text/x-python",
   "name": "python",
   "nbconvert_exporter": "python",
   "pygments_lexer": "ipython3",
   "version": "3.7.6"
  }
 },
 "nbformat": 4,
 "nbformat_minor": 4
}
