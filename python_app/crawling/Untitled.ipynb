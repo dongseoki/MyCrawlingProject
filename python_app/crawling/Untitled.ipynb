{
 "cells": [
  {
   "cell_type": "code",
   "execution_count": 1,
   "metadata": {
    "ExecuteTime": {
     "end_time": "2020-05-17T10:16:39.427484Z",
     "start_time": "2020-05-17T10:16:39.336719Z"
    }
   },
   "outputs": [],
   "source": [
    "dict1 = {'sid': 5, 'loanStatusList': [{'title': '(윤성우의)열혈 C 프로그래밍', 'RN': '7001224521', 'CN': '005.133 윤54열', 'POS': '4층인문과학자료실', 'STATE': 1, 'RDD': '', 'BN': 0, 'errorMessage': ''}, {'title': '(윤성우의)열혈 C 프로그래밍', 'RN': '7001224520', 'CN': '005.133 윤54열', 'POS': '4층인문과학자료실', 'STATE': 1, 'RDD': '', 'BN': 0, 'errorMessage': ''}, {'title': '(윤성우의)열혈 C 프로그래밍', 'RN': '3000581314', 'CN': '005.133 윤54열', 'POS': '3층인문예술단행본', 'STATE': 1, 'RDD': '', 'BN': 0, 'errorMessage': ''}, {'title': '(윤성우의)열혈 C 프로그래밍', 'RN': '3000579167', 'CN': '005.133 윤54열', 'POS': '3층인문예술단행본', 'STATE': 1, 'RDD': '', 'BN': 0, 'errorMessage': ''}, {'title': '(윤성우의)열혈 C 프로그래밍', 'RN': '3000579166', 'CN': '005.133 윤54열', 'POS': '3층인문예술단행본', 'STATE': 1, 'RDD': '', 'BN': 0, 'errorMessage': ''}, {'title': '(윤성우의)열혈 C 프로그래밍', 'RN': '3000579165', 'CN': '005.133 윤54열', 'POS': '3층인문예술단행본', 'STATE': 1, 'RDD': '', 'BN': 0, 'errorMessage': ''}], 'errorMessage': ''}"
   ]
  },
  {
   "cell_type": "code",
   "execution_count": 6,
   "metadata": {
    "ExecuteTime": {
     "end_time": "2020-05-17T10:17:17.376271Z",
     "start_time": "2020-05-17T10:17:17.367488Z"
    }
   },
   "outputs": [
    {
     "data": {
      "text/plain": [
       "'6'"
      ]
     },
     "execution_count": 6,
     "metadata": {},
     "output_type": "execute_result"
    }
   ],
   "source": [
    "str(len(dict1['loanStatusList']))"
   ]
  },
  {
   "cell_type": "code",
   "execution_count": null,
   "metadata": {},
   "outputs": [],
   "source": []
  }
 ],
 "metadata": {
  "hide_input": false,
  "kernelspec": {
   "display_name": "Python 3",
   "language": "python",
   "name": "python3"
  },
  "language_info": {
   "codemirror_mode": {
    "name": "ipython",
    "version": 3
   },
   "file_extension": ".py",
   "mimetype": "text/x-python",
   "name": "python",
   "nbconvert_exporter": "python",
   "pygments_lexer": "ipython3",
   "version": "3.7.6"
  },
  "toc": {
   "base_numbering": 1,
   "nav_menu": {},
   "number_sections": true,
   "sideBar": true,
   "skip_h1_title": false,
   "title_cell": "Table of Contents",
   "title_sidebar": "Contents",
   "toc_cell": false,
   "toc_position": {},
   "toc_section_display": true,
   "toc_window_display": false
  },
  "varInspector": {
   "cols": {
    "lenName": 16,
    "lenType": 16,
    "lenVar": 40
   },
   "kernels_config": {
    "python": {
     "delete_cmd_postfix": "",
     "delete_cmd_prefix": "del ",
     "library": "var_list.py",
     "varRefreshCmd": "print(var_dic_list())"
    },
    "r": {
     "delete_cmd_postfix": ") ",
     "delete_cmd_prefix": "rm(",
     "library": "var_list.r",
     "varRefreshCmd": "cat(var_dic_list()) "
    }
   },
   "types_to_exclude": [
    "module",
    "function",
    "builtin_function_or_method",
    "instance",
    "_Feature"
   ],
   "window_display": false
  }
 },
 "nbformat": 4,
 "nbformat_minor": 4
}
