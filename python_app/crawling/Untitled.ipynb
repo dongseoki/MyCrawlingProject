{
 "cells": [
  {
   "cell_type": "code",
   "execution_count": 12,
   "metadata": {},
   "outputs": [],
   "source": [
    "from urllib import parse\n",
    "a = parse.quote('데이터 분석 전문가 가이드 = The guide for advanced data analytics professional')\n",
    "\n",
    "\n",
    "#출처: https://inforwithme.tistory.com/entry/python에서-한글-주소-인코딩 [inforwithme]"
   ]
  },
  {
   "cell_type": "code",
   "execution_count": 13,
   "metadata": {},
   "outputs": [
    {
     "data": {
      "text/plain": [
       "'%EB%8D%B0%EC%9D%B4%ED%84%B0%20%EB%B6%84%EC%84%9D%20%EC%A0%84%EB%AC%B8%EA%B0%80%20%EA%B0%80%EC%9D%B4%EB%93%9C%20%3D%20The%20guide%20for%20advanced%20data%20analytics%20professional'"
      ]
     },
     "execution_count": 13,
     "metadata": {},
     "output_type": "execute_result"
    }
   ],
   "source": [
    "a"
   ]
  },
  {
   "cell_type": "code",
   "execution_count": 14,
   "metadata": {},
   "outputs": [
    {
     "data": {
      "text/plain": [
       "str"
      ]
     },
     "execution_count": 14,
     "metadata": {},
     "output_type": "execute_result"
    }
   ],
   "source": [
    "type(a)"
   ]
  },
  {
   "cell_type": "code",
   "execution_count": 17,
   "metadata": {},
   "outputs": [],
   "source": [
    "def isISBNCorrect(ISBN, bsObject, sid):\n",
    "    if sid == KW_CODE:\n",
    "        searchedISBN = find_ISBN(str(bsObject.find('div', {'id': 'divProfile'})))\n",
    "        if ISBN == searchedISBN:\n",
    "            return True\n",
    "        else :\n",
    "            return False\n",
    "    elif sid == DJ_CODE:\n",
    "        pass\n",
    "    elif sid == DS_CODE:\n",
    "        pass\n",
    "    elif sid == DD_CODE:\n",
    "        pass\n",
    "    elif sid == MJ_CODE:\n",
    "        pass\n",
    "    elif sid == SY_CODE:\n",
    "        pass\n",
    "    elif sid == SM_CODE:\n",
    "        includedISBNString = str(bsObject.find('div', {'class':'col-md-10 detail-table-right'}).find_all('dl')[2].find('dd'))\n",
    "        if ISBN == find_ISBN(includedISBNString):\n",
    "            return True\n",
    "        else :\n",
    "            return False\n",
    "    elif sid == SK_CODE:\n",
    "        pass\n",
    "    elif sid == SW_CODE:\n",
    "        pass\n",
    "    elif sid == SS_CODE:\n",
    "        pass\n",
    "    elif sid == HS_CODE:\n",
    "        pass"
   ]
  },
  {
   "cell_type": "code",
   "execution_count": null,
   "metadata": {},
   "outputs": [],
   "source": []
  }
 ],
 "metadata": {
  "kernelspec": {
   "display_name": "Python 3",
   "language": "python",
   "name": "python3"
  },
  "language_info": {
   "codemirror_mode": {
    "name": "ipython",
    "version": 3
   },
   "file_extension": ".py",
   "mimetype": "text/x-python",
   "name": "python",
   "nbconvert_exporter": "python",
   "pygments_lexer": "ipython3",
   "version": "3.7.6"
  }
 },
 "nbformat": 4,
 "nbformat_minor": 4
}
