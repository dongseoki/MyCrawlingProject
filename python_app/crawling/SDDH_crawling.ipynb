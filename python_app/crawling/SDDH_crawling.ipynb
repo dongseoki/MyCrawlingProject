{
 "cells": [
  {
   "cell_type": "code",
   "execution_count": 1,
   "metadata": {},
   "outputs": [],
   "source": [
    "from urllib.request import urlopen\n",
    "from bs4 import BeautifulSoup\n",
    "import re\n",
    "import sys, traceback\n",
    "import json"
   ]
  },
  {
   "cell_type": "code",
   "execution_count": 2,
   "metadata": {},
   "outputs": [],
   "source": [
    "KW_CODE =0\n",
    "KM_CODE =1\n",
    "DJ_CODE=2\n",
    "DS_CODE=3\n",
    "DD_CODE=4\n",
    "MJ_CODE=5\n",
    "SY_CODE=6\n",
    "SM_CODE=7\n",
    "SK_CODE=8\n",
    "SW_CODE=9\n",
    "SS_CODE=10\n",
    "HS_CODE=11"
   ]
  },
  {
   "cell_type": "code",
   "execution_count": 3,
   "metadata": {},
   "outputs": [],
   "source": [
    "base_start_url_list = ['http://kupis.kw.ac.kr/',\n",
    "'http://lib.kookmin.ac.kr/',\n",
    "'http://library.daejin.ac.kr/',\n",
    "'http://discover.duksung.ac.kr/',\n",
    "'http://library.dongduk.ac.kr/',\n",
    "'http://lib.mju.ac.kr/',\n",
    "'http://lib.syu.ac.kr/',\n",
    "'https://lib.smu.ac.kr/',\n",
    "'http://library.skuniv.ac.kr/',\n",
    "'http://lib.swu.ac.kr/',\n",
    "'http://lib.sungshin.ac.kr/',\n",
    "'http://hsel.hansung.ac.kr/']\n"
   ]
  },
  {
   "cell_type": "code",
   "execution_count": 4,
   "metadata": {},
   "outputs": [],
   "source": [
    "base_middle_url_list = ['',\n",
    "'',\n",
    "'',\n",
    "'',\n",
    "'',\n",
    "'',\n",
    "'',\n",
    "'Search/?q=',\n",
    "'',\n",
    "'',\n",
    "'',\n",
    "'']"
   ]
  },
  {
   "cell_type": "code",
   "execution_count": 5,
   "metadata": {},
   "outputs": [],
   "source": [
    "base_end_url_list = []\n",
    "for i in range(12):\n",
    "    base_end_url_list.append('')"
   ]
  },
  {
   "cell_type": "code",
   "execution_count": 6,
   "metadata": {},
   "outputs": [],
   "source": [
    "class LibraryLS:\n",
    "    def __init__(self, sid):\n",
    "        self.sid = sid\n",
    "        self.loanStatusList = []\n",
    "        self.errorMessage= ''\n",
    "    "
   ]
  },
  {
   "cell_type": "code",
   "execution_count": 7,
   "metadata": {},
   "outputs": [
    {
     "data": {
      "text/plain": [
       "'#STATE : 도서 상태,\\n#-1  에러\\n#1 대출가능\\n#0 대출중\\n#2 지정도서\\n# 대출불가 아직 생각 안함.\\n#RN : 등록번호\\n#CN : 청구기호\\n#POS : 위치\\n이런것들'"
      ]
     },
     "execution_count": 7,
     "metadata": {},
     "output_type": "execute_result"
    }
   ],
   "source": [
    "class LoanStatus:\n",
    "    def __init__(self, title = '', RN = '', CN = '', POS = '', STATE = -1, RDD = '', BN = 0, errorMessage = ''):\n",
    "        self.title = title\n",
    "        self.RN= RN\n",
    "        self.CN= CN\n",
    "        self.POS= POS\n",
    "        self.STATE= STATE\n",
    "        self.RDD = RDD#'2222-12-31'\n",
    "        self.BN = BN\n",
    "        self.errorMessage = errorMessage\n",
    "'''#STATE : 도서 상태,\n",
    "#-1  에러\n",
    "#1 대출가능\n",
    "#0 대출중\n",
    "#2 지정도서\n",
    "# 대출불가 아직 생각 안함.\n",
    "#RN : 등록번호\n",
    "#CN : 청구기호\n",
    "#POS : 위치\n",
    "이런것들'''"
   ]
  },
  {
   "cell_type": "code",
   "execution_count": 8,
   "metadata": {},
   "outputs": [],
   "source": [
    "#아직 상명대만 함. 상명대 ISBN으로 검색예정.\n",
    "def makeSearchUrl(ISBN, title, sid, flag):\n",
    "    if flag ==1:\n",
    "        searchUrl = base_start_url_list[sid]+base_middle_url_list[sid] + ISBN+ base_end_url_list[sid]\n",
    "        return searchUrl\n",
    "    "
   ]
  },
  {
   "cell_type": "code",
   "execution_count": 9,
   "metadata": {},
   "outputs": [],
   "source": [
    "def findSubStringByRegEx(text, sid, subStringType):\n",
    "    regex = re.compile(regexDictList[sid][subStringType])\n",
    "    matchObj = regex.search(text)\n",
    "    subString = matchObj.group(1)\n",
    "    return subString\n",
    "    \n",
    "    "
   ]
  },
  {
   "cell_type": "code",
   "execution_count": 10,
   "metadata": {},
   "outputs": [],
   "source": [
    "def find_ISBN(text):\n",
    "    regex = re.compile('\\d\\d\\d\\d\\d\\d\\d\\d\\d\\d\\d\\d\\d')\n",
    "    matchObj = regex.search(text)\n",
    "    return matchObj.group(0)"
   ]
  },
  {
   "cell_type": "code",
   "execution_count": 11,
   "metadata": {},
   "outputs": [],
   "source": [
    "def find_BN(text):\n",
    "    if '예약' in text:\n",
    "        regex = re.compile('대출중\\s*\\(\\s+(\\d+)명')\n",
    "        matchObj = regex.search(text)\n",
    "        num = int(matchObj.group(1))\n",
    "        return num\n",
    "    else :\n",
    "        return 0"
   ]
  },
  {
   "cell_type": "code",
   "execution_count": 12,
   "metadata": {},
   "outputs": [],
   "source": [
    "def find_RDD(text):\n",
    "    regex = re.compile('\\d\\d\\d\\d\\-\\d\\d\\-\\d\\d')\n",
    "    matchObj = regex.search(text)\n",
    "    return matchObj.group(0)"
   ]
  },
  {
   "cell_type": "code",
   "execution_count": 13,
   "metadata": {},
   "outputs": [],
   "source": [
    "def find_STATE_BN(text):\n",
    "    if '대출중' in text:\n",
    "        return 0, find_BN(text)\n",
    "    elif '이용가능' in text:\n",
    "        return 1,0\n",
    "    elif '지정도서' in text:\n",
    "        return 2,0\n",
    "    else :\n",
    "        return -1,0"
   ]
  },
  {
   "cell_type": "code",
   "execution_count": 14,
   "metadata": {},
   "outputs": [],
   "source": [
    "def visitLink(ISBN, sid, title, bookLink):\n",
    "    loanStatusList = []\n",
    "    #= LoanStatus()\n",
    "    try:\n",
    "        #1. 접속.\n",
    "        html = urlopen(base_start_url_list[sid]+bookLink)\n",
    "        bsObject = BeautifulSoup(html, \"html.parser\")\n",
    "        \n",
    "        #1-1 ISBN 정보가 일치하지 않다면 바로 return!!!\n",
    "        includedISBNString = str(bsObject.find('div', {'class':'col-md-10 detail-table-right'}).find_all('dl')[2].find('dd'))\n",
    "\n",
    "        if ISBN != find_ISBN(includedISBNString):\n",
    "            return loanStatusList\n",
    "        #2. 대출 데이터를 차곡차곡저장.\n",
    "        idx = 0\n",
    "        for loanResult in bsObject.find('div', class_='sponge-guide-Box-table sponge-detail-table').find('tbody').find_all('tr'):\n",
    "            errorMessage = ''\n",
    "            content = loanResult.find_all('td')\n",
    "            RN = content[0].text.strip()\n",
    "            CN = content[1].text.strip()\n",
    "            POS = content[2].text.strip()\n",
    "            STATE_STRING = content[3].text.strip()\n",
    "            try:\n",
    "                RDD = find_RDD(str(content[4]))\n",
    "            except AttributeError as e:\n",
    "                RDD = ''\n",
    "            STATE, BN = find_STATE_BN(STATE_STRING)\n",
    "            loanStatusList.append(LoanStatus(title, RN, CN,POS,STATE, RDD ,BN, ''))\n",
    "    except :\n",
    "        pass\n",
    "        #traceback.format_exc()\n",
    "    finally:\n",
    "        return loanStatusList"
   ]
  },
  {
   "cell_type": "code",
   "execution_count": 15,
   "metadata": {},
   "outputs": [],
   "source": [
    "test_string = \"\"\n",
    "def crawling(ISBN, title, sid, searchUrl):\n",
    "    libraryLoanStatus = LibraryLS(sid)\n",
    "    try:\n",
    "        #1. 접속.\n",
    "        html = urlopen(searchUrl)\n",
    "        bsObject = BeautifulSoup(html, \"html.parser\")\n",
    "        #2. 링크를 차곡차곡저장.\n",
    "        # 정규식과 beautifulsoap4을 이용하여 저장...!!\n",
    "        bookLinklist =[]\n",
    "        for bookResult in bsObject.find_all('div', class_='search-list-result'):\n",
    "            content = bookResult.find('div', {'class','sponge-list-content'}).find('a')\n",
    "            title = content.text.strip()\n",
    "            link =  content.get('href')\n",
    "            bookLinklist.append([title, link])\n",
    "\n",
    "        #3. 해당 링크를 방문하여 리스트에 추가해라..!!\n",
    "        for item in bookLinklist:\n",
    "            libraryLoanStatus.loanStatusList += visitLink(ISBN, sid, item[0], item[1])\n",
    "    except :\n",
    "        libraryLoanStatus.errorMessage = traceback.format_exc()\n",
    "        #libraryLoanStatus.errorMessage = 에러 traceback 에러메세지를 담는다.\n",
    "    finally:\n",
    "        return libraryLoanStatus\n",
    "    "
   ]
  },
  {
   "cell_type": "code",
   "execution_count": 16,
   "metadata": {},
   "outputs": [],
   "source": [
    "def makeJsonDict(result):\n",
    "    # result 의 타입은 LibraryLS\n",
    "    jsonDict = {}\n",
    "    jsonDict['sid'] = result.sid\n",
    "    jsonDict['loanStatusList'] = []\n",
    "    for item in result.loanStatusList:\n",
    "        jsonDict['loanStatusList'].append(vars(item))\n",
    "    jsonDict['errorMessage']=result.errorMessage\n",
    "    return jsonDict"
   ]
  },
  {
   "cell_type": "code",
   "execution_count": 18,
   "metadata": {},
   "outputs": [],
   "source": [
    "#flag =1 iSBN, 0, title search by..\n",
    "#함수 만들기.\n",
    "\n",
    "#sid = int(sid)\n",
    "def findLoanStatus(ISBN, title, sid):\n",
    "    if sid != SM_CODE:\n",
    "        result = LibraryLS(sid)\n",
    "        result.errorMessage = 'Not developed...'\n",
    "    else : \n",
    "        searchUrl = makeSearchUrl(ISBN, title, sid, 1)\n",
    "        result = crawling(ISBN, title, sid, searchUrl)\n",
    "    # json string 으로 만들기.\n",
    "    jsonDict = makeJsonDict(result)\n",
    "    return json.dumps(jsonDict)\n",
    "    "
   ]
  }
 ],
 "metadata": {
  "kernelspec": {
   "display_name": "Python 3",
   "language": "python",
   "name": "python3"
  },
  "language_info": {
   "codemirror_mode": {
    "name": "ipython",
    "version": 3
   },
   "file_extension": ".py",
   "mimetype": "text/x-python",
   "name": "python",
   "nbconvert_exporter": "python",
   "pygments_lexer": "ipython3",
   "version": "3.7.6"
  }
 },
 "nbformat": 4,
 "nbformat_minor": 4
}
