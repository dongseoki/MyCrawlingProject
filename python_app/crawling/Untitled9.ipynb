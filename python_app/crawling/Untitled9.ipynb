{
 "cells": [
  {
   "cell_type": "code",
   "execution_count": 1,
   "metadata": {},
   "outputs": [],
   "source": [
    "dict = {'sid' : -1,  'loanStatusList': [], 'errorMessage':'Not enough input data'}"
   ]
  },
  {
   "cell_type": "code",
   "execution_count": 2,
   "metadata": {},
   "outputs": [
    {
     "data": {
      "text/plain": [
       "{'sid': -1, 'loanStatusList': [], 'errorMessage': 'Not enough input data'}"
      ]
     },
     "execution_count": 2,
     "metadata": {},
     "output_type": "execute_result"
    }
   ],
   "source": [
    "dict"
   ]
  },
  {
   "cell_type": "code",
   "execution_count": 5,
   "metadata": {},
   "outputs": [],
   "source": [
    "list = []\n",
    "resultList = []\n",
    "for i in range(12):\n",
    "    resultList.append(dict)"
   ]
  },
  {
   "cell_type": "code",
   "execution_count": 6,
   "metadata": {},
   "outputs": [
    {
     "data": {
      "text/plain": [
       "[{'sid': -1, 'loanStatusList': [], 'errorMessage': 'Not enough input data'},\n",
       " {'sid': -1, 'loanStatusList': [], 'errorMessage': 'Not enough input data'},\n",
       " {'sid': -1, 'loanStatusList': [], 'errorMessage': 'Not enough input data'},\n",
       " {'sid': -1, 'loanStatusList': [], 'errorMessage': 'Not enough input data'},\n",
       " {'sid': -1, 'loanStatusList': [], 'errorMessage': 'Not enough input data'},\n",
       " {'sid': -1, 'loanStatusList': [], 'errorMessage': 'Not enough input data'},\n",
       " {'sid': -1, 'loanStatusList': [], 'errorMessage': 'Not enough input data'},\n",
       " {'sid': -1, 'loanStatusList': [], 'errorMessage': 'Not enough input data'},\n",
       " {'sid': -1, 'loanStatusList': [], 'errorMessage': 'Not enough input data'},\n",
       " {'sid': -1, 'loanStatusList': [], 'errorMessage': 'Not enough input data'},\n",
       " {'sid': -1, 'loanStatusList': [], 'errorMessage': 'Not enough input data'},\n",
       " {'sid': -1, 'loanStatusList': [], 'errorMessage': 'Not enough input data'}]"
      ]
     },
     "execution_count": 6,
     "metadata": {},
     "output_type": "execute_result"
    }
   ],
   "source": [
    "resultList"
   ]
  },
  {
   "cell_type": "code",
   "execution_count": null,
   "metadata": {},
   "outputs": [],
   "source": []
  }
 ],
 "metadata": {
  "kernelspec": {
   "display_name": "Python 3",
   "language": "python",
   "name": "python3"
  },
  "language_info": {
   "codemirror_mode": {
    "name": "ipython",
    "version": 3
   },
   "file_extension": ".py",
   "mimetype": "text/x-python",
   "name": "python",
   "nbconvert_exporter": "python",
   "pygments_lexer": "ipython3",
   "version": "3.7.6"
  }
 },
 "nbformat": 4,
 "nbformat_minor": 4
}
