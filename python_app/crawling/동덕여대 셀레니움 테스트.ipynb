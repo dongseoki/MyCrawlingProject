{
 "cells": [
  {
   "cell_type": "code",
   "execution_count": 36,
   "metadata": {
    "ExecuteTime": {
     "end_time": "2020-05-16T06:22:00.523088Z",
     "start_time": "2020-05-16T06:22:00.519098Z"
    }
   },
   "outputs": [],
   "source": [
    "import re\n",
    "\n",
    "import time\n",
    "from selenium import webdriver\n",
    "from selenium.webdriver.chrome.options import Options\n",
    "\n",
    "from selenium.webdriver.common.by import By\n",
    "from selenium.webdriver.support.ui import WebDriverWait\n",
    "from selenium.webdriver.support import expected_conditions as EC\n",
    "\n",
    "from bs4 import BeautifulSoup\n",
    "import copy\n",
    "\n",
    "\n",
    "options = Options()\n",
    "options.headless = True\n",
    "\n",
    "browser = webdriver.Chrome(executable_path=\"./chromedriver.exe\", options=options)\n",
    "\n",
    "#browser.get('https://library.dongduk.ac.kr/#/search/ex?isbn=1%7Cl%7Ca%7C9791165075064&branch=1&material-type=1')\n",
    "# 되는 케이스\n",
    "\n",
    "browser.get('https://library.dongduk.ac.kr/#/search/ex?isbn=1%7Cl%7Ca%7C9788931004441&branch=1&material-type=1')\n",
    "#9788931004441 새로운 케이스\n",
    "\n",
    "\n",
    "#9788953934283 새로운 케이스\n",
    "#browser.get('https://library.daejin.ac.kr/data_data_list.mir?search_keyword_type1=isbn&search_keyword1=9788953934283&srch_condi_01=AND&search_keyword_type2=author&search_keyword2=&srch_condi_02=AND&search_keyword_type3=subject&search_keyword3=&srch_condi_03=%E2%96%B2&select_current_sort_type=&select_current_sort_order=&select_current_per_page_num=10&basic_list=list&current_per_page_num=10&current_sort_type=&current_sort_order=&MAXI=1000&mloc_code=DJUL&facet_limit_search_field_code=&scope_code=&mtype_code=M&type_code=')\n",
    "# 되는 케이스\n",
    "\n",
    "#browser.get('https://discover.duksung.ac.kr/#/search/ex?isbn=1%7Ck%7Ca%7C9788934985099&material-type=1')\n",
    "#안되는 케이스"
   ]
  },
  {
   "cell_type": "code",
   "execution_count": 38,
   "metadata": {
    "ExecuteTime": {
     "end_time": "2020-05-16T06:22:12.621522Z",
     "start_time": "2020-05-16T06:22:12.444991Z"
    }
   },
   "outputs": [],
   "source": [
    "linkXpath = '/html/body/div[1]/div[3]/div[2]/div[2]/div[2]/div[3]/div[1]/div[1]/div[2]/div[4]/div/div[3]/ul/li[1]/a[1]/span'\n",
    "browserCheckXpath = '/html/body/div[1]/div[3]/div[2]/div[2]/div[1]/div[1]/h2'\n",
    "#소장검색 이라는 단어\n",
    "\n",
    "try:\n",
    "    WebDriverWait(browser, 120).until(EC.presence_of_element_located((By.XPATH, browserCheckXpath)))\n",
    "    linkElement = WebDriverWait(browser, 2).until(EC.presence_of_element_located((By.XPATH, linkXpath)))\n",
    "    #linkElement = browser.find_element_by_xpath(linkXpath)\n",
    "    # 오류가능성.\n",
    "except :\n",
    "    print('예외가 발생! 찾는 책이 없음')\n",
    "    linkElement = -1"
   ]
  },
  {
   "cell_type": "code",
   "execution_count": 39,
   "metadata": {
    "ExecuteTime": {
     "end_time": "2020-05-16T06:22:12.689339Z",
     "start_time": "2020-05-16T06:22:12.626505Z"
    }
   },
   "outputs": [
    {
     "data": {
      "text/plain": [
       "'잃어버린 지평선'"
      ]
     },
     "execution_count": 39,
     "metadata": {},
     "output_type": "execute_result"
    }
   ],
   "source": [
    "linkElement.text"
   ]
  },
  {
   "cell_type": "code",
   "execution_count": 40,
   "metadata": {
    "ExecuteTime": {
     "end_time": "2020-05-16T06:22:12.703300Z",
     "start_time": "2020-05-16T06:22:12.694325Z"
    }
   },
   "outputs": [
    {
     "name": "stdout",
     "output_type": "stream",
     "text": [
      "success\n"
     ]
    }
   ],
   "source": [
    "if linkElement == -1 :\n",
    "    print('-1...')\n",
    "else : \n",
    "    print('success')"
   ]
  },
  {
   "cell_type": "code",
   "execution_count": 41,
   "metadata": {
    "ExecuteTime": {
     "end_time": "2020-05-16T06:22:12.890798Z",
     "start_time": "2020-05-16T06:22:12.708287Z"
    }
   },
   "outputs": [],
   "source": [
    "linkElement.click()"
   ]
  },
  {
   "cell_type": "code",
   "execution_count": 42,
   "metadata": {
    "ExecuteTime": {
     "end_time": "2020-05-16T06:22:12.943658Z",
     "start_time": "2020-05-16T06:22:12.898778Z"
    }
   },
   "outputs": [
    {
     "data": {
      "text/plain": [
       "'https://library.dongduk.ac.kr/#/search/detail/40078453'"
      ]
     },
     "execution_count": 42,
     "metadata": {},
     "output_type": "execute_result"
    }
   ],
   "source": [
    "browser.current_url"
   ]
  },
  {
   "cell_type": "code",
   "execution_count": 43,
   "metadata": {
    "ExecuteTime": {
     "end_time": "2020-05-16T06:22:14.630145Z",
     "start_time": "2020-05-16T06:22:12.949644Z"
    }
   },
   "outputs": [],
   "source": [
    "ISBNLinkElementXpath = '//*[@id=\"btn-biblio-more-open\"]'\n",
    "ISBNLinkElement = WebDriverWait(browser, 120).until(EC.presence_of_element_located((By.XPATH, ISBNLinkElementXpath)))\n",
    "#ISBNLinkElement = browser.find_element_by_xpath(ISBNLinkElementXpath)\n",
    "ISBNLinkElement.click()"
   ]
  },
  {
   "cell_type": "code",
   "execution_count": 44,
   "metadata": {
    "ExecuteTime": {
     "end_time": "2020-05-16T06:22:14.833663Z",
     "start_time": "2020-05-16T06:22:14.634146Z"
    }
   },
   "outputs": [],
   "source": [
    "html = browser.page_source\n",
    "bsObject=BeautifulSoup(html, 'html.parser')\n",
    "strISBNIncluded = str(bsObject.select('body > div.ikc-pyxis-wrap > div.ikc-container-wrap > div.ikc-container > div.ikc-content > div.ikc-main > div:nth-child(3) > div > div.ikc-search-detail-main > div > div.ikc-biblio-detail'))"
   ]
  },
  {
   "cell_type": "code",
   "execution_count": 45,
   "metadata": {
    "ExecuteTime": {
     "end_time": "2020-05-16T06:22:14.846566Z",
     "start_time": "2020-05-16T06:22:14.836593Z"
    }
   },
   "outputs": [
    {
     "data": {
      "text/plain": [
       "'[<div class=\"ikc-biblio-detail\"><div class=\"ikc-book-thumb\"><div ng-click=\"showBookThumb=!showBookThumb\"><ik-book-thumb bid=\"biblioId\" default=\"none\" isbn=\"targetISBN\" thumbnail=\"biblioSummary.thumbnail\" title=\"잃어버린 지평선\"><div class=\"ikc-bookcover\" ng-show=\"thumbShowFlag\">\\n<img alt=\"잃어버린 지평선\" ng-src=\"https://image.aladin.co.kr/product/46/22/cover/8931004443_1.jpg\" onerror=\"this.src=\\'/assets/images/dd/content/default-item-img.jpg\\'\" src=\"https://image.aladin.co.kr/product/46/22/cover/8931004443_1.jpg\"/>\\n</div></ik-book-thumb></div><div class=\"ikc-dylink\"><a class=\"button ng-hide\" ng-href=\"\" ng-show=\"ePassPreviewLink.length &gt; 0\" target=\"_blank\" title=\"새창\">Core Collection\\xa0<i class=\"k-icon k-i-search\"></i></a> <a class=\"button\" href=\"http://www.aladin.co.kr/shop/book/wletslookViewer.aspx?ISBN=8931004443\" ng-href=\"http://www.aladin.co.kr/shop/book/wletslookViewer.aspx?ISBN=8931004443\" ng-show=\"aladinPreviewLink.length &gt; 0\" target=\"_blank\" title=\"새창\">알라딘\\xa0<i class=\"k-icon k-i-search\"></i></a> <a class=\"button ng-hide\" ng-href=\"\" ng-show=\"googlePreviewLink.length &gt; 0\" target=\"_blank\" title=\"새창\">Google\\xa0<i class=\"k-icon k-i-search\"></i></a> <a class=\"button ng-hide\" ng-href=\"\" ng-show=\"detailLink.length &gt; 0\" target=\"_blank\" title=\"ecip 도서정보 새창\">상세보기\\xa0<i class=\"k-icon k-i-weblink\"></i></a> <a class=\"button ng-hide\" ng-href=\"\" ng-show=\"previewLink.length &gt; 0\" target=\"_blank\" title=\"알라딘 뷰어 새창\">미리보기\\xa0<i class=\"k-icon k-i-weblink\"></i></a></div></div><div class=\"ikc-book-thumb-img ng-hide\" ng-click=\"showBookThumb=!showBookThumb\" ng-show=\"showBookThumb\"><ik-book-thumb bid=\"biblioId\" default=\"none\" isbn=\"targetISBN\" thumbnail=\"biblioSummary.thumbnail\" title=\"잃어버린 지평선\"><div class=\"ikc-bookcover\" ng-show=\"thumbShowFlag\">\\n<img alt=\"잃어버린 지평선\" ng-src=\"https://image.aladin.co.kr/product/46/22/cover/8931004443_1.jpg\" onerror=\"this.src=\\'/assets/images/dd/content/default-item-img.jpg\\'\" src=\"https://image.aladin.co.kr/product/46/22/cover/8931004443_1.jpg\"/>\\n</div></ik-book-thumb></div><div class=\"ikc-biblio-info\"><p class=\"ikc-biblio-type\"><label>자료유형</label><span ng-bind-html=\"biblioSummary.biblioType.name\">국내서단행본</span></p><ul class=\"ikc-biblio-infolist\"><!-- --><li ng-repeat=\"item in biblio | limitTo : displayLimit\"><label>서명/저자 사항</label><span ng-bind-html=\"item.content\">잃어버린 지평선 /제임스 힐턴 [지음] ;이경식 옮김.</span></li><!-- --><li ng-repeat=\"item in biblio | limitTo : displayLimit\"><label>원서명</label><span ng-bind-html=\"item.content\">Lost horizon</span></li><!-- --><li ng-repeat=\"item in biblio | limitTo : displayLimit\"><label>개인저자</label><span ng-bind-html=\"item.content\"><a href=\"#/search/ex?author=1|m|a|제임스 힐턴\" title=\"상세검색 바로가기\">제임스 힐턴</a><br/><a href=\"#/search/ex?author=1|m|a|이경식\" title=\"상세검색 바로가기\">이경식</a></span></li><!-- --><li ng-repeat=\"item in biblio | limitTo : displayLimit\"><label>판사항</label><span ng-bind-html=\"item.content\">2판</span></li><!-- --><li ng-repeat=\"item in biblio | limitTo : displayLimit\"><label>발행사항</label><span ng-bind-html=\"item.content\">서울 :문예, 2004.</span></li><!-- --><li ng-repeat=\"item in biblio | limitTo : displayLimit\"><label>형태사항</label><span ng-bind-html=\"item.content\">285 p. ;23 cm.</span></li><!-- --><li ng-repeat=\"item in biblio | limitTo : displayLimit\"><label>총서사항</label><span ng-bind-html=\"item.content\"><a href=\"#/search/ex?series_title=1|m|a|문예 세계문학선\" title=\"상세검색 바로가기\">문예 세계문학선</a></span></li><!-- --><li ng-repeat=\"item in biblio | limitTo : displayLimit\"><label>ISBN</label><span ng-bind-html=\"item.content\">9788931004441</span></li><!-- --><li ng-repeat=\"item in biblio | limitTo : displayLimit\"><label>청구기호</label><span ng-bind-html=\"item.content\"><a href=\"#/search/ex?kdc=1|m|a|843\" title=\"상세검색 바로가기\">843</a>\\xa0H656lㅇ</span></li><!-- --><li ng-repeat=\"item in biblio | limitTo : displayLimit\"><label>일반주기</label><span ng-bind-html=\"item.content\">원저자명: 제임스 힐턴(James Hilton)</span></li><!-- --><!-- --><li class=\"hidden-xs ikc-marc\" ng-hide=\"incrementDisplayLimitButtonShow\" ng-if=\"biblioSummary.isMarc\"><label>MARC</label><span><button ng-click=\"showMarcContent()\">보기</button></span></li><!-- --></ul><div class=\"ikc-search-result-funcs\"><ul><li><!-- --> <!-- --><button id=\"btn-biblio-more-close\" ng-click=\"decrementDisplayLimit();\" ng-if=\"decrementDisplayLimitButtonShow\" title=\"서지정보\"><span class=\"k-icon k-i-expand\"></span> 접기</button><!-- --></li><li class=\"ikc-btn-group-wrap\"><div class=\"ikc-btn-group\" ng-show=\"!hiddenMyCollection\"><button id=\"btn-mycollection\" ng-click=\"showMycollectionMenu=!showMycollectionMenu; showExportMenu=false; showTempitemMenu=false; tabToGo(\\'ik-mycollection-guide\\');\" ng-show=\"!showMycollectionMenu\" title=\"개인보관함 안내 펼치기\">개인보관함 <span class=\"k-icon k-i-arrow-s\"></span></button> <button class=\"ng-hide\" ng-click=\"showMycollectionMenu=!showMycollectionMenu; showExportMenu=false; showTempitemMenu=false;\" ng-show=\"showMycollectionMenu\" title=\"접기\">개인보관함 <span class=\"k-icon k-i-close\"></span></button><div class=\"ng-hide\" id=\"ik-mycollection-guide\" ng-show=\"showMycollectionMenu\" tabindex=\"0\"><p><strong>개인보관함이란?</strong><br/>이용자가 필요한 자료를 개인보관함은 담아두었다가 필요할 때 보다 쉽게 이용할 수 있는 서비스입니다. 여러개의 보관함을 원하는 분류별로 생성하여 활용할 수 있습니다.</p><button ng-click=\"openMyCollectionModal()\" title=\"개인보관함 담기\"><span class=\"k-icon k-si-plus\"></span><span>담기</span></button> <button ng-click=\"goMyCollection()\" title=\"개인보관함 이동\"><span class=\"k-icon k-i-expand-w\"></span> <span>이동</span></button> <button class=\"ikc-btn-group-x ikc-iconbtn\" ng-click=\"showMycollectionMenu=!showMycollectionMenu; tabToGo(\\'btn-mycollection\\')\" title=\"개인보관함 안내 접기\"><span class=\"k-icon k-i-close\"></span></button></div></div><div class=\"ikc-btn-group\" ng-show=\"tempitems_use\"><button class=\"btn-tempitem\" ng-click=\"showTempitemMenu=!showTempitemMenu; showMycollectionMenu=false;  showExportMenu=false; tabToGo(\\'ik-tempitem\\')\" title=\"임시보관함 안내 펼치기\"><!-- --> <!-- --><span ng-if=\"!isSavedTemp\">임시보관함</span><!-- --> <span class=\"k-icon k-i-arrow-s\" ng-show=\"!showTempitemMenu\"></span> <span class=\"k-icon k-i-close ng-hide\" ng-show=\"showTempitemMenu\"></span></button><div class=\"ng-hide\" id=\"ik-tempitem\" ng-show=\"showTempitemMenu\" tabindex=\"0\"><p><strong>임시보관함이란?</strong><br/>인터넷 브라우저 저장소를 활용하여 임시로 자료를 보관, 이용할 수 있는 서비스입니다. 브라우저 탭마다 저장소가 하나씩 생성되며, 브라우저 종료시 자동 삭제 됩니다. 오래 보관하고자 하는 자료는 개인보관함을 이용하시기 바랍니다.</p><p><strong>현재 보관된 자료수 \\xa0:\\xa0 0건</strong></p><button ng-click=\"saveTempItem()\" ng-disabled=\"isSavedTemp || tempItemTotalCount &gt; 100\" title=\"임시보관함 담기\"><span class=\"k-icon k-si-plus\"></span> <span>담기</span></button> <button class=\"ng-hide\" ng-click=\"deleteTempItem()\" ng-hide=\"!isSavedTemp\" title=\"보관자료 삭제\"><span class=\"k-icon k-i-close\"></span> <span>삭제</span></button> <button disabled=\"disabled\" ng-click=\"goTempitems()\" ng-disabled=\"tempItemTotalCount == 0\" title=\"임시보관함 이동\"><span class=\"k-icon k-i-expand-w\"></span> <span>이동</span></button> <button class=\"ikc-btn-group-x ikc-iconbtn\" ng-click=\"showTempitemMenu=!showTempitemMenu; tabToGo(\\'btn-tempitem\\'); \" title=\"임시보관함 안내 접기\"><span class=\"k-icon k-i-close\"></span></button></div></div><div class=\"ikc-btn-group ikc-search-export\"><button id=\"btn-export\" ng-click=\"showExportMenu=!showExportMenu; showTempitemMenu=false; showMycollectionMenu=false; tabToGo(\\'ik-export\\');\" title=\"내보내기 안내 펼치기\">내보내기 <span class=\"k-icon k-i-arrow-s\" ng-show=\"!showExportMenu\"></span> <span class=\"k-icon k-i-close ng-hide\" ng-show=\"showExportMenu\"></span></button><div class=\"ng-hide\" id=\"ik-export\" ng-show=\"showExportMenu\" tabindex=\"0\"><p><strong>내보내기란?</strong><br/>다양한 자료활용을 위해 자료반출을 지원하고 있습니다.</p><button class=\"ikc-export-endnote\" ng-click=\"exportRisFile()\" title=\"EndNote\"><span>EndNote</span></button> <button class=\"ikc-export-refworks\" ng-click=\"exportRefWorks()\" title=\"RefWorks\"><span>RefWorks</span></button> <button class=\"ikc-export-email\" ng-click=\"openSendEmailModal()\" title=\"Email\"><span>Email</span></button> <a class=\"button twitter-share-button\" data-size=\"large\" href=\"\" ng-click=\"exportTwitter()\" title=\"twitter\"><span><span class=\"k-icon k-i-twitter\"></span>Twitter</span></a> <button class=\"facebook-share-button\" title=\"facebook\"><span class=\"fb-share-button fb_iframe_widget\" data-href=\"https://library.dongduk.ac.kr/#/search/detail/40078453\" data-layout=\"icon_link\" fb-iframe-plugin-query=\"app_id=&amp;container_width=0&amp;href=https%3A%2F%2Flibrary.dongduk.ac.kr%2F%23%2Fsearch%2Fdetail%2F40078453&amp;layout=icon_link&amp;locale=ko_KR&amp;sdk=joey\" fb-xfbml-state=\"rendered\"><span style=\"vertical-align: bottom; width: 0px; height: 0px;\"><iframe allow=\"encrypted-media\" allowfullscreen=\"true\" allowtransparency=\"true\" class=\"\" data-testid=\"fb:share_button Facebook Social Plugin\" frameborder=\"0\" height=\"1000px\" name=\"f520b94403f58c\" scrolling=\"no\" src=\"https://www.facebook.com/v2.5/plugins/share_button.php?app_id=&amp;channel=https%3A%2F%2Fstaticxx.facebook.com%2Fconnect%2Fxd_arbiter.php%3Fversion%3D46%23cb%3Df6d92b08dcbffc%26domain%3Dlibrary.dongduk.ac.kr%26origin%3Dhttps%253A%252F%252Flibrary.dongduk.ac.kr%252Ff21f87b1a632164%26relation%3Dparent.parent&amp;container_width=0&amp;href=https%3A%2F%2Flibrary.dongduk.ac.kr%2F%23%2Fsearch%2Fdetail%2F40078453&amp;layout=icon_link&amp;locale=ko_KR&amp;sdk=joey\" style=\"border: none; visibility: visible; width: 0px; height: 0px;\" title=\"fb:share_button Facebook Social Plugin\" width=\"1000px\"></iframe></span></span></button> <button class=\"ikc-btn-group-x ikc-iconbtn\" ng-click=\"showExportMenu=!showExportMenu; tabToGo(\\'btn-export\\');\" title=\"내보내기 안내 접기\"><span class=\"k-icon k-i-close\"></span></button></div></div></li></ul></div></div></div>]'"
      ]
     },
     "execution_count": 45,
     "metadata": {},
     "output_type": "execute_result"
    }
   ],
   "source": [
    "strISBNIncluded"
   ]
  },
  {
   "cell_type": "code",
   "execution_count": 46,
   "metadata": {
    "ExecuteTime": {
     "end_time": "2020-05-16T06:22:14.863522Z",
     "start_time": "2020-05-16T06:22:14.851553Z"
    }
   },
   "outputs": [],
   "source": [
    "def compareISBN(text, ISBN):\n",
    "    regex = re.compile(ISBN)\n",
    "    matchObj = regex.search(text)\n",
    "    if matchObj is None :\n",
    "        return False\n",
    "    else:\n",
    "        return True"
   ]
  },
  {
   "cell_type": "code",
   "execution_count": 47,
   "metadata": {
    "ExecuteTime": {
     "end_time": "2020-05-16T06:22:14.882471Z",
     "start_time": "2020-05-16T06:22:14.869505Z"
    }
   },
   "outputs": [
    {
     "name": "stdout",
     "output_type": "stream",
     "text": [
      "False\n",
      "False\n"
     ]
    }
   ],
   "source": [
    "print(compareISBN(strISBNIncluded, '9791165075064'))\n",
    "#진짜\n",
    "print(compareISBN(strISBNIncluded, '9791165075062'))\n",
    "#가짜."
   ]
  },
  {
   "cell_type": "code",
   "execution_count": 48,
   "metadata": {
    "ExecuteTime": {
     "end_time": "2020-05-16T06:22:14.933334Z",
     "start_time": "2020-05-16T06:22:14.885462Z"
    }
   },
   "outputs": [
    {
     "data": {
      "text/plain": [
       "2"
      ]
     },
     "execution_count": 48,
     "metadata": {},
     "output_type": "execute_result"
    }
   ],
   "source": [
    "loanResultListSelectPath = 'body > div.ikc-pyxis-wrap > div.ikc-container-wrap > div.ikc-container > div.ikc-content > div.ikc-main > div:nth-child(3) > div > div.ikc-search-detail-main > div > div.ikc-detail-strip > div:nth-child(2) > ng-include > div > table'\n",
    "loanResultList =bsObject.select(loanResultListSelectPath)[0].find_all('tbody')\n",
    "len(loanResultList)"
   ]
  },
  {
   "cell_type": "code",
   "execution_count": 49,
   "metadata": {
    "ExecuteTime": {
     "end_time": "2020-05-16T06:22:14.955279Z",
     "start_time": "2020-05-16T06:22:14.937328Z"
    }
   },
   "outputs": [
    {
     "name": "stdout",
     "output_type": "stream",
     "text": [
      "6\n",
      "E0491817\n",
      "843 H656lㅇ\n",
      "문학자료실(1층)\n",
      "대출가능   ~\n",
      "6\n",
      "E0491818\n",
      "843 H656lㅇ c.2\n",
      "문학자료실(1층)\n",
      "대출중   ~ 2020.06.19\n"
     ]
    }
   ],
   "source": [
    "for item in loanResultList:\n",
    "    content = item.find('tr').find_all('td')\n",
    "    print(len(content))\n",
    "    errorMessage = ''\n",
    "    RN = content[0].find_all('span')[1].text.strip()\n",
    "    CN = content[2].find_all('span')[1].text.strip()\n",
    "    POS = content[1].find_all('span')[1].text.strip()\n",
    "    STATE_STRING = content[4].find_all('span')[1].text.strip()\n",
    "    #RDD = content[5].text.strip()\n",
    "    print(RN)\n",
    "    print(CN)\n",
    "    print(POS)\n",
    "    print(STATE_STRING)\n",
    "    #print(RDD)\n",
    "    #print(content[8])\n",
    "        \n",
    "    #print('등록번호 : ', item)"
   ]
  },
  {
   "cell_type": "code",
   "execution_count": null,
   "metadata": {},
   "outputs": [],
   "source": []
  }
 ],
 "metadata": {
  "hide_input": false,
  "kernelspec": {
   "display_name": "Python 3",
   "language": "python",
   "name": "python3"
  },
  "language_info": {
   "codemirror_mode": {
    "name": "ipython",
    "version": 3
   },
   "file_extension": ".py",
   "mimetype": "text/x-python",
   "name": "python",
   "nbconvert_exporter": "python",
   "pygments_lexer": "ipython3",
   "version": "3.7.6"
  },
  "toc": {
   "base_numbering": 1,
   "nav_menu": {},
   "number_sections": true,
   "sideBar": true,
   "skip_h1_title": false,
   "title_cell": "Table of Contents",
   "title_sidebar": "Contents",
   "toc_cell": false,
   "toc_position": {},
   "toc_section_display": true,
   "toc_window_display": false
  },
  "varInspector": {
   "cols": {
    "lenName": 16,
    "lenType": 16,
    "lenVar": 40
   },
   "kernels_config": {
    "python": {
     "delete_cmd_postfix": "",
     "delete_cmd_prefix": "del ",
     "library": "var_list.py",
     "varRefreshCmd": "print(var_dic_list())"
    },
    "r": {
     "delete_cmd_postfix": ") ",
     "delete_cmd_prefix": "rm(",
     "library": "var_list.r",
     "varRefreshCmd": "cat(var_dic_list()) "
    }
   },
   "types_to_exclude": [
    "module",
    "function",
    "builtin_function_or_method",
    "instance",
    "_Feature"
   ],
   "window_display": false
  }
 },
 "nbformat": 4,
 "nbformat_minor": 4
}
