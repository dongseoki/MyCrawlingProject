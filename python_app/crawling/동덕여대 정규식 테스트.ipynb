{
 "cells": [
  {
   "cell_type": "code",
   "execution_count": 3,
   "metadata": {
    "ExecuteTime": {
     "end_time": "2020-05-16T06:16:02.243829Z",
     "start_time": "2020-05-16T06:16:02.239833Z"
    }
   },
   "outputs": [],
   "source": [
    "import re"
   ]
  },
  {
   "cell_type": "code",
   "execution_count": 2,
   "metadata": {
    "ExecuteTime": {
     "end_time": "2020-05-16T06:16:00.530405Z",
     "start_time": "2020-05-16T06:16:00.518438Z"
    }
   },
   "outputs": [],
   "source": [
    "stateDict = {'대출중': 0, '예약도서대출중':0,'이용가능':1,'대출가능':1, '지정도서':2}\n",
    "KW_CODE =0\n",
    "KM_CODE =1\n",
    "DJ_CODE=2\n",
    "DS_CODE=3\n",
    "DD_CODE=4\n",
    "MJ_CODE=5\n",
    "SY_CODE=6\n",
    "SM_CODE=7\n",
    "SK_CODE=8\n",
    "SW_CODE=9\n",
    "SS_CODE=10\n",
    "HS_CODE=11"
   ]
  },
  {
   "cell_type": "code",
   "execution_count": 7,
   "metadata": {
    "ExecuteTime": {
     "end_time": "2020-05-16T06:18:12.601089Z",
     "start_time": "2020-05-16T06:18:12.592112Z"
    }
   },
   "outputs": [],
   "source": [
    "def findState(text, sid = -1):\n",
    "    if sid == KM_CODE or sid == DS_CODE or sid == DD_CODE:\n",
    "        regex = re.compile('(\\w+)\\s+')\n",
    "        matchObj = regex.search(text)\n",
    "        text = matchObj.group(1)\n",
    "    # 국민대 의 경우 전처리.\n",
    "\n",
    "    try:\n",
    "        STATE = stateDict[text]\n",
    "    except KeyError:\n",
    "        STATE = -1\n",
    "    return STATE"
   ]
  },
  {
   "cell_type": "code",
   "execution_count": 6,
   "metadata": {
    "ExecuteTime": {
     "end_time": "2020-05-16T06:18:11.302565Z",
     "start_time": "2020-05-16T06:18:11.294618Z"
    }
   },
   "outputs": [],
   "source": [
    "def find_RDD(text, sid = -1):\n",
    "    if sid == KM_CODE or sid == DS_CODE or sid ==DD_CODE:\n",
    "        regex = re.compile('(\\d\\d\\d\\d)\\.(\\d\\d)\\.(\\d\\d)')\n",
    "        matchObj = regex.search(text)\n",
    "        return matchObj.group(1)+ '-' + matchObj.group(2)+ '-' + matchObj.group(3)\n",
    "    else :\n",
    "        regex = re.compile('\\d\\d\\d\\d\\-\\d\\d\\-\\d\\d')\n",
    "        matchObj = regex.search(text)\n",
    "    return matchObj.group(0)"
   ]
  },
  {
   "cell_type": "code",
   "execution_count": 11,
   "metadata": {
    "ExecuteTime": {
     "end_time": "2020-05-16T06:29:47.661660Z",
     "start_time": "2020-05-16T06:29:47.655644Z"
    }
   },
   "outputs": [
    {
     "name": "stdout",
     "output_type": "stream",
     "text": [
      "1\n"
     ]
    }
   ],
   "source": [
    "#str1 = '대출중   ~ 2020.05.04'\n",
    "str1 = '대출가능   ~'\n",
    "print(findState(str1, DD_CODE))\n",
    "#print(find_RDD(str1,DD_CODE))"
   ]
  },
  {
   "cell_type": "code",
   "execution_count": null,
   "metadata": {},
   "outputs": [],
   "source": []
  }
 ],
 "metadata": {
  "hide_input": false,
  "kernelspec": {
   "display_name": "Python 3",
   "language": "python",
   "name": "python3"
  },
  "language_info": {
   "codemirror_mode": {
    "name": "ipython",
    "version": 3
   },
   "file_extension": ".py",
   "mimetype": "text/x-python",
   "name": "python",
   "nbconvert_exporter": "python",
   "pygments_lexer": "ipython3",
   "version": "3.7.6"
  },
  "toc": {
   "base_numbering": 1,
   "nav_menu": {},
   "number_sections": true,
   "sideBar": true,
   "skip_h1_title": false,
   "title_cell": "Table of Contents",
   "title_sidebar": "Contents",
   "toc_cell": false,
   "toc_position": {},
   "toc_section_display": true,
   "toc_window_display": false
  },
  "varInspector": {
   "cols": {
    "lenName": 16,
    "lenType": 16,
    "lenVar": 40
   },
   "kernels_config": {
    "python": {
     "delete_cmd_postfix": "",
     "delete_cmd_prefix": "del ",
     "library": "var_list.py",
     "varRefreshCmd": "print(var_dic_list())"
    },
    "r": {
     "delete_cmd_postfix": ") ",
     "delete_cmd_prefix": "rm(",
     "library": "var_list.r",
     "varRefreshCmd": "cat(var_dic_list()) "
    }
   },
   "types_to_exclude": [
    "module",
    "function",
    "builtin_function_or_method",
    "instance",
    "_Feature"
   ],
   "window_display": false
  }
 },
 "nbformat": 4,
 "nbformat_minor": 4
}
