{
 "cells": [
  {
   "cell_type": "code",
   "execution_count": 58,
   "metadata": {
    "ExecuteTime": {
     "end_time": "2020-05-23T02:39:23.351002Z",
     "start_time": "2020-05-23T02:39:23.343023Z"
    }
   },
   "outputs": [],
   "source": [
    "def findTopRoot(skills):\n",
    "    li  = [i*0 for i in range(len(skills)+2)]\n",
    "    li[0] = -1\n",
    "    for item in skills : \n",
    "        li[item[1]] = item[0]\n",
    "    topRootNum = li.index(0)\n",
    "    return topRootNum"
   ]
  },
  {
   "cell_type": "code",
   "execution_count": 59,
   "metadata": {
    "ExecuteTime": {
     "end_time": "2020-05-23T02:39:23.543489Z",
     "start_time": "2020-05-23T02:39:23.534518Z"
    }
   },
   "outputs": [],
   "source": [
    "def dfs(skidx, adjList, ratioList):\n",
    "    if len(adjList[skidx]) == 0:\n",
    "        ratioList[skidx] = 1\n",
    "        return ratioList[skidx]\n",
    "    else :       \n",
    "        for item  in adjList[skidx]:\n",
    "            ratioList[skidx] += dfs(item, adjList, ratioList)\n",
    "        return ratioList[skidx]"
   ]
  },
  {
   "cell_type": "code",
   "execution_count": 60,
   "metadata": {
    "ExecuteTime": {
     "end_time": "2020-05-23T02:39:23.727996Z",
     "start_time": "2020-05-23T02:39:23.717030Z"
    }
   },
   "outputs": [],
   "source": [
    "def makeAdjList(skills):\n",
    "    adjList = []\n",
    "    for i in range(len(skills)+2):\n",
    "        adjList.append([])\n",
    "    for item in skills : \n",
    "        adjList[item[0]].append(item[1])\n",
    "    return adjList"
   ]
  },
  {
   "cell_type": "code",
   "execution_count": 61,
   "metadata": {
    "ExecuteTime": {
     "end_time": "2020-05-23T02:39:24.373278Z",
     "start_time": "2020-05-23T02:39:24.359305Z"
    }
   },
   "outputs": [],
   "source": [
    "def solution(total_sp, skills):\n",
    "    answer = []\n",
    "    \n",
    "    topRootNum = findTopRoot(skills)\n",
    "    # 1. 최상위 루트 찾기\n",
    "    \n",
    "    adjList = makeAdjList(skills)\n",
    "    # 2-1 dfs 환경 구축. 인접 리스트\n",
    "    \n",
    "    ratioList =[ 0 for i in range(len(adjList))]\n",
    "    dfs(topRootNum, adjList,ratioList)\n",
    "    # 2. dfs 하기. 그결과를 ratioList에 저장하기.\n",
    "    \n",
    "    minimum_sp = int(total_sp / sum(ratioList))\n",
    "    # 3. minimum_sp  = total_sp / (ratio List 값의 합)\n",
    "    \n",
    "    for idx in range (1,len(skills) +2):\n",
    "        answer.append(minimum_sp * ratioList[idx])\n",
    "    # 4. minimum_sp * ratioLIst 각각 해두기.\n",
    "    return answer"
   ]
  },
  {
   "cell_type": "code",
   "execution_count": 62,
   "metadata": {
    "ExecuteTime": {
     "end_time": "2020-05-23T02:40:02.571782Z",
     "start_time": "2020-05-23T02:40:02.537874Z"
    }
   },
   "outputs": [
    {
     "ename": "TypeError",
     "evalue": "'int' object is not callable",
     "output_type": "error",
     "traceback": [
      "\u001b[1;31m---------------------------------------------------------------------------\u001b[0m",
      "\u001b[1;31mTypeError\u001b[0m                                 Traceback (most recent call last)",
      "\u001b[1;32m<ipython-input-62-feff7b53e3c8>\u001b[0m in \u001b[0;36m<module>\u001b[1;34m\u001b[0m\n\u001b[0;32m      2\u001b[0m \u001b[0mskills\u001b[0m \u001b[1;33m=\u001b[0m\u001b[1;33m[\u001b[0m\u001b[1;33m[\u001b[0m\u001b[1;36m1\u001b[0m\u001b[1;33m,\u001b[0m \u001b[1;36m2\u001b[0m\u001b[1;33m]\u001b[0m\u001b[1;33m,\u001b[0m \u001b[1;33m[\u001b[0m\u001b[1;36m1\u001b[0m\u001b[1;33m,\u001b[0m \u001b[1;36m3\u001b[0m\u001b[1;33m]\u001b[0m\u001b[1;33m,\u001b[0m \u001b[1;33m[\u001b[0m\u001b[1;36m3\u001b[0m\u001b[1;33m,\u001b[0m \u001b[1;36m6\u001b[0m\u001b[1;33m]\u001b[0m\u001b[1;33m,\u001b[0m \u001b[1;33m[\u001b[0m\u001b[1;36m3\u001b[0m\u001b[1;33m,\u001b[0m \u001b[1;36m4\u001b[0m\u001b[1;33m]\u001b[0m\u001b[1;33m,\u001b[0m \u001b[1;33m[\u001b[0m\u001b[1;36m3\u001b[0m\u001b[1;33m,\u001b[0m \u001b[1;36m5\u001b[0m\u001b[1;33m]\u001b[0m\u001b[1;33m]\u001b[0m\u001b[1;33m\u001b[0m\u001b[1;33m\u001b[0m\u001b[0m\n\u001b[0;32m      3\u001b[0m \u001b[1;33m\u001b[0m\u001b[0m\n\u001b[1;32m----> 4\u001b[1;33m \u001b[0msolution\u001b[0m\u001b[1;33m(\u001b[0m\u001b[0mtotal_sp\u001b[0m\u001b[1;33m,\u001b[0m \u001b[0mskills\u001b[0m\u001b[1;33m)\u001b[0m\u001b[1;33m\u001b[0m\u001b[1;33m\u001b[0m\u001b[0m\n\u001b[0m",
      "\u001b[1;32m<ipython-input-61-322418b324f1>\u001b[0m in \u001b[0;36msolution\u001b[1;34m(total_sp, skills)\u001b[0m\n\u001b[0;32m     12\u001b[0m     \u001b[1;31m# 2. dfs 하기. 그결과를 ratioList에 저장하기.\u001b[0m\u001b[1;33m\u001b[0m\u001b[1;33m\u001b[0m\u001b[1;33m\u001b[0m\u001b[0m\n\u001b[0;32m     13\u001b[0m \u001b[1;33m\u001b[0m\u001b[0m\n\u001b[1;32m---> 14\u001b[1;33m     \u001b[0mminimum_sp\u001b[0m \u001b[1;33m=\u001b[0m \u001b[0mint\u001b[0m\u001b[1;33m(\u001b[0m\u001b[0mtotal_sp\u001b[0m \u001b[1;33m/\u001b[0m \u001b[0msum\u001b[0m\u001b[1;33m(\u001b[0m\u001b[0mratioList\u001b[0m\u001b[1;33m)\u001b[0m\u001b[1;33m)\u001b[0m\u001b[1;33m\u001b[0m\u001b[1;33m\u001b[0m\u001b[0m\n\u001b[0m\u001b[0;32m     15\u001b[0m     \u001b[1;31m# 3. minimum_sp  = total_sp / (ratio List 값의 합)\u001b[0m\u001b[1;33m\u001b[0m\u001b[1;33m\u001b[0m\u001b[1;33m\u001b[0m\u001b[0m\n\u001b[0;32m     16\u001b[0m \u001b[1;33m\u001b[0m\u001b[0m\n",
      "\u001b[1;31mTypeError\u001b[0m: 'int' object is not callable"
     ]
    }
   ],
   "source": [
    "total_sp = 121\n",
    "skills =[[1, 2], [1, 3], [3, 6], [3, 4], [3, 5]]\n",
    "\n",
    "solution(total_sp, skills)"
   ]
  },
  {
   "cell_type": "code",
   "execution_count": null,
   "metadata": {},
   "outputs": [],
   "source": [
    "def dfs(topRootNum, adjList):\n",
    "    "
   ]
  },
  {
   "cell_type": "code",
   "execution_count": 52,
   "metadata": {
    "ExecuteTime": {
     "end_time": "2020-05-23T02:11:14.216592Z",
     "start_time": "2020-05-23T02:11:14.211603Z"
    }
   },
   "outputs": [],
   "source": [
    "adjList = makeAdjList(skills)"
   ]
  },
  {
   "cell_type": "code",
   "execution_count": 53,
   "metadata": {
    "ExecuteTime": {
     "end_time": "2020-05-23T02:11:22.184923Z",
     "start_time": "2020-05-23T02:11:22.176941Z"
    }
   },
   "outputs": [
    {
     "data": {
      "text/plain": [
       "[[], [2, 3], [], [6, 4, 5], [], [], []]"
      ]
     },
     "execution_count": 53,
     "metadata": {},
     "output_type": "execute_result"
    }
   ],
   "source": [
    "adjList"
   ]
  },
  {
   "cell_type": "code",
   "execution_count": 54,
   "metadata": {
    "ExecuteTime": {
     "end_time": "2020-05-23T02:12:26.688506Z",
     "start_time": "2020-05-23T02:12:26.682523Z"
    }
   },
   "outputs": [],
   "source": [
    "visited = [ False for i in range(len(skills)+2)]"
   ]
  },
  {
   "cell_type": "code",
   "execution_count": 55,
   "metadata": {
    "ExecuteTime": {
     "end_time": "2020-05-23T02:12:31.311141Z",
     "start_time": "2020-05-23T02:12:31.303163Z"
    }
   },
   "outputs": [
    {
     "data": {
      "text/plain": [
       "[False, False, False, False, False, False, False]"
      ]
     },
     "execution_count": 55,
     "metadata": {},
     "output_type": "execute_result"
    }
   ],
   "source": [
    "visited"
   ]
  },
  {
   "cell_type": "code",
   "execution_count": 47,
   "metadata": {
    "ExecuteTime": {
     "end_time": "2020-05-23T02:09:21.598755Z",
     "start_time": "2020-05-23T02:09:21.593769Z"
    }
   },
   "outputs": [],
   "source": [
    "# 인접행렬 리스트 만들기.\n",
    "adjList = []\n",
    "for i in range(len(skills)+2):\n",
    "    adjList.append([])\n",
    "    for item in skills : \n",
    "    adjList[item[0]].append(item[1])\n"
   ]
  },
  {
   "cell_type": "code",
   "execution_count": 48,
   "metadata": {
    "ExecuteTime": {
     "end_time": "2020-05-23T02:09:21.971761Z",
     "start_time": "2020-05-23T02:09:21.963779Z"
    }
   },
   "outputs": [
    {
     "data": {
      "text/plain": [
       "[[], [], [], [], [], [], []]"
      ]
     },
     "execution_count": 48,
     "metadata": {},
     "output_type": "execute_result"
    }
   ],
   "source": [
    "adjList"
   ]
  },
  {
   "cell_type": "code",
   "execution_count": 49,
   "metadata": {
    "ExecuteTime": {
     "end_time": "2020-05-23T02:09:30.134932Z",
     "start_time": "2020-05-23T02:09:30.129943Z"
    }
   },
   "outputs": [],
   "source": [
    "for item in skills : \n",
    "    adjList[item[0]].append(item[1])"
   ]
  },
  {
   "cell_type": "code",
   "execution_count": 50,
   "metadata": {
    "ExecuteTime": {
     "end_time": "2020-05-23T02:09:30.627609Z",
     "start_time": "2020-05-23T02:09:30.619633Z"
    }
   },
   "outputs": [
    {
     "data": {
      "text/plain": [
       "[[], [2, 3], [], [6, 4, 5], [], [], []]"
      ]
     },
     "execution_count": 50,
     "metadata": {},
     "output_type": "execute_result"
    }
   ],
   "source": [
    "adjList"
   ]
  },
  {
   "cell_type": "code",
   "execution_count": 27,
   "metadata": {
    "ExecuteTime": {
     "end_time": "2020-05-23T01:54:41.986199Z",
     "start_time": "2020-05-23T01:54:41.980214Z"
    }
   },
   "outputs": [],
   "source": [
    "skills = [[1, 2], [1, 3], [3, 6], [3, 4], [3, 5]]"
   ]
  },
  {
   "cell_type": "code",
   "execution_count": 39,
   "metadata": {
    "ExecuteTime": {
     "end_time": "2020-05-23T02:02:41.641340Z",
     "start_time": "2020-05-23T02:02:41.634364Z"
    }
   },
   "outputs": [
    {
     "data": {
      "text/plain": [
       "1"
      ]
     },
     "execution_count": 39,
     "metadata": {},
     "output_type": "execute_result"
    }
   ],
   "source": [
    "findTopRoot(skills)"
   ]
  },
  {
   "cell_type": "code",
   "execution_count": 28,
   "metadata": {
    "ExecuteTime": {
     "end_time": "2020-05-23T01:55:48.119345Z",
     "start_time": "2020-05-23T01:55:48.114359Z"
    }
   },
   "outputs": [],
   "source": [
    "li  = [i*0 for i in range(len(skills)+2)]\n",
    "#for i in skills"
   ]
  },
  {
   "cell_type": "code",
   "execution_count": 29,
   "metadata": {
    "ExecuteTime": {
     "end_time": "2020-05-23T01:55:49.479708Z",
     "start_time": "2020-05-23T01:55:49.473726Z"
    }
   },
   "outputs": [
    {
     "data": {
      "text/plain": [
       "[0, 0, 0, 0, 0, 0, 0]"
      ]
     },
     "execution_count": 29,
     "metadata": {},
     "output_type": "execute_result"
    }
   ],
   "source": [
    "li"
   ]
  },
  {
   "cell_type": "code",
   "execution_count": 31,
   "metadata": {
    "ExecuteTime": {
     "end_time": "2020-05-23T01:57:44.501725Z",
     "start_time": "2020-05-23T01:57:44.497739Z"
    }
   },
   "outputs": [],
   "source": [
    "for item in skills : \n",
    "    li[item[1]] = item[0]"
   ]
  },
  {
   "cell_type": "code",
   "execution_count": 32,
   "metadata": {
    "ExecuteTime": {
     "end_time": "2020-05-23T01:57:48.040072Z",
     "start_time": "2020-05-23T01:57:48.034088Z"
    }
   },
   "outputs": [
    {
     "data": {
      "text/plain": [
       "[0, 0, 1, 1, 3, 3, 3]"
      ]
     },
     "execution_count": 32,
     "metadata": {},
     "output_type": "execute_result"
    }
   ],
   "source": [
    "li"
   ]
  },
  {
   "cell_type": "code",
   "execution_count": 33,
   "metadata": {
    "ExecuteTime": {
     "end_time": "2020-05-23T01:59:31.512728Z",
     "start_time": "2020-05-23T01:59:31.505746Z"
    }
   },
   "outputs": [],
   "source": [
    "li  = [i*0 for i in range(len(skills)+2)]"
   ]
  },
  {
   "cell_type": "code",
   "execution_count": null,
   "metadata": {},
   "outputs": [],
   "source": [
    "for i in range(li)\n",
    "\n",
    "\n",
    "# list 에 find 같은 거 쓸수 있나????"
   ]
  },
  {
   "cell_type": "code",
   "execution_count": 37,
   "metadata": {
    "ExecuteTime": {
     "end_time": "2020-05-23T02:00:03.345980Z",
     "start_time": "2020-05-23T02:00:03.338001Z"
    }
   },
   "outputs": [
    {
     "data": {
      "text/plain": [
       "1"
      ]
     },
     "execution_count": 37,
     "metadata": {},
     "output_type": "execute_result"
    }
   ],
   "source": [
    "li.index(0)"
   ]
  },
  {
   "cell_type": "code",
   "execution_count": null,
   "metadata": {},
   "outputs": [],
   "source": []
  }
 ],
 "metadata": {
  "hide_input": false,
  "kernelspec": {
   "display_name": "Python 3",
   "language": "python",
   "name": "python3"
  },
  "language_info": {
   "codemirror_mode": {
    "name": "ipython",
    "version": 3
   },
   "file_extension": ".py",
   "mimetype": "text/x-python",
   "name": "python",
   "nbconvert_exporter": "python",
   "pygments_lexer": "ipython3",
   "version": "3.7.6"
  },
  "toc": {
   "base_numbering": 1,
   "nav_menu": {},
   "number_sections": true,
   "sideBar": true,
   "skip_h1_title": false,
   "title_cell": "Table of Contents",
   "title_sidebar": "Contents",
   "toc_cell": false,
   "toc_position": {},
   "toc_section_display": true,
   "toc_window_display": false
  },
  "varInspector": {
   "cols": {
    "lenName": 16,
    "lenType": 16,
    "lenVar": 40
   },
   "kernels_config": {
    "python": {
     "delete_cmd_postfix": "",
     "delete_cmd_prefix": "del ",
     "library": "var_list.py",
     "varRefreshCmd": "print(var_dic_list())"
    },
    "r": {
     "delete_cmd_postfix": ") ",
     "delete_cmd_prefix": "rm(",
     "library": "var_list.r",
     "varRefreshCmd": "cat(var_dic_list()) "
    }
   },
   "types_to_exclude": [
    "module",
    "function",
    "builtin_function_or_method",
    "instance",
    "_Feature"
   ],
   "window_display": false
  }
 },
 "nbformat": 4,
 "nbformat_minor": 4
}
