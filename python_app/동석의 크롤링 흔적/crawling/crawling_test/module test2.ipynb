{
 "cells": [
  {
   "cell_type": "code",
   "execution_count": 3,
   "metadata": {
    "collapsed": true
   },
   "outputs": [],
   "source": [
    "import three_calculator"
   ]
  },
  {
   "cell_type": "code",
   "execution_count": 4,
   "metadata": {
    "collapsed": true
   },
   "outputs": [
    {
     "name": "stdout",
     "output_type": "stream",
     "text": [
      "Enter integer 1 :1\n",
      "Enter integer 2 :2\n",
      "Enter integer 3 :3\n"
     ]
    }
   ],
   "source": [
    "x = int(input('Enter integer 1 :'))\n",
    "y = int(input('Enter integer 2 :'))\n",
    "z = int(input('Enter integer 3 :'))"
   ]
  },
  {
   "cell_type": "markdown",
   "metadata": {},
   "source": [
    "# asdfasdf\n"
   ]
  },
  {
   "cell_type": "code",
   "execution_count": 10,
   "metadata": {},
   "outputs": [
    {
     "name": "stdout",
     "output_type": "stream",
     "text": [
      "add : 6\n",
      "multiply : 6\n",
      "caculate for : 3 numbers\n"
     ]
    }
   ],
   "source": [
    "answer1 = three_calculator.add_three(x,y,z)\n",
    "answer2 = three_calculator.multiply_three(x,y,z)\n",
    "print('add : {}'.format(answer1))\n",
    "print('multiply : {}'.format(answer2))\n",
    "print('caculate for : {} numbers'.format(three_calculator.count))"
   ]
  },
  {
   "cell_type": "code",
   "execution_count": null,
   "metadata": {},
   "outputs": [],
   "source": []
  }
 ],
 "metadata": {
  "kernelspec": {
   "display_name": "Python 3",
   "language": "python",
   "name": "python3"
  },
  "language_info": {
   "codemirror_mode": {
    "name": "ipython",
    "version": 3
   },
   "file_extension": ".py",
   "mimetype": "text/x-python",
   "name": "python",
   "nbconvert_exporter": "python",
   "pygments_lexer": "ipython3",
   "version": "3.7.6"
  }
 },
 "nbformat": 4,
 "nbformat_minor": 4
}
