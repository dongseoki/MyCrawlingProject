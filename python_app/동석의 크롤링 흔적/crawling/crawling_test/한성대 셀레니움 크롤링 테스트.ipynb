{
 "cells": [
  {
   "cell_type": "markdown",
   "metadata": {},
   "source": [
    "## 임포트"
   ]
  },
  {
   "cell_type": "code",
   "execution_count": 1,
   "metadata": {
    "ExecuteTime": {
     "end_time": "2020-05-31T04:03:05.746611Z",
     "start_time": "2020-05-31T04:03:01.591667Z"
    }
   },
   "outputs": [],
   "source": [
    "#from ../GoogleCloudRun/GoogleCloudPlatformContainer/PythonApplication_Crawling/library import *\n",
    "#from ... import library\n",
    "import os\n",
    "import sys\n",
    "result = os.path.dirname(os.path.abspath(os.path.dirname('__file__')))\n",
    "sys.path.append(os.path.dirname(os.path.abspath(os.path.dirname('__file__'))))\n",
    "\n",
    "#C:\\GitHub\\SDDH\\crawling\\Googl|eCloudRun\\GoogleCloudPlatformContainer\\PythonApplication_Crawling\n",
    "crawlingPath = 'C:\\\\GitHub\\\\SDDH\\\\crawling\\\\GoogleCloudRun\\\\GoogleCloudPlatformContainer\\\\PythonApplication_Crawling'\n",
    "sys.path.append(crawlingPath)\n",
    "\n",
    "from GoogleCloudRun.GoogleCloudPlatformContainer.PythonApplication_Crawling.library import *\n",
    "from GoogleCloudRun.GoogleCloudPlatformContainer.PythonApplication_Crawling.findLoanStatus import *\n",
    "# python ifdef 가 필요할듯... 그냥 makeSearchUrl 정도는 가져다 쓰자."
   ]
  },
  {
   "cell_type": "markdown",
   "metadata": {},
   "source": [
    "## 책 예시"
   ]
  },
  {
   "cell_type": "code",
   "execution_count": 63,
   "metadata": {
    "ExecuteTime": {
     "end_time": "2020-05-26T05:57:16.395723Z",
     "start_time": "2020-05-26T05:57:16.388770Z"
    },
    "scrolled": true
   },
   "outputs": [
    {
     "name": "stdout",
     "output_type": "stream",
     "text": [
      "%ED%98%84%EB%8C%80%EC%86%8C%EC%84%A4%EA%B3%BC%20%EB%B6%84%EB%8B%A8%EC%9D%98%20%ED%8A%B8%EB%9D%BC%EC%9A%B0%EB%A7%88%20%3D%20Modern%20novels%20and%20the%20trauma%20of%20division\n"
     ]
    }
   ],
   "source": [
    "ISBN = '9788956268279'\n",
    "koreaTitle = '현대소설과 분단의 트라우마 = Modern novels and the trauma of division'\n",
    "title = parse.quote(koreaTitle)\n",
    "print(title)"
   ]
  },
  {
   "cell_type": "code",
   "execution_count": 39,
   "metadata": {
    "ExecuteTime": {
     "end_time": "2020-05-31T04:42:17.070407Z",
     "start_time": "2020-05-31T04:42:17.062435Z"
    }
   },
   "outputs": [
    {
     "name": "stdout",
     "output_type": "stream",
     "text": [
      "%EC%A7%80%EC%A0%81%20%EB%8C%80%ED%99%94%EB%A5%BC%20%EC%9C%84%ED%95%9C%20%EB%84%93%EA%B3%A0%20%EC%96%95%EC%9D%80%20%EC%A7%80%EC%8B%9D%20.%20v.1-2\n"
     ]
    }
   ],
   "source": [
    "ISBN = '9791190313186'\n",
    "koreaTitle = '지적 대화를 위한 넓고 얕은 지식 . v.1-2'\n",
    "title = parse.quote(koreaTitle)\n",
    "print(title)"
   ]
  },
  {
   "cell_type": "code",
   "execution_count": 8,
   "metadata": {
    "ExecuteTime": {
     "end_time": "2020-05-31T04:06:20.610444Z",
     "start_time": "2020-05-31T04:06:20.602467Z"
    }
   },
   "outputs": [
    {
     "name": "stdout",
     "output_type": "stream",
     "text": [
      "%ED%8A%B8%EB%A0%8C%EB%93%9C%20%EC%BD%94%EB%A6%AC%EC%95%84%202020%20%3A%EC%84%9C%EC%9A%B8%EB%8C%80%20%EC%86%8C%EB%B9%84%ED%8A%B8%EB%A0%8C%EB%93%9C%EB%B6%84%EC%84%9D%EC%84%BC%ED%84%B0%EC%9D%98%202020%20%EC%A0%84%EB%A7%9D\n"
     ]
    }
   ],
   "source": [
    "ISBN = '9788959896127'\n",
    "koreaTitle = '트렌드 코리아 2020 :서울대 소비트렌드분석센터의 2020 전망'\n",
    "title = parse.quote(koreaTitle)\n",
    "print(title)"
   ]
  },
  {
   "cell_type": "code",
   "execution_count": 82,
   "metadata": {
    "ExecuteTime": {
     "end_time": "2020-05-26T06:09:33.328360Z",
     "start_time": "2020-05-26T06:09:33.322377Z"
    }
   },
   "outputs": [
    {
     "name": "stdout",
     "output_type": "stream",
     "text": [
      "%EC%86%8C%EB%85%84%EC%9D%B4%20%EC%98%A8%EB%8B%A4%20%3A%20%ED%95%9C%EA%B0%95%20%EC%9E%A5%ED%8E%B8%EC%86%8C%EC%84%A4\n"
     ]
    }
   ],
   "source": [
    "#소년이 온다 : 한강 장편소설\n",
    "#9788936434120\n",
    "ISBN = '9788936434120'\n",
    "koreaTitle = '소년이 온다 : 한강 장편소설'\n",
    "title = parse.quote(koreaTitle)\n",
    "print(title)"
   ]
  },
  {
   "cell_type": "code",
   "execution_count": null,
   "metadata": {},
   "outputs": [],
   "source": [
    "ISBN = '9788993163643'\n",
    "koreaTitle = '엔트리 피지컬 컴퓨팅'\n",
    "title = parse.quote(koreaTitle)\n",
    "print(title)"
   ]
  },
  {
   "cell_type": "code",
   "execution_count": 49,
   "metadata": {
    "ExecuteTime": {
     "end_time": "2020-05-26T05:54:02.780380Z",
     "start_time": "2020-05-26T05:54:02.774400Z"
    }
   },
   "outputs": [
    {
     "name": "stdout",
     "output_type": "stream",
     "text": [
      "%EC%9C%A4%EC%84%B1%EC%9A%B0%EC%9D%98%20%EC%97%B4%ED%98%88%20C%2B%2B%20%ED%94%84%EB%A1%9C%EA%B7%B8%EB%9E%98%EB%B0%8D\n"
     ]
    }
   ],
   "source": [
    "ISBN = '9788996094043'\n",
    "koreaTitle = '윤성우의 열혈 C++ 프로그래밍'\n",
    "title = parse.quote(koreaTitle)\n",
    "print(title)"
   ]
  },
  {
   "cell_type": "code",
   "execution_count": 56,
   "metadata": {
    "ExecuteTime": {
     "end_time": "2020-05-31T04:43:28.999422Z",
     "start_time": "2020-05-31T04:43:28.990446Z"
    }
   },
   "outputs": [
    {
     "name": "stdout",
     "output_type": "stream",
     "text": [
      "%EC%9D%B4%EA%B1%B4%20%EC%A0%88%EB%8C%80%EB%A1%9C%20%EC%97%86%EB%8A%94%20%EC%B1%85%EC%9D%B4%EB%8B%A4%20%EC%97%86%EC%9D%84%EA%B1%B0%EC%95%BC\n"
     ]
    }
   ],
   "source": [
    "ISBN = '9788993169999'\n",
    "koreaTitle = '이건 절대로 없는 책이다 없을거야'\n",
    "title = parse.quote(koreaTitle)\n",
    "print(title)"
   ]
  },
  {
   "cell_type": "code",
   "execution_count": 3,
   "metadata": {
    "ExecuteTime": {
     "end_time": "2020-05-31T04:03:33.836576Z",
     "start_time": "2020-05-31T04:03:33.830592Z"
    }
   },
   "outputs": [
    {
     "name": "stdout",
     "output_type": "stream",
     "text": [
      "%ED%98%B8%EB%B0%80%EB%B0%AD%EC%9D%98%20%ED%8C%8C%EC%88%98%EA%BE%BC\n"
     ]
    }
   ],
   "source": [
    "ISBN = '9788937460470'\n",
    "koreaTitle = '호밀밭의 파수꾼'\n",
    "title = parse.quote(koreaTitle)\n",
    "print(title)"
   ]
  },
  {
   "cell_type": "code",
   "execution_count": 13,
   "metadata": {
    "ExecuteTime": {
     "end_time": "2020-05-26T05:42:26.231800Z",
     "start_time": "2020-05-26T05:42:26.227808Z"
    }
   },
   "outputs": [],
   "source": [
    "ISBN = '9788996094050'\n",
    "title = '윤성우의 열혈 C 프로그래밍'"
   ]
  },
  {
   "cell_type": "code",
   "execution_count": 12,
   "metadata": {
    "ExecuteTime": {
     "end_time": "2020-05-23T07:16:04.948994Z",
     "start_time": "2020-05-23T07:16:04.942163Z"
    }
   },
   "outputs": [],
   "source": [
    "ISBN = '9788972756194'\n",
    "title = '나미야 잡화점'"
   ]
  },
  {
   "cell_type": "code",
   "execution_count": 5,
   "metadata": {
    "ExecuteTime": {
     "end_time": "2020-05-31T04:03:49.924535Z",
     "start_time": "2020-05-31T04:03:49.919549Z"
    }
   },
   "outputs": [],
   "source": [
    "ISBN = '9788996991342'\n",
    "title = '미움받을 용기'"
   ]
  },
  {
   "cell_type": "code",
   "execution_count": 43,
   "metadata": {
    "ExecuteTime": {
     "end_time": "2020-05-23T07:27:45.195677Z",
     "start_time": "2020-05-23T07:27:45.190764Z"
    }
   },
   "outputs": [],
   "source": [
    "ISBN = '9788972759999'\n",
    "title = '없는 책'"
   ]
  },
  {
   "cell_type": "markdown",
   "metadata": {},
   "source": [
    "## 크롤링 테스트"
   ]
  },
  {
   "cell_type": "code",
   "execution_count": 57,
   "metadata": {
    "ExecuteTime": {
     "end_time": "2020-05-31T04:43:32.982766Z",
     "start_time": "2020-05-31T04:43:32.975782Z"
    },
    "scrolled": true
   },
   "outputs": [
    {
     "name": "stdout",
     "output_type": "stream",
     "text": [
      "http://hsel.hansung.ac.kr/data_data_list.mir?search_keyword_type1=isbn&search_keyword1=9788993169999&srch_condi_01=AND&search_keyword_type2=author&search_keyword2=&srch_condi_02=AND&search_keyword_type3=subject&search_keyword3=&srch_condi_03=%E2%96%B2&select_current_sort_type=&select_current_sort_order=&select_current_per_page_num=10&basic_list=list&current_per_page_num=10&current_sort_type=&current_sort_order=&MAXI=1000&mloc_code=HSEL&facet_limit_search_field_code=&scope_code=&mtype_code=M&type_code=\n"
     ]
    }
   ],
   "source": [
    "print(makeSearchUrl(ISBN, title, HS_CODE,1))"
   ]
  },
  {
   "cell_type": "code",
   "execution_count": 58,
   "metadata": {
    "ExecuteTime": {
     "end_time": "2020-05-31T04:44:14.032156Z",
     "start_time": "2020-05-31T04:44:01.117707Z"
    }
   },
   "outputs": [],
   "source": [
    "import re\n",
    "\n",
    "import time\n",
    "from selenium import webdriver\n",
    "from selenium.webdriver.chrome.options import Options\n",
    "\n",
    "from selenium.webdriver.common.by import By\n",
    "from selenium.webdriver.support.ui import WebDriverWait\n",
    "from selenium.webdriver.support import expected_conditions as EC\n",
    "\n",
    "from bs4 import BeautifulSoup\n",
    "import copy\n",
    "\n",
    "options = Options()\n",
    "options.headless = True\n",
    "browser = webdriver.Chrome(executable_path=\"./chromedriver.exe\", options=options)\n",
    "browser.get(makeSearchUrl(ISBN, title, HS_CODE,1))\n",
    "#대출중 있는 것\n",
    "\n",
    "\n",
    "\n",
    "#9788953934283 새로운 케이스\n",
    "#browser.get('https://library.daejin.ac.kr/data_data_list.mir?search_keyword_type1=isbn&search_keyword1=9788953934283&srch_condi_01=AND&search_keyword_type2=author&search_keyword2=&srch_condi_02=AND&search_keyword_type3=subject&search_keyword3=&srch_condi_03=%E2%96%B2&select_current_sort_type=&select_current_sort_order=&select_current_per_page_num=10&basic_list=list&current_per_page_num=10&current_sort_type=&current_sort_order=&MAXI=1000&mloc_code=DJUL&facet_limit_search_field_code=&scope_code=&mtype_code=M&type_code=')\n",
    "# 되는 케이스\n",
    "\n",
    "#browser.get('https://discover.duksung.ac.kr/#/search/ex?isbn=1%7Ck%7Ca%7C9788934985099&material-type=1')\n",
    "#안되는 케이스"
   ]
  },
  {
   "cell_type": "code",
   "execution_count": 59,
   "metadata": {
    "ExecuteTime": {
     "end_time": "2020-05-31T04:44:16.035795Z",
     "start_time": "2020-05-31T04:44:15.860265Z"
    }
   },
   "outputs": [
    {
     "name": "stdout",
     "output_type": "stream",
     "text": [
      "http://hsel.hansung.ac.kr/data_data_list.mir?search_keyword_type1=isbn&search_keyword1=9788993169999&srch_condi_01=AND&search_keyword_type2=author&search_keyword2=&srch_condi_02=AND&search_keyword_type3=subject&search_keyword3=&srch_condi_03=%E2%96%B2&select_current_sort_type=&select_current_sort_order=&select_current_per_page_num=10&basic_list=list&current_per_page_num=10&current_sort_type=&current_sort_order=&MAXI=1000&mloc_code=HSEL&facet_limit_search_field_code=&scope_code=&mtype_code=M&type_code=\n"
     ]
    }
   ],
   "source": [
    "print(browser.current_url)"
   ]
  },
  {
   "cell_type": "code",
   "execution_count": 60,
   "metadata": {
    "ExecuteTime": {
     "end_time": "2020-05-31T04:44:19.983234Z",
     "start_time": "2020-05-31T04:44:17.827005Z"
    }
   },
   "outputs": [
    {
     "name": "stdout",
     "output_type": "stream",
     "text": [
      "예외가 발생! 찾는 책이 없음\n"
     ]
    }
   ],
   "source": [
    "linkXpath ='//*[@id=\"content_data\"]/form/div[2]/table/tbody/tr[1]/td[3]/a'\n",
    "\n",
    "\n",
    "#$(SELECTOR)\n",
    "browserCheckXpath = '//*[@id=\"content_header\"]/div/h4'\n",
    "#소장검색 이라는 단어\n",
    "\n",
    "try:\n",
    "    WebDriverWait(browser, 120).until(EC.presence_of_element_located((By.XPATH, browserCheckXpath)))\n",
    "    linkElement = WebDriverWait(browser, 2).until(EC.presence_of_element_located((By.XPATH, linkXpath)))\n",
    "    #linkElement = browser.find_element_by_xpath(linkXpath)\n",
    "    # 오류가능성.\n",
    "    if linkElement.text == '':\n",
    "        linkElement = -1\n",
    "except :\n",
    "    print('예외가 발생! 찾는 책이 없음')\n",
    "    linkElement = -1"
   ]
  },
  {
   "cell_type": "code",
   "execution_count": 61,
   "metadata": {
    "ExecuteTime": {
     "end_time": "2020-05-31T04:44:22.046715Z",
     "start_time": "2020-05-31T04:44:22.028761Z"
    }
   },
   "outputs": [
    {
     "ename": "AttributeError",
     "evalue": "'int' object has no attribute 'text'",
     "output_type": "error",
     "traceback": [
      "\u001b[1;31m---------------------------------------------------------------------------\u001b[0m",
      "\u001b[1;31mAttributeError\u001b[0m                            Traceback (most recent call last)",
      "\u001b[1;32m<ipython-input-61-5b59e98da175>\u001b[0m in \u001b[0;36m<module>\u001b[1;34m\u001b[0m\n\u001b[1;32m----> 1\u001b[1;33m \u001b[0mlinkElement\u001b[0m\u001b[1;33m.\u001b[0m\u001b[0mtext\u001b[0m\u001b[1;33m\u001b[0m\u001b[1;33m\u001b[0m\u001b[0m\n\u001b[0m",
      "\u001b[1;31mAttributeError\u001b[0m: 'int' object has no attribute 'text'"
     ]
    }
   ],
   "source": [
    "linkElement.text"
   ]
  },
  {
   "cell_type": "code",
   "execution_count": 46,
   "metadata": {
    "ExecuteTime": {
     "end_time": "2020-05-31T04:43:04.594411Z",
     "start_time": "2020-05-31T04:43:04.586430Z"
    }
   },
   "outputs": [
    {
     "name": "stdout",
     "output_type": "stream",
     "text": [
      "success\n"
     ]
    }
   ],
   "source": [
    "if linkElement == -1 :\n",
    "    print('-1...')\n",
    "else : \n",
    "    print('success')"
   ]
  },
  {
   "cell_type": "code",
   "execution_count": 47,
   "metadata": {
    "ExecuteTime": {
     "end_time": "2020-05-31T04:43:07.077763Z",
     "start_time": "2020-05-31T04:43:05.428178Z"
    }
   },
   "outputs": [],
   "source": [
    "linkElement.click()"
   ]
  },
  {
   "cell_type": "code",
   "execution_count": 48,
   "metadata": {
    "ExecuteTime": {
     "end_time": "2020-05-31T04:43:07.854959Z",
     "start_time": "2020-05-31T04:43:07.832019Z"
    }
   },
   "outputs": [
    {
     "name": "stdout",
     "output_type": "stream",
     "text": [
      "http://hsel.hansung.ac.kr/data_view.mir?current_sort_type=&current_sort_order=&basic_list=list&current_per_page_num=10&search_keyword1=9791190313186&search_keyword2=&search_keyword3=&search_keyword_type1=isbn&search_keyword_type2=author&search_keyword_type3=subject&srch_condi_01=AND&srch_condi_02=AND&page_num=1&scope_code=&mtype_code=M&type_code=&palloc=&search_re_yn=&search_keyword_re=&search_keyword_type_re=&search_keyword_type1_re_add=&search_keyword1_re_add=&facet_limit_search_field_code=&facet_limit_search_start_pub_year=&facet_limit_search_end_pub_year=&rno=1361379&hloc_code=HSEL&all_hloc_code=\n"
     ]
    }
   ],
   "source": [
    "print(browser.current_url)"
   ]
  },
  {
   "cell_type": "code",
   "execution_count": 49,
   "metadata": {
    "ExecuteTime": {
     "end_time": "2020-05-31T04:43:10.181756Z",
     "start_time": "2020-05-31T04:43:08.966007Z"
    }
   },
   "outputs": [],
   "source": [
    "browserCheckXpath = '//*[@id=\"content_header\"]/div/h4'\n",
    "#상세정보라는 단어\n",
    "\n",
    "try:\n",
    "    WebDriverWait(browser, 120).until(EC.presence_of_element_located((By.XPATH, browserCheckXpath)))\n",
    "except :\n",
    "    print('error detected')\n",
    "\n",
    "time.sleep(1)\n",
    "html = browser.page_source\n",
    "bsObject=BeautifulSoup(html, 'html.parser')\n",
    "strISBNIncluded = str(bsObject.select('#panel > div.data_view > div > div.data_view_right.col-sm-9'))"
   ]
  },
  {
   "cell_type": "code",
   "execution_count": 50,
   "metadata": {
    "ExecuteTime": {
     "end_time": "2020-05-31T04:43:10.523837Z",
     "start_time": "2020-05-31T04:43:10.513864Z"
    }
   },
   "outputs": [
    {
     "data": {
      "text/plain": [
       "'[<div class=\"data_view_right col-sm-9\">\\n<div class=\"well well-sm\">\\n<div class=\"form-group\">\\n<label class=\"col-sm-2 control-label\">서명/저자사항 : </label>\\n<div class=\"col-sm-10\">\\n\\t\\t\\t\\t\\t\\t\\t\\t\\t\\t\\t\\t\\t\\t\\t\\t\\t\\t\\t\\t\\t지적 대화를 위한 넓고 얕은 지식/ 채사장 지음</div>\\n</div>\\n<div class=\"form-group\">\\n<label class=\"col-sm-2 control-label\">개인저자 : </label>\\n<div class=\"col-sm-10\">\\n<a href=\"javascript:data_tail_search_submit(\\'A\\',\\'채사장\\');\" style=\"text-decoration:underline;\">채사장</a>\\n<br/>\\n</div>\\n</div>\\n<div class=\"form-group\">\\n<label class=\"col-sm-2 control-label\">발행사항 : </label>\\n<div class=\"col-sm-10\">\\n\\t\\t\\t\\t\\t\\t\\t\\t\\t\\t\\t\\t\\t\\t\\t\\t\\t\\t\\t\\t\\t서울 :  웨일북 2020.</div>\\n</div>\\n<div class=\"form-group\">\\n<label class=\"col-sm-2 control-label\">판사항 : </label>\\n<div class=\"col-sm-10\">\\n\\t\\t\\t\\t\\t\\t\\t\\t\\t\\t\\t\\t\\t\\t\\t\\t\\t\\t\\t\\t\\t개정증보판[실은 2판]</div>\\n</div>\\n<div class=\"form-group\">\\n<label class=\"col-sm-2 control-label\">형태사항 : </label>\\n<div class=\"col-sm-10\">\\n\\t\\t\\t\\t\\t\\t\\t\\t\\t\\t\\t\\t\\t\\t\\t\\t\\t\\t\\t\\t\\t2책  삽화 ; 21 cm</div>\\n</div>\\n<div class=\"form-group\">\\n<label class=\"col-sm-2 control-label\">주제어 : </label>\\n<div class=\"col-sm-10\">\\n\\t\\t\\t\\t\\t\\t\\t\\t\\t\\t\\t\\t\\t\\t\\t\\t\\t\\t\\t\\t\\t지식 교양 인문사회과학 인문교양지식</div>\\n</div>\\n<div class=\"form-group\">\\n<label class=\"col-sm-2 control-label\">ISBN/ISSN : </label>\\n<div class=\"col-sm-10\">\\n\\t\\t\\t\\t\\t\\t\\t\\t\\t\\t\\t\\t\\t\\t\\t\\t\\t\\t\\t\\t\\t9791190313186(v.1)<br/> 9791190313193(v.2)<br/></div>\\n</div>\\n<div class=\"form-group\">\\n<label class=\"col-sm-2 control-label\">가격 : </label>\\n<div class=\"col-sm-10\">\\n\\t\\t\\t\\t\\t\\t\\t\\t\\t\\t\\t\\t\\t\\t\\t\\t\\t\\t\\t\\t\\t\\\\32000</div>\\n</div>\\n</div>\\n</div>]'"
      ]
     },
     "execution_count": 50,
     "metadata": {},
     "output_type": "execute_result"
    }
   ],
   "source": [
    "strISBNIncluded"
   ]
  },
  {
   "cell_type": "code",
   "execution_count": 51,
   "metadata": {
    "ExecuteTime": {
     "end_time": "2020-05-31T04:43:12.685057Z",
     "start_time": "2020-05-31T04:43:12.676080Z"
    }
   },
   "outputs": [
    {
     "name": "stdout",
     "output_type": "stream",
     "text": [
      "True\n",
      "False\n",
      "False\n",
      "False\n"
     ]
    }
   ],
   "source": [
    "print(compareISBN(strISBNIncluded, ISBN))\n",
    "print(compareISBN(strISBNIncluded, '9791186757093'))\n",
    "print(compareISBN(strISBNIncluded, '9791186757091'))\n",
    "print(compareISBN(strISBNIncluded, '9788993163643'))"
   ]
  },
  {
   "cell_type": "code",
   "execution_count": 52,
   "metadata": {
    "ExecuteTime": {
     "end_time": "2020-05-31T04:43:13.975603Z",
     "start_time": "2020-05-31T04:43:13.950673Z"
    }
   },
   "outputs": [],
   "source": [
    "loanResultListSelectPath = '#panel > div.table_list_default.table_list_responsive.table_data_box > table > tbody'\n",
    "loanResultList =bsObject.select(loanResultListSelectPath)[0].find_all('tr')"
   ]
  },
  {
   "cell_type": "code",
   "execution_count": 53,
   "metadata": {
    "ExecuteTime": {
     "end_time": "2020-05-31T04:43:15.038765Z",
     "start_time": "2020-05-31T04:43:15.028785Z"
    }
   },
   "outputs": [
    {
     "data": {
      "text/plain": [
       "2"
      ]
     },
     "execution_count": 53,
     "metadata": {},
     "output_type": "execute_result"
    }
   ],
   "source": [
    "len(loanResultList)"
   ]
  },
  {
   "cell_type": "code",
   "execution_count": 54,
   "metadata": {
    "ExecuteTime": {
     "end_time": "2020-05-31T04:43:16.230572Z",
     "start_time": "2020-05-31T04:43:16.222591Z"
    }
   },
   "outputs": [],
   "source": [
    "def compareCampus(text, ISBN):\n",
    "    regex = re.compile(ISBN)\n",
    "    matchObj = regex.search(text)\n",
    "    if matchObj is None :\n",
    "        return False\n",
    "    else:\n",
    "        return True"
   ]
  },
  {
   "cell_type": "code",
   "execution_count": 55,
   "metadata": {
    "ExecuteTime": {
     "end_time": "2020-05-31T04:43:17.629826Z",
     "start_time": "2020-05-31T04:43:17.607886Z"
    }
   },
   "outputs": [
    {
     "name": "stdout",
     "output_type": "stream",
     "text": [
      "0758472\n",
      "001 ㅊ166ㅈ2v.1\n",
      "5층(인문,자연과학자료실)\n",
      "대출중 0\n",
      "2020-06-15\n",
      "\n",
      "0758473\n",
      "001 ㅊ166ㅈ2v.2\n",
      "5층(인문,자연과학자료실)\n",
      "대출중 0\n",
      "2020-06-01\n",
      "\n"
     ]
    }
   ],
   "source": [
    "for loanResult in loanResultList:\n",
    "    RDD = ''\n",
    "    content = loanResult.find_all('td')\n",
    "    errorMessage = ''\n",
    "    RN = content[0].find('span').text.strip()\n",
    "    CN = content[3].text.strip()\n",
    "    POS = content[1].text.strip()\n",
    "    STATE_STRING = content[4].text.strip()\n",
    "    STATE = findState(STATE_STRING)\n",
    "    if STATE == 0 :\n",
    "        RDD  =content[5].text.strip()\n",
    "        \n",
    "    #RDD = content[5].text.strip()\n",
    "    print(RN)\n",
    "    print(CN)\n",
    "    print(POS)\n",
    "    print(STATE_STRING, STATE)\n",
    "    #print(STATE_STRING)\n",
    "    print(RDD)\n",
    "    print()\n",
    "    #print(content[8])\n",
    "        \n",
    "    #print('등록번호 : ', item)"
   ]
  },
  {
   "cell_type": "code",
   "execution_count": null,
   "metadata": {},
   "outputs": [],
   "source": []
  }
 ],
 "metadata": {
  "hide_input": false,
  "kernelspec": {
   "display_name": "Python 3",
   "language": "python",
   "name": "python3"
  },
  "language_info": {
   "codemirror_mode": {
    "name": "ipython",
    "version": 3
   },
   "file_extension": ".py",
   "mimetype": "text/x-python",
   "name": "python",
   "nbconvert_exporter": "python",
   "pygments_lexer": "ipython3",
   "version": "3.7.6"
  },
  "toc": {
   "base_numbering": 1,
   "nav_menu": {},
   "number_sections": true,
   "sideBar": true,
   "skip_h1_title": false,
   "title_cell": "Table of Contents",
   "title_sidebar": "Contents",
   "toc_cell": false,
   "toc_position": {
    "height": "calc(100% - 180px)",
    "left": "10px",
    "top": "150px",
    "width": "304.475px"
   },
   "toc_section_display": true,
   "toc_window_display": true
  },
  "varInspector": {
   "cols": {
    "lenName": 16,
    "lenType": 16,
    "lenVar": 40
   },
   "kernels_config": {
    "python": {
     "delete_cmd_postfix": "",
     "delete_cmd_prefix": "del ",
     "library": "var_list.py",
     "varRefreshCmd": "print(var_dic_list())"
    },
    "r": {
     "delete_cmd_postfix": ") ",
     "delete_cmd_prefix": "rm(",
     "library": "var_list.r",
     "varRefreshCmd": "cat(var_dic_list()) "
    }
   },
   "types_to_exclude": [
    "module",
    "function",
    "builtin_function_or_method",
    "instance",
    "_Feature"
   ],
   "window_display": false
  }
 },
 "nbformat": 4,
 "nbformat_minor": 4
}
