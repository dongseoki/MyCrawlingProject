{
 "cells": [
  {
   "cell_type": "code",
   "execution_count": 2,
   "metadata": {},
   "outputs": [],
   "source": [
    "import re"
   ]
  },
  {
   "cell_type": "code",
   "execution_count": 3,
   "metadata": {},
   "outputs": [],
   "source": [
    "stateDict = {'대출중': 0, '예약도서대출중':0,'이용가능':1,'대출가능':1, '지정도서':2}"
   ]
  },
  {
   "cell_type": "code",
   "execution_count": 4,
   "metadata": {},
   "outputs": [],
   "source": [
    "test= '예약도서대출중   ~ 2020.02.19'"
   ]
  },
  {
   "cell_type": "code",
   "execution_count": 5,
   "metadata": {},
   "outputs": [],
   "source": [
    "def findState(text, sid = -1):\n",
    "    if (sid == 1):\n",
    "        regex = re.compile('(\\w+)\\s+')\n",
    "        matchObj = regex.search(text)\n",
    "        text = matchObj.group(1)\n",
    "        print(text)\n",
    "        #for test.\n",
    "    try:\n",
    "        STATE = stateDict[text]\n",
    "    except KeyError:\n",
    "        STATE = -1\n",
    "    return STATE"
   ]
  },
  {
   "cell_type": "code",
   "execution_count": 6,
   "metadata": {},
   "outputs": [
    {
     "name": "stdout",
     "output_type": "stream",
     "text": [
      "예약도서대출중\n"
     ]
    },
    {
     "data": {
      "text/plain": [
       "0"
      ]
     },
     "execution_count": 6,
     "metadata": {},
     "output_type": "execute_result"
    }
   ],
   "source": [
    "findState(test,1)"
   ]
  },
  {
   "cell_type": "code",
   "execution_count": 5,
   "metadata": {},
   "outputs": [],
   "source": [
    "def find_RDD(text, sid = -1):\n",
    "    if sid == 1:\n",
    "        regex = re.compile('(\\d\\d\\d\\d)\\.(\\d\\d)\\.(\\d\\d)')\n",
    "        matchObj = regex.search(text)\n",
    "        return matchObj.group(1)+ '-' + matchObj.group(2)+ '-' + matchObj.group(3)\n",
    "    else :\n",
    "        regex = re.compile('\\d\\d\\d\\d\\-\\d\\d\\-\\d\\d')\n",
    "        matchObj = regex.search(text)\n",
    "    return matchObj.group(0)"
   ]
  },
  {
   "cell_type": "code",
   "execution_count": 6,
   "metadata": {},
   "outputs": [
    {
     "data": {
      "text/plain": [
       "'2020-02-19'"
      ]
     },
     "execution_count": 6,
     "metadata": {},
     "output_type": "execute_result"
    }
   ],
   "source": [
    "find_RDD(test, 1)"
   ]
  },
  {
   "cell_type": "code",
   "execution_count": 7,
   "metadata": {},
   "outputs": [],
   "source": [
    "did1 = {1:2 ,2:3}"
   ]
  },
  {
   "cell_type": "code",
   "execution_count": 8,
   "metadata": {},
   "outputs": [
    {
     "name": "stdout",
     "output_type": "stream",
     "text": [
      "{1: 2, 2: 3}\n"
     ]
    }
   ],
   "source": [
    "print(did1)"
   ]
  },
  {
   "cell_type": "code",
   "execution_count": null,
   "metadata": {},
   "outputs": [],
   "source": []
  }
 ],
 "metadata": {
  "kernelspec": {
   "display_name": "Python 3",
   "language": "python",
   "name": "python3"
  },
  "language_info": {
   "codemirror_mode": {
    "name": "ipython",
    "version": 3
   },
   "file_extension": ".py",
   "mimetype": "text/x-python",
   "name": "python",
   "nbconvert_exporter": "python",
   "pygments_lexer": "ipython3",
   "version": "3.7.6"
  }
 },
 "nbformat": 4,
 "nbformat_minor": 4
}
