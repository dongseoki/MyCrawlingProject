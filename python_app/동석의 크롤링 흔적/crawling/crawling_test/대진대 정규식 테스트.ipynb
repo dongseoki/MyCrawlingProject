{
 "cells": [
  {
   "cell_type": "code",
   "execution_count": 1,
   "metadata": {},
   "outputs": [],
   "source": [
    "import re"
   ]
  },
  {
   "cell_type": "code",
   "execution_count": 4,
   "metadata": {},
   "outputs": [],
   "source": [
    "KM_CODE = 1"
   ]
  },
  {
   "cell_type": "code",
   "execution_count": 7,
   "metadata": {},
   "outputs": [],
   "source": [
    "stateDict = {'대출중': 0, '예약도서대출중':0,'이용가능':1,'대출가능':1, '지정도서':2}"
   ]
  },
  {
   "cell_type": "code",
   "execution_count": 8,
   "metadata": {},
   "outputs": [],
   "source": [
    "def findState(text, sid = -1):\n",
    "    if sid == KM_CODE:\n",
    "        regex = re.compile('(\\w+)\\s+')\n",
    "        matchObj = regex.search(text)\n",
    "        text = matchObj.group(1)\n",
    "    # 국민대 의 경우 전처리.\n",
    "\n",
    "    try:\n",
    "        STATE = stateDict[text]\n",
    "    except KeyError:\n",
    "        STATE = -1\n",
    "    return STATE"
   ]
  },
  {
   "cell_type": "code",
   "execution_count": 10,
   "metadata": {},
   "outputs": [
    {
     "data": {
      "text/plain": [
       "1"
      ]
     },
     "execution_count": 10,
     "metadata": {},
     "output_type": "execute_result"
    }
   ],
   "source": [
    "#findState('대출중')\n",
    "findState('대출가능')"
   ]
  },
  {
   "cell_type": "code",
   "execution_count": null,
   "metadata": {},
   "outputs": [],
   "source": []
  }
 ],
 "metadata": {
  "kernelspec": {
   "display_name": "Python 3",
   "language": "python",
   "name": "python3"
  },
  "language_info": {
   "codemirror_mode": {
    "name": "ipython",
    "version": 3
   },
   "file_extension": ".py",
   "mimetype": "text/x-python",
   "name": "python",
   "nbconvert_exporter": "python",
   "pygments_lexer": "ipython3",
   "version": "3.7.6"
  }
 },
 "nbformat": 4,
 "nbformat_minor": 4
}
