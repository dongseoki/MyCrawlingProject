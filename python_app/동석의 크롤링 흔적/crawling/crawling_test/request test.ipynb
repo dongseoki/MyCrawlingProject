{
 "cells": [
  {
   "cell_type": "markdown",
   "metadata": {},
   "source": [
    "## 크롤링 하기 위한 함수 정의 및 임포트"
   ]
  },
  {
   "cell_type": "code",
   "execution_count": 1,
   "metadata": {
    "ExecuteTime": {
     "end_time": "2020-05-31T05:26:15.907572Z",
     "start_time": "2020-05-31T05:26:14.473829Z"
    }
   },
   "outputs": [],
   "source": [
    "from urllib.request import urlopen\n",
    "from bs4 import BeautifulSoup\n",
    "import re\n",
    "import sys, traceback\n",
    "import json\n",
    "import threading\n",
    "import time\n",
    "from urllib import parse\n",
    "import requests \n",
    "#html = urlopen('https://lib.smu.ac.kr/Search/Detail/819033?key=9788988474839&campuscode=00')\n",
    "#bsObject = BeautifulSoup(html, \"html.parser\")"
   ]
  },
  {
   "cell_type": "code",
   "execution_count": 3,
   "metadata": {
    "ExecuteTime": {
     "end_time": "2020-05-26T07:18:18.504073Z",
     "start_time": "2020-05-26T07:18:14.826475Z"
    }
   },
   "outputs": [],
   "source": [
    "#from ../GoogleCloudRun/GoogleCloudPlatformContainer/PythonApplication_Crawling/library import *\n",
    "#from ... import library\n",
    "import os\n",
    "import sys\n",
    "result = os.path.dirname(os.path.abspath(os.path.dirname('__file__')))\n",
    "sys.path.append(os.path.dirname(os.path.abspath(os.path.dirname('__file__'))))\n",
    "\n",
    "#C:\\GitHub\\SDDH\\crawling\\GoogleCloudRun\\GoogleCloudPlatformContainer\\PythonApplication_Crawling\n",
    "crawlingPath = 'C:\\\\GitHub\\\\SDDH\\\\crawling\\\\GoogleCloudRun\\\\GoogleCloudPlatformContainer\\\\PythonApplication_Crawling'\n",
    "sys.path.append(crawlingPath)\n",
    "\n",
    "from GoogleCloudRun.GoogleCloudPlatformContainer.PythonApplication_Crawling.library import *\n",
    "from GoogleCloudRun.GoogleCloudPlatformContainer.PythonApplication_Crawling.findLoanStatus import *\n",
    "# python ifdef 가 필요할듯... 그냥 makeSearchUrl 정도는 가져다 쓰자.\n",
    "\n"
   ]
  },
  {
   "cell_type": "code",
   "execution_count": 4,
   "metadata": {
    "ExecuteTime": {
     "end_time": "2020-05-26T07:18:27.142620Z",
     "start_time": "2020-05-26T07:18:27.136762Z"
    }
   },
   "outputs": [],
   "source": [
    "def makeCrawlingUrl(crawlUrl,ISBN, title, sid = None):\n",
    "    if sid != None :\n",
    "        finalUrl = crawlUrl + '?isbn='+ ISBN + '&title='+ title+ '&sid=' + str(sid)\n",
    "    else:\n",
    "        finalUrl = crawlUrl + '?isbn='+ ISBN + '&title='+ title\n",
    "    return finalUrl\n",
    "\n",
    "#https://us-central1-my-crawling-project.cloudfunctions.net/function-1?\n",
    "\n",
    "functionT = 'https://us-central1-my-crawling-project.cloudfunctions.net/function-1'\n",
    "functionC = 'https://us-central1-my-crawling-project.cloudfunctions.net/function-crawling'\n",
    "functionR = 'https://sddh-crawler-di4on54tsa-uc.a.run.app/'"
   ]
  },
  {
   "cell_type": "markdown",
   "metadata": {},
   "source": [
    "## 구체적인 책 예시"
   ]
  },
  {
   "cell_type": "code",
   "execution_count": 5,
   "metadata": {
    "ExecuteTime": {
     "end_time": "2020-05-26T07:18:37.142716Z",
     "start_time": "2020-05-26T07:18:37.133933Z"
    }
   },
   "outputs": [],
   "source": [
    "ISBN = '9788996094050'\n",
    "koreaTitle = '윤성우의 열혈 C 프로그래밍'\n",
    "title = parse.quote(koreaTitle)\n",
    "# case4.  3개 도서관 검색 테스트\n",
    "#https://kupis.kw.ac.kr/search/detail/CATTOT000000317224?mainLink=/search/tot&briefLink=/search/tot/result?commandType=advanced_A_lmtsn=000000000001_A_lmtsn=000000000003_A_cpp=10_A_range=000000000021_A__inc=on_A__inc=on_A__inc=on_A__inc=on_A__inc=on_A__inc=on_A_lmt0=TOTAL_A_lmt1=TOTAL_A_rf=_A__lmt0=on_A__lmt0=on_A__lmt0=on_A__lmt0=on_A__lmt0=on_A__lmt0=on_A__lmt0=on_A_si=1_A_si=2_A_si=3_A_weight2=_A_weight0=_A_weight1=_A_inc=TOTAL_A_q=%EC%9C%A4%EC%84%B1%EC%9A%B0%EC%9D%98+%EC%97%B4%ED%98%88+C+%ED%94%84%EB%A1%9C%EA%B7%B8%EB%9E%98%EB%B0%8D_A_q=_A_q=_A_b0=and_A_b1=and_A_lmtst=OR_A_lmtst=OR_A_rt=_A_st=KWRD_A_msc=500\n",
    "#https://lib.kookmin.ac.kr/#/search/ex?isbn=1%7Cl%7Ca%7C9788996094050&branch=1&material-type=1\n",
    "#http://lib.smu.ac.kr/Search/?q=9788996094050&searchTruncate=true&campuscode=00"
   ]
  },
  {
   "cell_type": "code",
   "execution_count": 4,
   "metadata": {
    "ExecuteTime": {
     "end_time": "2020-05-25T05:06:14.219142Z",
     "start_time": "2020-05-25T05:06:14.213160Z"
    }
   },
   "outputs": [
    {
     "name": "stdout",
     "output_type": "stream",
     "text": [
      "%20%20\n"
     ]
    }
   ],
   "source": [
    "ISBN = '9788996094050'\n",
    "koreaTitle = '  '\n",
    "title = parse.quote(koreaTitle)\n",
    "print(title)"
   ]
  },
  {
   "cell_type": "code",
   "execution_count": 6,
   "metadata": {
    "ExecuteTime": {
     "end_time": "2020-05-26T07:18:41.616704Z",
     "start_time": "2020-05-26T07:18:41.609869Z"
    }
   },
   "outputs": [],
   "source": [
    "ISBN = '9788972756194'\n",
    "koreaTitle = '나미야 잡화점'\n",
    "title = parse.quote(koreaTitle)"
   ]
  },
  {
   "cell_type": "code",
   "execution_count": 5,
   "metadata": {
    "ExecuteTime": {
     "end_time": "2020-05-16T11:39:42.124466Z",
     "start_time": "2020-05-16T11:39:42.119481Z"
    }
   },
   "outputs": [],
   "source": [
    "ISBN = '9791165075064'\n",
    "koreaTitle = '녹나무의 파수꾼'\n",
    "title = parse.quote(koreaTitle)"
   ]
  },
  {
   "cell_type": "code",
   "execution_count": 5,
   "metadata": {},
   "outputs": [],
   "source": [
    "ISBN = '9788968481093'\n",
    "koreaTitle = '(비즈니스를 위한) 데이터 과학'\n",
    "title = parse.quote(koreaTitle)\n",
    "#'https://us-central1-my-crawling-project.cloudfunctions.net/function-crawling?isbn=9788968481093&title=%EC%9D%B4%EC%9A%A9%ED%95%B4%EC%A3%BC%EC%85%94%EC%84%9C+%EA%B0%90%EC%82%AC%ED%95%A9%EB%8B%88%EB%8B%A4&sid=0'"
   ]
  },
  {
   "cell_type": "code",
   "execution_count": 10,
   "metadata": {},
   "outputs": [],
   "source": [
    "\n",
    "ISBN = '9791186757093'\n",
    "koreaTitle = '자존감 수업 : 하루에 하나, 나를 사랑하게 되는 자존감 회복 훈련'\n",
    "title = parse.quote(koreaTitle)\n"
   ]
  },
  {
   "cell_type": "code",
   "execution_count": 17,
   "metadata": {
    "ExecuteTime": {
     "end_time": "2020-05-17T10:37:30.852208Z",
     "start_time": "2020-05-17T10:37:30.847327Z"
    }
   },
   "outputs": [],
   "source": [
    "KW_CODE = 0\n",
    "ISBN = '9791165340841'\n",
    "koreaTitle = '무례한 시대를 품위 있게 건너는 법'\n",
    "title = parse.quote(koreaTitle)\n"
   ]
  },
  {
   "cell_type": "code",
   "execution_count": 6,
   "metadata": {},
   "outputs": [],
   "source": [
    "ISBN = '9788988474839'\n",
    "koreaTitle = '데이터 분석 전문가 가이드'\n",
    "title = parse.quote(koreaTitle)"
   ]
  },
  {
   "cell_type": "markdown",
   "metadata": {},
   "source": [
    "## 실행해서 결과 보기"
   ]
  },
  {
   "cell_type": "markdown",
   "metadata": {},
   "source": [
    "### 한번 호출 크롤링하기"
   ]
  },
  {
   "cell_type": "code",
   "execution_count": 6,
   "metadata": {
    "ExecuteTime": {
     "end_time": "2020-05-23T07:57:49.999156Z",
     "start_time": "2020-05-23T07:57:49.994275Z"
    }
   },
   "outputs": [],
   "source": [
    "#url = makeCrawlingUrl(functionR, ISBN, title)\n",
    "url = makeCrawlingUrl(functionR, ISBN, title, 3)"
   ]
  },
  {
   "cell_type": "code",
   "execution_count": null,
   "metadata": {
    "ExecuteTime": {
     "end_time": "2020-05-23T07:57:50.113349Z",
     "start_time": "2020-05-23T07:57:49.925Z"
    }
   },
   "outputs": [],
   "source": [
    "url"
   ]
  },
  {
   "cell_type": "code",
   "execution_count": 8,
   "metadata": {
    "ExecuteTime": {
     "end_time": "2020-05-22T09:16:57.668483Z",
     "start_time": "2020-05-22T09:16:31.431030Z"
    }
   },
   "outputs": [],
   "source": [
    "response = requests.get(url)"
   ]
  },
  {
   "cell_type": "code",
   "execution_count": 9,
   "metadata": {
    "ExecuteTime": {
     "end_time": "2020-05-22T09:16:57.712366Z",
     "start_time": "2020-05-22T09:16:57.705385Z"
    },
    "scrolled": true
   },
   "outputs": [
    {
     "data": {
      "text/plain": [
       "'{\"errorMessage\": \"\", \"sid\": 3, \"loanStatusList\": [{\"errorMessage\": \"\", \"STATE\": 1, \"RN\": \"E0498618\", \"BN\": 0, \"title\": \"(\\\\uc724\\\\uc131\\\\uc6b0\\\\uc758)\\\\uc5f4\\\\ud608 C \\\\ud504\\\\ub85c\\\\uadf8\\\\ub798\\\\ubc0d\", \"RDD\": \"\", \"POS\": \"1\\\\uce35 \\\\uc77c\\\\ubc18\\\\ub3c4\\\\uc11c\\\\uc2e4\", \"CN\": \"005.133 C111\\\\uc730 2010\"}, {\"errorMessage\": \"\", \"STATE\": 1, \"RN\": \"E0539024\", \"BN\": 0, \"title\": \"(\\\\uc724\\\\uc131\\\\uc6b0\\\\uc758)\\\\uc5f4\\\\ud608 C \\\\ud504\\\\ub85c\\\\uadf8\\\\ub798\\\\ubc0d\", \"RDD\": \"\", \"POS\": \"1\\\\uce35 \\\\uc77c\\\\ubc18\\\\ub3c4\\\\uc11c\\\\uc2e4\", \"CN\": \"005.133 C111\\\\uc730 2010 =2\"}, {\"errorMessage\": \"\", \"STATE\": 1, \"RN\": \"E0540079\", \"BN\": 0, \"title\": \"(\\\\uc724\\\\uc131\\\\uc6b0\\\\uc758)\\\\uc5f4\\\\ud608 C \\\\ud504\\\\ub85c\\\\uadf8\\\\ub798\\\\ubc0d\", \"RDD\": \"\", \"POS\": \"1\\\\uce35 \\\\uc77c\\\\ubc18\\\\ub3c4\\\\uc11c\\\\uc2e4\", \"CN\": \"005.133 C111\\\\uc730 2010 =3\"}, {\"errorMessage\": \"\", \"STATE\": 1, \"RN\": \"E0541225\", \"BN\": 0, \"title\": \"(\\\\uc724\\\\uc131\\\\uc6b0\\\\uc758)\\\\uc5f4\\\\ud608 C \\\\ud504\\\\ub85c\\\\uadf8\\\\ub798\\\\ubc0d\", \"RDD\": \"\", \"POS\": \"1\\\\uce35 \\\\uc77c\\\\ubc18\\\\ub3c4\\\\uc11c\\\\uc2e4\", \"CN\": \"005.133 C111\\\\uc730 2010 =4\"}]}'"
      ]
     },
     "execution_count": 9,
     "metadata": {},
     "output_type": "execute_result"
    }
   ],
   "source": [
    "response.text"
   ]
  },
  {
   "cell_type": "code",
   "execution_count": 10,
   "metadata": {
    "ExecuteTime": {
     "end_time": "2020-05-22T09:19:17.931040Z",
     "start_time": "2020-05-22T09:19:17.923065Z"
    }
   },
   "outputs": [
    {
     "data": {
      "text/plain": [
       "{'errorMessage': '',\n",
       " 'sid': 3,\n",
       " 'loanStatusList': [{'errorMessage': '',\n",
       "   'STATE': 1,\n",
       "   'RN': 'E0498618',\n",
       "   'BN': 0,\n",
       "   'title': '(윤성우의)열혈 C 프로그래밍',\n",
       "   'RDD': '',\n",
       "   'POS': '1층 일반도서실',\n",
       "   'CN': '005.133 C111윰 2010'},\n",
       "  {'errorMessage': '',\n",
       "   'STATE': 1,\n",
       "   'RN': 'E0539024',\n",
       "   'BN': 0,\n",
       "   'title': '(윤성우의)열혈 C 프로그래밍',\n",
       "   'RDD': '',\n",
       "   'POS': '1층 일반도서실',\n",
       "   'CN': '005.133 C111윰 2010 =2'},\n",
       "  {'errorMessage': '',\n",
       "   'STATE': 1,\n",
       "   'RN': 'E0540079',\n",
       "   'BN': 0,\n",
       "   'title': '(윤성우의)열혈 C 프로그래밍',\n",
       "   'RDD': '',\n",
       "   'POS': '1층 일반도서실',\n",
       "   'CN': '005.133 C111윰 2010 =3'},\n",
       "  {'errorMessage': '',\n",
       "   'STATE': 1,\n",
       "   'RN': 'E0541225',\n",
       "   'BN': 0,\n",
       "   'title': '(윤성우의)열혈 C 프로그래밍',\n",
       "   'RDD': '',\n",
       "   'POS': '1층 일반도서실',\n",
       "   'CN': '005.133 C111윰 2010 =4'}]}"
      ]
     },
     "execution_count": 10,
     "metadata": {},
     "output_type": "execute_result"
    }
   ],
   "source": [
    "data2 = json.loads(str(response.text))\n",
    "data2"
   ]
  },
  {
   "cell_type": "markdown",
   "metadata": {},
   "source": [
    "### 학교마다 한번씩 호출하기"
   ]
  },
  {
   "cell_type": "code",
   "execution_count": 8,
   "metadata": {
    "ExecuteTime": {
     "end_time": "2020-05-26T07:20:31.604257Z",
     "start_time": "2020-05-26T07:20:31.592546Z"
    }
   },
   "outputs": [],
   "source": [
    "def crawlingRequestsByUniv(ISBN, title, sid, resultList = None):\n",
    "    start = time.time()\n",
    "    url = makeCrawlingUrl(functionR, ISBN, title, sid)\n",
    "    response = requests.get(url)\n",
    "    if resultList is None:\n",
    "        return json.loads(str(response.text))\n",
    "    else :\n",
    "        resultList[sid] = json.loads(str(response.text))\n",
    "    print(sid,univNameList[sid], '대학의 크롤링 시간은 ', time.time() - start, ' 입니다.')\n",
    "    "
   ]
  },
  {
   "cell_type": "code",
   "execution_count": 9,
   "metadata": {
    "ExecuteTime": {
     "end_time": "2020-05-26T07:20:57.970435Z",
     "start_time": "2020-05-26T07:20:37.416337Z"
    }
   },
   "outputs": [
    {
     "data": {
      "text/plain": [
       "{'loanStatusList': [{'RN': '792698',\n",
       "   'POS': '중앙도서관/2층 서양서ㆍ문학자료실/',\n",
       "   'STATE': 1,\n",
       "   'title': '나미야 잡화점의 기적 : 히가시노 게이고 장편소설',\n",
       "   'BN': 0,\n",
       "   'RDD': '',\n",
       "   'CN': '833.6 동62나',\n",
       "   'errorMessage': ''},\n",
       "  {'RN': '800337',\n",
       "   'POS': '중앙도서관/2층 서양서ㆍ문학자료실/',\n",
       "   'STATE': 1,\n",
       "   'title': '나미야 잡화점의 기적 : 히가시노 게이고 장편소설',\n",
       "   'BN': 0,\n",
       "   'RDD': '',\n",
       "   'CN': '833.6 동62나  c.5',\n",
       "   'errorMessage': ''},\n",
       "  {'RN': '811364',\n",
       "   'POS': '중앙도서관/2층 서양서ㆍ문학자료실/',\n",
       "   'STATE': 1,\n",
       "   'title': '나미야 잡화점의 기적 : 히가시노 게이고 장편소설',\n",
       "   'BN': 0,\n",
       "   'RDD': '',\n",
       "   'CN': '833.6 동62나  c.7',\n",
       "   'errorMessage': ''},\n",
       "  {'RN': '800338',\n",
       "   'POS': '중앙도서관/성신관 2층 문학서고/',\n",
       "   'STATE': -1,\n",
       "   'title': '나미야 잡화점의 기적 : 히가시노 게이고 장편소설',\n",
       "   'BN': 0,\n",
       "   'RDD': '',\n",
       "   'CN': '833.6 동62나  c.3',\n",
       "   'errorMessage': ''}],\n",
       " 'sid': 10,\n",
       " 'errorMessage': ''}"
      ]
     },
     "execution_count": 9,
     "metadata": {},
     "output_type": "execute_result"
    }
   ],
   "source": [
    "crawlingRequestsByUniv(ISBN, title, SS_CODE)"
   ]
  },
  {
   "cell_type": "code",
   "execution_count": 17,
   "metadata": {
    "ExecuteTime": {
     "end_time": "2020-05-23T08:05:49.317412Z",
     "start_time": "2020-05-23T08:05:25.225847Z"
    },
    "scrolled": true
   },
   "outputs": [
    {
     "name": "stdout",
     "output_type": "stream",
     "text": [
      "10 성신여자대학교 대학의 크롤링 시간은  0.4157748222351074  입니다.\n",
      "11 한성대학교 대학의 크롤링 시간은  0.4909248352050781  입니다.\n",
      "9 서울여자대학교 대학의 크롤링 시간은  2.6234869956970215  입니다.\n",
      "7 상명대학교 대학의 크롤링 시간은  4.388101577758789  입니다.\n",
      "0 광운대학교 대학의 크롤링 시간은  6.15269923210144  입니다.\n",
      "8 서경대학교 대학의 크롤링 시간은  12.081895351409912  입니다.\n",
      "6 삼육대학교 대학의 크롤링 시간은  13.187700510025024  입니다.\n",
      "3 덕성여자대학교 대학의 크롤링 시간은  14.928887605667114  입니다.\n",
      "1 국민대학교 대학의 크롤링 시간은  15.8092360496521  입니다.\n",
      "5 명지대학교 대학의 크롤링 시간은  17.25957179069519  입니다.\n",
      "2 대진대학교 대학의 크롤링 시간은  22.248878002166748  입니다.\n",
      "4 동덕여자대학교 대학의 크롤링 시간은  23.592830419540405  입니다.\n"
     ]
    }
   ],
   "source": [
    "resultList = [i for i in range(12)]\n",
    "threads = []\n",
    "for i in range(12):\n",
    "   t = threading.Thread(target=crawlingRequestsByUniv, args=(ISBN, title, i, resultList))\n",
    "   threads.append(t)\n",
    "\n",
    "for t in threads:\n",
    "   t.start()\n",
    "for t in threads:\n",
    "   t.join()\n",
    "#jsonString =  json.dumps(resultList)"
   ]
  },
  {
   "cell_type": "code",
   "execution_count": 18,
   "metadata": {
    "ExecuteTime": {
     "end_time": "2020-05-23T08:05:55.927855Z",
     "start_time": "2020-05-23T08:05:55.910287Z"
    }
   },
   "outputs": [
    {
     "name": "stdout",
     "output_type": "stream",
     "text": [
      "0 http://kupis.kw.ac.kr/search/caz/result?st=KWRD&commandType=advanced&si=1&q=%EB%82%98%EB%AF%B8%EC%95%BC%20%EC%9E%A1%ED%99%94%EC%A0%90&b0=and&weight0=&si=2&q=&b1=and&weight1=&si=3&q=&weight2=&inc=TOTAL&_inc=on&_inc=on&_inc=on&_inc=on&_inc=on&_inc=on&lmt0=TOTAL&lmtsn=000000000003&lmtst=OR&rf=&rt=&range=000000000021&cpp=10&msc=100\n",
      "1 http://lib.kookmin.ac.kr/#/search/ex?isbn=1%7Cl%7Ca%7C9788972756194&branch=1&material-type=1\n",
      "2 http://library.daejin.ac.kr/data_data_list.mir?search_keyword_type1=isbn&search_keyword1=9788972756194&srch_condi_01=AND&search_keyword_type2=author&search_keyword2=&srch_condi_02=AND&search_keyword_type3=subject&search_keyword3=&srch_condi_03=%E2%96%B2&select_current_sort_type=&select_current_sort_order=&select_current_per_page_num=10&basic_list=list&current_per_page_num=10&current_sort_type=&current_sort_order=&MAXI=1000&mloc_code=DJUL&facet_limit_search_field_code=&scope_code=&mtype_code=M&type_code=\n",
      "3 http://discover.duksung.ac.kr/#/search/ex?isbn=1%7Ck%7Ca%7C9788972756194&material-type=1\n",
      "4 http://library.dongduk.ac.kr/#/search/ex?isbn=1%7Cl%7Ca%7C9788972756194&branch=1&material-type=1\n",
      "5 http://lib.mju.ac.kr/search/Search.Result.ax?sid=1&q=ISBN%3A9788972756194%3A1&eq=&mf=true&qt=ISBN%3D9788972756194&qf=9788972756194&f=&br=&cl=&gr=1+3+4+5+6+7+8+9+10+11+12+13+14+2+15+16+26+27+17+18+19+20+21+22+23+24+25+28+29+30+33+34&rl=&page=&pageSize=0&s=&st=&h=&cr=&py=&subj=&facet=Y&nd=&vid=0&fv=%24esc.html%28%24%21%7BFilters%7D%29&tabID=\n",
      "6 http://lib.syu.ac.kr/search/caz/result?st=KWRD&commandType=advanced&mId=&si=1&q=%EB%82%98%EB%AF%B8%EC%95%BC%20%EC%9E%A1%ED%99%94%EC%A0%90&b0=and&weight0=&si=2&q=&b1=and&weight1=&si=3&q=&weight2=&inc=TOTAL&_inc=on&_inc=on&_inc=on&_inc=on&_inc=on&_inc=on&lmt0=TOTAL&lmtsn=000000000003&lmtst=OR&lmt1=A0000000&lmtsn=000000000006&lmtst=OR&rf=&rt=&range=000000000021&cpp=10&msc=10000\n",
      "7 https://lib.smu.ac.kr/Search/?q=9788972756194\n",
      "8 http://library.skuniv.ac.kr/search/Search.Result.ax?sid=1&q=ISBN%3A9788972756194&mf=true&qt=%EC%A0%84%EC%B2%B4%3D9788972756194&qf=9788972756194&f=&br=&cl=&gr=&rl=&page=1&pageSize=0&s=&st=&h=&cr=&py=&subj=&facet=Y&nd=&vid=0&tabID=\n",
      "9 http://lib.swu.ac.kr/9788972756194\n",
      "10 http://lib.sungshin.ac.kr/9788972756194\n",
      "11 http://hsel.hansung.ac.kr/9788972756194\n"
     ]
    }
   ],
   "source": [
    "for i in range(12):\n",
    "    sid = i\n",
    "    if sid == KW_CODE or sid==SY_CODE:\n",
    "        searchUrl = makeSearchUrl(ISBN, title, sid, 2)\n",
    "    else :\n",
    "        searchUrl = makeSearchUrl(ISBN, title, sid, 1)\n",
    "    print(i, searchUrl)\n",
    "    "
   ]
  },
  {
   "cell_type": "code",
   "execution_count": 19,
   "metadata": {
    "ExecuteTime": {
     "end_time": "2020-05-23T08:06:02.050301Z",
     "start_time": "2020-05-23T08:06:02.026876Z"
    }
   },
   "outputs": [
    {
     "name": "stdout",
     "output_type": "stream",
     "text": [
      "0      광운대학교  \t학교 검색 권수 : 8 : 0 0 0 0 1 -1 -1 1 \n",
      "1      국민대학교  \t학교 검색 권수 : 6 : 0 0 0 0 1 0 \n",
      "2      대진대학교  \t학교 검색 권수 : 6 : 1 1 1 1 1 1 \n",
      "3    덕성여자대학교  \t학교 검색 권수 : 3 : 1 1 1 \n",
      "4    동덕여자대학교  \t학교 검색 권수 : 4 : 0 1 0 1 \n",
      "5      명지대학교  \t학교 검색 권수 : 6 : 1 1 1 1 0 1 \n",
      "6      삼육대학교  \t학교 검색 권수 : 5 : 1 1 1 1 0 \n",
      "7      상명대학교  \t학교 검색 권수 : 10 : 1 1 1 1 1 1 0 1 1 1 \n",
      "8      서경대학교  \t학교 검색 권수 : 4 : 0 1 1 1 \n",
      "9    서울여자대학교  \t학교 검색 권수 : 0 : \n",
      "10    성신여자대학교  \t학교 검색 권수 : 0 : \n",
      "11      한성대학교  \t학교 검색 권수 : 0 : \n",
      "총 도서 수 :  52\n"
     ]
    }
   ],
   "source": [
    "totalNum = 0\n",
    "for i in range(12):\n",
    "    num = len(resultList[i]['loanStatusList'])\n",
    "    totalNum += num\n",
    "    #print(i, univNameList[i], '\\t 학교 검색 권수 : ', num, end=' : ')\n",
    "    print('%d %10s  \\t학교 검색 권수 : %d'% (i, univNameList[i], num), end =' : ')\n",
    "    for loanStatus in resultList[i]['loanStatusList']:\n",
    "        print(loanStatus['STATE'], end = ' ')\n",
    "    print()\n",
    "    \n",
    "print('총 도서 수 : ', totalNum)"
   ]
  },
  {
   "cell_type": "code",
   "execution_count": 20,
   "metadata": {
    "ExecuteTime": {
     "end_time": "2020-05-23T08:06:11.299845Z",
     "start_time": "2020-05-23T08:06:11.230548Z"
    }
   },
   "outputs": [
    {
     "name": "stdout",
     "output_type": "stream",
     "text": [
      "0      광운대학교  \t학교 검색 권수 : 8\n",
      "나미야 잡화점의 기적 : 히가시노 게이고 장편소설 654535 822.360872 ㄷ328ㄴKㅇ L층-인문/일반(700-900) 0 2020-06-30 \n",
      "나미야 잡화점의 기적 : 히가시노 게이고 장편소설 654536 822.360872 ㄷ328ㄴKㅇ  c.2 L층-인문/일반(700-900) 0 2020-06-29 \n",
      "나미야 잡화점의 기적 : 히가시노 게이고 장편소설 661398 822.360872 ㄷ328ㄴKㅇ  c.3 L층-인문/일반(700-900) 0 2020-06-04 \n",
      "나미야 잡화점의 기적 : 히가시노 게이고 장편소설 713751 822.360872 ㄷ328ㄴKㅇ  c.4 L층-인문/일반(700-900) 0 2020-06-08 \n",
      "나미야 잡화점의 기적 : 히가시노 게이고 장편소설 713752 822.360872 ㄷ328ㄴKㅇ  c.5 L층-인문/일반(700-900) 1  \n",
      "나미야 잡화점의 기적 : 히가시노 게이고 장편소설 756325 822.360872 ㄷ328ㄴKㅇ  c.6 L층-인문/베스트셀러 -1  \n",
      "나미야 잡화점의 기적 : 히가시노 게이고 장편소설 756326 822.360872 ㄷ328ㄴKㅇ  c.7 L층-인문/베스트셀러 -1  \n",
      "나미야 잡화점의 기적 : 히가시노 게이고 장편소설 782476 822.360872 ㄷ328ㄴKㅇ  c.8 L층-인문/일반(700-900) 1  \n",
      "\n",
      "1      국민대학교  \t학교 검색 권수 : 6\n",
      "나미야 잡화점의 기적 :히가시노 게이고 장편소설 00952665 813.36 동62ㄴ =3 문학/역사도서실(자2층) 0 2020-06-18 \n",
      "나미야 잡화점의 기적 :히가시노 게이고 장편소설 00958997 813.36 동62ㄴ =4 문학/역사도서실(자2층) 0 2020-06-05 \n",
      "나미야 잡화점의 기적 :히가시노 게이고 장편소설 00977934 813.36 동62ㄴ =5 문학/역사도서실(자2층) 0 2020-08-17 \n",
      "나미야 잡화점의 기적 :히가시노 게이고 장편소설 01022363 813.36 동62ㄴ =6 문학/역사도서실(자2층) 0 2020-05-26 \n",
      "나미야 잡화점의 기적 :히가시노 게이고 장편소설 01022829 813.36 동62ㄴ =7 문학/역사도서실(자2층) 1  \n",
      "나미야 잡화점의 기적 :히가시노 게이고 장편소설 01025520 813.36 동62ㄴ =8 문학/역사도서실(자2층) 0 2020-06-01 \n",
      "\n",
      "2      대진대학교  \t학교 검색 권수 : 6\n",
      "도서 나미야 잡화점의 기적 :히가시노 게이고 장편소설 E419234 813.36 동63ㄴ 인문사회자료실(4층) 1  \n",
      "도서 나미야 잡화점의 기적 :히가시노 게이고 장편소설 E419293 813.36 동63ㄴ c.2 인문사회자료실(4층) 1  \n",
      "도서 나미야 잡화점의 기적 :히가시노 게이고 장편소설 E423343 813.36 동63ㄴ c.4 인문사회자료실(4층) 1  \n",
      "도서 나미야 잡화점의 기적 :히가시노 게이고 장편소설 E426728 813.36 동63ㄴ c.5 인문사회자료실(4층) 1  \n",
      "도서 나미야 잡화점의 기적 :히가시노 게이고 장편소설 E426866 813.36 동63ㄴ c.3 인문사회자료실(4층) 1  \n",
      "도서 나미야 잡화점의 기적 :히가시노 게이고 장편소설 E634124 813.36 동63ㄴ c.7 인문사회자료실(4층) 1  \n",
      "\n",
      "3    덕성여자대학교  \t학교 검색 권수 : 3\n",
      "나미야 잡화점의 기적 :히가시노 게이고 장편소설 E0533033 813.36 ㅎ961나 1층 일반도서실 1  \n",
      "나미야 잡화점의 기적 :히가시노 게이고 장편소설 E0534297 813.36 ㅎ961나 =2 1층 일반도서실 1  \n",
      "나미야 잡화점의 기적 :히가시노 게이고 장편소설 E0535452 813.36 ㅎ961나 =3 1층 일반도서실 1  \n",
      "\n",
      "4    동덕여자대학교  \t학교 검색 권수 : 4\n",
      "나미야 잡화점의 기적 :히가시노 게이고 장편소설 E0402684 833.6 ㄷ86ㄴㅇ 문학자료실(1층) 0 2020-05-29 \n",
      "나미야 잡화점의 기적 :히가시노 게이고 장편소설 E0402857 833.6 ㄷ86ㄴㅇ c.2 문학자료실(1층) 1  \n",
      "나미야 잡화점의 기적 :히가시노 게이고 장편소설 E0403072 833.6 ㄷ86ㄴㅇ c.3 문학자료실(1층) 0 2020-06-29 \n",
      "나미야 잡화점의 기적 :히가시노 게이고 장편소설 E0403073 833.6 ㄷ86ㄴㅇ c.4 문학자료실(1층) 1  \n",
      "\n",
      "5      명지대학교  \t학교 검색 권수 : 6\n",
      "나미야 잡화점의 기적 : 히가시노 게이고 장편소설 7001274991 813.3 동63나 4층인문과학자료실 1  \n",
      "나미야 잡화점의 기적 : 히가시노 게이고 장편소설 7001310700 813.3 동63나 4층인문과학자료실 1  \n",
      "나미야 잡화점의 기적 : 히가시노 게이고 장편소설 7001274992 813.3 동63나 4층인문과학자료실 1  \n",
      "나미야 잡화점의 기적 : 히가시노 게이고 장편소설 3000609707 813.3 동63나 3층사회과학단행본 1  \n",
      "나미야 잡화점의 기적 : 히가시노 게이고 장편소설 3000609119 813.3 동63나 3층사회과학단행본 0 2020-06-26 \n",
      "나미야 잡화점의 기적 : 히가시노 게이고 장편소설 3000609708 813.3 동63나 3층사회과학단행본 1  \n",
      "\n",
      "6      삼육대학교  \t학교 검색 권수 : 5\n",
      "나미야 잡화점의 기적 : 히가시노 게이고 장편소설 M275102 813.36 동62ㄴ양2 도서관/제2자료실/ 1  \n",
      "나미야 잡화점의 기적 : 히가시노 게이고 장편소설 M296459 813.36 동62ㄴ양2 c.2 도서관/제2자료실/ 1  \n",
      "나미야 잡화점의 기적 : 히가시노 게이고 장편소설 M298067 813.36 동62ㄴ양2 c.3 도서관/제2자료실/ 1  \n",
      "나미야 잡화점의 기적 : 히가시노 게이고 장편소설 M311938 813.36 동62ㄴ양2 c.4 도서관/제2자료실/ 1  \n",
      "나미야 잡화점의 기적 : 히가시노 게이고 장편소설 M311939 813.36 동62ㄴ양2 c.5 도서관/제2자료실/ 0 2020-01-05 \n",
      "\n",
      "7      상명대학교  \t학교 검색 권수 : 10\n",
      "나미야 잡화점의 기적 : 히가시노 게이고 장편소설 L0088286 813.36 동야나양  2 제2자료실(5층) 1  \n",
      "나미야 잡화점의 기적 : 히가시노 게이고 장편소설 S0461022 813.36 동야나양  4 제2자료실(5층) 1  \n",
      "나미야 잡화점의 기적 : 히가시노 게이고 장편소설 S0480193 813.36 동야나양  5 제2자료실(5층) 1  \n",
      "나미야 잡화점의 기적 : 히가시노 게이고 장편소설 S0485623 813.36 동야나양  6 제2자료실(5층) 1  \n",
      "나미야 잡화점의 기적 : 히가시노 게이고 장편소설 S0485990 813.36 동야나양  7 제2자료실(5층) 1  \n",
      "나미야 잡화점의 기적 : 히가시노 게이고 장편소설 S0487424 813.36 동야나양  8 제2자료실(5층) 1  \n",
      "나미야 잡화점의 기적 : 히가시노 게이고 장편소설 S0487425 813.36 동야나양  9 제2자료실(5층) 0 2020-05-26 \n",
      "나미야 잡화점의 기적 : 히가시노 게이고 장편소설 S0487426 813.36 동야나양  10 제2자료실(5층) 1  \n",
      "나미야 잡화점의 기적 : 히가시노 게이고 장편소설 S0487428 813.36 동야나양  12 제2자료실(5층) 1  \n",
      "나미야 잡화점의 기적 : 히가시노 게이고 장편소설 S0495548 813.36 동야나양  13 제2자료실(5층) 1  \n",
      "\n",
      "8      서경대학교  \t학교 검색 권수 : 4\n",
      "나미야 잡화점의 기적 : 히가시노 게이고 장편소설 00309272 813.32 동62나 7층 인문예술과학 정보자료실/단행본서고 0 2020-06-29 \n",
      "나미야 잡화점의 기적 : 히가시노 게이고 장편소설 00309273 813.32 동62나 c.2 7층 인문예술과학 정보자료실/단행본서고 1  \n",
      "나미야 잡화점의 기적 : 히가시노 게이고 장편소설 00370409 813.32 동62나 c.3 7층 인문예술과학 정보자료실/단행본서고 1  \n",
      "나미야 잡화점의 기적 : 히가시노 게이고 장편소설 00410587 813.32 동62나 c.4 7층 인문예술과학 정보자료실/단행본서고 1  \n",
      "\n",
      "9    서울여자대학교  \t학교 검색 권수 : 0\n",
      "\n",
      "10    성신여자대학교  \t학교 검색 권수 : 0\n",
      "\n",
      "11      한성대학교  \t학교 검색 권수 : 0\n",
      "\n",
      "총 도서 수 :  52\n"
     ]
    }
   ],
   "source": [
    "## 상세 보기.\n",
    "totalNum = 0\n",
    "for i in range(12):\n",
    "    num = len(resultList[i]['loanStatusList'])\n",
    "    totalNum += num\n",
    "    #print(i, univNameList[i], '\\t 학교 검색 권수 : ', num, end=' : ')\n",
    "    print('%d %10s  \\t학교 검색 권수 : %d'% (i, univNameList[i], num))\n",
    "    for loanStatus in resultList[i]['loanStatusList']:\n",
    "        print(loanStatus['title'], end = ' ')\n",
    "        print(loanStatus['RN'], end = ' ')\n",
    "        print(loanStatus['CN'], end = ' ')\n",
    "        print(loanStatus['POS'], end = ' ')\n",
    "        print(loanStatus['STATE'], end = ' ')\n",
    "        print(loanStatus['RDD'], end = ' ')\n",
    "        print()\n",
    "    print()\n",
    "    \n",
    "print('총 도서 수 : ', totalNum)"
   ]
  },
  {
   "cell_type": "code",
   "execution_count": null,
   "metadata": {},
   "outputs": [],
   "source": []
  },
  {
   "cell_type": "code",
   "execution_count": null,
   "metadata": {},
   "outputs": [],
   "source": []
  }
 ],
 "metadata": {
  "hide_input": false,
  "kernelspec": {
   "display_name": "Python 3",
   "language": "python",
   "name": "python3"
  },
  "language_info": {
   "codemirror_mode": {
    "name": "ipython",
    "version": 3
   },
   "file_extension": ".py",
   "mimetype": "text/x-python",
   "name": "python",
   "nbconvert_exporter": "python",
   "pygments_lexer": "ipython3",
   "version": "3.7.6"
  },
  "toc": {
   "base_numbering": 1,
   "nav_menu": {},
   "number_sections": true,
   "sideBar": true,
   "skip_h1_title": false,
   "title_cell": "Table of Contents",
   "title_sidebar": "Contents",
   "toc_cell": false,
   "toc_position": {
    "height": "calc(100% - 180px)",
    "left": "10px",
    "top": "150px",
    "width": "304.475px"
   },
   "toc_section_display": true,
   "toc_window_display": true
  },
  "varInspector": {
   "cols": {
    "lenName": 16,
    "lenType": 16,
    "lenVar": 40
   },
   "kernels_config": {
    "python": {
     "delete_cmd_postfix": "",
     "delete_cmd_prefix": "del ",
     "library": "var_list.py",
     "varRefreshCmd": "print(var_dic_list())"
    },
    "r": {
     "delete_cmd_postfix": ") ",
     "delete_cmd_prefix": "rm(",
     "library": "var_list.r",
     "varRefreshCmd": "cat(var_dic_list()) "
    }
   },
   "position": {
    "height": "143.467px",
    "left": "781px",
    "right": "20px",
    "top": "118px",
    "width": "350px"
   },
   "types_to_exclude": [
    "module",
    "function",
    "builtin_function_or_method",
    "instance",
    "_Feature"
   ],
   "window_display": false
  }
 },
 "nbformat": 4,
 "nbformat_minor": 4
}
