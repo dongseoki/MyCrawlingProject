{
 "cells": [
  {
   "cell_type": "code",
   "execution_count": 1,
   "metadata": {
    "ExecuteTime": {
     "end_time": "2020-08-04T10:16:24.365638Z",
     "start_time": "2020-08-04T10:16:23.167639Z"
    }
   },
   "outputs": [],
   "source": [
    "\n",
    "import time\n",
    "from selenium import webdriver\n",
    "from selenium.webdriver.chrome.options import Options\n",
    "\n",
    "from selenium.webdriver.common.by import By\n",
    "from selenium.webdriver.support.ui import WebDriverWait\n",
    "from selenium.webdriver.support import expected_conditions as EC\n",
    "from urllib.request import urlopen\n",
    "from bs4 import BeautifulSoup\n",
    "import copy"
   ]
  },
  {
   "cell_type": "code",
   "execution_count": 6,
   "metadata": {
    "ExecuteTime": {
     "end_time": "2020-08-04T10:17:33.088638Z",
     "start_time": "2020-08-04T10:17:33.085639Z"
    }
   },
   "outputs": [],
   "source": [
    "searchUrl = \"http://data.ex.co.kr/portal/traffic/trafficRegion#\"\n",
    "#1. 접속.\n",
    "# html = urlopen(searchUrl)\n",
    "# bsObject = BeautifulSoup(html, \"html.parser\")"
   ]
  },
  {
   "cell_type": "code",
   "execution_count": 3,
   "metadata": {
    "ExecuteTime": {
     "end_time": "2020-08-04T10:17:04.757637Z",
     "start_time": "2020-08-04T10:17:00.375642Z"
    }
   },
   "outputs": [],
   "source": [
    "options = Options()\n",
    "options.headless = True\n",
    "\n",
    "browser = webdriver.Chrome(executable_path=\"./chromedriver.exe\", options=options)"
   ]
  },
  {
   "cell_type": "code",
   "execution_count": 7,
   "metadata": {
    "ExecuteTime": {
     "end_time": "2020-08-04T10:17:38.724667Z",
     "start_time": "2020-08-04T10:17:35.813669Z"
    }
   },
   "outputs": [],
   "source": [
    "browser.get(searchUrl)"
   ]
  },
  {
   "cell_type": "code",
   "execution_count": 8,
   "metadata": {
    "ExecuteTime": {
     "end_time": "2020-08-04T10:19:25.506982Z",
     "start_time": "2020-08-04T10:19:25.501981Z"
    }
   },
   "outputs": [],
   "source": [
    "clickLinkXpath = '/html/body/div[3]/div[2]/div[2]/div[2]/div[2]/div[2]/div[2]/div/ul/li[2]/a'"
   ]
  },
  {
   "cell_type": "code",
   "execution_count": 10,
   "metadata": {
    "ExecuteTime": {
     "end_time": "2020-08-04T10:20:02.346083Z",
     "start_time": "2020-08-04T10:20:02.270084Z"
    }
   },
   "outputs": [],
   "source": [
    "clickLinkElement = browser.find_element_by_xpath(clickLinkXpath)"
   ]
  },
  {
   "cell_type": "code",
   "execution_count": 12,
   "metadata": {
    "ExecuteTime": {
     "end_time": "2020-08-04T10:20:30.426083Z",
     "start_time": "2020-08-04T10:20:30.175084Z"
    }
   },
   "outputs": [],
   "source": [
    "clickLinkElement.click()"
   ]
  },
  {
   "cell_type": "code",
   "execution_count": 13,
   "metadata": {
    "ExecuteTime": {
     "end_time": "2020-08-04T10:21:04.361698Z",
     "start_time": "2020-08-04T10:21:04.357701Z"
    }
   },
   "outputs": [],
   "source": [
    "testLinkXpath = '/html/body/div[3]/div[2]/div[2]/div[2]/div[2]/div[2]/div[2]/div/ul/li[2]/ul/li/div[3]/h5/span'"
   ]
  },
  {
   "cell_type": "code",
   "execution_count": 14,
   "metadata": {
    "ExecuteTime": {
     "end_time": "2020-08-04T10:21:18.697699Z",
     "start_time": "2020-08-04T10:21:18.491700Z"
    }
   },
   "outputs": [],
   "source": [
    "testLinkElement = browser.find_element_by_xpath(testLinkXpath)"
   ]
  },
  {
   "cell_type": "code",
   "execution_count": 16,
   "metadata": {
    "ExecuteTime": {
     "end_time": "2020-08-04T10:21:28.463700Z",
     "start_time": "2020-08-04T10:21:27.940699Z"
    }
   },
   "outputs": [
    {
     "data": {
      "text/plain": [
       "'일자별 선택'"
      ]
     },
     "execution_count": 16,
     "metadata": {},
     "output_type": "execute_result"
    }
   ],
   "source": [
    "testLinkElement.text"
   ]
  },
  {
   "cell_type": "code",
   "execution_count": 17,
   "metadata": {
    "ExecuteTime": {
     "end_time": "2020-08-04T10:23:48.791732Z",
     "start_time": "2020-08-04T10:23:48.597734Z"
    }
   },
   "outputs": [],
   "source": [
    "html = browser.page_source\n",
    "bsObject=BeautifulSoup(html, 'html.parser')"
   ]
  },
  {
   "cell_type": "code",
   "execution_count": 18,
   "metadata": {
    "ExecuteTime": {
     "end_time": "2020-08-04T10:24:02.443735Z",
     "start_time": "2020-08-04T10:24:02.422733Z"
    }
   },
   "outputs": [],
   "source": [
    "result1 = bsObject.select('#tbTbody')"
   ]
  },
  {
   "cell_type": "code",
   "execution_count": 19,
   "metadata": {
    "ExecuteTime": {
     "end_time": "2020-08-04T10:24:07.780738Z",
     "start_time": "2020-08-04T10:24:07.774734Z"
    }
   },
   "outputs": [
    {
     "data": {
      "text/plain": [
       "[<tbody id=\"tbTbody\"><tr><td>전국</td> <td>출구</td> <td class=\"text-right\">3,494,723</td> <td class=\"text-right\">4,019,903</td> <td class=\"text-right\">3,810,733</td> <td class=\"text-right\">3,281,898</td> <td class=\"text-right\">3,549,170</td></tr><tr><td>수도권</td> <td>출구</td> <td class=\"text-right\">1,471,245</td> <td class=\"text-right\">1,560,774</td> <td class=\"text-right\">1,276,976</td> <td class=\"text-right\">1,030,979</td> <td class=\"text-right\">1,299,307</td></tr><tr><td>강원</td> <td>출구</td> <td class=\"text-right\">235,132</td> <td class=\"text-right\">297,767</td> <td class=\"text-right\">301,209</td> <td class=\"text-right\">246,245</td> <td class=\"text-right\">233,569</td></tr><tr><td>대전충남</td> <td>출구</td> <td class=\"text-right\">294,444</td> <td class=\"text-right\">343,739</td> <td class=\"text-right\">314,330</td> <td class=\"text-right\">292,708</td> <td class=\"text-right\">299,045</td></tr><tr><td>전북</td> <td>출구</td> <td class=\"text-right\">111,555</td> <td class=\"text-right\">148,091</td> <td class=\"text-right\">174,014</td> <td class=\"text-right\">141,151</td> <td class=\"text-right\">139,837</td></tr><tr><td>광주전남</td> <td>출구</td> <td class=\"text-right\">232,153</td> <td class=\"text-right\">296,690</td> <td class=\"text-right\">354,595</td> <td class=\"text-right\">311,328</td> <td class=\"text-right\">302,340</td></tr><tr><td>대구경북</td> <td>출구</td> <td class=\"text-right\">341,315</td> <td class=\"text-right\">419,773</td> <td class=\"text-right\">443,884</td> <td class=\"text-right\">392,762</td> <td class=\"text-right\">400,834</td></tr><tr><td>부산경남</td> <td>출구</td> <td class=\"text-right\">656,286</td> <td class=\"text-right\">754,015</td> <td class=\"text-right\">749,773</td> <td class=\"text-right\">674,078</td> <td class=\"text-right\">715,989</td></tr><tr><td>충북</td> <td>출구</td> <td class=\"text-right\">152,593</td> <td class=\"text-right\">199,054</td> <td class=\"text-right\">195,952</td> <td class=\"text-right\">192,647</td> <td class=\"text-right\">158,249</td></tr></tbody>]"
      ]
     },
     "execution_count": 19,
     "metadata": {},
     "output_type": "execute_result"
    }
   ],
   "source": [
    "result1"
   ]
  },
  {
   "cell_type": "code",
   "execution_count": 21,
   "metadata": {
    "ExecuteTime": {
     "end_time": "2020-08-04T11:18:26.574297Z",
     "start_time": "2020-08-04T11:18:26.568298Z"
    }
   },
   "outputs": [
    {
     "data": {
      "text/plain": [
       "9"
      ]
     },
     "execution_count": 21,
     "metadata": {},
     "output_type": "execute_result"
    }
   ],
   "source": [
    "len(result1[0].find_all('tr'))"
   ]
  },
  {
   "cell_type": "code",
   "execution_count": 29,
   "metadata": {
    "ExecuteTime": {
     "end_time": "2020-08-04T11:21:50.200517Z",
     "start_time": "2020-08-04T11:21:50.192519Z"
    }
   },
   "outputs": [
    {
     "name": "stdout",
     "output_type": "stream",
     "text": [
      "전국 출구 3,494,723 4,019,903 3,810,733 3,281,898 3,549,170 \n",
      "수도권 출구 1,471,245 1,560,774 1,276,976 1,030,979 1,299,307 \n",
      "강원 출구 235,132 297,767 301,209 246,245 233,569 \n",
      "대전충남 출구 294,444 343,739 314,330 292,708 299,045 \n",
      "전북 출구 111,555 148,091 174,014 141,151 139,837 \n",
      "광주전남 출구 232,153 296,690 354,595 311,328 302,340 \n",
      "대구경북 출구 341,315 419,773 443,884 392,762 400,834 \n",
      "부산경남 출구 656,286 754,015 749,773 674,078 715,989 \n",
      "충북 출구 152,593 199,054 195,952 192,647 158,249 \n"
     ]
    }
   ],
   "source": [
    "for item in result1[0].find_all('tr'):\n",
    "    for fieldValue in item.find_all('td'):\n",
    "        print(fieldValue.text, end=' ')\n",
    "    print()"
   ]
  },
  {
   "cell_type": "code",
   "execution_count": null,
   "metadata": {},
   "outputs": [],
   "source": []
  }
 ],
 "metadata": {
  "kernelspec": {
   "display_name": "Python 3",
   "language": "python",
   "name": "python3"
  },
  "language_info": {
   "codemirror_mode": {
    "name": "ipython",
    "version": 3
   },
   "file_extension": ".py",
   "mimetype": "text/x-python",
   "name": "python",
   "nbconvert_exporter": "python",
   "pygments_lexer": "ipython3",
   "version": "3.7.6"
  }
 },
 "nbformat": 4,
 "nbformat_minor": 4
}
