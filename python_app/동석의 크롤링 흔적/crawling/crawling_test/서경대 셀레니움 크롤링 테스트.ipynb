{
 "cells": [
  {
   "cell_type": "markdown",
   "metadata": {},
   "source": [
    "## 임포트"
   ]
  },
  {
   "cell_type": "code",
   "execution_count": 3,
   "metadata": {
    "ExecuteTime": {
     "end_time": "2020-05-23T07:13:16.883686Z",
     "start_time": "2020-05-23T07:13:10.294714Z"
    }
   },
   "outputs": [],
   "source": [
    "#from ../GoogleCloudRun/GoogleCloudPlatformContainer/PythonApplication_Crawling/library import *\n",
    "#from ... import library\n",
    "import os\n",
    "import sys\n",
    "result = os.path.dirname(os.path.abspath(os.path.dirname('__file__')))\n",
    "sys.path.append(os.path.dirname(os.path.abspath(os.path.dirname('__file__'))))\n",
    "\n",
    "#C:\\GitHub\\SDDH\\crawling\\Googl|eCloudRun\\GoogleCloudPlatformContainer\\PythonApplication_Crawling\n",
    "crawlingPath = 'C:\\\\GitHub\\\\SDDH\\\\crawling\\\\GoogleCloudRun\\\\GoogleCloudPlatformContainer\\\\PythonApplication_Crawling'\n",
    "sys.path.append(crawlingPath)\n",
    "\n",
    "from GoogleCloudRun.GoogleCloudPlatformContainer.PythonApplication_Crawling.library import *\n",
    "from GoogleCloudRun.GoogleCloudPlatformContainer.PythonApplication_Crawling.findLoanStatus import *\n",
    "# python ifdef 가 필요할듯... 그냥 makeSearchUrl 정도는 가져다 쓰자.\n",
    "\n"
   ]
  },
  {
   "cell_type": "markdown",
   "metadata": {},
   "source": [
    "## 책 예시"
   ]
  },
  {
   "cell_type": "code",
   "execution_count": 4,
   "metadata": {
    "ExecuteTime": {
     "end_time": "2020-05-23T07:13:19.323225Z",
     "start_time": "2020-05-23T07:13:19.318345Z"
    }
   },
   "outputs": [],
   "source": [
    "ISBN = '9788996094050'\n",
    "title = '윤성우의 열혈 C 프로그래밍'"
   ]
  },
  {
   "cell_type": "code",
   "execution_count": 12,
   "metadata": {
    "ExecuteTime": {
     "end_time": "2020-05-23T07:16:04.948994Z",
     "start_time": "2020-05-23T07:16:04.942163Z"
    }
   },
   "outputs": [],
   "source": [
    "ISBN = '9788972756194'\n",
    "title = '나미야 잡화점'"
   ]
  },
  {
   "cell_type": "code",
   "execution_count": 28,
   "metadata": {
    "ExecuteTime": {
     "end_time": "2020-05-23T07:26:30.090707Z",
     "start_time": "2020-05-23T07:26:30.084852Z"
    }
   },
   "outputs": [],
   "source": [
    "ISBN = '9788996991342'\n",
    "title = '미움받을 용기'"
   ]
  },
  {
   "cell_type": "code",
   "execution_count": 43,
   "metadata": {
    "ExecuteTime": {
     "end_time": "2020-05-23T07:27:45.195677Z",
     "start_time": "2020-05-23T07:27:45.190764Z"
    }
   },
   "outputs": [],
   "source": [
    "ISBN = '9788972759999'\n",
    "title = '없는 책'"
   ]
  },
  {
   "cell_type": "markdown",
   "metadata": {},
   "source": [
    "## 크롤링 테스트"
   ]
  },
  {
   "cell_type": "code",
   "execution_count": 44,
   "metadata": {
    "ExecuteTime": {
     "end_time": "2020-05-23T07:27:49.054359Z",
     "start_time": "2020-05-23T07:27:49.047558Z"
    },
    "scrolled": true
   },
   "outputs": [
    {
     "name": "stdout",
     "output_type": "stream",
     "text": [
      "http://library.skuniv.ac.kr/search/Search.Result.ax?sid=1&q=ISBN%3A9788972759999&mf=true&qt=%EC%A0%84%EC%B2%B4%3D9788972759999&qf=9788972759999&f=&br=&cl=&gr=&rl=&page=1&pageSize=0&s=&st=&h=&cr=&py=&subj=&facet=Y&nd=&vid=0&tabID=\n"
     ]
    }
   ],
   "source": [
    "print(makeSearchUrl(ISBN, title, SK_CODE,1))"
   ]
  },
  {
   "cell_type": "code",
   "execution_count": 45,
   "metadata": {
    "ExecuteTime": {
     "end_time": "2020-05-23T07:27:57.781751Z",
     "start_time": "2020-05-23T07:27:50.135773Z"
    }
   },
   "outputs": [],
   "source": [
    "import re\n",
    "\n",
    "import time\n",
    "from selenium import webdriver\n",
    "from selenium.webdriver.chrome.options import Options\n",
    "\n",
    "from selenium.webdriver.common.by import By\n",
    "from selenium.webdriver.support.ui import WebDriverWait\n",
    "from selenium.webdriver.support import expected_conditions as EC\n",
    "\n",
    "from bs4 import BeautifulSoup\n",
    "import copy\n",
    "\n",
    "\n",
    "options = Options()\n",
    "options.headless = True\n",
    "\n",
    "browser = webdriver.Chrome(executable_path=\"./chromedriver.exe\", options=options)\n",
    "\n",
    "\n",
    "\n",
    "browser.get(makeSearchUrl(ISBN, title, SK_CODE,1))\n",
    "#대출중 있는 것\n",
    "\n",
    "\n",
    "\n",
    "#9788953934283 새로운 케이스\n",
    "#browser.get('https://library.daejin.ac.kr/data_data_list.mir?search_keyword_type1=isbn&search_keyword1=9788953934283&srch_condi_01=AND&search_keyword_type2=author&search_keyword2=&srch_condi_02=AND&search_keyword_type3=subject&search_keyword3=&srch_condi_03=%E2%96%B2&select_current_sort_type=&select_current_sort_order=&select_current_per_page_num=10&basic_list=list&current_per_page_num=10&current_sort_type=&current_sort_order=&MAXI=1000&mloc_code=DJUL&facet_limit_search_field_code=&scope_code=&mtype_code=M&type_code=')\n",
    "# 되는 케이스\n",
    "\n",
    "#browser.get('https://discover.duksung.ac.kr/#/search/ex?isbn=1%7Ck%7Ca%7C9788934985099&material-type=1')\n",
    "#안되는 케이스"
   ]
  },
  {
   "cell_type": "code",
   "execution_count": 46,
   "metadata": {
    "ExecuteTime": {
     "end_time": "2020-05-23T07:27:59.935886Z",
     "start_time": "2020-05-23T07:27:59.918317Z"
    }
   },
   "outputs": [
    {
     "name": "stdout",
     "output_type": "stream",
     "text": [
      "http://library.skuniv.ac.kr/search/Search.Result.ax?sid=1&q=ISBN%3A9788972759999&mf=true&qt=%EC%A0%84%EC%B2%B4%3D9788972759999&qf=9788972759999&f=&br=&cl=&gr=&rl=&page=1&pageSize=0&s=&st=&h=&cr=&py=&subj=&facet=Y&nd=&vid=0&tabID=\n"
     ]
    }
   ],
   "source": [
    "print(browser.current_url)"
   ]
  },
  {
   "cell_type": "code",
   "execution_count": 49,
   "metadata": {
    "ExecuteTime": {
     "end_time": "2020-05-23T07:28:12.289598Z",
     "start_time": "2020-05-23T07:28:12.239852Z"
    }
   },
   "outputs": [],
   "source": [
    "linkXpath ='//*[@id=\"frmResultList\"]/ul/li/dl/dd/div/div/div[3]/a[1]'\n",
    "\n",
    "\n",
    "#$(SELECTOR)\n",
    "browserCheckXpath = '//*[@id=\"pageTitle\"]/div/h2'\n",
    "#소장검색 이라는 단어\n",
    "\n",
    "try:\n",
    "    WebDriverWait(browser, 120).until(EC.presence_of_element_located((By.XPATH, browserCheckXpath)))\n",
    "    linkElement = WebDriverWait(browser, 2).until(EC.presence_of_element_located((By.XPATH, linkXpath)))\n",
    "    #linkElement = browser.find_element_by_xpath(linkXpath)\n",
    "    # 오류가능성.\n",
    "    if linkElement.text == '':\n",
    "        linkElement = -1\n",
    "except :\n",
    "    print('예외가 발생! 찾는 책이 없음')\n",
    "    linkElement = -1"
   ]
  },
  {
   "cell_type": "code",
   "execution_count": 50,
   "metadata": {
    "ExecuteTime": {
     "end_time": "2020-05-23T07:28:39.603412Z",
     "start_time": "2020-05-23T07:28:39.595604Z"
    }
   },
   "outputs": [
    {
     "data": {
      "text/plain": [
       "-1"
      ]
     },
     "execution_count": 50,
     "metadata": {},
     "output_type": "execute_result"
    }
   ],
   "source": [
    "linkElement"
   ]
  },
  {
   "cell_type": "code",
   "execution_count": 34,
   "metadata": {
    "ExecuteTime": {
     "end_time": "2020-05-23T07:26:56.614066Z",
     "start_time": "2020-05-23T07:26:56.607236Z"
    }
   },
   "outputs": [
    {
     "name": "stdout",
     "output_type": "stream",
     "text": [
      "success\n"
     ]
    }
   ],
   "source": [
    "if linkElement == -1 :\n",
    "    print('-1...')\n",
    "else : \n",
    "    print('success')"
   ]
  },
  {
   "cell_type": "code",
   "execution_count": 35,
   "metadata": {
    "ExecuteTime": {
     "end_time": "2020-05-23T07:26:58.729109Z",
     "start_time": "2020-05-23T07:26:57.721878Z"
    }
   },
   "outputs": [],
   "source": [
    "linkElement.click()"
   ]
  },
  {
   "cell_type": "code",
   "execution_count": 36,
   "metadata": {
    "ExecuteTime": {
     "end_time": "2020-05-23T07:26:59.561637Z",
     "start_time": "2020-05-23T07:26:59.536262Z"
    }
   },
   "outputs": [
    {
     "name": "stdout",
     "output_type": "stream",
     "text": [
      "http://library.skuniv.ac.kr/search/DetailView.ax?sid=1&cid=1093184\n"
     ]
    }
   ],
   "source": [
    "print(browser.current_url)"
   ]
  },
  {
   "cell_type": "code",
   "execution_count": 37,
   "metadata": {
    "ExecuteTime": {
     "end_time": "2020-05-23T07:27:05.240115Z",
     "start_time": "2020-05-23T07:27:00.854839Z"
    }
   },
   "outputs": [],
   "source": [
    "browserCheckXpath = '//*[@id=\"searchDetailInner\"]/div[7]/h3'\n",
    "#소장검색 이라는 단어\n",
    "\n",
    "try:\n",
    "    WebDriverWait(browser, 120).until(EC.presence_of_element_located((By.XPATH, browserCheckXpath)))\n",
    "except :\n",
    "    print('error detected')\n",
    "\n",
    "time.sleep(1)\n",
    "html = browser.page_source\n",
    "bsObject=BeautifulSoup(html, 'html.parser')\n",
    "strISBNIncluded = str(bsObject.select('#metaDataBody'))"
   ]
  },
  {
   "cell_type": "code",
   "execution_count": 38,
   "metadata": {
    "ExecuteTime": {
     "end_time": "2020-05-23T07:27:08.889262Z",
     "start_time": "2020-05-23T07:27:08.879508Z"
    }
   },
   "outputs": [
    {
     "data": {
      "text/plain": [
       "'[<tbody id=\"metaDataBody\">\\n<tr>\\n<td class=\"detailHead\">자료유형 : </td>\\n<td class=\"detailBody\"> 국내서단행본 </td>\\n</tr>\\n<tr>\\n<td class=\"detailHead\">서명 / 저자 : </td><td class=\"detailBody\">미움받을 용기 : 자유롭고 행복한 삶을 위한 아들러의 가르침. 1-2 / 기시미 이치로, 고가 후미타케 [공] 지음 ; 전경아 옮김</td>\\n</tr><tr>\\n<td class=\"detailHead\">원서명 : </td><td class=\"detailBody\"><a href=\"javascript:search.searchLink(\\'TITL\\', \\'嫌われる勇気 : [自己啓発の源流「アドラー」の教え]\\');\">嫌われる勇気 : [自己啓発の源流「アドラー」の教え]</a> </td>\\n</tr><tr>\\n<td class=\"detailHead\">개인저자 : </td><td class=\"detailBody\"> <a href=\"javascript:search.searchLink(\\'AUTH\\',\\'안견일랑, 1956- \\');\">안견일랑, 1956- </a>\\n<br/> <a href=\"javascript:search.searchLink(\\'AUTH\\',\\'고하사건, 1973- \\');\">고하사건, 1973- </a>\\n<br/> <a href=\"javascript:search.searchLink(\\'AUTH\\',\\'전경아 \\');\">전경아 </a>\\n<br/> <a href=\"javascript:search.searchLink(\\'AUTH\\',\\'김정운 \\');\">김정운 </a></td>\\n</tr><tr>\\n<td class=\"detailHead\">발행사항 : </td><td class=\"detailBody\">서울 : 인플루엔셜, 2014 </td>\\n</tr><tr>\\n<td class=\"detailHead\">형태사항 : </td><td class=\"detailBody\">2책 : 삽도 ; 21 cm</td>\\n</tr><tr>\\n<td class=\"detailHead\">일반사항 : </td><td class=\"detailBody\">기시미 이치로의 한문명은 \\'岸見一郎\\' 이고, 고가 후미타케의 한문명은 \\'古賀史健\\' 임<br/>  감수: 김정운<br/> </td>\\n</tr><tr>\\n<td class=\"detailHead\">주제명 : </td><td class=\"detailBody\"> <a href=\"javascript:search.searchLink(\\'SUBJ\\',\\'Adler, Alfred, 1870-1937 \\');\">Adler, Alfred, 1870-1937 </a></td>\\n</tr><tr>\\n<td class=\"detailHead\">개인명 : </td><td class=\"detailBody\"> <a href=\"javascript:search.searchLink(\\'AUTH\\',\\'기시미 이치로 \\');\">기시미 이치로 </a>\\n<br/> <a href=\"javascript:search.searchLink(\\'AUTH\\',\\'Kishimi, Ichiro \\');\">Kishimi, Ichiro </a>\\n<br/> <a href=\"javascript:search.searchLink(\\'AUTH\\',\\'고가 후미타케 \\');\">고가 후미타케 </a>\\n<br/> <a href=\"javascript:search.searchLink(\\'AUTH\\',\\'Koga, Fumitake \\');\">Koga, Fumitake </a>\\n<br/> <a href=\"javascript:search.searchLink(\\'AUTH\\',\\'아들러, 알프레드 \\');\">아들러, 알프레드 </a></td>\\n</tr><tr>\\n<td class=\"detailHead\">ISBN : </td><td class=\"detailBody\">9788996991342</td>\\n</tr><tr>\\n<td class=\"detailHead\">청구기호 : </td><td class=\"detailBody\">158.1 안14미</td>\\n</tr>\\n<form accept-charset=\"UTF-8\" id=\"frmEbookLibrary\" method=\"post\" name=\"frmEbookLibrary\" target=\"_blank\"></form>\\n<input id=\"param_1\" name=\"param_1\" type=\"hidden\" value=\"\"/>\\n</tbody>]'"
      ]
     },
     "execution_count": 38,
     "metadata": {},
     "output_type": "execute_result"
    }
   ],
   "source": [
    "strISBNIncluded"
   ]
  },
  {
   "cell_type": "code",
   "execution_count": 39,
   "metadata": {
    "ExecuteTime": {
     "end_time": "2020-05-23T07:27:10.230296Z",
     "start_time": "2020-05-23T07:27:10.223494Z"
    }
   },
   "outputs": [
    {
     "name": "stdout",
     "output_type": "stream",
     "text": [
      "True\n",
      "False\n"
     ]
    }
   ],
   "source": [
    "print(compareISBN(strISBNIncluded, ISBN))\n",
    "print(compareISBN(strISBNIncluded, '9791186757093'))"
   ]
  },
  {
   "cell_type": "code",
   "execution_count": 40,
   "metadata": {
    "ExecuteTime": {
     "end_time": "2020-05-23T07:27:11.862169Z",
     "start_time": "2020-05-23T07:27:11.832892Z"
    }
   },
   "outputs": [],
   "source": [
    "loanResultListSelectPath = '#itmdtl_info01 > div > table > tbody'\n",
    "loanResultList =bsObject.select(loanResultListSelectPath)[0].find_all('tr')"
   ]
  },
  {
   "cell_type": "code",
   "execution_count": 41,
   "metadata": {
    "ExecuteTime": {
     "end_time": "2020-05-23T07:27:12.894800Z",
     "start_time": "2020-05-23T07:27:12.886997Z"
    }
   },
   "outputs": [
    {
     "data": {
      "text/plain": [
       "6"
      ]
     },
     "execution_count": 41,
     "metadata": {},
     "output_type": "execute_result"
    }
   ],
   "source": [
    "len(loanResultList)"
   ]
  },
  {
   "cell_type": "code",
   "execution_count": 42,
   "metadata": {
    "ExecuteTime": {
     "end_time": "2020-05-23T07:27:18.140797Z",
     "start_time": "2020-05-23T07:27:18.128140Z"
    }
   },
   "outputs": [
    {
     "name": "stdout",
     "output_type": "stream",
     "text": [
      "00346235\n",
      "158.1 안14미\n",
      "7층 인문예술과학 정보자료실/단행본서고\n",
      "대출가능 1\n",
      "\n",
      "\n",
      "00346236\n",
      "158.1 안14미 c.2\n",
      "7층 인문예술과학 정보자료실/단행본서고\n",
      "대출가능 1\n",
      "\n",
      "\n",
      "00352631\n",
      "158.1 안14미 c.3\n",
      "7층 인문예술과학 정보자료실/단행본서고\n",
      "대출가능 1\n",
      "\n",
      "\n",
      "00370414\n",
      "158.1 안14미 c.5\n",
      "7층 인문예술과학 정보자료실/단행본서고\n",
      "대출가능 1\n",
      "\n",
      "\n",
      "00370415\n",
      "158.1 안14미 c.6\n",
      "7층 인문예술과학 정보자료실/단행본서고\n",
      "대출중 0\n",
      "2020-06-29\n",
      "\n",
      "00352632\n",
      "158.1 안14미 v.2\n",
      "7층 인문예술과학 정보자료실/단행본서고\n",
      "대출가능 1\n",
      "\n",
      "\n"
     ]
    }
   ],
   "source": [
    "for loanResult in loanResultList:\n",
    "    RDD = ''\n",
    "    content = loanResult.find_all('td')\n",
    "    errorMessage = ''\n",
    "    RN = content[1].text.strip()\n",
    "    CN = content[3].text.strip()\n",
    "    POS = content[2].text.strip()\n",
    "    STATE_STRING = content[4].text.strip()\n",
    "    STATE = findState(STATE_STRING)\n",
    "    if STATE == 0 :\n",
    "        RDD  =content[5].text.strip()\n",
    "        \n",
    "    #RDD = content[5].text.strip()\n",
    "    print(RN)\n",
    "    print(CN)\n",
    "    print(POS)\n",
    "    print(STATE_STRING, STATE)\n",
    "    #print(STATE_STRING)\n",
    "    print(RDD)\n",
    "    print()\n",
    "    #print(content[8])\n",
    "        \n",
    "    #print('등록번호 : ', item)"
   ]
  },
  {
   "cell_type": "code",
   "execution_count": null,
   "metadata": {},
   "outputs": [],
   "source": []
  }
 ],
 "metadata": {
  "hide_input": false,
  "kernelspec": {
   "display_name": "Python 3",
   "language": "python",
   "name": "python3"
  },
  "language_info": {
   "codemirror_mode": {
    "name": "ipython",
    "version": 3
   },
   "file_extension": ".py",
   "mimetype": "text/x-python",
   "name": "python",
   "nbconvert_exporter": "python",
   "pygments_lexer": "ipython3",
   "version": "3.7.6"
  },
  "toc": {
   "base_numbering": 1,
   "nav_menu": {},
   "number_sections": true,
   "sideBar": true,
   "skip_h1_title": false,
   "title_cell": "Table of Contents",
   "title_sidebar": "Contents",
   "toc_cell": false,
   "toc_position": {
    "height": "calc(100% - 180px)",
    "left": "10px",
    "top": "150px",
    "width": "304.475px"
   },
   "toc_section_display": true,
   "toc_window_display": true
  },
  "varInspector": {
   "cols": {
    "lenName": 16,
    "lenType": 16,
    "lenVar": 40
   },
   "kernels_config": {
    "python": {
     "delete_cmd_postfix": "",
     "delete_cmd_prefix": "del ",
     "library": "var_list.py",
     "varRefreshCmd": "print(var_dic_list())"
    },
    "r": {
     "delete_cmd_postfix": ") ",
     "delete_cmd_prefix": "rm(",
     "library": "var_list.r",
     "varRefreshCmd": "cat(var_dic_list()) "
    }
   },
   "types_to_exclude": [
    "module",
    "function",
    "builtin_function_or_method",
    "instance",
    "_Feature"
   ],
   "window_display": false
  }
 },
 "nbformat": 4,
 "nbformat_minor": 4
}
