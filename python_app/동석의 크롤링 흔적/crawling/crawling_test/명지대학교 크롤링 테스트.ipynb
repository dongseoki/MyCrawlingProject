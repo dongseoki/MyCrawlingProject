{
 "cells": [
  {
   "cell_type": "code",
   "execution_count": 7,
   "metadata": {
    "ExecuteTime": {
     "end_time": "2020-05-17T07:48:15.554628Z",
     "start_time": "2020-05-17T07:48:15.517540Z"
    }
   },
   "outputs": [],
   "source": [
    "from urllib.request import urlopen\n",
    "from urllib import parse\n",
    "from selenium import webdriver\n",
    "from bs4 import BeautifulSoup\n",
    "\n",
    "from flask import Flask\n",
    "from flask import request\n",
    "from flask import jsonify\n",
    "\n",
    "import time\n",
    "import os\n",
    "import json\n",
    "import re\n",
    "import sys, traceback\n",
    "import threading\n",
    "\n",
    "KW_CODE =0\n",
    "KM_CODE =1\n",
    "DJ_CODE=2\n",
    "DS_CODE=3\n",
    "DD_CODE=4\n",
    "MJ_CODE=5\n",
    "SY_CODE=6\n",
    "SM_CODE=7\n",
    "SK_CODE=8\n",
    "SW_CODE=9\n",
    "SS_CODE=10\n",
    "HS_CODE=11\n",
    "\n",
    "\n",
    "# In[4]:\n",
    "\n",
    "\n",
    "base_start_url_list = ['http://kupis.kw.ac.kr/',\n",
    "'http://lib.kookmin.ac.kr/',\n",
    "'http://library.daejin.ac.kr/',\n",
    "'http://discover.duksung.ac.kr/',\n",
    "'http://library.dongduk.ac.kr/',\n",
    "'http://lib.mju.ac.kr/',\n",
    "'http://lib.syu.ac.kr/',\n",
    "'https://lib.smu.ac.kr/',\n",
    "'http://library.skuniv.ac.kr/',\n",
    "'http://lib.swu.ac.kr/',\n",
    "'http://lib.sungshin.ac.kr/',\n",
    "'http://hsel.hansung.ac.kr/']\n",
    "\n",
    "base_middle_url_list = ['search/caz/result?st=KWRD&commandType=advanced&si=1&q=',\n",
    "'#/search/ex?isbn=1%7Cl%7Ca%7C',\n",
    "'data_data_list.mir?search_keyword_type1=isbn&search_keyword1=',\n",
    "'#/search/ex?isbn=1%7Ck%7Ca%7C',\n",
    "'#/search/ex?isbn=1%7Cl%7Ca%7C',\n",
    "'search/Search.Result.ax',\n",
    "'',\n",
    "'Search/?q=',\n",
    "'',\n",
    "'',\n",
    "'',\n",
    "'']\n",
    "\n",
    "\n",
    "\n",
    "\n",
    "\n",
    "base_end_url_list = ['&b0=and&weight0=&si=2&q=&b1=and&weight1=&si=3&q=&weight2=&inc=TOTAL&_inc=on&_inc=on&_inc=on&_inc=on&_inc=on&_inc=on&lmt0=TOTAL&lmtsn=000000000003&lmtst=OR&rf=&rt=&range=000000000021&cpp=10&msc=100',\n",
    "'&branch=1&material-type=1',\n",
    "'&srch_condi_01=AND&search_keyword_type2=author&search_keyword2=&srch_condi_02=AND&search_keyword_type3=subject&search_keyword3=&srch_condi_03=%E2%96%B2&select_current_sort_type=&select_current_sort_order=&select_current_per_page_num=10&basic_list=list&current_per_page_num=10&current_sort_type=&current_sort_order=&MAXI=1000&mloc_code=DJUL&facet_limit_search_field_code=&scope_code=&mtype_code=M&type_code=',\n",
    "'&material-type=1',\n",
    "'&branch=1&material-type=1',\n",
    "'?sid=1&q=ISBN%3A{}%3A1&eq=&mf=true&qt=ISBN%3D{}&qf={}&f=&br=&cl=&gr=1+3+4+5+6+7+8+9+10+11+12+13+14+2+15+16+26+27+17+18+19+20+21+22+23+24+25+28+29+30+33+34&rl=&page=&pageSize=0&s=&st=&h=&cr=&py=&subj=&facet=Y&nd=&vid=0&fv=%24esc.html%28%24%21%7BFilters%7D%29&tabID=',\n",
    "'',\n",
    "'',\n",
    "'',\n",
    "'',\n",
    "'',\n",
    "''\n",
    "]\n",
    "\n",
    "\n",
    "\n",
    "class LibraryLS:\n",
    "    def __init__(self, sid):\n",
    "        self.sid = sid\n",
    "        self.loanStatusList = []\n",
    "        self.errorMessage= ''\n",
    "    \n",
    "\n",
    "\n",
    "# In[8]:\n",
    "\n",
    "\n",
    "class LoanStatus:\n",
    "    def __init__(self, title = '', RN = '', CN = '', POS = '', STATE = -1, RDD = '', BN = 0, errorMessage = ''):\n",
    "        self.title = title\n",
    "        self.RN= RN\n",
    "        self.CN= CN\n",
    "        self.POS= POS\n",
    "        self.STATE= STATE\n",
    "        self.RDD = RDD#'2222-12-31'\n",
    "        self.BN = BN\n",
    "        self.errorMessage = errorMessage\n",
    "'''#STATE : 도서 상태,\n",
    "#-1  에러\n",
    "#1 대출가능\n",
    "#0 대출중\n",
    "#2 지정도서\n",
    "# 대출불가 아직 생각 안함.\n",
    "#RN : 등록번호\n",
    "#CN : 청구기호\n",
    "#POS : 위치\n",
    "이런것들'''\n",
    "\n",
    "\n",
    "\n",
    "stateDict = {'대출중': 0, '예약도서대출중':0, '폐가도서대출중':0,'행낭대출중':0, '이용가능':1,'대출가능':1, '지정도서':2}\n",
    "\n"
   ]
  },
  {
   "cell_type": "code",
   "execution_count": 1,
   "metadata": {
    "ExecuteTime": {
     "end_time": "2020-05-17T06:55:38.886668Z",
     "start_time": "2020-05-17T06:55:38.881754Z"
    }
   },
   "outputs": [],
   "source": [
    "#https://lib.mju.ac.kr/search/Search.Result.ax?sid=1&q=ISBN%3A9788996094050%3A1&eq=&mf=true&qt=ISBN%3D9788996094050&qf=9788996094050&f=&br=&cl=&gr=1+3+4+5+6+7+8+9+10+11+12+13+14+2+15+16+26+27+17+18+19+20+21+22+23+24+25+28+29+30+33+34&rl=&page=&pageSize=0&s=&st=&h=&cr=&py=&subj=&facet=Y&nd=&vid=0&fv=%24esc.html%28%24%21%7BFilters%7D%29&tabID="
   ]
  },
  {
   "cell_type": "code",
   "execution_count": 11,
   "metadata": {
    "ExecuteTime": {
     "end_time": "2020-05-17T07:51:02.745291Z",
     "start_time": "2020-05-17T07:51:02.737485Z"
    }
   },
   "outputs": [],
   "source": [
    "def makeSearchUrl(ISBN, title, sid, flag):\n",
    "    if flag ==1:\n",
    "        if sid == MJ_CODE :\n",
    "            searchUrl = base_start_url_list[sid]+base_middle_url_list[sid] + base_end_url_list[sid].format(ISBN, ISBN, ISBN)\n",
    "        else :\n",
    "            searchUrl = base_start_url_list[sid]+base_middle_url_list[sid] + ISBN+ base_end_url_list[sid]\n",
    "    else :\n",
    "        # flag 2.\n",
    "        searchUrl = base_start_url_list[sid]+base_middle_url_list[sid] + title+ base_end_url_list[sid]\n",
    "    return searchUrl"
   ]
  },
  {
   "cell_type": "code",
   "execution_count": 3,
   "metadata": {
    "ExecuteTime": {
     "end_time": "2020-05-17T07:01:44.500372Z",
     "start_time": "2020-05-17T07:01:44.495496Z"
    }
   },
   "outputs": [],
   "source": [
    "testStr =  ''"
   ]
  },
  {
   "cell_type": "code",
   "execution_count": 5,
   "metadata": {
    "ExecuteTime": {
     "end_time": "2020-05-17T07:02:30.076316Z",
     "start_time": "2020-05-17T07:02:30.058773Z"
    }
   },
   "outputs": [
    {
     "data": {
      "text/plain": [
       "'?sid=1&q=ISBN%3A9788996094050%3A1&eq=&mf=true&qt=ISBN%3D9788996094050&qf=9788996094050&f=&br=&cl=&gr=1+3+4+5+6+7+8+9+10+11+12+13+14+2+15+16+26+27+17+18+19+20+21+22+23+24+25+28+29+30+33+34&rl=&page=&pageSize=0&s=&st=&h=&cr=&py=&subj=&facet=Y&nd=&vid=0&fv=%24esc.html%28%24%21%7BFilters%7D%29&tabID='"
      ]
     },
     "execution_count": 5,
     "metadata": {},
     "output_type": "execute_result"
    }
   ],
   "source": [
    "testStr.format('9788996094050', '9788996094050', '9788996094050')"
   ]
  },
  {
   "cell_type": "code",
   "execution_count": 13,
   "metadata": {
    "ExecuteTime": {
     "end_time": "2020-05-17T07:51:15.579117Z",
     "start_time": "2020-05-17T07:51:15.572290Z"
    }
   },
   "outputs": [
    {
     "data": {
      "text/plain": [
       "'http://lib.mju.ac.kr/search/Search.Result.ax?sid=1&q=ISBN%3A9788996094050%3A1&eq=&mf=true&qt=ISBN%3D9788996094050&qf=9788996094050&f=&br=&cl=&gr=1+3+4+5+6+7+8+9+10+11+12+13+14+2+15+16+26+27+17+18+19+20+21+22+23+24+25+28+29+30+33+34&rl=&page=&pageSize=0&s=&st=&h=&cr=&py=&subj=&facet=Y&nd=&vid=0&fv=%24esc.html%28%24%21%7BFilters%7D%29&tabID='"
      ]
     },
     "execution_count": 13,
     "metadata": {},
     "output_type": "execute_result"
    }
   ],
   "source": [
    "makeSearchUrl('9788996094050','(윤성우의)열혈 C 프로그래밍', MJ_CODE, 1)"
   ]
  },
  {
   "cell_type": "code",
   "execution_count": 14,
   "metadata": {
    "ExecuteTime": {
     "end_time": "2020-05-17T07:51:59.213397Z",
     "start_time": "2020-05-17T07:51:59.204612Z"
    }
   },
   "outputs": [
    {
     "data": {
      "text/plain": [
       "'http://lib.mju.ac.kr/search/Search.Result.ax?sid=1&q=ISBN%3A9791186757093%3A1&eq=&mf=true&qt=ISBN%3D9791186757093&qf=9791186757093&f=&br=&cl=&gr=1+3+4+5+6+7+8+9+10+11+12+13+14+2+15+16+26+27+17+18+19+20+21+22+23+24+25+28+29+30+33+34&rl=&page=&pageSize=0&s=&st=&h=&cr=&py=&subj=&facet=Y&nd=&vid=0&fv=%24esc.html%28%24%21%7BFilters%7D%29&tabID='"
      ]
     },
     "execution_count": 14,
     "metadata": {},
     "output_type": "execute_result"
    }
   ],
   "source": [
    "makeSearchUrl('9791186757093','자존감수업', MJ_CODE, 1)"
   ]
  },
  {
   "cell_type": "code",
   "execution_count": 65,
   "metadata": {
    "ExecuteTime": {
     "end_time": "2020-05-17T09:42:11.545340Z",
     "start_time": "2020-05-17T09:42:00.765422Z"
    }
   },
   "outputs": [],
   "source": [
    "import re\n",
    "\n",
    "import time\n",
    "from selenium import webdriver\n",
    "from selenium.webdriver.chrome.options import Options\n",
    "\n",
    "from selenium.webdriver.common.by import By\n",
    "from selenium.webdriver.support.ui import WebDriverWait\n",
    "from selenium.webdriver.support import expected_conditions as EC\n",
    "\n",
    "from bs4 import BeautifulSoup\n",
    "import copy\n",
    "\n",
    "\n",
    "options = Options()\n",
    "options.headless = True\n",
    "\n",
    "browser = webdriver.Chrome(executable_path=\"./chromedriver.exe\", options=options)\n",
    "\n",
    "#browser.get('https://library.dongduk.ac.kr/#/search/ex?isbn=1%7Cl%7Ca%7C9791165075064&branch=1&material-type=1')\n",
    "# 되는 케이스\n",
    "\n",
    "#browser.get('http://lib.mju.ac.kr/search/Search.Result.ax?sid=1&q=ISBN%3A9788996094050%3A1&eq=&mf=true&qt=ISBN%3D9788996094050&qf=9788996094050&f=&br=&cl=&gr=1+3+4+5+6+7+8+9+10+11+12+13+14+2+15+16+26+27+17+18+19+20+21+22+23+24+25+28+29+30+33+34&rl=&page=&pageSize=0&s=&st=&h=&cr=&py=&subj=&facet=Y&nd=&vid=0&fv=%24esc.html%28%24%21%7BFilters%7D%29&tabID=')\n",
    "#9788931004441 새로운 케이스\n",
    "\n",
    "\n",
    "#browser.get(makeSearchUrl('9791186757093','자존감수업', MJ_CODE, 1))\n",
    "browser.get(makeSearchUrl('9791186757000','없는책', MJ_CODE, 1))\n",
    "#대출중 있는 것\n",
    "\n",
    "\n",
    "\n",
    "#9788953934283 새로운 케이스\n",
    "#browser.get('https://library.daejin.ac.kr/data_data_list.mir?search_keyword_type1=isbn&search_keyword1=9788953934283&srch_condi_01=AND&search_keyword_type2=author&search_keyword2=&srch_condi_02=AND&search_keyword_type3=subject&search_keyword3=&srch_condi_03=%E2%96%B2&select_current_sort_type=&select_current_sort_order=&select_current_per_page_num=10&basic_list=list&current_per_page_num=10&current_sort_type=&current_sort_order=&MAXI=1000&mloc_code=DJUL&facet_limit_search_field_code=&scope_code=&mtype_code=M&type_code=')\n",
    "# 되는 케이스\n",
    "\n",
    "#browser.get('https://discover.duksung.ac.kr/#/search/ex?isbn=1%7Ck%7Ca%7C9788934985099&material-type=1')\n",
    "#안되는 케이스"
   ]
  },
  {
   "cell_type": "code",
   "execution_count": 70,
   "metadata": {
    "ExecuteTime": {
     "end_time": "2020-05-17T09:43:46.405436Z",
     "start_time": "2020-05-17T09:43:46.385921Z"
    }
   },
   "outputs": [
    {
     "data": {
      "text/plain": [
       "'https://lib.mju.ac.kr/search/Search.Result.ax?sid=1&q=ISBN%3A9791186757000%3A1&eq=&mf=true&qt=ISBN%3D9791186757000&qf=9791186757000&f=&br=&cl=&gr=1+3+4+5+6+7+8+9+10+11+12+13+14+2+15+16+26+27+17+18+19+20+21+22+23+24+25+28+29+30+33+34&rl=&page=&pageSize=0&s=&st=&h=&cr=&py=&subj=&facet=Y&nd=&vid=0&fv=%24esc.html%28%24%21%7BFilters%7D%29&tabID='"
      ]
     },
     "execution_count": 70,
     "metadata": {},
     "output_type": "execute_result"
    }
   ],
   "source": [
    "browser.current_url"
   ]
  },
  {
   "cell_type": "code",
   "execution_count": 77,
   "metadata": {
    "ExecuteTime": {
     "end_time": "2020-05-17T09:50:40.974287Z",
     "start_time": "2020-05-17T09:50:40.927425Z"
    }
   },
   "outputs": [],
   "source": [
    "linkXpath = '//*[@id=\"frmResultList\"]/ul/li/dl/dd/div/div/div[3]/a[1]'\n",
    "#$(SELECTOR)\n",
    "browserCheckXpath = '//*[@id=\"container_inner\"]/div[1]/h2/img'\n",
    "#소장검색 이라는 단어\n",
    "\n",
    "try:\n",
    "    WebDriverWait(browser, 120).until(EC.presence_of_element_located((By.XPATH, browserCheckXpath)))\n",
    "    linkElement = WebDriverWait(browser, 2).until(EC.presence_of_element_located((By.XPATH, linkXpath)))\n",
    "    #linkElement = browser.find_element_by_xpath(linkXpath)\n",
    "    # 오류가능성.\n",
    "    if linkElement.text == '':\n",
    "        linkElement = -1\n",
    "except :\n",
    "    print('예외가 발생! 찾는 책이 없음')\n",
    "    linkElement = -1"
   ]
  },
  {
   "cell_type": "code",
   "execution_count": 78,
   "metadata": {
    "ExecuteTime": {
     "end_time": "2020-05-17T09:50:42.237263Z",
     "start_time": "2020-05-17T09:50:42.222625Z"
    }
   },
   "outputs": [
    {
     "ename": "AttributeError",
     "evalue": "'int' object has no attribute 'text'",
     "output_type": "error",
     "traceback": [
      "\u001b[1;31m---------------------------------------------------------------------------\u001b[0m",
      "\u001b[1;31mAttributeError\u001b[0m                            Traceback (most recent call last)",
      "\u001b[1;32m<ipython-input-78-5b59e98da175>\u001b[0m in \u001b[0;36m<module>\u001b[1;34m\u001b[0m\n\u001b[1;32m----> 1\u001b[1;33m \u001b[0mlinkElement\u001b[0m\u001b[1;33m.\u001b[0m\u001b[0mtext\u001b[0m\u001b[1;33m\u001b[0m\u001b[1;33m\u001b[0m\u001b[0m\n\u001b[0m",
      "\u001b[1;31mAttributeError\u001b[0m: 'int' object has no attribute 'text'"
     ]
    }
   ],
   "source": [
    "linkElement.text"
   ]
  },
  {
   "cell_type": "code",
   "execution_count": 79,
   "metadata": {
    "ExecuteTime": {
     "end_time": "2020-05-17T09:50:44.300527Z",
     "start_time": "2020-05-17T09:50:44.294672Z"
    }
   },
   "outputs": [
    {
     "name": "stdout",
     "output_type": "stream",
     "text": [
      "-1...\n"
     ]
    }
   ],
   "source": [
    "if linkElement == -1 :\n",
    "    print('-1...')\n",
    "else : \n",
    "    print('success')"
   ]
  },
  {
   "cell_type": "code",
   "execution_count": 29,
   "metadata": {
    "ExecuteTime": {
     "end_time": "2020-05-17T08:00:56.259843Z",
     "start_time": "2020-05-17T08:00:55.656673Z"
    }
   },
   "outputs": [],
   "source": [
    "linkElement.click()"
   ]
  },
  {
   "cell_type": "code",
   "execution_count": 30,
   "metadata": {
    "ExecuteTime": {
     "end_time": "2020-05-17T08:00:56.686348Z",
     "start_time": "2020-05-17T08:00:56.446250Z"
    }
   },
   "outputs": [
    {
     "data": {
      "text/plain": [
       "'https://lib.mju.ac.kr/search/DetailView.ax?sid=1&cid=3794834'"
      ]
     },
     "execution_count": 30,
     "metadata": {},
     "output_type": "execute_result"
    }
   ],
   "source": [
    "browser.current_url"
   ]
  },
  {
   "cell_type": "code",
   "execution_count": 32,
   "metadata": {
    "ExecuteTime": {
     "end_time": "2020-05-17T08:05:27.820226Z",
     "start_time": "2020-05-17T08:05:24.288084Z"
    }
   },
   "outputs": [],
   "source": [
    "browserCheckXpath = '//*[@id=\"container_inner\"]/div[1]/h2/img'\n",
    "#소장검색 이라는 단어\n",
    "\n",
    "try:\n",
    "    WebDriverWait(browser, 120).until(EC.presence_of_element_located((By.XPATH, browserCheckXpath)))\n",
    "except :\n",
    "    print('error detected')\n",
    "\n",
    "time.sleep(1)\n",
    "html = browser.page_source\n",
    "bsObject=BeautifulSoup(html, 'html.parser')\n",
    "strISBNIncluded = str(bsObject.select('#detailMetaData'))"
   ]
  },
  {
   "cell_type": "code",
   "execution_count": 33,
   "metadata": {
    "ExecuteTime": {
     "end_time": "2020-05-17T08:05:56.529954Z",
     "start_time": "2020-05-17T08:05:56.519218Z"
    }
   },
   "outputs": [
    {
     "data": {
      "text/plain": [
       "'[<td id=\"detailMetaData\" style=\"padding-top:10px;\">\\n<div id=\"MetaData\">\\n<table width=\"100%\">\\n<tbody><tr>\\n<td>\\n<table width=\"100%\">\\n<tbody id=\"metaDataBody\">\\n<tr>\\n<td class=\"detailHead\">자료유형 :</td>\\n<td class=\"detailBody\">동양서단행본</td>\\n</tr>\\n<tr>\\n<td class=\"detailHead\">서명 / 저자 : </td><td class=\"detailBody\">자존감 수업 : 하루에 하나, 나를 사랑하게 되는 자존감 회복 훈련 / 윤홍균 지음.</td>\\n</tr><tr>\\n<td class=\"detailHead\">기타서명 : </td><td class=\"detailBody\">오늘부터 자존감 있는 삶!.<br/></td>\\n</tr><tr>\\n<td class=\"detailHead\">개인저자 : </td><td class=\"detailBody\"> <a href=\"javascript:search.searchLink(\\'AUTH\\',\\'윤홍균. \\');\">윤홍균. </a></td>\\n</tr><tr>\\n<td class=\"detailHead\">발행사항 : </td><td class=\"detailBody\">[서울] : 심플라이프, 2016. </td>\\n</tr><tr>\\n<td class=\"detailHead\">형태사항 : </td><td class=\"detailBody\">304 p. : 삽도 ; 23 cm.</td>\\n</tr><tr>\\n<td class=\"detailHead\">키워드 : </td><td class=\"detailBody\">\\n<a href=\"javascript:search.searchLink(\\'ALL\\',\\'자존감\\');\">자존감</a></td>\\n</tr><tr>\\n<td class=\"detailHead\">ISBN : </td><td class=\"detailBody\">9791186757093</td>\\n</tr><tr>\\n<td class=\"detailHead\">청구기호 : </td><td class=\"detailBody\">155.2 윤95자</td>\\n</tr>\\n<!-- asdf1: <tr>\\n<td class=\"detailHead\">서명 / 저자 : </td><td class=\"detailBody\">자존감 수업 : 하루에 하나, 나를 사랑하게 되는 자존감 회복 훈련 / 윤홍균 지음.</td>\\n</tr><tr>\\n<td class=\"detailHead\">기타서명 : </td><td class=\"detailBody\">오늘부터 자존감 있는 삶!.<br></td>\\n</tr><tr>\\n<td class=\"detailHead\">개인저자 : </td><td class=\"detailBody\"> <a href=\"javascript:search.searchLink(\\'AUTH\\',\\'윤홍균. \\');\">윤홍균. </a></td>\\n</tr><tr>\\n<td class=\"detailHead\">발행사항 : </td><td class=\"detailBody\">[서울] : 심플라이프, 2016. </td>\\n</tr><tr>\\n<td class=\"detailHead\">형태사항 : </td><td class=\"detailBody\">304 p. : 삽도 ; 23 cm.</td>\\n</tr><tr>\\n<td class=\"detailHead\">키워드 : </td><td class=\"detailBody\">\\n                    <a href=\"javascript:search.searchLink(\\'ALL\\',\\'자존감\\');\">자존감</a></td>\\n</tr><tr>\\n<td class=\"detailHead\">ISBN : </td><td class=\"detailBody\">9791186757093</td>\\n</tr><tr>\\n<td class=\"detailHead\">청구기호 : </td><td class=\"detailBody\">155.2 윤95자</td>\\n</tr>\\n -->\\n<!-- asdf2: <tr>\\n<td class=\"detailHead\">서명 / 저자 : </td><td class=\"detailBody\">자존감 수업 : 하루에 하나, 나를 사랑하게 되는 자존감 회복 훈련 / 윤홍균 지음.</td>\\n</tr><tr>\\n<td class=\"detailHead\">기타서명 : </td><td class=\"detailBody\">오늘부터 자존감 있는 삶!.<br></td>\\n</tr><tr>\\n<td class=\"detailHead\">개인저자 : </td><td class=\"detailBody\"> <a href=\"javascript:search.searchLink(\\'AUTH\\',\\'윤홍균. \\');\">윤홍균. </a></td>\\n</tr><tr>\\n<td class=\"detailHead\">발행사항 : </td><td class=\"detailBody\">[서울] : 심플라이프, 2016. </td>\\n</tr><tr>\\n<td class=\"detailHead\">형태사항 : </td><td class=\"detailBody\">304 p. : 삽도 ; 23 cm.</td>\\n</tr><tr>\\n<td class=\"detailHead\">키워드 : </td><td class=\"detailBody\">\\n                    <a href=\"javascript:search.searchLink(\\'ALL\\',\\'자존감\\');\">자존감</a></td>\\n</tr><tr>\\n<td class=\"detailHead\">ISBN : </td><td class=\"detailBody\">9791186757093</td>\\n</tr><tr>\\n<td class=\"detailHead\">청구기호 : </td><td class=\"detailBody\">155.2 윤95자</td>\\n</tr>\\n -->\\n</tbody>\\n</table>\\n</td>\\n</tr>\\n</tbody></table> </div>\\n</td>]'"
      ]
     },
     "execution_count": 33,
     "metadata": {},
     "output_type": "execute_result"
    }
   ],
   "source": [
    "strISBNIncluded"
   ]
  },
  {
   "cell_type": "code",
   "execution_count": 34,
   "metadata": {
    "ExecuteTime": {
     "end_time": "2020-05-17T08:06:25.923196Z",
     "start_time": "2020-05-17T08:06:25.915390Z"
    }
   },
   "outputs": [],
   "source": [
    "def compareISBN(text, ISBN):\n",
    "    regex = re.compile(ISBN)\n",
    "    matchObj = regex.search(text)\n",
    "    if matchObj is None :\n",
    "        return False\n",
    "    else:\n",
    "        return True"
   ]
  },
  {
   "cell_type": "code",
   "execution_count": 58,
   "metadata": {
    "ExecuteTime": {
     "end_time": "2020-05-17T08:35:37.313048Z",
     "start_time": "2020-05-17T08:35:37.301336Z"
    }
   },
   "outputs": [
    {
     "name": "stdout",
     "output_type": "stream",
     "text": [
      "True\n",
      "False\n"
     ]
    }
   ],
   "source": [
    "print(compareISBN(strISBNIncluded, '9791186757093'))\n",
    "#진짜\n",
    "print(compareISBN(strISBNIncluded, '9791165075062'))\n",
    "#가짜."
   ]
  },
  {
   "cell_type": "code",
   "execution_count": 59,
   "metadata": {
    "ExecuteTime": {
     "end_time": "2020-05-17T08:36:14.413723Z",
     "start_time": "2020-05-17T08:36:14.077004Z"
    }
   },
   "outputs": [
    {
     "data": {
      "text/plain": [
       "7"
      ]
     },
     "execution_count": 59,
     "metadata": {},
     "output_type": "execute_result"
    }
   ],
   "source": [
    "num = 1\n",
    "#itmdtl_info01 > div > table > tbody > tr\n",
    "loanResultList = []\n",
    "while True:\n",
    "    semiLoanResultList = bsObject.select('#itmdtl_info0'+str(num)+' > div > table > tbody > tr')\n",
    "    if len(semiLoanResultList) == 0 :\n",
    "        break\n",
    "    else :\n",
    "        loanResultList.extend(semiLoanResultList)\n",
    "    num +=1\n",
    "\n",
    "len(loanResultList)        \n",
    "# loanResultList =bsObject.select('#itmdtl_info01 > div > table > tbody > tr')\n",
    "# len(loanResultList)\n",
    "# loanResultList =bsObject.select('#itmdtl_info02 > div > table > tbody > tr')\n",
    "# len(loanResultList)\n",
    "\n",
    "# loanResultList =bsObject.select('#itmdtl_info03 > div > table > tbody > tr')\n",
    "# type(loanResultList)"
   ]
  },
  {
   "cell_type": "code",
   "execution_count": 62,
   "metadata": {
    "ExecuteTime": {
     "end_time": "2020-05-17T08:41:03.436058Z",
     "start_time": "2020-05-17T08:41:03.424345Z"
    }
   },
   "outputs": [],
   "source": [
    "def findState(text, sid = -1):\n",
    "    if sid == KM_CODE or sid == DS_CODE or sid == DD_CODE:\n",
    "        regex = re.compile('(\\w+)\\s+')\n",
    "        matchObj = regex.search(text)\n",
    "        text = matchObj.group(1)\n",
    "    # 국민대 의 경우 전처리.\n",
    "\n",
    "    try:\n",
    "        STATE = stateDict[text]\n",
    "    except KeyError:\n",
    "        STATE = -1\n",
    "    return STATE"
   ]
  },
  {
   "cell_type": "code",
   "execution_count": 64,
   "metadata": {
    "ExecuteTime": {
     "end_time": "2020-05-17T08:43:54.792217Z",
     "start_time": "2020-05-17T08:43:54.781481Z"
    }
   },
   "outputs": [
    {
     "name": "stdout",
     "output_type": "stream",
     "text": [
      "7\n",
      "7001326651\n",
      "155.2 윤95자\n",
      "4층인문과학자료실\n",
      "대출가능 1\n",
      "\n",
      "7\n",
      "7001324589\n",
      "155.2 윤95자\n",
      "4층인문과학자료실\n",
      "대출가능 1\n",
      "\n",
      "7\n",
      "7001332393\n",
      "155.2 윤95자\n",
      "4층인문과학자료실\n",
      "대출중 0\n",
      "2020-06-26\n",
      "7\n",
      "3000685932\n",
      "155.2 윤95자\n",
      "3층인문예술단행본\n",
      "대출가능 1\n",
      "\n",
      "7\n",
      "3000677585\n",
      "155.2 윤95자\n",
      "3층인문예술단행본\n",
      "대출가능 1\n",
      "\n",
      "7\n",
      "3000677583\n",
      "155.2 윤95자\n",
      "3층인문예술단행본\n",
      "대출가능 1\n",
      "\n",
      "7\n",
      "3000685933\n",
      "155.2 윤95자\n",
      "3층인문예술단행본\n",
      "대출중 0\n",
      "2019-08-27\n"
     ]
    }
   ],
   "source": [
    "for item in loanResultList:\n",
    "    RDD = ''\n",
    "    content = item.find_all('td')\n",
    "    print(len(content))\n",
    "    errorMessage = ''\n",
    "    RN = content[1].text.strip()\n",
    "    CN = content[3].text.strip()\n",
    "    POS = content[2].text.strip()\n",
    "    STATE_STRING = content[4].text.strip()\n",
    "    STATE = findState(STATE_STRING, MJ_CODE)\n",
    "    if STATE == 0 :\n",
    "        RDD  =content[5].text.strip()\n",
    "        \n",
    "    #RDD = content[5].text.strip()\n",
    "    print(RN)\n",
    "    print(CN)\n",
    "    print(POS)\n",
    "    print(STATE_STRING, STATE)\n",
    "    print(RDD)\n",
    "    #print(content[8])\n",
    "        \n",
    "    #print('등록번호 : ', item)"
   ]
  },
  {
   "cell_type": "code",
   "execution_count": 55,
   "metadata": {
    "ExecuteTime": {
     "end_time": "2020-05-17T08:30:37.958490Z",
     "start_time": "2020-05-17T08:30:37.948729Z"
    }
   },
   "outputs": [
    {
     "name": "stdout",
     "output_type": "stream",
     "text": [
      "None\n"
     ]
    }
   ],
   "source": [
    "li = [1,2,3]\n",
    "li2 = [4,5,6]\n",
    "li3 =li.extend(li2)\n",
    "print(li3)"
   ]
  },
  {
   "cell_type": "code",
   "execution_count": 56,
   "metadata": {
    "ExecuteTime": {
     "end_time": "2020-05-17T08:30:43.660278Z",
     "start_time": "2020-05-17T08:30:43.652470Z"
    }
   },
   "outputs": [
    {
     "data": {
      "text/plain": [
       "[1, 2, 3, 4, 5, 6]"
      ]
     },
     "execution_count": 56,
     "metadata": {},
     "output_type": "execute_result"
    }
   ],
   "source": [
    "li"
   ]
  },
  {
   "cell_type": "code",
   "execution_count": null,
   "metadata": {},
   "outputs": [],
   "source": []
  }
 ],
 "metadata": {
  "hide_input": false,
  "kernelspec": {
   "display_name": "Python 3",
   "language": "python",
   "name": "python3"
  },
  "language_info": {
   "codemirror_mode": {
    "name": "ipython",
    "version": 3
   },
   "file_extension": ".py",
   "mimetype": "text/x-python",
   "name": "python",
   "nbconvert_exporter": "python",
   "pygments_lexer": "ipython3",
   "version": "3.7.6"
  },
  "toc": {
   "base_numbering": 1,
   "nav_menu": {},
   "number_sections": true,
   "sideBar": true,
   "skip_h1_title": false,
   "title_cell": "Table of Contents",
   "title_sidebar": "Contents",
   "toc_cell": false,
   "toc_position": {},
   "toc_section_display": true,
   "toc_window_display": false
  },
  "varInspector": {
   "cols": {
    "lenName": 16,
    "lenType": 16,
    "lenVar": 40
   },
   "kernels_config": {
    "python": {
     "delete_cmd_postfix": "",
     "delete_cmd_prefix": "del ",
     "library": "var_list.py",
     "varRefreshCmd": "print(var_dic_list())"
    },
    "r": {
     "delete_cmd_postfix": ") ",
     "delete_cmd_prefix": "rm(",
     "library": "var_list.r",
     "varRefreshCmd": "cat(var_dic_list()) "
    }
   },
   "oldHeight": 122.4,
   "position": {
    "height": "144px",
    "left": "1152.4px",
    "right": "20px",
    "top": "118px",
    "width": "350px"
   },
   "types_to_exclude": [
    "module",
    "function",
    "builtin_function_or_method",
    "instance",
    "_Feature"
   ],
   "varInspector_section_display": "block",
   "window_display": true
  }
 },
 "nbformat": 4,
 "nbformat_minor": 4
}
