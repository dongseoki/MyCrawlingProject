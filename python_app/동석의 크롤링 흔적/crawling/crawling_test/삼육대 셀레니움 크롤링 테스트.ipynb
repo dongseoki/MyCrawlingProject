{
 "cells": [
  {
   "cell_type": "code",
   "execution_count": 42,
   "metadata": {
    "ExecuteTime": {
     "end_time": "2020-05-23T06:09:26.662250Z",
     "start_time": "2020-05-23T06:09:26.654262Z"
    },
    "scrolled": true
   },
   "outputs": [],
   "source": [
    "#from ../GoogleCloudRun/GoogleCloudPlatformContainer/PythonApplication_Crawling/library import *\n",
    "#from ... import library\n",
    "import os\n",
    "import sys\n",
    "result = os.path.dirname(os.path.abspath(os.path.dirname('__file__')))\n",
    "sys.path.append(os.path.dirname(os.path.abspath(os.path.dirname('__file__'))))\n",
    "\n",
    "#C:\\GitHub\\SDDH\\crawling\\GoogleCloudRun\\GoogleCloudPlatformContainer\\PythonApplication_Crawling\n",
    "crawlingPath = 'C:\\\\GitHub\\\\SDDH\\\\crawling\\\\GoogleCloudRun\\\\GoogleCloudPlatformContainer\\\\PythonApplication_Crawling'\n",
    "sys.path.append(crawlingPath)\n",
    "\n",
    "from GoogleCloudRun.GoogleCloudPlatformContainer.PythonApplication_Crawling.library import *\n",
    "from GoogleCloudRun.GoogleCloudPlatformContainer.PythonApplication_Crawling.findLoanStatus import *\n",
    "# python ifdef 가 필요할듯... 그냥 makeSearchUrl 정도는 가져다 쓰자.\n",
    "\n"
   ]
  },
  {
   "cell_type": "markdown",
   "metadata": {},
   "source": [
    "### 책 예시"
   ]
  },
  {
   "cell_type": "code",
   "execution_count": 4,
   "metadata": {
    "ExecuteTime": {
     "end_time": "2020-05-23T05:03:48.971904Z",
     "start_time": "2020-05-23T05:03:48.965919Z"
    }
   },
   "outputs": [
    {
     "name": "stdout",
     "output_type": "stream",
     "text": [
      "http://lib.syu.ac.kr/search/caz/result?st=KWRD&commandType=advanced&mId=&si=1&q=%EC%9C%A4%EC%84%B1%EC%9A%B0%EC%9D%98%20%EC%97%B4%ED%98%88%20C%20%ED%94%84%EB%A1%9C%EA%B7%B8%EB%9E%98%EB%B0%8D&b0=and&weight0=&si=2&q=&b1=and&weight1=&si=3&q=&weight2=&inc=TOTAL&_inc=on&_inc=on&_inc=on&_inc=on&_inc=on&_inc=on&lmt0=TOTAL&lmtsn=000000000003&lmtst=OR&lmt1=A0000000&lmtsn=000000000006&lmtst=OR&rf=&rt=&range=000000000021&cpp=10&msc=10000\n"
     ]
    }
   ],
   "source": [
    "ISBN = '9788996094050'\n",
    "koreaTitle = '윤성우의 열혈 C 프로그래밍'\n",
    "title = parse.quote(koreaTitle)\n",
    "print(makeSearchUrl(ISBN, title, SY_CODE,2))"
   ]
  },
  {
   "cell_type": "code",
   "execution_count": 22,
   "metadata": {
    "ExecuteTime": {
     "end_time": "2020-05-23T05:46:43.143197Z",
     "start_time": "2020-05-23T05:46:43.135219Z"
    }
   },
   "outputs": [
    {
     "name": "stdout",
     "output_type": "stream",
     "text": [
      "http://lib.syu.ac.kr/search/caz/result?st=KWRD&commandType=advanced&mId=&si=1&q=%EB%B0%94%EB%9E%8C%EA%B3%BC%20%EA%B5%AC%EB%A6%84%EA%B3%BC%20%EB%B9%84%20%3A%20%EC%9D%B4%EB%B3%91%EC%A3%BC%20%EB%8C%80%ED%95%98%EC%86%8C%EC%84%A4&b0=and&weight0=&si=2&q=&b1=and&weight1=&si=3&q=&weight2=&inc=TOTAL&_inc=on&_inc=on&_inc=on&_inc=on&_inc=on&_inc=on&lmt0=TOTAL&lmtsn=000000000003&lmtst=OR&lmt1=A0000000&lmtsn=000000000006&lmtst=OR&rf=&rt=&range=000000000021&cpp=10&msc=10000\n"
     ]
    }
   ],
   "source": [
    "ISBN = '8975273520'\n",
    "koreaTitle = '바람과 구름과 비 : 이병주 대하소설'\n",
    "title = parse.quote(koreaTitle)\n",
    "print(makeSearchUrl(ISBN, title, SY_CODE,2))"
   ]
  },
  {
   "cell_type": "code",
   "execution_count": 44,
   "metadata": {
    "ExecuteTime": {
     "end_time": "2020-05-23T06:09:45.979060Z",
     "start_time": "2020-05-23T06:09:45.970082Z"
    }
   },
   "outputs": [
    {
     "name": "stdout",
     "output_type": "stream",
     "text": [
      "http://lib.syu.ac.kr/search/caz/result?st=KWRD&commandType=advanced&mId=&si=1&q=%EA%B2%80%EC%83%89%EA%B2%B0%EA%B3%BC%20%EC%97%86%EC%9D%8C.&b0=and&weight0=&si=2&q=&b1=and&weight1=&si=3&q=&weight2=&inc=TOTAL&_inc=on&_inc=on&_inc=on&_inc=on&_inc=on&_inc=on&lmt0=TOTAL&lmtsn=000000000003&lmtst=OR&lmt1=A0000000&lmtsn=000000000006&lmtst=OR&rf=&rt=&range=000000000021&cpp=10&msc=10000\n"
     ]
    }
   ],
   "source": [
    "ISBN = '9999999999999'\n",
    "koreaTitle = '검색결과 없음.'\n",
    "title = parse.quote(koreaTitle)\n",
    "print(makeSearchUrl(ISBN, title, SY_CODE,2))"
   ]
  },
  {
   "cell_type": "code",
   "execution_count": 48,
   "metadata": {
    "ExecuteTime": {
     "end_time": "2020-05-23T06:12:56.036882Z",
     "start_time": "2020-05-23T06:12:56.027910Z"
    }
   },
   "outputs": [
    {
     "name": "stdout",
     "output_type": "stream",
     "text": [
      "http://lib.syu.ac.kr/search/caz/result?st=KWRD&commandType=advanced&mId=&si=1&q=%EC%84%B1%EC%84%9C%EC%A0%81%20%EA%BF%88%20%EC%84%B1%EC%B7%A8%EB%A1%A0&b0=and&weight0=&si=2&q=&b1=and&weight1=&si=3&q=&weight2=&inc=TOTAL&_inc=on&_inc=on&_inc=on&_inc=on&_inc=on&_inc=on&lmt0=TOTAL&lmtsn=000000000003&lmtst=OR&lmt1=A0000000&lmtsn=000000000006&lmtst=OR&rf=&rt=&range=000000000021&cpp=10&msc=10000\n"
     ]
    }
   ],
   "source": [
    "ISBN = '9788996852308'\n",
    "koreaTitle = '성서적 꿈 성취론'\n",
    "title = parse.quote(koreaTitle)\n",
    "print(makeSearchUrl(ISBN, title, SY_CODE,2))"
   ]
  },
  {
   "cell_type": "code",
   "execution_count": 7,
   "metadata": {
    "ExecuteTime": {
     "end_time": "2020-05-23T05:32:48.678774Z",
     "start_time": "2020-05-23T05:32:48.665810Z"
    }
   },
   "outputs": [
    {
     "data": {
      "text/plain": [
       "'http://lib.syu.ac.kr/search/caz/result?st=KWRD&commandType=advanced&mId=&si=1&q=%EC%9E%90%EC%A1%B4%EA%B0%90%20%EC%88%98%EC%97%85%20%3A%20%ED%95%98%EB%A3%A8%EC%97%90%20%ED%95%98%EB%82%98%2C%20%EB%82%98%EB%A5%BC%20%EC%82%AC%EB%9E%91%ED%95%98%EA%B2%8C%20%EB%90%98%EB%8A%94%20%EC%9E%90%EC%A1%B4%EA%B0%90%20%ED%9A%8C%EB%B3%B5%20%ED%9B%88%EB%A0%A8&b0=and&weight0=&si=2&q=&b1=and&weight1=&si=3&q=&weight2=&inc=TOTAL&_inc=on&_inc=on&_inc=on&_inc=on&_inc=on&_inc=on&lmt0=TOTAL&lmtsn=000000000003&lmtst=OR&lmt1=A0000000&lmtsn=000000000006&lmtst=OR&rf=&rt=&range=000000000021&cpp=10&msc=10000'"
      ]
     },
     "execution_count": 7,
     "metadata": {},
     "output_type": "execute_result"
    }
   ],
   "source": [
    "ISBN = '9791186757093'\n",
    "koreaTitle = '자존감 수업 : 하루에 하나, 나를 사랑하게 되는 자존감 회복 훈련'\n",
    "title = parse.quote(koreaTitle)\n",
    "makeSearchUrl(ISBN, title, SY_CODE,2)"
   ]
  },
  {
   "cell_type": "code",
   "execution_count": 8,
   "metadata": {
    "ExecuteTime": {
     "end_time": "2020-05-23T05:34:05.287557Z",
     "start_time": "2020-05-23T05:34:05.280575Z"
    }
   },
   "outputs": [
    {
     "data": {
      "text/plain": [
       "'http://lib.syu.ac.kr/search/caz/result?st=KWRD&commandType=advanced&mId=&si=1&q=%EB%8D%B0%EC%9D%B4%ED%84%B0%20%EB%B6%84%EC%84%9D%20%EC%A0%84%EB%AC%B8%EA%B0%80%20%EA%B0%80%EC%9D%B4%EB%93%9C&b0=and&weight0=&si=2&q=&b1=and&weight1=&si=3&q=&weight2=&inc=TOTAL&_inc=on&_inc=on&_inc=on&_inc=on&_inc=on&_inc=on&lmt0=TOTAL&lmtsn=000000000003&lmtst=OR&lmt1=A0000000&lmtsn=000000000006&lmtst=OR&rf=&rt=&range=000000000021&cpp=10&msc=10000'"
      ]
     },
     "execution_count": 8,
     "metadata": {},
     "output_type": "execute_result"
    }
   ],
   "source": [
    "ISBN = '9788988474839'\n",
    "koreaTitle = '데이터 분석 전문가 가이드'\n",
    "title = parse.quote(koreaTitle)\n",
    "makeSearchUrl(ISBN, title, SY_CODE,2)"
   ]
  },
  {
   "cell_type": "code",
   "execution_count": 9,
   "metadata": {
    "ExecuteTime": {
     "end_time": "2020-05-23T05:35:05.739682Z",
     "start_time": "2020-05-23T05:35:05.727721Z"
    }
   },
   "outputs": [
    {
     "data": {
      "text/plain": [
       "'http://lib.syu.ac.kr/search/caz/result?st=KWRD&commandType=advanced&mId=&si=1&q=%28%EB%B9%84%EC%A6%88%EB%8B%88%EC%8A%A4%EB%A5%BC%20%EC%9C%84%ED%95%9C%29%20%EB%8D%B0%EC%9D%B4%ED%84%B0%20%EA%B3%BC%ED%95%99&b0=and&weight0=&si=2&q=&b1=and&weight1=&si=3&q=&weight2=&inc=TOTAL&_inc=on&_inc=on&_inc=on&_inc=on&_inc=on&_inc=on&lmt0=TOTAL&lmtsn=000000000003&lmtst=OR&lmt1=A0000000&lmtsn=000000000006&lmtst=OR&rf=&rt=&range=000000000021&cpp=10&msc=10000'"
      ]
     },
     "execution_count": 9,
     "metadata": {},
     "output_type": "execute_result"
    }
   ],
   "source": [
    "ISBN = '9788968481093'\n",
    "koreaTitle = '(비즈니스를 위한) 데이터 과학'\n",
    "title = parse.quote(koreaTitle)\n",
    "makeSearchUrl(ISBN, title, SY_CODE,2)"
   ]
  },
  {
   "cell_type": "code",
   "execution_count": 10,
   "metadata": {
    "ExecuteTime": {
     "end_time": "2020-05-23T05:35:59.928155Z",
     "start_time": "2020-05-23T05:35:59.920211Z"
    },
    "scrolled": true
   },
   "outputs": [
    {
     "data": {
      "text/plain": [
       "'http://lib.syu.ac.kr/search/caz/result?st=KWRD&commandType=advanced&mId=&si=1&q=%EC%86%8C%EC%9C%A0%EC%9D%98%20%EC%A2%85%EB%A7%90&b0=and&weight0=&si=2&q=&b1=and&weight1=&si=3&q=&weight2=&inc=TOTAL&_inc=on&_inc=on&_inc=on&_inc=on&_inc=on&_inc=on&lmt0=TOTAL&lmtsn=000000000003&lmtst=OR&lmt1=A0000000&lmtsn=000000000006&lmtst=OR&rf=&rt=&range=000000000021&cpp=10&msc=10000'"
      ]
     },
     "execution_count": 10,
     "metadata": {},
     "output_type": "execute_result"
    }
   ],
   "source": [
    "ISBN = '9788968481093'\n",
    "koreaTitle = '소유의 종말'\n",
    "title = parse.quote(koreaTitle)\n",
    "makeSearchUrl(ISBN, title, SY_CODE,2)"
   ]
  },
  {
   "cell_type": "markdown",
   "metadata": {},
   "source": [
    "### 크롤링 테스트"
   ]
  },
  {
   "cell_type": "code",
   "execution_count": 61,
   "metadata": {
    "ExecuteTime": {
     "end_time": "2020-05-23T06:19:34.231051Z",
     "start_time": "2020-05-23T06:19:26.805909Z"
    }
   },
   "outputs": [],
   "source": [
    "import re\n",
    "\n",
    "import time\n",
    "from selenium import webdriver\n",
    "from selenium.webdriver.chrome.options import Options\n",
    "\n",
    "from selenium.webdriver.common.by import By\n",
    "from selenium.webdriver.support.ui import WebDriverWait\n",
    "from selenium.webdriver.support import expected_conditions as EC\n",
    "\n",
    "from bs4 import BeautifulSoup\n",
    "import copy\n",
    "\n",
    "\n",
    "options = Options()\n",
    "options.headless = True\n",
    "\n",
    "browser = webdriver.Chrome(executable_path=\"./chromedriver.exe\", options=options)\n",
    "\n",
    "\n",
    "\n",
    "browser.get(makeSearchUrl(ISBN, title, SY_CODE,2))\n",
    "#대출중 있는 것\n",
    "\n",
    "\n",
    "\n",
    "#9788953934283 새로운 케이스\n",
    "#browser.get('https://library.daejin.ac.kr/data_data_list.mir?search_keyword_type1=isbn&search_keyword1=9788953934283&srch_condi_01=AND&search_keyword_type2=author&search_keyword2=&srch_condi_02=AND&search_keyword_type3=subject&search_keyword3=&srch_condi_03=%E2%96%B2&select_current_sort_type=&select_current_sort_order=&select_current_per_page_num=10&basic_list=list&current_per_page_num=10&current_sort_type=&current_sort_order=&MAXI=1000&mloc_code=DJUL&facet_limit_search_field_code=&scope_code=&mtype_code=M&type_code=')\n",
    "# 되는 케이스\n",
    "\n",
    "#browser.get('https://discover.duksung.ac.kr/#/search/ex?isbn=1%7Ck%7Ca%7C9788934985099&material-type=1')\n",
    "#안되는 케이스"
   ]
  },
  {
   "cell_type": "code",
   "execution_count": 63,
   "metadata": {
    "ExecuteTime": {
     "end_time": "2020-05-23T06:20:03.591660Z",
     "start_time": "2020-05-23T06:20:03.577729Z"
    }
   },
   "outputs": [
    {
     "name": "stdout",
     "output_type": "stream",
     "text": [
      "http://lib.syu.ac.kr/search/caz/result?st=KWRD&commandType=advanced&mId=&si=1&q=%EC%84%B1%EC%84%9C%EC%A0%81%20%EA%BF%88%20%EC%84%B1%EC%B7%A8%EB%A1%A0&b0=and&weight0=&si=2&q=&b1=and&weight1=&si=3&q=&weight2=&inc=TOTAL&_inc=on&_inc=on&_inc=on&_inc=on&_inc=on&_inc=on&lmt0=TOTAL&lmtsn=000000000003&lmtst=OR&lmt1=A0000000&lmtsn=000000000006&lmtst=OR&rf=&rt=&range=000000000021&cpp=10&msc=10000\n"
     ]
    }
   ],
   "source": [
    "print(browser.current_url)"
   ]
  },
  {
   "cell_type": "code",
   "execution_count": 64,
   "metadata": {
    "ExecuteTime": {
     "end_time": "2020-05-23T06:21:25.705730Z",
     "start_time": "2020-05-23T06:21:25.586076Z"
    }
   },
   "outputs": [],
   "source": [
    "linkXpath ='/html/body/div[2]/div[2]/div/div[2]/div/div[3]/div[2]/form/fieldset/ul/li[1]/dl/dd[4]/a'\n",
    "\n",
    "\n",
    "#$(SELECTOR)\n",
    "browserCheckXpath = '//*[@id=\"divTitle\"]'\n",
    "#소장검색 이라는 단어\n",
    "\n",
    "try:\n",
    "    WebDriverWait(browser, 120).until(EC.presence_of_element_located((By.XPATH, browserCheckXpath)))\n",
    "    linkElement = WebDriverWait(browser, 2).until(EC.presence_of_element_located((By.XPATH, linkXpath)))\n",
    "    #linkElement = browser.find_element_by_xpath(linkXpath)\n",
    "    # 오류가능성.\n",
    "    if linkElement.text == '':\n",
    "        linkElement = -1\n",
    "except :\n",
    "    print('예외가 발생! 찾는 책이 없음')\n",
    "    linkElement = -1"
   ]
  },
  {
   "cell_type": "code",
   "execution_count": 65,
   "metadata": {
    "ExecuteTime": {
     "end_time": "2020-05-23T06:21:26.798807Z",
     "start_time": "2020-05-23T06:21:26.716025Z"
    }
   },
   "outputs": [
    {
     "data": {
      "text/plain": [
       "'성서적 꿈 성취론'"
      ]
     },
     "execution_count": 65,
     "metadata": {},
     "output_type": "execute_result"
    }
   ],
   "source": [
    "linkElement.text"
   ]
  },
  {
   "cell_type": "code",
   "execution_count": 53,
   "metadata": {
    "ExecuteTime": {
     "end_time": "2020-05-23T06:13:17.783552Z",
     "start_time": "2020-05-23T06:13:17.777545Z"
    }
   },
   "outputs": [
    {
     "name": "stdout",
     "output_type": "stream",
     "text": [
      "success\n"
     ]
    }
   ],
   "source": [
    "if linkElement == -1 :\n",
    "    print('-1...')\n",
    "else : \n",
    "    print('success')"
   ]
  },
  {
   "cell_type": "code",
   "execution_count": 54,
   "metadata": {
    "ExecuteTime": {
     "end_time": "2020-05-23T06:13:19.304886Z",
     "start_time": "2020-05-23T06:13:18.842125Z"
    }
   },
   "outputs": [],
   "source": [
    "linkElement.click()"
   ]
  },
  {
   "cell_type": "code",
   "execution_count": 55,
   "metadata": {
    "ExecuteTime": {
     "end_time": "2020-05-23T06:13:19.630022Z",
     "start_time": "2020-05-23T06:13:19.606083Z"
    }
   },
   "outputs": [
    {
     "name": "stdout",
     "output_type": "stream",
     "text": [
      "http://lib.syu.ac.kr/search/detail/CATCAZ000000270725?mainLink=/search/caz&briefLink=/search/caz/result?commandType=advanced_A_cpp=10_A_lmtsn=000000000003_A_lmtsn=000000000006_A_range=000000000021_A__inc=on_A__inc=on_A__inc=on_A__inc=on_A__inc=on_A__inc=on_A_lmt0=TOTAL_A_rf=_A_lmt1=A0000000_A_si=1_A_si=2_A_si=3_A_weight2=_A_mId=_A_weight0=_A_weight1=_A_inc=TOTAL_A_q=%EC%84%B1%EC%84%9C%EC%A0%81+%EA%BF%88+%EC%84%B1%EC%B7%A8%EB%A1%A0_A_q=_A_q=_A_b0=and_A_b1=and_A_lmtst=OR_A_lmtst=OR_A_rt=_A_st=KWRD_A_msc=10000\n"
     ]
    }
   ],
   "source": [
    "print(browser.current_url)"
   ]
  },
  {
   "cell_type": "code",
   "execution_count": 56,
   "metadata": {
    "ExecuteTime": {
     "end_time": "2020-05-23T06:13:24.015725Z",
     "start_time": "2020-05-23T06:13:20.820140Z"
    }
   },
   "outputs": [],
   "source": [
    "browserCheckXpath = '//*[@id=\"divProfile\"]/table/tbody'\n",
    "#소장검색 이라는 단어\n",
    "\n",
    "try:\n",
    "    WebDriverWait(browser, 120).until(EC.presence_of_element_located((By.XPATH, browserCheckXpath)))\n",
    "except :\n",
    "    print('error detected')\n",
    "\n",
    "time.sleep(1)\n",
    "html = browser.page_source\n",
    "bsObject=BeautifulSoup(html, 'html.parser')\n",
    "strISBNIncluded = str(bsObject.select('#divProfile > table > tbody'))"
   ]
  },
  {
   "cell_type": "code",
   "execution_count": null,
   "metadata": {
    "ExecuteTime": {
     "end_time": "2020-05-23T06:13:24.142257Z",
     "start_time": "2020-05-23T06:13:22.883Z"
    }
   },
   "outputs": [],
   "source": [
    "strISBNIncluded"
   ]
  },
  {
   "cell_type": "code",
   "execution_count": 57,
   "metadata": {
    "ExecuteTime": {
     "end_time": "2020-05-23T06:13:26.271063Z",
     "start_time": "2020-05-23T06:13:26.265111Z"
    }
   },
   "outputs": [
    {
     "name": "stdout",
     "output_type": "stream",
     "text": [
      "True\n",
      "False\n"
     ]
    }
   ],
   "source": [
    "print(compareISBN(strISBNIncluded, ISBN))\n",
    "print(compareISBN(strISBNIncluded, '9791186757093'))"
   ]
  },
  {
   "cell_type": "code",
   "execution_count": 58,
   "metadata": {
    "ExecuteTime": {
     "end_time": "2020-05-23T06:13:28.424302Z",
     "start_time": "2020-05-23T06:13:28.395381Z"
    }
   },
   "outputs": [],
   "source": [
    "loanResultListSelectPath = '#divContent > div > div:nth-child(4) > div.searchContents > div > table > tbody'\n",
    "loanResultList =bsObject.select(loanResultListSelectPath)[0].find_all('tr')"
   ]
  },
  {
   "cell_type": "code",
   "execution_count": 59,
   "metadata": {
    "ExecuteTime": {
     "end_time": "2020-05-23T06:13:29.297969Z",
     "start_time": "2020-05-23T06:13:29.289988Z"
    }
   },
   "outputs": [
    {
     "data": {
      "text/plain": [
       "7"
      ]
     },
     "execution_count": 59,
     "metadata": {},
     "output_type": "execute_result"
    }
   ],
   "source": [
    "len(loanResultList)"
   ]
  },
  {
   "cell_type": "code",
   "execution_count": 60,
   "metadata": {
    "ExecuteTime": {
     "end_time": "2020-05-23T06:13:37.628686Z",
     "start_time": "2020-05-23T06:13:37.602756Z"
    }
   },
   "outputs": [
    {
     "name": "stdout",
     "output_type": "stream",
     "text": [
      "9\n",
      "M274072\n",
      "221.92 하14ㅅ c.2\n",
      "도서관/제1자료실/\n",
      "대출가능 1\n",
      "\n",
      "\n",
      "9\n",
      "M312666\n",
      "221.92 하14ㅅ c.3\n",
      "도서관/제1자료실/\n",
      "대출가능 1\n",
      "\n",
      "\n",
      "9\n",
      "M320565\n",
      "221.92 하14ㅅ c.4\n",
      "도서관/제1자료실/\n",
      "대출중 0\n",
      "2020-05-15\n",
      "\n",
      "9\n",
      "M321040\n",
      "221.92 하14ㅅ c.5\n",
      "도서관/제1자료실/\n",
      "대출가능 1\n",
      "\n",
      "\n",
      "9\n",
      "M321041\n",
      "221.92 하14ㅅ c.6\n",
      "도서관/제1자료실/\n",
      "대출중 0\n",
      "2020-05-31\n",
      "\n",
      "9\n",
      "M326767\n",
      "221.92 하14ㅅ c.7\n",
      "도서관/제1자료실/\n",
      "대출가능 1\n",
      "\n",
      "\n",
      "9\n",
      "M274071\n",
      "221.92 하14ㅅ\n",
      "도서관/채움실(3층)/\n",
      "대출불가(자료실) -1\n",
      "\n",
      "\n"
     ]
    }
   ],
   "source": [
    "for loanResult in loanResultList:\n",
    "    RDD = ''\n",
    "    content = loanResult.find_all('td')\n",
    "    errorMessage = ''\n",
    "    RN = content[1].text.strip()\n",
    "    CN = content[2].text.strip()\n",
    "    POS = content[3].text.strip()\n",
    "    STATE_STRING = content[4].text.strip()\n",
    "    STATE = findState(STATE_STRING)\n",
    "    if STATE == 0 :\n",
    "        RDD  =content[5].text.strip()\n",
    "        \n",
    "    #RDD = content[5].text.strip()\n",
    "    print(RN)\n",
    "    print(CN)\n",
    "    print(POS)\n",
    "    print(STATE_STRING, STATE)\n",
    "    #print(STATE_STRING)\n",
    "    print(RDD)\n",
    "    print()\n",
    "    #print(content[8])\n",
    "        \n",
    "    #print('등록번호 : ', item)"
   ]
  },
  {
   "cell_type": "code",
   "execution_count": null,
   "metadata": {},
   "outputs": [],
   "source": []
  }
 ],
 "metadata": {
  "hide_input": false,
  "kernelspec": {
   "display_name": "Python 3",
   "language": "python",
   "name": "python3"
  },
  "toc": {
   "base_numbering": 1,
   "nav_menu": {},
   "number_sections": true,
   "sideBar": true,
   "skip_h1_title": false,
   "title_cell": "Table of Contents",
   "title_sidebar": "Contents",
   "toc_cell": false,
   "toc_position": {
    "height": "calc(100% - 180px)",
    "left": "10px",
    "top": "150px",
    "width": "230.4px"
   },
   "toc_section_display": true,
   "toc_window_display": true
  },
  "varInspector": {
   "cols": {
    "lenName": 16,
    "lenType": 16,
    "lenVar": 40
   },
   "kernels_config": {
    "python": {
     "delete_cmd_postfix": "",
     "delete_cmd_prefix": "del ",
     "library": "var_list.py",
     "varRefreshCmd": "print(var_dic_list())"
    },
    "r": {
     "delete_cmd_postfix": ") ",
     "delete_cmd_prefix": "rm(",
     "library": "var_list.r",
     "varRefreshCmd": "cat(var_dic_list()) "
    }
   },
   "types_to_exclude": [
    "module",
    "function",
    "builtin_function_or_method",
    "instance",
    "_Feature"
   ],
   "window_display": false
  }
 },
 "nbformat": 4,
 "nbformat_minor": 4
}
