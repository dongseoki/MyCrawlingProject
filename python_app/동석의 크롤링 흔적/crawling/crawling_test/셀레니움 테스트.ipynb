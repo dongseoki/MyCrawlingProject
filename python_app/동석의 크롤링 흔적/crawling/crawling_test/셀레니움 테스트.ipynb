{
 "cells": [
  {
   "cell_type": "code",
   "execution_count": 52,
   "metadata": {},
   "outputs": [],
   "source": [
    "import time\n",
    "from selenium import webdriver\n",
    "from selenium.webdriver.chrome.options import Options\n",
    "from selenium.webdriver.support.wait import WebDriverWait\n",
    "from bs4 import BeautifulSoup\n",
    "import copy\n",
    "\n",
    "from selenium import webdriver\n",
    "from selenium.webdriver.common.by import By\n",
    "from selenium.webdriver.support.ui import WebDriverWait\n",
    "from selenium.webdriver.support import expected_conditions as EC\n",
    "\n",
    "options = Options()\n",
    "options.headless = True"
   ]
  },
  {
   "cell_type": "code",
   "execution_count": 53,
   "metadata": {},
   "outputs": [],
   "source": [
    "browser = webdriver.Chrome(executable_path=\"./chromedriver.exe\", options=options)"
   ]
  },
  {
   "cell_type": "code",
   "execution_count": 54,
   "metadata": {},
   "outputs": [],
   "source": [
    "browser.get('https://lib.kookmin.ac.kr/#/search/info/si?all=1%7Ck%7Ca%7C%EB%8D%B0%EC%9D%B4%ED%84%B0%20%EB%B6%84%EC%84%9D%20%EC%A0%84%EB%AC%B8%EA%B0%80%20%EA%B0%80%EC%9D%B4%EB%93%9C')"
   ]
  },
  {
   "cell_type": "code",
   "execution_count": 55,
   "metadata": {},
   "outputs": [
    {
     "data": {
      "text/plain": [
       "'https://lib.kookmin.ac.kr/#/search/info/si?all=1%7Ck%7Ca%7C%EB%8D%B0%EC%9D%B4%ED%84%B0%20%EB%B6%84%EC%84%9D%20%EC%A0%84%EB%AC%B8%EA%B0%80%20%EA%B0%80%EC%9D%B4%EB%93%9C'"
      ]
     },
     "execution_count": 55,
     "metadata": {},
     "output_type": "execute_result"
    }
   ],
   "source": [
    "browser.current_url"
   ]
  },
  {
   "cell_type": "code",
   "execution_count": 56,
   "metadata": {},
   "outputs": [],
   "source": [
    "linkListXpath = '/html/body/div[1]/div[3]/div[2]/div[2]/div[2]/div[2]/div[1]/div/div[2]/div[4]/div'"
   ]
  },
  {
   "cell_type": "code",
   "execution_count": 57,
   "metadata": {},
   "outputs": [],
   "source": [
    "linkDetailXpath = '[{}]/div[3]/ul/li[1]/a[1]'"
   ]
  },
  {
   "cell_type": "code",
   "execution_count": 58,
   "metadata": {},
   "outputs": [],
   "source": [
    "#/html/body/div[1]/div[3]/div[2]/div[2]/div[2]/div[2]/div[1]/div/div[2]/div[4]\n",
    "itemElements = browser.find_elements_by_xpath(linkListXpath)"
   ]
  },
  {
   "cell_type": "code",
   "execution_count": 59,
   "metadata": {},
   "outputs": [
    {
     "name": "stdout",
     "output_type": "stream",
     "text": [
      "4\n"
     ]
    }
   ],
   "source": [
    "K = len(itemElements)\n",
    "print(K)"
   ]
  },
  {
   "cell_type": "code",
   "execution_count": 51,
   "metadata": {},
   "outputs": [
    {
     "ename": "NoSuchElementException",
     "evalue": "Message: no such element: Unable to locate element: {\"method\":\"xpath\",\"selector\":\"/html/body/div[1]/div[3]/div[2]/div[2]/div[2]/div[2]/div[1]/div/div[2]/div[4]/div[1]/div[3]/ul/li[1]/a[1]\"}\n  (Session info: headless chrome=81.0.4044.122)\n",
     "output_type": "error",
     "traceback": [
      "\u001b[1;31m---------------------------------------------------------------------------\u001b[0m",
      "\u001b[1;31mNoSuchElementException\u001b[0m                    Traceback (most recent call last)",
      "\u001b[1;32m<ipython-input-51-e8d553f51d9a>\u001b[0m in \u001b[0;36m<module>\u001b[1;34m\u001b[0m\n\u001b[1;32m----> 1\u001b[1;33m \u001b[0mlinkElement\u001b[0m \u001b[1;33m=\u001b[0m \u001b[0mbrowser\u001b[0m\u001b[1;33m.\u001b[0m\u001b[0mfind_element_by_xpath\u001b[0m\u001b[1;33m(\u001b[0m\u001b[0mlinkListXpath\u001b[0m \u001b[1;33m+\u001b[0m \u001b[0mlinkDetailXpath\u001b[0m\u001b[1;33m.\u001b[0m\u001b[0mformat\u001b[0m\u001b[1;33m(\u001b[0m\u001b[1;36m1\u001b[0m\u001b[1;33m)\u001b[0m\u001b[1;33m)\u001b[0m\u001b[1;33m\u001b[0m\u001b[1;33m\u001b[0m\u001b[0m\n\u001b[0m\u001b[0;32m      2\u001b[0m \u001b[0mlinkElement\u001b[0m\u001b[1;33m.\u001b[0m\u001b[0mclick\u001b[0m\u001b[1;33m(\u001b[0m\u001b[1;33m)\u001b[0m\u001b[1;33m\u001b[0m\u001b[1;33m\u001b[0m\u001b[0m\n\u001b[0;32m      3\u001b[0m \u001b[0mprint\u001b[0m\u001b[1;33m(\u001b[0m\u001b[0mbrowser\u001b[0m\u001b[1;33m.\u001b[0m\u001b[0mcurrent_url\u001b[0m\u001b[1;33m)\u001b[0m\u001b[1;33m\u001b[0m\u001b[1;33m\u001b[0m\u001b[0m\n",
      "\u001b[1;32m~\\anaconda3\\lib\\site-packages\\selenium\\webdriver\\remote\\webdriver.py\u001b[0m in \u001b[0;36mfind_element_by_xpath\u001b[1;34m(self, xpath)\u001b[0m\n\u001b[0;32m    392\u001b[0m             \u001b[0melement\u001b[0m \u001b[1;33m=\u001b[0m \u001b[0mdriver\u001b[0m\u001b[1;33m.\u001b[0m\u001b[0mfind_element_by_xpath\u001b[0m\u001b[1;33m(\u001b[0m\u001b[1;34m'//div/td[1]'\u001b[0m\u001b[1;33m)\u001b[0m\u001b[1;33m\u001b[0m\u001b[1;33m\u001b[0m\u001b[0m\n\u001b[0;32m    393\u001b[0m         \"\"\"\n\u001b[1;32m--> 394\u001b[1;33m         \u001b[1;32mreturn\u001b[0m \u001b[0mself\u001b[0m\u001b[1;33m.\u001b[0m\u001b[0mfind_element\u001b[0m\u001b[1;33m(\u001b[0m\u001b[0mby\u001b[0m\u001b[1;33m=\u001b[0m\u001b[0mBy\u001b[0m\u001b[1;33m.\u001b[0m\u001b[0mXPATH\u001b[0m\u001b[1;33m,\u001b[0m \u001b[0mvalue\u001b[0m\u001b[1;33m=\u001b[0m\u001b[0mxpath\u001b[0m\u001b[1;33m)\u001b[0m\u001b[1;33m\u001b[0m\u001b[1;33m\u001b[0m\u001b[0m\n\u001b[0m\u001b[0;32m    395\u001b[0m \u001b[1;33m\u001b[0m\u001b[0m\n\u001b[0;32m    396\u001b[0m     \u001b[1;32mdef\u001b[0m \u001b[0mfind_elements_by_xpath\u001b[0m\u001b[1;33m(\u001b[0m\u001b[0mself\u001b[0m\u001b[1;33m,\u001b[0m \u001b[0mxpath\u001b[0m\u001b[1;33m)\u001b[0m\u001b[1;33m:\u001b[0m\u001b[1;33m\u001b[0m\u001b[1;33m\u001b[0m\u001b[0m\n",
      "\u001b[1;32m~\\anaconda3\\lib\\site-packages\\selenium\\webdriver\\remote\\webdriver.py\u001b[0m in \u001b[0;36mfind_element\u001b[1;34m(self, by, value)\u001b[0m\n\u001b[0;32m    976\u001b[0m         return self.execute(Command.FIND_ELEMENT, {\n\u001b[0;32m    977\u001b[0m             \u001b[1;34m'using'\u001b[0m\u001b[1;33m:\u001b[0m \u001b[0mby\u001b[0m\u001b[1;33m,\u001b[0m\u001b[1;33m\u001b[0m\u001b[1;33m\u001b[0m\u001b[0m\n\u001b[1;32m--> 978\u001b[1;33m             'value': value})['value']\n\u001b[0m\u001b[0;32m    979\u001b[0m \u001b[1;33m\u001b[0m\u001b[0m\n\u001b[0;32m    980\u001b[0m     \u001b[1;32mdef\u001b[0m \u001b[0mfind_elements\u001b[0m\u001b[1;33m(\u001b[0m\u001b[0mself\u001b[0m\u001b[1;33m,\u001b[0m \u001b[0mby\u001b[0m\u001b[1;33m=\u001b[0m\u001b[0mBy\u001b[0m\u001b[1;33m.\u001b[0m\u001b[0mID\u001b[0m\u001b[1;33m,\u001b[0m \u001b[0mvalue\u001b[0m\u001b[1;33m=\u001b[0m\u001b[1;32mNone\u001b[0m\u001b[1;33m)\u001b[0m\u001b[1;33m:\u001b[0m\u001b[1;33m\u001b[0m\u001b[1;33m\u001b[0m\u001b[0m\n",
      "\u001b[1;32m~\\anaconda3\\lib\\site-packages\\selenium\\webdriver\\remote\\webdriver.py\u001b[0m in \u001b[0;36mexecute\u001b[1;34m(self, driver_command, params)\u001b[0m\n\u001b[0;32m    319\u001b[0m         \u001b[0mresponse\u001b[0m \u001b[1;33m=\u001b[0m \u001b[0mself\u001b[0m\u001b[1;33m.\u001b[0m\u001b[0mcommand_executor\u001b[0m\u001b[1;33m.\u001b[0m\u001b[0mexecute\u001b[0m\u001b[1;33m(\u001b[0m\u001b[0mdriver_command\u001b[0m\u001b[1;33m,\u001b[0m \u001b[0mparams\u001b[0m\u001b[1;33m)\u001b[0m\u001b[1;33m\u001b[0m\u001b[1;33m\u001b[0m\u001b[0m\n\u001b[0;32m    320\u001b[0m         \u001b[1;32mif\u001b[0m \u001b[0mresponse\u001b[0m\u001b[1;33m:\u001b[0m\u001b[1;33m\u001b[0m\u001b[1;33m\u001b[0m\u001b[0m\n\u001b[1;32m--> 321\u001b[1;33m             \u001b[0mself\u001b[0m\u001b[1;33m.\u001b[0m\u001b[0merror_handler\u001b[0m\u001b[1;33m.\u001b[0m\u001b[0mcheck_response\u001b[0m\u001b[1;33m(\u001b[0m\u001b[0mresponse\u001b[0m\u001b[1;33m)\u001b[0m\u001b[1;33m\u001b[0m\u001b[1;33m\u001b[0m\u001b[0m\n\u001b[0m\u001b[0;32m    322\u001b[0m             response['value'] = self._unwrap_value(\n\u001b[0;32m    323\u001b[0m                 response.get('value', None))\n",
      "\u001b[1;32m~\\anaconda3\\lib\\site-packages\\selenium\\webdriver\\remote\\errorhandler.py\u001b[0m in \u001b[0;36mcheck_response\u001b[1;34m(self, response)\u001b[0m\n\u001b[0;32m    240\u001b[0m                 \u001b[0malert_text\u001b[0m \u001b[1;33m=\u001b[0m \u001b[0mvalue\u001b[0m\u001b[1;33m[\u001b[0m\u001b[1;34m'alert'\u001b[0m\u001b[1;33m]\u001b[0m\u001b[1;33m.\u001b[0m\u001b[0mget\u001b[0m\u001b[1;33m(\u001b[0m\u001b[1;34m'text'\u001b[0m\u001b[1;33m)\u001b[0m\u001b[1;33m\u001b[0m\u001b[1;33m\u001b[0m\u001b[0m\n\u001b[0;32m    241\u001b[0m             \u001b[1;32mraise\u001b[0m \u001b[0mexception_class\u001b[0m\u001b[1;33m(\u001b[0m\u001b[0mmessage\u001b[0m\u001b[1;33m,\u001b[0m \u001b[0mscreen\u001b[0m\u001b[1;33m,\u001b[0m \u001b[0mstacktrace\u001b[0m\u001b[1;33m,\u001b[0m \u001b[0malert_text\u001b[0m\u001b[1;33m)\u001b[0m\u001b[1;33m\u001b[0m\u001b[1;33m\u001b[0m\u001b[0m\n\u001b[1;32m--> 242\u001b[1;33m         \u001b[1;32mraise\u001b[0m \u001b[0mexception_class\u001b[0m\u001b[1;33m(\u001b[0m\u001b[0mmessage\u001b[0m\u001b[1;33m,\u001b[0m \u001b[0mscreen\u001b[0m\u001b[1;33m,\u001b[0m \u001b[0mstacktrace\u001b[0m\u001b[1;33m)\u001b[0m\u001b[1;33m\u001b[0m\u001b[1;33m\u001b[0m\u001b[0m\n\u001b[0m\u001b[0;32m    243\u001b[0m \u001b[1;33m\u001b[0m\u001b[0m\n\u001b[0;32m    244\u001b[0m     \u001b[1;32mdef\u001b[0m \u001b[0m_value_or_default\u001b[0m\u001b[1;33m(\u001b[0m\u001b[0mself\u001b[0m\u001b[1;33m,\u001b[0m \u001b[0mobj\u001b[0m\u001b[1;33m,\u001b[0m \u001b[0mkey\u001b[0m\u001b[1;33m,\u001b[0m \u001b[0mdefault\u001b[0m\u001b[1;33m)\u001b[0m\u001b[1;33m:\u001b[0m\u001b[1;33m\u001b[0m\u001b[1;33m\u001b[0m\u001b[0m\n",
      "\u001b[1;31mNoSuchElementException\u001b[0m: Message: no such element: Unable to locate element: {\"method\":\"xpath\",\"selector\":\"/html/body/div[1]/div[3]/div[2]/div[2]/div[2]/div[2]/div[1]/div/div[2]/div[4]/div[1]/div[3]/ul/li[1]/a[1]\"}\n  (Session info: headless chrome=81.0.4044.122)\n"
     ]
    }
   ],
   "source": [
    "linkElement = browser.find_element_by_xpath(linkListXpath + linkDetailXpath.format(1))\n",
    "linkElement.click()\n",
    "print(browser.current_url)"
   ]
  },
  {
   "cell_type": "code",
   "execution_count": 32,
   "metadata": {},
   "outputs": [],
   "source": [
    "html = browser.page_source"
   ]
  },
  {
   "cell_type": "code",
   "execution_count": 33,
   "metadata": {},
   "outputs": [],
   "source": [
    "soup=BeautifulSoup(html, 'html.parser')"
   ]
  },
  {
   "cell_type": "code",
   "execution_count": 34,
   "metadata": {},
   "outputs": [
    {
     "data": {
      "text/plain": [
       "<html class=\"k-webkit k-webkit81\" lang=\"ko\"><!--<!(endif)--><head><style type=\"text/css\">@charset \"UTF-8\";[ng\\:cloak],[ng-cloak],[data-ng-cloak],[x-ng-cloak],.ng-cloak,.x-ng-cloak,.ng-hide:not(.ng-hide-animate){display:none !important;}ng\\:form{display:block;}.ng-animate-shim{visibility:hidden;}.ng-anchor{position:absolute;}</style>\n",
       "<title>상세보기 | 국민대학교 성곡도서관</title>\n",
       "<meta charset=\"utf-8\"/>\n",
       "<meta content=\"ie=edge\" http-equiv=\"x-ua-compatible\"/>\n",
       "<meta content=\"width=device-width, initial-scale=1.0\" name=\"viewport\"/>\n",
       "<link href=\"./assets/css/ui.css\" rel=\"stylesheet\"/>\n",
       "<link href=\"./assets/images/km/favicon.ico\" rel=\"shortcut icon\"/>\n",
       "<link href=\"./assets/css/main.css?sv=2020.4.6.10\" rel=\"stylesheet\"/>\n",
       "<script async=\"\" crossorigin=\"anonymous\" src=\"https://connect.facebook.net/ko_KR/sdk.js?hash=7cf25bf17da8f6d4059570d770c287bc&amp;ua=modern_es6\"></script><script id=\"facebook-jssdk\" src=\"//connect.facebook.net/ko_KR/sdk.js#xfbml=1&amp;version=v2.5\"></script><script async=\"\" src=\"//www.google-analytics.com/analytics.js\"></script><script src=\"./assets/files/jquery-1.11.3.min.js\" type=\"text/javascript\"></script>\n",
       "<script src=\"./assets/files/nppfs-1.9.0.js\" type=\"text/javascript\"></script>\n",
       "<script src=\"./assets/files/jQuery.XDomainRequest.js\" type=\"text/javascript\"></script>\n",
       "<script src=\"./assets/files/MaWebDRM_Common.js\" type=\"text/javascript\"></script>\n",
       "<script src=\"./assets/files/MaWebDRM.js\" type=\"text/javascript\"></script>\n",
       "<style type=\"text/css\">.fb_hidden{position:absolute;top:-10000px;z-index:10001}.fb_reposition{overflow:hidden;position:relative}.fb_invisible{display:none}.fb_reset{background:none;border:0;border-spacing:0;color:#000;cursor:auto;direction:ltr;font-family:\"lucida grande\", tahoma, verdana, arial, sans-serif;font-size:11px;font-style:normal;font-variant:normal;font-weight:normal;letter-spacing:normal;line-height:1;margin:0;overflow:visible;padding:0;text-align:left;text-decoration:none;text-indent:0;text-shadow:none;text-transform:none;visibility:visible;white-space:normal;word-spacing:normal}.fb_reset>div{overflow:hidden}@keyframes fb_transform{from{opacity:0;transform:scale(.95)}to{opacity:1;transform:scale(1)}}.fb_animate{animation:fb_transform .3s forwards}\n",
       ".fb_dialog{background:rgba(82, 82, 82, .7);position:absolute;top:-10000px;z-index:10001}.fb_dialog_advanced{border-radius:8px;padding:10px}.fb_dialog_content{background:#fff;color:#373737}.fb_dialog_close_icon{background:url(https://static.xx.fbcdn.net/rsrc.php/v3/yq/r/IE9JII6Z1Ys.png) no-repeat scroll 0 0 transparent;cursor:pointer;display:block;height:15px;position:absolute;right:18px;top:17px;width:15px}.fb_dialog_mobile .fb_dialog_close_icon{left:5px;right:auto;top:5px}.fb_dialog_padding{background-color:transparent;position:absolute;width:1px;z-index:-1}.fb_dialog_close_icon:hover{background:url(https://static.xx.fbcdn.net/rsrc.php/v3/yq/r/IE9JII6Z1Ys.png) no-repeat scroll 0 -15px transparent}.fb_dialog_close_icon:active{background:url(https://static.xx.fbcdn.net/rsrc.php/v3/yq/r/IE9JII6Z1Ys.png) no-repeat scroll 0 -30px transparent}.fb_dialog_iframe{line-height:0}.fb_dialog_content .dialog_title{background:#6d84b4;border:1px solid #365899;color:#fff;font-size:14px;font-weight:bold;margin:0}.fb_dialog_content .dialog_title>span{background:url(https://static.xx.fbcdn.net/rsrc.php/v3/yd/r/Cou7n-nqK52.gif) no-repeat 5px 50%;float:left;padding:5px 0 7px 26px}body.fb_hidden{height:100%;left:0;margin:0;overflow:visible;position:absolute;top:-10000px;transform:none;width:100%}.fb_dialog.fb_dialog_mobile.loading{background:url(https://static.xx.fbcdn.net/rsrc.php/v3/ya/r/3rhSv5V8j3o.gif) white no-repeat 50% 50%;min-height:100%;min-width:100%;overflow:hidden;position:absolute;top:0;z-index:10001}.fb_dialog.fb_dialog_mobile.loading.centered{background:none;height:auto;min-height:initial;min-width:initial;width:auto}.fb_dialog.fb_dialog_mobile.loading.centered #fb_dialog_loader_spinner{width:100%}.fb_dialog.fb_dialog_mobile.loading.centered .fb_dialog_content{background:none}.loading.centered #fb_dialog_loader_close{clear:both;color:#fff;display:block;font-size:18px;padding-top:20px}#fb-root #fb_dialog_ipad_overlay{background:rgba(0, 0, 0, .4);bottom:0;left:0;min-height:100%;position:absolute;right:0;top:0;width:100%;z-index:10000}#fb-root #fb_dialog_ipad_overlay.hidden{display:none}.fb_dialog.fb_dialog_mobile.loading iframe{visibility:hidden}.fb_dialog_mobile .fb_dialog_iframe{position:sticky;top:0}.fb_dialog_content .dialog_header{background:linear-gradient(from(#738aba), to(#2c4987));border-bottom:1px solid;border-color:#043b87;box-shadow:white 0 1px 1px -1px inset;color:#fff;font:bold 14px Helvetica, sans-serif;text-overflow:ellipsis;text-shadow:rgba(0, 30, 84, .296875) 0 -1px 0;vertical-align:middle;white-space:nowrap}.fb_dialog_content .dialog_header table{height:43px;width:100%}.fb_dialog_content .dialog_header td.header_left{font-size:12px;padding-left:5px;vertical-align:middle;width:60px}.fb_dialog_content .dialog_header td.header_right{font-size:12px;padding-right:5px;vertical-align:middle;width:60px}.fb_dialog_content .touchable_button{background:linear-gradient(from(#4267B2), to(#2a4887));background-clip:padding-box;border:1px solid #29487d;border-radius:3px;display:inline-block;line-height:18px;margin-top:3px;max-width:85px;padding:4px 12px;position:relative}.fb_dialog_content .dialog_header .touchable_button input{background:none;border:none;color:#fff;font:bold 12px Helvetica, sans-serif;margin:2px -12px;padding:2px 6px 3px 6px;text-shadow:rgba(0, 30, 84, .296875) 0 -1px 0}.fb_dialog_content .dialog_header .header_center{color:#fff;font-size:16px;font-weight:bold;line-height:18px;text-align:center;vertical-align:middle}.fb_dialog_content .dialog_content{background:url(https://static.xx.fbcdn.net/rsrc.php/v3/y9/r/jKEcVPZFk-2.gif) no-repeat 50% 50%;border:1px solid #4a4a4a;border-bottom:0;border-top:0;height:150px}.fb_dialog_content .dialog_footer{background:#f5f6f7;border:1px solid #4a4a4a;border-top-color:#ccc;height:40px}#fb_dialog_loader_close{float:left}.fb_dialog.fb_dialog_mobile .fb_dialog_close_button{text-shadow:rgba(0, 30, 84, .296875) 0 -1px 0}.fb_dialog.fb_dialog_mobile .fb_dialog_close_icon{visibility:hidden}#fb_dialog_loader_spinner{animation:rotateSpinner 1.2s linear infinite;background-color:transparent;background-image:url(https://static.xx.fbcdn.net/rsrc.php/v3/yD/r/t-wz8gw1xG1.png);background-position:50% 50%;background-repeat:no-repeat;height:24px;width:24px}@keyframes rotateSpinner{0%{transform:rotate(0deg)}100%{transform:rotate(360deg)}}\n",
       ".fb_iframe_widget{display:inline-block;position:relative}.fb_iframe_widget span{display:inline-block;position:relative;text-align:justify}.fb_iframe_widget iframe{position:absolute}.fb_iframe_widget_fluid_desktop,.fb_iframe_widget_fluid_desktop span,.fb_iframe_widget_fluid_desktop iframe{max-width:100%}.fb_iframe_widget_fluid_desktop iframe{min-width:220px;position:relative}.fb_iframe_widget_lift{z-index:1}.fb_iframe_widget_fluid{display:inline}.fb_iframe_widget_fluid span{width:100%}</style></head>\n",
       "<body data-ng-controller=\"GlobalController\">\n",
       "<!-- --><div class=\"ikc-pyxis-wrap\" data-ui-view=\"\"> <a href=\"\" id=\"focusreset\"></a><div class=\"ikc-keyboard-accessibility\"><a href=\"\" ng-click=\"tabToGo('keyword')\">검색 바로가기</a> <a href=\"\" ng-click=\"tabToGo('content')\">본문 바로가기</a></div><!-- --><div ui-view=\"notification\"><div class=\"ikc-notification ikc-show\" ng-class=\"{'ikc-show' : showPopup, 'ikc-hide' : !showPopup}\"><div class=\"ikc-notification-content owl-carousel notification owl-loaded owl-drag\"><!-- --><!-- --><div class=\"owl-stage-outer\"><div class=\"owl-stage\" style=\"transform: translate3d(0px, 0px, 0px); transition: all 0s ease 0s; width: 1100px;\"><div class=\"owl-item active\" style=\"width: 1100px;\"><div carousel-init=\"notificationCarousel\" ik-carousel=\"\" ng-repeat=\"notification in notifications\"><a href=\"#/bbs/notice/15241\" ng-href=\"#/bbs/notice/15241\">코로나19 대응을 위한 성곡도서관 조치사항(종합)</a></div></div></div></div><div class=\"owl-nav disabled\"><div class=\"owl-prev disabled\">prev</div><div class=\"owl-next disabled\">next</div></div><div class=\"owl-dots disabled\"><div class=\"owl-dot active\"><span></span></div></div></div><div class=\"ikc-notification-func\"><input class=\"ng-pristine ng-untouched ng-valid ng-empty\" id=\"ikc-check-today\" ng-model=\"hideAllDay\" title=\"오늘하루닫기\" type=\"checkbox\"/><label for=\"ikc-check-today\">오늘하루닫기</label><a class=\"btn-block\" href=\"\" ng-click=\"closePopup()\"><span>닫기</span></a></div></div></div><div class=\"ikc-container-wrap\"><!-- --><div class=\"ikc-header-wrap\" ui-view=\"header\"><div class=\"ikc-header-nav\"><ul><li><!-- --></li><!-- --><li ng-if=\"showLoginOutButton\"><!-- --><a href=\"#/login\" id=\"goto-login\" ng-href=\"#/login\" ng-if=\"!isMember\"><img alt=\"로그인하기\" src=\"../assets/images/km/common/login_btn.gif\" title=\"로그인하기\"/></a><!-- --> <!-- --></li><!-- --><li><a href=\"#\"><img alt=\"메인화면으로 이동\" src=\"../assets/images/km/common/gnb_01.gif\" title=\"메인화면으로 이동\"/></a></li><li><a href=\"#/sitemap\"><img alt=\"사이트맵 보기\" src=\"../assets/images/km/common/gnb_02.gif\" title=\"사이트맵 보기\"/></a></li><li><a href=\"#/search/tempitems\" ng-href=\"#/search/tempitems\"><img alt=\"선택한 검색 결과의 임시 보관/조회 (브라우저 종료 시 삭제됨)\" src=\"../assets/images/km/common/gnb_03.gif\" title=\"선택한 검색 결과의 임시 보관/조회 (브라우저 종료 시 삭제됨)\"/></a></li><li><a href=\"http://lib.kookmin.ac.kr/en/#/\"><img alt=\"영문 홈페이지로 이동\" src=\"../assets/images/km/common/english.gif\" title=\"영문 홈페이지로 이동\"/></a></li><li><a href=\"http://lib.kookmin.ac.kr/design/#/\"><img alt=\"디자인도서관 홈페이지로 이동\" src=\"../assets/images/km/common/design_library.gif\" title=\"디자인도서관 홈페이지로 이동\"/></a></li><li><a href=\"http://lib.kookmin.ac.kr/law/#/\"><img alt=\"법학도서관 홈페이지로 이동\" src=\"../assets/images/km/common/law_library.gif\" title=\"법학도서관 홈페이지로 이동\"/></a></li><li><a href=\"https://www.kookmin.ac.kr/\"><img alt=\"국민대학교 대표 홈페이지로 이동\" src=\"../assets/images/km/common/kookmin_univ.gif\" title=\"국민대학교 대표 홈페이지로 이동\"/></a></li></ul></div><div class=\"ikc-header\"><h1 class=\"ikc-bland-name\"><a href=\"#/\" ui-sref=\"root.intro\">국민대학교 성곡도서관</a></h1><!-- --><div class=\"ikc-search-wrap\" ui-view=\"search\"><div class=\"ikc-intro-search\"><form class=\"ng-pristine ng-valid\" name=\"searchForm\" ng-submit=\"search(keyword)\"><span class=\"k-widget k-autocomplete k-header ikc-search-keyword ng-pristine ng-untouched ng-valid k-state-default\" role=\"presentation\" style=\"\" tabindex=\"-1\"><input aria-autocomplete=\"list\" aria-disabled=\"false\" aria-haspopup=\"true\" aria-owns=\"keyword_listbox\" aria-readonly=\"false\" autocomplete=\"off\" class=\"ikc-search-keyword ng-pristine ng-untouched ng-valid k-input ng-empty\" data-role=\"autocomplete\" id=\"keyword\" ik-auto-complete=\"\" ng-model=\"keyword\" role=\"textbox\" style=\"width: 100%;\" title=\"검색어 입력창입니다.\" type=\"text\"/><span class=\"k-icon k-loading\" style=\"display:none\"></span><a class=\"button ikc-btn-turnon\" style=\"display: none;\">자동완성켜기</a></span><button class=\"ikc-btn-search\" type=\"submit\">검색</button></form></div><div class=\"km-hotkey-wrap\" ng-init=\"isShowHotkey=false;\"><a ng-click=\"isShowHotkey=!isShowHotkey\"><img alt=\"인기검색어\" src=\"../assets/images/km/common/searchword.gif\"/></a><div class=\"km-hotkey-open ng-hide\" ng-show=\"isShowHotkey\"><h3><a ng-click=\"isShowHotkey=!isShowHotkey\"><img alt=\"인기검색어\" src=\"../assets/images/km/common/searchword01.gif\"/></a></h3><ul><!-- --><li ng-repeat=\"popularSearche in popularSearches\"><a ng-click=\"popularSearch(popularSearche.searchQuery)\">미래</a></li><!-- --><li ng-repeat=\"popularSearche in popularSearches\"><a ng-click=\"popularSearch(popularSearche.searchQuery)\">미생물학</a></li><!-- --><li ng-repeat=\"popularSearche in popularSearches\"><a ng-click=\"popularSearch(popularSearche.searchQuery)\">기브앤테이크</a></li><!-- --><li ng-repeat=\"popularSearche in popularSearches\"><a ng-click=\"popularSearch(popularSearche.searchQuery)\">플라톤 국가</a></li><!-- --><li ng-repeat=\"popularSearche in popularSearches\"><a ng-click=\"popularSearch(popularSearche.searchQuery)\">한류</a></li><!-- --><li class=\"ng-hide\" ng-show=\"popularSearches.length == 0\">인기검색어가 없습니다.</li></ul></div></div><div class=\"km-search-etc\"><a ng-click=\"metaSearch()\"><img alt=\"메타검색\" src=\"../assets/images/km/common/btn-meta.gif\"/></a> <a href=\"#/search/ex\"><img alt=\"상세검색\" src=\"../assets/images/km/common/btn-detail.gif\"/></a></div></div><div class=\"km-header-bbs\"><h3><img alt=\"무엇이든 물어보세요!\" src=\"../assets/images/km/common/ask_title.gif\"/></h3><ul><li><a href=\"#/bbs/qna\"><img alt=\"묻고답하기\" src=\"../assets/images/km/common/qna_btn.gif\"/></a></li><li><a href=\"#/bbs/faq\"><img alt=\"FAQ\" src=\"../assets/images/km/common/faq_btn.gif\"/></a></li></ul></div></div><!-- --><div class=\"ikc-gnb-wrap\" ng-class=\"{'ikc-gnb-show': isGnbShow}\" ui-view=\"gnb\"><ul class=\"ikc-gnb\"><li ui-sref-active=\"ikc-active\"><a ng-click=\"isGnbShow=!isGnbShow\"><img alt=\"My Library\" src=\"../assets/images/km/common/menu01_out.gif\" title=\"개인정보 조회 및 이용자 맞춤 서비스\"/></a></li><li ui-sref-active=\"ikc-active\"><a ng-click=\"isGnbShow=!isGnbShow\"><img alt=\"정보검색\" src=\"../assets/images/km/common/menu02_out.gif\" title=\"도서관 제공 정보의 다양한 검색/조회 서비스\"/></a></li><li ui-sref-active=\"ikc-active\"><a ng-click=\"isGnbShow=!isGnbShow\"><img alt=\"도서관서비스\" src=\"../assets/images/km/common/menu03_out.gif\" title=\"국민*人을 위한 연구 및 교육 지원 서비스(로그인 필수)\"/></a></li><li ui-sref-active=\"ikc-active\"><a ng-click=\"isGnbShow=!isGnbShow\"><img alt=\"이용안내\" src=\"../assets/images/km/common/menu04_out.gif\" title=\"성곡도서관 자료, 시설 및 서비스 이용 안내\"/></a></li><li ui-sref-active=\"ikc-active\"><a ng-click=\"isGnbShow=!isGnbShow\"><img alt=\"성곡도서관소개\" src=\"../assets/images/km/common/menu05_out.gif\" title=\"성곡도서관의 역사, 비전 및 현황 소개\"/></a></li></ul><ul class=\"ikc-gnb show-gnb ng-hide\" ng-mouseleave=\"isGnbShow=false;\" ng-show=\"isGnbShow\"><li><a ng-click=\"isGnbShow=!isGnbShow\"><img alt=\"My Library\" src=\"../assets/images/km/common/menu01_out.gif\" title=\"개인정보 조회 및 이용자 맞춤 서비스\"/></a><div class=\"ikc-gnb-sm\"><ul><li><a href=\"#/mylibrary/dashboard\" ng-click=\"isGnbShow=!isGnbShow\">대출/연장/예약</a></li><li><a href=\"#/service/request-book\" ng-click=\"isGnbShow=!isGnbShow\">도서구입신청/조회</a></li><li><a href=\"#/mylibrary/sdi/keywords/result\" ng-click=\"isGnbShow=!isGnbShow\">맞춤정보서비스</a></li><li><a href=\"#/mylibrary/ccl\" ng-click=\"isGnbShow=!isGnbShow\">보존서고 이용현황</a></li><li><a href=\"#/mylibrary/fcl\" ng-click=\"isGnbShow=!isGnbShow\">우선정리 신청</a></li><li><a href=\"#/mylibrary/abr\" ng-click=\"isGnbShow=!isGnbShow\">부재도서확인신청</a></li><li><a href=\"#/mylibrary/collections\" ng-click=\"isGnbShow=!isGnbShow\">내 보관함</a></li><li><a href=\"#/mylibrary/reviews\" ng-click=\"isGnbShow=!isGnbShow\">나의 서평</a></li><li><a href=\"#/mylibrary/recommend\" ng-click=\"isGnbShow=!isGnbShow\">개인맞춤추천도서</a></li><li><a href=\"#/mylibrary/mynotice\" ng-click=\"isGnbShow=!isGnbShow\">개인연락사항</a></li><li><a href=\"#/mylibrary/myinfo\" ng-click=\"isGnbShow=!isGnbShow\">개인정보조회/수정</a></li></ul></div></li><li><a ng-click=\"isGnbShow=!isGnbShow\"><img alt=\"정보검색\" src=\"../assets/images/km/common/menu02_out.gif\" title=\"도서관 제공 정보의 다양한 검색/조회 서비스\"/></a><div class=\"ikc-gnb-sm\"><ul><li><a href=\"#/search/search\" ng-click=\"isGnbShow=!isGnbShow\">검색</a></li><li><a href=\"#/search/research\" ng-click=\"isGnbShow=!isGnbShow\">전자저널 목록</a></li><li><a href=\"#/er/web\" ng-click=\"isGnbShow=!isGnbShow\">데이터베이스 목록</a></li><li><a href=\"#/er/movie\" ng-click=\"isGnbShow=!isGnbShow\">동영상 강좌</a></li><li><a href=\"#/er/ebook\" ng-click=\"isGnbShow=!isGnbShow\">전자책/오디오북</a></li><li><a href=\"#/lecture/result/\" ng-click=\"isGnbShow=!isGnbShow\">강의용 도서 목록</a></li><li><a ng-click=\"isGnbShow=!isGnbShow\" ui-sref=\"root.sc.job\" ui-sref-opts=\"{reload: true, inherit: false}\">진로/취업 컬렉션</a></li><li><a ng-click=\"isGnbShow=!isGnbShow\" ui-sref=\"root.sc.dvd\" ui-sref-opts=\"{reload: true, inherit: false}\">DVD 장르별 검색</a></li><li><a href=\"#/new/si\" ng-click=\"isGnbShow=!isGnbShow\">신착도서</a></li><li><a href=\"#/popular-charged-book\" ng-click=\"isGnbShow=!isGnbShow\">인기도서</a></li><li><a href=\"#/recommendedBook\" ng-click=\"isGnbShow=!isGnbShow\">추천도서</a></li></ul></div></li><li><a ng-click=\"isGnbShow=!isGnbShow\"><img alt=\"도서관서비스\" src=\"../assets/images/km/common/menu03_out.gif\" title=\"국민*人을 위한 연구 및 교육 지원 서비스(로그인 필수)\"/></a><div class=\"ikc-gnb-sm\"><ul><li><a href=\"#/service/pdl\" ng-click=\"isGnbShow=!isGnbShow\">전임교원 자료배송 신청</a></li><li><a href=\"#/service/reading\" ng-click=\"isGnbShow=!isGnbShow\">독서 포트폴리오</a></li><li><a href=\"#/smuf/room/carrel\" ng-click=\"isGnbShow=!isGnbShow\">캐럴 이용</a></li><li><a href=\"#/smuf/room/imagineer\" ng-click=\"isGnbShow=!isGnbShow\">Imagineer Room 이용</a></li><li><a href=\"#/smuf/room/group-study\" ng-click=\"isGnbShow=!isGnbShow\">Study Room 이용</a></li><li><a href=\"#/smuf/room/av\" ng-click=\"isGnbShow=!isGnbShow\">A/V Room 이용</a></li><li><a href=\"#/smuf/seat/status?rtid=5\" ng-click=\"isGnbShow=!isGnbShow\">열람실현황</a></li><li><a href=\"#/mylibrary/olv/result\" ng-click=\"isGnbShow=!isGnbShow\">타도서관 이용 신청</a></li><li><a href=\"#/education/guide\" ng-click=\"isGnbShow=!isGnbShow\">연구지원 서비스</a></li></ul></div></li><li><a ng-click=\"isGnbShow=!isGnbShow\"><img alt=\"이용안내\" src=\"../assets/images/km/common/menu04_out.gif\" title=\"성곡도서관 자료, 시설 및 서비스 이용 안내\"/></a><div class=\"ikc-gnb-sm\"><ul><li><a href=\"#/guide/guide/circulation\" ng-click=\"isGnbShow=!isGnbShow\">자료이용안내</a></li><li><a href=\"#/guide/hours\" ng-click=\"isGnbShow=!isGnbShow\">개관시간안내</a></li><li><a href=\"#/guide/floors/f1\" ng-click=\"isGnbShow=!isGnbShow\">층별안내</a></li><li><a href=\"#/guide/libs/design\" ng-click=\"isGnbShow=!isGnbShow\">분관안내</a></li><li><a href=\"#/guide/pass/student\" ng-click=\"isGnbShow=!isGnbShow\">출입증안내</a></li><li><a href=\"#/guide/donation\" ng-click=\"isGnbShow=!isGnbShow\">자료기증안내</a></li><li><a href=\"#/guide/service/dds\" ng-click=\"isGnbShow=!isGnbShow\">원문복사/상호대차</a></li><li><a href=\"#/guide/otherlibs\" ng-click=\"isGnbShow=!isGnbShow\">주변 대학 이용</a></li><li><a href=\"#/guide/mobile\" ng-click=\"isGnbShow=!isGnbShow\">모바일 도서관 이용</a></li><li><a href=\"#/guide/guideline\" ng-click=\"isGnbShow=!isGnbShow\">이용안내 리플렛</a></li><li><a href=\"#/guide/movie\" ng-click=\"isGnbShow=!isGnbShow\">도서관 영상보기</a></li></ul></div></li><li><a ng-click=\"isGnbShow=!isGnbShow\"><img alt=\"성곡도서관소개\" src=\"../assets/images/km/common/menu05_out.gif\" title=\"성곡도서관의 역사, 비전 및 현황 소개\"/></a><div class=\"ikc-gnb-sm\"><ul><li><a href=\"#/info/founder/history\" ng-click=\"isGnbShow=!isGnbShow\">성곡선생소개</a></li><li><a href=\"#/info/vision\" ng-click=\"isGnbShow=!isGnbShow\">성곡도서관 Vision</a></li><li><a href=\"#/info/history/library\" ng-click=\"isGnbShow=!isGnbShow\">연혁/역대관장</a></li><li><a href=\"#/info/greeting\" ng-click=\"isGnbShow=!isGnbShow\">도서관장 인사말</a></li><li><a href=\"#/info/rule/regulation\" ng-click=\"isGnbShow=!isGnbShow\">도서관 규정/내규</a></li><li><a href=\"#/info/lib/org\" ng-click=\"isGnbShow=!isGnbShow\">조직도/직원현황</a></li><li><a href=\"#/info/statistics\" ng-click=\"isGnbShow=!isGnbShow\">소장자료현황</a></li><li><a href=\"#/info/equip/borrow\" ng-click=\"isGnbShow=!isGnbShow\">장비현황</a></li><li><a href=\"#/info/map\" ng-click=\"isGnbShow=!isGnbShow\">찾아오시는길</a></li></ul></div></li></ul><a class=\"ikc-btn-overview\" ng-click=\"toggleOverviewShow()\"><span><img alt=\"전체메뉴\" src=\"../assets/images/km/common/overview_btn.gif\" title=\"전체메뉴 열기\"/></span></a></div></div><a href=\"\" id=\"content\"></a><!-- --><div class=\"ikc-container\" ui-view=\"container\"><!-- --><div class=\"ikc-hgroup-wrap\" ng-show=\"hgroupShow\" ui-view=\"hgroup\"><div class=\"ikc-hgroup ikc-search ikc-detail/:biblioId\" ng-class=\"hgroupClass\"><ol class=\"breadcrumb\" ncy-breadcrumb=\"\"><!-- --><li ng-class=\"{active: $last}\" ng-repeat=\"step in steps\" ng-switch=\"$last || !!step.abstract\"><!-- --><a href=\"#/\" ng-switch-when=\"false\">Home</a><!-- --><!-- --></li><!-- --><li ng-class=\"{active: $last}\" ng-repeat=\"step in steps\" ng-switch=\"$last || !!step.abstract\"><!-- --><a href=\"#/search\" ng-switch-when=\"false\">정보검색</a><!-- --><!-- --></li><!-- --><li class=\"active\" ng-class=\"{active: $last}\" ng-repeat=\"step in steps\" ng-switch=\"$last || !!step.abstract\"><!-- --><!-- --><span ng-switch-when=\"true\">상세보기</span><!-- --></li><!-- --></ol><!-- --><!-- --><h2 class=\"ikc-page-title\" ng-if=\"pageTitle\">상세보기</h2><!-- --><span class=\"ikc-group-title\">정보검색</span> <span class=\"ikc-group-title km-mynotice\">My Library</span></div></div><div class=\"ikc-content\"><!-- --><div class=\"ikc-snb-wrap hidden-sm hidden-xs ng-hide\" ng-show=\"snbShow\" ui-view=\"snb\"><div class=\"ikc-snb\"><h2 class=\"ikc-group-title\">검색</h2><div class=\"ikc-snb-group\"><ul class=\"ikc-snb-items\"><li ui-sref-active=\"ikc-active\"><a href=\"#/search/si\" ui-sref=\"root.search.si\" ui-sref-opts=\"{ inherit: false }\">간략검색</a></li><li ui-sref-active=\"ikc-active\"><a href=\"#/search/ex\" ui-sref=\"root.search.ex\" ui-sref-opts=\"{ inherit: false }\">상세검색</a></li><li ui-sref-active=\"ikc-active\"><a href=\"#/new/si\" ui-sref=\"root.searchNew.si\" ui-sref-opts=\"{ inherit: false }\">신착도서</a></li><li ui-sref-active=\"ikc-active\"><a ui-sref=\"root.recommendedBook\">추천도서</a></li><li ui-sref-active=\"ikc-active\"><a ui-sref=\"root.popular-charged-book\">인기도서</a></li></ul></div><h2 class=\"ikc-group-title\">EDS</h2><div class=\"ikc-snb-group\"><ul class=\"ikc-snb-items\"><li ui-sref-active=\"ikc-active\"><a ui-sref=\"root.eds.ex\">학술논문</a></li><li ui-sref-active=\"ikc-active\"><a ui-sref=\"root.eds.pf.ex\">전자저널</a></li></ul></div></div></div><!-- --><div class=\"ikc-main\" ui-view=\"main\"><h2 class=\"ikc-page-title\"><strong>상세보기</strong></h2><!-- --><div ui-view=\"nav\"><ul class=\"ikc-detail-paginate ng-hide\" ng-show=\"total\"><li><span class=\"k-icon k-i-collapse-w\"></span> <a ng-click=\"goBiblio(offset-1)\" ng-disabled=\"offset &lt;= 1\"></a></li><li><strong></strong> / </li><li><a ng-click=\"goBiblio(offset+1)\" ng-disabled=\"offset &gt;= total\"></a> <span class=\"k-icon k-i-expand-w\"></span></li></ul></div><div><div class=\"ikc-search-detail-layout\"><div class=\"ikc-search-detail-main\"><!-- --><div ui-view=\"main\"><div id=\"fb-root\"></div><div class=\"ikc-biblio-detail\"><div class=\"ikc-book-thumb\"><div ng-click=\"showBookThumb=!showBookThumb\"><ik-book-thumb bid=\"biblioId\" default=\"none\" isbn=\"targetISBN\" thumbnail=\"biblioSummary.thumbnail\" title=\"데이터 분석 전문가 가이드\"><div class=\"ikc-bookcover\" ng-show=\"thumbShowFlag\">\n",
       "<img alt=\"데이터 분석 전문가 가이드\" ng-src=\"https://lib.kookmin.ac.kr/pyxis-api/attachments/biblio/7023cc2a-70ea-07d8-e054-002128e80e74\" onerror=\"this.src='/assets/images/km/common/default-item-img.png'\" src=\"https://lib.kookmin.ac.kr/pyxis-api/attachments/biblio/7023cc2a-70ea-07d8-e054-002128e80e74\"/>\n",
       "</div></ik-book-thumb></div><div class=\"ikc-dylink\"><a class=\"button ng-hide\" ng-href=\"\" ng-show=\"ePassPreviewLink.length &gt; 0\" target=\"_blank\" title=\"새창\">Core Collection <i class=\"k-icon k-i-search\"></i></a> <a class=\"button\" href=\"http://www.aladin.co.kr/shop/book/wletslookViewer.aspx?ISBN=8988474244\" ng-href=\"http://www.aladin.co.kr/shop/book/wletslookViewer.aspx?ISBN=8988474244\" ng-show=\"aladinPreviewLink.length &gt; 0\" target=\"_blank\" title=\"새창\">알라딘 <i class=\"k-icon k-i-search\"></i></a> <a class=\"button ng-hide\" ng-href=\"\" ng-show=\"googlePreviewLink.length &gt; 0\" target=\"_blank\" title=\"새창\">Google <i class=\"k-icon k-i-search\"></i></a> <a class=\"button ng-hide\" ng-href=\"\" ng-show=\"detailLink.length &gt; 0\" target=\"_blank\" title=\"ecip 도서정보 새창\">상세보기 <i class=\"k-icon k-i-weblink\"></i></a> <a class=\"button ng-hide\" ng-href=\"\" ng-show=\"previewLink.length &gt; 0\" target=\"_blank\" title=\"알라딘 뷰어 새창\">미리보기 <i class=\"k-icon k-i-weblink\"></i></a></div></div><div class=\"ikc-book-thumb-img ng-hide\" ng-click=\"showBookThumb=!showBookThumb\" ng-show=\"showBookThumb\"><ik-book-thumb bid=\"biblioId\" default=\"none\" isbn=\"targetISBN\" thumbnail=\"biblioSummary.thumbnail\" title=\"데이터 분석 전문가 가이드\"><div class=\"ikc-bookcover\" ng-show=\"thumbShowFlag\">\n",
       "<img alt=\"데이터 분석 전문가 가이드\" ng-src=\"https://lib.kookmin.ac.kr/pyxis-api/attachments/biblio/7023cc2a-70ea-07d8-e054-002128e80e74\" onerror=\"this.src='/assets/images/km/common/default-item-img.png'\" src=\"https://lib.kookmin.ac.kr/pyxis-api/attachments/biblio/7023cc2a-70ea-07d8-e054-002128e80e74\"/>\n",
       "</div></ik-book-thumb></div><div class=\"ikc-biblio-info\"><p class=\"ikc-biblio-type\"><label>자료유형</label><span ng-bind-html=\"biblioSummary.biblioType.name\">단행본</span></p><ul class=\"ikc-biblio-infolist\"><!-- --><li ng-repeat=\"item in biblio | limitTo : displayLimit\"><label>서명책임사항</label><span ng-bind-html=\"item.content\">데이터 분석 전문가 가이드 /[한국데이터베이스진흥원 편]</span></li><!-- --><li ng-repeat=\"item in biblio | limitTo : displayLimit\"><label>단체저자</label><span ng-bind-html=\"item.content\">한국데이터베이스진흥원</span></li><!-- --><li ng-repeat=\"item in biblio | limitTo : displayLimit\"><label>발행사항</label><span ng-bind-html=\"item.content\">서울 :한국데이터베이스진흥원, 2014</span></li><!-- --><li ng-repeat=\"item in biblio | limitTo : displayLimit\"><label>형태사항</label><span ng-bind-html=\"item.content\">xxiv, 1140 p. :일부천연색삽화, 도표 ;25 cm</span></li><!-- --><!-- --><li class=\"hidden-xs ikc-marc ng-hide\" ng-hide=\"incrementDisplayLimitButtonShow\" ng-if=\"biblioSummary.isMarc\"><label>MARC</label><span><button ng-click=\"showMarcContent()\">보기</button></span></li><!-- --></ul><div class=\"ikc-search-result-funcs\"><ul><li><!-- --><button id=\"btn-biblio-more-open\" ng-click=\"incrementDisplayLimit();\" ng-if=\"incrementDisplayLimitButtonShow\" title=\"서지정보\"><span class=\"k-icon k-i-collapse\"></span> 더보기</button><!-- --> <!-- --></li><li class=\"ikc-btn-group-wrap\"><div class=\"ikc-btn-group\" ng-show=\"!hiddenMyCollection\"><button id=\"btn-mycollection\" ng-click=\"showMycollectionMenu=!showMycollectionMenu; showExportMenu=false; showTempitemMenu=false; tabToGo('ik-mycollection-guide');\" ng-show=\"!showMycollectionMenu\" title=\"개인보관함 안내 펼치기\">개인보관함 <span class=\"k-icon k-i-arrow-s\"></span></button> <button class=\"ng-hide\" ng-click=\"showMycollectionMenu=!showMycollectionMenu; showExportMenu=false; showTempitemMenu=false;\" ng-show=\"showMycollectionMenu\" title=\"접기\">개인보관함 <span class=\"k-icon k-i-close\"></span></button><div class=\"ng-hide\" id=\"ik-mycollection-guide\" ng-show=\"showMycollectionMenu\" tabindex=\"0\"><p><strong>개인보관함이란?</strong><br/>이용자가 필요한 자료를 개인보관함은 담아두었다가 필요할 때 보다 쉽게 이용할 수 있는 서비스입니다. 여러개의 보관함을 원하는 분류별로 생성하여 활용할 수 있습니다.</p><button ng-click=\"openMyCollectionModal()\" title=\"내 보관함 담기 \"><span class=\"k-icon k-si-plus\"></span><span>담기</span></button> <button ng-click=\"goMyCollection()\" title=\"개인보관함 이동\"><span class=\"k-icon k-i-expand-w\"></span> <span>이동</span></button> <button class=\"ikc-btn-group-x ikc-iconbtn\" ng-click=\"showMycollectionMenu=!showMycollectionMenu; tabToGo('btn-mycollection')\" title=\"개인보관함 안내 접기\"><span class=\"k-icon k-i-close\"></span></button></div></div><div class=\"ikc-btn-group\" ng-show=\"tempitems_use\"><button class=\"btn-tempitem\" ng-click=\"showTempitemMenu=!showTempitemMenu; showMycollectionMenu=false;  showExportMenu=false; tabToGo('ik-tempitem')\" title=\"임시보관함 안내 펼치기\"><!-- --> <!-- --><span ng-if=\"!isSavedTemp\">임시보관함</span><!-- --> <span class=\"k-icon k-i-arrow-s\" ng-show=\"!showTempitemMenu\"></span> <span class=\"k-icon k-i-close ng-hide\" ng-show=\"showTempitemMenu\"></span></button><div class=\"ng-hide\" id=\"ik-tempitem\" ng-show=\"showTempitemMenu\" tabindex=\"0\"><p><strong>임시보관함이란?</strong><br/>인터넷 브라우저 저장소를 활용하여 임시로 자료를 보관, 이용할 수 있는 서비스입니다. 브라우저 탭마다 저장소가 하나씩 생성되며, 브라우저 종료시 자동 삭제 됩니다. 오래 보관하고자 하는 자료는 개인보관함을 이용하시기 바랍니다.</p><p><strong>현재 보관된 자료수  :  0건</strong></p><button ng-click=\"saveTempItem()\" ng-disabled=\"isSavedTemp || tempItemTotalCount &gt; 100\" title=\"임시보관함 담기\"><span class=\"k-icon k-si-plus\"></span> <span>담기</span></button> <button class=\"ng-hide\" ng-click=\"deleteTempItem()\" ng-hide=\"!isSavedTemp\" title=\"보관자료 삭제\"><span class=\"k-icon k-i-close\"></span> <span>삭제</span></button> <button disabled=\"disabled\" ng-click=\"goTempitems()\" ng-disabled=\"tempItemTotalCount == 0\" title=\"임시보관함 이동\"><span class=\"k-icon k-i-expand-w\"></span> <span>이동</span></button> <button class=\"ikc-btn-group-x ikc-iconbtn\" ng-click=\"showTempitemMenu=!showTempitemMenu; tabToGo('btn-tempitem'); \" title=\"임시보관함 안내 접기\"><span class=\"k-icon k-i-close\"></span></button></div></div><div class=\"ikc-btn-group ikc-search-export\"><button id=\"btn-export\" ng-click=\"showExportMenu=!showExportMenu; showTempitemMenu=false; showMycollectionMenu=false; tabToGo('ik-export');\" title=\"내보내기 안내 펼치기\">내보내기 <span class=\"k-icon k-i-arrow-s\" ng-show=\"!showExportMenu\"></span> <span class=\"k-icon k-i-close ng-hide\" ng-show=\"showExportMenu\"></span></button><div class=\"ng-hide\" id=\"ik-export\" ng-show=\"showExportMenu\" tabindex=\"0\"><p><strong>내보내기란?</strong><br/>다양한 자료활용을 위해 자료반출을 지원하고 있습니다.</p><button class=\"ikc-export-endnote\" ng-click=\"exportRisFile()\" title=\"EndNote\"><span>EndNote</span></button> <button class=\"ikc-export-refworks\" ng-click=\"exportRefWorks()\" title=\"RefWorks\"><span>RefWorks</span></button> <button class=\"ikc-export-email\" ng-click=\"openSendEmailModal()\" title=\"Email\"><span>Email</span></button> <a class=\"button twitter-share-button\" data-size=\"large\" href=\"\" ng-click=\"exportTwitter()\" title=\"twitter\"><span><span class=\"k-icon k-i-twitter\"></span>Twitter</span></a> <button class=\"facebook-share-button\" title=\"facebook\"><span class=\"fb-share-button\" data-href=\"https://lib.kookmin.ac.kr/#/search/detail/3096304\" data-layout=\"icon_link\"></span></button> <button class=\"ikc-btn-group-x ikc-iconbtn\" ng-click=\"showExportMenu=!showExportMenu; tabToGo('btn-export');\" title=\"내보내기 안내 접기\"><span class=\"k-icon k-i-close\"></span></button></div></div></li></ul></div></div></div><hr/><!-- --><div ui-view=\"intellectualsMap\"></div><!-- --><div class=\"ikc-search-detail-online\" ng-if=\"linkedJournalInfo || directErSources\"><!-- --><ng-include src=\"'modules/_pyxis/search/views/detail/fn.biblio.linked.journal.ersource.html'\"><!-- --><!-- --></ng-include></div><!-- --><!-- --><!-- --><!-- --><!-- --><div class=\"ikc-detail-strip\" ng-if=\"!isCr &amp;&amp; biblioItems\"><div class=\"ikc-tablist\" ng-init=\"isShowItemTab=true\"><ul><li class=\"ikc-active\" ng-class=\"{'ikc-active':isShowItemTab}\"><a href=\"\" ng-click=\"isShowItemTab=true\">소장정보</a></li><li ng-class=\"{'ikc-active':!isShowItemTab}\" ng-show=\"hasShelvingItems\"><a href=\"\" ng-click=\"retrieveItemsShelvingAround(biblioId); isShowItemTab=false\">가상서가</a></li></ul></div><div ng-show=\"isShowItemTab==true\"><!-- --><ng-include src=\"'modules/_pyxis/search/views/detail/fn.biblio.items.html'\"><!-- --><div class=\"ikc-branch-itemlist\" ng-repeat=\"items in biblioItems\"><h3 class=\"ikc-search-detail-subtitle\"><strong>성곡도서관</strong></h3><div class=\"ikc-item-service-guidewrap2 ng-hide\" ng-show=\"showServiceGuide\"><p><strong>서비스 안내</strong><br/>이용자의 상태와 조건에 따라 이용가능한 서비스가 아래 소장자료 서비스란에 줄인말로 표시됩니다.<br/><br/><!-- --><span class=\"ikc-item-service-guide ikc-service-hold ikc-service-btn-hold\" ng-if=\"canService('HOLD', homepageInfo.libraryServicesInSearch)\"><em>예</em> <span>예약신청</span></span><!-- --> <!-- --> <!-- --><span class=\"ikc-item-service-guide ikc-service-fcl ikc-service-btn-fcl\" ng-if=\"canService('FCL', homepageInfo.libraryServicesInSearch)\"><em>우</em> <span>우선정리대출</span></span><!-- --> <!-- --> <!-- --><span class=\"ikc-item-service-guide ikc-service-ccl ikc-service-btn-ccl\" ng-if=\"canService('CCL', homepageInfo.libraryServicesInSearch)\"><em>폐</em> <span>폐가도서대출</span></span><!-- --> <!-- --> <!-- --><span class=\"ikc-item-service-guide ikc-service-pdl ikc-service-btn-pdl\" ng-if=\"canService('PDL', homepageInfo.libraryServicesInSearch)\"><em>배</em> <span>전임교원자료배송신청</span></span><!-- --> <!-- --> <!-- --><span class=\"ikc-item-service-guide ikc-service-abs ikc-service-btn-abs\" ng-if=\"canService('ABSENT_BOOK_REPORT', homepageInfo.libraryServicesInSearch)\"><em>부</em> <span>부재도서확인신청</span></span><!-- --> <!-- --></p><button class=\"ikc-btn-group-x ikc-iconbtn\" ng-click=\"showServiceGuide=!showServiceGuide\" title=\"닫기\"><span class=\"k-icon k-i-close\"></span></button></div><table class=\"ikc-tablelist\"><caption class=\"ikc-blind\">성곡도서관 소장정보</caption><colgroup><col/><col style=\"width:30%\"/><col style=\"width:30%\"/><col/><col/><col/></colgroup><thead><tr><th scope=\"col\"><a class=\"ikc-sort\" href=\"\" ng-class=\"{'ikc-desc':items.itemOrder === 'barcode' &amp;&amp; items.reverse === true,\n",
       "                'ikc-asce':items.itemOrder === 'barcode' &amp;&amp; items.reverse === false}\" ng-click=\"sortBy(items, 'barcode')\">등록번호</a></th><th scope=\"col\"><a class=\"ikc-sort\" href=\"\" ng-class=\"{'ikc-desc':items.itemOrder === 'location.name' &amp;&amp; items.reverse === true,\n",
       "                'ikc-asce':items.itemOrder === 'location.name' &amp;&amp; items.reverse === false}\" ng-click=\"sortBy(items, 'location.name')\">소장위치</a></th><th scope=\"col\"><a class=\"ikc-sort\" href=\"\" ng-class=\"{'ikc-desc':items.itemOrder === 'callNo' &amp;&amp; items.reverse === true,\n",
       "                'ikc-asce':items.itemOrder === 'callNo' &amp;&amp; items.reverse === false}\" ng-click=\"sortBy(items, 'callNo')\">청구기호</a></th><!-- --><th ng-if=\"!canLocationInfo\" scope=\"col\">위치</th><!-- --><th scope=\"col\">상태</th><th scope=\"col\">서비스<a href=\"\" ng-click=\"showServiceGuide=!showServiceGuide\" title=\"서비스 안내\"><span class=\"k-icon k-i-note\"></span></a></th></tr></thead><!-- --><tbody class=\"ikc-item\" ng-repeat=\"item in items | orderBy:items.itemOrder:items.reverse\"><tr><td><span class=\"ikc-flexth\">등록번호</span> <span>00949215</span></td><td class=\"ikc-contents\"><span class=\"ikc-flexth\">소장위치</span> <span>기술과학도서실(열3층)</span></td><td class=\"ikc-contents\"><span class=\"ikc-flexth\">청구기호</span> <span class=\"ikc-item-callno\">005.74 한17ㄷ</span></td><!-- --><td ng-if=\"!canLocationInfo\"><span class=\"ikc-flexth\">위치</span> <span><button class=\"ikc-iconbtn\" ng-click=\"showBiblioItemLocation(item)\" title=\"위치정보\"><span class=\"k-icon k-i-location\"></span></button> <!-- --></span></td><!-- --><td><span class=\"ikc-flexth\">상태</span> <span><!-- --><span class=\"ikc-item-status\" ng-if=\"item.circulationState &amp;&amp; item.circulationState.code != 'RECALL_CHARGE' \">대출가능</span><!-- --> <!-- --> <!-- --> <span class=\"ikc-item-duedate ng-hide\" ng-show=\"item.dueDate &amp;&amp; item.circulationState.code != 'RECALL_CHARGE'\">~ </span></span></td><td class=\"ikc-func\"><span class=\"ikc-flexth\">서비스</span> <span><!-- --> <!-- --> <!-- --> <!-- --> <!-- --> <!-- --> <!-- --><button class=\"ikc-service-btn-pdl\" ng-click=\"pdlRequest(item)\" ng-if=\"canService('PDL', item.availableServices)\" title=\"전임교원자료배송신청\">배</button><!-- --> <!-- --> <!-- --><button class=\"ikc-service-btn-abs\" ng-click=\"absentBookReport(item, item.absentBookReport)\" ng-if=\"canService('ABSENT_BOOK_REPORT', item.availableServices)\" title=\"부재도서확인신청\">부</button><!-- --> <!-- --> <!-- --></span></td></tr><tr class=\"ikc-item-subitem ng-hide\" ng-show=\"item.preservationNo\"><td class=\"ikc-contents\" colspan=\"6\"><span><i class=\"k-icon k-i-lock\"></i> <span>보존번호 </span></span></td></tr><tr class=\"ikc-item-subitem ng-hide\" ng-show=\"item.donator\"><td class=\"ikc-contents\" colspan=\"6\"><span><i class=\"k-icon k-i-pin-on\"></i> <span>기증자 </span></span></td></tr><tr class=\"ikc-item-subitem ng-hide\" ng-show=\"item.supplements\"><td class=\"ikc-contents\" colspan=\"6\"><ul><!-- --></ul></td></tr></tbody><!-- --><tbody class=\"ikc-item\" ng-repeat=\"item in items | orderBy:items.itemOrder:items.reverse\"><tr><td><span class=\"ikc-flexth\">등록번호</span> <span>00949216</span></td><td class=\"ikc-contents\"><span class=\"ikc-flexth\">소장위치</span> <span>기술과학도서실(열3층)</span></td><td class=\"ikc-contents\"><span class=\"ikc-flexth\">청구기호</span> <span class=\"ikc-item-callno\">005.74 한17ㄷ =2</span></td><!-- --><td ng-if=\"!canLocationInfo\"><span class=\"ikc-flexth\">위치</span> <span><button class=\"ikc-iconbtn\" ng-click=\"showBiblioItemLocation(item)\" title=\"위치정보\"><span class=\"k-icon k-i-location\"></span></button> <!-- --></span></td><!-- --><td><span class=\"ikc-flexth\">상태</span> <span><!-- --><span class=\"ikc-item-status\" ng-if=\"item.circulationState &amp;&amp; item.circulationState.code != 'RECALL_CHARGE' \">대출가능</span><!-- --> <!-- --> <!-- --> <span class=\"ikc-item-duedate ng-hide\" ng-show=\"item.dueDate &amp;&amp; item.circulationState.code != 'RECALL_CHARGE'\">~ </span></span></td><td class=\"ikc-func\"><span class=\"ikc-flexth\">서비스</span> <span><!-- --> <!-- --> <!-- --> <!-- --> <!-- --> <!-- --> <!-- --><button class=\"ikc-service-btn-pdl\" ng-click=\"pdlRequest(item)\" ng-if=\"canService('PDL', item.availableServices)\" title=\"전임교원자료배송신청\">배</button><!-- --> <!-- --> <!-- --><button class=\"ikc-service-btn-abs\" ng-click=\"absentBookReport(item, item.absentBookReport)\" ng-if=\"canService('ABSENT_BOOK_REPORT', item.availableServices)\" title=\"부재도서확인신청\">부</button><!-- --> <!-- --> <!-- --></span></td></tr><tr class=\"ikc-item-subitem ng-hide\" ng-show=\"item.preservationNo\"><td class=\"ikc-contents\" colspan=\"6\"><span><i class=\"k-icon k-i-lock\"></i> <span>보존번호 </span></span></td></tr><tr class=\"ikc-item-subitem ng-hide\" ng-show=\"item.donator\"><td class=\"ikc-contents\" colspan=\"6\"><span><i class=\"k-icon k-i-pin-on\"></i> <span>기증자 </span></span></td></tr><tr class=\"ikc-item-subitem ng-hide\" ng-show=\"item.supplements\"><td class=\"ikc-contents\" colspan=\"6\"><ul><!-- --></ul></td></tr></tbody><!-- --><tbody class=\"ikc-item\" ng-repeat=\"item in items | orderBy:items.itemOrder:items.reverse\"><tr><td><span class=\"ikc-flexth\">등록번호</span> <span>00956960</span></td><td class=\"ikc-contents\"><span class=\"ikc-flexth\">소장위치</span> <span>기술과학도서실(열3층)</span></td><td class=\"ikc-contents\"><span class=\"ikc-flexth\">청구기호</span> <span class=\"ikc-item-callno\">005.74 한17ㄷ =3</span></td><!-- --><td ng-if=\"!canLocationInfo\"><span class=\"ikc-flexth\">위치</span> <span><button class=\"ikc-iconbtn\" ng-click=\"showBiblioItemLocation(item)\" title=\"위치정보\"><span class=\"k-icon k-i-location\"></span></button> <!-- --></span></td><!-- --><td><span class=\"ikc-flexth\">상태</span> <span><!-- --><span class=\"ikc-item-status\" ng-if=\"item.circulationState &amp;&amp; item.circulationState.code != 'RECALL_CHARGE' \">대출가능</span><!-- --> <!-- --> <!-- --> <span class=\"ikc-item-duedate ng-hide\" ng-show=\"item.dueDate &amp;&amp; item.circulationState.code != 'RECALL_CHARGE'\">~ </span></span></td><td class=\"ikc-func\"><span class=\"ikc-flexth\">서비스</span> <span><!-- --> <!-- --> <!-- --> <!-- --> <!-- --> <!-- --> <!-- --><button class=\"ikc-service-btn-pdl\" ng-click=\"pdlRequest(item)\" ng-if=\"canService('PDL', item.availableServices)\" title=\"전임교원자료배송신청\">배</button><!-- --> <!-- --> <!-- --><button class=\"ikc-service-btn-abs\" ng-click=\"absentBookReport(item, item.absentBookReport)\" ng-if=\"canService('ABSENT_BOOK_REPORT', item.availableServices)\" title=\"부재도서확인신청\">부</button><!-- --> <!-- --> <!-- --></span></td></tr><tr class=\"ikc-item-subitem ng-hide\" ng-show=\"item.preservationNo\"><td class=\"ikc-contents\" colspan=\"6\"><span><i class=\"k-icon k-i-lock\"></i> <span>보존번호 </span></span></td></tr><tr class=\"ikc-item-subitem ng-hide\" ng-show=\"item.donator\"><td class=\"ikc-contents\" colspan=\"6\"><span><i class=\"k-icon k-i-pin-on\"></i> <span>기증자 </span></span></td></tr><tr class=\"ikc-item-subitem ng-hide\" ng-show=\"item.supplements\"><td class=\"ikc-contents\" colspan=\"6\"><ul><!-- --></ul></td></tr></tbody><!-- --><tbody class=\"ikc-item\" ng-repeat=\"item in items | orderBy:items.itemOrder:items.reverse\"><tr><td><span class=\"ikc-flexth\">등록번호</span> <span>00958357</span></td><td class=\"ikc-contents\"><span class=\"ikc-flexth\">소장위치</span> <span>기술과학도서실(열3층)</span></td><td class=\"ikc-contents\"><span class=\"ikc-flexth\">청구기호</span> <span class=\"ikc-item-callno\">005.74 한17ㄷ =4</span></td><!-- --><td ng-if=\"!canLocationInfo\"><span class=\"ikc-flexth\">위치</span> <span><button class=\"ikc-iconbtn\" ng-click=\"showBiblioItemLocation(item)\" title=\"위치정보\"><span class=\"k-icon k-i-location\"></span></button> <!-- --></span></td><!-- --><td><span class=\"ikc-flexth\">상태</span> <span><!-- --><span class=\"ikc-item-status\" ng-if=\"item.circulationState &amp;&amp; item.circulationState.code != 'RECALL_CHARGE' \">대출가능</span><!-- --> <!-- --> <!-- --> <span class=\"ikc-item-duedate ng-hide\" ng-show=\"item.dueDate &amp;&amp; item.circulationState.code != 'RECALL_CHARGE'\">~ </span></span></td><td class=\"ikc-func\"><span class=\"ikc-flexth\">서비스</span> <span><!-- --> <!-- --> <!-- --> <!-- --> <!-- --> <!-- --> <!-- --><button class=\"ikc-service-btn-pdl\" ng-click=\"pdlRequest(item)\" ng-if=\"canService('PDL', item.availableServices)\" title=\"전임교원자료배송신청\">배</button><!-- --> <!-- --> <!-- --><button class=\"ikc-service-btn-abs\" ng-click=\"absentBookReport(item, item.absentBookReport)\" ng-if=\"canService('ABSENT_BOOK_REPORT', item.availableServices)\" title=\"부재도서확인신청\">부</button><!-- --> <!-- --> <!-- --></span></td></tr><tr class=\"ikc-item-subitem ng-hide\" ng-show=\"item.preservationNo\"><td class=\"ikc-contents\" colspan=\"6\"><span><i class=\"k-icon k-i-lock\"></i> <span>보존번호 </span></span></td></tr><tr class=\"ikc-item-subitem ng-hide\" ng-show=\"item.donator\"><td class=\"ikc-contents\" colspan=\"6\"><span><i class=\"k-icon k-i-pin-on\"></i> <span>기증자 </span></span></td></tr><tr class=\"ikc-item-subitem ng-hide\" ng-show=\"item.supplements\"><td class=\"ikc-contents\" colspan=\"6\"><ul><!-- --></ul></td></tr></tbody><!-- --><tbody class=\"ikc-item\" ng-repeat=\"item in items | orderBy:items.itemOrder:items.reverse\"><tr><td><span class=\"ikc-flexth\">등록번호</span> <span>00978003</span></td><td class=\"ikc-contents\"><span class=\"ikc-flexth\">소장위치</span> <span>강의지원 과제도서실(자4층)</span></td><td class=\"ikc-contents\"><span class=\"ikc-flexth\">청구기호</span> <span class=\"ikc-item-callno\">005.74 한17ㄷ =5</span></td><!-- --><td ng-if=\"!canLocationInfo\"><span class=\"ikc-flexth\">위치</span> <span><button class=\"ikc-iconbtn\" ng-click=\"showBiblioItemLocation(item)\" title=\"위치정보\"><span class=\"k-icon k-i-location\"></span></button> <!-- --></span></td><!-- --><td><span class=\"ikc-flexth\">상태</span> <span><!-- --><span class=\"ikc-item-status\" ng-if=\"item.circulationState &amp;&amp; item.circulationState.code != 'RECALL_CHARGE' \">대출불가</span><!-- --> <!-- --> <!-- --> <span class=\"ikc-item-duedate ng-hide\" ng-show=\"item.dueDate &amp;&amp; item.circulationState.code != 'RECALL_CHARGE'\">~ </span></span></td><td class=\"ikc-func\"><span class=\"ikc-flexth\">서비스</span> <span><!-- --> <!-- --> <!-- --> <!-- --> <!-- --> <!-- --> <!-- --> <!-- --> <!-- --> <!-- --> <!-- --></span></td></tr><tr class=\"ikc-item-subitem ng-hide\" ng-show=\"item.preservationNo\"><td class=\"ikc-contents\" colspan=\"6\"><span><i class=\"k-icon k-i-lock\"></i> <span>보존번호 </span></span></td></tr><tr class=\"ikc-item-subitem ng-hide\" ng-show=\"item.donator\"><td class=\"ikc-contents\" colspan=\"6\"><span><i class=\"k-icon k-i-pin-on\"></i> <span>기증자 </span></span></td></tr><tr class=\"ikc-item-subitem ng-hide\" ng-show=\"item.supplements\"><td class=\"ikc-contents\" colspan=\"6\"><ul><!-- --></ul></td></tr></tbody><!-- --><tfoot class=\"ng-hide\" ng-show=\"items.sumHoldCount\"><tr><td colspan=\"6\">총 예약자 수 : <strong>0</strong></td></tr></tfoot></table><br/></div><!-- --></ng-include></div><div class=\"ng-hide\" ng-show=\"isShowItemTab==false\"><!-- --><ng-include src=\"'modules/_pyxis/search/views/detail/fn.biblio.items.shelving.around.html'\"><!-- --><div class=\"ikc-itemsShelving-loading\" ng-if=\"!isCompleted\">불러오는 중입니다. 잠시 기다려주시기 바랍니다.<div class=\"spinner\"><div class=\"rect1\"></div><div class=\"rect2\"></div><div class=\"rect3\"></div><div class=\"rect4\"></div><div class=\"rect5\"></div></div></div><!-- --><!-- --></ng-include></div><hr/></div><!-- --><!-- --><div class=\"ikc-search-detail-resources\" ng-show=\"biblioResources || aladinToc\"><h3 class=\"ikc-search-detail-subtitle ng-hide\" ng-show=\"originalBiblioResources['F'].length &gt; 0 || originalBiblioResources['W'].length &gt; 0\">관련자원</h3><!-- --> <!-- --> <!-- --><!-- --><div class=\"ikc-search-detail-resources-textcontent\" ng-if=\"totalTextResource || aladinToc\"><ul><!-- --><!-- --><li class=\"ikc-active\" ng-class=\"{'ikc-active': selectedTextResourceTab == 'aladin' || !totalTextResource}\" ng-click=\"switchTextResourceTab('aladin')\" ng-if=\"aladinToc\">알라딘목차</li><!-- --></ul><!-- --><!-- --><div class=\"ikc-active\" ng-class=\"{'ikc-active': selectedTextResourceTab == 'aladin' || !totalTextResource}\" ng-if=\"aladinToc\"><p ng-bind-html=\"aladinToc\"><p>데이터 분석 전문가/준전문가 자격검정 안내 <br/>\n",
       " 데이터 분석 전문가란 <br/>\n",
       " 데이터 분석 전문가 자격검정의 필요성<br/>\n",
       " 데이터 분석 전문가 직무 <br/>\n",
       " 자격검정 과목 안내 <br/>\n",
       " 자격검정 응시 안내<br/>\n",
       "<br/>\n",
       "<b>과목Ⅰ 데이터 이해 </b><br/>\n",
       " 제1장 데이터의 이해<br/>\n",
       "   제1절 데이터와 정보<br/>\n",
       "   제2절 데이터베이스의 정의와 특징<br/>\n",
       "   제3절 데이터베이스 활용<br/>\n",
       "   장 요약 <br/>\n",
       "   연습문제<br/>\n",
       "<br/>\n",
       " 제2장 데이터의 가치와 미래<br/>\n",
       "   제1절 빅데이터의 이해<br/>\n",
       "   제2절 빅데이터의 가치와 영향<br/>\n",
       "   제3절 비즈니스 모델<br/>\n",
       "   제4절 위기 요인과 통제 방안<br/>\n",
       "   제5절 미래의 빅데이터<br/>\n",
       "   장 요약 <br/>\n",
       "   연습문제<br/>\n",
       "<br/>\n",
       " 제3장 가치 창조를 위한 데이터 사이언스와 전략 인사이트<br/>\n",
       "   제1절 빅데이터 분석과 전략 인사이트 <br/>\n",
       "   제2절 전략 인사이트 도출을 위한 필요 역량<br/>\n",
       "   제3절 빅데이터 그리고 데이터 사이언스의 미래 <br/>\n",
       "   장 요약 <br/>\n",
       "   연습문제<br/>\n",
       "<br/>\n",
       "<b>과목Ⅱ 데이터 처리 기술 이해</b><br/>\n",
       "  제1장 데이터 처리 프로세스<br/>\n",
       "   제1절 ETL(Extraction, Transformation and Load)<br/>\n",
       "   제2절 CDC(Change Data Capture)<br/>\n",
       "   제3절 EAI(Enterprise Application Integration)<br/>\n",
       "   제4절 데이터 연계 및 통합 기법 요약<br/>\n",
       "   제5절 대용량 비정형 데이터 처리<br/>\n",
       "   장 요약<br/>\n",
       "   연습문제 <br/>\n",
       "<br/>\n",
       "제2장 빅데이터 처리 기술<br/>\n",
       "   제1절 분산 데이터 저장 기술<br/>\n",
       "   제2절 분산 컴퓨팅 기술<br/>\n",
       "   제3절 클라우드 인프라 기술<br/>\n",
       "   장 요약<br/>\n",
       "   연습문제 <br/>\n",
       "<br/>\n",
       "<b>과목Ⅲ 데이터 분석 기획</b><br/>\n",
       " 제1장 분석과제 정의<br/>\n",
       "   제1절 개요<br/>\n",
       "   제2절 분석 기회 발굴<br/>\n",
       "   제3절 분석 기회 구조화<br/>\n",
       "   제4절 분석 방안 구체화<br/>\n",
       "   제5절 분석 활용 시나리오 정의<br/>\n",
       "   제6절 분석 정의서 작성<br/>\n",
       "   제7절 전사관점 분석적용 시 고려요소<br/>\n",
       "   장 요약<br/>\n",
       "   연습문제 <br/>\n",
       "<br/>\n",
       " 제2장 분석 마스터 플랜<br/>\n",
       "   제1절 마스터 플랜 수립 <br/>\n",
       "   제2절 분석 거버넌스 체계  <br/>\n",
       "   장 요약 <br/>\n",
       "   연습문제<br/>\n",
       "<br/>\n",
       "<b>과목Ⅳ 데이터 분석 기획 </b><br/>\n",
       " 제1장 데이터 분석 개요 <br/>\n",
       "   제1절 데이터 분석 프로세스 <br/>\n",
       "   제2절 데이터 분석 기법 이해 <br/>\n",
       "   제3절 분석 환경 이해 및 기본사용법 <br/>\n",
       "   장 요약 <br/>\n",
       "   연습문제 <br/>\n",
       "<br/>\n",
       " 제2장 통계분석<br/>\n",
       "   제1절 통계분석의 이해 <br/>\n",
       "   제2절 기초 통계분석 <br/>\n",
       "   제3절 시계열 분석 <br/>\n",
       "   제4절 다차원척도법 <br/>\n",
       "   제5절 주성분 분석 <br/>\n",
       "   장 요약 <br/>\n",
       "   연습문제 <br/>\n",
       "<br/>\n",
       "제3장 데이터 마트<br/>\n",
       "   제1절 데이터 변경 및 요약 <br/>\n",
       "   제2절 데이터 가공 <br/>\n",
       "   제3절 기초 분석 및 데이터 관리 <br/>\n",
       "   장 요약 <br/>\n",
       "   연습문제 <br/>\n",
       "<br/>\n",
       "제4장 정형 데이터 마이닝<br/>\n",
       "   제1절 데이터 마이닝 개요 <br/>\n",
       "   제2절 분류분석(Classification) <br/>\n",
       "   제3절 예측분석(Prediction) <br/>\n",
       "   제4절 군집분석(Clustering) <br/>\n",
       "   제5절 연관분석(Association Analysis) <br/>\n",
       "   장 요약 <br/>\n",
       "   연습문제 <br/>\n",
       "<br/>\n",
       "제5장 비정형 데이터 마이닝<br/>\n",
       "   제1절 텍스트 마이닝 <br/>\n",
       "   제2절 사회연결망 분석 <br/>\n",
       "   장 요약 <br/>\n",
       "   연습문제 <br/>\n",
       "<br/>\n",
       "제6장 시뮬레이션 및 최적화<br/>\n",
       "   제1절 빅데이터와 시뮬레이션 <br/>\n",
       "   제2절 시뮬레이션 <br/>\n",
       "   제3절 최적화 <br/>\n",
       "   장 요약 <br/>\n",
       "   연습문제<br/>\n",
       "<br/>\n",
       "<b>과목Ⅴ 데이터 시각화</b><br/>\n",
       " 제1장 시각화 인사이트 프로세스<br/>\n",
       "   제1절 시각화 인사이트 프로세스의 의미 <br/>\n",
       "   제2절 탐색(1단계)<br/>\n",
       "   제3절 분석(2단계) <br/>\n",
       "   제4절 활용(3단계)<br/>\n",
       "   장 요약 <br/>\n",
       "   연습문제 <br/>\n",
       "<br/>\n",
       "제2장 시각화 디자인<br/>\n",
       "   제1절 시각화의 정의 <br/>\n",
       "   제2절 시각화 프로세스 <br/>\n",
       "   제3절 시각화 방법 <br/>\n",
       "   제4절 빅데이터와 시각화 디자인 <br/>\n",
       "   장 요약 <br/>\n",
       "   연습문제 <br/>\n",
       "<br/>\n",
       "제3장 시각화 구현<br/>\n",
       "   제1절 시각화 구현 개요 <br/>\n",
       "   제2절 분석 도구를 이용한 시각화 구현: R <br/>\n",
       "   제3절 라이브러리 기반의 시각화 구현: Djs <br/>\n",
       "   장 요약 <br/>\n",
       "   연습문제<br/>\n",
       "<br/>\n",
       "부록 A. 컬러 그림 발췌(5과목) <br/>\n",
       "부록 B. 연습문제 정답 및 해설<br/>\n",
       "부록 C. 찾아보기<br/>\n",
       "<br/>\n",
       "참고문헌</p></p></div><!-- --><hr/></div><!-- --></div><!-- --><div ui-view=\"absentBookReport\"></div><!-- --><div ui-view=\"cclRequest\"></div><!-- --><div ui-view=\"fclRequest\"></div><!-- --><div ui-view=\"biblioItemLocation\"></div><!-- --><div ui-view=\"issueBiblioItemLocation\"></div><!-- --><div ui-view=\"viewer\"></div><!-- --><div ui-view=\"mycollection\"></div><!-- --><div ui-view=\"pdlRequest\"></div><!-- --><div ui-view=\"iblRequest\"></div><!-- --><div ui-view=\"smsRequest\"></div><!-- --><div ui-view=\"readRequest\"></div><!-- --><div ui-view=\"reservationRequest\"></div><!-- --><div ui-view=\"email\"></div><!-- --><div ui-view=\"biblioResource\"></div><!-- --><div ui-view=\"biblioItemLocationInfo\"></div></div></div><div class=\"ikc-search-detail-side\"><!-- --><div ui-view=\"side\"><div class=\"search-detail-like\" id=\"search-detail-like\"><h3 class=\"ikc-search-detail-subtitle visible-sm visible-xs\">좋아요</h3><div class=\"ikc-biblio-likes\"><!-- --> <span><strong>0</strong>명이 좋아합니다.</span><br/><!-- --><span class=\"ikc-loginguide\" ng-if=\"!isMember\">로그인 후 이용하실 수 있습니다.</span><!-- --> <!-- --></div></div><!-- --><div id=\"search-detail-staticstis\" ng-if=\"biblioUsages\"><h3 class=\"ikc-search-detail-subtitle\">이용통계</h3><div class=\"ikc-biblio-likes\"><ul><li><span>좋아요</span><b>0</b></li><!-- --><li ng-if=\"hitCnt\"><span>조회</span><b>43</b></li><!-- --><!-- --><!-- --><li ng-if=\"chargeCnt\"><span>대출</span><b>1</b></li><!-- --></ul><nvd3 data=\"biblioUsages\" options=\"biblioUsageOptions\"><svg class=\"nvd3-svg\" height=\"120px\" style=\"height: 120px; width: 100%;\" width=\"100%\"><g class=\"nvd3 nv-wrap nv-lineChart\" transform=\"translate(20,20)\"><g><g class=\"nv-legendWrap\"></g><g class=\"nv-focus\"><g class=\"nv-background\"><rect height=\"80\" width=\"1006\"></rect></g><g class=\"nv-x nv-axis nvd3-svg\" transform=\"translate(0,80)\"><g class=\"nvd3 nv-wrap nv-axis\"><g><g class=\"tick\" style=\"opacity: 1;\" transform=\"translate(98.69767866458007,0)\"><line x2=\"0\" y2=\"-80\"></line><text dy=\".71em\" style=\"text-anchor: middle;\" transform=\"translate(0,0)\" x=\"0\" y=\"7\">2017/07</text></g><g class=\"tick\" style=\"opacity: 1;\" transform=\"translate(208.02649104503564,0)\"><line x2=\"0\" y2=\"-80\"></line><text dy=\".71em\" style=\"text-anchor: middle;\" transform=\"translate(0,0)\" x=\"0\" y=\"7\">2017/11</text></g><g class=\"tick\" style=\"opacity: 1;\" transform=\"translate(317.35530342549123,0)\"><line x2=\"0\" y2=\"-80\"></line><text dy=\".71em\" style=\"text-anchor: middle;\" transform=\"translate(0,0)\" x=\"0\" y=\"7\">2018/03</text></g><g class=\"tick\" style=\"opacity: 1;\" transform=\"translate(426.6841158059468,0)\"><line x2=\"0\" y2=\"-80\"></line><text dy=\".71em\" style=\"text-anchor: middle;\" transform=\"translate(0,0)\" x=\"0\" y=\"7\">2018/06</text></g><g class=\"tick\" style=\"opacity: 1;\" transform=\"translate(536.0129281864023,0)\"><line x2=\"0\" y2=\"-80\"></line><text dy=\".71em\" style=\"text-anchor: middle;\" transform=\"translate(0,0)\" x=\"0\" y=\"7\">2018/10</text></g><g class=\"tick\" style=\"opacity: 1;\" transform=\"translate(645.341740566858,0)\"><line x2=\"0\" y2=\"-80\"></line><text dy=\".71em\" style=\"text-anchor: middle;\" transform=\"translate(0,0)\" x=\"0\" y=\"7\">2019/02</text></g><g class=\"tick\" style=\"opacity: 1;\" transform=\"translate(754.6705529473135,0)\"><line x2=\"0\" y2=\"-80\"></line><text dy=\".71em\" style=\"text-anchor: middle;\" transform=\"translate(0,0)\" x=\"0\" y=\"7\">2019/06</text></g><g class=\"tick\" style=\"opacity: 1;\" transform=\"translate(863.9993653277692,0)\"><line x2=\"0\" y2=\"-80\"></line><text dy=\".71em\" style=\"text-anchor: middle;\" transform=\"translate(0,0)\" x=\"0\" y=\"7\">2019/10</text></g><path class=\"domain\" d=\"M0,0V0H1006V0\"></path><text class=\"nv-axislabel\" text-anchor=\"middle\" x=\"503\" y=\"36\"></text></g><g class=\"nv-axisMaxMin nv-axisMaxMin-x nv-axisMin-x\" transform=\"translate(0,0)\"><text dy=\".71em\" style=\"text-anchor: middle;\" transform=\"\" y=\"7\">2017/04</text></g><g class=\"nv-axisMaxMin nv-axisMaxMin-x nv-axisMax-x\" transform=\"translate(1006,0)\"><text dy=\".71em\" style=\"text-anchor: middle;\" transform=\"\" y=\"7\">2020/03</text></g></g></g><g class=\"nv-y nv-axis nvd3-svg\"><g class=\"nvd3 nv-wrap nv-axis\"><g><g class=\"tick zero\" style=\"opacity: 1;\" transform=\"translate(0,80)\"><line x2=\"1006\" y2=\"0\"></line><text dy=\".32em\" opacity=\"0\" style=\"text-anchor: end;\" x=\"-3\" y=\"0\">0</text></g><g class=\"tick\" style=\"opacity: 1;\" transform=\"translate(0,30)\"><line x2=\"1006\" y2=\"0\"></line><text dy=\".32em\" opacity=\"1\" style=\"text-anchor: end;\" x=\"-3\" y=\"0\">5</text></g><path class=\"domain\" d=\"M0,0H0V80H0\"></path><text class=\"nv-axislabel\" style=\"text-anchor: middle;\" transform=\"rotate(-90)\" x=\"-40\" y=\"-50\"></text></g><g class=\"nv-axisMaxMin nv-axisMaxMin-y nv-axisMin-y\" transform=\"translate(0,80)\"><text dy=\".32em\" style=\"opacity: 1;\" text-anchor=\"end\" x=\"-3\" y=\"0\">0</text></g><g class=\"nv-axisMaxMin nv-axisMaxMin-y nv-axisMax-y\" transform=\"translate(0,0)\"><text dy=\".32em\" style=\"opacity: 1;\" text-anchor=\"end\" x=\"-3\" y=\"0\">8</text></g></g></g><g class=\"nv-linesWrap nvd3-svg\"><g class=\"nvd3 nv-wrap nv-line\" transform=\"translate(0,0)\"><defs><clippath id=\"nv-edge-clip-61518\"><rect height=\"80\" width=\"1006\"></rect></clippath></defs><g clip-path=\"url(#nv-edge-clip-61518)\"><g class=\"nv-groups\"><g class=\"nv-group nv-series-0\" style=\"stroke-opacity: 1; stroke-width: 1.5; fill-opacity: 0.5; fill: rgb(31, 119, 180); stroke: rgb(31, 119, 180);\"><path class=\"nv-line\" d=\"M0,80L28.338028169014084,80L57.62065727699531,80L85.9586854460094,80L115.24131455399062,80L144.52394366197183,80L172.8619718309859,80L202.14460093896713,80L230.48262910798124,80L259.76525821596243,80L289.04788732394366,80L315.4967136150235,80L344.7793427230047,80L373.1173708920188,80L402.40000000000003,80L430.73802816901406,30L460.0206572769953,30L489.3032863849765,80L517.6413145539907,50L546.9239436619719,50L575.2619718309859,80L604.5446009389672,80L633.8272300469483,40L660.2760563380282,80L689.5586854460093,70L717.8967136150235,80L747.1793427230047,60L775.5173708920188,50L804.8000000000001,0L834.0826291079812,80L862.4206572769953,80L891.7032863849765,50L920.0413145539906,70L949.3239436619718,70L978.606572769953,50L1006,70\"></path></g><g class=\"nv-group nv-series-1\" style=\"stroke-opacity: 1; stroke-width: 1.5; fill-opacity: 0.5; fill: rgb(255, 127, 14); stroke: rgb(255, 127, 14);\"><path class=\"nv-line\" d=\"M0,80L28.338028169014084,80L57.62065727699531,80L85.9586854460094,80L115.24131455399062,80L144.52394366197183,80L172.8619718309859,80L202.14460093896713,80L230.48262910798124,80L259.76525821596243,80L289.04788732394366,80L315.4967136150235,80L344.7793427230047,80L373.1173708920188,80L402.40000000000003,80L430.73802816901406,80L460.0206572769953,80L489.3032863849765,80L517.6413145539907,80L546.9239436619719,80L575.2619718309859,80L604.5446009389672,80L633.8272300469483,80L660.2760563380282,80L689.5586854460093,80L717.8967136150235,80L747.1793427230047,80L775.5173708920188,80L804.8000000000001,70L834.0826291079812,80L862.4206572769953,80L891.7032863849765,80L920.0413145539906,80L949.3239436619718,80L978.606572769953,80L1006,80\"></path></g></g><g class=\"nv-scatterWrap nvd3-svg\" clip-path=\"url(#nv-edge-clip-61518)\"><g class=\"nvd3 nv-wrap nv-scatter nv-chart-61518\" transform=\"translate(0,0)\"><defs><clippath id=\"nv-edge-clip-61518\"><rect height=\"100\" transform=\"translate( -10, -10)\" width=\"1026\"></rect></clippath></defs><g clip-path=\"\"><g class=\"nv-groups\"><g class=\"nv-group nv-series-0 nv-noninteractive\" style=\"stroke-opacity: 1; fill-opacity: 0.5; fill: rgb(31, 119, 180); stroke: rgb(31, 119, 180);\"><path class=\"nv-point nv-point-0\" d=\"M0,2.256758334191025A2.256758334191025,2.256758334191025 0 1,1 0,-2.256758334191025A2.256758334191025,2.256758334191025 0 1,1 0,2.256758334191025Z\" transform=\"translate(0,80)\"></path><path class=\"nv-point nv-point-1\" d=\"M0,2.256758334191025A2.256758334191025,2.256758334191025 0 1,1 0,-2.256758334191025A2.256758334191025,2.256758334191025 0 1,1 0,2.256758334191025Z\" transform=\"translate(28.338028169014084,80)\"></path><path class=\"nv-point nv-point-2\" d=\"M0,2.256758334191025A2.256758334191025,2.256758334191025 0 1,1 0,-2.256758334191025A2.256758334191025,2.256758334191025 0 1,1 0,2.256758334191025Z\" transform=\"translate(57.62065727699531,80)\"></path><path class=\"nv-point nv-point-3\" d=\"M0,2.256758334191025A2.256758334191025,2.256758334191025 0 1,1 0,-2.256758334191025A2.256758334191025,2.256758334191025 0 1,1 0,2.256758334191025Z\" transform=\"translate(85.9586854460094,80)\"></path><path class=\"nv-point nv-point-4\" d=\"M0,2.256758334191025A2.256758334191025,2.256758334191025 0 1,1 0,-2.256758334191025A2.256758334191025,2.256758334191025 0 1,1 0,2.256758334191025Z\" transform=\"translate(115.24131455399062,80)\"></path><path class=\"nv-point nv-point-5\" d=\"M0,2.256758334191025A2.256758334191025,2.256758334191025 0 1,1 0,-2.256758334191025A2.256758334191025,2.256758334191025 0 1,1 0,2.256758334191025Z\" transform=\"translate(144.52394366197183,80)\"></path><path class=\"nv-point nv-point-6\" d=\"M0,2.256758334191025A2.256758334191025,2.256758334191025 0 1,1 0,-2.256758334191025A2.256758334191025,2.256758334191025 0 1,1 0,2.256758334191025Z\" transform=\"translate(172.8619718309859,80)\"></path><path class=\"nv-point nv-point-7\" d=\"M0,2.256758334191025A2.256758334191025,2.256758334191025 0 1,1 0,-2.256758334191025A2.256758334191025,2.256758334191025 0 1,1 0,2.256758334191025Z\" transform=\"translate(202.14460093896713,80)\"></path><path class=\"nv-point nv-point-8\" d=\"M0,2.256758334191025A2.256758334191025,2.256758334191025 0 1,1 0,-2.256758334191025A2.256758334191025,2.256758334191025 0 1,1 0,2.256758334191025Z\" transform=\"translate(230.48262910798124,80)\"></path><path class=\"nv-point nv-point-9\" d=\"M0,2.256758334191025A2.256758334191025,2.256758334191025 0 1,1 0,-2.256758334191025A2.256758334191025,2.256758334191025 0 1,1 0,2.256758334191025Z\" transform=\"translate(259.76525821596243,80)\"></path><path class=\"nv-point nv-point-10\" d=\"M0,2.256758334191025A2.256758334191025,2.256758334191025 0 1,1 0,-2.256758334191025A2.256758334191025,2.256758334191025 0 1,1 0,2.256758334191025Z\" transform=\"translate(289.04788732394366,80)\"></path><path class=\"nv-point nv-point-11\" d=\"M0,2.256758334191025A2.256758334191025,2.256758334191025 0 1,1 0,-2.256758334191025A2.256758334191025,2.256758334191025 0 1,1 0,2.256758334191025Z\" transform=\"translate(315.4967136150235,80)\"></path><path class=\"nv-point nv-point-12\" d=\"M0,2.256758334191025A2.256758334191025,2.256758334191025 0 1,1 0,-2.256758334191025A2.256758334191025,2.256758334191025 0 1,1 0,2.256758334191025Z\" transform=\"translate(344.7793427230047,80)\"></path><path class=\"nv-point nv-point-13\" d=\"M0,2.256758334191025A2.256758334191025,2.256758334191025 0 1,1 0,-2.256758334191025A2.256758334191025,2.256758334191025 0 1,1 0,2.256758334191025Z\" transform=\"translate(373.1173708920188,80)\"></path><path class=\"nv-point nv-point-14\" d=\"M0,2.256758334191025A2.256758334191025,2.256758334191025 0 1,1 0,-2.256758334191025A2.256758334191025,2.256758334191025 0 1,1 0,2.256758334191025Z\" transform=\"translate(402.40000000000003,80)\"></path><path class=\"nv-point nv-point-15\" d=\"M0,2.256758334191025A2.256758334191025,2.256758334191025 0 1,1 0,-2.256758334191025A2.256758334191025,2.256758334191025 0 1,1 0,2.256758334191025Z\" transform=\"translate(430.73802816901406,30)\"></path><path class=\"nv-point nv-point-16\" d=\"M0,2.256758334191025A2.256758334191025,2.256758334191025 0 1,1 0,-2.256758334191025A2.256758334191025,2.256758334191025 0 1,1 0,2.256758334191025Z\" transform=\"translate(460.0206572769953,30)\"></path><path class=\"nv-point nv-point-17\" d=\"M0,2.256758334191025A2.256758334191025,2.256758334191025 0 1,1 0,-2.256758334191025A2.256758334191025,2.256758334191025 0 1,1 0,2.256758334191025Z\" transform=\"translate(489.3032863849765,80)\"></path><path class=\"nv-point nv-point-18\" d=\"M0,2.256758334191025A2.256758334191025,2.256758334191025 0 1,1 0,-2.256758334191025A2.256758334191025,2.256758334191025 0 1,1 0,2.256758334191025Z\" transform=\"translate(517.6413145539907,50)\"></path><path class=\"nv-point nv-point-19\" d=\"M0,2.256758334191025A2.256758334191025,2.256758334191025 0 1,1 0,-2.256758334191025A2.256758334191025,2.256758334191025 0 1,1 0,2.256758334191025Z\" transform=\"translate(546.9239436619719,50)\"></path><path class=\"nv-point nv-point-20\" d=\"M0,2.256758334191025A2.256758334191025,2.256758334191025 0 1,1 0,-2.256758334191025A2.256758334191025,2.256758334191025 0 1,1 0,2.256758334191025Z\" transform=\"translate(575.2619718309859,80)\"></path><path class=\"nv-point nv-point-21\" d=\"M0,2.256758334191025A2.256758334191025,2.256758334191025 0 1,1 0,-2.256758334191025A2.256758334191025,2.256758334191025 0 1,1 0,2.256758334191025Z\" transform=\"translate(604.5446009389672,80)\"></path><path class=\"nv-point nv-point-22\" d=\"M0,2.256758334191025A2.256758334191025,2.256758334191025 0 1,1 0,-2.256758334191025A2.256758334191025,2.256758334191025 0 1,1 0,2.256758334191025Z\" transform=\"translate(633.8272300469483,40)\"></path><path class=\"nv-point nv-point-23\" d=\"M0,2.256758334191025A2.256758334191025,2.256758334191025 0 1,1 0,-2.256758334191025A2.256758334191025,2.256758334191025 0 1,1 0,2.256758334191025Z\" transform=\"translate(660.2760563380282,80)\"></path><path class=\"nv-point nv-point-24\" d=\"M0,2.256758334191025A2.256758334191025,2.256758334191025 0 1,1 0,-2.256758334191025A2.256758334191025,2.256758334191025 0 1,1 0,2.256758334191025Z\" transform=\"translate(689.5586854460093,70)\"></path><path class=\"nv-point nv-point-25\" d=\"M0,2.256758334191025A2.256758334191025,2.256758334191025 0 1,1 0,-2.256758334191025A2.256758334191025,2.256758334191025 0 1,1 0,2.256758334191025Z\" transform=\"translate(717.8967136150235,80)\"></path><path class=\"nv-point nv-point-26\" d=\"M0,2.256758334191025A2.256758334191025,2.256758334191025 0 1,1 0,-2.256758334191025A2.256758334191025,2.256758334191025 0 1,1 0,2.256758334191025Z\" transform=\"translate(747.1793427230047,60)\"></path><path class=\"nv-point nv-point-27\" d=\"M0,2.256758334191025A2.256758334191025,2.256758334191025 0 1,1 0,-2.256758334191025A2.256758334191025,2.256758334191025 0 1,1 0,2.256758334191025Z\" transform=\"translate(775.5173708920188,50)\"></path><path class=\"nv-point nv-point-28\" d=\"M0,2.256758334191025A2.256758334191025,2.256758334191025 0 1,1 0,-2.256758334191025A2.256758334191025,2.256758334191025 0 1,1 0,2.256758334191025Z\" transform=\"translate(804.8000000000001,0)\"></path><path class=\"nv-point nv-point-29\" d=\"M0,2.256758334191025A2.256758334191025,2.256758334191025 0 1,1 0,-2.256758334191025A2.256758334191025,2.256758334191025 0 1,1 0,2.256758334191025Z\" transform=\"translate(834.0826291079812,80)\"></path><path class=\"nv-point nv-point-30\" d=\"M0,2.256758334191025A2.256758334191025,2.256758334191025 0 1,1 0,-2.256758334191025A2.256758334191025,2.256758334191025 0 1,1 0,2.256758334191025Z\" transform=\"translate(862.4206572769953,80)\"></path><path class=\"nv-point nv-point-31\" d=\"M0,2.256758334191025A2.256758334191025,2.256758334191025 0 1,1 0,-2.256758334191025A2.256758334191025,2.256758334191025 0 1,1 0,2.256758334191025Z\" transform=\"translate(891.7032863849765,50)\"></path><path class=\"nv-point nv-point-32\" d=\"M0,2.256758334191025A2.256758334191025,2.256758334191025 0 1,1 0,-2.256758334191025A2.256758334191025,2.256758334191025 0 1,1 0,2.256758334191025Z\" transform=\"translate(920.0413145539906,70)\"></path><path class=\"nv-point nv-point-33\" d=\"M0,2.256758334191025A2.256758334191025,2.256758334191025 0 1,1 0,-2.256758334191025A2.256758334191025,2.256758334191025 0 1,1 0,2.256758334191025Z\" transform=\"translate(949.3239436619718,70)\"></path><path class=\"nv-point nv-point-34\" d=\"M0,2.256758334191025A2.256758334191025,2.256758334191025 0 1,1 0,-2.256758334191025A2.256758334191025,2.256758334191025 0 1,1 0,2.256758334191025Z\" transform=\"translate(978.606572769953,50)\"></path><path class=\"nv-point nv-point-35\" d=\"M0,2.256758334191025A2.256758334191025,2.256758334191025 0 1,1 0,-2.256758334191025A2.256758334191025,2.256758334191025 0 1,1 0,2.256758334191025Z\" transform=\"translate(1006,70)\"></path></g><g class=\"nv-group nv-series-1 nv-noninteractive\" style=\"stroke-opacity: 1; fill-opacity: 0.5; fill: rgb(255, 127, 14); stroke: rgb(255, 127, 14);\"><path class=\"nv-point nv-point-0\" d=\"M0,2.256758334191025A2.256758334191025,2.256758334191025 0 1,1 0,-2.256758334191025A2.256758334191025,2.256758334191025 0 1,1 0,2.256758334191025Z\" transform=\"translate(0,80)\"></path><path class=\"nv-point nv-point-1\" d=\"M0,2.256758334191025A2.256758334191025,2.256758334191025 0 1,1 0,-2.256758334191025A2.256758334191025,2.256758334191025 0 1,1 0,2.256758334191025Z\" transform=\"translate(28.338028169014084,80)\"></path><path class=\"nv-point nv-point-2\" d=\"M0,2.256758334191025A2.256758334191025,2.256758334191025 0 1,1 0,-2.256758334191025A2.256758334191025,2.256758334191025 0 1,1 0,2.256758334191025Z\" transform=\"translate(57.62065727699531,80)\"></path><path class=\"nv-point nv-point-3\" d=\"M0,2.256758334191025A2.256758334191025,2.256758334191025 0 1,1 0,-2.256758334191025A2.256758334191025,2.256758334191025 0 1,1 0,2.256758334191025Z\" transform=\"translate(85.9586854460094,80)\"></path><path class=\"nv-point nv-point-4\" d=\"M0,2.256758334191025A2.256758334191025,2.256758334191025 0 1,1 0,-2.256758334191025A2.256758334191025,2.256758334191025 0 1,1 0,2.256758334191025Z\" transform=\"translate(115.24131455399062,80)\"></path><path class=\"nv-point nv-point-5\" d=\"M0,2.256758334191025A2.256758334191025,2.256758334191025 0 1,1 0,-2.256758334191025A2.256758334191025,2.256758334191025 0 1,1 0,2.256758334191025Z\" transform=\"translate(144.52394366197183,80)\"></path><path class=\"nv-point nv-point-6\" d=\"M0,2.256758334191025A2.256758334191025,2.256758334191025 0 1,1 0,-2.256758334191025A2.256758334191025,2.256758334191025 0 1,1 0,2.256758334191025Z\" transform=\"translate(172.8619718309859,80)\"></path><path class=\"nv-point nv-point-7\" d=\"M0,2.256758334191025A2.256758334191025,2.256758334191025 0 1,1 0,-2.256758334191025A2.256758334191025,2.256758334191025 0 1,1 0,2.256758334191025Z\" transform=\"translate(202.14460093896713,80)\"></path><path class=\"nv-point nv-point-8\" d=\"M0,2.256758334191025A2.256758334191025,2.256758334191025 0 1,1 0,-2.256758334191025A2.256758334191025,2.256758334191025 0 1,1 0,2.256758334191025Z\" transform=\"translate(230.48262910798124,80)\"></path><path class=\"nv-point nv-point-9\" d=\"M0,2.256758334191025A2.256758334191025,2.256758334191025 0 1,1 0,-2.256758334191025A2.256758334191025,2.256758334191025 0 1,1 0,2.256758334191025Z\" transform=\"translate(259.76525821596243,80)\"></path><path class=\"nv-point nv-point-10\" d=\"M0,2.256758334191025A2.256758334191025,2.256758334191025 0 1,1 0,-2.256758334191025A2.256758334191025,2.256758334191025 0 1,1 0,2.256758334191025Z\" transform=\"translate(289.04788732394366,80)\"></path><path class=\"nv-point nv-point-11\" d=\"M0,2.256758334191025A2.256758334191025,2.256758334191025 0 1,1 0,-2.256758334191025A2.256758334191025,2.256758334191025 0 1,1 0,2.256758334191025Z\" transform=\"translate(315.4967136150235,80)\"></path><path class=\"nv-point nv-point-12\" d=\"M0,2.256758334191025A2.256758334191025,2.256758334191025 0 1,1 0,-2.256758334191025A2.256758334191025,2.256758334191025 0 1,1 0,2.256758334191025Z\" transform=\"translate(344.7793427230047,80)\"></path><path class=\"nv-point nv-point-13\" d=\"M0,2.256758334191025A2.256758334191025,2.256758334191025 0 1,1 0,-2.256758334191025A2.256758334191025,2.256758334191025 0 1,1 0,2.256758334191025Z\" transform=\"translate(373.1173708920188,80)\"></path><path class=\"nv-point nv-point-14\" d=\"M0,2.256758334191025A2.256758334191025,2.256758334191025 0 1,1 0,-2.256758334191025A2.256758334191025,2.256758334191025 0 1,1 0,2.256758334191025Z\" transform=\"translate(402.40000000000003,80)\"></path><path class=\"nv-point nv-point-15\" d=\"M0,2.256758334191025A2.256758334191025,2.256758334191025 0 1,1 0,-2.256758334191025A2.256758334191025,2.256758334191025 0 1,1 0,2.256758334191025Z\" transform=\"translate(430.73802816901406,80)\"></path><path class=\"nv-point nv-point-16\" d=\"M0,2.256758334191025A2.256758334191025,2.256758334191025 0 1,1 0,-2.256758334191025A2.256758334191025,2.256758334191025 0 1,1 0,2.256758334191025Z\" transform=\"translate(460.0206572769953,80)\"></path><path class=\"nv-point nv-point-17\" d=\"M0,2.256758334191025A2.256758334191025,2.256758334191025 0 1,1 0,-2.256758334191025A2.256758334191025,2.256758334191025 0 1,1 0,2.256758334191025Z\" transform=\"translate(489.3032863849765,80)\"></path><path class=\"nv-point nv-point-18\" d=\"M0,2.256758334191025A2.256758334191025,2.256758334191025 0 1,1 0,-2.256758334191025A2.256758334191025,2.256758334191025 0 1,1 0,2.256758334191025Z\" transform=\"translate(517.6413145539907,80)\"></path><path class=\"nv-point nv-point-19\" d=\"M0,2.256758334191025A2.256758334191025,2.256758334191025 0 1,1 0,-2.256758334191025A2.256758334191025,2.256758334191025 0 1,1 0,2.256758334191025Z\" transform=\"translate(546.9239436619719,80)\"></path><path class=\"nv-point nv-point-20\" d=\"M0,2.256758334191025A2.256758334191025,2.256758334191025 0 1,1 0,-2.256758334191025A2.256758334191025,2.256758334191025 0 1,1 0,2.256758334191025Z\" transform=\"translate(575.2619718309859,80)\"></path><path class=\"nv-point nv-point-21\" d=\"M0,2.256758334191025A2.256758334191025,2.256758334191025 0 1,1 0,-2.256758334191025A2.256758334191025,2.256758334191025 0 1,1 0,2.256758334191025Z\" transform=\"translate(604.5446009389672,80)\"></path><path class=\"nv-point nv-point-22\" d=\"M0,2.256758334191025A2.256758334191025,2.256758334191025 0 1,1 0,-2.256758334191025A2.256758334191025,2.256758334191025 0 1,1 0,2.256758334191025Z\" transform=\"translate(633.8272300469483,80)\"></path><path class=\"nv-point nv-point-23\" d=\"M0,2.256758334191025A2.256758334191025,2.256758334191025 0 1,1 0,-2.256758334191025A2.256758334191025,2.256758334191025 0 1,1 0,2.256758334191025Z\" transform=\"translate(660.2760563380282,80)\"></path><path class=\"nv-point nv-point-24\" d=\"M0,2.256758334191025A2.256758334191025,2.256758334191025 0 1,1 0,-2.256758334191025A2.256758334191025,2.256758334191025 0 1,1 0,2.256758334191025Z\" transform=\"translate(689.5586854460093,80)\"></path><path class=\"nv-point nv-point-25\" d=\"M0,2.256758334191025A2.256758334191025,2.256758334191025 0 1,1 0,-2.256758334191025A2.256758334191025,2.256758334191025 0 1,1 0,2.256758334191025Z\" transform=\"translate(717.8967136150235,80)\"></path><path class=\"nv-point nv-point-26\" d=\"M0,2.256758334191025A2.256758334191025,2.256758334191025 0 1,1 0,-2.256758334191025A2.256758334191025,2.256758334191025 0 1,1 0,2.256758334191025Z\" transform=\"translate(747.1793427230047,80)\"></path><path class=\"nv-point nv-point-27\" d=\"M0,2.256758334191025A2.256758334191025,2.256758334191025 0 1,1 0,-2.256758334191025A2.256758334191025,2.256758334191025 0 1,1 0,2.256758334191025Z\" transform=\"translate(775.5173708920188,80)\"></path><path class=\"nv-point nv-point-28\" d=\"M0,2.256758334191025A2.256758334191025,2.256758334191025 0 1,1 0,-2.256758334191025A2.256758334191025,2.256758334191025 0 1,1 0,2.256758334191025Z\" transform=\"translate(804.8000000000001,70)\"></path><path class=\"nv-point nv-point-29\" d=\"M0,2.256758334191025A2.256758334191025,2.256758334191025 0 1,1 0,-2.256758334191025A2.256758334191025,2.256758334191025 0 1,1 0,2.256758334191025Z\" transform=\"translate(834.0826291079812,80)\"></path><path class=\"nv-point nv-point-30\" d=\"M0,2.256758334191025A2.256758334191025,2.256758334191025 0 1,1 0,-2.256758334191025A2.256758334191025,2.256758334191025 0 1,1 0,2.256758334191025Z\" transform=\"translate(862.4206572769953,80)\"></path><path class=\"nv-point nv-point-31\" d=\"M0,2.256758334191025A2.256758334191025,2.256758334191025 0 1,1 0,-2.256758334191025A2.256758334191025,2.256758334191025 0 1,1 0,2.256758334191025Z\" transform=\"translate(891.7032863849765,80)\"></path><path class=\"nv-point nv-point-32\" d=\"M0,2.256758334191025A2.256758334191025,2.256758334191025 0 1,1 0,-2.256758334191025A2.256758334191025,2.256758334191025 0 1,1 0,2.256758334191025Z\" transform=\"translate(920.0413145539906,80)\"></path><path class=\"nv-point nv-point-33\" d=\"M0,2.256758334191025A2.256758334191025,2.256758334191025 0 1,1 0,-2.256758334191025A2.256758334191025,2.256758334191025 0 1,1 0,2.256758334191025Z\" transform=\"translate(949.3239436619718,80)\"></path><path class=\"nv-point nv-point-34\" d=\"M0,2.256758334191025A2.256758334191025,2.256758334191025 0 1,1 0,-2.256758334191025A2.256758334191025,2.256758334191025 0 1,1 0,2.256758334191025Z\" transform=\"translate(978.606572769953,80)\"></path><path class=\"nv-point nv-point-35\" d=\"M0,2.256758334191025A2.256758334191025,2.256758334191025 0 1,1 0,-2.256758334191025A2.256758334191025,2.256758334191025 0 1,1 0,2.256758334191025Z\" transform=\"translate(1006,80)\"></path></g></g><g class=\"nv-point-paths\"></g></g><g class=\"nv-point-clips\"></g></g></g></g></g></g><g class=\"nv-interactive\"><g class=\"nv-wrap nv-interactiveLineLayer\"><g class=\"nv-interactiveGuideLine\"></g></g></g></g><g class=\"nv-focusWrap\"></g></g></g></svg></nvd3><em>통계자료는 매월 갱신됩니다.</em></div></div><!-- --><div class=\"search-detail-review\" id=\"search-detail-review\"><h3 class=\"ikc-search-detail-subtitle\">서평 <!-- --></h3><div class=\"ikc-reviews\"><span ng-show=\"!reviews.totalCount\">첫 서평을 작성해 주세요.</span><!-- --><!-- --><span class=\"ikc-loginguide\" ng-if=\"!isMember\">로그인 후 이용하실 수 있습니다.</span><!-- --> <!-- --> <!-- --></div><!-- --><div ui-view=\"review\"></div></div><!-- --><div id=\"search-detail-related-popular-charged-book\" ng-if=\"relatedPopularChargedBooks.totalCount &gt; 0\"><h3 class=\"ikc-search-detail-subtitle\">관련 인기대출도서</h3><div class=\"ikc-related-popular-charged-book\"><!-- --><div ng-repeat=\"item in relatedPopularChargedBooks.list\"><a href=\"#/search/detail/3260627\" ng-href=\"#/search/detail/3260627\"><ik-book-thumb bid=\"item.id\" isbn=\"item.isbn\" thumbnail=\"item.thumbnail\" title=\"(2016 시나공 summary) 컴퓨터활용능력 1급 필기\"><div class=\"ikc-bookcover\">\n",
       "<img alt=\"(2016 시나공 summary) 컴퓨터활용능력 1급 필기\" ng-src=\"/assets/images/km/common/default-item-img.png\" onerror=\"this.src='/assets/images/km/common/default-item-img.png'\" src=\"/assets/images/km/common/default-item-img.png\"/>\n",
       "</div></ik-book-thumb><p><span>(2016 시나공 summary) 컴</span> <!-- --><span ng-if=\"item.titleStatement.length &gt; 21\">...</span><!-- --> <span ng-show=\"item.author\">/</span> <span>강윤석</span> <em><b>100</b>회 대출</em></p></a></div><!-- --><div ng-repeat=\"item in relatedPopularChargedBooks.list\"><a href=\"#/search/detail/3273369\" ng-href=\"#/search/detail/3273369\"><ik-book-thumb bid=\"item.id\" isbn=\"item.isbn\" thumbnail=\"item.thumbnail\" title=\"(2017 시나공) 컴퓨터활용능력 1급 실기.1편,스프레드시트 실무: 엑셀 2007\"><div class=\"ikc-bookcover\">\n",
       "<img alt=\"(2017 시나공) 컴퓨터활용능력 1급 실기.1편,스프레드시트 실무: 엑셀 2007\" ng-src=\"https://lib.kookmin.ac.kr/pyxis-api/attachments/biblio/thumbnails/7023cc2a-711f-07d8-e054-002128e80e74\" onerror=\"this.src='/assets/images/km/common/default-item-img.png'\" src=\"https://lib.kookmin.ac.kr/pyxis-api/attachments/biblio/thumbnails/7023cc2a-711f-07d8-e054-002128e80e74\"/>\n",
       "</div></ik-book-thumb><p><span>(2017 시나공) 컴퓨터활용능력 1</span> <!-- --><span ng-if=\"item.titleStatement.length &gt; 21\">...</span><!-- --> <span ng-show=\"item.author\">/</span> <span>강윤석</span> <em><b>66</b>회 대출</em></p></a></div><!-- --><div ng-repeat=\"item in relatedPopularChargedBooks.list\"><a href=\"#/search/detail/3273542\" ng-href=\"#/search/detail/3273542\"><ik-book-thumb bid=\"item.id\" isbn=\"item.isbn\" thumbnail=\"item.thumbnail\" title=\"(2017 시나공) 컴퓨터활용능력 1급 실기.2편,데이터베이스 실무 : 액세스 2007\"><div class=\"ikc-bookcover\">\n",
       "<img alt=\"(2017 시나공) 컴퓨터활용능력 1급 실기.2편,데이터베이스 실무 : 액세스 2007\" ng-src=\"http://image.aladin.co.kr/product/9317/67/cover/k412535615_1.jpg\" onerror=\"this.src='/assets/images/km/common/default-item-img.png'\" src=\"http://image.aladin.co.kr/product/9317/67/cover/k412535615_1.jpg\"/>\n",
       "</div></ik-book-thumb><p><span>(2017 시나공) 컴퓨터활용능력 1</span> <!-- --><span ng-if=\"item.titleStatement.length &gt; 21\">...</span><!-- --> <span ng-show=\"item.author\">/</span> <span>강윤석</span> <em><b>64</b>회 대출</em></p></a></div><!-- --><div ng-repeat=\"item in relatedPopularChargedBooks.list\"><a href=\"#/search/detail/2888952\" ng-href=\"#/search/detail/2888952\"><ik-book-thumb bid=\"item.id\" isbn=\"item.isbn\" thumbnail=\"item.thumbnail\" title=\"윤성우의 열혈 C++ 프로그래밍\"><div class=\"ikc-bookcover\">\n",
       "<img alt=\"윤성우의 열혈 C++ 프로그래밍\" ng-src=\"http://image.aladin.co.kr/product/696/7/cover/8996094048_1.jpg\" onerror=\"this.src='/assets/images/km/common/default-item-img.png'\" src=\"http://image.aladin.co.kr/product/696/7/cover/8996094048_1.jpg\"/>\n",
       "</div></ik-book-thumb><p><span>윤성우의 열혈 C++ 프로그래밍</span> <!-- --> <span ng-show=\"item.author\">/</span> <span>윤성우</span> <em><b>45</b>회 대출</em></p></a></div><!-- --><div ng-repeat=\"item in relatedPopularChargedBooks.list\"><a href=\"#/search/detail/3300406\" ng-href=\"#/search/detail/3300406\"><ik-book-thumb bid=\"item.id\" isbn=\"item.isbn\" thumbnail=\"item.thumbnail\" title=\"어서와 파이썬은 처음이지!\"><div class=\"ikc-bookcover\">\n",
       "<img alt=\"어서와 파이썬은 처음이지!\" ng-src=\"http://image.aladin.co.kr/product/9041/48/cover/k552535002_1.jpg\" onerror=\"this.src='/assets/images/km/common/default-item-img.png'\" src=\"http://image.aladin.co.kr/product/9041/48/cover/k552535002_1.jpg\"/>\n",
       "</div></ik-book-thumb><p><span>어서와 파이썬은 처음이지!</span> <!-- --> <span ng-show=\"item.author\">/</span> <span>천인국</span> <em><b>44</b>회 대출</em></p></a></div><!-- --></div></div><!-- --><!-- --><div id=\"search-detail-similar\" ng-if=\"similars.totalCount &gt; 0\"><h3 class=\"ikc-search-detail-subtitle\">유사컨텐츠</h3><div class=\"ikc-similars\"><ul class=\"ikc-biblio-reviews\"><!-- --><li ng-repeat=\"similar in similars.list | limitTo : similarDisplayLimit\"><a href=\"\" ng-click=\"goDetail(similar.id)\"><span>데이터분석 전문가·준전문가 :단기완성</span> <!-- --><span ng-if=\"similar.publication\">(서울 :시대고시기획,2014.)</span><!-- --></a></li><!-- --><li ng-repeat=\"similar in similars.list | limitTo : similarDisplayLimit\"><a href=\"\" ng-click=\"goDetail(similar.id)\"><span>(나도 이제) 데이터 분석 준전문가 :ADsP</span> <!-- --><span ng-if=\"similar.publication\">(부산 :데이터에듀 :제이에스데이타,2015)</span><!-- --></a></li><!-- --><li ng-repeat=\"similar in similars.list | limitTo : similarDisplayLimit\"><a href=\"\" ng-click=\"goDetail(similar.id)\"><span>빅데이터 활용서: R을 이용한 중·고급 데이터 분석의 바이블.2</span> <!-- --><span ng-if=\"similar.publication\">(서울: 시대인, 2018)</span><!-- --></a></li><!-- --></ul></div></div><!-- --></div></div></div></div></div></div></div></div><!-- --><div class=\"ikc-footer-wrap\" ui-view=\"footer\"><div class=\"ikc-footer\"><script src=\"https://seal.verisign.com/getseal?host_name=lib.kookmin.ac.kr&amp;size=XS&amp;use_flash=NO&amp;use_transparent=NO&amp;lang=ko\"></script><a class=\"km-norton\" href=\"javascript:vrsn_splash()\"><img alt=\"Click to Verify - This site has chosen an SSL Certificate to improve Web site security\" oncontextmenu=\"return false\" src=\"../assets/images/km/common/getseal.gif\"/></a><div class=\"km-footer\"><ul><li><a href=\"#/privacy\" onclick=\"window.open(this.href, '개인정보처리방침', 'width=800, height=600px, top=100px, left=200px, scrollbars=yes, menubar=no, toolbar=no, location=no, resizable=yes' ); return false\" target=\"_blank\">개인정보처리방침</a></li><li><a href=\"#/email\" onclick=\"window.open(this.href, '이메일 무단수집거부', 'width=800, height=300px, top=100px, left=200px, scrollbars=no, menubar=no, toolbar=no, location=no' ); return false\" target=\"_blank\">이메일 무단수집거부</a></li><li><a href=\"#/rule\" onclick=\"window.open(this.href, '이용자 준수사항', 'width=900, height=600px, top=100px, left=200px, scrollbars=yes, menubar=no, toolbar=no, location=no, resizable=yes' ); return false\" target=\"_blank\">이용자 준수사항</a></li><li><a href=\"#/contact\" onclick=\"window.open(this.href, '서비스별 연락처 안내', 'width=800, height=600px, top=100px, left=200px, scrollbars=yes, menubar=no, toolbar=no, location=no, resizable=yes' ); return false\" target=\"_blank\">서비스별 연락처 안내</a></li><li><a href=\"mailto:ksc@kookmin.ac.kr\">이메일보내기</a></li><li><a href=\"#/openaccess\" onclick=\"window.open(this.href, '교외접속안내', 'width=900, height=600px, top=100px, left=200px, scrollbars=yes, menubar=no, toolbar=no, location=no, resizable=yes' ); return false\" target=\"_blank\">교외접속안내</a></li><li><a href=\"http://as82.kr/klib/\" target=\"_blank\">원격지원</a></li></ul><div class=\"ikc-copyright\"><img alt=\"국민대학교 성곡도서관(우)02707 서울특별시 성북구 정릉로 77\" src=\"../assets/images/km/common/address.gif\"/><br/><img alt=\"COPYRIGHT ⓒ 2018 KOOKMIN UNIVERSITY SUNGKOK LIBRARY, ALL RIGHT RESERVED.\" src=\"../assets/images/km/common/copyright.gif\"/></div></div></div></div><!-- --></div>\n",
       "<script src=\"require.js\"></script>\n",
       "<script src=\"main.js?v=2020.4.6.10\"></script>\n",
       "<script>\n",
       "    (function(i,s,o,g,r,a,m){i['GoogleAnalyticsObject']=r;i[r]=i[r]||function(){\n",
       "        (i[r].q=i[r].q||[]).push(arguments)},i[r].l=1*new Date();a=s.createElement(o),\n",
       "            m=s.getElementsByTagName(o)[0];a.async=1;a.src=g;m.parentNode.insertBefore(a,m)\n",
       "    })(window,document,'script','//www.google-analytics.com/analytics.js','ga');\n",
       " \n",
       "    ga('create', 'UA-123176581-1', 'auto');\n",
       "//    ga('send', 'pageview');\n",
       " \n",
       "</script>\n",
       "<div class=\"k-list-container k-popup k-group k-reset ikc-autocomplete-wrap\" data-role=\"popup\" id=\"keyword-list\" style=\"display: none; position: absolute;\"><div class=\"ikc-autocomplete-header ikc-search-keyword\">\n",
       "<div>\n",
       "<button class=\"ikc-autocomplete-closed\">닫기</button>\n",
       "<button class=\"ikc-autocomplete-off\">자동완성끄기</button>\n",
       "</div>\n",
       "</div><div class=\"k-group-header\" style=\"display:none\"></div><div style=\"overflow: auto; position: relative;\" unselectable=\"on\"><ul aria-hidden=\"true\" aria-live=\"polite\" class=\"k-list k-reset\" data-role=\"staticlist\" id=\"keyword_listbox\" role=\"listbox\" tabindex=\"-1\" unselectable=\"on\"></ul></div></div><div class=\"k-list-container k-popup k-group k-reset\" data-role=\"popup\" style=\"display: none; position: absolute;\"><div class=\"k-list-optionlabel\">항목선택</div><div class=\"k-group-header\" style=\"display:none\"></div><div style=\"overflow: auto; position: relative;\" unselectable=\"on\"><ul aria-hidden=\"true\" aria-live=\"off\" class=\"k-list k-reset\" data-role=\"staticlist\" role=\"listbox\" tabindex=\"-1\" unselectable=\"on\"></ul></div></div><div class=\"k-list-container k-popup k-group k-reset\" data-role=\"popup\" style=\"display: none; position: absolute;\"><div class=\"k-list-optionlabel\">정렬선택</div><div class=\"k-group-header\" style=\"display:none\"></div><div style=\"overflow: auto; position: relative;\" unselectable=\"on\"><ul aria-hidden=\"true\" aria-live=\"off\" class=\"k-list k-reset\" data-role=\"staticlist\" role=\"listbox\" tabindex=\"-1\" unselectable=\"on\"></ul></div></div><div class=\"k-list-container k-popup k-group k-reset\" data-role=\"popup\" style=\"position: absolute; height: auto; display: none;\"><div class=\"k-group-header\" style=\"display:none\"></div><div style=\"overflow: auto; position: relative; height: auto;\" unselectable=\"on\"><ul aria-hidden=\"true\" aria-live=\"off\" class=\"k-list k-reset\" data-role=\"staticlist\" role=\"listbox\" tabindex=\"-1\" unselectable=\"on\"><li class=\"k-item\" data-offset-index=\"0\" role=\"option\" tabindex=\"-1\" unselectable=\"on\">10건</li><li aria-selected=\"true\" class=\"k-item k-state-selected k-state-focused\" data-offset-index=\"1\" id=\"40dd6a7f-5228-449c-ab0c-cd2ce518b2de\" role=\"option\" tabindex=\"-1\" unselectable=\"on\">20건</li><li class=\"k-item\" data-offset-index=\"2\" role=\"option\" tabindex=\"-1\" unselectable=\"on\">50건</li><li class=\"k-item\" data-offset-index=\"3\" role=\"option\" tabindex=\"-1\" unselectable=\"on\">100건</li></ul></div></div><div aria-hidden=\"true\" class=\"k-calendar-container k-popup k-group k-reset\" data-role=\"popup\" style=\"display: none; position: absolute;\"></div><div aria-hidden=\"true\" class=\"k-calendar-container k-popup k-group k-reset\" data-role=\"popup\" style=\"display: none; position: absolute;\"></div><div class=\"k-list-container k-popup k-group k-reset\" data-role=\"popup\" style=\"display: none; position: absolute;\"><div class=\"k-list-optionlabel\">항목선택</div><div class=\"k-group-header\" style=\"display:none\"></div><div style=\"overflow: auto; position: relative;\" unselectable=\"on\"><ul aria-hidden=\"true\" aria-live=\"off\" class=\"k-list k-reset\" data-role=\"staticlist\" role=\"listbox\" tabindex=\"-1\" unselectable=\"on\"></ul></div></div><div class=\"k-list-container k-popup k-group k-reset\" data-role=\"popup\" style=\"display: none; position: absolute;\"><div class=\"k-list-optionlabel\">정렬선택</div><div class=\"k-group-header\" style=\"display:none\"></div><div style=\"overflow: auto; position: relative;\" unselectable=\"on\"><ul aria-hidden=\"true\" aria-live=\"off\" class=\"k-list k-reset\" data-role=\"staticlist\" role=\"listbox\" tabindex=\"-1\" unselectable=\"on\"></ul></div></div><div class=\"k-list-container k-popup k-group k-reset\" data-role=\"popup\" style=\"position: absolute; height: auto; display: none;\"><div class=\"k-group-header\" style=\"display:none\"></div><div style=\"overflow: auto; position: relative; height: auto;\" unselectable=\"on\"><ul aria-hidden=\"true\" aria-live=\"off\" class=\"k-list k-reset\" data-role=\"staticlist\" role=\"listbox\" tabindex=\"-1\" unselectable=\"on\"><li class=\"k-item\" data-offset-index=\"0\" role=\"option\" tabindex=\"-1\" unselectable=\"on\">10건</li><li aria-selected=\"true\" class=\"k-item k-state-selected k-state-focused\" data-offset-index=\"1\" id=\"28a5360f-6d9e-4c47-ab2d-9e1c0d140945\" role=\"option\" tabindex=\"-1\" unselectable=\"on\">20건</li><li class=\"k-item\" data-offset-index=\"2\" role=\"option\" tabindex=\"-1\" unselectable=\"on\">50건</li><li class=\"k-item\" data-offset-index=\"3\" role=\"option\" tabindex=\"-1\" unselectable=\"on\">100건</li></ul></div></div><div aria-hidden=\"true\" class=\"k-calendar-container k-popup k-group k-reset\" data-role=\"popup\" style=\"display: none; position: absolute;\"></div><div aria-hidden=\"true\" class=\"k-calendar-container k-popup k-group k-reset\" data-role=\"popup\" style=\"display: none; position: absolute;\"></div><div class=\"k-widget k-window\" data-role=\"draggable\" style=\"padding-top: 29px; min-width: 90px; min-height: 50px; width: 700px; height: 500px; display: none; top: 780px; left: 21px;\"><div class=\"k-window-titlebar k-header\" style=\"margin-top: -29px;\"> <span class=\"k-window-title\">MARC보기</span><div class=\"k-window-actions\"><a class=\"k-window-action k-link\" href=\"#\" role=\"button\"><span class=\"k-icon k-i-close\" role=\"presentation\">Close</span></a></div></div><div class=\"k-window-content k-content\" data-role=\"window\" k-draggable=\"true\" k-height=\"500\" k-modal=\"true\" k-resizable=\"false\" k-title=\"'MARC보기'\" k-visible=\"false\" k-width=\"700\" kendo-window=\"marcContentModal\" tabindex=\"0\"><table class=\"ikc-marc-content\"><caption class=\"ikc-blind\">MARC정보</caption><colgroup><col style=\"width: 40px\"/><col style=\"width: 20px\"/><col/></colgroup><thead class=\"ikc-blind\"><tr><th scope=\"col\">태그</th><th scope=\"col\">지시기호</th><th scope=\"col\">태그데이타</th></tr></thead><tbody><tr><td>LDR</td><td></td><td>01086nam a2200265 c 4500</td></tr><!-- --><tr ng-repeat=\"marc in biblioSummary.content['fields']\"><td class=\"ikc-marc-tag\">001</td><td><!-- --></td><td><!-- --><span class=\"ikc-marc-subfield\" ng-if=\"marc[0] * 1 &lt; 10\">0003096304</span><!-- --> <!-- --></td></tr><!-- --><tr ng-repeat=\"marc in biblioSummary.content['fields']\"><td class=\"ikc-marc-tag\">005</td><td><!-- --></td><td><!-- --><span class=\"ikc-marc-subfield\" ng-if=\"marc[0] * 1 &lt; 10\">20180706155238</span><!-- --> <!-- --></td></tr><!-- --><tr ng-repeat=\"marc in biblioSummary.content['fields']\"><td class=\"ikc-marc-tag\">007</td><td><!-- --></td><td><!-- --><span class=\"ikc-marc-subfield\" ng-if=\"marc[0] * 1 &lt; 10\">ta</span><!-- --> <!-- --></td></tr><!-- --><tr ng-repeat=\"marc in biblioSummary.content['fields']\"><td class=\"ikc-marc-tag\">008</td><td><!-- --></td><td><!-- --><span class=\"ikc-marc-subfield\" ng-if=\"marc[0] * 1 &lt; 10\">140225s2014    ulkad         001a  kor  </span><!-- --> <!-- --></td></tr><!-- --><tr ng-repeat=\"marc in biblioSummary.content['fields']\"><td class=\"ikc-marc-tag\">020</td><td><!-- --><span class=\"ikc-marc-indicators\" ng-if=\"marc[0] * 1 &gt; 10\"><!-- --> <!-- --><span ng-if=\"marc[1] == ' '\"> </span><!-- --> <span> </span></span><!-- --></td><td><!-- --> <!-- --><!-- --><span class=\"ikc-marc-subfield\" ng-if=\"marc[0] * 1 &gt; 10\" ng-repeat=\"subfieldCode in marc[3]\"><span class=\"ikc-delimiter\">▼a</span><span>9788988474242</span><!-- --></span><!-- --><!-- --><!-- --><span class=\"ikc-marc-subfield\" ng-if=\"marc[0] * 1 &gt; 10\" ng-repeat=\"subfieldCode in marc[3]\"><span class=\"ikc-delimiter\">▼g</span><span>13000 :</span><!-- --></span><!-- --><!-- --><!-- --><span class=\"ikc-marc-subfield\" ng-if=\"marc[0] * 1 &gt; 10\" ng-repeat=\"subfieldCode in marc[3]\"><span class=\"ikc-delimiter\">▼c</span><span>\\50,000</span><!-- --><span class=\"ikc-delimiter\" ng-if=\"$last\">▲</span><!-- --></span><!-- --><!-- --></td></tr><!-- --><tr ng-repeat=\"marc in biblioSummary.content['fields']\"><td class=\"ikc-marc-tag\">040</td><td><!-- --><span class=\"ikc-marc-indicators\" ng-if=\"marc[0] * 1 &gt; 10\"><!-- --> <!-- --><span ng-if=\"marc[1] == ' '\"> </span><!-- --> <span> </span></span><!-- --></td><td><!-- --> <!-- --><!-- --><span class=\"ikc-marc-subfield\" ng-if=\"marc[0] * 1 &gt; 10\" ng-repeat=\"subfieldCode in marc[3]\"><span class=\"ikc-delimiter\">▼a</span><span>211014</span><!-- --><span class=\"ikc-delimiter\" ng-if=\"$last\">▲</span><!-- --></span><!-- --><!-- --></td></tr><!-- --><tr ng-repeat=\"marc in biblioSummary.content['fields']\"><td class=\"ikc-marc-tag\">082</td><td><!-- --><span class=\"ikc-marc-indicators\" ng-if=\"marc[0] * 1 &gt; 10\"><!-- --> <!-- --><span ng-if=\"marc[1] == ' '\"> </span><!-- --> <span> </span></span><!-- --></td><td><!-- --> <!-- --><!-- --><span class=\"ikc-marc-subfield\" ng-if=\"marc[0] * 1 &gt; 10\" ng-repeat=\"subfieldCode in marc[3]\"><span class=\"ikc-delimiter\">▼a</span><span>005.74</span><!-- --></span><!-- --><!-- --><!-- --><span class=\"ikc-marc-subfield\" ng-if=\"marc[0] * 1 &gt; 10\" ng-repeat=\"subfieldCode in marc[3]\"><span class=\"ikc-delimiter\">▼2</span><span>23</span><!-- --><span class=\"ikc-delimiter\" ng-if=\"$last\">▲</span><!-- --></span><!-- --><!-- --></td></tr><!-- --><tr ng-repeat=\"marc in biblioSummary.content['fields']\"><td class=\"ikc-marc-tag\">090</td><td><!-- --><span class=\"ikc-marc-indicators\" ng-if=\"marc[0] * 1 &gt; 10\"><!-- --> <!-- --><span ng-if=\"marc[1] == ' '\"> </span><!-- --> <span> </span></span><!-- --></td><td><!-- --> <!-- --><!-- --><span class=\"ikc-marc-subfield\" ng-if=\"marc[0] * 1 &gt; 10\" ng-repeat=\"subfieldCode in marc[3]\"><span class=\"ikc-delimiter\">▼a</span><span>005.74</span><!-- --></span><!-- --><!-- --><!-- --><span class=\"ikc-marc-subfield\" ng-if=\"marc[0] * 1 &gt; 10\" ng-repeat=\"subfieldCode in marc[3]\"><span class=\"ikc-delimiter\">▼b</span><span>한17ㄷ</span><!-- --><span class=\"ikc-delimiter\" ng-if=\"$last\">▲</span><!-- --></span><!-- --><!-- --></td></tr><!-- --><tr ng-repeat=\"marc in biblioSummary.content['fields']\"><td class=\"ikc-marc-tag\">110</td><td><!-- --><span class=\"ikc-marc-indicators\" ng-if=\"marc[0] * 1 &gt; 10\"><!-- --> <!-- --><span ng-if=\"marc[1] == ' '\"> </span><!-- --> <span> </span></span><!-- --></td><td><!-- --> <!-- --><!-- --><span class=\"ikc-marc-subfield\" ng-if=\"marc[0] * 1 &gt; 10\" ng-repeat=\"subfieldCode in marc[3]\"><span class=\"ikc-delimiter\">▼a</span><span>한국데이터베이스진흥원</span><!-- --><span class=\"ikc-delimiter\" ng-if=\"$last\">▲</span><!-- --></span><!-- --><!-- --></td></tr><!-- --><tr ng-repeat=\"marc in biblioSummary.content['fields']\"><td class=\"ikc-marc-tag\">245</td><td><!-- --><span class=\"ikc-marc-indicators\" ng-if=\"marc[0] * 1 &gt; 10\"><!-- --><span ng-if=\"marc[1] != ' '\">1</span><!-- --> <!-- --> <span>0</span></span><!-- --></td><td><!-- --> <!-- --><!-- --><span class=\"ikc-marc-subfield\" ng-if=\"marc[0] * 1 &gt; 10\" ng-repeat=\"subfieldCode in marc[3]\"><span class=\"ikc-delimiter\">▼a</span><span>데이터 분석 전문가 가이드 /</span><!-- --></span><!-- --><!-- --><!-- --><span class=\"ikc-marc-subfield\" ng-if=\"marc[0] * 1 &gt; 10\" ng-repeat=\"subfieldCode in marc[3]\"><span class=\"ikc-delimiter\">▼d</span><span>[한국데이터베이스진흥원 편]</span><!-- --><span class=\"ikc-delimiter\" ng-if=\"$last\">▲</span><!-- --></span><!-- --><!-- --></td></tr><!-- --><tr ng-repeat=\"marc in biblioSummary.content['fields']\"><td class=\"ikc-marc-tag\">260</td><td><!-- --><span class=\"ikc-marc-indicators\" ng-if=\"marc[0] * 1 &gt; 10\"><!-- --> <!-- --><span ng-if=\"marc[1] == ' '\"> </span><!-- --> <span> </span></span><!-- --></td><td><!-- --> <!-- --><!-- --><span class=\"ikc-marc-subfield\" ng-if=\"marc[0] * 1 &gt; 10\" ng-repeat=\"subfieldCode in marc[3]\"><span class=\"ikc-delimiter\">▼a</span><span>서울 :</span><!-- --></span><!-- --><!-- --><!-- --><span class=\"ikc-marc-subfield\" ng-if=\"marc[0] * 1 &gt; 10\" ng-repeat=\"subfieldCode in marc[3]\"><span class=\"ikc-delimiter\">▼b</span><span>한국데이터베이스진흥원,</span><!-- --></span><!-- --><!-- --><!-- --><span class=\"ikc-marc-subfield\" ng-if=\"marc[0] * 1 &gt; 10\" ng-repeat=\"subfieldCode in marc[3]\"><span class=\"ikc-delimiter\">▼c</span><span>2014</span><!-- --><span class=\"ikc-delimiter\" ng-if=\"$last\">▲</span><!-- --></span><!-- --><!-- --></td></tr><!-- --><tr ng-repeat=\"marc in biblioSummary.content['fields']\"><td class=\"ikc-marc-tag\">300</td><td><!-- --><span class=\"ikc-marc-indicators\" ng-if=\"marc[0] * 1 &gt; 10\"><!-- --> <!-- --><span ng-if=\"marc[1] == ' '\"> </span><!-- --> <span> </span></span><!-- --></td><td><!-- --> <!-- --><!-- --><span class=\"ikc-marc-subfield\" ng-if=\"marc[0] * 1 &gt; 10\" ng-repeat=\"subfieldCode in marc[3]\"><span class=\"ikc-delimiter\">▼a</span><span>xxiv, 1140 p. :</span><!-- --></span><!-- --><!-- --><!-- --><span class=\"ikc-marc-subfield\" ng-if=\"marc[0] * 1 &gt; 10\" ng-repeat=\"subfieldCode in marc[3]\"><span class=\"ikc-delimiter\">▼b</span><span>일부천연색삽화, 도표 ;</span><!-- --></span><!-- --><!-- --><!-- --><span class=\"ikc-marc-subfield\" ng-if=\"marc[0] * 1 &gt; 10\" ng-repeat=\"subfieldCode in marc[3]\"><span class=\"ikc-delimiter\">▼c</span><span>25 cm</span><!-- --><span class=\"ikc-delimiter\" ng-if=\"$last\">▲</span><!-- --></span><!-- --><!-- --></td></tr><!-- --><tr ng-repeat=\"marc in biblioSummary.content['fields']\"><td class=\"ikc-marc-tag\">500</td><td><!-- --><span class=\"ikc-marc-indicators\" ng-if=\"marc[0] * 1 &gt; 10\"><!-- --><span ng-if=\"marc[1] != ' '\">1</span><!-- --> <!-- --> <span>0</span></span><!-- --></td><td><!-- --> <!-- --><!-- --><span class=\"ikc-marc-subfield\" ng-if=\"marc[0] * 1 &gt; 10\" ng-repeat=\"subfieldCode in marc[3]\"><span class=\"ikc-delimiter\">▼b</span><span>데이터 분석 자격검정 공식수험서</span><!-- --><span class=\"ikc-delimiter\" ng-if=\"$last\">▲</span><!-- --></span><!-- --><!-- --></td></tr><!-- --><tr ng-repeat=\"marc in biblioSummary.content['fields']\"><td class=\"ikc-marc-tag\">500</td><td><!-- --><span class=\"ikc-marc-indicators\" ng-if=\"marc[0] * 1 &gt; 10\"><!-- --><span ng-if=\"marc[1] != ' '\">1</span><!-- --> <!-- --> <span>0</span></span><!-- --></td><td><!-- --> <!-- --><!-- --><span class=\"ikc-marc-subfield\" ng-if=\"marc[0] * 1 &gt; 10\" ng-repeat=\"subfieldCode in marc[3]\"><span class=\"ikc-delimiter\">▼b</span><span>ADP(Advanced Data Analytics Professional)</span><!-- --><span class=\"ikc-delimiter\" ng-if=\"$last\">▲</span><!-- --></span><!-- --><!-- --></td></tr><!-- --><tr ng-repeat=\"marc in biblioSummary.content['fields']\"><td class=\"ikc-marc-tag\">500</td><td><!-- --><span class=\"ikc-marc-indicators\" ng-if=\"marc[0] * 1 &gt; 10\"><!-- --><span ng-if=\"marc[1] != ' '\">1</span><!-- --> <!-- --> <span>0</span></span><!-- --></td><td><!-- --> <!-- --><!-- --><span class=\"ikc-marc-subfield\" ng-if=\"marc[0] * 1 &gt; 10\" ng-repeat=\"subfieldCode in marc[3]\"><span class=\"ikc-delimiter\">▼b</span><span>ADsP(Advanced Data Analytics Semi-Professional)</span><!-- --><span class=\"ikc-delimiter\" ng-if=\"$last\">▲</span><!-- --></span><!-- --><!-- --></td></tr><!-- --><tr ng-repeat=\"marc in biblioSummary.content['fields']\"><td class=\"ikc-marc-tag\">500</td><td><!-- --><span class=\"ikc-marc-indicators\" ng-if=\"marc[0] * 1 &gt; 10\"><!-- --><span ng-if=\"marc[1] != ' '\">1</span><!-- --> <!-- --> <span>0</span></span><!-- --></td><td><!-- --> <!-- --><!-- --><span class=\"ikc-marc-subfield\" ng-if=\"marc[0] * 1 &gt; 10\" ng-repeat=\"subfieldCode in marc[3]\"><span class=\"ikc-delimiter\">▼b</span><span>2014 Edition</span><!-- --><span class=\"ikc-delimiter\" ng-if=\"$last\">▲</span><!-- --></span><!-- --><!-- --></td></tr><!-- --><tr ng-repeat=\"marc in biblioSummary.content['fields']\"><td class=\"ikc-marc-tag\">500</td><td><!-- --><span class=\"ikc-marc-indicators\" ng-if=\"marc[0] * 1 &gt; 10\"><!-- --><span ng-if=\"marc[1] != ' '\">1</span><!-- --> <!-- --> <span>1</span></span><!-- --></td><td><!-- --> <!-- --><!-- --><span class=\"ikc-marc-subfield\" ng-if=\"marc[0] * 1 &gt; 10\" ng-repeat=\"subfieldCode in marc[3]\"><span class=\"ikc-delimiter\">▼j</span><span>(The)guide for advanced data analytics professional</span><!-- --><span class=\"ikc-delimiter\" ng-if=\"$last\">▲</span><!-- --></span><!-- --><!-- --></td></tr><!-- --><tr ng-repeat=\"marc in biblioSummary.content['fields']\"><td class=\"ikc-marc-tag\">500</td><td><!-- --><span class=\"ikc-marc-indicators\" ng-if=\"marc[0] * 1 &gt; 10\"><!-- --><span ng-if=\"marc[1] != ' '\">0</span><!-- --> <!-- --> <span>0</span></span><!-- --></td><td><!-- --> <!-- --><!-- --><span class=\"ikc-marc-subfield\" ng-if=\"marc[0] * 1 &gt; 10\" ng-repeat=\"subfieldCode in marc[3]\"><span class=\"ikc-delimiter\">▼z</span><span>부록: A. 컬러 그림 발췌(5과목). - B. 연습문제 정답 및 해설</span><!-- --><span class=\"ikc-delimiter\" ng-if=\"$last\">▲</span><!-- --></span><!-- --><!-- --></td></tr><!-- --><tr ng-repeat=\"marc in biblioSummary.content['fields']\"><td class=\"ikc-marc-tag\">504</td><td><!-- --><span class=\"ikc-marc-indicators\" ng-if=\"marc[0] * 1 &gt; 10\"><!-- --> <!-- --><span ng-if=\"marc[1] == ' '\"> </span><!-- --> <span> </span></span><!-- --></td><td><!-- --> <!-- --><!-- --><span class=\"ikc-marc-subfield\" ng-if=\"marc[0] * 1 &gt; 10\" ng-repeat=\"subfieldCode in marc[3]\"><span class=\"ikc-delimiter\">▼a</span><span>참고문헌: p. 1137-1140, 찾아보기: p. [1125]-1136</span><!-- --><span class=\"ikc-delimiter\" ng-if=\"$last\">▲</span><!-- --></span><!-- --><!-- --></td></tr><!-- --><tr ng-repeat=\"marc in biblioSummary.content['fields']\"><td class=\"ikc-marc-tag\">653</td><td><!-- --><span class=\"ikc-marc-indicators\" ng-if=\"marc[0] * 1 &gt; 10\"><!-- --> <!-- --><span ng-if=\"marc[1] == ' '\"> </span><!-- --> <span> </span></span><!-- --></td><td><!-- --> <!-- --><!-- --><span class=\"ikc-marc-subfield\" ng-if=\"marc[0] * 1 &gt; 10\" ng-repeat=\"subfieldCode in marc[3]\"><span class=\"ikc-delimiter\">▼a</span><span>데이터분석</span><!-- --></span><!-- --><!-- --><!-- --><span class=\"ikc-marc-subfield\" ng-if=\"marc[0] * 1 &gt; 10\" ng-repeat=\"subfieldCode in marc[3]\"><span class=\"ikc-delimiter\">▼a</span><span>데이터분석전문가</span><!-- --></span><!-- --><!-- --><!-- --><span class=\"ikc-marc-subfield\" ng-if=\"marc[0] * 1 &gt; 10\" ng-repeat=\"subfieldCode in marc[3]\"><span class=\"ikc-delimiter\">▼a</span><span>데이터베이스</span><!-- --><span class=\"ikc-delimiter\" ng-if=\"$last\">▲</span><!-- --></span><!-- --><!-- --></td></tr><!-- --></tbody></table></div></div><div class=\"k-widget k-window\" data-role=\"draggable\" style=\"padding-top: 29px; min-width: 90px; min-height: 50px; width: 320px; display: none; top: 780px; left: 21px;\"><div class=\"k-window-titlebar k-header\" style=\"margin-top: -29px;\"> <span class=\"k-window-title\">부재도서확인신청</span><div class=\"k-window-actions\"><a class=\"k-window-action k-link\" href=\"#\" role=\"button\"><span class=\"k-icon k-i-close\" role=\"presentation\">Close</span></a></div></div><div class=\"k-window-content k-content\" data-role=\"window\" k-draggable=\"true\" k-modal=\"true\" k-resizable=\"false\" k-title=\"'부재도서확인신청'\" k-visible=\"false\" k-width=\"320\" kendo-window=\"absentBookReportModal\" tabindex=\"0\"><div class=\"ikc-service-form ikc-search-service-modal ikc-absentbook\"><form class=\"ng-pristine ng-valid\"><ul><li class=\"ikc-item-title\" title=\"\"><span ng-bind=\"absentBookInfo.titleStatement.substr(0,60)\"></span><span></span></li><li></li><li></li></ul><div class=\"ikc-textarea ikc-required\"><label for=\"absPatronMessage\">전하는 말</label><input autocomplete=\"off\" class=\"ng-pristine ng-untouched ng-valid ng-empty\" name=\"bitemId\" ng-model=\"absentBookInfo.id\" title=\"자료아이디\" type=\"hidden\"/><textarea class=\"k-textbox ng-pristine ng-untouched ng-valid ng-empty\" id=\"absPatronMessage\" ik-kr-input=\"\" name=\"absPatronMessage\" ng-model=\"absentBookInfo.patronMessage\"></textarea></div><div class=\"ikc-btnswrap\"><button class=\"btn-block\" ng-click=\"saveAbsentBookReport()\">신청</button> <a class=\"btn-lineblock\" ui-sref=\"root.mylibrary.abr\">신청현황</a></div></form></div></div></div><div class=\"k-widget k-window\" data-role=\"draggable\" style=\"padding-top: 29px; min-width: 90px; min-height: 50px; width: 320px; height: 350px; display: none; top: 780px; left: 21px;\"><div class=\"k-window-titlebar k-header\" style=\"margin-top: -29px;\"> <span class=\"k-window-title\">폐가서고 대출신청</span><div class=\"k-window-actions\"><a class=\"k-window-action k-link\" href=\"#\" role=\"button\"><span class=\"k-icon k-i-close\" role=\"presentation\">Close</span></a></div></div><div class=\"k-window-content k-content\" data-role=\"window\" k-draggable=\"true\" k-height=\"350\" k-modal=\"true\" k-resizable=\"false\" k-title=\"'폐가서고 대출신청'\" k-visible=\"false\" k-width=\"320\" kendo-window=\"cclRequestModal\" tabindex=\"0\"><div class=\"ikc-service-form ikc-search-service-modal ikc-service-ccl\"><form class=\"ng-pristine ng-valid\"><ul><li class=\"ikc-item-title\" title=\"\"><span ng-bind=\"cclRequestInfo.titleStatement.substr(0,60)\"></span><span></span></li><li></li><li></li></ul><div class=\"ikc-textarea ikc-required\"><label for=\"cclPatronMessage\">전하는 말</label><input autocomplete=\"off\" class=\"ng-pristine ng-untouched ng-valid ng-empty\" name=\"bitemId\" ng-model=\"cclRequestInfo.id\" title=\"자료아이디\" type=\"hidden\"/><textarea class=\"k-textbox ng-pristine ng-untouched ng-valid ng-empty\" id=\"cclPatronMessage\" ik-kr-input=\"\" name=\"cclPatronMessage\" ng-model=\"cclRequestInfo.patronMessage\" title=\"전하는 말\"></textarea></div><div class=\"ikc-btnswrap\"><button class=\"btn-block\" ng-click=\"saveCclRequest()\">신청</button> <a class=\"btn-lineblock\" ui-sref=\"root.mylibrary.ccl\">신청현황</a></div></form></div></div></div><div class=\"k-widget k-window\" data-role=\"draggable\" style=\"padding-top: 29px; min-width: 90px; min-height: 50px; width: 320px; display: none; top: 780px; left: 21px;\"><div class=\"k-window-titlebar k-header\" style=\"margin-top: -29px;\"> <span class=\"k-window-title\">우선정리 대출신청</span><div class=\"k-window-actions\"><a class=\"k-window-action k-link\" href=\"#\" role=\"button\"><span class=\"k-icon k-i-close\" role=\"presentation\">Close</span></a></div></div><div class=\"k-window-content k-content\" data-role=\"window\" k-draggable=\"true\" k-modal=\"true\" k-resizable=\"false\" k-scrollable=\"true\" k-title=\"'우선정리 대출신청'\" k-visible=\"false\" k-width=\"320\" kendo-window=\"fclRequestModal\" tabindex=\"0\"><div class=\"ikc-service-form ikc-search-service-modal ikc-fcl-modal\"><form class=\"ng-pristine ng-valid\"><ul><li class=\"ikc-item-title\" title=\"\"><span ng-bind=\"fclRequestInfo.titleStatement.substr(0,60)\"></span><span></span></li><li></li><li></li></ul><div class=\"ikc-textarea ikc-required\"><label for=\"fclPatronMessage\">전하는 말</label><input autocomplete=\"off\" class=\"ng-pristine ng-untouched ng-valid ng-empty\" name=\"bitemId\" ng-model=\"fclRequestInfo.id\" title=\"자료아이디\" type=\"hidden\"/><textarea class=\"k-textbox ng-pristine ng-untouched ng-valid ng-empty\" id=\"fclPatronMessage\" ik-kr-input=\"\" name=\"fclPatronMessage\" ng-model=\"fclRequestInfo.patronMessage\"></textarea></div><label></label><div class=\"ikc-btnswrap\"><button class=\"btn-block\" ng-click=\"saveFclRequest()\">신청</button> <a class=\"btn-lineblock\" ui-sref=\"root.mylibrary.fcl\">신청현황</a></div></form></div></div></div><div class=\"k-widget k-window\" data-role=\"draggable\" style=\"padding-top: 29px; min-width: 90px; min-height: 50px; display: none; top: 780px; left: 21px;\"><div class=\"k-window-titlebar k-header\" style=\"margin-top: -29px;\"> <span class=\"k-window-title\">위치정보</span><div class=\"k-window-actions\"><a class=\"k-window-action k-link\" href=\"#\" role=\"button\"><span class=\"k-icon k-i-close\" role=\"presentation\">Close</span></a></div></div><div class=\"ikc-biblioItem-location k-window-content k-content\" data-role=\"window\" k-draggable=\"true\" k-modal=\"true\" k-resizable=\"false\" k-title=\"'위치정보'\" k-visible=\"false\" kendo-window=\"biblioItemLocationModal\" tabindex=\"0\"><!-- --><div class=\"ikc-item-location\"><div class=\"printLocation\"><!-- --><!-- --><div class=\"ikc-item-shelflocation printLocation\" ng-if=\"!isImageMapHide &amp;&amp; !isShowShelf\"><img alt=\"\"/></div><!-- --></div><div class=\"ikc-item-info printArea ikc-shelfmapShow\" ng-class=\"{'ikc-shelfmapShow' : !isImageMapHide }\"><!-- --><ul><li><span class=\"ikc-item-title\"></span></li><!-- --><!-- --><li class=\"ikc-item-callno\"></li><li></li><li></li><li></li><!-- --><li></li></ul></div><ul class=\"item-location-func\"><li><button ng-click=\"printItemLocationInfo()\" title=\"새창\">인쇄</button></li></ul></div></div></div><div class=\"k-widget k-window\" data-role=\"draggable\" style=\"padding-top: 29px; min-width: 90px; min-height: 50px; width: 320px; height: 450px; display: none; top: 780px; left: 21px;\"><div class=\"k-window-titlebar k-header\" style=\"margin-top: -29px;\"> <span class=\"k-window-title\">위치정보</span><div class=\"k-window-actions\"><a class=\"k-window-action k-link\" href=\"#\" role=\"button\"><span class=\"k-icon k-i-close\" role=\"presentation\">Close</span></a></div></div><div class=\"k-window-content k-content\" data-role=\"window\" k-draggable=\"true\" k-height=\"450\" k-modal=\"true\" k-resizable=\"false\" k-title=\"'위치정보'\" k-visible=\"false\" k-width=\"320\" kendo-window=\"issueBiblioItemLocationModal\" tabindex=\"0\"><div class=\"ikc-item-location\"><!-- --><div class=\"issuePrintArea\"><ul><li><span class=\"ikc-item-title\"></span></li><li></li><li></li><li></li><!-- --></ul></div><ul class=\"item-location-func\"><li><button ng-click=\"issuePrintItemLocationInfo()\">인쇄</button></li></ul></div></div></div><div class=\"k-widget k-window\" data-role=\"draggable\" style=\"padding-top: 29px; min-width: 90px; min-height: 50px; width: 600px; height: 600px; display: none; top: 780px; left: 21px;\"><div class=\"k-window-titlebar k-header\" style=\"margin-top: -29px;\"> <span class=\"k-window-title\">내 보관함 담기 </span><div class=\"k-window-actions\"><a class=\"k-window-action k-link\" href=\"#\" role=\"button\"><span class=\"k-icon k-i-close\" role=\"presentation\">Close</span></a></div></div><div class=\"k-window-content k-content\" data-role=\"window\" k-height=\"600\" k-modal=\"true\" k-on-close=\"closeWin()\" k-resizeable=\"false\" k-title=\"'내 보관함 담기 '\" k-visible=\"false\" k-width=\"600\" kendo-window=\"myCollectionWindow\" tabindex=\"0\"><script id=\"nodes_renderer.html\" type=\"text/ng-template\"><div ui-tree-handle\n",
       "             class=\"tree-node tree-node-content\">\n",
       "            <div class=\"ikc-collection-item-group\">\n",
       "                <div class=\"ikc-collection-item-groupname\">\n",
       "                    <a href=\"\" ng-if=\"collection.c8n && collection.c8n.length > 0\"\n",
       "                       data-nodrag\n",
       "                       ng-click=\"toggle(this)\">\n",
       "                        <span class=\"k-icon k-i-collapse\" ng-show=\"!collapsed\"></span>\n",
       "                        <span class=\"k-icon k-i-expand\" ng-show=\"collapsed\"></span>\n",
       "                    </a>\n",
       "                    {{collection.name}}\n",
       "                </div>\n",
       "                <div class=\"ikc-collection-item-groupfunc\">\n",
       "                    <input type=\"radio\" ng-hide=\"selectedNode==collection.id\"\n",
       "                           name=\"selectedNode\"\n",
       "                           data-nodrag\n",
       "                           ng-click=\"selectNode(collection.id)\"\n",
       "                           value=\"{{collection.id}}\"\n",
       "                           title=\"{{ ::'보관함정보' | translate }}\">\n",
       "                    <button ng-disabled=\"saveButtonDisabled\"\n",
       "                            data-nodrag\n",
       "                            ng-show=\"selectedNode==collection.id\"\n",
       "                            ng-click=\"save()\">\n",
       "                        {{ ::\"담기\" | translate }}\n",
       "                    </button>\n",
       "                </div>\n",
       "            </div>\n",
       "        </div>\n",
       "        <ol ui-tree-nodes=\"\"\n",
       "            ng-class=\"{hidden: collapsed}\"\n",
       "            ng-model=\"collection.c8n\">\n",
       "            <li ng-repeat=\"collection in collection.c8n\"\n",
       "                ui-tree-node\n",
       "                ng-include=\"'nodes_renderer.html'\">\n",
       "            </li>\n",
       "        </ol></script><div class=\"angular-ui-tree\" id=\"tree-root\" ui-tree=\"treeOptions\"><form class=\"ng-pristine ng-valid\" name=\"selectMyCollectionNode\"><!-- --><!-- --><div ng-if=\"!myCollections\">현재 생성된 보관함이 없습니다. 먼저 \"개인보관함\"에서 보관함을 생성해 주세요.<br/><br/><div class=\"ikc-page-btns\"><a class=\"button\" href=\"#/mylibrary/collections\" ng-href=\"#/mylibrary/collections\">개인보관함</a></div></div><!-- --><!-- --></form></div></div><div class=\"k-resize-handle k-resize-n\"></div><div class=\"k-resize-handle k-resize-e\"></div><div class=\"k-resize-handle k-resize-s\"></div><div class=\"k-resize-handle k-resize-w\"></div><div class=\"k-resize-handle k-resize-se\"></div><div class=\"k-resize-handle k-resize-sw\"></div><div class=\"k-resize-handle k-resize-ne\"></div><div class=\"k-resize-handle k-resize-nw\"></div></div><div aria-hidden=\"true\" class=\"k-calendar-container k-popup k-group k-reset\" data-role=\"popup\" id=\"birthday_dateview\" style=\"display: none; position: absolute;\"></div><div class=\"k-widget k-window\" data-role=\"draggable\" style=\"padding-top: 29px; min-width: 90px; min-height: 50px; width: 400px; height: 400px; display: none; top: 780px; left: 21px;\"><div class=\"k-window-titlebar k-header\" style=\"margin-top: -29px;\"> <span class=\"k-window-title\">전임교원자료배송신청</span><div class=\"k-window-actions\"><a class=\"k-window-action k-link\" href=\"#\" role=\"button\"><span class=\"k-icon k-i-close\" role=\"presentation\">Close</span></a></div></div><div class=\"k-window-content k-content\" data-role=\"window\" k-draggable=\"true\" k-height=\"400\" k-modal=\"true\" k-resizable=\"false\" k-title=\"'전임교원자료배송신청'\" k-visible=\"false\" k-width=\"400\" kendo-window=\"pdlRequestModal\" tabindex=\"0\"><div class=\"ikc-service-form\"><form class=\"ng-pristine ng-invalid ng-invalid-required\" data-role=\"validator\" k-options=\"form.validatorOptions\" kendo-validator=\"pdlForm\" ng-submit=\"formValidate($event)\" novalidate=\"novalidate\"><dl><dt></dt><dd></dd><dd></dd></dl><div class=\"ikc-textbox ikc-required\"><label for=\"receiverAddress\">수신처 <span class=\"k-invalid-msg\" data-for=\"receiverAddress\"></span></label><input class=\"k-textbox ng-pristine ng-untouched ng-empty ng-invalid ng-invalid-required\" data-email-msg=\"수신처를 확인해 주세요.\" data-required-msg=\"수신처를 입력해 주세요.\" name=\"receiverAddress\" ng-model=\"pdlRequestInfo.receiverAddress\" required=\"\" title=\"수신처\"/></div><div class=\"ikc-textbox ikc-required\"><label for=\"phoneNo\">연락처 <span class=\"k-invalid-msg\" data-for=\"phoneNo\"></span></label><input class=\"k-textbox ng-pristine ng-untouched ng-empty ng-invalid ng-invalid-required\" data-email-msg=\"연락처를 확인해 주세요.\" data-required-msg=\"연락처를 입력해 주세요.\" name=\"phoneNo\" ng-model=\"pdlRequestInfo.phoneNo\" required=\"\" title=\"연락처\"/></div><div class=\"ikc-date-picker ikc-required col-lg-4 col-md-4 col-sm-4 col-xs-12\"><label class=\"ng-binding\">방문예정일 <span class=\"k-invalid-msg\" data-for=\"visitday\"></span></label><span class=\"k-widget k-datepicker k-header ng-pristine ng-untouched ng-empty ng-invalid ng-invalid-required\" style=\"\"><span class=\"k-picker-wrap k-state-default\"><input aria-disabled=\"false\" aria-expanded=\"false\" aria-owns=\"birthday_dateview\" aria-readonly=\"false\" class=\"ng-pristine ng-untouched k-input ng-empty ng-invalid ng-invalid-required\" data-required-msg=\"필수입력 항목입니다.\" data-role=\"datepicker\" id=\"birthday\" k-format=\"'yyyy-MM-dd'\" kendo-date-picker=\"birthday\" name=\"birthday\" ng-model=\"form.visitday\" required=\"\" role=\"combobox\" style=\"width: 100%;\" type=\"text\"/><span aria-controls=\"birthday_dateview\" class=\"k-select\" role=\"button\" unselectable=\"on\"><span class=\"k-icon k-i-calendar\" unselectable=\"on\">select</span></span></span></span></div><div class=\"ikc-date-picker ikc-required col-lg-4 col-md-4 col-sm-4 col-xs-12\"><label class=\"ng-binding\">방문예정시간 <span class=\"k-invalid-msg\" data-for=\"visittime\"></span></label><input class=\"ng-pristine ng-untouched ng-empty ng-invalid ng-invalid-required\" data-required-msg=\"필수입력 항목입니다.\" id=\"timepicker\" ng-model=\"form.visittime\" required=\"\" style=\"width: 70%\" title=\"timepicker\" value=\"10:00 AM\"/></div><div class=\"ikc-btnswrap\"><button class=\"btn-block\" type=\"submit\">신청</button> <a class=\"btn-lineblock\" ui-sref=\"root.mylibrary.pdl\">신청현황</a></div></form></div></div></div><div class=\"k-widget k-window\" data-role=\"draggable\" style=\"padding-top: 29px; min-width: 90px; min-height: 50px; width: 320px; display: none; top: 780px; left: 21px;\"><div class=\"k-window-titlebar k-header\" style=\"margin-top: -29px;\"> <span class=\"k-window-title\">분관상호대차 신청</span><div class=\"k-window-actions\"><a class=\"k-window-action k-link\" href=\"#\" role=\"button\"><span class=\"k-icon k-i-close\" role=\"presentation\">Close</span></a></div></div><div class=\"k-window-content k-content\" data-role=\"window\" k-draggable=\"true\" k-modal=\"true\" k-resizable=\"false\" k-title=\"'분관상호대차 신청'\" k-visible=\"false\" k-width=\"320\" kendo-window=\"iblRequestModal\" tabindex=\"0\"><div class=\"ikc-service-form\"><form class=\"ng-pristine ng-valid\" data-role=\"validator\" kendo-validator=\"iblForm\" ng-submit=\"formValidate($event)\" novalidate=\"novalidate\"><div class=\"ikc-radio-group\"><label>수령할 분관을 선택하세요.</label><div class=\"ikc-groupbox ibl-groupbox\"><!-- --></div></div><div class=\"ikc-radio-group\"><!-- --><!-- --></div><div class=\"ikc-radio-group\"><!-- --><!-- --></div><div class=\"ikc-textarea\"><label for=\"iblPatronMessage\">전하는 말</label><textarea class=\"k-textbox ng-pristine ng-untouched ng-valid ng-empty\" id=\"iblPatronMessage\" ik-kr-input=\"\" name=\"iblPatronMessage\" ng-model=\"iblRequestInfo.patronMessage\"></textarea></div><div class=\"ikc-btnswrap\"><button class=\"btn-block\" type=\"submit\">신청</button> <a class=\"btn-lineblock\" ui-sref=\"root.mylibrary.ibl\">신청현황</a></div></form></div></div></div><div class=\"k-widget k-window\" data-role=\"draggable\" style=\"padding-top: 29px; min-width: 90px; min-height: 50px; width: 320px; height: 400px; display: none; top: 780px; left: 21px;\"><div class=\"k-window-titlebar k-header\" style=\"margin-top: -29px;\"> <span class=\"k-window-title\">sms 발송신청</span><div class=\"k-window-actions\"><a class=\"k-window-action k-link\" href=\"#\" role=\"button\"><span class=\"k-icon k-i-close\" role=\"presentation\">Close</span></a></div></div><div class=\"k-window-content k-content\" data-role=\"window\" k-draggable=\"true\" k-height=\"400\" k-modal=\"true\" k-resizable=\"false\" k-title=\"'sms 발송신청'\" k-visible=\"false\" k-width=\"320\" kendo-window=\"smsRequestModal\" tabindex=\"0\"><div class=\"ikc-service-form ikc-search-service-modal\"><form class=\"ng-pristine ng-invalid ng-invalid-required\" data-role=\"validator\" kendo-validator=\"smsForm\" ng-submit=\"formValidate($event)\" novalidate=\"novalidate\"><ul><li class=\"ikc-item-title\"></li><li></li><!-- --><li></li></ul><div class=\"ikc-textbox ikc-required\"><label for=\"mobilePhoneNo\">수신번호 <span class=\"k-invalid-msg\" data-for=\"mobilePhoneNo\"></span></label><input class=\"k-textbox ng-pristine ng-untouched ng-empty ng-invalid ng-invalid-required\" data-email-msg=\"수신번호를 확인해 주세요.\" data-required-msg=\"수신번호를 입력해 주세요.\" id=\"mobilePhoneNo\" name=\"mobilePhoneNo\" ng-model=\"smsRequestInfo.mobilePhoneNo\" required=\"\"/></div><!-- --><div class=\"ikc-btnswrap\"><button class=\"btn-block\" type=\"submit\">발송</button></div></form></div></div></div><div class=\"k-widget k-window\" data-role=\"draggable\" style=\"padding-top: 29px; min-width: 90px; min-height: 50px; width: 320px; height: 400px; display: none; top: 780px; left: 21px;\"><div class=\"k-window-titlebar k-header\" style=\"margin-top: -29px;\"> <span class=\"k-window-title\">email 내보내기</span><div class=\"k-window-actions\"><a class=\"k-window-action k-link\" href=\"#\" role=\"button\"><span class=\"k-icon k-i-close\" role=\"presentation\">Close</span></a></div></div><div class=\"k-window-content k-content\" data-role=\"window\" k-draggable=\"true\" k-height=\"400\" k-modal=\"true\" k-resizable=\"false\" k-title=\"'email 내보내기'\" k-visible=\"false\" k-width=\"320\" kendo-window=\"sendEmailModal\" tabindex=\"0\"><div class=\"ikc-service-form ikc-search-service-modal\"><form class=\"ng-pristine ng-invalid ng-invalid-required\" data-role=\"validator\" kendo-validator=\"emailForm\" ng-submit=\"formValidate($event)\" novalidate=\"novalidate\"><ul><li class=\"ikc-item-title\">데이터 분석 전문가 가이드</li><li>외 총  건</li></ul><div class=\"ikc-textbox ikc-required\"><label for=\"email\">email <span class=\"k-invalid-msg\" data-for=\"email\"></span></label><input class=\"k-textbox ng-pristine ng-untouched ng-empty ng-invalid ng-invalid-required\" data-email-msg=\"email을 확인해 주세요.\" data-required-msg=\"email을 입력해 주세요.\" id=\"email\" name=\"email\" ng-model=\"sendMailInfo.email\" required=\"\"/></div><div class=\"ikc-btnswrap\"><button class=\"btn-block\" type=\"submit\">발송</button></div></form></div></div></div><div class=\"k-widget k-window\" data-role=\"draggable\" style=\"padding-top: 29px; min-width: 90px; min-height: 50px; display: none; top: 780px; left: 21px;\"><div class=\"k-window-titlebar k-header\" style=\"margin-top: -29px;\"> <span class=\"k-window-title\"></span><div class=\"k-window-actions\"><a class=\"k-window-action k-link\" href=\"#\" role=\"button\"><span class=\"k-icon k-i-maximize\" role=\"presentation\">Maximize</span></a><a class=\"k-window-action k-link\" href=\"#\" role=\"button\"><span class=\"k-icon k-i-close\" role=\"presentation\">Close</span></a></div></div><div class=\"k-window-content k-content\" data-role=\"window\" k-actions=\"['Maximize', 'Close']\" k-modal=\"true\" k-resizeable=\"false\" k-visible=\"false\" kendo-window=\"relatedResourceModal\" style=\"overflow: hidden\" tabindex=\"0\"><div class=\"ikc-viewer-wrap\"><div class=\"ikc-viewer-main\"><div ng-switch=\"\" on=\"playerType\"><!-- --><!-- --><!-- --><!-- --><!-- --><!-- --><!-- --><div ng-switch-default=\"\"><div class=\"ikc-viewer-text ng-hide\" ng-bind-html=\"content | IKGNl2br\" ng-show=\"content\">undefined</div></div><!-- --></div></div><div class=\"ikc-viewer-side ng-hide\" ng-show=\"playResourceCount &gt; 1\"><!-- --><!-- --><!-- --></div></div></div><div class=\"k-resize-handle k-resize-n\"></div><div class=\"k-resize-handle k-resize-e\"></div><div class=\"k-resize-handle k-resize-s\"></div><div class=\"k-resize-handle k-resize-w\"></div><div class=\"k-resize-handle k-resize-se\"></div><div class=\"k-resize-handle k-resize-sw\"></div><div class=\"k-resize-handle k-resize-ne\"></div><div class=\"k-resize-handle k-resize-nw\"></div></div></body></html>"
      ]
     },
     "execution_count": 34,
     "metadata": {},
     "output_type": "execute_result"
    }
   ],
   "source": [
    "soup"
   ]
  },
  {
   "cell_type": "code",
   "execution_count": 46,
   "metadata": {},
   "outputs": [],
   "source": [
    "browser.back()"
   ]
  },
  {
   "cell_type": "code",
   "execution_count": 47,
   "metadata": {},
   "outputs": [
    {
     "name": "stdout",
     "output_type": "stream",
     "text": [
      "https://lib.kookmin.ac.kr/#/search/info/si?all=1%7Ck%7Ca%7C%EB%8D%B0%EC%9D%B4%ED%84%B0%20%EB%B6%84%EC%84%9D%20%EC%A0%84%EB%AC%B8%EA%B0%80%20%EA%B0%80%EC%9D%B4%EB%93%9C\n"
     ]
    }
   ],
   "source": [
    "print(browser.current_url)"
   ]
  },
  {
   "cell_type": "code",
   "execution_count": 50,
   "metadata": {},
   "outputs": [
    {
     "ename": "NoSuchElementException",
     "evalue": "Message: no such element: Unable to locate element: {\"method\":\"xpath\",\"selector\":\"/html/body/div[1]/div[3]/div[2]/div[2]/div[2]/div[2]/div[1]/div/div[2]/div[4]/div[2]/div[3]/ul/li[1]/a[1]\"}\n  (Session info: headless chrome=81.0.4044.122)\n",
     "output_type": "error",
     "traceback": [
      "\u001b[1;31m---------------------------------------------------------------------------\u001b[0m",
      "\u001b[1;31mNoSuchElementException\u001b[0m                    Traceback (most recent call last)",
      "\u001b[1;32m<ipython-input-50-f63454271a53>\u001b[0m in \u001b[0;36m<module>\u001b[1;34m\u001b[0m\n\u001b[1;32m----> 1\u001b[1;33m \u001b[0mlinkElement\u001b[0m \u001b[1;33m=\u001b[0m \u001b[0mbrowser\u001b[0m\u001b[1;33m.\u001b[0m\u001b[0mfind_element_by_xpath\u001b[0m\u001b[1;33m(\u001b[0m\u001b[0mlinkListXpath\u001b[0m \u001b[1;33m+\u001b[0m \u001b[0mlinkDetailXpath\u001b[0m\u001b[1;33m.\u001b[0m\u001b[0mformat\u001b[0m\u001b[1;33m(\u001b[0m\u001b[1;36m2\u001b[0m\u001b[1;33m)\u001b[0m\u001b[1;33m)\u001b[0m\u001b[1;33m\u001b[0m\u001b[1;33m\u001b[0m\u001b[0m\n\u001b[0m\u001b[0;32m      2\u001b[0m \u001b[0mlinkElement\u001b[0m\u001b[1;33m.\u001b[0m\u001b[0mclick\u001b[0m\u001b[1;33m(\u001b[0m\u001b[1;33m)\u001b[0m\u001b[1;33m\u001b[0m\u001b[1;33m\u001b[0m\u001b[0m\n\u001b[0;32m      3\u001b[0m \u001b[0mprint\u001b[0m\u001b[1;33m(\u001b[0m\u001b[0mbrowser\u001b[0m\u001b[1;33m.\u001b[0m\u001b[0mcurrent_url\u001b[0m\u001b[1;33m)\u001b[0m\u001b[1;33m\u001b[0m\u001b[1;33m\u001b[0m\u001b[0m\n\u001b[0;32m      4\u001b[0m \u001b[0mbrowser\u001b[0m\u001b[1;33m.\u001b[0m\u001b[0mback\u001b[0m\u001b[1;33m(\u001b[0m\u001b[1;33m)\u001b[0m\u001b[1;33m\u001b[0m\u001b[1;33m\u001b[0m\u001b[0m\n\u001b[0;32m      5\u001b[0m \u001b[0mprint\u001b[0m\u001b[1;33m(\u001b[0m\u001b[0mbrowser\u001b[0m\u001b[1;33m.\u001b[0m\u001b[0mcurrent_url\u001b[0m\u001b[1;33m)\u001b[0m\u001b[1;33m\u001b[0m\u001b[1;33m\u001b[0m\u001b[0m\n",
      "\u001b[1;32m~\\anaconda3\\lib\\site-packages\\selenium\\webdriver\\remote\\webdriver.py\u001b[0m in \u001b[0;36mfind_element_by_xpath\u001b[1;34m(self, xpath)\u001b[0m\n\u001b[0;32m    392\u001b[0m             \u001b[0melement\u001b[0m \u001b[1;33m=\u001b[0m \u001b[0mdriver\u001b[0m\u001b[1;33m.\u001b[0m\u001b[0mfind_element_by_xpath\u001b[0m\u001b[1;33m(\u001b[0m\u001b[1;34m'//div/td[1]'\u001b[0m\u001b[1;33m)\u001b[0m\u001b[1;33m\u001b[0m\u001b[1;33m\u001b[0m\u001b[0m\n\u001b[0;32m    393\u001b[0m         \"\"\"\n\u001b[1;32m--> 394\u001b[1;33m         \u001b[1;32mreturn\u001b[0m \u001b[0mself\u001b[0m\u001b[1;33m.\u001b[0m\u001b[0mfind_element\u001b[0m\u001b[1;33m(\u001b[0m\u001b[0mby\u001b[0m\u001b[1;33m=\u001b[0m\u001b[0mBy\u001b[0m\u001b[1;33m.\u001b[0m\u001b[0mXPATH\u001b[0m\u001b[1;33m,\u001b[0m \u001b[0mvalue\u001b[0m\u001b[1;33m=\u001b[0m\u001b[0mxpath\u001b[0m\u001b[1;33m)\u001b[0m\u001b[1;33m\u001b[0m\u001b[1;33m\u001b[0m\u001b[0m\n\u001b[0m\u001b[0;32m    395\u001b[0m \u001b[1;33m\u001b[0m\u001b[0m\n\u001b[0;32m    396\u001b[0m     \u001b[1;32mdef\u001b[0m \u001b[0mfind_elements_by_xpath\u001b[0m\u001b[1;33m(\u001b[0m\u001b[0mself\u001b[0m\u001b[1;33m,\u001b[0m \u001b[0mxpath\u001b[0m\u001b[1;33m)\u001b[0m\u001b[1;33m:\u001b[0m\u001b[1;33m\u001b[0m\u001b[1;33m\u001b[0m\u001b[0m\n",
      "\u001b[1;32m~\\anaconda3\\lib\\site-packages\\selenium\\webdriver\\remote\\webdriver.py\u001b[0m in \u001b[0;36mfind_element\u001b[1;34m(self, by, value)\u001b[0m\n\u001b[0;32m    976\u001b[0m         return self.execute(Command.FIND_ELEMENT, {\n\u001b[0;32m    977\u001b[0m             \u001b[1;34m'using'\u001b[0m\u001b[1;33m:\u001b[0m \u001b[0mby\u001b[0m\u001b[1;33m,\u001b[0m\u001b[1;33m\u001b[0m\u001b[1;33m\u001b[0m\u001b[0m\n\u001b[1;32m--> 978\u001b[1;33m             'value': value})['value']\n\u001b[0m\u001b[0;32m    979\u001b[0m \u001b[1;33m\u001b[0m\u001b[0m\n\u001b[0;32m    980\u001b[0m     \u001b[1;32mdef\u001b[0m \u001b[0mfind_elements\u001b[0m\u001b[1;33m(\u001b[0m\u001b[0mself\u001b[0m\u001b[1;33m,\u001b[0m \u001b[0mby\u001b[0m\u001b[1;33m=\u001b[0m\u001b[0mBy\u001b[0m\u001b[1;33m.\u001b[0m\u001b[0mID\u001b[0m\u001b[1;33m,\u001b[0m \u001b[0mvalue\u001b[0m\u001b[1;33m=\u001b[0m\u001b[1;32mNone\u001b[0m\u001b[1;33m)\u001b[0m\u001b[1;33m:\u001b[0m\u001b[1;33m\u001b[0m\u001b[1;33m\u001b[0m\u001b[0m\n",
      "\u001b[1;32m~\\anaconda3\\lib\\site-packages\\selenium\\webdriver\\remote\\webdriver.py\u001b[0m in \u001b[0;36mexecute\u001b[1;34m(self, driver_command, params)\u001b[0m\n\u001b[0;32m    319\u001b[0m         \u001b[0mresponse\u001b[0m \u001b[1;33m=\u001b[0m \u001b[0mself\u001b[0m\u001b[1;33m.\u001b[0m\u001b[0mcommand_executor\u001b[0m\u001b[1;33m.\u001b[0m\u001b[0mexecute\u001b[0m\u001b[1;33m(\u001b[0m\u001b[0mdriver_command\u001b[0m\u001b[1;33m,\u001b[0m \u001b[0mparams\u001b[0m\u001b[1;33m)\u001b[0m\u001b[1;33m\u001b[0m\u001b[1;33m\u001b[0m\u001b[0m\n\u001b[0;32m    320\u001b[0m         \u001b[1;32mif\u001b[0m \u001b[0mresponse\u001b[0m\u001b[1;33m:\u001b[0m\u001b[1;33m\u001b[0m\u001b[1;33m\u001b[0m\u001b[0m\n\u001b[1;32m--> 321\u001b[1;33m             \u001b[0mself\u001b[0m\u001b[1;33m.\u001b[0m\u001b[0merror_handler\u001b[0m\u001b[1;33m.\u001b[0m\u001b[0mcheck_response\u001b[0m\u001b[1;33m(\u001b[0m\u001b[0mresponse\u001b[0m\u001b[1;33m)\u001b[0m\u001b[1;33m\u001b[0m\u001b[1;33m\u001b[0m\u001b[0m\n\u001b[0m\u001b[0;32m    322\u001b[0m             response['value'] = self._unwrap_value(\n\u001b[0;32m    323\u001b[0m                 response.get('value', None))\n",
      "\u001b[1;32m~\\anaconda3\\lib\\site-packages\\selenium\\webdriver\\remote\\errorhandler.py\u001b[0m in \u001b[0;36mcheck_response\u001b[1;34m(self, response)\u001b[0m\n\u001b[0;32m    240\u001b[0m                 \u001b[0malert_text\u001b[0m \u001b[1;33m=\u001b[0m \u001b[0mvalue\u001b[0m\u001b[1;33m[\u001b[0m\u001b[1;34m'alert'\u001b[0m\u001b[1;33m]\u001b[0m\u001b[1;33m.\u001b[0m\u001b[0mget\u001b[0m\u001b[1;33m(\u001b[0m\u001b[1;34m'text'\u001b[0m\u001b[1;33m)\u001b[0m\u001b[1;33m\u001b[0m\u001b[1;33m\u001b[0m\u001b[0m\n\u001b[0;32m    241\u001b[0m             \u001b[1;32mraise\u001b[0m \u001b[0mexception_class\u001b[0m\u001b[1;33m(\u001b[0m\u001b[0mmessage\u001b[0m\u001b[1;33m,\u001b[0m \u001b[0mscreen\u001b[0m\u001b[1;33m,\u001b[0m \u001b[0mstacktrace\u001b[0m\u001b[1;33m,\u001b[0m \u001b[0malert_text\u001b[0m\u001b[1;33m)\u001b[0m\u001b[1;33m\u001b[0m\u001b[1;33m\u001b[0m\u001b[0m\n\u001b[1;32m--> 242\u001b[1;33m         \u001b[1;32mraise\u001b[0m \u001b[0mexception_class\u001b[0m\u001b[1;33m(\u001b[0m\u001b[0mmessage\u001b[0m\u001b[1;33m,\u001b[0m \u001b[0mscreen\u001b[0m\u001b[1;33m,\u001b[0m \u001b[0mstacktrace\u001b[0m\u001b[1;33m)\u001b[0m\u001b[1;33m\u001b[0m\u001b[1;33m\u001b[0m\u001b[0m\n\u001b[0m\u001b[0;32m    243\u001b[0m \u001b[1;33m\u001b[0m\u001b[0m\n\u001b[0;32m    244\u001b[0m     \u001b[1;32mdef\u001b[0m \u001b[0m_value_or_default\u001b[0m\u001b[1;33m(\u001b[0m\u001b[0mself\u001b[0m\u001b[1;33m,\u001b[0m \u001b[0mobj\u001b[0m\u001b[1;33m,\u001b[0m \u001b[0mkey\u001b[0m\u001b[1;33m,\u001b[0m \u001b[0mdefault\u001b[0m\u001b[1;33m)\u001b[0m\u001b[1;33m:\u001b[0m\u001b[1;33m\u001b[0m\u001b[1;33m\u001b[0m\u001b[0m\n",
      "\u001b[1;31mNoSuchElementException\u001b[0m: Message: no such element: Unable to locate element: {\"method\":\"xpath\",\"selector\":\"/html/body/div[1]/div[3]/div[2]/div[2]/div[2]/div[2]/div[1]/div/div[2]/div[4]/div[2]/div[3]/ul/li[1]/a[1]\"}\n  (Session info: headless chrome=81.0.4044.122)\n"
     ]
    }
   ],
   "source": [
    "linkElement = browser.find_element_by_xpath(linkListXpath + linkDetailXpath.format(2))\n",
    "linkElement.click()\n",
    "print(browser.current_url)\n",
    "browser.back()\n",
    "print(browser.current_url)"
   ]
  },
  {
   "cell_type": "code",
   "execution_count": 49,
   "metadata": {},
   "outputs": [
    {
     "ename": "NoSuchElementException",
     "evalue": "Message: no such element: Unable to locate element: {\"method\":\"xpath\",\"selector\":\"/html/body/div[1]/div[3]/div[2]/div[2]/div[2]/div[2]/div[1]/div/div[2]/div[4]/div[3]/div[3]/ul/li[1]/a[1]\"}\n  (Session info: headless chrome=81.0.4044.122)\n",
     "output_type": "error",
     "traceback": [
      "\u001b[1;31m---------------------------------------------------------------------------\u001b[0m",
      "\u001b[1;31mNoSuchElementException\u001b[0m                    Traceback (most recent call last)",
      "\u001b[1;32m<ipython-input-49-4d3dc063d4c4>\u001b[0m in \u001b[0;36m<module>\u001b[1;34m\u001b[0m\n\u001b[1;32m----> 1\u001b[1;33m \u001b[0mlinkElement\u001b[0m \u001b[1;33m=\u001b[0m \u001b[0mbrowser\u001b[0m\u001b[1;33m.\u001b[0m\u001b[0mfind_element_by_xpath\u001b[0m\u001b[1;33m(\u001b[0m\u001b[0mlinkListXpath\u001b[0m \u001b[1;33m+\u001b[0m \u001b[0mlinkDetailXpath\u001b[0m\u001b[1;33m.\u001b[0m\u001b[0mformat\u001b[0m\u001b[1;33m(\u001b[0m\u001b[1;36m3\u001b[0m\u001b[1;33m)\u001b[0m\u001b[1;33m)\u001b[0m\u001b[1;33m\u001b[0m\u001b[1;33m\u001b[0m\u001b[0m\n\u001b[0m\u001b[0;32m      2\u001b[0m \u001b[0mlinkElement\u001b[0m\u001b[1;33m.\u001b[0m\u001b[0mclick\u001b[0m\u001b[1;33m(\u001b[0m\u001b[1;33m)\u001b[0m\u001b[1;33m\u001b[0m\u001b[1;33m\u001b[0m\u001b[0m\n\u001b[0;32m      3\u001b[0m \u001b[0mprint\u001b[0m\u001b[1;33m(\u001b[0m\u001b[0mbrowser\u001b[0m\u001b[1;33m.\u001b[0m\u001b[0mcurrent_url\u001b[0m\u001b[1;33m)\u001b[0m\u001b[1;33m\u001b[0m\u001b[1;33m\u001b[0m\u001b[0m\n\u001b[0;32m      4\u001b[0m \u001b[0mbrowser\u001b[0m\u001b[1;33m.\u001b[0m\u001b[0mback\u001b[0m\u001b[1;33m(\u001b[0m\u001b[1;33m)\u001b[0m\u001b[1;33m\u001b[0m\u001b[1;33m\u001b[0m\u001b[0m\n\u001b[0;32m      5\u001b[0m \u001b[0mprint\u001b[0m\u001b[1;33m(\u001b[0m\u001b[0mbrowser\u001b[0m\u001b[1;33m.\u001b[0m\u001b[0mcurrent_url\u001b[0m\u001b[1;33m)\u001b[0m\u001b[1;33m\u001b[0m\u001b[1;33m\u001b[0m\u001b[0m\n",
      "\u001b[1;32m~\\anaconda3\\lib\\site-packages\\selenium\\webdriver\\remote\\webdriver.py\u001b[0m in \u001b[0;36mfind_element_by_xpath\u001b[1;34m(self, xpath)\u001b[0m\n\u001b[0;32m    392\u001b[0m             \u001b[0melement\u001b[0m \u001b[1;33m=\u001b[0m \u001b[0mdriver\u001b[0m\u001b[1;33m.\u001b[0m\u001b[0mfind_element_by_xpath\u001b[0m\u001b[1;33m(\u001b[0m\u001b[1;34m'//div/td[1]'\u001b[0m\u001b[1;33m)\u001b[0m\u001b[1;33m\u001b[0m\u001b[1;33m\u001b[0m\u001b[0m\n\u001b[0;32m    393\u001b[0m         \"\"\"\n\u001b[1;32m--> 394\u001b[1;33m         \u001b[1;32mreturn\u001b[0m \u001b[0mself\u001b[0m\u001b[1;33m.\u001b[0m\u001b[0mfind_element\u001b[0m\u001b[1;33m(\u001b[0m\u001b[0mby\u001b[0m\u001b[1;33m=\u001b[0m\u001b[0mBy\u001b[0m\u001b[1;33m.\u001b[0m\u001b[0mXPATH\u001b[0m\u001b[1;33m,\u001b[0m \u001b[0mvalue\u001b[0m\u001b[1;33m=\u001b[0m\u001b[0mxpath\u001b[0m\u001b[1;33m)\u001b[0m\u001b[1;33m\u001b[0m\u001b[1;33m\u001b[0m\u001b[0m\n\u001b[0m\u001b[0;32m    395\u001b[0m \u001b[1;33m\u001b[0m\u001b[0m\n\u001b[0;32m    396\u001b[0m     \u001b[1;32mdef\u001b[0m \u001b[0mfind_elements_by_xpath\u001b[0m\u001b[1;33m(\u001b[0m\u001b[0mself\u001b[0m\u001b[1;33m,\u001b[0m \u001b[0mxpath\u001b[0m\u001b[1;33m)\u001b[0m\u001b[1;33m:\u001b[0m\u001b[1;33m\u001b[0m\u001b[1;33m\u001b[0m\u001b[0m\n",
      "\u001b[1;32m~\\anaconda3\\lib\\site-packages\\selenium\\webdriver\\remote\\webdriver.py\u001b[0m in \u001b[0;36mfind_element\u001b[1;34m(self, by, value)\u001b[0m\n\u001b[0;32m    976\u001b[0m         return self.execute(Command.FIND_ELEMENT, {\n\u001b[0;32m    977\u001b[0m             \u001b[1;34m'using'\u001b[0m\u001b[1;33m:\u001b[0m \u001b[0mby\u001b[0m\u001b[1;33m,\u001b[0m\u001b[1;33m\u001b[0m\u001b[1;33m\u001b[0m\u001b[0m\n\u001b[1;32m--> 978\u001b[1;33m             'value': value})['value']\n\u001b[0m\u001b[0;32m    979\u001b[0m \u001b[1;33m\u001b[0m\u001b[0m\n\u001b[0;32m    980\u001b[0m     \u001b[1;32mdef\u001b[0m \u001b[0mfind_elements\u001b[0m\u001b[1;33m(\u001b[0m\u001b[0mself\u001b[0m\u001b[1;33m,\u001b[0m \u001b[0mby\u001b[0m\u001b[1;33m=\u001b[0m\u001b[0mBy\u001b[0m\u001b[1;33m.\u001b[0m\u001b[0mID\u001b[0m\u001b[1;33m,\u001b[0m \u001b[0mvalue\u001b[0m\u001b[1;33m=\u001b[0m\u001b[1;32mNone\u001b[0m\u001b[1;33m)\u001b[0m\u001b[1;33m:\u001b[0m\u001b[1;33m\u001b[0m\u001b[1;33m\u001b[0m\u001b[0m\n",
      "\u001b[1;32m~\\anaconda3\\lib\\site-packages\\selenium\\webdriver\\remote\\webdriver.py\u001b[0m in \u001b[0;36mexecute\u001b[1;34m(self, driver_command, params)\u001b[0m\n\u001b[0;32m    319\u001b[0m         \u001b[0mresponse\u001b[0m \u001b[1;33m=\u001b[0m \u001b[0mself\u001b[0m\u001b[1;33m.\u001b[0m\u001b[0mcommand_executor\u001b[0m\u001b[1;33m.\u001b[0m\u001b[0mexecute\u001b[0m\u001b[1;33m(\u001b[0m\u001b[0mdriver_command\u001b[0m\u001b[1;33m,\u001b[0m \u001b[0mparams\u001b[0m\u001b[1;33m)\u001b[0m\u001b[1;33m\u001b[0m\u001b[1;33m\u001b[0m\u001b[0m\n\u001b[0;32m    320\u001b[0m         \u001b[1;32mif\u001b[0m \u001b[0mresponse\u001b[0m\u001b[1;33m:\u001b[0m\u001b[1;33m\u001b[0m\u001b[1;33m\u001b[0m\u001b[0m\n\u001b[1;32m--> 321\u001b[1;33m             \u001b[0mself\u001b[0m\u001b[1;33m.\u001b[0m\u001b[0merror_handler\u001b[0m\u001b[1;33m.\u001b[0m\u001b[0mcheck_response\u001b[0m\u001b[1;33m(\u001b[0m\u001b[0mresponse\u001b[0m\u001b[1;33m)\u001b[0m\u001b[1;33m\u001b[0m\u001b[1;33m\u001b[0m\u001b[0m\n\u001b[0m\u001b[0;32m    322\u001b[0m             response['value'] = self._unwrap_value(\n\u001b[0;32m    323\u001b[0m                 response.get('value', None))\n",
      "\u001b[1;32m~\\anaconda3\\lib\\site-packages\\selenium\\webdriver\\remote\\errorhandler.py\u001b[0m in \u001b[0;36mcheck_response\u001b[1;34m(self, response)\u001b[0m\n\u001b[0;32m    240\u001b[0m                 \u001b[0malert_text\u001b[0m \u001b[1;33m=\u001b[0m \u001b[0mvalue\u001b[0m\u001b[1;33m[\u001b[0m\u001b[1;34m'alert'\u001b[0m\u001b[1;33m]\u001b[0m\u001b[1;33m.\u001b[0m\u001b[0mget\u001b[0m\u001b[1;33m(\u001b[0m\u001b[1;34m'text'\u001b[0m\u001b[1;33m)\u001b[0m\u001b[1;33m\u001b[0m\u001b[1;33m\u001b[0m\u001b[0m\n\u001b[0;32m    241\u001b[0m             \u001b[1;32mraise\u001b[0m \u001b[0mexception_class\u001b[0m\u001b[1;33m(\u001b[0m\u001b[0mmessage\u001b[0m\u001b[1;33m,\u001b[0m \u001b[0mscreen\u001b[0m\u001b[1;33m,\u001b[0m \u001b[0mstacktrace\u001b[0m\u001b[1;33m,\u001b[0m \u001b[0malert_text\u001b[0m\u001b[1;33m)\u001b[0m\u001b[1;33m\u001b[0m\u001b[1;33m\u001b[0m\u001b[0m\n\u001b[1;32m--> 242\u001b[1;33m         \u001b[1;32mraise\u001b[0m \u001b[0mexception_class\u001b[0m\u001b[1;33m(\u001b[0m\u001b[0mmessage\u001b[0m\u001b[1;33m,\u001b[0m \u001b[0mscreen\u001b[0m\u001b[1;33m,\u001b[0m \u001b[0mstacktrace\u001b[0m\u001b[1;33m)\u001b[0m\u001b[1;33m\u001b[0m\u001b[1;33m\u001b[0m\u001b[0m\n\u001b[0m\u001b[0;32m    243\u001b[0m \u001b[1;33m\u001b[0m\u001b[0m\n\u001b[0;32m    244\u001b[0m     \u001b[1;32mdef\u001b[0m \u001b[0m_value_or_default\u001b[0m\u001b[1;33m(\u001b[0m\u001b[0mself\u001b[0m\u001b[1;33m,\u001b[0m \u001b[0mobj\u001b[0m\u001b[1;33m,\u001b[0m \u001b[0mkey\u001b[0m\u001b[1;33m,\u001b[0m \u001b[0mdefault\u001b[0m\u001b[1;33m)\u001b[0m\u001b[1;33m:\u001b[0m\u001b[1;33m\u001b[0m\u001b[1;33m\u001b[0m\u001b[0m\n",
      "\u001b[1;31mNoSuchElementException\u001b[0m: Message: no such element: Unable to locate element: {\"method\":\"xpath\",\"selector\":\"/html/body/div[1]/div[3]/div[2]/div[2]/div[2]/div[2]/div[1]/div/div[2]/div[4]/div[3]/div[3]/ul/li[1]/a[1]\"}\n  (Session info: headless chrome=81.0.4044.122)\n"
     ]
    }
   ],
   "source": [
    "linkElement = browser.find_element_by_xpath(linkListXpath + linkDetailXpath.format(3))\n",
    "linkElement.click()\n",
    "print(browser.current_url)\n",
    "browser.back()\n",
    "print(browser.current_url)"
   ]
  },
  {
   "cell_type": "code",
   "execution_count": 115,
   "metadata": {},
   "outputs": [],
   "source": [
    "browser.implicitly_wait(30)"
   ]
  },
  {
   "cell_type": "code",
   "execution_count": 60,
   "metadata": {},
   "outputs": [
    {
     "name": "stdout",
     "output_type": "stream",
     "text": [
      "https://lib.kookmin.ac.kr/#/search/detail/3096304\n",
      "https://lib.kookmin.ac.kr/#/search/info/si?all=1%7Ck%7Ca%7C%EB%8D%B0%EC%9D%B4%ED%84%B0%20%EB%B6%84%EC%84%9D%20%EC%A0%84%EB%AC%B8%EA%B0%80%20%EA%B0%80%EC%9D%B4%EB%93%9C\n"
     ]
    },
    {
     "ename": "NoSuchElementException",
     "evalue": "Message: no such element: Unable to locate element: {\"method\":\"xpath\",\"selector\":\"/html/body/div[1]/div[3]/div[2]/div[2]/div[2]/div[2]/div[1]/div/div[2]/div[4]/div[2]/div[3]/ul/li[1]/a[1]\"}\n  (Session info: headless chrome=81.0.4044.122)\n",
     "output_type": "error",
     "traceback": [
      "\u001b[1;31m---------------------------------------------------------------------------\u001b[0m",
      "\u001b[1;31mNoSuchElementException\u001b[0m                    Traceback (most recent call last)",
      "\u001b[1;32m<ipython-input-60-8a3d65b23157>\u001b[0m in \u001b[0;36m<module>\u001b[1;34m\u001b[0m\n\u001b[0;32m      8\u001b[0m \u001b[1;31m#         browser.quit()\u001b[0m\u001b[1;33m\u001b[0m\u001b[1;33m\u001b[0m\u001b[1;33m\u001b[0m\u001b[0m\n\u001b[0;32m      9\u001b[0m     \u001b[0mtime\u001b[0m\u001b[1;33m.\u001b[0m\u001b[0msleep\u001b[0m\u001b[1;33m(\u001b[0m\u001b[1;36m4\u001b[0m\u001b[1;33m)\u001b[0m\u001b[1;33m\u001b[0m\u001b[1;33m\u001b[0m\u001b[0m\n\u001b[1;32m---> 10\u001b[1;33m     \u001b[0mlinkElement\u001b[0m \u001b[1;33m=\u001b[0m \u001b[0mbrowser\u001b[0m\u001b[1;33m.\u001b[0m\u001b[0mfind_element_by_xpath\u001b[0m\u001b[1;33m(\u001b[0m\u001b[0mlinkListXpath\u001b[0m \u001b[1;33m+\u001b[0m \u001b[0mlinkDetailXpath\u001b[0m\u001b[1;33m.\u001b[0m\u001b[0mformat\u001b[0m\u001b[1;33m(\u001b[0m\u001b[1;36m2\u001b[0m\u001b[1;33m)\u001b[0m\u001b[1;33m)\u001b[0m\u001b[1;33m\u001b[0m\u001b[1;33m\u001b[0m\u001b[0m\n\u001b[0m\u001b[0;32m     11\u001b[0m     \u001b[0mlinkElement\u001b[0m\u001b[1;33m.\u001b[0m\u001b[0mclick\u001b[0m\u001b[1;33m(\u001b[0m\u001b[1;33m)\u001b[0m\u001b[1;33m\u001b[0m\u001b[1;33m\u001b[0m\u001b[0m\n\u001b[0;32m     12\u001b[0m     \u001b[0mprint\u001b[0m\u001b[1;33m(\u001b[0m\u001b[0mbrowser\u001b[0m\u001b[1;33m.\u001b[0m\u001b[0mcurrent_url\u001b[0m\u001b[1;33m)\u001b[0m\u001b[1;33m\u001b[0m\u001b[1;33m\u001b[0m\u001b[0m\n",
      "\u001b[1;32m~\\anaconda3\\lib\\site-packages\\selenium\\webdriver\\remote\\webdriver.py\u001b[0m in \u001b[0;36mfind_element_by_xpath\u001b[1;34m(self, xpath)\u001b[0m\n\u001b[0;32m    392\u001b[0m             \u001b[0melement\u001b[0m \u001b[1;33m=\u001b[0m \u001b[0mdriver\u001b[0m\u001b[1;33m.\u001b[0m\u001b[0mfind_element_by_xpath\u001b[0m\u001b[1;33m(\u001b[0m\u001b[1;34m'//div/td[1]'\u001b[0m\u001b[1;33m)\u001b[0m\u001b[1;33m\u001b[0m\u001b[1;33m\u001b[0m\u001b[0m\n\u001b[0;32m    393\u001b[0m         \"\"\"\n\u001b[1;32m--> 394\u001b[1;33m         \u001b[1;32mreturn\u001b[0m \u001b[0mself\u001b[0m\u001b[1;33m.\u001b[0m\u001b[0mfind_element\u001b[0m\u001b[1;33m(\u001b[0m\u001b[0mby\u001b[0m\u001b[1;33m=\u001b[0m\u001b[0mBy\u001b[0m\u001b[1;33m.\u001b[0m\u001b[0mXPATH\u001b[0m\u001b[1;33m,\u001b[0m \u001b[0mvalue\u001b[0m\u001b[1;33m=\u001b[0m\u001b[0mxpath\u001b[0m\u001b[1;33m)\u001b[0m\u001b[1;33m\u001b[0m\u001b[1;33m\u001b[0m\u001b[0m\n\u001b[0m\u001b[0;32m    395\u001b[0m \u001b[1;33m\u001b[0m\u001b[0m\n\u001b[0;32m    396\u001b[0m     \u001b[1;32mdef\u001b[0m \u001b[0mfind_elements_by_xpath\u001b[0m\u001b[1;33m(\u001b[0m\u001b[0mself\u001b[0m\u001b[1;33m,\u001b[0m \u001b[0mxpath\u001b[0m\u001b[1;33m)\u001b[0m\u001b[1;33m:\u001b[0m\u001b[1;33m\u001b[0m\u001b[1;33m\u001b[0m\u001b[0m\n",
      "\u001b[1;32m~\\anaconda3\\lib\\site-packages\\selenium\\webdriver\\remote\\webdriver.py\u001b[0m in \u001b[0;36mfind_element\u001b[1;34m(self, by, value)\u001b[0m\n\u001b[0;32m    976\u001b[0m         return self.execute(Command.FIND_ELEMENT, {\n\u001b[0;32m    977\u001b[0m             \u001b[1;34m'using'\u001b[0m\u001b[1;33m:\u001b[0m \u001b[0mby\u001b[0m\u001b[1;33m,\u001b[0m\u001b[1;33m\u001b[0m\u001b[1;33m\u001b[0m\u001b[0m\n\u001b[1;32m--> 978\u001b[1;33m             'value': value})['value']\n\u001b[0m\u001b[0;32m    979\u001b[0m \u001b[1;33m\u001b[0m\u001b[0m\n\u001b[0;32m    980\u001b[0m     \u001b[1;32mdef\u001b[0m \u001b[0mfind_elements\u001b[0m\u001b[1;33m(\u001b[0m\u001b[0mself\u001b[0m\u001b[1;33m,\u001b[0m \u001b[0mby\u001b[0m\u001b[1;33m=\u001b[0m\u001b[0mBy\u001b[0m\u001b[1;33m.\u001b[0m\u001b[0mID\u001b[0m\u001b[1;33m,\u001b[0m \u001b[0mvalue\u001b[0m\u001b[1;33m=\u001b[0m\u001b[1;32mNone\u001b[0m\u001b[1;33m)\u001b[0m\u001b[1;33m:\u001b[0m\u001b[1;33m\u001b[0m\u001b[1;33m\u001b[0m\u001b[0m\n",
      "\u001b[1;32m~\\anaconda3\\lib\\site-packages\\selenium\\webdriver\\remote\\webdriver.py\u001b[0m in \u001b[0;36mexecute\u001b[1;34m(self, driver_command, params)\u001b[0m\n\u001b[0;32m    319\u001b[0m         \u001b[0mresponse\u001b[0m \u001b[1;33m=\u001b[0m \u001b[0mself\u001b[0m\u001b[1;33m.\u001b[0m\u001b[0mcommand_executor\u001b[0m\u001b[1;33m.\u001b[0m\u001b[0mexecute\u001b[0m\u001b[1;33m(\u001b[0m\u001b[0mdriver_command\u001b[0m\u001b[1;33m,\u001b[0m \u001b[0mparams\u001b[0m\u001b[1;33m)\u001b[0m\u001b[1;33m\u001b[0m\u001b[1;33m\u001b[0m\u001b[0m\n\u001b[0;32m    320\u001b[0m         \u001b[1;32mif\u001b[0m \u001b[0mresponse\u001b[0m\u001b[1;33m:\u001b[0m\u001b[1;33m\u001b[0m\u001b[1;33m\u001b[0m\u001b[0m\n\u001b[1;32m--> 321\u001b[1;33m             \u001b[0mself\u001b[0m\u001b[1;33m.\u001b[0m\u001b[0merror_handler\u001b[0m\u001b[1;33m.\u001b[0m\u001b[0mcheck_response\u001b[0m\u001b[1;33m(\u001b[0m\u001b[0mresponse\u001b[0m\u001b[1;33m)\u001b[0m\u001b[1;33m\u001b[0m\u001b[1;33m\u001b[0m\u001b[0m\n\u001b[0m\u001b[0;32m    322\u001b[0m             response['value'] = self._unwrap_value(\n\u001b[0;32m    323\u001b[0m                 response.get('value', None))\n",
      "\u001b[1;32m~\\anaconda3\\lib\\site-packages\\selenium\\webdriver\\remote\\errorhandler.py\u001b[0m in \u001b[0;36mcheck_response\u001b[1;34m(self, response)\u001b[0m\n\u001b[0;32m    240\u001b[0m                 \u001b[0malert_text\u001b[0m \u001b[1;33m=\u001b[0m \u001b[0mvalue\u001b[0m\u001b[1;33m[\u001b[0m\u001b[1;34m'alert'\u001b[0m\u001b[1;33m]\u001b[0m\u001b[1;33m.\u001b[0m\u001b[0mget\u001b[0m\u001b[1;33m(\u001b[0m\u001b[1;34m'text'\u001b[0m\u001b[1;33m)\u001b[0m\u001b[1;33m\u001b[0m\u001b[1;33m\u001b[0m\u001b[0m\n\u001b[0;32m    241\u001b[0m             \u001b[1;32mraise\u001b[0m \u001b[0mexception_class\u001b[0m\u001b[1;33m(\u001b[0m\u001b[0mmessage\u001b[0m\u001b[1;33m,\u001b[0m \u001b[0mscreen\u001b[0m\u001b[1;33m,\u001b[0m \u001b[0mstacktrace\u001b[0m\u001b[1;33m,\u001b[0m \u001b[0malert_text\u001b[0m\u001b[1;33m)\u001b[0m\u001b[1;33m\u001b[0m\u001b[1;33m\u001b[0m\u001b[0m\n\u001b[1;32m--> 242\u001b[1;33m         \u001b[1;32mraise\u001b[0m \u001b[0mexception_class\u001b[0m\u001b[1;33m(\u001b[0m\u001b[0mmessage\u001b[0m\u001b[1;33m,\u001b[0m \u001b[0mscreen\u001b[0m\u001b[1;33m,\u001b[0m \u001b[0mstacktrace\u001b[0m\u001b[1;33m)\u001b[0m\u001b[1;33m\u001b[0m\u001b[1;33m\u001b[0m\u001b[0m\n\u001b[0m\u001b[0;32m    243\u001b[0m \u001b[1;33m\u001b[0m\u001b[0m\n\u001b[0;32m    244\u001b[0m     \u001b[1;32mdef\u001b[0m \u001b[0m_value_or_default\u001b[0m\u001b[1;33m(\u001b[0m\u001b[0mself\u001b[0m\u001b[1;33m,\u001b[0m \u001b[0mobj\u001b[0m\u001b[1;33m,\u001b[0m \u001b[0mkey\u001b[0m\u001b[1;33m,\u001b[0m \u001b[0mdefault\u001b[0m\u001b[1;33m)\u001b[0m\u001b[1;33m:\u001b[0m\u001b[1;33m\u001b[0m\u001b[1;33m\u001b[0m\u001b[0m\n",
      "\u001b[1;31mNoSuchElementException\u001b[0m: Message: no such element: Unable to locate element: {\"method\":\"xpath\",\"selector\":\"/html/body/div[1]/div[3]/div[2]/div[2]/div[2]/div[2]/div[1]/div/div[2]/div[4]/div[2]/div[3]/ul/li[1]/a[1]\"}\n  (Session info: headless chrome=81.0.4044.122)\n"
     ]
    }
   ],
   "source": [
    "for i in range(4):\n",
    "#     print(browser.current_url)\n",
    "#     try:\n",
    "#         linkElement = WebDriverWait(browser, 10).until(\n",
    "#             EC.presence_of_element_located((By.XPATH, linkListXpath + linkDetailXpath.format(i+1)))\n",
    "#         )\n",
    "#     finally:\n",
    "#         browser.quit()\n",
    "    time.sleep(4)\n",
    "    linkElement = browser.find_element_by_xpath(linkListXpath + linkDetailXpath.format(2))\n",
    "    linkElement.click()\n",
    "    print(browser.current_url)\n",
    "    browser.back()\n",
    "    print(browser.current_url)"
   ]
  },
  {
   "cell_type": "code",
   "execution_count": 6,
   "metadata": {
    "scrolled": true
   },
   "outputs": [
    {
     "data": {
      "text/plain": [
       "4"
      ]
     },
     "execution_count": 6,
     "metadata": {},
     "output_type": "execute_result"
    }
   ],
   "source": [
    "len(result1)"
   ]
  },
  {
   "cell_type": "code",
   "execution_count": null,
   "metadata": {},
   "outputs": [],
   "source": [
    "for i in "
   ]
  },
  {
   "cell_type": "code",
   "execution_count": null,
   "metadata": {},
   "outputs": [],
   "source": [
    "copy.deepcopy(result1)"
   ]
  },
  {
   "cell_type": "code",
   "execution_count": 26,
   "metadata": {},
   "outputs": [
    {
     "ename": "TypeError",
     "evalue": "'dict' object is not callable",
     "output_type": "error",
     "traceback": [
      "\u001b[1;31m---------------------------------------------------------------------------\u001b[0m",
      "\u001b[1;31mTypeError\u001b[0m                                 Traceback (most recent call last)",
      "\u001b[1;32m<ipython-input-26-24140b914628>\u001b[0m in \u001b[0;36m<module>\u001b[1;34m\u001b[0m\n\u001b[1;32m----> 1\u001b[1;33m \u001b[0mresult1\u001b[0m\u001b[1;33m[\u001b[0m\u001b[1;36m0\u001b[0m\u001b[1;33m]\u001b[0m\u001b[1;33m.\u001b[0m\u001b[0mlocation\u001b[0m\u001b[1;33m(\u001b[0m\u001b[1;33m)\u001b[0m\u001b[1;33m\u001b[0m\u001b[1;33m\u001b[0m\u001b[0m\n\u001b[0m",
      "\u001b[1;31mTypeError\u001b[0m: 'dict' object is not callable"
     ]
    }
   ],
   "source": [
    "result1[0].get"
   ]
  },
  {
   "cell_type": "code",
   "execution_count": 16,
   "metadata": {},
   "outputs": [],
   "source": [
    "result2=result1[0].find_element_by_xpath('div[3]/ul/li[1]/a[1]')"
   ]
  },
  {
   "cell_type": "code",
   "execution_count": 17,
   "metadata": {},
   "outputs": [
    {
     "data": {
      "text/plain": [
       "<selenium.webdriver.remote.webelement.WebElement (session=\"bd63dd2452208d622b6686fcacd9a4f1\", element=\"550174c6-c5fc-409d-9492-2cab1075b504\")>"
      ]
     },
     "execution_count": 17,
     "metadata": {},
     "output_type": "execute_result"
    }
   ],
   "source": [
    "result2"
   ]
  },
  {
   "cell_type": "code",
   "execution_count": 18,
   "metadata": {},
   "outputs": [
    {
     "data": {
      "text/plain": [
       "'데이터 분석 전문가 가이드'"
      ]
     },
     "execution_count": 18,
     "metadata": {},
     "output_type": "execute_result"
    }
   ],
   "source": [
    "result2.text"
   ]
  },
  {
   "cell_type": "code",
   "execution_count": 19,
   "metadata": {},
   "outputs": [
    {
     "data": {
      "text/plain": [
       "'https://lib.kookmin.ac.kr/#/search/detail/3259950'"
      ]
     },
     "execution_count": 19,
     "metadata": {},
     "output_type": "execute_result"
    }
   ],
   "source": [
    "result2.get_attribute('href')"
   ]
  },
  {
   "cell_type": "code",
   "execution_count": 14,
   "metadata": {},
   "outputs": [],
   "source": [
    "result2.click()"
   ]
  },
  {
   "cell_type": "code",
   "execution_count": 15,
   "metadata": {},
   "outputs": [
    {
     "data": {
      "text/plain": [
       "'https://lib.kookmin.ac.kr/#/search/detail/3259950'"
      ]
     },
     "execution_count": 15,
     "metadata": {},
     "output_type": "execute_result"
    }
   ],
   "source": [
    "browser.current_url"
   ]
  },
  {
   "cell_type": "code",
   "execution_count": 16,
   "metadata": {},
   "outputs": [],
   "source": [
    "browser.back()"
   ]
  },
  {
   "cell_type": "code",
   "execution_count": 17,
   "metadata": {},
   "outputs": [
    {
     "data": {
      "text/plain": [
       "'https://lib.kookmin.ac.kr/#/search/info/si?all=1%7Ck%7Ca%7C%EB%8D%B0%EC%9D%B4%ED%84%B0%20%EB%B6%84%EC%84%9D%20%EC%A0%84%EB%AC%B8%EA%B0%80%20%EA%B0%80%EC%9D%B4%EB%93%9C'"
      ]
     },
     "execution_count": 17,
     "metadata": {},
     "output_type": "execute_result"
    }
   ],
   "source": [
    "browser.current_url"
   ]
  },
  {
   "cell_type": "code",
   "execution_count": 19,
   "metadata": {},
   "outputs": [
    {
     "ename": "StaleElementReferenceException",
     "evalue": "Message: stale element reference: element is not attached to the page document\n  (Session info: headless chrome=81.0.4044.122)\n",
     "output_type": "error",
     "traceback": [
      "\u001b[1;31m---------------------------------------------------------------------------\u001b[0m",
      "\u001b[1;31mStaleElementReferenceException\u001b[0m            Traceback (most recent call last)",
      "\u001b[1;32m<ipython-input-19-50b25510edd0>\u001b[0m in \u001b[0;36m<module>\u001b[1;34m\u001b[0m\n\u001b[1;32m----> 1\u001b[1;33m \u001b[0mresult3\u001b[0m \u001b[1;33m=\u001b[0m \u001b[0mresult1\u001b[0m\u001b[1;33m[\u001b[0m\u001b[1;36m1\u001b[0m\u001b[1;33m]\u001b[0m\u001b[1;33m.\u001b[0m\u001b[0mfind_element_by_xpath\u001b[0m\u001b[1;33m(\u001b[0m\u001b[1;34m'div[3]/ul/li[1]/a[1]'\u001b[0m\u001b[1;33m)\u001b[0m\u001b[1;33m\u001b[0m\u001b[1;33m\u001b[0m\u001b[0m\n\u001b[0m",
      "\u001b[1;32m~\\anaconda3\\lib\\site-packages\\selenium\\webdriver\\remote\\webelement.py\u001b[0m in \u001b[0;36mfind_element_by_xpath\u001b[1;34m(self, xpath)\u001b[0m\n\u001b[0;32m    349\u001b[0m             \u001b[0melement\u001b[0m \u001b[1;33m=\u001b[0m \u001b[0melement\u001b[0m\u001b[1;33m.\u001b[0m\u001b[0mfind_element_by_xpath\u001b[0m\u001b[1;33m(\u001b[0m\u001b[1;34m'//div/td[1]'\u001b[0m\u001b[1;33m)\u001b[0m\u001b[1;33m\u001b[0m\u001b[1;33m\u001b[0m\u001b[0m\n\u001b[0;32m    350\u001b[0m         \"\"\"\n\u001b[1;32m--> 351\u001b[1;33m         \u001b[1;32mreturn\u001b[0m \u001b[0mself\u001b[0m\u001b[1;33m.\u001b[0m\u001b[0mfind_element\u001b[0m\u001b[1;33m(\u001b[0m\u001b[0mby\u001b[0m\u001b[1;33m=\u001b[0m\u001b[0mBy\u001b[0m\u001b[1;33m.\u001b[0m\u001b[0mXPATH\u001b[0m\u001b[1;33m,\u001b[0m \u001b[0mvalue\u001b[0m\u001b[1;33m=\u001b[0m\u001b[0mxpath\u001b[0m\u001b[1;33m)\u001b[0m\u001b[1;33m\u001b[0m\u001b[1;33m\u001b[0m\u001b[0m\n\u001b[0m\u001b[0;32m    352\u001b[0m \u001b[1;33m\u001b[0m\u001b[0m\n\u001b[0;32m    353\u001b[0m     \u001b[1;32mdef\u001b[0m \u001b[0mfind_elements_by_xpath\u001b[0m\u001b[1;33m(\u001b[0m\u001b[0mself\u001b[0m\u001b[1;33m,\u001b[0m \u001b[0mxpath\u001b[0m\u001b[1;33m)\u001b[0m\u001b[1;33m:\u001b[0m\u001b[1;33m\u001b[0m\u001b[1;33m\u001b[0m\u001b[0m\n",
      "\u001b[1;32m~\\anaconda3\\lib\\site-packages\\selenium\\webdriver\\remote\\webelement.py\u001b[0m in \u001b[0;36mfind_element\u001b[1;34m(self, by, value)\u001b[0m\n\u001b[0;32m    657\u001b[0m \u001b[1;33m\u001b[0m\u001b[0m\n\u001b[0;32m    658\u001b[0m         return self._execute(Command.FIND_CHILD_ELEMENT,\n\u001b[1;32m--> 659\u001b[1;33m                              {\"using\": by, \"value\": value})['value']\n\u001b[0m\u001b[0;32m    660\u001b[0m \u001b[1;33m\u001b[0m\u001b[0m\n\u001b[0;32m    661\u001b[0m     \u001b[1;32mdef\u001b[0m \u001b[0mfind_elements\u001b[0m\u001b[1;33m(\u001b[0m\u001b[0mself\u001b[0m\u001b[1;33m,\u001b[0m \u001b[0mby\u001b[0m\u001b[1;33m=\u001b[0m\u001b[0mBy\u001b[0m\u001b[1;33m.\u001b[0m\u001b[0mID\u001b[0m\u001b[1;33m,\u001b[0m \u001b[0mvalue\u001b[0m\u001b[1;33m=\u001b[0m\u001b[1;32mNone\u001b[0m\u001b[1;33m)\u001b[0m\u001b[1;33m:\u001b[0m\u001b[1;33m\u001b[0m\u001b[1;33m\u001b[0m\u001b[0m\n",
      "\u001b[1;32m~\\anaconda3\\lib\\site-packages\\selenium\\webdriver\\remote\\webelement.py\u001b[0m in \u001b[0;36m_execute\u001b[1;34m(self, command, params)\u001b[0m\n\u001b[0;32m    631\u001b[0m             \u001b[0mparams\u001b[0m \u001b[1;33m=\u001b[0m \u001b[1;33m{\u001b[0m\u001b[1;33m}\u001b[0m\u001b[1;33m\u001b[0m\u001b[1;33m\u001b[0m\u001b[0m\n\u001b[0;32m    632\u001b[0m         \u001b[0mparams\u001b[0m\u001b[1;33m[\u001b[0m\u001b[1;34m'id'\u001b[0m\u001b[1;33m]\u001b[0m \u001b[1;33m=\u001b[0m \u001b[0mself\u001b[0m\u001b[1;33m.\u001b[0m\u001b[0m_id\u001b[0m\u001b[1;33m\u001b[0m\u001b[1;33m\u001b[0m\u001b[0m\n\u001b[1;32m--> 633\u001b[1;33m         \u001b[1;32mreturn\u001b[0m \u001b[0mself\u001b[0m\u001b[1;33m.\u001b[0m\u001b[0m_parent\u001b[0m\u001b[1;33m.\u001b[0m\u001b[0mexecute\u001b[0m\u001b[1;33m(\u001b[0m\u001b[0mcommand\u001b[0m\u001b[1;33m,\u001b[0m \u001b[0mparams\u001b[0m\u001b[1;33m)\u001b[0m\u001b[1;33m\u001b[0m\u001b[1;33m\u001b[0m\u001b[0m\n\u001b[0m\u001b[0;32m    634\u001b[0m \u001b[1;33m\u001b[0m\u001b[0m\n\u001b[0;32m    635\u001b[0m     \u001b[1;32mdef\u001b[0m \u001b[0mfind_element\u001b[0m\u001b[1;33m(\u001b[0m\u001b[0mself\u001b[0m\u001b[1;33m,\u001b[0m \u001b[0mby\u001b[0m\u001b[1;33m=\u001b[0m\u001b[0mBy\u001b[0m\u001b[1;33m.\u001b[0m\u001b[0mID\u001b[0m\u001b[1;33m,\u001b[0m \u001b[0mvalue\u001b[0m\u001b[1;33m=\u001b[0m\u001b[1;32mNone\u001b[0m\u001b[1;33m)\u001b[0m\u001b[1;33m:\u001b[0m\u001b[1;33m\u001b[0m\u001b[1;33m\u001b[0m\u001b[0m\n",
      "\u001b[1;32m~\\anaconda3\\lib\\site-packages\\selenium\\webdriver\\remote\\webdriver.py\u001b[0m in \u001b[0;36mexecute\u001b[1;34m(self, driver_command, params)\u001b[0m\n\u001b[0;32m    319\u001b[0m         \u001b[0mresponse\u001b[0m \u001b[1;33m=\u001b[0m \u001b[0mself\u001b[0m\u001b[1;33m.\u001b[0m\u001b[0mcommand_executor\u001b[0m\u001b[1;33m.\u001b[0m\u001b[0mexecute\u001b[0m\u001b[1;33m(\u001b[0m\u001b[0mdriver_command\u001b[0m\u001b[1;33m,\u001b[0m \u001b[0mparams\u001b[0m\u001b[1;33m)\u001b[0m\u001b[1;33m\u001b[0m\u001b[1;33m\u001b[0m\u001b[0m\n\u001b[0;32m    320\u001b[0m         \u001b[1;32mif\u001b[0m \u001b[0mresponse\u001b[0m\u001b[1;33m:\u001b[0m\u001b[1;33m\u001b[0m\u001b[1;33m\u001b[0m\u001b[0m\n\u001b[1;32m--> 321\u001b[1;33m             \u001b[0mself\u001b[0m\u001b[1;33m.\u001b[0m\u001b[0merror_handler\u001b[0m\u001b[1;33m.\u001b[0m\u001b[0mcheck_response\u001b[0m\u001b[1;33m(\u001b[0m\u001b[0mresponse\u001b[0m\u001b[1;33m)\u001b[0m\u001b[1;33m\u001b[0m\u001b[1;33m\u001b[0m\u001b[0m\n\u001b[0m\u001b[0;32m    322\u001b[0m             response['value'] = self._unwrap_value(\n\u001b[0;32m    323\u001b[0m                 response.get('value', None))\n",
      "\u001b[1;32m~\\anaconda3\\lib\\site-packages\\selenium\\webdriver\\remote\\errorhandler.py\u001b[0m in \u001b[0;36mcheck_response\u001b[1;34m(self, response)\u001b[0m\n\u001b[0;32m    240\u001b[0m                 \u001b[0malert_text\u001b[0m \u001b[1;33m=\u001b[0m \u001b[0mvalue\u001b[0m\u001b[1;33m[\u001b[0m\u001b[1;34m'alert'\u001b[0m\u001b[1;33m]\u001b[0m\u001b[1;33m.\u001b[0m\u001b[0mget\u001b[0m\u001b[1;33m(\u001b[0m\u001b[1;34m'text'\u001b[0m\u001b[1;33m)\u001b[0m\u001b[1;33m\u001b[0m\u001b[1;33m\u001b[0m\u001b[0m\n\u001b[0;32m    241\u001b[0m             \u001b[1;32mraise\u001b[0m \u001b[0mexception_class\u001b[0m\u001b[1;33m(\u001b[0m\u001b[0mmessage\u001b[0m\u001b[1;33m,\u001b[0m \u001b[0mscreen\u001b[0m\u001b[1;33m,\u001b[0m \u001b[0mstacktrace\u001b[0m\u001b[1;33m,\u001b[0m \u001b[0malert_text\u001b[0m\u001b[1;33m)\u001b[0m\u001b[1;33m\u001b[0m\u001b[1;33m\u001b[0m\u001b[0m\n\u001b[1;32m--> 242\u001b[1;33m         \u001b[1;32mraise\u001b[0m \u001b[0mexception_class\u001b[0m\u001b[1;33m(\u001b[0m\u001b[0mmessage\u001b[0m\u001b[1;33m,\u001b[0m \u001b[0mscreen\u001b[0m\u001b[1;33m,\u001b[0m \u001b[0mstacktrace\u001b[0m\u001b[1;33m)\u001b[0m\u001b[1;33m\u001b[0m\u001b[1;33m\u001b[0m\u001b[0m\n\u001b[0m\u001b[0;32m    243\u001b[0m \u001b[1;33m\u001b[0m\u001b[0m\n\u001b[0;32m    244\u001b[0m     \u001b[1;32mdef\u001b[0m \u001b[0m_value_or_default\u001b[0m\u001b[1;33m(\u001b[0m\u001b[0mself\u001b[0m\u001b[1;33m,\u001b[0m \u001b[0mobj\u001b[0m\u001b[1;33m,\u001b[0m \u001b[0mkey\u001b[0m\u001b[1;33m,\u001b[0m \u001b[0mdefault\u001b[0m\u001b[1;33m)\u001b[0m\u001b[1;33m:\u001b[0m\u001b[1;33m\u001b[0m\u001b[1;33m\u001b[0m\u001b[0m\n",
      "\u001b[1;31mStaleElementReferenceException\u001b[0m: Message: stale element reference: element is not attached to the page document\n  (Session info: headless chrome=81.0.4044.122)\n"
     ]
    }
   ],
   "source": [
    "result3 = result1[1].find_element_by_xpath('div[3]/ul/li[1]/a[1]')"
   ]
  },
  {
   "cell_type": "code",
   "execution_count": 21,
   "metadata": {},
   "outputs": [
    {
     "name": "stdout",
     "output_type": "stream",
     "text": [
      "asdf1\n"
     ]
    }
   ],
   "source": [
    "print('asdf{}'.format(1))"
   ]
  },
  {
   "cell_type": "code",
   "execution_count": 24,
   "metadata": {},
   "outputs": [],
   "source": [
    "\n",
    "li =[i for i in range(12)]\n",
    "\n",
    "for i in range(12):\n",
    "    #print('asdf{}'.format(i))\n",
    "    li[i] = 'asdf{}'.format(i)"
   ]
  },
  {
   "cell_type": "code",
   "execution_count": 26,
   "metadata": {},
   "outputs": [
    {
     "data": {
      "text/plain": [
       "['asdf0',\n",
       " 'asdf1',\n",
       " 'asdf2',\n",
       " 'asdf3',\n",
       " 'asdf4',\n",
       " 'asdf5',\n",
       " 'asdf6',\n",
       " 'asdf7',\n",
       " 'asdf8',\n",
       " 'asdf9',\n",
       " 'asdf10',\n",
       " 'asdf11']"
      ]
     },
     "execution_count": 26,
     "metadata": {},
     "output_type": "execute_result"
    }
   ],
   "source": [
    "li"
   ]
  },
  {
   "cell_type": "code",
   "execution_count": 27,
   "metadata": {},
   "outputs": [],
   "source": [
    "hi = 'asdf{}'"
   ]
  },
  {
   "cell_type": "code",
   "execution_count": 28,
   "metadata": {},
   "outputs": [
    {
     "data": {
      "text/plain": [
       "'asdf{}'"
      ]
     },
     "execution_count": 28,
     "metadata": {},
     "output_type": "execute_result"
    }
   ],
   "source": [
    "hi"
   ]
  },
  {
   "cell_type": "code",
   "execution_count": 29,
   "metadata": {},
   "outputs": [
    {
     "data": {
      "text/plain": [
       "'asdf2'"
      ]
     },
     "execution_count": 29,
     "metadata": {},
     "output_type": "execute_result"
    }
   ],
   "source": [
    "hi.format(2)"
   ]
  },
  {
   "cell_type": "code",
   "execution_count": null,
   "metadata": {},
   "outputs": [],
   "source": []
  }
 ],
 "metadata": {
  "kernelspec": {
   "display_name": "Python 3",
   "language": "python",
   "name": "python3"
  },
  "language_info": {
   "codemirror_mode": {
    "name": "ipython",
    "version": 3
   },
   "file_extension": ".py",
   "mimetype": "text/x-python",
   "name": "python",
   "nbconvert_exporter": "python",
   "pygments_lexer": "ipython3",
   "version": "3.7.6"
  }
 },
 "nbformat": 4,
 "nbformat_minor": 4
}
