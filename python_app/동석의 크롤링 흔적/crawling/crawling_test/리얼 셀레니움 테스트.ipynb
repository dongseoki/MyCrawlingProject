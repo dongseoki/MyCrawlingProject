{
 "cells": [
  {
   "cell_type": "code",
   "execution_count": null,
   "metadata": {},
   "outputs": [],
   "source": [
    "https://library.daejin.ac.kr/data_search_list.mir?main_search_search_keyword=%EC%9E%90%EC%A1%B4%EA%B0%90+%EC%88%98%EC%97%85&main_search_search_keyword_type1=text&ebscohostsearchtexttemp=&facet_limit_search_field_code=&search_new=Y&search_keyword1=%EC%9E%90%EC%A1%B4%EA%B0%90+%EC%88%98%EC%97%85&search_keyword_type1=text&meta_category="
   ]
  },
  {
   "cell_type": "code",
   "execution_count": 12,
   "metadata": {},
   "outputs": [],
   "source": [
    "import time\n",
    "from selenium import webdriver\n",
    "from selenium.webdriver.chrome.options import Options\n",
    "from selenium.webdriver.support.wait import WebDriverWait\n",
    "from bs4 import BeautifulSoup\n",
    "options = Options()\n",
    "options.headless = True\n",
    "browser = webdriver.Chrome(executable_path=\"./chromedriver.exe\", options=options)"
   ]
  },
  {
   "cell_type": "code",
   "execution_count": 43,
   "metadata": {},
   "outputs": [],
   "source": [
    "import copy as cp"
   ]
  },
  {
   "cell_type": "code",
   "execution_count": 44,
   "metadata": {},
   "outputs": [],
   "source": [
    "asdf = cp.copy(browser)"
   ]
  },
  {
   "cell_type": "code",
   "execution_count": 46,
   "metadata": {},
   "outputs": [
    {
     "data": {
      "text/plain": [
       "2816251069064"
      ]
     },
     "execution_count": 46,
     "metadata": {},
     "output_type": "execute_result"
    }
   ],
   "source": [
    "id(browser)"
   ]
  },
  {
   "cell_type": "code",
   "execution_count": 47,
   "metadata": {},
   "outputs": [
    {
     "data": {
      "text/plain": [
       "2816239683016"
      ]
     },
     "execution_count": 47,
     "metadata": {},
     "output_type": "execute_result"
    }
   ],
   "source": [
    "id(asdf)"
   ]
  },
  {
   "cell_type": "code",
   "execution_count": 48,
   "metadata": {},
   "outputs": [
    {
     "data": {
      "text/plain": [
       "2816251069064"
      ]
     },
     "execution_count": 48,
     "metadata": {},
     "output_type": "execute_result"
    }
   ],
   "source": [
    "qwer = browser\n",
    "id(qwer)"
   ]
  },
  {
   "cell_type": "code",
   "execution_count": 49,
   "metadata": {},
   "outputs": [],
   "source": [
    "b2 = webdriver.Chrome(executable_path=\"./chromedriver.exe\")"
   ]
  },
  {
   "cell_type": "code",
   "execution_count": 50,
   "metadata": {},
   "outputs": [],
   "source": [
    "b2.get(\"https://library.daejin.ac.kr/data_search_list.mir?main_search_search_keyword=%EC%9E%90%EC%A1%B4%EA%B0%90+%EC%88%98%EC%97%85&main_search_search_keyword_type1=text&ebscohostsearchtexttemp=&facet_limit_search_field_code=&search_new=Y&search_keyword1=%EC%9E%90%EC%A1%B4%EA%B0%90+%EC%88%98%EC%97%85&search_keyword_type1=text&meta_category=\")"
   ]
  },
  {
   "cell_type": "code",
   "execution_count": 51,
   "metadata": {},
   "outputs": [],
   "source": [
    "t = b2.find_element_by_xpath('//*[@id=\"content_data\"]/form/div[2]/table/tbody/tr[1]/td[2]/a')"
   ]
  },
  {
   "cell_type": "code",
   "execution_count": 52,
   "metadata": {},
   "outputs": [],
   "source": [
    "t.click()"
   ]
  },
  {
   "cell_type": "code",
   "execution_count": 38,
   "metadata": {},
   "outputs": [
    {
     "data": {
      "text/plain": [
       "'data:,'"
      ]
     },
     "execution_count": 38,
     "metadata": {},
     "output_type": "execute_result"
    }
   ],
   "source": [
    "len"
   ]
  },
  {
   "cell_type": "code",
   "execution_count": 29,
   "metadata": {},
   "outputs": [],
   "source": [
    "browser.get(\"https://library.daejin.ac.kr/data_search_list.mir?main_search_search_keyword=%EC%9E%90%EC%A1%B4%EA%B0%90+%EC%88%98%EC%97%85&main_search_search_keyword_type1=text&ebscohostsearchtexttemp=&facet_limit_search_field_code=&search_new=Y&search_keyword1=%EC%9E%90%EC%A1%B4%EA%B0%90+%EC%88%98%EC%97%85&search_keyword_type1=text&meta_category=\")"
   ]
  },
  {
   "cell_type": "code",
   "execution_count": 40,
   "metadata": {},
   "outputs": [
    {
     "ename": "TypeError",
     "evalue": "object of type 'WebDriver' has no len()",
     "output_type": "error",
     "traceback": [
      "\u001b[1;31m---------------------------------------------------------------------------\u001b[0m",
      "\u001b[1;31mTypeError\u001b[0m                                 Traceback (most recent call last)",
      "\u001b[1;32m<ipython-input-40-a46c497969db>\u001b[0m in \u001b[0;36m<module>\u001b[1;34m\u001b[0m\n\u001b[1;32m----> 1\u001b[1;33m \u001b[0mlen\u001b[0m\u001b[1;33m(\u001b[0m\u001b[0mbrowser\u001b[0m\u001b[1;33m)\u001b[0m\u001b[1;33m\u001b[0m\u001b[1;33m\u001b[0m\u001b[0m\n\u001b[0m",
      "\u001b[1;31mTypeError\u001b[0m: object of type 'WebDriver' has no len()"
     ]
    }
   ],
   "source": [
    "len(browser)"
   ]
  },
  {
   "cell_type": "code",
   "execution_count": 30,
   "metadata": {},
   "outputs": [],
   "source": [
    "t = browser.find_element_by_xpath('//*[@id=\"content_data\"]/form/div[2]/table/tbody/tr[1]/td[2]/a')"
   ]
  },
  {
   "cell_type": "code",
   "execution_count": null,
   "metadata": {},
   "outputs": [],
   "source": [
    "browser.find_elements_by_xpath"
   ]
  },
  {
   "cell_type": "code",
   "execution_count": 34,
   "metadata": {
    "scrolled": true
   },
   "outputs": [
    {
     "data": {
      "text/plain": [
       "'https://library.daejin.ac.kr/data_search_list.mir?main_search_search_keyword=%EC%9E%90%EC%A1%B4%EA%B0%90+%EC%88%98%EC%97%85&main_search_search_keyword_type1=text&ebscohostsearchtexttemp=&facet_limit_search_field_code=&search_new=Y&search_keyword1=%EC%9E%90%EC%A1%B4%EA%B0%90+%EC%88%98%EC%97%85&search_keyword_type1=text&meta_category='"
      ]
     },
     "execution_count": 34,
     "metadata": {},
     "output_type": "execute_result"
    }
   ],
   "source": [
    "browser.current_url"
   ]
  },
  {
   "cell_type": "code",
   "execution_count": 36,
   "metadata": {},
   "outputs": [
    {
     "data": {
      "text/plain": [
       "'https://library.daejin.ac.kr/data_view.mir?ebscohostsearchtexttemp=%EC%9E%90%EC%A1%B4%EA%B0%90+%EC%88%98%EC%97%85&search_keyword1=%EC%9E%90%EC%A1%B4%EA%B0%90+%EC%88%98%EC%97%85&search_keyword2=&search_keyword3=&search_keyword_type1=text&search_keyword_type2=&search_keyword_type3=&srch_condi_01=&srch_condi_02=&page_num=1&scope_code=&mtype_code=&search_re_yn=&search_keyword_re=&search_keyword_type_re=&search_keyword_type1_re_add=&search_keyword1_re_add=&facet_limit_search_field_code=&facet_limit_search_start_pub_year=&facet_limit_search_end_pub_year=&rno=384298&hloc_code=DJUL&all_hloc_code='"
      ]
     },
     "execution_count": 36,
     "metadata": {},
     "output_type": "execute_result"
    }
   ],
   "source": [
    "browser.current_url"
   ]
  },
  {
   "cell_type": "code",
   "execution_count": 33,
   "metadata": {},
   "outputs": [
    {
     "data": {
      "text/plain": [
       "'https://library.daejin.ac.kr/data_search_list.mir?main_search_search_keyword=%EC%9E%90%EC%A1%B4%EA%B0%90+%EC%88%98%EC%97%85&main_search_search_keyword_type1=text&ebscohostsearchtexttemp=&facet_limit_search_field_code=&search_new=Y&search_keyword1=%EC%9E%90%EC%A1%B4%EA%B0%90+%EC%88%98%EC%97%85&search_keyword_type1=text&meta_category=#link'"
      ]
     },
     "execution_count": 33,
     "metadata": {},
     "output_type": "execute_result"
    }
   ],
   "source": [
    "t.get_property('href')"
   ]
  },
  {
   "cell_type": "code",
   "execution_count": 23,
   "metadata": {},
   "outputs": [
    {
     "data": {
      "text/plain": [
       "selenium.webdriver.chrome.webdriver.WebDriver"
      ]
     },
     "execution_count": 23,
     "metadata": {},
     "output_type": "execute_result"
    }
   ],
   "source": [
    "type(browser)"
   ]
  },
  {
   "cell_type": "code",
   "execution_count": 15,
   "metadata": {
    "scrolled": false
   },
   "outputs": [
    {
     "data": {
      "text/plain": [
       "selenium.webdriver.remote.webelement.WebElement"
      ]
     },
     "execution_count": 15,
     "metadata": {},
     "output_type": "execute_result"
    }
   ],
   "source": [
    "type(t)"
   ]
  },
  {
   "cell_type": "code",
   "execution_count": 27,
   "metadata": {},
   "outputs": [
    {
     "ename": "StaleElementReferenceException",
     "evalue": "Message: stale element reference: element is not attached to the page document\n  (Session info: headless chrome=80.0.3987.163)\n",
     "output_type": "error",
     "traceback": [
      "\u001b[1;31m---------------------------------------------------------------------------\u001b[0m",
      "\u001b[1;31mStaleElementReferenceException\u001b[0m            Traceback (most recent call last)",
      "\u001b[1;32m<ipython-input-27-33f3384b6374>\u001b[0m in \u001b[0;36m<module>\u001b[1;34m\u001b[0m\n\u001b[1;32m----> 1\u001b[1;33m \u001b[0mres9\u001b[0m \u001b[1;33m=\u001b[0m\u001b[0mt\u001b[0m\u001b[1;33m.\u001b[0m\u001b[0mget_attribute\u001b[0m\u001b[1;33m(\u001b[0m\u001b[1;34m'href'\u001b[0m\u001b[1;33m)\u001b[0m\u001b[1;33m\u001b[0m\u001b[1;33m\u001b[0m\u001b[0m\n\u001b[0m",
      "\u001b[1;32m~\\anaconda3\\lib\\site-packages\\selenium\\webdriver\\remote\\webelement.py\u001b[0m in \u001b[0;36mget_attribute\u001b[1;34m(self, name)\u001b[0m\n\u001b[0;32m    139\u001b[0m             attributeValue = self.parent.execute_script(\n\u001b[0;32m    140\u001b[0m                 \u001b[1;34m\"return (%s).apply(null, arguments);\"\u001b[0m \u001b[1;33m%\u001b[0m \u001b[0mgetAttribute_js\u001b[0m\u001b[1;33m,\u001b[0m\u001b[1;33m\u001b[0m\u001b[1;33m\u001b[0m\u001b[0m\n\u001b[1;32m--> 141\u001b[1;33m                 self, name)\n\u001b[0m\u001b[0;32m    142\u001b[0m         \u001b[1;32melse\u001b[0m\u001b[1;33m:\u001b[0m\u001b[1;33m\u001b[0m\u001b[1;33m\u001b[0m\u001b[0m\n\u001b[0;32m    143\u001b[0m             \u001b[0mresp\u001b[0m \u001b[1;33m=\u001b[0m \u001b[0mself\u001b[0m\u001b[1;33m.\u001b[0m\u001b[0m_execute\u001b[0m\u001b[1;33m(\u001b[0m\u001b[0mCommand\u001b[0m\u001b[1;33m.\u001b[0m\u001b[0mGET_ELEMENT_ATTRIBUTE\u001b[0m\u001b[1;33m,\u001b[0m \u001b[1;33m{\u001b[0m\u001b[1;34m'name'\u001b[0m\u001b[1;33m:\u001b[0m \u001b[0mname\u001b[0m\u001b[1;33m}\u001b[0m\u001b[1;33m)\u001b[0m\u001b[1;33m\u001b[0m\u001b[1;33m\u001b[0m\u001b[0m\n",
      "\u001b[1;32m~\\anaconda3\\lib\\site-packages\\selenium\\webdriver\\remote\\webdriver.py\u001b[0m in \u001b[0;36mexecute_script\u001b[1;34m(self, script, *args)\u001b[0m\n\u001b[0;32m    634\u001b[0m         return self.execute(command, {\n\u001b[0;32m    635\u001b[0m             \u001b[1;34m'script'\u001b[0m\u001b[1;33m:\u001b[0m \u001b[0mscript\u001b[0m\u001b[1;33m,\u001b[0m\u001b[1;33m\u001b[0m\u001b[1;33m\u001b[0m\u001b[0m\n\u001b[1;32m--> 636\u001b[1;33m             'args': converted_args})['value']\n\u001b[0m\u001b[0;32m    637\u001b[0m \u001b[1;33m\u001b[0m\u001b[0m\n\u001b[0;32m    638\u001b[0m     \u001b[1;32mdef\u001b[0m \u001b[0mexecute_async_script\u001b[0m\u001b[1;33m(\u001b[0m\u001b[0mself\u001b[0m\u001b[1;33m,\u001b[0m \u001b[0mscript\u001b[0m\u001b[1;33m,\u001b[0m \u001b[1;33m*\u001b[0m\u001b[0margs\u001b[0m\u001b[1;33m)\u001b[0m\u001b[1;33m:\u001b[0m\u001b[1;33m\u001b[0m\u001b[1;33m\u001b[0m\u001b[0m\n",
      "\u001b[1;32m~\\anaconda3\\lib\\site-packages\\selenium\\webdriver\\remote\\webdriver.py\u001b[0m in \u001b[0;36mexecute\u001b[1;34m(self, driver_command, params)\u001b[0m\n\u001b[0;32m    319\u001b[0m         \u001b[0mresponse\u001b[0m \u001b[1;33m=\u001b[0m \u001b[0mself\u001b[0m\u001b[1;33m.\u001b[0m\u001b[0mcommand_executor\u001b[0m\u001b[1;33m.\u001b[0m\u001b[0mexecute\u001b[0m\u001b[1;33m(\u001b[0m\u001b[0mdriver_command\u001b[0m\u001b[1;33m,\u001b[0m \u001b[0mparams\u001b[0m\u001b[1;33m)\u001b[0m\u001b[1;33m\u001b[0m\u001b[1;33m\u001b[0m\u001b[0m\n\u001b[0;32m    320\u001b[0m         \u001b[1;32mif\u001b[0m \u001b[0mresponse\u001b[0m\u001b[1;33m:\u001b[0m\u001b[1;33m\u001b[0m\u001b[1;33m\u001b[0m\u001b[0m\n\u001b[1;32m--> 321\u001b[1;33m             \u001b[0mself\u001b[0m\u001b[1;33m.\u001b[0m\u001b[0merror_handler\u001b[0m\u001b[1;33m.\u001b[0m\u001b[0mcheck_response\u001b[0m\u001b[1;33m(\u001b[0m\u001b[0mresponse\u001b[0m\u001b[1;33m)\u001b[0m\u001b[1;33m\u001b[0m\u001b[1;33m\u001b[0m\u001b[0m\n\u001b[0m\u001b[0;32m    322\u001b[0m             response['value'] = self._unwrap_value(\n\u001b[0;32m    323\u001b[0m                 response.get('value', None))\n",
      "\u001b[1;32m~\\anaconda3\\lib\\site-packages\\selenium\\webdriver\\remote\\errorhandler.py\u001b[0m in \u001b[0;36mcheck_response\u001b[1;34m(self, response)\u001b[0m\n\u001b[0;32m    240\u001b[0m                 \u001b[0malert_text\u001b[0m \u001b[1;33m=\u001b[0m \u001b[0mvalue\u001b[0m\u001b[1;33m[\u001b[0m\u001b[1;34m'alert'\u001b[0m\u001b[1;33m]\u001b[0m\u001b[1;33m.\u001b[0m\u001b[0mget\u001b[0m\u001b[1;33m(\u001b[0m\u001b[1;34m'text'\u001b[0m\u001b[1;33m)\u001b[0m\u001b[1;33m\u001b[0m\u001b[1;33m\u001b[0m\u001b[0m\n\u001b[0;32m    241\u001b[0m             \u001b[1;32mraise\u001b[0m \u001b[0mexception_class\u001b[0m\u001b[1;33m(\u001b[0m\u001b[0mmessage\u001b[0m\u001b[1;33m,\u001b[0m \u001b[0mscreen\u001b[0m\u001b[1;33m,\u001b[0m \u001b[0mstacktrace\u001b[0m\u001b[1;33m,\u001b[0m \u001b[0malert_text\u001b[0m\u001b[1;33m)\u001b[0m\u001b[1;33m\u001b[0m\u001b[1;33m\u001b[0m\u001b[0m\n\u001b[1;32m--> 242\u001b[1;33m         \u001b[1;32mraise\u001b[0m \u001b[0mexception_class\u001b[0m\u001b[1;33m(\u001b[0m\u001b[0mmessage\u001b[0m\u001b[1;33m,\u001b[0m \u001b[0mscreen\u001b[0m\u001b[1;33m,\u001b[0m \u001b[0mstacktrace\u001b[0m\u001b[1;33m)\u001b[0m\u001b[1;33m\u001b[0m\u001b[1;33m\u001b[0m\u001b[0m\n\u001b[0m\u001b[0;32m    243\u001b[0m \u001b[1;33m\u001b[0m\u001b[0m\n\u001b[0;32m    244\u001b[0m     \u001b[1;32mdef\u001b[0m \u001b[0m_value_or_default\u001b[0m\u001b[1;33m(\u001b[0m\u001b[0mself\u001b[0m\u001b[1;33m,\u001b[0m \u001b[0mobj\u001b[0m\u001b[1;33m,\u001b[0m \u001b[0mkey\u001b[0m\u001b[1;33m,\u001b[0m \u001b[0mdefault\u001b[0m\u001b[1;33m)\u001b[0m\u001b[1;33m:\u001b[0m\u001b[1;33m\u001b[0m\u001b[1;33m\u001b[0m\u001b[0m\n",
      "\u001b[1;31mStaleElementReferenceException\u001b[0m: Message: stale element reference: element is not attached to the page document\n  (Session info: headless chrome=80.0.3987.163)\n"
     ]
    }
   ],
   "source": [
    "res9 =t.get_attribute('href')"
   ]
  },
  {
   "cell_type": "code",
   "execution_count": 35,
   "metadata": {},
   "outputs": [],
   "source": [
    "t.click()"
   ]
  },
  {
   "cell_type": "code",
   "execution_count": 28,
   "metadata": {},
   "outputs": [
    {
     "ename": "StaleElementReferenceException",
     "evalue": "Message: stale element reference: element is not attached to the page document\n  (Session info: headless chrome=80.0.3987.163)\n",
     "output_type": "error",
     "traceback": [
      "\u001b[1;31m---------------------------------------------------------------------------\u001b[0m",
      "\u001b[1;31mStaleElementReferenceException\u001b[0m            Traceback (most recent call last)",
      "\u001b[1;32m<ipython-input-28-6cbd96748fda>\u001b[0m in \u001b[0;36m<module>\u001b[1;34m\u001b[0m\n\u001b[1;32m----> 1\u001b[1;33m \u001b[0mt\u001b[0m\u001b[1;33m.\u001b[0m\u001b[0mtext\u001b[0m\u001b[1;33m\u001b[0m\u001b[1;33m\u001b[0m\u001b[0m\n\u001b[0m",
      "\u001b[1;32m~\\anaconda3\\lib\\site-packages\\selenium\\webdriver\\remote\\webelement.py\u001b[0m in \u001b[0;36mtext\u001b[1;34m(self)\u001b[0m\n\u001b[0;32m     74\u001b[0m     \u001b[1;32mdef\u001b[0m \u001b[0mtext\u001b[0m\u001b[1;33m(\u001b[0m\u001b[0mself\u001b[0m\u001b[1;33m)\u001b[0m\u001b[1;33m:\u001b[0m\u001b[1;33m\u001b[0m\u001b[1;33m\u001b[0m\u001b[0m\n\u001b[0;32m     75\u001b[0m         \u001b[1;34m\"\"\"The text of the element.\"\"\"\u001b[0m\u001b[1;33m\u001b[0m\u001b[1;33m\u001b[0m\u001b[0m\n\u001b[1;32m---> 76\u001b[1;33m         \u001b[1;32mreturn\u001b[0m \u001b[0mself\u001b[0m\u001b[1;33m.\u001b[0m\u001b[0m_execute\u001b[0m\u001b[1;33m(\u001b[0m\u001b[0mCommand\u001b[0m\u001b[1;33m.\u001b[0m\u001b[0mGET_ELEMENT_TEXT\u001b[0m\u001b[1;33m)\u001b[0m\u001b[1;33m[\u001b[0m\u001b[1;34m'value'\u001b[0m\u001b[1;33m]\u001b[0m\u001b[1;33m\u001b[0m\u001b[1;33m\u001b[0m\u001b[0m\n\u001b[0m\u001b[0;32m     77\u001b[0m \u001b[1;33m\u001b[0m\u001b[0m\n\u001b[0;32m     78\u001b[0m     \u001b[1;32mdef\u001b[0m \u001b[0mclick\u001b[0m\u001b[1;33m(\u001b[0m\u001b[0mself\u001b[0m\u001b[1;33m)\u001b[0m\u001b[1;33m:\u001b[0m\u001b[1;33m\u001b[0m\u001b[1;33m\u001b[0m\u001b[0m\n",
      "\u001b[1;32m~\\anaconda3\\lib\\site-packages\\selenium\\webdriver\\remote\\webelement.py\u001b[0m in \u001b[0;36m_execute\u001b[1;34m(self, command, params)\u001b[0m\n\u001b[0;32m    631\u001b[0m             \u001b[0mparams\u001b[0m \u001b[1;33m=\u001b[0m \u001b[1;33m{\u001b[0m\u001b[1;33m}\u001b[0m\u001b[1;33m\u001b[0m\u001b[1;33m\u001b[0m\u001b[0m\n\u001b[0;32m    632\u001b[0m         \u001b[0mparams\u001b[0m\u001b[1;33m[\u001b[0m\u001b[1;34m'id'\u001b[0m\u001b[1;33m]\u001b[0m \u001b[1;33m=\u001b[0m \u001b[0mself\u001b[0m\u001b[1;33m.\u001b[0m\u001b[0m_id\u001b[0m\u001b[1;33m\u001b[0m\u001b[1;33m\u001b[0m\u001b[0m\n\u001b[1;32m--> 633\u001b[1;33m         \u001b[1;32mreturn\u001b[0m \u001b[0mself\u001b[0m\u001b[1;33m.\u001b[0m\u001b[0m_parent\u001b[0m\u001b[1;33m.\u001b[0m\u001b[0mexecute\u001b[0m\u001b[1;33m(\u001b[0m\u001b[0mcommand\u001b[0m\u001b[1;33m,\u001b[0m \u001b[0mparams\u001b[0m\u001b[1;33m)\u001b[0m\u001b[1;33m\u001b[0m\u001b[1;33m\u001b[0m\u001b[0m\n\u001b[0m\u001b[0;32m    634\u001b[0m \u001b[1;33m\u001b[0m\u001b[0m\n\u001b[0;32m    635\u001b[0m     \u001b[1;32mdef\u001b[0m \u001b[0mfind_element\u001b[0m\u001b[1;33m(\u001b[0m\u001b[0mself\u001b[0m\u001b[1;33m,\u001b[0m \u001b[0mby\u001b[0m\u001b[1;33m=\u001b[0m\u001b[0mBy\u001b[0m\u001b[1;33m.\u001b[0m\u001b[0mID\u001b[0m\u001b[1;33m,\u001b[0m \u001b[0mvalue\u001b[0m\u001b[1;33m=\u001b[0m\u001b[1;32mNone\u001b[0m\u001b[1;33m)\u001b[0m\u001b[1;33m:\u001b[0m\u001b[1;33m\u001b[0m\u001b[1;33m\u001b[0m\u001b[0m\n",
      "\u001b[1;32m~\\anaconda3\\lib\\site-packages\\selenium\\webdriver\\remote\\webdriver.py\u001b[0m in \u001b[0;36mexecute\u001b[1;34m(self, driver_command, params)\u001b[0m\n\u001b[0;32m    319\u001b[0m         \u001b[0mresponse\u001b[0m \u001b[1;33m=\u001b[0m \u001b[0mself\u001b[0m\u001b[1;33m.\u001b[0m\u001b[0mcommand_executor\u001b[0m\u001b[1;33m.\u001b[0m\u001b[0mexecute\u001b[0m\u001b[1;33m(\u001b[0m\u001b[0mdriver_command\u001b[0m\u001b[1;33m,\u001b[0m \u001b[0mparams\u001b[0m\u001b[1;33m)\u001b[0m\u001b[1;33m\u001b[0m\u001b[1;33m\u001b[0m\u001b[0m\n\u001b[0;32m    320\u001b[0m         \u001b[1;32mif\u001b[0m \u001b[0mresponse\u001b[0m\u001b[1;33m:\u001b[0m\u001b[1;33m\u001b[0m\u001b[1;33m\u001b[0m\u001b[0m\n\u001b[1;32m--> 321\u001b[1;33m             \u001b[0mself\u001b[0m\u001b[1;33m.\u001b[0m\u001b[0merror_handler\u001b[0m\u001b[1;33m.\u001b[0m\u001b[0mcheck_response\u001b[0m\u001b[1;33m(\u001b[0m\u001b[0mresponse\u001b[0m\u001b[1;33m)\u001b[0m\u001b[1;33m\u001b[0m\u001b[1;33m\u001b[0m\u001b[0m\n\u001b[0m\u001b[0;32m    322\u001b[0m             response['value'] = self._unwrap_value(\n\u001b[0;32m    323\u001b[0m                 response.get('value', None))\n",
      "\u001b[1;32m~\\anaconda3\\lib\\site-packages\\selenium\\webdriver\\remote\\errorhandler.py\u001b[0m in \u001b[0;36mcheck_response\u001b[1;34m(self, response)\u001b[0m\n\u001b[0;32m    240\u001b[0m                 \u001b[0malert_text\u001b[0m \u001b[1;33m=\u001b[0m \u001b[0mvalue\u001b[0m\u001b[1;33m[\u001b[0m\u001b[1;34m'alert'\u001b[0m\u001b[1;33m]\u001b[0m\u001b[1;33m.\u001b[0m\u001b[0mget\u001b[0m\u001b[1;33m(\u001b[0m\u001b[1;34m'text'\u001b[0m\u001b[1;33m)\u001b[0m\u001b[1;33m\u001b[0m\u001b[1;33m\u001b[0m\u001b[0m\n\u001b[0;32m    241\u001b[0m             \u001b[1;32mraise\u001b[0m \u001b[0mexception_class\u001b[0m\u001b[1;33m(\u001b[0m\u001b[0mmessage\u001b[0m\u001b[1;33m,\u001b[0m \u001b[0mscreen\u001b[0m\u001b[1;33m,\u001b[0m \u001b[0mstacktrace\u001b[0m\u001b[1;33m,\u001b[0m \u001b[0malert_text\u001b[0m\u001b[1;33m)\u001b[0m\u001b[1;33m\u001b[0m\u001b[1;33m\u001b[0m\u001b[0m\n\u001b[1;32m--> 242\u001b[1;33m         \u001b[1;32mraise\u001b[0m \u001b[0mexception_class\u001b[0m\u001b[1;33m(\u001b[0m\u001b[0mmessage\u001b[0m\u001b[1;33m,\u001b[0m \u001b[0mscreen\u001b[0m\u001b[1;33m,\u001b[0m \u001b[0mstacktrace\u001b[0m\u001b[1;33m)\u001b[0m\u001b[1;33m\u001b[0m\u001b[1;33m\u001b[0m\u001b[0m\n\u001b[0m\u001b[0;32m    243\u001b[0m \u001b[1;33m\u001b[0m\u001b[0m\n\u001b[0;32m    244\u001b[0m     \u001b[1;32mdef\u001b[0m \u001b[0m_value_or_default\u001b[0m\u001b[1;33m(\u001b[0m\u001b[0mself\u001b[0m\u001b[1;33m,\u001b[0m \u001b[0mobj\u001b[0m\u001b[1;33m,\u001b[0m \u001b[0mkey\u001b[0m\u001b[1;33m,\u001b[0m \u001b[0mdefault\u001b[0m\u001b[1;33m)\u001b[0m\u001b[1;33m:\u001b[0m\u001b[1;33m\u001b[0m\u001b[1;33m\u001b[0m\u001b[0m\n",
      "\u001b[1;31mStaleElementReferenceException\u001b[0m: Message: stale element reference: element is not attached to the page document\n  (Session info: headless chrome=80.0.3987.163)\n"
     ]
    }
   ],
   "source": [
    "t.text"
   ]
  },
  {
   "cell_type": "code",
   "execution_count": 24,
   "metadata": {},
   "outputs": [],
   "source": [
    "res8 = browser.page_source"
   ]
  },
  {
   "cell_type": "code",
   "execution_count": 25,
   "metadata": {},
   "outputs": [],
   "source": [
    "soup=BeautifulSoup(res8, 'html.parser')"
   ]
  },
  {
   "cell_type": "code",
   "execution_count": 26,
   "metadata": {},
   "outputs": [
    {
     "data": {
      "text/plain": [
       "<html lang=\"ko\"><head>\n",
       "<meta charset=\"utf-8\"/> <meta content=\"IE=edge\" http-equiv=\"X-UA-Compatible\"/> <meta content=\"width=device-width, initial-scale=1\" name=\"viewport\"/> <title>소장자료 검색-대진대학교 중앙도서관</title> <script src=\"/liberty/home/plugin/jquery/js/jquery-1.12.2.min.js\" type=\"text/javascript\"></script> <script src=\"/liberty/home/plugin/jquery/js/jquery-ui.min.js?1.12.0\" type=\"text/javascript\"></script> <script src=\"/liberty/home/plugin/jquery/js/jquery.modal.js\" type=\"text/javascript\"></script> <script src=\"/liberty/home/plugin/jquery/js/jquery.mousewheel.js\" type=\"text/javascript\"></script> <script src=\"/liberty/home/plugin/jquery/js/jquery.cookie.js\" type=\"text/javascript\"></script> <script src=\"/liberty/home/plugin/bootstrap/js/bootstrap.min.js?3.3.6\" type=\"text/javascript\"></script> <script src=\"/liberty/home/plugin/bootstrap/js/bootstrap-slick.min.js?1.6.0\" type=\"text/javascript\"></script> <script src=\"/liberty/home/js/ko/mir_home_common.js\" type=\"text/javascript\"></script> <script src=\"/liberty/home/js/ko/mir_home_sub_common.js\" type=\"text/javascript\"></script> <script src=\"/liberty/home/js/ko/mir_home_sub_information.js\" type=\"text/javascript\"></script> <script src=\"/liberty/home/js/ko/mir_home_sub_mylibrary.js\" type=\"text/javascript\"></script> <script src=\"/liberty/home/js/ko/EgovMultiFile.js\" type=\"text/javascript\"></script> <script src=\"/liberty/home/js/ko/mir_home_sub_facility_locker.js\" type=\"text/javascript\"></script> <script src=\"/liberty/home/js/ko/mir_home_sub_facility_multimedia.js\" type=\"text/javascript\"></script> <script src=\"/liberty/home/js/ko/mir_home_sub_facility_reading.js\" type=\"text/javascript\"></script> <script src=\"/liberty/home/js/ko/mir_home_sub_facility_seminar.js\" type=\"text/javascript\"></script> <script src=\"/liberty/home/js/ko/mir_home_sub_facility.js\" type=\"text/javascript\"></script> <script src=\"/liberty/home/js/ko/mir_home_sub_social.js\" type=\"text/javascript\"></script> <script src=\"/liberty/home/js/ko/mir_home_sub_social_zmng.js\" type=\"text/javascript\"></script> <script src=\"/liberty/home/js/ko/mir_home_sub_data_data.js\" type=\"text/javascript\"></script> <script src=\"/liberty/home/js/ko/mir_home_sub_data_search.js\" type=\"text/javascript\"></script> <script src=\"/liberty/home/js/ko/mir_home_sub_data_contents.js\" type=\"text/javascript\"></script> <script src=\"/liberty/home/js/ko/mir_home_sub_data_ejournal.js\" type=\"text/javascript\"></script> <script src=\"/liberty/home/js/ko/mir_home_sub_data_escholarly.js\" type=\"text/javascript\"></script> <link href=\"/liberty/home/plugin/jquery/css/jquery-ui.min.css?1.12.0\" rel=\"stylesheet\" type=\"text/css\"/> <link href=\"/liberty/home/plugin/bootstrap/css/bootstrap.min.css?3.3.6\" rel=\"stylesheet\" type=\"text/css\"/> <link href=\"/liberty/home/plugin/fontawesome/css/font-awesome.css\" rel=\"stylesheet\" type=\"text/css\"/> <link href=\"/liberty/home/plugin/bootstrap/css/bootstrap-slick.css\" rel=\"stylesheet\" type=\"text/css\"/> <link href=\"/liberty/home/plugin/bootstrap/css/bootstrap-slick-theme.css\" rel=\"stylesheet\" type=\"text/css\"/> <script src=\"/liberty/home/plugin/bootstrap/js/bootstrap-filestyle.min.js\"></script> <link href=\"/liberty/home/plugin/bootstrap/css/bootstrap-datetimepicker.css\" rel=\"stylesheet\" type=\"text/css\"/> <script src=\"/liberty/home/plugin/bootstrap/js/bootstrap-datetimepicker.js\"></script> <script src=\"/liberty/home/plugin/bootstrap/js/bootstrap-datetimepicker.ko.js\"></script> <link href=\"/liberty/home/plugin/bootstrap/css/bootstrap-timepicker.min.css\" rel=\"stylesheet\" type=\"text/css\"/> <script src=\"/liberty/home/plugin/bootstrap/js/bootstrap-timepicker.min.js\"></script> <link href=\"/liberty/home/plugin/bootstrap/css/bootstrap-timepicki.css\" rel=\"stylesheet\" type=\"text/css\"/> <script src=\"/liberty/home/plugin/bootstrap/js/bootstrap-timepicki.js\"></script> <link href=\"/liberty/home/plugin/jquery/css/jquery-dtree.css\" rel=\"stylesheet\" type=\"text/css\"/> <script src=\"/liberty/home/plugin/jquery/js/jquery-dtree.js\"></script> <link href=\"/liberty/home/plugin/jstree/folder_style.css\" rel=\"stylesheet\" type=\"text/css\"/> <link href=\"/liberty/home/plugin/jstree/style.css\" rel=\"stylesheet\" type=\"text/css\"/> <script src=\"/liberty/home/plugin/jstree/jstree.js\"></script> <link href=\"/liberty/home/plugin/bootstrap/css/bootstrap-touchspin.min.css\" rel=\"stylesheet\" type=\"text/css\"/> <script src=\"/liberty/home/plugin/bootstrap/js/bootstrap-touchspin.min.js\"></script> <script src=\"/liberty/home/plugin/validation/jquery.validate.js\" type=\"text/javascript\"></script> <script src=\"/liberty/home/plugin/validation/additional-methods.js\" type=\"text/javascript\"></script> <link href=\"/liberty/home/plugin/validation/site-demos.css\" rel=\"stylesheet\" type=\"text/css\"/> <link href=\"/liberty/home/css/ko/mir_home_common.css\" rel=\"stylesheet\" type=\"text/css\"/> <link href=\"/liberty/home/css/ko/mir_home_common_site.css\" rel=\"stylesheet\" type=\"text/css\"/> <link href=\"/liberty/home/css/ko/mir_home_sub_common.css\" rel=\"stylesheet\" type=\"text/css\"/> <link href=\"/liberty/home/css/ko/mir_home_sub_common_site.css\" rel=\"stylesheet\" type=\"text/css\"/> <link href=\"/liberty/home/css/ko/mir_home_sub_common_button.css\" rel=\"stylesheet\" type=\"text/css\"/> <link href=\"/liberty/home/css/ko/mir_home_sub_common_button_site.css\" rel=\"stylesheet\" type=\"text/css\"/> <link href=\"/liberty/home/css/ko/mir_home_sub_common_modal.css\" rel=\"stylesheet\" type=\"text/css\"/> <link href=\"/liberty/home/css/ko/mir_home_sub_common_modal_site.css\" rel=\"stylesheet\" type=\"text/css\"/> <link href=\"/liberty/home/css/ko/mir_home_sub_common_data.css\" rel=\"stylesheet\" type=\"text/css\"/> <link href=\"/liberty/home/css/ko/mir_home_sub_common_data_site.css\" rel=\"stylesheet\" type=\"text/css\"/> <link href=\"/liberty/home/css/ko/mir_home_sub_common_mylibrary.css\" rel=\"stylesheet\" type=\"text/css\"/> <link href=\"/liberty/home/css/ko/mir_home_sub_common_mylibrary_site.css\" rel=\"stylesheet\" type=\"text/css\"/> <link href=\"/liberty/home/css/ko/mir_home_sub_common_information.css\" rel=\"stylesheet\" type=\"text/css\"/> <link href=\"/liberty/home/css/ko/mir_home_sub_common_information_site.css\" rel=\"stylesheet\" type=\"text/css\"/> <link href=\"/liberty/home/css/ko/mir_home_sub_common_social.css\" rel=\"stylesheet\" type=\"text/css\"/> <link href=\"/liberty/home/css/ko/mir_home_sub_common_social_site.css\" rel=\"stylesheet\" type=\"text/css\"/> <link href=\"/liberty/home/css/ko/mir_home_sub_common_validate.css\" rel=\"stylesheet\" type=\"text/css\"/> <link href=\"/liberty/home/css/ko/mir_home_sub_common_validate_site.css\" rel=\"stylesheet\" type=\"text/css\"/><!-- 편집기 용 -->\n",
       "<script src=\"/liberty/home/plugin/tinymce4/tinymce.min.js\" type=\"text/javascript\"></script>\n",
       "<script type=\"text/javascript\">\n",
       "\tif ('' != 'Y') {\t\t// 편집기를 사용하지 않을때\n",
       "\t\ttinymce.init({\n",
       "\t\t\tselector: 'div.sb_content',\n",
       "\t\t    height: 400,\n",
       "\t\t    menubar:false,\n",
       "\t\t    statusbar: false,\n",
       "\t\t    toolbar1: 'insertfile undo redo | styleselect | bold italic | alignleft aligncenter alignright alignjustify | outdent indent | link custom_image'\n",
       "\t\t });\n",
       "\t}\n",
       "\telse {\t\t\t\t\t\t\t\t\t\t\t\t\t\t\t\t\t\t\t// 편집기를 사용할때\n",
       "\t\ttinymce.init({\n",
       "\t\t\tselector: 'div.sb_content',\n",
       "\t\t    height: 400,\n",
       "\t\t\t  theme: 'modern',\n",
       "\t\t\t  plugins: [\n",
       "\t\t\t    'advlist autolink lists link image charmap print preview hr anchor pagebreak',\n",
       "\t\t\t    'searchreplace wordcount visualblocks visualchars code fullscreen',\n",
       "\t\t\t    'insertdatetime media nonbreaking save table contextmenu directionality',\n",
       "\t\t\t    'emoticons template paste textcolor colorpicker textpattern imagetools'\n",
       "\t\t\t  ],\n",
       "\t\t\t  toolbar1: 'insertfile undo redo | styleselect | bold italic | alignleft aligncenter alignright alignjustify | outdent indent | link custom_image',\n",
       "\t\t\t  //toolbar1: 'insertfile undo redo | styleselect | bold italic | alignleft aligncenter alignright alignjustify | bullist numlist outdent indent | link custom_image',\n",
       "\t\t\t  toolbar2: 'print preview media | forecolor backcolor emoticons',\n",
       "\t\t\t  forced_root_block : false,\n",
       "\t\t\t  force_br_newlines : true,\n",
       "\t\t\t  force_p_newlines : false,\n",
       "\t\t\t  setup: function(editor) {\n",
       "\t\t\t  \teditor.addButton('custom_image', {\n",
       "\t\t\t\t\ttitle: '이미지삽입',\n",
       "\t\t\t\t\ticon: 'image',\n",
       "\t\t\t\t\tonclick: function() {\n",
       "\t\t\t\t\t\twindow.open(get_sb_action('sb_editor_upload_popup')+\"?sb_skin=&sb_code=&img_upload_type=editor\",\"sb_editor_upload_popup\",\"width=400,height=350\");\n",
       "\t\t\t\t\t}\n",
       "\t\t\t    });\n",
       "\t\t\t  }\n",
       "\t\t });\n",
       "\t}\n",
       "\t</script>\n",
       "<script type=\"text/javascript\">function home_path(){return\"/\"}obj_target=null;$(document).ready(function(){$(\"#menu>li>a\").not(\"a.active\").click(function(){var b=$(this);if($(this).hasClass(\"active\")){return false}var c=b.parent(\"li\").find(\".menu_sub\");c.show();b.toggleClass(\"active\");$(\"#menu>li>a\").not(b).removeClass(\"active\");$(\".menu_sub\").not(c).hide();$(\".menu_all_box\").hide();$(\".menu_btn i\").removeClass(\"fa-times\").addClass(\"fa-bars\")});$(\".close_btn\").click(function(b){b.preventDefault();$(\".menu_sub\").hide();$(\"#menu>li>a\").removeClass(\"active\")});$(\"body\").mouseup(function(c){var b=$(\".menu_sub\");if(!b.is(c.target)&&b.has(c.target).length===0){if($(this).parent().parent().hasClass(\"active\")){return false}$(\".menu_sub\").hide();$(\"#menu>li>a\").removeClass(\"active\")}});$(\".menu_btn\").click(function(){$(\".menu_sub\").hide();$(\"#menu>li>a\").removeClass(\"active\");$(\".menu_all_box\").toggle();$(\"i\",this).toggleClass(\"fa-bars fa-times\");if($(window).width()>1200){$(\".menu_bg\").hide()}else{$(\".menu_bg\").toggle()}});var a=$(\"nav ul#menu_all li>span\");a.click(function(d){if($(window).width()>1200){}else{var c=this.parentNode.getElementsByTagName(\"ul\").item(0);var b=c.parentNode.getElementsByTagName(\"li\").item(0);if(c!=null){if(b!=null){d.preventDefault();$(c).toggle();$(this).toggleClass(\"selected\")}}}});$(window).resize(function(){if($(window).width()>1200){$(\".menu_all_box\").hide();$(\"nav ul, nav ul li ul\").removeAttr(\"style\");$(\"nav #menu_all li>span\").removeClass(\"selected\");$(\".menu_btn i\").removeClass(\"fa-times\").addClass(\"fa-bars\");$(\".menu_bg\").hide()}});$(window).scroll(function(){var b=$(\".top_btn\");if($(this).scrollTop()>100){$(b).fadeIn()}});$(\".top_btn\").click(function(b){b.preventDefault();var c=$(this);$(\"html, body\").stop().animate({scrollTop:0},200)})});$(window).load(function(){$(\".dropdown-select\").on(\"click\",\".dropdown-menu li a\",function(){var a=$(this).html();$(this).parents(\".dropdown-menu\").find(\"li\").removeClass(\"active\");$(this).parent(\"li\").addClass(\"active\");$(this).parents(\".dropdown-select\").find(\".dropdown-toggle\").html(a+' <span class=\"caret\"></span>')})});$(document).ready(function(){$(\".form-group label\").each(function(){if($(this).css(\"height\").replace(\"px\",\"\")>49){$(this).addClass(\"control-label-line2\")}})});$(function(){$(\".rb-tree a span\").on(\"click\",function(){$(\".rb-tree a span\").css(\"background-color\",\"\").css(\"font-weight\",\"normal\");$(this).css(\"background-color\",\"#e7f3fa\").css(\"font-weight\",\"bold\")})});var e2k=(function(g){var i=\"rRseEfaqQtTdwWczxvg\";var e=\"[\"+i+\"]\";var b={k:0,o:1,i:2,O:3,j:4,p:5,u:6,P:7,h:8,hk:9,ho:10,hl:11,y:12,n:13,nj:14,np:15,nl:16,b:17,m:18,ml:19,l:20};var h=\"hk|ho|hl|nj|np|nl|ml|k|o|i|O|j|p|u|P|h|y|n|b|m|l\";var a={\"\":0,r:1,R:2,rt:3,s:4,sw:5,sg:6,e:7,f:8,fr:9,fa:10,fq:11,ft:12,fx:13,fv:14,fg:15,a:16,q:17,qt:18,t:19,T:20,d:21,w:22,c:23,z:24,x:25,v:26,g:27};var f=\"rt|sw|sg|fr|fa|fq|ft|fx|fv|fg|qt|r|R|s|e|f|a|q|t|T|d|w|c|z|x|v|g|\";var d=new RegExp(\"(\"+e+\")(\"+h+\")((\"+f+\")(?=(\"+e+\")(\"+h+\"))|(\"+f+\"))\",\"g\");var c=function(m,k,j,l){return String.fromCharCode(i.indexOf(k)*588+b[j]*28+a[l]+44032)};return(function(j){return j.replace(d,c)})})();var remain_time=1740000;var handle=null;function remain_session_time_count(){var a=1740000;$(\"#remain_session_time\").text(a);if(handle==null){handle=setInterval(function(){a-=1;$(\"#remain_session_time\").text(a);if(a==0){$(\"#home_renew_write\").css(\"display\",\"none\");home_menu(\"home_logout_prss\");return}},1000)}}function login_renew_write(){remain_session_time_count();$(\"#home_renew_write\").css(\"display\",\"block\")}var login_renew_write_settimeout=null;if((\"GUEST\"!=\"\")&&(\"GUEST\"!=\"GUEST\")){}function home_renew_session_ajax(){$.ajax({type:\"POST\",url:home_path()+\"home_renew_session_ajax.mir\",dataType:\"json\",error:function(a,b){alert(b)},success:function(a){clearInterval(handle);handle=null;clearTimeout(login_renew_write_settimeout);login_renew_write_settimeout=setTimeout(login_renew_write,remain_time);$(\"#home_renew_write\").css(\"display\",\"none\")}})};</script>\n",
       "<script type=\"text/javascript\">\n",
       "\t\t/* embeded javascript ************************************************ */\n",
       "\n",
       "\t\t$(function(){\n",
       "\t\t\t\n",
       "\t\t\t\n",
       "\t\t\t// 이 분야 대출 BEST ajax\n",
       "\t\t\tdata_data_lend_best(\"DJUL\", \"384298\");\n",
       "\t\t\t\n",
       "\t\t\t/* 상세서지 모바일 화면에서 서명 고정 */\n",
       "\t\t\tif ($(window).width() < 1200) {\n",
       "\t\t\t\tvar fixmeTop = $('.data_view .data_view_top').offset().top;\t\t\t// get initial position of the element\n",
       "\t\t\t\t$(window).scroll(function() {                  \t\t\t\t\t\t// assign scroll event listener\n",
       "\t\t\t\t    var currentScroll = $(window).scrollTop(); \t\t\t\t\t\t// get current position\n",
       "\t\t\t\t    if (currentScroll >= fixmeTop) { \t\t\t\t\t\t\t\t// apply position: fixed if you\n",
       "\t\t\t\t        $('.data_view .data_view_top').addClass('fixed');\t\t\t// scroll to that element or below it\n",
       "\t\t\t\t    } else { \t\t\t\t\t\t\t\t\t\t\t\t\t\t// apply position: static\n",
       "\t\t\t\t        $('.data_view .data_view_top').removeClass('fixed');\t\t// if you scroll above it\n",
       "\t\t\t\t    }\n",
       "\t\t\t\t});\t\n",
       "\t\t\t}\n",
       "\t\t});\n",
       "\t\t\n",
       "\t\t// 마크보기\n",
       "\t\tfunction data_to_marc(mloc_code, rno) {\n",
       "\t\t\tvar params = new Object();\n",
       "\t\t\tparams[\"mloc_code\"] = mloc_code;\n",
       "\t\t\tparams[\"rno\"] = rno;\n",
       "\t\t\thome_modal('data_marc', 's900', params);\n",
       "\t\t}\n",
       "\t\t\n",
       "\t\t// 꼬리검색\n",
       "\t\tfunction data_tail_search_submit(search_keyword_type1, search_keyword1) {\n",
       "\t\t\t\n",
       "\t\t\tif (search_keyword_type1 == \"\") {\n",
       "\t\t\t\talert(\"정상적이지 않은 데이터 입니다.\");\n",
       "\t\t\t\treturn false; \n",
       "\t\t\t}\n",
       "\t\t\t\n",
       "\t\t\tswitch (search_keyword_type1) {\n",
       "\t\t\t\tcase \"A\" :  search_keyword_type1 = \"author\"; \n",
       "\t\t\t\t\t\t\tbreak;\n",
       "\t\t\t\tcase \"RNO\" :  search_keyword_type1 = \"rno\"; \n",
       "\t\t\t\t\t\t\tbreak;\n",
       "\t\t\t\tdefault : break;\n",
       "\t\t\t}\n",
       "\t\t\t\n",
       "\t\t\tvar frm = $('form[name=data_tail_search_frm]');\n",
       "\t\t\t$(frm).find('[name=search_keyword_type1]').val(search_keyword_type1);\n",
       "\t\t\t$(frm).find('[name=search_keyword1]').val(search_keyword1);\n",
       "\t\t\t$(frm).attr('action',\"/data_data_list.mir\");\n",
       "\t\t\t$(frm).submit();\n",
       "\t\t}\n",
       "\t\t\n",
       "\t\t// 한국복지대학교 웹접근성 품질 인증으로 처리방식 변경\n",
       "\t\tfunction hcrw_test(rno) {\n",
       "\t\t\tvar params = new Object();\n",
       "\t\t\tparams[\"rno\"] = rno;\n",
       "\t\t\t$.ajax({\n",
       "\t\t\t\ttype : \"POST\",\n",
       "\t\t\t\turl : get_home_action(\"data_view_sms\"),\n",
       "\t\t\t\tdata : params,\n",
       "\t\t\t\terror : function(xhr, textStatus) {\n",
       "\t\t\t\t\talert(\"서비스 에러\");\n",
       "\t\t\t\t},\n",
       "\t\t\t\tsuccess : function(text) {\n",
       "\t\t\t\t\t$(\"#sms\").html(text);\n",
       "\t\t\t\t}\n",
       "\t\t\t});\n",
       "\t\t}\n",
       "\t\n",
       "\t</script>\n",
       "<style type=\"text/css\">\n",
       "\t\t/* embeded css ******************************************************* */\t\t\n",
       "\t</style>\n",
       "</head>\n",
       "<body>\n",
       "<script src=\"https://support.ebscohost.com/eit/scripts/ebscohostsearch.js\" type=\"text/javascript\"></script> <script type=\"text/javascript\">\n",
       "\t\t// 앱스코 검색\n",
       "\t\tfunction ebsco_search_submit() {\t\n",
       "\t\t\t// 교외IP 이고 로그인자\n",
       "\t\t\tif ( (\"\" == \"false\") && (\"GUEST\" != \"GUEST\") ) {\n",
       "\t\t\t\t$(\"#proxy_ebsco\").attr('action',\"/sso_proxy_djul.mir?goURL=proxyebsco&goKeyword=\"+encodeURI($('[name=next_frm] #ebscohostsearchtexttemp').val()));\n",
       "\t\t\t\t$(\"#proxy_ebsco\").submit();\n",
       "\t\t\t}\n",
       "\t\t\telse {\n",
       "\t\t\t\tvar ebscohostsearchtexttemp = $('[name=next_frm] #ebscohostsearchtexttemp').val();\n",
       "\t\t\t\t$('#ebscohostCustomSearchBox #ebscohostsearchtext').val(ebscohostsearchtexttemp);\t\t\t\t\n",
       "\t\t\t\t$('#ebsco_submit').click();\t\n",
       "\t\t\t}\n",
       "\t\t}  \n",
       "\t</script> <form action=\"/\" id=\"proxy_ebsco\" method=\"post\" name=\"proxy_ebsco\" style=\"display:none;\" target=\"_blank\"></form> <form id=\"ebscohostCustomSearchBox\" method=\"post\" onsubmit=\"return ebscoHostSearchGo(this);\" style=\"display:none;\"> <input id=\"ebscohostwindow\" name=\"ebscohostwindow\" type=\"hidden\" value=\"1\"/> <input id=\"ebscohosturl\" name=\"ebscohosturl\" type=\"hidden\" value=\"http://search.ebscohost.com/login.aspx?direct=true&amp;site=eds-live&amp;scope=site&amp;type=0&amp;custid=s4770749&amp;groupid=main&amp;profid=eds&amp;authtype=ip,guest\"/> <input id=\"ebscohostsearchsrc\" name=\"ebscohostsearchsrc\" type=\"hidden\" value=\"db\"/> <input id=\"ebscohostsearchmode\" name=\"ebscohostsearchmode\" type=\"hidden\" value=\"+AND+\"/> <input id=\"ebscohostkeywords\" name=\"ebscohostkeywords\" type=\"hidden\" value=\"\"/> <label for=\"ebscohostsearchtext\"></label><input id=\"ebscohostsearchtext\" name=\"ebscohostsearchtext\" style=\"display:none;\" type=\"text\" value=\"\"/> <input id=\"ebsco_submit\" style=\"display:none;\" type=\"submit\" value=\"Search\"/> </form> <header> <div id=\"header_top\"> <div class=\"header_top_box\"> <h1 class=\"logo\"><a href=\"/main_main.mir\"><img alt=\"대진대학교 중앙도서관 로고\" src=\"/liberty/home/images/ko/common/logo.png\"/></a></h1> <ul class=\"header_gnb\"> <li class=\"login_btn\"><a href=\"#\" onclick=\"home_menu('home_login_write'); return false;\"><i aria-hidden=\"true\" class=\"fa fa-sign-in\"></i> LOGIN</a></li> <li class=\"uni\"><a href=\"http://www.daejin.ac.kr\" target=\"_blank\">대진대학교</a></li> </ul> </div> </div> <nav id=\"header_nav\"> <div class=\"menu_box\"> <a class=\"mobile_logo\" href=\"/main_main.mir\"><img alt=\"대진대학교 중앙도서관 로고\" src=\"/liberty/home/images/ko/common/logo_white.png\"/></a> <ul id=\"menu\"> <li><a href=\"#mir\">자료검색</a> <div class=\"menu_sub\"> <div class=\"menu_sub_box sub01\"> <div class=\"menu_sub_left\"> <h2>자료검색</h2> <p class=\"menu_detail\">도서관 자료를<br/>검색할 수 있습니다.</p> <img alt=\"자료검색 아이콘\" src=\"/liberty/home/images/ko/common/sub_icon01.png\"/> </div> <div class=\"menu_sub_right\"> <div class=\"menu_sub_content\"> <dl> <dt><a href=\"/data_search.mir\">통합검색</a></dt> <dd><a href=\"/data_search.mir\">통합검색</a></dd> <dd><a href=\"/sso_proxy_djul.mir?goURL=proxyebsco\" target=\"_blank\">전자자료 통합검색(Discovery)</a></dd> </dl> <dl> <dt><a href=\"/data_data.mir\">소장자료</a></dt> <dd class=\"hidden\"></dd> <dd><a href=\"/data_data.mir?mtype_code=M\">단행본</a></dd> <dd><a href=\"/data_data.mir?mtype_code=S\">연속간행물</a></dd> <dd><a href=\"/data_data.mir?mtype_code=T\">학위논문</a></dd> <dd><a href=\"/data_data.mir?mtype_code=W\">전자책</a></dd> <dd><a href=\"/data_data.mir?mtype_code=G\">고서</a></dd> <dd><a href=\"/data_data.mir?mtype_code=N\">비도서</a></dd> </dl> <dl> <dt><a href=\"/sso_proxy_djul.mir?goURL=proxyebscoejournal\">전자자료</a></dt> <dd><a href=\"/sso_proxy_djul.mir?goURL=proxyebscoejournal\" target=\"_blank\">전자저널(A-Z)</a></dd> <dd><a href=\"/escholarly_list_pub.mir\">학술DB(온라인컨텐츠)</a></dd> <dd><a href=\"/ebook_list_pub.mir\">전자책</a></dd> <dd><a href=\"/guide_access_outside.mir\">교외접속</a></dd> <dd><a href=\"http://daejin.dcollection.net/\" target=\"_blank\">학위논문 원문검색 및 등록제출</a></dd> </dl> <dl> <dt><a href=\"/elearning_list_pub.mir\">영상자료</a></dt> <dd><a href=\"/elearning_list_pub.mir\">E-Learning</a></dd> <dd><a href=\"/sso_proxy_djul.mir?goURL=http://203.237.74.129/\" target=\"_blank\">영화 VOD</a></dd> </dl> </div> <div class=\"menu_sub_tip\"> <span class=\"tip_icon\"> <img alt=\"Tips 아이콘\" src=\"/liberty/home/images/ko/common/sub_tip.png\"/> </span> <ul class=\"tip_list\"> <li></li> </ul> <a class=\"close_btn\" href=\"#\"><img alt=\"닫기버튼\" src=\"/liberty/home/images/ko/common/close_btn.png\"/></a> </div> </div> </div> </div> </li> <li><a href=\"#mir\">COLLECTION</a> <div class=\"menu_sub\"> <div class=\"menu_sub_box sub02\"> <div class=\"menu_sub_left\"> <h2>COLLECTION</h2> <p class=\"menu_detail\">대진대학교 중앙도서관의<br/>추천도서 리스트를 확인할 수 있습니다.</p> <img alt=\"COLLECTION 아이콘\" src=\"/liberty/home/images/ko/common/sub_icon02.png\"/> </div> <div class=\"menu_sub_right\"> <div class=\"menu_sub_content\"> <dl> <dt><a href=\"/popularity_lend_list.mir\">베스트 이용도서</a></dt> <dd><a href=\"/popularity_lend_list.mir\">베스트 이용도서</a></dd> <dd><a href=\"/sb/collection_professor_list.mir\">교수추천</a></dd> </dl> <dl> <dt><a href=\"/newdata_list.mir\">신착자료</a></dt> <dd class=\"hidden\"></dd> </dl> <dl> <dt><a href=\"/sb/collection_industry_list.mir\">테마자료</a></dt> <dd><a href=\"/sb/collection_industry_list.mir\">4차산업혁명</a></dd> <dd><a href=\"/sb/collection_comic_list.mir\">만화류</a></dd> </dl> <dl> <dt><a href=\"/sb/collection_excellence_list.mir\">우수학술도서</a></dt> <dd class=\"hidden\"></dd> </dl> <dl> <dt><a href=\"/sb/collection_taskbook_list.mir\">과제도서</a></dt> <dd class=\"hidden\"></dd> </dl> <dl> <dt><a href=\"/sb/collection_eventbook_list.mir\">행사도서</a></dt> <dd class=\"hidden\"></dd> </dl> </div> <div class=\"menu_sub_tip\"> <span class=\"tip_icon\"> <img alt=\"Tips 아이콘\" src=\"/liberty/home/images/ko/common/sub_tip.png\"/> </span> <ul class=\"tip_list\"> <li></li> </ul> <a class=\"close_btn\" href=\"#\"><img alt=\"닫기버튼\" src=\"/liberty/home/images/ko/common/close_btn.png\"/></a> </div> </div> </div> </div> </li> <li><a href=\"#mir\">MY LIBRARY</a> <div class=\"menu_sub\"> <div class=\"menu_sub_box sub03\"> <div class=\"menu_sub_left\"> <h2>MY LIBRARY</h2> <p class=\"menu_detail\">서비스 신청 내역과<br/>개인정보를<br/>확인할 수 있습니다.</p> <img alt=\"MY LIBRARY 아이콘\" src=\"/liberty/home/images/ko/common/sub_icon03.png\"/> </div> <div class=\"menu_sub_right\"> <div class=\"menu_sub_content\"> <dl> <dt><a href=\"/lend_lend.mir\">대출현황/예약/연기</a></dt> <dd><a href=\"/lend_lend.mir\">현황/연기</a></dd> <dd><a href=\"/lend_mylist.mir\">내역</a></dd> </dl> <dl> <dt><a href=\"/purchase_guide.mir\">희망도서</a></dt> <dd><a href=\"/purchase_guide.mir\">안내</a></dd> <dd><a href=\"/purchase_list.mir\">내역</a></dd> </dl> <dl> <dt><a href=\"/knowledge_guide.mir\">개인서재</a></dt> <dd><a href=\"/knowledge_guide.mir\">안내</a></dd> <dd><a href=\"/knowledge_collection_list.mir\">소장자료 서재</a></dd> <dd><a href=\"/knowledge_sb_list.mir\">게시글 서재</a></dd> <dd><a href=\"/knowledge_folder_list.mir\">내폴더</a></dd> </dl> <dl> <dt><a href=\"/register_login.mir\">개인정보</a></dt> <dd><a href=\"/mynotice_guide.mir\">개인공지</a></dd> </dl> </div> <div class=\"menu_sub_tip\"> <span class=\"tip_icon\"> <img alt=\"Tips 아이콘\" src=\"/liberty/home/images/ko/common/sub_tip.png\"/> </span> <ul class=\"tip_list\"> <li></li> </ul> <a class=\"close_btn\" href=\"#\"><img alt=\"닫기버튼\" src=\"/liberty/home/images/ko/common/close_btn.png\"/></a> </div> </div> </div> </div> </li> <li><a href=\"#mir\">도서관서비스</a> <div class=\"menu_sub\"> <div class=\"menu_sub_box sub04\"> <div class=\"menu_sub_left\"> <h2>도서관서비스</h2> <p class=\"menu_detail\">도서관에서 이용가능한<br/>서비스입니다.</p> <img alt=\"도서관서비스 아이콘\" src=\"/liberty/home/images/ko/common/sub_icon04.png\"/> </div> <div class=\"menu_sub_right\"> <div class=\"menu_sub_content\"> <dl> <dt><a href=\"/guide_education.mir\">연구학습지원</a></dt> <dd><a href=\"/guide_education.mir\">이용자교육</a></dd> <dd><a href=\"/guide_copy_service.mir\">상호대차/원문복사 서비스</a></dd> <dd><a href=\"/guide_fric.mir\">외국학술지 지원센터</a></dd> <dd><a href=\"/guide_thesis.mir\">논문작성 가이드</a></dd> </dl> <dl> <dt><a href=\"/perusal_guide.mir\">타 도서관 이용 신청</a></dt> <dd><a href=\"/perusal_guide.mir\">안내</a></dd> <dd><a href=\"/perusal_write.mir\">신청</a></dd> <dd><a href=\"/perusal_list.mir\">내역</a></dd> </dl> <dl> <dt><a href=\"/reading_intro.mir\">시설 안내 및 예약</a></dt> <dd><a href=\"/reading_intro.mir\">열람실 이용</a></dd> <dd><a href=\"/seminar_intro.mir\">세미나실/캐럴 예약</a></dd> <dd><a href=\"/guide_copy.mir\">복사/인쇄</a></dd> <dd><a href=\"/guide_multimedia.mir\">멀티미디어자료 이용</a></dd> </dl> </div> <div class=\"menu_sub_tip\"> <span class=\"tip_icon\"> <img alt=\"Tips 아이콘\" src=\"/liberty/home/images/ko/common/sub_tip.png\"/> </span> <ul class=\"tip_list\"> <li></li> </ul> <a class=\"close_btn\" href=\"#\"><img alt=\"닫기버튼\" src=\"/liberty/home/images/ko/common/close_btn.png\"/></a> </div> </div> </div> </div> </li> <li><a href=\"#mir\">이용안내</a> <div class=\"menu_sub\"> <div class=\"menu_sub_box sub05\"> <div class=\"menu_sub_left\"> <h2>이용안내</h2> <p class=\"menu_detail\">도서관 소개 및<br/>이용 방법에 대해<br/>알려드립니다.</p> <img alt=\"이용안내 아이콘\" src=\"/liberty/home/images/ko/common/sub_icon05.png\"/> </div> <div class=\"menu_sub_right\"> <div class=\"menu_sub_content\"> <dl> <dt><a href=\"/intro_history.mir\">도서관 소개</a></dt> <dd><a href=\"/intro_history.mir\">소개&amp;연혁</a></dd> <dd><a href=\"/intro_staff.mir\">조직도&amp;직원소개</a></dd> <dd><a href=\"/intro_regulation.mir\">도서관 규정</a></dd> <dd><a href=\"/intro_map.mir\">찾아오는길</a></dd> </dl> <dl> <dt><a href=\"/guide_time.mir\">도서관이용안내</a></dt> <dd><a href=\"/guide_time.mir\">개관시간</a></dd> <dd><a href=\"/guide_lend.mir\">대출/반납/연장/예약</a></dd> <dd><a href=\"/guide_donation.mir\">자료기증</a></dd> <dd><a href=\"/sb/brochure_brochure_list.mir\">웹브로셔</a></dd> <dd><a href=\"/calendar_list.mir\">도서관일정</a></dd> </dl> <dl> <dt><a href=\"/guide_the_disabled.mir\">장애인 서비스</a></dt> <dd class=\"hidden\"></dd> </dl> </div> <div class=\"menu_sub_tip\"> <span class=\"tip_icon\"> <img alt=\"Tips 아이콘\" src=\"/liberty/home/images/ko/common/sub_tip.png\"/> </span> <ul class=\"tip_list\"> <li></li> </ul> <a class=\"close_btn\" href=\"#\"><img alt=\"닫기버튼\" src=\"/liberty/home/images/ko/common/close_btn.png\"/></a> </div> </div> </div> </div> </li> <li><a href=\"#mir\">커뮤니티</a> <div class=\"menu_sub\"> <div class=\"menu_sub_box sub06\"> <div class=\"menu_sub_left\"> <h2>커뮤니티</h2> <p class=\"menu_detail\">도서관 공지사항과<br/>문의사항에 대해<br/>알 수 있습니다.</p> <img alt=\"커뮤니티 아이콘\" src=\"/liberty/home/images/ko/common/sub_icon06.png\"/> </div> <div class=\"menu_sub_right\"> <div class=\"menu_sub_content\"> <dl> <dt><a href=\"/sb/default_notice_list.mir\">공지사항</a></dt> <dd class=\"hidden\"></dd> </dl> <dl> <dt><a href=\"/sb/faq_faq_list.mir\">Q&amp;A</a></dt> <dd><a href=\"/sb/faq_faq_list.mir\">자주하는질문</a></dd> <dd><a href=\"/sb/qna_qna_list.mir\">묻고답하기</a></dd> </dl> </div> <div class=\"menu_sub_tip\"> <span class=\"tip_icon\"> <img alt=\"Tips 아이콘\" src=\"/liberty/home/images/ko/common/sub_tip.png\"/> </span> <ul class=\"tip_list\"> <li></li> </ul> <a class=\"close_btn\" href=\"#\"><img alt=\"닫기버튼\" src=\"/liberty/home/images/ko/common/close_btn.png\"/></a> </div> </div> </div> </div> </li> </ul> <a class=\"menu_btn\" href=\"#\"><i aria-hidden=\"true\" class=\"fa fa-bars\"></i></a> </div> <div class=\"menu_all_box\"> <ul class=\"cf\" id=\"menu_all\"> <li> <span>자료검색</span> <ul class=\"menu_2depth mobile_sub\"> <li> <span> <a href=\"/data_search.mir\">통합검색</a> </span> <ul class=\"menu_3depth mobile_sub\"> <li><a href=\"/data_search.mir\">통합검색</a></li> <li><a href=\"/sso_proxy_djul.mir?goURL=proxyebsco\" target=\"_blank\">전자자료 통합검색(Discovery)</a></li> </ul> </li> <li> <span> <a href=\"/data_data.mir\">소장자료</a> </span> <ul class=\"menu_3depth mobile_sub\"> <li><a href=\"/data_data.mir?mtype_code=M\">단행본</a></li> <li><a href=\"/data_data.mir?mtype_code=S\">연속간행물</a></li> <li><a href=\"/data_data.mir?mtype_code=T\">학위논문</a></li> <li><a href=\"/data_data.mir?mtype_code=W\">전자책</a></li> <li><a href=\"/data_data.mir?mtype_code=G\">고서</a></li> <li><a href=\"/data_data.mir?mtype_code=N\">비도서</a></li> </ul> </li> <li> <span> <a href=\"/sso_proxy_djul.mir?goURL=proxyebscoejournal\">전자자료</a> </span> <ul class=\"menu_3depth mobile_sub\"> <li><a href=\"/sso_proxy_djul.mir?goURL=proxyebscoejournal\" target=\"_blank\">전자저널(A-Z)</a></li> <li><a href=\"/escholarly_list_pub.mir\">학술DB(온라인컨텐츠)</a></li> <li><a href=\"/ebook_list_pub.mir\">전자책</a></li> <li><a href=\"/guide_access_outside.mir\">교외접속</a></li> <li><a href=\"http://daejin.dcollection.net/\" target=\"_blank\">학위논문 원문검색 및 등록제출</a></li> </ul> </li> <li> <span> <a href=\"/elearning_list_pub.mir\">영상자료</a> </span> <ul class=\"menu_3depth mobile_sub\"> <li><a href=\"/elearning_list_pub.mir\">E-Learning</a></li> <li><a href=\"/sso_proxy_djul.mir?goURL=http://203.237.74.129/\" target=\"_blank\">영화 VOD</a></li> </ul> </li> </ul> </li> <li> <span>COLLECTION</span> <ul class=\"menu_2depth mobile_sub\"> <li> <span> <a href=\"/popularity_lend_list.mir\">베스트 이용도서</a> </span> <ul class=\"menu_3depth mobile_sub\"> <li><a href=\"/popularity_lend_list.mir\">베스트 이용도서</a></li> <li><a href=\"/sb/collection_professor_list.mir\">교수추천</a></li> </ul> </li> <li> <span> <a href=\"/newdata_list.mir\">신착자료</a> </span> <ul class=\"menu_3depth mobile_sub\"> </ul> </li> <li> <span> <a href=\"/sb/collection_industry_list.mir\">테마자료</a> </span> <ul class=\"menu_3depth mobile_sub\"> <li><a href=\"/sb/collection_industry_list.mir\">4차산업혁명</a></li> <li><a href=\"/sb/collection_comic_list.mir\">만화류</a></li> </ul> </li> <li> <span> <a href=\"/sb/collection_excellence_list.mir\">우수학술도서</a> </span> <ul class=\"menu_3depth mobile_sub\"> </ul> </li> <li> <span> <a href=\"/sb/collection_taskbook_list.mir\">과제도서</a> </span> <ul class=\"menu_3depth mobile_sub\"> </ul> </li> <li> <span> <a href=\"/sb/collection_eventbook_list.mir\">행사도서</a> </span> <ul class=\"menu_3depth mobile_sub\"> </ul> </li> </ul> </li> <li> <span>MY LIBRARY</span> <ul class=\"menu_2depth mobile_sub\"> <li> <span> <a href=\"/lend_lend.mir\">대출현황/예약/연기</a> </span> <ul class=\"menu_3depth mobile_sub\"> <li><a href=\"/lend_lend.mir\">현황/연기</a></li> <li><a href=\"/lend_mylist.mir\">내역</a></li> </ul> </li> <li> <span> <a href=\"/purchase_guide.mir\">희망도서</a> </span> <ul class=\"menu_3depth mobile_sub\"> <li><a href=\"/purchase_guide.mir\">안내</a></li> <li><a href=\"/purchase_list.mir\">내역</a></li> </ul> </li> <li> <span> <a href=\"/knowledge_guide.mir\">개인서재</a> </span> <ul class=\"menu_3depth mobile_sub\"> <li><a href=\"/knowledge_guide.mir\">안내</a></li> <li><a href=\"/knowledge_collection_list.mir\">소장자료 서재</a></li> <li><a href=\"/knowledge_sb_list.mir\">게시글 서재</a></li> <li><a href=\"/knowledge_folder_list.mir\">내폴더</a></li> </ul> </li> <li> <span> <a href=\"/register_login.mir\">개인정보</a> </span> <ul class=\"menu_3depth mobile_sub\"> <li><a href=\"/mynotice_guide.mir\">개인공지</a></li> </ul> </li> </ul> </li> <li> <span>도서관서비스</span> <ul class=\"menu_2depth mobile_sub\"> <li> <span> <a href=\"/guide_education.mir\">연구학습지원</a> </span> <ul class=\"menu_3depth mobile_sub\"> <li><a href=\"/guide_education.mir\">이용자교육</a></li> <li><a href=\"/guide_copy_service.mir\">상호대차/원문복사 서비스</a></li> <li><a href=\"/guide_fric.mir\">외국학술지 지원센터</a></li> <li><a href=\"/guide_thesis.mir\">논문작성 가이드</a></li> </ul> </li> <li> <span> <a href=\"/perusal_guide.mir\">타 도서관 이용 신청</a> </span> <ul class=\"menu_3depth mobile_sub\"> <li><a href=\"/perusal_guide.mir\">안내</a></li> <li><a href=\"/perusal_write.mir\">신청</a></li> <li><a href=\"/perusal_list.mir\">내역</a></li> </ul> </li> <li> <span> <a href=\"/reading_intro.mir\">시설 안내 및 예약</a> </span> <ul class=\"menu_3depth mobile_sub\"> <li><a href=\"/reading_intro.mir\">열람실 이용</a></li> <li><a href=\"/seminar_intro.mir\">세미나실/캐럴 예약</a></li> <li><a href=\"/guide_copy.mir\">복사/인쇄</a></li> <li><a href=\"/guide_multimedia.mir\">멀티미디어자료 이용</a></li> </ul> </li> </ul> </li> <li> <span>이용안내</span> <ul class=\"menu_2depth mobile_sub\"> <li> <span> <a href=\"/intro_history.mir\">도서관 소개</a> </span> <ul class=\"menu_3depth mobile_sub\"> <li><a href=\"/intro_history.mir\">소개&amp;연혁</a></li> <li><a href=\"/intro_staff.mir\">조직도&amp;직원소개</a></li> <li><a href=\"/intro_regulation.mir\">도서관 규정</a></li> <li><a href=\"/intro_map.mir\">찾아오는길</a></li> </ul> </li> <li> <span> <a href=\"/guide_time.mir\">도서관이용안내</a> </span> <ul class=\"menu_3depth mobile_sub\"> <li><a href=\"/guide_time.mir\">개관시간</a></li> <li><a href=\"/guide_lend.mir\">대출/반납/연장/예약</a></li> <li><a href=\"/guide_donation.mir\">자료기증</a></li> <li><a href=\"/sb/brochure_brochure_list.mir\">웹브로셔</a></li> <li><a href=\"/calendar_list.mir\">도서관일정</a></li> </ul> </li> <li> <span> <a href=\"/guide_the_disabled.mir\">장애인 서비스</a> </span> <ul class=\"menu_3depth mobile_sub\"> </ul> </li> </ul> </li> <li> <span>커뮤니티</span> <ul class=\"menu_2depth mobile_sub\"> <li> <span> <a href=\"/sb/default_notice_list.mir\">공지사항</a> </span> <ul class=\"menu_3depth mobile_sub\"> </ul> </li> <li> <span> <a href=\"/sb/faq_faq_list.mir\">Q&amp;A</a> </span> <ul class=\"menu_3depth mobile_sub\"> <li><a href=\"/sb/faq_faq_list.mir\">자주하는질문</a></li> <li><a href=\"/sb/qna_qna_list.mir\">묻고답하기</a></li> </ul> </li> </ul> </li> </ul> </div> </nav> </header> <div class=\"menu_bg\"></div> <hr/><section class=\"container-fluid text-center\" id=\"wrapper\">\n",
       "<section class=\"row\" id=\"content\">\n",
       "<hr/><hr/>\n",
       "<section class=\"col-sm-12 text-left\" id=\"sub_content\">\n",
       "<script type=\"text/javascript\">\n",
       "//결과내 검색\n",
       "function data_submit_re() {\n",
       "\n",
       "\tvar search_research_yn = $('#top_data_research [name=search_research_yn]:checked').val();\n",
       "\tvar search_keyword_type1_research_add_value = $('#top_data_research [name=search_keyword_type1_research_add]').val();\n",
       "\tvar search_keyword1_research_add_value = $('#top_data_research [name=search_keyword1_research_add]').val();\n",
       "\t\n",
       "\tvar frm = $('form[name=data_top_search_frm]');\n",
       "\t$(frm).find('[name=search_keyword_type1]').val(search_keyword_type1_research_add_value);\n",
       "\t$(frm).find('[name=search_keyword1]').val(search_keyword1_research_add_value);\n",
       "\t$(frm).attr('action',\"/data_search_list.mir\");\n",
       "\t$(frm).submit();\n",
       "}\n",
       "</script> <div id=\"content_header\"> <div class=\"container\"> <h4>소장자료 상세정보</h4> <div class=\"content_navigation\"> <ol class=\"breadcrumb\"> <li><a href=\"/\">Home</a></li> <li>자료검색</li> <li class=\"active\">소장자료</li> <li class=\"active\">소장자료 검색</li> </ol> </div> </div> </div> <hr/> <div class=\"data_sub_search row\" id=\"top_data_research\"> <div class=\"col-md-9\"></div> <div class=\"col-md-3 data_sub_search_box\"> <div class=\"input-group\"> <label for=\"search_keyword1_research_add\"></label><input class=\"form-control input-sm sub_search_input\" id=\"search_keyword1_research_add\" name=\"search_keyword1_research_add\" onfocus=\"objTarget=this;\" onkeydown=\"javascript: if (event.keyCode == 13) { data_submit_re(); return false; }\" placeholder=\"소장자료를 검색해주세요.\" type=\"text\"/> <span class=\"input-group-btn\"> <button class=\"btn btn_mir_search btn-sm btn_sub_search_submit\" onclick=\"data_submit_re();\" type=\"button\"><span aria-hidden=\"true\" class=\"glyphicon glyphicon-search\"></span></button> </span> <input name=\"srch_condi_01_re\" type=\"hidden\" value=\"AND\"/> <input name=\"search_keyword_type1_research_add\" type=\"hidden\" value=\"text\"/> </div> </div> </div> <form action=\"/data_data_list.mir\" method=\"get\" name=\"data_top_search_frm\"> <input name=\"search_keyword_type1\" type=\"hidden\" value=\"\"/> <input name=\"search_keyword1\" type=\"hidden\" value=\"\"/> </form><hr/>\n",
       "<div class=\"row\" id=\"content_content\">\n",
       "<div class=\"col-md-9 col-sm-8\" id=\"content_data\">\n",
       "<form action=\"\" method=\"get\" name=\"next_frm\">\n",
       "<div class=\"row\">\n",
       "<!-- 가운데 -->\n",
       "<section class=\"col-sm-12 text-left\" id=\"content_content_content\">\n",
       "<div class=\"book_view\">\n",
       "<div class=\"panel_layout\">\n",
       "<section id=\"panel\">\n",
       "<div class=\"data_btn_list\">\n",
       "<div class=\"pull-left\" style=\"font-size: 16px; font-weight: bold;\">\n",
       "\t\t\t\t\t\t\t\t\t\t\t\t\t\t\t상세정보\n",
       "\t\t\t\t\t\t\t\t\t\t\t\t\t\t</div>\n",
       "<div class=\"btn_right\">\n",
       "<div class=\"btn-group\" role=\"group\">\n",
       "<button class=\"btn btn_mir_default btn-xs\" data-target=\"#modal_mir\" data-toggle=\"modal\" onclick=\"data_to_marc('DJUL', '384298');\" type=\"button\"><i aria-hidden=\"true\" class=\"fa fa-file-text-o\"></i> 마크보기</button>\n",
       "</div>\n",
       "</div>\n",
       "</div>\n",
       "<div class=\"data_view\">\n",
       "<div class=\"row\">\n",
       "<div class=\"data_view_top col-sm-12\">\n",
       "<div class=\"book_title\">\n",
       "<h4>자존감 수업 :하루에 하나, 나를 사랑하게 되는 자존감 회복 훈련</h4>\n",
       "<p class=\"a_mark\">\n",
       "</p>\n",
       "</div>\n",
       "<hr/>\n",
       "</div>\n",
       "<div class=\"data_view_left col-sm-3\">\n",
       "<div class=\"img_book\">\n",
       "<div id=\"BookImage\">\n",
       "<iframe frameborder=\"No\" height=\"240px\" scrolling=\"no\" src=\"https://ecip.libbook.co.kr/exCHECKBOOK.php?pUniv=6bf0c21817a66891517594a03a0952&amp;pUser=&amp;isbn=9791186757093\" title=\"iframe_book\" width=\"160px\"></iframe>\n",
       "</div>\n",
       "</div>\n",
       "</div>\n",
       "<hr/>\n",
       "<div class=\"data_view_right col-sm-9\">\n",
       "<div class=\"well well-sm\">\n",
       "<div class=\"form-group\">\n",
       "<label class=\"col-sm-2 control-label\">\n",
       "\t\t\t\t\t\t\t\t\t\t\t\t\t\t\t\t\t\t\t\t\t자료유형</label>\n",
       "<div class=\"col-sm-10\">\n",
       "\t\t\t\t\t\t\t\t\t\t\t\t\t\t\t\t\t\t\t\t\t단행본</div>\n",
       "</div>\n",
       "<div class=\"form-group\">\n",
       "<label class=\"col-sm-2 control-label\">\n",
       "\t\t\t\t\t\t\t\t\t\t\t\t\t\t\t\t\t\t\t\t\t서명/저자사항</label>\n",
       "<div class=\"col-sm-10\">\n",
       "\t\t\t\t\t\t\t\t\t\t\t\t\t\t\t\t\t\t\t\t\t자존감 수업 : 하루에 하나, 나를 사랑하게 되는 자존감 회복 훈련   / 윤홍균 지음</div>\n",
       "</div>\n",
       "<div class=\"form-group\">\n",
       "<label class=\"col-sm-2 control-label\">\n",
       "\t\t\t\t\t\t\t\t\t\t\t\t\t\t\t\t\t\t\t\t\t발행사항</label>\n",
       "<div class=\"col-sm-10\">\n",
       "\t\t\t\t\t\t\t\t\t\t\t\t\t\t\t\t\t\t\t\t\t서울:  심플라이프;  2016. </div>\n",
       "</div>\n",
       "<div class=\"form-group\">\n",
       "<label class=\"col-sm-2 control-label\">\n",
       "\t\t\t\t\t\t\t\t\t\t\t\t\t\t\t\t\t\t\t\t\t형태사항</label>\n",
       "<div class=\"col-sm-10\">\n",
       "\t\t\t\t\t\t\t\t\t\t\t\t\t\t\t\t\t\t\t\t\t304 p. 삽화 23 cm</div>\n",
       "</div>\n",
       "<div class=\"form-group\">\n",
       "<label class=\"col-sm-2 control-label\">\n",
       "\t\t\t\t\t\t\t\t\t\t\t\t\t\t\t\t\t\t\t\t\tISBN/ISSN</label>\n",
       "<div class=\"col-sm-10\">\n",
       "\t\t\t\t\t\t\t\t\t\t\t\t\t\t\t\t\t\t\t\t\t9791186757093<br/></div>\n",
       "</div>\n",
       "<div class=\"form-group\">\n",
       "<label class=\"col-sm-2 control-label\">\n",
       "\t\t\t\t\t\t\t\t\t\t\t\t\t\t\t\t\t\t\t\t\t가격</label>\n",
       "<div class=\"col-sm-10\">\n",
       "\t\t\t\t\t\t\t\t\t\t\t\t\t\t\t\t\t\t\t\t\t\\14,000</div>\n",
       "</div>\n",
       "<div class=\"form-group\">\n",
       "<label class=\"col-sm-2 control-label\">\n",
       "\t\t\t\t\t\t\t\t\t\t\t\t\t\t\t\t\t\t\t\t\t개인명(성과 이름)</label>\n",
       "<div class=\"col-sm-10\">\n",
       "\t\t\t\t\t\t\t\t\t\t\t\t\t\t\t\t\t\t\t\t\t윤홍균</div>\n",
       "</div>\n",
       "<div class=\"form-group\">\n",
       "<label class=\"col-sm-2 control-label\">\n",
       "\t\t\t\t\t\t\t\t\t\t\t\t\t\t\t\t\t\t\t\t\t표제</label>\n",
       "<div class=\"col-sm-10\">\n",
       "\t\t\t\t\t\t\t\t\t\t\t\t\t\t\t\t\t\t\t\t\t자존감 수업</div>\n",
       "</div>\n",
       "<div class=\"form-group\">\n",
       "<label class=\"col-sm-2 control-label\">\n",
       "\t\t\t\t\t\t\t\t\t\t\t\t\t\t\t\t\t\t\t\t\t연관저록</label>\n",
       "<div class=\"col-sm-10\">\n",
       "<a href=\"javascript:data_tail_search_submit('RNO','408401');\" style=\"text-decoration:underline;\">408401</a>\n",
       "<br/>\n",
       "</div>\n",
       "</div>\n",
       "</div>\n",
       "</div>\n",
       "<div class=\"data_view_bottom col-sm-12\">\n",
       "</div>\n",
       "</div>\n",
       "</div>\n",
       "<hr/>\n",
       "<!-- 연속간행물의 타기관 소장사항 탭 시작 -->\n",
       "<!-- //연속간행물의 타기관 소장사항 탭 끝 -->\n",
       "<!-- //연속간행물 소장사항 끝 -->\n",
       "<!-- 타기관 소장사항 탭 시작 -->\n",
       "<ul class=\"nav nav-tabs\">\n",
       "</ul>\n",
       "<!-- //타기관 소장사항 탭 끝 -->\n",
       "<h4 class=\"sub_title\"><i aria-hidden=\"true\" class=\"fa fa-chevron-circle-right\"></i> \n",
       "\t\t\t\t\t\t\t\t\t\t\t\t\t\t\t소장사항 : <span class=\"BookLocName\">대진대학교 중앙도서관</span>\n",
       "</h4>\n",
       "<div class=\"table_list_default table_list_responsive table_data_box\">\n",
       "<table class=\"table table-condensed table_data_view\">\n",
       "<caption>소장사항</caption>\n",
       "<colgroup class=\"hidden-xs hidden-sm\">\n",
       "<col style=\"width: 120px;\"/>\n",
       "<col style=\"width: ;\"/>\n",
       "<col style=\"width: 100px;\"/>\n",
       "<col style=\"width: 130px;\"/>\n",
       "<col style=\"width: 120px;\"/>\n",
       "<col style=\"width: 100px;\"/>\n",
       "<col style=\"width: 80px;\"/>\n",
       "</colgroup>\n",
       "<colgroup class=\"visible-xs-block visible-sm-block\">\n",
       "<col style=\"width: ;\"/>\n",
       "<col style=\"width: 100px;\"/>\n",
       "<col style=\"width: 70px;\"/>\n",
       "</colgroup>\n",
       "<thead class=\"hidden-xs hidden-sm\">\n",
       "<tr>\n",
       "<th>등록번호</th>\n",
       "<th class=\"hidden-xs hidden-sm\">소장위치</th>\n",
       "<th class=\"hidden-xs hidden-sm\">별치기호</th>\n",
       "<th class=\"hidden-xs hidden-sm\">청구기호</th>\n",
       "<th class=\"hidden-xs hidden-sm\">도서상태</th>\n",
       "<th class=\"hidden-xs hidden-sm\">반납예정일</th>\n",
       "<th>예약</th>\n",
       "</tr>\n",
       "</thead>\n",
       "<tbody>\n",
       "<tr>\n",
       "<td class=\"table_data_view_list\">\n",
       "<span class=\"hidden-xs hidden-sm\">\n",
       "\t\t\t\t\t\t\t\t\t\t\t\t\t\t\t\t\t\t\t\t\t\tE425479<br/>\n",
       "</span>\n",
       "<ul class=\"mobile_board_info visible-xs-block visible-sm-block\"><li>\n",
       "<span class=\"label-lendcheck\">대출가능</span>\n",
       "</li>\n",
       "<li>\n",
       "<strong>등록번호</strong> : \n",
       "\t\t\t\t\t\t\t\t\t\t\t\t\t\t\t\t\t\t\t\t\t\t\tE425479<br/>\n",
       "</li>\n",
       "<li>\n",
       "<strong>소장위치</strong> : \n",
       "\t\t\t\t\t\t\t\t\t\t\t\t\t\t\t\t\t\t\t\t\t\t\t종교철학자료실(3층)</li>\n",
       "<li>\n",
       "<strong>청구기호</strong> : <span class=\"table_data_view_callnumber\">155.2 윤95ㅈ  c.3</span>\n",
       "</li>\n",
       "</ul>\n",
       "</td>\n",
       "<td class=\"text-center hidden-xs hidden-sm\">\n",
       "\t\t\t\t\t\t\t\t\t\t\t\t\t\t\t\t\t\t\t\t\t종교철학자료실(3층)</td>\n",
       "<td class=\"text-center hidden-xs hidden-sm\"><span class=\"table_data_view_callnumber\"></span></td>\n",
       "<td class=\"text-center hidden-xs hidden-sm\">\n",
       "<span class=\"table_data_view_callnumber\">155.2 윤95ㅈ<br/> c.3</span>\n",
       "</td>\n",
       "<td class=\"text-center hidden-xs hidden-sm\">\n",
       "\t\t\t\t\t\t\t\t\t\t\t\t\t\t\t\t\t\t\t\t\t\n",
       "\t\t\t\t\t\t\t\t\t\t\t\t\t\t\t\t\t\t\t\t\t\t\t대출가능\n",
       "\t\t\t\t\t\t\t\t\t\t\t\t\t\t\t\t\t\t\t\t\t\t</td>\n",
       "<td class=\"text-center hidden-xs hidden-sm\">\n",
       "\t\t\t\t\t\t\t\t\t\t\t\t\t\t\t\t\t\t\t\t\t-</td>\n",
       "<td class=\"table_data_view_reservation\" rowspan=\"6\">\n",
       "<br/>\n",
       "\t\t\t\t\t\t\t\t\t\t\t\t\t\t\t\t\t\t\t\t\t\t\t\n",
       "\t\t\t\t\t\t\t\t\t\t\t\t\t\t\t\t\t\t\t\t\t\t\t\t\t-\n",
       "\t\t\t\t\t\t\t\t\t\t\t\t\t\t\t\t\t\t\t\t\t\t\t\t</td>\n",
       "</tr>\n",
       "<tr>\n",
       "<td class=\"table_data_view_list\">\n",
       "<span class=\"hidden-xs hidden-sm\">\n",
       "\t\t\t\t\t\t\t\t\t\t\t\t\t\t\t\t\t\t\t\t\t\tE425734<br/>\n",
       "</span>\n",
       "<ul class=\"mobile_board_info visible-xs-block visible-sm-block\"><li>\n",
       "<span class=\"label-lendcheck\">대출가능</span>\n",
       "</li>\n",
       "<li>\n",
       "<strong>등록번호</strong> : \n",
       "\t\t\t\t\t\t\t\t\t\t\t\t\t\t\t\t\t\t\t\t\t\t\tE425734<br/>\n",
       "</li>\n",
       "<li>\n",
       "<strong>소장위치</strong> : \n",
       "\t\t\t\t\t\t\t\t\t\t\t\t\t\t\t\t\t\t\t\t\t\t\t종교철학자료실(3층)</li>\n",
       "<li>\n",
       "<strong>청구기호</strong> : <span class=\"table_data_view_callnumber\">155.2 윤95ㅈ  c.4</span>\n",
       "</li>\n",
       "</ul>\n",
       "</td>\n",
       "<td class=\"text-center hidden-xs hidden-sm\">\n",
       "\t\t\t\t\t\t\t\t\t\t\t\t\t\t\t\t\t\t\t\t\t종교철학자료실(3층)</td>\n",
       "<td class=\"text-center hidden-xs hidden-sm\"><span class=\"table_data_view_callnumber\"></span></td>\n",
       "<td class=\"text-center hidden-xs hidden-sm\">\n",
       "<span class=\"table_data_view_callnumber\">155.2 윤95ㅈ<br/> c.4</span>\n",
       "</td>\n",
       "<td class=\"text-center hidden-xs hidden-sm\">\n",
       "\t\t\t\t\t\t\t\t\t\t\t\t\t\t\t\t\t\t\t\t\t\n",
       "\t\t\t\t\t\t\t\t\t\t\t\t\t\t\t\t\t\t\t\t\t\t\t대출가능\n",
       "\t\t\t\t\t\t\t\t\t\t\t\t\t\t\t\t\t\t\t\t\t\t</td>\n",
       "<td class=\"text-center hidden-xs hidden-sm\">\n",
       "\t\t\t\t\t\t\t\t\t\t\t\t\t\t\t\t\t\t\t\t\t-</td>\n",
       "</tr>\n",
       "<tr>\n",
       "<td class=\"table_data_view_list\">\n",
       "<span class=\"hidden-xs hidden-sm\">\n",
       "\t\t\t\t\t\t\t\t\t\t\t\t\t\t\t\t\t\t\t\t\t\tE425735<br/>\n",
       "</span>\n",
       "<ul class=\"mobile_board_info visible-xs-block visible-sm-block\"><li>\n",
       "<span class=\"label-lendcheck\">대출가능</span>\n",
       "</li>\n",
       "<li>\n",
       "<strong>등록번호</strong> : \n",
       "\t\t\t\t\t\t\t\t\t\t\t\t\t\t\t\t\t\t\t\t\t\t\tE425735<br/>\n",
       "</li>\n",
       "<li>\n",
       "<strong>소장위치</strong> : \n",
       "\t\t\t\t\t\t\t\t\t\t\t\t\t\t\t\t\t\t\t\t\t\t\t종교철학자료실(3층)</li>\n",
       "<li>\n",
       "<strong>청구기호</strong> : <span class=\"table_data_view_callnumber\">155.2 윤95ㅈ  c.5</span>\n",
       "</li>\n",
       "</ul>\n",
       "</td>\n",
       "<td class=\"text-center hidden-xs hidden-sm\">\n",
       "\t\t\t\t\t\t\t\t\t\t\t\t\t\t\t\t\t\t\t\t\t종교철학자료실(3층)</td>\n",
       "<td class=\"text-center hidden-xs hidden-sm\"><span class=\"table_data_view_callnumber\"></span></td>\n",
       "<td class=\"text-center hidden-xs hidden-sm\">\n",
       "<span class=\"table_data_view_callnumber\">155.2 윤95ㅈ<br/> c.5</span>\n",
       "</td>\n",
       "<td class=\"text-center hidden-xs hidden-sm\">\n",
       "\t\t\t\t\t\t\t\t\t\t\t\t\t\t\t\t\t\t\t\t\t\n",
       "\t\t\t\t\t\t\t\t\t\t\t\t\t\t\t\t\t\t\t\t\t\t\t대출가능\n",
       "\t\t\t\t\t\t\t\t\t\t\t\t\t\t\t\t\t\t\t\t\t\t</td>\n",
       "<td class=\"text-center hidden-xs hidden-sm\">\n",
       "\t\t\t\t\t\t\t\t\t\t\t\t\t\t\t\t\t\t\t\t\t-</td>\n",
       "</tr>\n",
       "<tr>\n",
       "<td class=\"table_data_view_list\">\n",
       "<span class=\"hidden-xs hidden-sm\">\n",
       "\t\t\t\t\t\t\t\t\t\t\t\t\t\t\t\t\t\t\t\t\t\tE614978<br/>\n",
       "</span>\n",
       "<ul class=\"mobile_board_info visible-xs-block visible-sm-block\"><li>\n",
       "<span class=\"label-lendcheck\">대출가능</span>\n",
       "</li>\n",
       "<li>\n",
       "<strong>등록번호</strong> : \n",
       "\t\t\t\t\t\t\t\t\t\t\t\t\t\t\t\t\t\t\t\t\t\t\tE614978<br/>\n",
       "</li>\n",
       "<li>\n",
       "<strong>소장위치</strong> : \n",
       "\t\t\t\t\t\t\t\t\t\t\t\t\t\t\t\t\t\t\t\t\t\t\t종교철학자료실(3층)</li>\n",
       "<li>\n",
       "<strong>청구기호</strong> : <span class=\"table_data_view_callnumber\">155.2 윤95ㅈ  </span>\n",
       "</li>\n",
       "</ul>\n",
       "</td>\n",
       "<td class=\"text-center hidden-xs hidden-sm\">\n",
       "\t\t\t\t\t\t\t\t\t\t\t\t\t\t\t\t\t\t\t\t\t종교철학자료실(3층)</td>\n",
       "<td class=\"text-center hidden-xs hidden-sm\"><span class=\"table_data_view_callnumber\"></span></td>\n",
       "<td class=\"text-center hidden-xs hidden-sm\">\n",
       "<span class=\"table_data_view_callnumber\">155.2 윤95ㅈ<br/> </span>\n",
       "</td>\n",
       "<td class=\"text-center hidden-xs hidden-sm\">\n",
       "\t\t\t\t\t\t\t\t\t\t\t\t\t\t\t\t\t\t\t\t\t\n",
       "\t\t\t\t\t\t\t\t\t\t\t\t\t\t\t\t\t\t\t\t\t\t\t대출가능\n",
       "\t\t\t\t\t\t\t\t\t\t\t\t\t\t\t\t\t\t\t\t\t\t</td>\n",
       "<td class=\"text-center hidden-xs hidden-sm\">\n",
       "\t\t\t\t\t\t\t\t\t\t\t\t\t\t\t\t\t\t\t\t\t-</td>\n",
       "</tr>\n",
       "<tr>\n",
       "<td class=\"table_data_view_list\">\n",
       "<span class=\"hidden-xs hidden-sm\">\n",
       "\t\t\t\t\t\t\t\t\t\t\t\t\t\t\t\t\t\t\t\t\t\tE615236<br/>\n",
       "</span>\n",
       "<ul class=\"mobile_board_info visible-xs-block visible-sm-block\"><li>\n",
       "<span class=\"label-lendcheck\">대출가능</span>\n",
       "</li>\n",
       "<li>\n",
       "<strong>등록번호</strong> : \n",
       "\t\t\t\t\t\t\t\t\t\t\t\t\t\t\t\t\t\t\t\t\t\t\tE615236<br/>\n",
       "</li>\n",
       "<li>\n",
       "<strong>소장위치</strong> : \n",
       "\t\t\t\t\t\t\t\t\t\t\t\t\t\t\t\t\t\t\t\t\t\t\t종교철학자료실(3층)</li>\n",
       "<li>\n",
       "<strong>청구기호</strong> : <span class=\"table_data_view_callnumber\">155.2 윤95ㅈ  c.2</span>\n",
       "</li>\n",
       "</ul>\n",
       "</td>\n",
       "<td class=\"text-center hidden-xs hidden-sm\">\n",
       "\t\t\t\t\t\t\t\t\t\t\t\t\t\t\t\t\t\t\t\t\t종교철학자료실(3층)</td>\n",
       "<td class=\"text-center hidden-xs hidden-sm\"><span class=\"table_data_view_callnumber\"></span></td>\n",
       "<td class=\"text-center hidden-xs hidden-sm\">\n",
       "<span class=\"table_data_view_callnumber\">155.2 윤95ㅈ<br/> c.2</span>\n",
       "</td>\n",
       "<td class=\"text-center hidden-xs hidden-sm\">\n",
       "\t\t\t\t\t\t\t\t\t\t\t\t\t\t\t\t\t\t\t\t\t\n",
       "\t\t\t\t\t\t\t\t\t\t\t\t\t\t\t\t\t\t\t\t\t\t\t대출가능\n",
       "\t\t\t\t\t\t\t\t\t\t\t\t\t\t\t\t\t\t\t\t\t\t</td>\n",
       "<td class=\"text-center hidden-xs hidden-sm\">\n",
       "\t\t\t\t\t\t\t\t\t\t\t\t\t\t\t\t\t\t\t\t\t-</td>\n",
       "</tr>\n",
       "<tr>\n",
       "<td class=\"table_data_view_list\">\n",
       "<span class=\"hidden-xs hidden-sm\">\n",
       "\t\t\t\t\t\t\t\t\t\t\t\t\t\t\t\t\t\t\t\t\t\tE634128<br/>\n",
       "</span>\n",
       "<ul class=\"mobile_board_info visible-xs-block visible-sm-block\"><li>\n",
       "<span class=\"label-lendcheck\">대출가능</span>\n",
       "</li>\n",
       "<li>\n",
       "<strong>등록번호</strong> : \n",
       "\t\t\t\t\t\t\t\t\t\t\t\t\t\t\t\t\t\t\t\t\t\t\tE634128<br/>\n",
       "</li>\n",
       "<li>\n",
       "<strong>소장위치</strong> : \n",
       "\t\t\t\t\t\t\t\t\t\t\t\t\t\t\t\t\t\t\t\t\t\t\t종교철학자료실(3층)</li>\n",
       "<li>\n",
       "<strong>청구기호</strong> : <span class=\"table_data_view_callnumber\">155.2 윤95ㅈ  c.6</span>\n",
       "</li>\n",
       "</ul>\n",
       "</td>\n",
       "<td class=\"text-center hidden-xs hidden-sm\">\n",
       "\t\t\t\t\t\t\t\t\t\t\t\t\t\t\t\t\t\t\t\t\t종교철학자료실(3층)</td>\n",
       "<td class=\"text-center hidden-xs hidden-sm\"><span class=\"table_data_view_callnumber\"></span></td>\n",
       "<td class=\"text-center hidden-xs hidden-sm\">\n",
       "<span class=\"table_data_view_callnumber\">155.2 윤95ㅈ<br/> c.6</span>\n",
       "</td>\n",
       "<td class=\"text-center hidden-xs hidden-sm\">\n",
       "\t\t\t\t\t\t\t\t\t\t\t\t\t\t\t\t\t\t\t\t\t\n",
       "\t\t\t\t\t\t\t\t\t\t\t\t\t\t\t\t\t\t\t\t\t\t\t대출가능\n",
       "\t\t\t\t\t\t\t\t\t\t\t\t\t\t\t\t\t\t\t\t\t\t</td>\n",
       "<td class=\"text-center hidden-xs hidden-sm\">\n",
       "\t\t\t\t\t\t\t\t\t\t\t\t\t\t\t\t\t\t\t\t\t-</td>\n",
       "</tr>\n",
       "</tbody>\n",
       "</table>\n",
       "<div class=\"table_data_box_btn text-center\" style=\"margin-bottom: 10px;\">\n",
       "<span class=\"hidden-xs hidden-sm\"><button class=\"btn btn_mir_prss btn-sm\" onclick=\"data_search_z_print('384298','DJUL');\" type=\"button\"><i class=\"fa fa-print\"></i> 청구기호 출력</button></span>\n",
       "</div>\n",
       "</div>\n",
       "<hr/>\n",
       "<!-- 도서 키워드 목록 시작 -->\n",
       "<!-- // 도서 키워드 목록 끝 -->\n",
       "<!-- 지역별 도서 순위 시작 -->\n",
       "<!-- // 지역별 도서 순위 끝 -->\n",
       "<!-- 연령별 도서 순위 시작 -->\n",
       "<!-- // 연령별 도서 순위 끝 -->\n",
       "<!-- 문의 시작  -->\n",
       "<!-- // 문의 끝 -->\n",
       "</section>\n",
       "</div>\n",
       "</div>\n",
       "</section>\n",
       "<hr/>\n",
       "</div>\n",
       "</form>\n",
       "<form action=\"/data_data_list.mir\" method=\"get\" name=\"data_tail_search_frm\" style=\"display:none;\">\n",
       "<input name=\"search_keyword_type1\" type=\"hidden\" value=\"\"/>\n",
       "<input name=\"search_keyword1\" type=\"hidden\" value=\"\"/>\n",
       "</form>\n",
       "</div>\n",
       "<div class=\"col-md-3 col-sm-4\" id=\"content_sidenav_right\">\n",
       "<nav class=\"sidenav\"> <div id=\"data_data_lend_best_scope\">\n",
       "<!-- 이 분야 대출 BEST 시작 -->\n",
       "<div class=\"book_state_best\">\n",
       "<div class=\"book_state_best_title\"><i class=\"fa fa-trophy\"></i> 이 분야 대출 BEST</div>\n",
       "<div class=\"book_state_best_content\">\n",
       "<ul class=\"book_state_best_list\">\n",
       "<li>\n",
       "<a href=\"#link\" onclick=\"do_search_report('434065','','');\">\n",
       "<p class=\"book_img\"><img alt=\"팩트풀니스 :우리가 세상을 오해하는 10가지 이유와 세상이 생각보다 괜찮은 이유\" src=\"https://bimage.interpark.com/goods_image/1/0/1/1/301771011s.jpg\" style=\"width:50px;\"/></p>\n",
       "<dl class=\"book_info\">\n",
       "<dt>팩트풀니스 :우리가 세상을 오해하는 10가지 이유와 세상이 생각보다 괜찮은 이유</dt>\n",
       "<dd>Rosling, Hans,Rosling, Ola,Ronnlund, Anna Rosling,이창신</dd>\n",
       "<dd>김영사,</dd>\n",
       "</dl>\n",
       "</a>\n",
       "</li>\n",
       "<li>\n",
       "<a href=\"#link\" onclick=\"do_search_report('219340','','');\">\n",
       "<p class=\"book_img\"><img alt=\"꾸뻬 씨의 행복 여행\" src=\"https://bimage.interpark.com/goods_image/5/5/8/6/2225586s.jpg\" style=\"width:50px;\"/></p>\n",
       "<dl class=\"book_info\">\n",
       "<dt>꾸뻬 씨의 행복 여행</dt>\n",
       "<dd>Lelord, Francois,오유란,프랑수아 를로르,베아트리체 리</dd>\n",
       "<dd>오래된미래,</dd>\n",
       "</dl>\n",
       "</a>\n",
       "</li>\n",
       "</ul>\n",
       "</div>\n",
       "</div></div> </nav></div>\n",
       "</div>\n",
       "</section>\n",
       "<hr/>\n",
       "</section>\n",
       "</section>\n",
       "<div class=\"modal fade\" id=\"modal_mir\" role=\"dialog\"></div>\n",
       "<div class=\"modal fade\" id=\"modal_mir_etc\" role=\"dialog\"></div>\n",
       "<hr/> <footer> <div class=\"footer_top\"> <div class=\"top_box\"> <ul class=\"footer_list\"> <li><a href=\"http://www.daejin.ac.kr/contents/www/cor/privacy_1.html\" target=\"_blank\">개인정보처리방침</a></li> <li><a href=\"#\" onclick=\"home_menu('intro_map');\">찾아오시는길</a></li> </ul> <div class=\"dropup site_link\"> <button aria-expanded=\"false\" aria-haspopup=\"true\" class=\"btn btn-default dropdown-toggle\" data-toggle=\"dropdown\" id=\"sitelink\" type=\"button\"> <span class=\"name\">교내주요기관</span> <span class=\"caret\"></span> </button> <ul aria-labelledby=\"sitelink\" class=\"dropdown-menu\"> <li><a href=\"http://www.daejin.ac.kr/index.do?sso=ok\" target=\"_blank\">대진대학교</a></li> <li><a href=\"http://grad.daejin.ac.kr/gradindex.do\" target=\"_blank\">대학원</a></li> <li><a href=\"https://cce.daejin.ac.kr/html/main/\" target=\"_blank\">평생교육원</a></li> <li><a href=\"http://career.daejin.ac.kr/UniJobCenter/UniJobCenterMain.aspx\" target=\"_blank\">취업지원팀</a></li> <li><a href=\"http://ctl.daejin.ac.kr/ctlindex.do\" target=\"_blank\">교수학습지원센터</a></li> <li><a href=\"http://comcenter.daejin.ac.kr/comcenterindex.do\" target=\"_blank\">정보전산원</a></li> <li><a href=\"http://tech.daejin.ac.kr/techindex.do\" target=\"_blank\">산학협력단</a></li> </ul> </div> </div> </div> <div class=\"footer_bottom\"> <div class=\"bottom_box\"> <p class=\"address\"> 우편번호 487-711 경기도 포천시 호국로 1007(선단동) 대진대학교 중앙도서관 TEL : 031-539-1165~6 </p> <p class=\"copyright\"> Copyright ⓒ by <strong>DAEJIN UNIVERSITY LIBRARY</strong>, All rights reserved </p> </div> </div> </footer> <hr/> <div id=\"loading\" style=\"display:none;\"> <i class=\"fa fa-spinner fa-spin fa-3x fa-fw\"></i> </div>\n",
       "<ul class=\"vakata-context\"></ul><div id=\"jstree-marker\" style=\"display: none;\"> </div></body></html>"
      ]
     },
     "execution_count": 26,
     "metadata": {},
     "output_type": "execute_result"
    }
   ],
   "source": [
    "soup"
   ]
  },
  {
   "cell_type": "code",
   "execution_count": null,
   "metadata": {},
   "outputs": [],
   "source": []
  },
  {
   "cell_type": "code",
   "execution_count": null,
   "metadata": {},
   "outputs": [],
   "source": []
  },
  {
   "cell_type": "code",
   "execution_count": 22,
   "metadata": {},
   "outputs": [
    {
     "ename": "StaleElementReferenceException",
     "evalue": "Message: stale element reference: element is not attached to the page document\n  (Session info: headless chrome=80.0.3987.163)\n",
     "output_type": "error",
     "traceback": [
      "\u001b[1;31m---------------------------------------------------------------------------\u001b[0m",
      "\u001b[1;31mStaleElementReferenceException\u001b[0m            Traceback (most recent call last)",
      "\u001b[1;32m<ipython-input-22-6cbd96748fda>\u001b[0m in \u001b[0;36m<module>\u001b[1;34m\u001b[0m\n\u001b[1;32m----> 1\u001b[1;33m \u001b[0mt\u001b[0m\u001b[1;33m.\u001b[0m\u001b[0mtext\u001b[0m\u001b[1;33m\u001b[0m\u001b[1;33m\u001b[0m\u001b[0m\n\u001b[0m",
      "\u001b[1;32m~\\anaconda3\\lib\\site-packages\\selenium\\webdriver\\remote\\webelement.py\u001b[0m in \u001b[0;36mtext\u001b[1;34m(self)\u001b[0m\n\u001b[0;32m     74\u001b[0m     \u001b[1;32mdef\u001b[0m \u001b[0mtext\u001b[0m\u001b[1;33m(\u001b[0m\u001b[0mself\u001b[0m\u001b[1;33m)\u001b[0m\u001b[1;33m:\u001b[0m\u001b[1;33m\u001b[0m\u001b[1;33m\u001b[0m\u001b[0m\n\u001b[0;32m     75\u001b[0m         \u001b[1;34m\"\"\"The text of the element.\"\"\"\u001b[0m\u001b[1;33m\u001b[0m\u001b[1;33m\u001b[0m\u001b[0m\n\u001b[1;32m---> 76\u001b[1;33m         \u001b[1;32mreturn\u001b[0m \u001b[0mself\u001b[0m\u001b[1;33m.\u001b[0m\u001b[0m_execute\u001b[0m\u001b[1;33m(\u001b[0m\u001b[0mCommand\u001b[0m\u001b[1;33m.\u001b[0m\u001b[0mGET_ELEMENT_TEXT\u001b[0m\u001b[1;33m)\u001b[0m\u001b[1;33m[\u001b[0m\u001b[1;34m'value'\u001b[0m\u001b[1;33m]\u001b[0m\u001b[1;33m\u001b[0m\u001b[1;33m\u001b[0m\u001b[0m\n\u001b[0m\u001b[0;32m     77\u001b[0m \u001b[1;33m\u001b[0m\u001b[0m\n\u001b[0;32m     78\u001b[0m     \u001b[1;32mdef\u001b[0m \u001b[0mclick\u001b[0m\u001b[1;33m(\u001b[0m\u001b[0mself\u001b[0m\u001b[1;33m)\u001b[0m\u001b[1;33m:\u001b[0m\u001b[1;33m\u001b[0m\u001b[1;33m\u001b[0m\u001b[0m\n",
      "\u001b[1;32m~\\anaconda3\\lib\\site-packages\\selenium\\webdriver\\remote\\webelement.py\u001b[0m in \u001b[0;36m_execute\u001b[1;34m(self, command, params)\u001b[0m\n\u001b[0;32m    631\u001b[0m             \u001b[0mparams\u001b[0m \u001b[1;33m=\u001b[0m \u001b[1;33m{\u001b[0m\u001b[1;33m}\u001b[0m\u001b[1;33m\u001b[0m\u001b[1;33m\u001b[0m\u001b[0m\n\u001b[0;32m    632\u001b[0m         \u001b[0mparams\u001b[0m\u001b[1;33m[\u001b[0m\u001b[1;34m'id'\u001b[0m\u001b[1;33m]\u001b[0m \u001b[1;33m=\u001b[0m \u001b[0mself\u001b[0m\u001b[1;33m.\u001b[0m\u001b[0m_id\u001b[0m\u001b[1;33m\u001b[0m\u001b[1;33m\u001b[0m\u001b[0m\n\u001b[1;32m--> 633\u001b[1;33m         \u001b[1;32mreturn\u001b[0m \u001b[0mself\u001b[0m\u001b[1;33m.\u001b[0m\u001b[0m_parent\u001b[0m\u001b[1;33m.\u001b[0m\u001b[0mexecute\u001b[0m\u001b[1;33m(\u001b[0m\u001b[0mcommand\u001b[0m\u001b[1;33m,\u001b[0m \u001b[0mparams\u001b[0m\u001b[1;33m)\u001b[0m\u001b[1;33m\u001b[0m\u001b[1;33m\u001b[0m\u001b[0m\n\u001b[0m\u001b[0;32m    634\u001b[0m \u001b[1;33m\u001b[0m\u001b[0m\n\u001b[0;32m    635\u001b[0m     \u001b[1;32mdef\u001b[0m \u001b[0mfind_element\u001b[0m\u001b[1;33m(\u001b[0m\u001b[0mself\u001b[0m\u001b[1;33m,\u001b[0m \u001b[0mby\u001b[0m\u001b[1;33m=\u001b[0m\u001b[0mBy\u001b[0m\u001b[1;33m.\u001b[0m\u001b[0mID\u001b[0m\u001b[1;33m,\u001b[0m \u001b[0mvalue\u001b[0m\u001b[1;33m=\u001b[0m\u001b[1;32mNone\u001b[0m\u001b[1;33m)\u001b[0m\u001b[1;33m:\u001b[0m\u001b[1;33m\u001b[0m\u001b[1;33m\u001b[0m\u001b[0m\n",
      "\u001b[1;32m~\\anaconda3\\lib\\site-packages\\selenium\\webdriver\\remote\\webdriver.py\u001b[0m in \u001b[0;36mexecute\u001b[1;34m(self, driver_command, params)\u001b[0m\n\u001b[0;32m    319\u001b[0m         \u001b[0mresponse\u001b[0m \u001b[1;33m=\u001b[0m \u001b[0mself\u001b[0m\u001b[1;33m.\u001b[0m\u001b[0mcommand_executor\u001b[0m\u001b[1;33m.\u001b[0m\u001b[0mexecute\u001b[0m\u001b[1;33m(\u001b[0m\u001b[0mdriver_command\u001b[0m\u001b[1;33m,\u001b[0m \u001b[0mparams\u001b[0m\u001b[1;33m)\u001b[0m\u001b[1;33m\u001b[0m\u001b[1;33m\u001b[0m\u001b[0m\n\u001b[0;32m    320\u001b[0m         \u001b[1;32mif\u001b[0m \u001b[0mresponse\u001b[0m\u001b[1;33m:\u001b[0m\u001b[1;33m\u001b[0m\u001b[1;33m\u001b[0m\u001b[0m\n\u001b[1;32m--> 321\u001b[1;33m             \u001b[0mself\u001b[0m\u001b[1;33m.\u001b[0m\u001b[0merror_handler\u001b[0m\u001b[1;33m.\u001b[0m\u001b[0mcheck_response\u001b[0m\u001b[1;33m(\u001b[0m\u001b[0mresponse\u001b[0m\u001b[1;33m)\u001b[0m\u001b[1;33m\u001b[0m\u001b[1;33m\u001b[0m\u001b[0m\n\u001b[0m\u001b[0;32m    322\u001b[0m             response['value'] = self._unwrap_value(\n\u001b[0;32m    323\u001b[0m                 response.get('value', None))\n",
      "\u001b[1;32m~\\anaconda3\\lib\\site-packages\\selenium\\webdriver\\remote\\errorhandler.py\u001b[0m in \u001b[0;36mcheck_response\u001b[1;34m(self, response)\u001b[0m\n\u001b[0;32m    240\u001b[0m                 \u001b[0malert_text\u001b[0m \u001b[1;33m=\u001b[0m \u001b[0mvalue\u001b[0m\u001b[1;33m[\u001b[0m\u001b[1;34m'alert'\u001b[0m\u001b[1;33m]\u001b[0m\u001b[1;33m.\u001b[0m\u001b[0mget\u001b[0m\u001b[1;33m(\u001b[0m\u001b[1;34m'text'\u001b[0m\u001b[1;33m)\u001b[0m\u001b[1;33m\u001b[0m\u001b[1;33m\u001b[0m\u001b[0m\n\u001b[0;32m    241\u001b[0m             \u001b[1;32mraise\u001b[0m \u001b[0mexception_class\u001b[0m\u001b[1;33m(\u001b[0m\u001b[0mmessage\u001b[0m\u001b[1;33m,\u001b[0m \u001b[0mscreen\u001b[0m\u001b[1;33m,\u001b[0m \u001b[0mstacktrace\u001b[0m\u001b[1;33m,\u001b[0m \u001b[0malert_text\u001b[0m\u001b[1;33m)\u001b[0m\u001b[1;33m\u001b[0m\u001b[1;33m\u001b[0m\u001b[0m\n\u001b[1;32m--> 242\u001b[1;33m         \u001b[1;32mraise\u001b[0m \u001b[0mexception_class\u001b[0m\u001b[1;33m(\u001b[0m\u001b[0mmessage\u001b[0m\u001b[1;33m,\u001b[0m \u001b[0mscreen\u001b[0m\u001b[1;33m,\u001b[0m \u001b[0mstacktrace\u001b[0m\u001b[1;33m)\u001b[0m\u001b[1;33m\u001b[0m\u001b[1;33m\u001b[0m\u001b[0m\n\u001b[0m\u001b[0;32m    243\u001b[0m \u001b[1;33m\u001b[0m\u001b[0m\n\u001b[0;32m    244\u001b[0m     \u001b[1;32mdef\u001b[0m \u001b[0m_value_or_default\u001b[0m\u001b[1;33m(\u001b[0m\u001b[0mself\u001b[0m\u001b[1;33m,\u001b[0m \u001b[0mobj\u001b[0m\u001b[1;33m,\u001b[0m \u001b[0mkey\u001b[0m\u001b[1;33m,\u001b[0m \u001b[0mdefault\u001b[0m\u001b[1;33m)\u001b[0m\u001b[1;33m:\u001b[0m\u001b[1;33m\u001b[0m\u001b[1;33m\u001b[0m\u001b[0m\n",
      "\u001b[1;31mStaleElementReferenceException\u001b[0m: Message: stale element reference: element is not attached to the page document\n  (Session info: headless chrome=80.0.3987.163)\n"
     ]
    }
   ],
   "source": [
    "t.text"
   ]
  },
  {
   "cell_type": "code",
   "execution_count": 8,
   "metadata": {},
   "outputs": [],
   "source": [
    "result = t.click()"
   ]
  },
  {
   "cell_type": "code",
   "execution_count": 9,
   "metadata": {},
   "outputs": [
    {
     "data": {
      "text/plain": [
       "NoneType"
      ]
     },
     "execution_count": 9,
     "metadata": {},
     "output_type": "execute_result"
    }
   ],
   "source": [
    "type(result)"
   ]
  },
  {
   "cell_type": "code",
   "execution_count": null,
   "metadata": {},
   "outputs": [],
   "source": []
  }
 ],
 "metadata": {
  "kernelspec": {
   "display_name": "Python 3",
   "language": "python",
   "name": "python3"
  },
  "language_info": {
   "codemirror_mode": {
    "name": "ipython",
    "version": 3
   },
   "file_extension": ".py",
   "mimetype": "text/x-python",
   "name": "python",
   "nbconvert_exporter": "python",
   "pygments_lexer": "ipython3",
   "version": "3.7.6"
  }
 },
 "nbformat": 4,
 "nbformat_minor": 4
}
