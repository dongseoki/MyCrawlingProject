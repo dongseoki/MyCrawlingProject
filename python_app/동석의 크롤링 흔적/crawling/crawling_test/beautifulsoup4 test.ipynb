{
 "cells": [
  {
   "cell_type": "code",
   "execution_count": 1,
   "metadata": {},
   "outputs": [],
   "source": [
    "from urllib.request import urlopen\n",
    "from bs4 import BeautifulSoup\n",
    "import re\n",
    "import sys, traceback"
   ]
  },
  {
   "cell_type": "code",
   "execution_count": 2,
   "metadata": {},
   "outputs": [],
   "source": [
    "searchUrl = \"https://lib.smu.ac.kr/Search/?q=%ec%82%ac%eb%9e%8c&searchTruncate=true&campuscode=00\"\n",
    "#1. 접속.\n",
    "html = urlopen(searchUrl)\n",
    "bsObject = BeautifulSoup(html, \"html.parser\")\n",
    "#2. 링크를 차곡차곡저장.\n",
    "# 정규식을 이용하여 저장...!!\n",
    "bookLinklist =[]\n",
    "bookResultList = bsObject.find_all('div', class_='search-list-result')"
   ]
  },
  {
   "cell_type": "code",
   "execution_count": 16,
   "metadata": {},
   "outputs": [],
   "source": [
    "result = bookResultList[0].find('label', {'class':'hide'})\n",
    "#result = bookResultList[0].find('label', {'class':'hide', 'for': 'checkbox12'})"
   ]
  },
  {
   "cell_type": "code",
   "execution_count": 17,
   "metadata": {},
   "outputs": [
    {
     "data": {
      "text/plain": [
       "'조세법 핵심판례 : 2019 세법학 완벽대비 선택'"
      ]
     },
     "execution_count": 17,
     "metadata": {},
     "output_type": "execute_result"
    }
   ],
   "source": [
    "result.text.strip()"
   ]
  },
  {
   "cell_type": "code",
   "execution_count": 29,
   "metadata": {},
   "outputs": [],
   "source": [
    "result_link_list = bookResultList[0].find('div', {'class','sponge-list-content'}).find('a')\n",
    "#result_link_list = bookResultList[0].find('div', {'class','search-list-checkbox'}).find('div', {'class', 'sponge-list-content'})\n"
   ]
  },
  {
   "cell_type": "code",
   "execution_count": 30,
   "metadata": {},
   "outputs": [
    {
     "data": {
      "text/plain": [
       "<a href=\"/Search/Detail/834548?key=%ec%82%ac%eb%9e%8c&amp;campuscode=00\">\n",
       "조세법 핵심판례 : 2019 세법학 완벽대비                    </a>"
      ]
     },
     "execution_count": 30,
     "metadata": {},
     "output_type": "execute_result"
    }
   ],
   "source": [
    "result_link_list"
   ]
  },
  {
   "cell_type": "code",
   "execution_count": 31,
   "metadata": {},
   "outputs": [
    {
     "data": {
      "text/plain": [
       "'/Search/Detail/834548?key=%ec%82%ac%eb%9e%8c&campuscode=00'"
      ]
     },
     "execution_count": 31,
     "metadata": {},
     "output_type": "execute_result"
    }
   ],
   "source": [
    "result_link_list.get('href')"
   ]
  },
  {
   "cell_type": "code",
   "execution_count": 33,
   "metadata": {},
   "outputs": [
    {
     "data": {
      "text/plain": [
       "'조세법 핵심판례 : 2019 세법학 완벽대비'"
      ]
     },
     "execution_count": 33,
     "metadata": {},
     "output_type": "execute_result"
    }
   ],
   "source": [
    "result_link_list.text.strip()"
   ]
  },
  {
   "cell_type": "code",
   "execution_count": 22,
   "metadata": {},
   "outputs": [
    {
     "name": "stdout",
     "output_type": "stream",
     "text": [
      "<a class=\"sponge_thumbnails_image\" href=\"/Search/Detail/834548\">\n",
      "<img alt=\"조세법 핵심판례 : 2019 세법학 완벽대비\" onerror=\"javascript: this.src = '/Sponge/Images/bookDefaults/MMbookdefaultsmall.png'\" src=\"https://bookthumb-phinf.pstatic.net/cover/150/760/15076063.jpg?type=m1&amp;udate=20190730\"/>\n",
      "</a>\n",
      "<a href=\"/Search/Detail/834548?key=%ec%82%ac%eb%9e%8c&amp;campuscode=00\">\r\n",
      "조세법 핵심판례 : 2019 세법학 완벽대비                    </a>\n",
      "<a class=\"btn btn-xs btn-default\" href=\"/Naver/NaverDetail?isbn=9791157501311\" target=\"_blank\">\r\n",
      "                            Naver정보보기\r\n",
      "                        </a>\n",
      "<a href=\"/Print/?mastid=834548\" target=\"_blank\" title=\"새창\">\n",
      "<span class=\"label label-default label-sponge-button\">프린트</span>\n",
      "</a>\n",
      "<a href=\"/Search/MyFolder/834548\">\n",
      "<span class=\"label label-default label-sponge-button\">나의폴더</span>\n",
      "</a>\n",
      "<a href=\"javascript:doGetBooknavi(834548,00)\">\n",
      "<span class=\"label label-default label-sponge-button\">위치정보</span>\n",
      "</a>\n",
      "<a aria-expanded=\"false\" class=\"label-sponge-button-color mobile_none dropdown-toggle\" data-toggle=\"dropdown\" href=\"#\" role=\"button\">\n",
      "<span class=\"label label-default label-sponge-button\">소장정보</span>\n",
      "</a>\n"
     ]
    }
   ],
   "source": [
    "for item in result_link_list:\n",
    "    print(item)"
   ]
  },
  {
   "cell_type": "code",
   "execution_count": null,
   "metadata": {},
   "outputs": [],
   "source": []
  },
  {
   "cell_type": "code",
   "execution_count": null,
   "metadata": {},
   "outputs": [],
   "source": []
  },
  {
   "cell_type": "code",
   "execution_count": null,
   "metadata": {},
   "outputs": [],
   "source": [
    "searchUrl = \"https://lib.smu.ac.kr/Search/?q=%ec%82%ac%eb%9e%8c&searchTruncate=true&campuscode=00\"\n",
    "try:\n",
    "    #1. 접속.\n",
    "    html = urlopen(searchUrl)\n",
    "    bsObject = BeautifulSoup(html, \"html.parser\")\n",
    "    #2. 링크를 차곡차곡저장.\n",
    "    # 정규식을 이용하여 저장...!!\n",
    "    bookLinklist =[]\n",
    "    bookResultList = bsObject.find_all('div', class_='search-list-result')\n",
    "    for bookResult in bsObject.find_all('div', class_='search-list-result'):\n",
    "        bookResultString = str(bookResult)\n",
    "        title = findSubStringByRegEx(bookResultString, sid, 'title')\n",
    "        link = findSubStringByRegEx(bookResultString, sid, 'link')\n",
    "        bookLinklist.append([title, link])\n",
    "        print(title, link)\n",
    "    print(bookLinklist)\n",
    "\n",
    "    #3. 해당 링크를 방문하여라..!!\n",
    "    #Efor item in bookLinklist\n",
    "       visitLink(ISBN, sid, item[0], item[1])\n",
    "except AttributeError as e:\n",
    "    traceback.print_exc()\n",
    "    libraryLoanStatus.errorMessage = '해당 정규식에 포함되지 않는 예외케이스가 발생하였습니다. 정규식을 확인하고 수정하세요'\n",
    "finally:"
   ]
  },
  {
   "cell_type": "code",
   "execution_count": null,
   "metadata": {},
   "outputs": [],
   "source": []
  },
  {
   "cell_type": "code",
   "execution_count": null,
   "metadata": {},
   "outputs": [],
   "source": [
    "html = urlopen('http://lib.smu.ac.kr/Search/Detail/777677?key=9788988474839&campuscode=00')\n",
    "bsObject = BeautifulSoup(html, \"html.parser\")\n",
    "\n",
    "idx = 0\n",
    "for bookResult in bsObject.find_all('div', class_='sponge-guide-Box-table sponge-detail-table'):\n",
    "    \n",
    "    \n",
    "    for item in bookResult.find_all('tr'):\n",
    "        idx+=1\n",
    "        if idx == 1:\n",
    "            continue\n",
    "        print(item)\n",
    "        onething = item\n",
    "        break\n",
    "        print('--------------------------')\n",
    "    #print(bookResult)"
   ]
  },
  {
   "cell_type": "code",
   "execution_count": 88,
   "metadata": {},
   "outputs": [],
   "source": [
    "html = urlopen('http://lib.smu.ac.kr/Search/Detail/777677?key=9788988474839&campuscode=00')\n",
    "bsObject = BeautifulSoup(html, \"html.parser\")\n",
    "\n",
    "idx = 0\n",
    "itemList = bsObject.find('div', class_='sponge-guide-Box-table sponge-detail-table').find('tbody').find_all('tr')"
   ]
  },
  {
   "cell_type": "code",
   "execution_count": 89,
   "metadata": {},
   "outputs": [
    {
     "data": {
      "text/plain": [
       "3"
      ]
     },
     "execution_count": 89,
     "metadata": {},
     "output_type": "execute_result"
    }
   ],
   "source": [
    "len(itemList)"
   ]
  },
  {
   "cell_type": "code",
   "execution_count": null,
   "metadata": {},
   "outputs": [],
   "source": [
    "4. string 검색\n",
    "soup.find_all(string=\"Elsie\") # string 이 Elsie 인 것 찾기\n",
    "soup.find_all(string=[\"Tillie\", \"Elsie\", \"Lacie\"]) # or 검색\n",
    "soup.find_all(string=re.compile(\"Dormouse\")) # 정규식 이용"
   ]
  },
  {
   "cell_type": "code",
   "execution_count": 38,
   "metadata": {},
   "outputs": [],
   "source": [
    "content = loanStatusList[0].find_all('td')"
   ]
  },
  {
   "cell_type": "code",
   "execution_count": 39,
   "metadata": {},
   "outputs": [
    {
     "data": {
      "text/plain": [
       "5"
      ]
     },
     "execution_count": 39,
     "metadata": {},
     "output_type": "execute_result"
    }
   ],
   "source": [
    "len(content)"
   ]
  },
  {
   "cell_type": "code",
   "execution_count": 57,
   "metadata": {
    "scrolled": true
   },
   "outputs": [],
   "source": [
    "\n",
    "RN = content[0].text.strip()\n",
    "CN = content[1].text.strip()\n",
    "POS = content[2].text.strip()\n",
    "STATE_STRING = content[3].text.strip()\n",
    "RETURN_DUE_DATE = content[4].find_all('span', {'class', 'sponge-textcolor-red'})[1].text.strip()"
   ]
  },
  {
   "cell_type": "code",
   "execution_count": null,
   "metadata": {},
   "outputs": [],
   "source": [
    "#상명대 대출 가능 여부 문자열들.\n",
    "대출중( 1명, 예약중)\n",
    "대출중\n",
    "이용가능\n",
    "지정도서"
   ]
  },
  {
   "cell_type": "code",
   "execution_count": 82,
   "metadata": {},
   "outputs": [],
   "source": [
    "def find_BN(text):\n",
    "    if '예약' in text:\n",
    "        regex = re.compile('대출중\\s*\\(\\s+(\\d+)명')\n",
    "        matchObj = regex.search(text)\n",
    "        num = int(matchObj.group(1))\n",
    "        return num\n",
    "    else :\n",
    "        return 0"
   ]
  },
  {
   "cell_type": "code",
   "execution_count": 77,
   "metadata": {},
   "outputs": [
    {
     "data": {
      "text/plain": [
       "1"
      ]
     },
     "execution_count": 77,
     "metadata": {},
     "output_type": "execute_result"
    }
   ],
   "source": [
    "find_RESERVE_NUM('대출중( 1명, 예약중)')"
   ]
  },
  {
   "cell_type": "code",
   "execution_count": 83,
   "metadata": {},
   "outputs": [],
   "source": [
    "def find_STATE_BN(text):\n",
    "    if '대출중' in text:\n",
    "        return 0, find_BN(text)\n",
    "    elif '이용가능' in text:\n",
    "        return 1,1\n",
    "    elif '지정도서' in text:\n",
    "        return 2,0\n",
    "    else :\n",
    "        return -1,0"
   ]
  },
  {
   "cell_type": "code",
   "execution_count": 84,
   "metadata": {},
   "outputs": [],
   "source": [
    "STATE, BN = find_STATE_BN('대출중( 1명, 예약중)')"
   ]
  },
  {
   "cell_type": "code",
   "execution_count": 86,
   "metadata": {},
   "outputs": [
    {
     "name": "stdout",
     "output_type": "stream",
     "text": [
      "0 1\n"
     ]
    }
   ],
   "source": [
    "print(STATE, BN)"
   ]
  },
  {
   "cell_type": "code",
   "execution_count": null,
   "metadata": {},
   "outputs": [],
   "source": [
    "if '대출중' in STATE_STRING:\n",
    "    \n",
    "    find_RESERVE_NUM(STATE_STRING)"
   ]
  },
  {
   "cell_type": "code",
   "execution_count": 78,
   "metadata": {},
   "outputs": [],
   "source": [
    "base_start_url_list = ['http://kupis.kw.ac.kr/',\n",
    "'http://lib.kookmin.ac.kr/',\n",
    "'http://library.daejin.ac.kr/',\n",
    "'http://discover.duksung.ac.kr/',\n",
    "'http://library.dongduk.ac.kr/',\n",
    "'http://lib.mju.ac.kr/',\n",
    "'http://lib.syu.ac.kr/',\n",
    "'https://lib.smu.ac.kr/',\n",
    "'http://library.skuniv.ac.kr/',\n",
    "'http://lib.swu.ac.kr/',\n",
    "'http://lib.sungshin.ac.kr/',\n",
    "'http://hsel.hansung.ac.kr/']\n"
   ]
  },
  {
   "cell_type": "code",
   "execution_count": null,
   "metadata": {},
   "outputs": [],
   "source": [
    "class LoanStatus:\n",
    "    def __init__(self):\n",
    "        self.title = ''\n",
    "        self.RN=''\n",
    "        self.CN=''\n",
    "        self.POS=''\n",
    "        self.STATE= -1\n",
    "        self.RDD = '2222-12-31'\n",
    "        self.BN = 0\n",
    "        self.errorMessage = ''\n",
    "\"\"\"\n",
    "#STATE : 도서 상태,\n",
    "#-1  에러\n",
    "#1 대출가능\n",
    "#0 대출중\n",
    "#2 대출불가\n",
    "#3 지정도서(상명대에서 과제 도서는 이런식으로 표시됨.)\n",
    "#RN : 등록번호\n",
    "#CN : 청구기호\n",
    "#POS : 위치\n",
    "이런것들\n",
    "\n",
    "\n",
    "\"\"\""
   ]
  },
  {
   "cell_type": "code",
   "execution_count": null,
   "metadata": {},
   "outputs": [],
   "source": [
    "def visitLink(ISBN, sid, title, bookLink):\n",
    "    loanStatusList = []\n",
    "    #= LoanStatus()\n",
    "    try:\n",
    "        #1. 접속.\n",
    "        html = urlopen(base_start_url_list[sid]+bookLink)\n",
    "        bsObject = BeautifulSoup(html, \"html.parser\")\n",
    "        #2. 링크를 차곡차곡저장.\n",
    "        # 정규식을 이용하여 저장...!!\n",
    "        for loanResult in bsObject.find_all('div', class_='search-list-result'):\n",
    "            loanResultString = str(loanResult)\n",
    "            title = findSubStringByRegEx(bookResultString, sid, 'title')\n",
    "            link = findSubStringByRegEx(bookResultString, sid, 'link')\n",
    "            bookLinklist.append([title, link])\n",
    "            print(title, link)\n",
    "        print(bookLinklist)\n",
    "        \n",
    "        #3. 해당 링크를 방문하여라..!!\n",
    "        #Efor item in bookLinklist\n",
    "        #   visitLink(ISBN, sid, item[0], item[1])\n",
    "    except AttributeError as e:\n",
    "        traceback.print_exc()\n",
    "        libraryLoanStatus.errorMessage = '해당 정규식에 포함되지 않는 예외케이스가 발생하였습니다. 정규식을 확인하고 수정하세요'\n",
    "    finally:\n",
    "        return libraryLoanStatus"
   ]
  },
  {
   "cell_type": "code",
   "execution_count": 65,
   "metadata": {},
   "outputs": [
    {
     "name": "stdout",
     "output_type": "stream",
     "text": [
      "아니야\n"
     ]
    }
   ],
   "source": [
    "find_RESEVE_NUM('이용가능')"
   ]
  },
  {
   "cell_type": "code",
   "execution_count": 58,
   "metadata": {},
   "outputs": [
    {
     "name": "stdout",
     "output_type": "stream",
     "text": [
      "L0112135\n"
     ]
    }
   ],
   "source": [
    "print(RN)"
   ]
  },
  {
   "cell_type": "code",
   "execution_count": 59,
   "metadata": {},
   "outputs": [
    {
     "data": {
      "text/plain": [
       "'005.74 한국데개  c.3'"
      ]
     },
     "execution_count": 59,
     "metadata": {},
     "output_type": "execute_result"
    }
   ],
   "source": [
    "CN"
   ]
  },
  {
   "cell_type": "code",
   "execution_count": 60,
   "metadata": {},
   "outputs": [
    {
     "data": {
      "text/plain": [
       "'제1자료실(3층)'"
      ]
     },
     "execution_count": 60,
     "metadata": {},
     "output_type": "execute_result"
    }
   ],
   "source": [
    "POS"
   ]
  },
  {
   "cell_type": "code",
   "execution_count": 61,
   "metadata": {},
   "outputs": [
    {
     "data": {
      "text/plain": [
       "'대출중'"
      ]
     },
     "execution_count": 61,
     "metadata": {},
     "output_type": "execute_result"
    }
   ],
   "source": [
    "STATE_STRING"
   ]
  },
  {
   "cell_type": "code",
   "execution_count": 62,
   "metadata": {},
   "outputs": [
    {
     "data": {
      "text/plain": [
       "'2020-04-02'"
      ]
     },
     "execution_count": 62,
     "metadata": {},
     "output_type": "execute_result"
    }
   ],
   "source": [
    "RETURN_DUE_DATE"
   ]
  },
  {
   "cell_type": "code",
   "execution_count": null,
   "metadata": {},
   "outputs": [],
   "source": [
    "for item in loanStatusList:\n",
    "    RN = item.find()"
   ]
  },
  {
   "cell_type": "code",
   "execution_count": null,
   "metadata": {},
   "outputs": [],
   "source": [
    "loanStatus.find_next('')"
   ]
  },
  {
   "cell_type": "code",
   "execution_count": 12,
   "metadata": {},
   "outputs": [],
   "source": [
    "a={'asdf':1, 'qwer':2}"
   ]
  },
  {
   "cell_type": "code",
   "execution_count": 14,
   "metadata": {},
   "outputs": [
    {
     "data": {
      "text/plain": [
       "1"
      ]
     },
     "execution_count": 14,
     "metadata": {},
     "output_type": "execute_result"
    }
   ],
   "source": [
    "a['asdf']"
   ]
  },
  {
   "cell_type": "code",
   "execution_count": null,
   "metadata": {},
   "outputs": [],
   "source": [
    "visit"
   ]
  }
 ],
 "metadata": {
  "kernelspec": {
   "display_name": "Python 3",
   "language": "python",
   "name": "python3"
  },
  "language_info": {
   "codemirror_mode": {
    "name": "ipython",
    "version": 3
   },
   "file_extension": ".py",
   "mimetype": "text/x-python",
   "name": "python",
   "nbconvert_exporter": "python",
   "pygments_lexer": "ipython3",
   "version": "3.7.6"
  }
 },
 "nbformat": 4,
 "nbformat_minor": 4
}
