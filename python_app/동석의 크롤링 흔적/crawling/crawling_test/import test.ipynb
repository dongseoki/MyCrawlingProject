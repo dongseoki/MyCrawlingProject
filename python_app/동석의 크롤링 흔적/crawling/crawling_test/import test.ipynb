{
 "cells": [
  {
   "cell_type": "code",
   "execution_count": 3,
   "metadata": {
    "ExecuteTime": {
     "end_time": "2020-05-22T10:04:26.535938Z",
     "start_time": "2020-05-22T10:04:26.527961Z"
    }
   },
   "outputs": [
    {
     "ename": "SyntaxError",
     "evalue": "invalid syntax (<ipython-input-3-513d553480c4>, line 1)",
     "output_type": "error",
     "traceback": [
      "\u001b[1;36m  File \u001b[1;32m\"<ipython-input-3-513d553480c4>\"\u001b[1;36m, line \u001b[1;32m1\u001b[0m\n\u001b[1;33m    from ../ import hi\u001b[0m\n\u001b[1;37m           ^\u001b[0m\n\u001b[1;31mSyntaxError\u001b[0m\u001b[1;31m:\u001b[0m invalid syntax\n"
     ]
    }
   ],
   "source": [
    "from ../ import hi"
   ]
  },
  {
   "cell_type": "code",
   "execution_count": 1,
   "metadata": {
    "ExecuteTime": {
     "end_time": "2020-05-22T10:38:04.101223Z",
     "start_time": "2020-05-22T10:38:04.091245Z"
    }
   },
   "outputs": [],
   "source": [
    "#from ../GoogleCloudRun/GoogleCloudPlatformContainer/PythonApplication_Crawling/library import *\n",
    "#from ... import library\n",
    "import os\n",
    "import sys\n",
    "result = os.path.dirname(os.path.abspath(os.path.dirname('__file__')))\n",
    "sys.path.append(os.path.dirname(os.path.abspath(os.path.dirname('__file__'))))"
   ]
  },
  {
   "cell_type": "code",
   "execution_count": 2,
   "metadata": {
    "ExecuteTime": {
     "end_time": "2020-05-22T10:38:05.562310Z",
     "start_time": "2020-05-22T10:38:05.539373Z"
    }
   },
   "outputs": [
    {
     "data": {
      "text/plain": [
       "'C:\\\\GitHub\\\\SDDH\\\\crawling'"
      ]
     },
     "execution_count": 2,
     "metadata": {},
     "output_type": "execute_result"
    }
   ],
   "source": [
    "result"
   ]
  },
  {
   "cell_type": "code",
   "execution_count": 6,
   "metadata": {
    "ExecuteTime": {
     "end_time": "2020-05-22T10:06:54.824122Z",
     "start_time": "2020-05-22T10:06:54.809154Z"
    }
   },
   "outputs": [],
   "source": [
    "import hi"
   ]
  },
  {
   "cell_type": "code",
   "execution_count": 8,
   "metadata": {
    "ExecuteTime": {
     "end_time": "2020-05-22T10:07:05.340991Z",
     "start_time": "2020-05-22T10:07:05.334019Z"
    }
   },
   "outputs": [
    {
     "data": {
      "text/plain": [
       "100"
      ]
     },
     "execution_count": 8,
     "metadata": {},
     "output_type": "execute_result"
    }
   ],
   "source": [
    "hi.qwerasdf"
   ]
  },
  {
   "cell_type": "code",
   "execution_count": 9,
   "metadata": {
    "ExecuteTime": {
     "end_time": "2020-05-22T10:07:50.451531Z",
     "start_time": "2020-05-22T10:07:50.436567Z"
    }
   },
   "outputs": [],
   "source": [
    "from asdf import hi2"
   ]
  },
  {
   "cell_type": "code",
   "execution_count": 10,
   "metadata": {
    "ExecuteTime": {
     "end_time": "2020-05-22T10:07:53.746713Z",
     "start_time": "2020-05-22T10:07:53.740706Z"
    }
   },
   "outputs": [
    {
     "data": {
      "text/plain": [
       "100"
      ]
     },
     "execution_count": 10,
     "metadata": {},
     "output_type": "execute_result"
    }
   ],
   "source": [
    "hi2.qwerasdf"
   ]
  },
  {
   "cell_type": "code",
   "execution_count": 3,
   "metadata": {
    "ExecuteTime": {
     "end_time": "2020-05-22T10:38:22.480100Z",
     "start_time": "2020-05-22T10:38:20.100434Z"
    }
   },
   "outputs": [],
   "source": [
    "#from GoogleCloudRun.GoogleCloudPlatformContainer.PythonApplication_Crawling import library\n",
    "from GoogleCloudRun.GoogleCloudPlatformContainer.PythonApplication_Crawling.library import *"
   ]
  },
  {
   "cell_type": "code",
   "execution_count": 16,
   "metadata": {
    "ExecuteTime": {
     "end_time": "2020-05-22T10:12:40.875543Z",
     "start_time": "2020-05-22T10:12:40.868563Z"
    }
   },
   "outputs": [
    {
     "data": {
      "text/plain": [
       "{'대출중': 0,\n",
       " '예약도서대출중': 0,\n",
       " '폐가도서대출중': 0,\n",
       " '행낭대출중': 0,\n",
       " '이용가능': 1,\n",
       " '대출가능': 1,\n",
       " '지정도서': 2}"
      ]
     },
     "execution_count": 16,
     "metadata": {},
     "output_type": "execute_result"
    }
   ],
   "source": [
    "library.stateDict"
   ]
  },
  {
   "cell_type": "code",
   "execution_count": 4,
   "metadata": {
    "ExecuteTime": {
     "end_time": "2020-05-22T10:38:33.063768Z",
     "start_time": "2020-05-22T10:38:33.055787Z"
    }
   },
   "outputs": [
    {
     "data": {
      "text/plain": [
       "{'대출중': 0,\n",
       " '예약도서대출중': 0,\n",
       " '폐가도서대출중': 0,\n",
       " '행낭대출중': 0,\n",
       " '이용가능': 1,\n",
       " '대출가능': 1,\n",
       " '지정도서': 2}"
      ]
     },
     "execution_count": 4,
     "metadata": {},
     "output_type": "execute_result"
    }
   ],
   "source": [
    "stateDict"
   ]
  },
  {
   "cell_type": "code",
   "execution_count": null,
   "metadata": {},
   "outputs": [],
   "source": []
  }
 ],
 "metadata": {
  "hide_input": false,
  "kernelspec": {
   "display_name": "Python 3",
   "language": "python",
   "name": "python3"
  },
  "language_info": {
   "codemirror_mode": {
    "name": "ipython",
    "version": 3
   },
   "file_extension": ".py",
   "mimetype": "text/x-python",
   "name": "python",
   "nbconvert_exporter": "python",
   "pygments_lexer": "ipython3",
   "version": "3.7.6"
  },
  "toc": {
   "base_numbering": 1,
   "nav_menu": {},
   "number_sections": true,
   "sideBar": true,
   "skip_h1_title": false,
   "title_cell": "Table of Contents",
   "title_sidebar": "Contents",
   "toc_cell": false,
   "toc_position": {},
   "toc_section_display": true,
   "toc_window_display": false
  },
  "varInspector": {
   "cols": {
    "lenName": 16,
    "lenType": 16,
    "lenVar": 40
   },
   "kernels_config": {
    "python": {
     "delete_cmd_postfix": "",
     "delete_cmd_prefix": "del ",
     "library": "var_list.py",
     "varRefreshCmd": "print(var_dic_list())"
    },
    "r": {
     "delete_cmd_postfix": ") ",
     "delete_cmd_prefix": "rm(",
     "library": "var_list.r",
     "varRefreshCmd": "cat(var_dic_list()) "
    }
   },
   "types_to_exclude": [
    "module",
    "function",
    "builtin_function_or_method",
    "instance",
    "_Feature"
   ],
   "window_display": false
  }
 },
 "nbformat": 4,
 "nbformat_minor": 4
}
