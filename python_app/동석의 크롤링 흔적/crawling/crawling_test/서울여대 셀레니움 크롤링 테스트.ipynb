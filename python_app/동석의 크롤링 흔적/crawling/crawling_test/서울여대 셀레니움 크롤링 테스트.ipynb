{
 "cells": [
  {
   "cell_type": "markdown",
   "metadata": {},
   "source": [
    "## 임포트"
   ]
  },
  {
   "cell_type": "code",
   "execution_count": 1,
   "metadata": {
    "ExecuteTime": {
     "end_time": "2020-05-25T05:13:27.429555Z",
     "start_time": "2020-05-25T05:13:23.565889Z"
    }
   },
   "outputs": [],
   "source": [
    "#from ../GoogleCloudRun/GoogleCloudPlatformContainer/PythonApplication_Crawling/library import *\n",
    "#from ... import library\n",
    "import os\n",
    "import sys\n",
    "result = os.path.dirname(os.path.abspath(os.path.dirname('__file__')))\n",
    "sys.path.append(os.path.dirname(os.path.abspath(os.path.dirname('__file__'))))\n",
    "\n",
    "#C:\\GitHub\\SDDH\\crawling\\Googl|eCloudRun\\GoogleCloudPlatformContainer\\PythonApplication_Crawling\n",
    "crawlingPath = 'C:\\\\GitHub\\\\SDDH\\\\crawling\\\\GoogleCloudRun\\\\GoogleCloudPlatformContainer\\\\PythonApplication_Crawling'\n",
    "sys.path.append(crawlingPath)\n",
    "\n",
    "from GoogleCloudRun.GoogleCloudPlatformContainer.PythonApplication_Crawling.library import *\n",
    "from GoogleCloudRun.GoogleCloudPlatformContainer.PythonApplication_Crawling.findLoanStatus import *\n",
    "# python ifdef 가 필요할듯... 그냥 makeSearchUrl 정도는 가져다 쓰자.\n",
    "\n"
   ]
  },
  {
   "cell_type": "markdown",
   "metadata": {},
   "source": [
    "## 책 예시"
   ]
  },
  {
   "cell_type": "code",
   "execution_count": 26,
   "metadata": {
    "ExecuteTime": {
     "end_time": "2020-05-25T05:31:40.930413Z",
     "start_time": "2020-05-25T05:31:40.924430Z"
    }
   },
   "outputs": [
    {
     "name": "stdout",
     "output_type": "stream",
     "text": [
      "%EC%97%94%ED%8A%B8%EB%A6%AC%20%ED%94%BC%EC%A7%80%EC%BB%AC%20%EC%BB%B4%ED%93%A8%ED%8C%85\n"
     ]
    }
   ],
   "source": [
    "ISBN = '9788993163643'\n",
    "koreaTitle = '엔트리 피지컬 컴퓨팅'\n",
    "title = parse.quote(koreaTitle)\n",
    "print(title)"
   ]
  },
  {
   "cell_type": "code",
   "execution_count": 45,
   "metadata": {
    "ExecuteTime": {
     "end_time": "2020-05-25T05:44:10.835571Z",
     "start_time": "2020-05-25T05:44:10.829591Z"
    }
   },
   "outputs": [
    {
     "name": "stdout",
     "output_type": "stream",
     "text": [
      "%EC%9C%A4%EC%84%B1%EC%9A%B0%EC%9D%98%20%EC%97%B4%ED%98%88%20C%2B%2B%20%ED%94%84%EB%A1%9C%EA%B7%B8%EB%9E%98%EB%B0%8D\n"
     ]
    }
   ],
   "source": [
    "ISBN = '9788996094043'\n",
    "koreaTitle = '윤성우의 열혈 C++ 프로그래밍'\n",
    "title = parse.quote(koreaTitle)\n",
    "print(title)"
   ]
  },
  {
   "cell_type": "code",
   "execution_count": 16,
   "metadata": {
    "ExecuteTime": {
     "end_time": "2020-05-25T05:17:07.869697Z",
     "start_time": "2020-05-25T05:17:07.862727Z"
    }
   },
   "outputs": [
    {
     "name": "stdout",
     "output_type": "stream",
     "text": [
      "%EC%9D%B4%EA%B1%B4%20%EC%A0%88%EB%8C%80%EB%A1%9C%20%EC%97%86%EB%8A%94%20%EC%B1%85%EC%9D%B4%EB%8B%A4%20%EC%97%86%EC%9D%84%EA%B1%B0%EC%95%BC\n"
     ]
    }
   ],
   "source": [
    "ISBN = '9788993169999'\n",
    "koreaTitle = '이건 절대로 없는 책이다 없을거야'\n",
    "title = parse.quote(koreaTitle)\n",
    "print(title)"
   ]
  },
  {
   "cell_type": "code",
   "execution_count": 42,
   "metadata": {
    "ExecuteTime": {
     "end_time": "2020-05-25T05:35:53.861198Z",
     "start_time": "2020-05-25T05:35:53.853220Z"
    }
   },
   "outputs": [
    {
     "name": "stdout",
     "output_type": "stream",
     "text": [
      "%ED%98%B8%EB%B0%80%EB%B0%AD%EC%9D%98%20%ED%8C%8C%EC%88%98%EA%BE%BC\n"
     ]
    }
   ],
   "source": [
    "ISBN = '9788937460470'\n",
    "koreaTitle = '호밀밭의 파수꾼'\n",
    "title = parse.quote(koreaTitle)\n",
    "print(title)"
   ]
  },
  {
   "cell_type": "code",
   "execution_count": 4,
   "metadata": {
    "ExecuteTime": {
     "end_time": "2020-05-23T07:13:19.323225Z",
     "start_time": "2020-05-23T07:13:19.318345Z"
    }
   },
   "outputs": [],
   "source": [
    "ISBN = '9788996094050'\n",
    "title = '윤성우의 열혈 C 프로그래밍'"
   ]
  },
  {
   "cell_type": "code",
   "execution_count": 12,
   "metadata": {
    "ExecuteTime": {
     "end_time": "2020-05-23T07:16:04.948994Z",
     "start_time": "2020-05-23T07:16:04.942163Z"
    }
   },
   "outputs": [],
   "source": [
    "ISBN = '9788972756194'\n",
    "title = '나미야 잡화점'"
   ]
  },
  {
   "cell_type": "code",
   "execution_count": 28,
   "metadata": {
    "ExecuteTime": {
     "end_time": "2020-05-23T07:26:30.090707Z",
     "start_time": "2020-05-23T07:26:30.084852Z"
    }
   },
   "outputs": [],
   "source": [
    "ISBN = '9788996991342'\n",
    "title = '미움받을 용기'"
   ]
  },
  {
   "cell_type": "code",
   "execution_count": 43,
   "metadata": {
    "ExecuteTime": {
     "end_time": "2020-05-23T07:27:45.195677Z",
     "start_time": "2020-05-23T07:27:45.190764Z"
    }
   },
   "outputs": [],
   "source": [
    "ISBN = '9788972759999'\n",
    "title = '없는 책'"
   ]
  },
  {
   "cell_type": "markdown",
   "metadata": {},
   "source": [
    "## 크롤링 테스트"
   ]
  },
  {
   "cell_type": "code",
   "execution_count": 46,
   "metadata": {
    "ExecuteTime": {
     "end_time": "2020-05-25T05:44:15.919294Z",
     "start_time": "2020-05-25T05:44:15.913312Z"
    },
    "scrolled": true
   },
   "outputs": [
    {
     "name": "stdout",
     "output_type": "stream",
     "text": [
      "http://lib.swu.ac.kr/search/caz/result?st=KWRD&commandType=advanced&si=1&q=%EC%9C%A4%EC%84%B1%EC%9A%B0%EC%9D%98%20%EC%97%B4%ED%98%88%20C%2B%2B%20%ED%94%84%EB%A1%9C%EA%B7%B8%EB%9E%98%EB%B0%8D&b0=and&weight0=&si=2&q=&b1=and&weight1=&si=3&q=&weight2=&lmt0=TOTAL&_lmt0=on&lmtsn=000000000001&lmtst=OR&_lmt0=on&_lmt0=on&_lmt0=on&_lmt0=on&_lmt0=on&inc=TOTAL&_inc=on&_inc=on&_inc=on&_inc=on&_inc=on&lmt1=TOTAL&lmtsn=000000000003&lmtst=OR&lmt2=LIB00000&lmtsn=000000000006&lmtst=OR&lmt3=TOTAL&lmtsn=000000000015&lmtst=FRNT&rf=&rt=&range=000000000021&cpp=10&msc=500\n"
     ]
    }
   ],
   "source": [
    "print(makeSearchUrl(ISBN, title, SW_CODE,2))"
   ]
  },
  {
   "cell_type": "code",
   "execution_count": 47,
   "metadata": {
    "ExecuteTime": {
     "end_time": "2020-05-25T05:44:33.446226Z",
     "start_time": "2020-05-25T05:44:24.842241Z"
    }
   },
   "outputs": [],
   "source": [
    "import re\n",
    "\n",
    "import time\n",
    "from selenium import webdriver\n",
    "from selenium.webdriver.chrome.options import Options\n",
    "\n",
    "from selenium.webdriver.common.by import By\n",
    "from selenium.webdriver.support.ui import WebDriverWait\n",
    "from selenium.webdriver.support import expected_conditions as EC\n",
    "\n",
    "from bs4 import BeautifulSoup\n",
    "import copy\n",
    "\n",
    "\n",
    "options = Options()\n",
    "options.headless = True\n",
    "\n",
    "browser = webdriver.Chrome(executable_path=\"./chromedriver.exe\", options=options)\n",
    "\n",
    "\n",
    "\n",
    "browser.get(makeSearchUrl(ISBN, title, SW_CODE,2))\n",
    "#대출중 있는 것\n",
    "\n",
    "\n",
    "\n",
    "#9788953934283 새로운 케이스\n",
    "#browser.get('https://library.daejin.ac.kr/data_data_list.mir?search_keyword_type1=isbn&search_keyword1=9788953934283&srch_condi_01=AND&search_keyword_type2=author&search_keyword2=&srch_condi_02=AND&search_keyword_type3=subject&search_keyword3=&srch_condi_03=%E2%96%B2&select_current_sort_type=&select_current_sort_order=&select_current_per_page_num=10&basic_list=list&current_per_page_num=10&current_sort_type=&current_sort_order=&MAXI=1000&mloc_code=DJUL&facet_limit_search_field_code=&scope_code=&mtype_code=M&type_code=')\n",
    "# 되는 케이스\n",
    "\n",
    "#browser.get('https://discover.duksung.ac.kr/#/search/ex?isbn=1%7Ck%7Ca%7C9788934985099&material-type=1')\n",
    "#안되는 케이스"
   ]
  },
  {
   "cell_type": "code",
   "execution_count": 48,
   "metadata": {
    "ExecuteTime": {
     "end_time": "2020-05-25T05:44:45.977232Z",
     "start_time": "2020-05-25T05:44:45.962280Z"
    }
   },
   "outputs": [
    {
     "name": "stdout",
     "output_type": "stream",
     "text": [
      "http://lib.swu.ac.kr/search/caz/result?st=KWRD&commandType=advanced&si=1&q=%EC%9C%A4%EC%84%B1%EC%9A%B0%EC%9D%98%20%EC%97%B4%ED%98%88%20C%2B%2B%20%ED%94%84%EB%A1%9C%EA%B7%B8%EB%9E%98%EB%B0%8D&b0=and&weight0=&si=2&q=&b1=and&weight1=&si=3&q=&weight2=&lmt0=TOTAL&_lmt0=on&lmtsn=000000000001&lmtst=OR&_lmt0=on&_lmt0=on&_lmt0=on&_lmt0=on&_lmt0=on&inc=TOTAL&_inc=on&_inc=on&_inc=on&_inc=on&_inc=on&lmt1=TOTAL&lmtsn=000000000003&lmtst=OR&lmt2=LIB00000&lmtsn=000000000006&lmtst=OR&lmt3=TOTAL&lmtsn=000000000015&lmtst=FRNT&rf=&rt=&range=000000000021&cpp=10&msc=500\n"
     ]
    }
   ],
   "source": [
    "print(browser.current_url)"
   ]
  },
  {
   "cell_type": "code",
   "execution_count": 49,
   "metadata": {
    "ExecuteTime": {
     "end_time": "2020-05-25T05:44:49.480859Z",
     "start_time": "2020-05-25T05:44:49.252471Z"
    }
   },
   "outputs": [],
   "source": [
    "linkXpath ='//*[@id=\"dataInfo0\"]/div[1]/dl/dd[1]/a'\n",
    "\n",
    "\n",
    "#$(SELECTOR)\n",
    "browserCheckXpath = '//*[@id=\"divTitle\"]/h2'\n",
    "#소장검색 이라는 단어\n",
    "\n",
    "try:\n",
    "    WebDriverWait(browser, 120).until(EC.presence_of_element_located((By.XPATH, browserCheckXpath)))\n",
    "    linkElement = WebDriverWait(browser, 2).until(EC.presence_of_element_located((By.XPATH, linkXpath)))\n",
    "    #linkElement = browser.find_element_by_xpath(linkXpath)\n",
    "    # 오류가능성.\n",
    "    if linkElement.text == '':\n",
    "        linkElement = -1\n",
    "except :\n",
    "    print('예외가 발생! 찾는 책이 없음')\n",
    "    linkElement = -1"
   ]
  },
  {
   "cell_type": "code",
   "execution_count": 50,
   "metadata": {
    "ExecuteTime": {
     "end_time": "2020-05-25T05:44:54.286027Z",
     "start_time": "2020-05-25T05:44:54.259100Z"
    }
   },
   "outputs": [
    {
     "data": {
      "text/plain": [
       "'윤성우의 열혈 C++ 프로그래밍'"
      ]
     },
     "execution_count": 50,
     "metadata": {},
     "output_type": "execute_result"
    }
   ],
   "source": [
    "linkElement.text"
   ]
  },
  {
   "cell_type": "code",
   "execution_count": 51,
   "metadata": {
    "ExecuteTime": {
     "end_time": "2020-05-25T05:44:55.363217Z",
     "start_time": "2020-05-25T05:44:55.356236Z"
    }
   },
   "outputs": [
    {
     "name": "stdout",
     "output_type": "stream",
     "text": [
      "success\n"
     ]
    }
   ],
   "source": [
    "if linkElement == -1 :\n",
    "    print('-1...')\n",
    "else : \n",
    "    print('success')"
   ]
  },
  {
   "cell_type": "code",
   "execution_count": 52,
   "metadata": {
    "ExecuteTime": {
     "end_time": "2020-05-25T05:45:01.122822Z",
     "start_time": "2020-05-25T05:44:57.996187Z"
    }
   },
   "outputs": [],
   "source": [
    "linkElement.click()"
   ]
  },
  {
   "cell_type": "code",
   "execution_count": 53,
   "metadata": {
    "ExecuteTime": {
     "end_time": "2020-05-25T05:45:05.054310Z",
     "start_time": "2020-05-25T05:45:05.028381Z"
    }
   },
   "outputs": [
    {
     "name": "stdout",
     "output_type": "stream",
     "text": [
      "http://lib.swu.ac.kr/search/detail/CATCAZ000000564461?mainLink=/search/caz&briefLink=/search/caz/result?commandType=advanced_A_cpp=10_A_lmtsn=000000000001_A_lmtsn=000000000003_A_lmtsn=000000000006_A_lmtsn=000000000015_A_range=000000000021_A__inc=on_A__inc=on_A__inc=on_A__inc=on_A__inc=on_A_lmt0=TOTAL_A_lmt2=LIB00000_A_rf=_A_lmt1=TOTAL_A__lmt0=on_A__lmt0=on_A__lmt0=on_A__lmt0=on_A__lmt0=on_A__lmt0=on_A_si=1_A_si=2_A_si=3_A_weight2=_A_weight0=_A_weight1=_A_inc=TOTAL_A_q=%EC%9C%A4%EC%84%B1%EC%9A%B0%EC%9D%98+%EC%97%B4%ED%98%88+C%2B%2B+%ED%94%84%EB%A1%9C%EA%B7%B8%EB%9E%98%EB%B0%8D_A_q=_A_q=_A_b0=and_A_b1=and_A_lmtst=OR_A_lmtst=OR_A_lmtst=OR_A_lmtst=FRNT_A_rt=_A_lmt3=TOTAL_A_st=KWRD_A_msc=500\n"
     ]
    }
   ],
   "source": [
    "print(browser.current_url)"
   ]
  },
  {
   "cell_type": "code",
   "execution_count": 54,
   "metadata": {
    "ExecuteTime": {
     "end_time": "2020-05-25T05:45:09.771708Z",
     "start_time": "2020-05-25T05:45:08.631743Z"
    }
   },
   "outputs": [],
   "source": [
    "browserCheckXpath = '//*[@id=\"divTitle\"]/h2'\n",
    "#상세정보라는 단어\n",
    "\n",
    "try:\n",
    "    WebDriverWait(browser, 120).until(EC.presence_of_element_located((By.XPATH, browserCheckXpath)))\n",
    "except :\n",
    "    print('error detected')\n",
    "\n",
    "time.sleep(1)\n",
    "html = browser.page_source\n",
    "bsObject=BeautifulSoup(html, 'html.parser')\n",
    "strISBNIncluded = str(bsObject.select('#divProfile > table > tbody'))"
   ]
  },
  {
   "cell_type": "code",
   "execution_count": 55,
   "metadata": {
    "ExecuteTime": {
     "end_time": "2020-05-25T05:45:10.849816Z",
     "start_time": "2020-05-25T05:45:10.842829Z"
    }
   },
   "outputs": [
    {
     "data": {
      "text/plain": [
       "'[<tbody><tr><th scope=\"row\">자료유형</th><td style=\"padding: 0px;\">단행본</td></tr><tr><th scope=\"row\">서명/저자사항</th><td style=\"padding: 0px;\">윤성우의 열혈 C++ 프로그래밍/ 윤성우 저.</td></tr><tr><th scope=\"row\">개인저자</th><td style=\"padding: 0px;\"><a href=\"/search/tot/result?st=FRNT&amp;si=2&amp;q=윤성우\" title=\"이 키워드로 더 검색하기\">윤성우</a><br/></td></tr><tr><th scope=\"row\">판사항</th><td style=\"padding: 0px;\">개정판.</td></tr><tr><th scope=\"row\">발행사항</th><td style=\"padding: 0px;\">서울: 오렌지미디어, 2010 (2011 4쇄).</td></tr><tr><th scope=\"row\">형태사항</th><td style=\"padding: 0px;\">652 p.: 삽화; 26 cm.</td></tr><tr><th scope=\"row\">표지표제</th><td style=\"padding: 0px;\">(윤성우)열혈 C++ 프로그래밍.<br/>열혈 C++ 프로그래밍.<br/></td></tr><tr><th scope=\"row\">책등표제</th><td style=\"padding: 0px;\">(열혈)C++ 프로그래밍.<br/>C++ 프로그래밍.<br/></td></tr><tr><th scope=\"row\">기타표제</th><td style=\"padding: 0px;\">판권기표제:  C++ 프로그래밍.<br/></td></tr><tr><th scope=\"row\">ISBN</th><td style=\"padding: 0px;\">9788996094043<br/></td></tr><tr><th scope=\"row\">서지주기</th><td style=\"padding: 0px;\">색인수록.<br/></td></tr><tr><th scope=\"row\">분류기호</th><td style=\"padding: 0px;\"><a href=\"/search/tot/result?st=FRNT&amp;si=13&amp;q=005.133\" title=\"이 키워드로 더 검색하기\">005.133</a> <br/></td></tr><tr><th scope=\"row\">언어</th><td style=\"padding: 0px;\">한국어</td></tr></tbody>]'"
      ]
     },
     "execution_count": 55,
     "metadata": {},
     "output_type": "execute_result"
    }
   ],
   "source": [
    "strISBNIncluded"
   ]
  },
  {
   "cell_type": "code",
   "execution_count": 56,
   "metadata": {
    "ExecuteTime": {
     "end_time": "2020-05-25T05:45:14.084635Z",
     "start_time": "2020-05-25T05:45:14.077651Z"
    }
   },
   "outputs": [
    {
     "name": "stdout",
     "output_type": "stream",
     "text": [
      "True\n",
      "False\n",
      "False\n",
      "False\n"
     ]
    }
   ],
   "source": [
    "print(compareISBN(strISBNIncluded, ISBN))\n",
    "print(compareISBN(strISBNIncluded, '9791186757093'))\n",
    "print(compareISBN(strISBNIncluded, '9791186757091'))\n",
    "print(compareISBN(strISBNIncluded, '9788993163643'))"
   ]
  },
  {
   "cell_type": "code",
   "execution_count": 57,
   "metadata": {
    "ExecuteTime": {
     "end_time": "2020-05-25T05:45:17.313273Z",
     "start_time": "2020-05-25T05:45:17.288335Z"
    }
   },
   "outputs": [],
   "source": [
    "loanResultListSelectPath = '#divHoldingInfo > table > tbody'\n",
    "loanResultList =bsObject.select(loanResultListSelectPath)[0].find_all('tr')"
   ]
  },
  {
   "cell_type": "code",
   "execution_count": 58,
   "metadata": {
    "ExecuteTime": {
     "end_time": "2020-05-25T05:45:18.704672Z",
     "start_time": "2020-05-25T05:45:18.696694Z"
    }
   },
   "outputs": [
    {
     "data": {
      "text/plain": [
       "2"
      ]
     },
     "execution_count": 58,
     "metadata": {},
     "output_type": "execute_result"
    }
   ],
   "source": [
    "len(loanResultList)"
   ]
  },
  {
   "cell_type": "code",
   "execution_count": 59,
   "metadata": {
    "ExecuteTime": {
     "end_time": "2020-05-25T05:45:21.161103Z",
     "start_time": "2020-05-25T05:45:21.153127Z"
    }
   },
   "outputs": [
    {
     "name": "stdout",
     "output_type": "stream",
     "text": [
      "KM320443\n",
      "005.133 C111윤ㅅ개\n",
      "중앙도서관/자연과학자료실(4F)/\n",
      "대출중 0\n",
      "2019-09-20\n",
      "\n",
      "KM324561\n",
      "005.133 C111윤ㅅ개  c.2\n",
      "중앙도서관/자연과학자료실(4F)/\n",
      "대출가능 1\n",
      "\n",
      "\n"
     ]
    }
   ],
   "source": [
    "for loanResult in loanResultList:\n",
    "    RDD = ''\n",
    "    content = loanResult.find_all('td')\n",
    "    errorMessage = ''\n",
    "    RN = content[1].text.strip()\n",
    "    CN = content[2].text.strip()\n",
    "    POS = content[3].text.strip()\n",
    "    STATE_STRING = content[4].text.strip()\n",
    "    STATE = findState(STATE_STRING)\n",
    "    if STATE == 0 :\n",
    "        RDD  =content[5].text.strip()\n",
    "        \n",
    "    #RDD = content[5].text.strip()\n",
    "    print(RN)\n",
    "    print(CN)\n",
    "    print(POS)\n",
    "    print(STATE_STRING, STATE)\n",
    "    #print(STATE_STRING)\n",
    "    print(RDD)\n",
    "    print()\n",
    "    #print(content[8])\n",
    "        \n",
    "    #print('등록번호 : ', item)"
   ]
  },
  {
   "cell_type": "code",
   "execution_count": null,
   "metadata": {},
   "outputs": [],
   "source": []
  }
 ],
 "metadata": {
  "hide_input": false,
  "kernelspec": {
   "display_name": "Python 3",
   "language": "python",
   "name": "python3"
  },
  "language_info": {
   "codemirror_mode": {
    "name": "ipython",
    "version": 3
   },
   "file_extension": ".py",
   "mimetype": "text/x-python",
   "name": "python",
   "nbconvert_exporter": "python",
   "pygments_lexer": "ipython3",
   "version": "3.7.6"
  },
  "toc": {
   "base_numbering": 1,
   "nav_menu": {},
   "number_sections": true,
   "sideBar": true,
   "skip_h1_title": false,
   "title_cell": "Table of Contents",
   "title_sidebar": "Contents",
   "toc_cell": false,
   "toc_position": {
    "height": "calc(100% - 180px)",
    "left": "10px",
    "top": "150px",
    "width": "304.475px"
   },
   "toc_section_display": true,
   "toc_window_display": true
  },
  "varInspector": {
   "cols": {
    "lenName": 16,
    "lenType": 16,
    "lenVar": 40
   },
   "kernels_config": {
    "python": {
     "delete_cmd_postfix": "",
     "delete_cmd_prefix": "del ",
     "library": "var_list.py",
     "varRefreshCmd": "print(var_dic_list())"
    },
    "r": {
     "delete_cmd_postfix": ") ",
     "delete_cmd_prefix": "rm(",
     "library": "var_list.r",
     "varRefreshCmd": "cat(var_dic_list()) "
    }
   },
   "types_to_exclude": [
    "module",
    "function",
    "builtin_function_or_method",
    "instance",
    "_Feature"
   ],
   "window_display": false
  }
 },
 "nbformat": 4,
 "nbformat_minor": 4
}
