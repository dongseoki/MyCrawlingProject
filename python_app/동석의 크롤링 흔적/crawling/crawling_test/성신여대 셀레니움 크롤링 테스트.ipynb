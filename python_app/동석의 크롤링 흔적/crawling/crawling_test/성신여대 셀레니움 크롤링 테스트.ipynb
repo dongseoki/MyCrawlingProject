{
 "cells": [
  {
   "cell_type": "markdown",
   "metadata": {},
   "source": [
    "## 임포트"
   ]
  },
  {
   "cell_type": "code",
   "execution_count": 1,
   "metadata": {
    "ExecuteTime": {
     "end_time": "2020-05-26T05:34:32.210023Z",
     "start_time": "2020-05-26T05:34:29.641917Z"
    }
   },
   "outputs": [],
   "source": [
    "#from ../GoogleCloudRun/GoogleCloudPlatformContainer/PythonApplication_Crawling/library import *\n",
    "#from ... import library\n",
    "import os\n",
    "import sys\n",
    "result = os.path.dirname(os.path.abspath(os.path.dirname('__file__')))\n",
    "sys.path.append(os.path.dirname(os.path.abspath(os.path.dirname('__file__'))))\n",
    "\n",
    "#C:\\GitHub\\SDDH\\crawling\\Googl|eCloudRun\\GoogleCloudPlatformContainer\\PythonApplication_Crawling\n",
    "crawlingPath = 'C:\\\\GitHub\\\\SDDH\\\\crawling\\\\GoogleCloudRun\\\\GoogleCloudPlatformContainer\\\\PythonApplication_Crawling'\n",
    "sys.path.append(crawlingPath)\n",
    "\n",
    "from GoogleCloudRun.GoogleCloudPlatformContainer.PythonApplication_Crawling.library import *\n",
    "from GoogleCloudRun.GoogleCloudPlatformContainer.PythonApplication_Crawling.findLoanStatus import *\n",
    "# python ifdef 가 필요할듯... 그냥 makeSearchUrl 정도는 가져다 쓰자."
   ]
  },
  {
   "cell_type": "markdown",
   "metadata": {},
   "source": [
    "## 책 예시"
   ]
  },
  {
   "cell_type": "code",
   "execution_count": 63,
   "metadata": {
    "ExecuteTime": {
     "end_time": "2020-05-26T05:57:16.395723Z",
     "start_time": "2020-05-26T05:57:16.388770Z"
    },
    "scrolled": true
   },
   "outputs": [
    {
     "name": "stdout",
     "output_type": "stream",
     "text": [
      "%ED%98%84%EB%8C%80%EC%86%8C%EC%84%A4%EA%B3%BC%20%EB%B6%84%EB%8B%A8%EC%9D%98%20%ED%8A%B8%EB%9D%BC%EC%9A%B0%EB%A7%88%20%3D%20Modern%20novels%20and%20the%20trauma%20of%20division\n"
     ]
    }
   ],
   "source": [
    "ISBN = '9788956268279'\n",
    "koreaTitle = '현대소설과 분단의 트라우마 = Modern novels and the trauma of division'\n",
    "title = parse.quote(koreaTitle)\n",
    "print(title)"
   ]
  },
  {
   "cell_type": "code",
   "execution_count": 82,
   "metadata": {
    "ExecuteTime": {
     "end_time": "2020-05-26T06:09:33.328360Z",
     "start_time": "2020-05-26T06:09:33.322377Z"
    }
   },
   "outputs": [
    {
     "name": "stdout",
     "output_type": "stream",
     "text": [
      "%EC%86%8C%EB%85%84%EC%9D%B4%20%EC%98%A8%EB%8B%A4%20%3A%20%ED%95%9C%EA%B0%95%20%EC%9E%A5%ED%8E%B8%EC%86%8C%EC%84%A4\n"
     ]
    }
   ],
   "source": [
    "#소년이 온다 : 한강 장편소설\n",
    "#9788936434120\n",
    "ISBN = '9788936434120'\n",
    "koreaTitle = '소년이 온다 : 한강 장편소설'\n",
    "title = parse.quote(koreaTitle)\n",
    "print(title)"
   ]
  },
  {
   "cell_type": "code",
   "execution_count": null,
   "metadata": {},
   "outputs": [],
   "source": [
    "ISBN = '9788993163643'\n",
    "koreaTitle = '엔트리 피지컬 컴퓨팅'\n",
    "title = parse.quote(koreaTitle)\n",
    "print(title)"
   ]
  },
  {
   "cell_type": "code",
   "execution_count": 49,
   "metadata": {
    "ExecuteTime": {
     "end_time": "2020-05-26T05:54:02.780380Z",
     "start_time": "2020-05-26T05:54:02.774400Z"
    }
   },
   "outputs": [
    {
     "name": "stdout",
     "output_type": "stream",
     "text": [
      "%EC%9C%A4%EC%84%B1%EC%9A%B0%EC%9D%98%20%EC%97%B4%ED%98%88%20C%2B%2B%20%ED%94%84%EB%A1%9C%EA%B7%B8%EB%9E%98%EB%B0%8D\n"
     ]
    }
   ],
   "source": [
    "ISBN = '9788996094043'\n",
    "koreaTitle = '윤성우의 열혈 C++ 프로그래밍'\n",
    "title = parse.quote(koreaTitle)\n",
    "print(title)"
   ]
  },
  {
   "cell_type": "code",
   "execution_count": 58,
   "metadata": {
    "ExecuteTime": {
     "end_time": "2020-05-26T05:56:33.704868Z",
     "start_time": "2020-05-26T05:56:33.697887Z"
    }
   },
   "outputs": [
    {
     "name": "stdout",
     "output_type": "stream",
     "text": [
      "%EC%9D%B4%EA%B1%B4%20%EC%A0%88%EB%8C%80%EB%A1%9C%20%EC%97%86%EB%8A%94%20%EC%B1%85%EC%9D%B4%EB%8B%A4%20%EC%97%86%EC%9D%84%EA%B1%B0%EC%95%BC\n"
     ]
    }
   ],
   "source": [
    "ISBN = '9788993169999'\n",
    "koreaTitle = '이건 절대로 없는 책이다 없을거야'\n",
    "title = parse.quote(koreaTitle)\n",
    "print(title)"
   ]
  },
  {
   "cell_type": "code",
   "execution_count": 42,
   "metadata": {
    "ExecuteTime": {
     "end_time": "2020-05-25T05:35:53.861198Z",
     "start_time": "2020-05-25T05:35:53.853220Z"
    }
   },
   "outputs": [
    {
     "name": "stdout",
     "output_type": "stream",
     "text": [
      "%ED%98%B8%EB%B0%80%EB%B0%AD%EC%9D%98%20%ED%8C%8C%EC%88%98%EA%BE%BC\n"
     ]
    }
   ],
   "source": [
    "ISBN = '9788937460470'\n",
    "koreaTitle = '호밀밭의 파수꾼'\n",
    "title = parse.quote(koreaTitle)\n",
    "print(title)"
   ]
  },
  {
   "cell_type": "code",
   "execution_count": 13,
   "metadata": {
    "ExecuteTime": {
     "end_time": "2020-05-26T05:42:26.231800Z",
     "start_time": "2020-05-26T05:42:26.227808Z"
    }
   },
   "outputs": [],
   "source": [
    "ISBN = '9788996094050'\n",
    "title = '윤성우의 열혈 C 프로그래밍'"
   ]
  },
  {
   "cell_type": "code",
   "execution_count": 12,
   "metadata": {
    "ExecuteTime": {
     "end_time": "2020-05-23T07:16:04.948994Z",
     "start_time": "2020-05-23T07:16:04.942163Z"
    }
   },
   "outputs": [],
   "source": [
    "ISBN = '9788972756194'\n",
    "title = '나미야 잡화점'"
   ]
  },
  {
   "cell_type": "code",
   "execution_count": 28,
   "metadata": {
    "ExecuteTime": {
     "end_time": "2020-05-23T07:26:30.090707Z",
     "start_time": "2020-05-23T07:26:30.084852Z"
    }
   },
   "outputs": [],
   "source": [
    "ISBN = '9788996991342'\n",
    "title = '미움받을 용기'"
   ]
  },
  {
   "cell_type": "code",
   "execution_count": 43,
   "metadata": {
    "ExecuteTime": {
     "end_time": "2020-05-23T07:27:45.195677Z",
     "start_time": "2020-05-23T07:27:45.190764Z"
    }
   },
   "outputs": [],
   "source": [
    "ISBN = '9788972759999'\n",
    "title = '없는 책'"
   ]
  },
  {
   "cell_type": "markdown",
   "metadata": {},
   "source": [
    "## 크롤링 테스트"
   ]
  },
  {
   "cell_type": "code",
   "execution_count": 83,
   "metadata": {
    "ExecuteTime": {
     "end_time": "2020-05-26T06:09:39.287396Z",
     "start_time": "2020-05-26T06:09:39.281410Z"
    },
    "scrolled": true
   },
   "outputs": [
    {
     "name": "stdout",
     "output_type": "stream",
     "text": [
      "http://lib.sungshin.ac.kr/search/tot/result?st=KWRD&commandType=advanced&mId=&si=1&q=%EC%86%8C%EB%85%84%EC%9D%B4%20%EC%98%A8%EB%8B%A4%20%3A%20%ED%95%9C%EA%B0%95%20%EC%9E%A5%ED%8E%B8%EC%86%8C%EC%84%A4&b0=and&weight0=&si=2&q=&b1=and&weight1=&si=3&q=&weight2=&_lmt0=on&lmtsn=000000000001&lmtst=OR&lmt0=m&_lmt0=on&_lmt0=on&_lmt0=on&_lmt0=on&_lmt0=on&_lmt0=on&inc=TOTAL&_inc=on&_inc=on&_inc=on&lmt1=TOTAL&lmtsn=000000000003&lmtst=OR&lmt2=00000001&lmtsn=000000000006&lmtst=OR&rf=&rt=&range=000000000021&cpp=10&msc=10000\n"
     ]
    }
   ],
   "source": [
    "print(makeSearchUrl(ISBN, title, SS_CODE,2))"
   ]
  },
  {
   "cell_type": "code",
   "execution_count": 86,
   "metadata": {
    "ExecuteTime": {
     "end_time": "2020-05-26T06:10:55.848686Z",
     "start_time": "2020-05-26T06:10:47.957786Z"
    }
   },
   "outputs": [],
   "source": [
    "import re\n",
    "\n",
    "import time\n",
    "from selenium import webdriver\n",
    "from selenium.webdriver.chrome.options import Options\n",
    "\n",
    "from selenium.webdriver.common.by import By\n",
    "from selenium.webdriver.support.ui import WebDriverWait\n",
    "from selenium.webdriver.support import expected_conditions as EC\n",
    "\n",
    "from bs4 import BeautifulSoup\n",
    "import copy\n",
    "\n",
    "\n",
    "options = Options()\n",
    "options.headless = True\n",
    "\n",
    "browser = webdriver.Chrome(executable_path=\"./chromedriver.exe\", options=options)\n",
    "\n",
    "\n",
    "\n",
    "browser.get(makeSearchUrl(ISBN, title, SS_CODE,2))\n",
    "#대출중 있는 것\n",
    "\n",
    "\n",
    "\n",
    "#9788953934283 새로운 케이스\n",
    "#browser.get('https://library.daejin.ac.kr/data_data_list.mir?search_keyword_type1=isbn&search_keyword1=9788953934283&srch_condi_01=AND&search_keyword_type2=author&search_keyword2=&srch_condi_02=AND&search_keyword_type3=subject&search_keyword3=&srch_condi_03=%E2%96%B2&select_current_sort_type=&select_current_sort_order=&select_current_per_page_num=10&basic_list=list&current_per_page_num=10&current_sort_type=&current_sort_order=&MAXI=1000&mloc_code=DJUL&facet_limit_search_field_code=&scope_code=&mtype_code=M&type_code=')\n",
    "# 되는 케이스\n",
    "\n",
    "#browser.get('https://discover.duksung.ac.kr/#/search/ex?isbn=1%7Ck%7Ca%7C9788934985099&material-type=1')\n",
    "#안되는 케이스"
   ]
  },
  {
   "cell_type": "code",
   "execution_count": 87,
   "metadata": {
    "ExecuteTime": {
     "end_time": "2020-05-26T06:10:57.712702Z",
     "start_time": "2020-05-26T06:10:57.694751Z"
    }
   },
   "outputs": [
    {
     "name": "stdout",
     "output_type": "stream",
     "text": [
      "https://lib.sungshin.ac.kr/search/tot/result?st=KWRD&commandType=advanced&mId=&si=1&q=%EC%86%8C%EB%85%84%EC%9D%B4%20%EC%98%A8%EB%8B%A4%20%3A%20%ED%95%9C%EA%B0%95%20%EC%9E%A5%ED%8E%B8%EC%86%8C%EC%84%A4&b0=and&weight0=&si=2&q=&b1=and&weight1=&si=3&q=&weight2=&_lmt0=on&lmtsn=000000000001&lmtst=OR&lmt0=m&_lmt0=on&_lmt0=on&_lmt0=on&_lmt0=on&_lmt0=on&_lmt0=on&inc=TOTAL&_inc=on&_inc=on&_inc=on&lmt1=TOTAL&lmtsn=000000000003&lmtst=OR&lmt2=00000001&lmtsn=000000000006&lmtst=OR&rf=&rt=&range=000000000021&cpp=10&msc=10000\n"
     ]
    }
   ],
   "source": [
    "print(browser.current_url)"
   ]
  },
  {
   "cell_type": "code",
   "execution_count": 88,
   "metadata": {
    "ExecuteTime": {
     "end_time": "2020-05-26T06:11:01.453731Z",
     "start_time": "2020-05-26T06:11:01.382891Z"
    }
   },
   "outputs": [],
   "source": [
    "linkXpath ='/html/body/div[2]/div[2]/div[1]/div[2]/div/div[3]/div[2]/form/fieldset/ul/li/dl/dd[4]/a'\n",
    "\n",
    "\n",
    "#$(SELECTOR)\n",
    "browserCheckXpath = '//*[@id=\"divTitle\"]'\n",
    "#소장검색 이라는 단어\n",
    "\n",
    "try:\n",
    "    WebDriverWait(browser, 120).until(EC.presence_of_element_located((By.XPATH, browserCheckXpath)))\n",
    "    linkElement = WebDriverWait(browser, 2).until(EC.presence_of_element_located((By.XPATH, linkXpath)))\n",
    "    #linkElement = browser.find_element_by_xpath(linkXpath)\n",
    "    # 오류가능성.\n",
    "    if linkElement.text == '':\n",
    "        linkElement = -1\n",
    "except :\n",
    "    print('예외가 발생! 찾는 책이 없음')\n",
    "    linkElement = -1"
   ]
  },
  {
   "cell_type": "code",
   "execution_count": 89,
   "metadata": {
    "ExecuteTime": {
     "end_time": "2020-05-26T06:11:04.067742Z",
     "start_time": "2020-05-26T06:11:04.045798Z"
    }
   },
   "outputs": [
    {
     "data": {
      "text/plain": [
       "'소년이 온다 : 한강 장편소설'"
      ]
     },
     "execution_count": 89,
     "metadata": {},
     "output_type": "execute_result"
    }
   ],
   "source": [
    "linkElement.text"
   ]
  },
  {
   "cell_type": "code",
   "execution_count": 90,
   "metadata": {
    "ExecuteTime": {
     "end_time": "2020-05-26T06:11:05.263513Z",
     "start_time": "2020-05-26T06:11:05.256533Z"
    }
   },
   "outputs": [
    {
     "name": "stdout",
     "output_type": "stream",
     "text": [
      "success\n"
     ]
    }
   ],
   "source": [
    "if linkElement == -1 :\n",
    "    print('-1...')\n",
    "else : \n",
    "    print('success')"
   ]
  },
  {
   "cell_type": "code",
   "execution_count": 91,
   "metadata": {
    "ExecuteTime": {
     "end_time": "2020-05-26T06:11:07.242228Z",
     "start_time": "2020-05-26T06:11:06.040437Z"
    }
   },
   "outputs": [],
   "source": [
    "linkElement.click()"
   ]
  },
  {
   "cell_type": "code",
   "execution_count": 92,
   "metadata": {
    "ExecuteTime": {
     "end_time": "2020-05-26T06:11:08.204650Z",
     "start_time": "2020-05-26T06:11:08.189689Z"
    }
   },
   "outputs": [
    {
     "name": "stdout",
     "output_type": "stream",
     "text": [
      "https://lib.sungshin.ac.kr/search/detail/CATTOT000000598182?mainLink=/search/tot&briefLink=/search/tot/result?st=KWRD_A_commandType=advanced_A_rt=_A_cpp=10_A_mId=_A_range=000000000021_A_lmtsn=000000000001_A_lmtsn=000000000003_A_lmtsn=000000000006_A_lmt1=TOTAL_A_weight2=_A_lmt2=00000001_A_b0=and_A_weight1=_A_weight0=_A_b1=and_A_lmt0=m_A_q=%EC%86%8C%EB%85%84%EC%9D%B4+%EC%98%A8%EB%8B%A4+%3A+%ED%95%9C%EA%B0%95+%EC%9E%A5%ED%8E%B8%EC%86%8C%EC%84%A4_A_q=_A_q=_A__lmt0=on_A__lmt0=on_A__lmt0=on_A__lmt0=on_A__lmt0=on_A__lmt0=on_A__lmt0=on_A_lmtst=OR_A_lmtst=OR_A_lmtst=OR_A__inc=on_A__inc=on_A__inc=on_A_rf=_A_si=1_A_si=2_A_si=3_A_msc=10000_A_inc=TOTAL\n"
     ]
    }
   ],
   "source": [
    "print(browser.current_url)"
   ]
  },
  {
   "cell_type": "code",
   "execution_count": 93,
   "metadata": {
    "ExecuteTime": {
     "end_time": "2020-05-26T06:11:12.568010Z",
     "start_time": "2020-05-26T06:11:09.337621Z"
    }
   },
   "outputs": [],
   "source": [
    "browserCheckXpath = '//*[@id=\"divTitle\"]'\n",
    "#상세정보라는 단어\n",
    "\n",
    "try:\n",
    "    WebDriverWait(browser, 120).until(EC.presence_of_element_located((By.XPATH, browserCheckXpath)))\n",
    "except :\n",
    "    print('error detected')\n",
    "\n",
    "time.sleep(1)\n",
    "html = browser.page_source\n",
    "bsObject=BeautifulSoup(html, 'html.parser')\n",
    "strISBNIncluded = str(bsObject.select('#divProfile > table > tbody'))"
   ]
  },
  {
   "cell_type": "code",
   "execution_count": 94,
   "metadata": {
    "ExecuteTime": {
     "end_time": "2020-05-26T06:11:13.878480Z",
     "start_time": "2020-05-26T06:11:13.873494Z"
    }
   },
   "outputs": [
    {
     "data": {
      "text/plain": [
       "'[<tbody><tr><th scope=\"row\">자료유형</th><td>단행본</td></tr><tr><th scope=\"row\">서명/저자사항</th><td>소년이 온다 : 한강 장편소설 / 한강 지음.</td></tr><tr><th scope=\"row\">발행사항</th><td>파주 : 창비, 2014.</td></tr><tr><th scope=\"row\">형태사항</th><td>215 p. ; 21 cm.</td></tr><tr><th scope=\"row\">비통제주제어</th><td><a href=\"/search/tot/result?st=FRNT&amp;si=4&amp;q=한국현대소설\" title=\"이 키워드로 더 검색하기\">한국현대소설</a></td></tr><tr><th scope=\"row\">개인저자</th><td><a href=\"/search/tot/result?st=FRNT&amp;si=2&amp;q=한강\" title=\"이 키워드로 더 검색하기\">한강</a>,</td></tr><tr><th scope=\"row\">분류기호</th><td><a href=\"/search/tot/result?st=FRNT&amp;si=13&amp;q=813.6\" title=\"이 키워드로 더 검색하기\">813.6</a> <br/></td></tr><tr><th scope=\"row\">언어</th><td>한국어</td></tr><tr><th scope=\"row\">ISBN</th><td>9788936434120<br/></td></tr><tr><th scope=\"row\">바로가기</th><td><span class=\"media\"><a href=\"#\" onclick=\"javascript:openMediaView(this,\\'000000598182\\',\\'URL\\',\\'\\'); return false;\" target=\"URL\">URL</a></span></td></tr></tbody>]'"
      ]
     },
     "execution_count": 94,
     "metadata": {},
     "output_type": "execute_result"
    }
   ],
   "source": [
    "strISBNIncluded"
   ]
  },
  {
   "cell_type": "code",
   "execution_count": 95,
   "metadata": {
    "ExecuteTime": {
     "end_time": "2020-05-26T06:11:15.122152Z",
     "start_time": "2020-05-26T06:11:15.114175Z"
    }
   },
   "outputs": [
    {
     "name": "stdout",
     "output_type": "stream",
     "text": [
      "True\n",
      "False\n",
      "False\n",
      "False\n"
     ]
    }
   ],
   "source": [
    "print(compareISBN(strISBNIncluded, ISBN))\n",
    "print(compareISBN(strISBNIncluded, '9791186757093'))\n",
    "print(compareISBN(strISBNIncluded, '9791186757091'))\n",
    "print(compareISBN(strISBNIncluded, '9788993163643'))"
   ]
  },
  {
   "cell_type": "code",
   "execution_count": 96,
   "metadata": {
    "ExecuteTime": {
     "end_time": "2020-05-26T06:11:17.629449Z",
     "start_time": "2020-05-26T06:11:17.595540Z"
    }
   },
   "outputs": [],
   "source": [
    "loanResultListSelectPath = '#divContent > div > div:nth-child(6) > div.searchContents > div > table > tbody'\n",
    "loanResultList =bsObject.select(loanResultListSelectPath)[0].find_all('tr')"
   ]
  },
  {
   "cell_type": "code",
   "execution_count": 97,
   "metadata": {
    "ExecuteTime": {
     "end_time": "2020-05-26T06:11:18.629779Z",
     "start_time": "2020-05-26T06:11:18.623792Z"
    }
   },
   "outputs": [
    {
     "data": {
      "text/plain": [
       "5"
      ]
     },
     "execution_count": 97,
     "metadata": {},
     "output_type": "execute_result"
    }
   ],
   "source": [
    "len(loanResultList)"
   ]
  },
  {
   "cell_type": "code",
   "execution_count": 80,
   "metadata": {
    "ExecuteTime": {
     "end_time": "2020-05-26T06:07:52.097001Z",
     "start_time": "2020-05-26T06:07:52.089019Z"
    }
   },
   "outputs": [],
   "source": [
    "def compareCampus(text, ISBN):\n",
    "    regex = re.compile(ISBN)\n",
    "    matchObj = regex.search(text)\n",
    "    if matchObj is None :\n",
    "        return False\n",
    "    else:\n",
    "        return True"
   ]
  },
  {
   "cell_type": "code",
   "execution_count": 98,
   "metadata": {
    "ExecuteTime": {
     "end_time": "2020-05-26T06:11:23.297298Z",
     "start_time": "2020-05-26T06:11:23.284332Z"
    }
   },
   "outputs": [
    {
     "name": "stdout",
     "output_type": "stream",
     "text": [
      "826739\n",
      "813.6 한11소\n",
      "중앙도서관/2층 서양서ㆍ문학자료실/\n",
      "대출중 0\n",
      "2020-05-28\n",
      "\n",
      "876020\n",
      "813.6 한11소  c.3\n",
      "중앙도서관/2층 서양서ㆍ문학자료실/\n",
      "대출중 0\n",
      "2020-06-29\n",
      "\n",
      "876021\n",
      "813.6 한11소  c.4\n",
      "중앙도서관/2층 서양서ㆍ문학자료실/\n",
      "대출중 0\n",
      "2020-06-29\n",
      "\n"
     ]
    }
   ],
   "source": [
    "for loanResult in loanResultList:\n",
    "    RDD = ''\n",
    "    content = loanResult.find_all('td')\n",
    "    errorMessage = ''\n",
    "    RN = content[1].text.strip()\n",
    "    CN = content[2].text.strip()\n",
    "    POS = content[3].text.strip()\n",
    "    if compareCampus(POS, '중앙도서관') == False:\n",
    "        continue\n",
    "    STATE_STRING = content[4].text.strip()\n",
    "    STATE = findState(STATE_STRING)\n",
    "    if STATE == 0 :\n",
    "        RDD  =content[5].text.strip()\n",
    "        \n",
    "    #RDD = content[5].text.strip()\n",
    "    print(RN)\n",
    "    print(CN)\n",
    "    print(POS)\n",
    "    print(STATE_STRING, STATE)\n",
    "    #print(STATE_STRING)\n",
    "    print(RDD)\n",
    "    print()\n",
    "    #print(content[8])\n",
    "        \n",
    "    #print('등록번호 : ', item)"
   ]
  },
  {
   "cell_type": "code",
   "execution_count": null,
   "metadata": {},
   "outputs": [],
   "source": []
  }
 ],
 "metadata": {
  "hide_input": false,
  "kernelspec": {
   "display_name": "Python 3",
   "language": "python",
   "name": "python3"
  },
  "language_info": {
   "codemirror_mode": {
    "name": "ipython",
    "version": 3
   },
   "file_extension": ".py",
   "mimetype": "text/x-python",
   "name": "python",
   "nbconvert_exporter": "python",
   "pygments_lexer": "ipython3",
   "version": "3.7.6"
  },
  "toc": {
   "base_numbering": 1,
   "nav_menu": {},
   "number_sections": true,
   "sideBar": true,
   "skip_h1_title": false,
   "title_cell": "Table of Contents",
   "title_sidebar": "Contents",
   "toc_cell": false,
   "toc_position": {
    "height": "calc(100% - 180px)",
    "left": "10px",
    "top": "150px",
    "width": "304.475px"
   },
   "toc_section_display": true,
   "toc_window_display": true
  },
  "varInspector": {
   "cols": {
    "lenName": 16,
    "lenType": 16,
    "lenVar": 40
   },
   "kernels_config": {
    "python": {
     "delete_cmd_postfix": "",
     "delete_cmd_prefix": "del ",
     "library": "var_list.py",
     "varRefreshCmd": "print(var_dic_list())"
    },
    "r": {
     "delete_cmd_postfix": ") ",
     "delete_cmd_prefix": "rm(",
     "library": "var_list.r",
     "varRefreshCmd": "cat(var_dic_list()) "
    }
   },
   "types_to_exclude": [
    "module",
    "function",
    "builtin_function_or_method",
    "instance",
    "_Feature"
   ],
   "window_display": false
  }
 },
 "nbformat": 4,
 "nbformat_minor": 4
}
